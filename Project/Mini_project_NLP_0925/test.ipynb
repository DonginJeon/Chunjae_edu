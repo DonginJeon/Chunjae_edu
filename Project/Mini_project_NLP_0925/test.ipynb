{
 "cells": [
  {
   "cell_type": "markdown",
   "metadata": {},
   "source": [
    "# 로그 조회"
   ]
  },
  {
   "cell_type": "code",
   "execution_count": 8,
   "metadata": {},
   "outputs": [],
   "source": [
    "import sqlite3\n",
    "\n",
    "# DB 연결\n",
    "conn = sqlite3.connect(\"quiz_logs.db\")\n",
    "cursor = conn.cursor()\n",
    "\n",
    "# 테이블의 모든 로그 조회\n",
    "cursor.execute(\"SELECT * FROM quiz_logs\")\n",
    "rows = cursor.fetchall()\n",
    "\n",
    "# 결과 출력\n",
    "for row in rows:\n",
    "    print(row)\n",
    "\n",
    "# DB 연결 종료\n",
    "conn.close()"
   ]
  },
  {
   "cell_type": "markdown",
   "metadata": {},
   "source": [
    "# 모든 로그 삭제"
   ]
  },
  {
   "cell_type": "code",
   "execution_count": 7,
   "metadata": {},
   "outputs": [
    {
     "name": "stdout",
     "output_type": "stream",
     "text": [
      "모든 로그가 삭제되었습니다.\n"
     ]
    }
   ],
   "source": [
    "import sqlite3\n",
    "\n",
    "# DB 연결\n",
    "conn = sqlite3.connect(\"quiz_logs.db\")\n",
    "cursor = conn.cursor()\n",
    "\n",
    "# 테이블의 모든 로그 삭제\n",
    "cursor.execute(\"DELETE FROM quiz_logs\")\n",
    "\n",
    "# 변경 사항을 커밋 (저장)\n",
    "conn.commit()\n",
    "\n",
    "print(\"모든 로그가 삭제되었습니다.\")\n",
    "\n",
    "# DB 연결 종료\n",
    "conn.close()"
   ]
  }
 ],
 "metadata": {
  "kernelspec": {
   "display_name": "Python 3",
   "language": "python",
   "name": "python3"
  },
  "language_info": {
   "codemirror_mode": {
    "name": "ipython",
    "version": 3
   },
   "file_extension": ".py",
   "mimetype": "text/x-python",
   "name": "python",
   "nbconvert_exporter": "python",
   "pygments_lexer": "ipython3",
   "version": "3.8.19"
  }
 },
 "nbformat": 4,
 "nbformat_minor": 2
}
