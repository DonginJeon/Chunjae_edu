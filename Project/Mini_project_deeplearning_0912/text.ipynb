{
 "cells": [
  {
   "cell_type": "code",
   "execution_count": 5,
   "metadata": {},
   "outputs": [
    {
     "name": "stdout",
     "output_type": "stream",
     "text": [
      "Requirement already satisfied: konlpy in c:\\users\\user\\desktop\\chunjae_edu\\.conda\\lib\\site-packages (0.6.0)\n",
      "Requirement already satisfied: JPype1>=0.7.0 in c:\\users\\user\\desktop\\chunjae_edu\\.conda\\lib\\site-packages (from konlpy) (1.5.0)\n",
      "Requirement already satisfied: lxml>=4.1.0 in c:\\users\\user\\desktop\\chunjae_edu\\.conda\\lib\\site-packages (from konlpy) (5.3.0)\n",
      "Requirement already satisfied: numpy>=1.6 in c:\\users\\user\\desktop\\chunjae_edu\\.conda\\lib\\site-packages (from konlpy) (1.24.3)\n",
      "Requirement already satisfied: packaging in c:\\users\\user\\desktop\\chunjae_edu\\.conda\\lib\\site-packages (from JPype1>=0.7.0->konlpy) (24.1)\n"
     ]
    }
   ],
   "source": [
    "!pip install konlpy"
   ]
  },
  {
   "cell_type": "code",
   "execution_count": 1,
   "metadata": {},
   "outputs": [],
   "source": [
    "from konlpy.tag import Okt"
   ]
  },
  {
   "cell_type": "code",
   "execution_count": 2,
   "metadata": {},
   "outputs": [
    {
     "name": "stdout",
     "output_type": "stream",
     "text": [
      "명사 추출 결과: ['숫자', '모두', '선택', '여기', '수직선', '볼', '수', '수직선', '의', '오른쪽', '숫자', '숫자일', '것', '우리', '이상', '증가', '것', '볼', '수', '은', '은', '도', '우리', '계속', '수', '도', '도', '마찬가지', '계속', '숫자', '중', '것', '우리', '이', '오른쪽', '즉', '의', '오른쪽', '것', '볼', '수', '도', '의', '오른쪽', '의', '왼쪽', '이', '두', '숫자', '선택', '숫자', '그것', '바로', '여기', '이', '숫자', '즉', '의', '왼쪽', '숫자', '의', '왼쪽', '의', '왼쪽', '끝', '은', '일상생활', '너', '개', '물건', '가지', '개', '물건', '가지', '너', '개', '물건', '사람', '덜', '가지', '것', '일상생활', '너', '개', '바나나', '가지', '너', '개', '바나나', '사람', '바나나', '더', '가지', '것']\n",
      "동사 추출 결과: ['보다', '큰가요', '해', '보세요', '보다', '큰', '하는', '보다', '크고', '보다', '크고', '는', '보다', '크고', '보다', '큽니다', '갈', '보다', '크고', '되고', '보다', '큰가요', '는', '는', '보다', '보다', '큰', '보다', '들입니다', '는', '보다', '않지만', '는', '보세요', '는', '는', '와', '보다', '가진', '가진', '감사합니다']\n"
     ]
    }
   ],
   "source": [
    "# 텍스트 데이터\n",
    "text = \"\"\"\n",
    "어떤 숫자들이 6보다 큰가요? 모두 선택해 보세요. 그래서 여기 수직선에서 6을 볼 수 있습니다. \n",
    "그래서 수직선에서 6의 오른쪽에 있는 숫자들이 6보다 큰 숫자일 것입니다. 우리는 6이상으로 증가하는 것을 볼 수 있습니다. \n",
    "6, 7, 8, 9, 10. 그래서 7은 6보다 크고, 8은 6보다 크고, 9는 6보다 크고, 10도 6보다 큽니다. \n",
    "우리는 계속 갈 수 있습니다. 11도 6보다 크고 12도 마찬가지입니다. 그리고 계속 되고 있습니다. \n",
    "그래서 이런 숫자들 중 어떤 것이 6보다 큰가요? 우리는 10이 오른쪽, 즉 6의 오른쪽에 있는 것을 볼 수 있습니다. \n",
    "8도 6의 오른쪽에 있습니다. 하지만 4는 6의 왼쪽에 있습니다. 4는 6보다 작습니다. \n",
    "그래서 이 두 숫자가 6보다 큰 선택입니다. 어떤 숫자들이 6보다 작은가요? \n",
    "그것은 바로 여기 이 숫자들, 즉 6의 왼쪽에 있는 숫자들입니다. 그래서, 9는 확실히 6보다 작지 않지만, \n",
    "4는 그렇습니다, 보세요, 4는 6의 왼쪽에 있고, 3는 6의 왼쪽 끝에 있으니까, 4와 3은 확실히 6보다 작습니다. \n",
    "그리고 일상생활에서, 너가 4개의 물건을 가지고 있거나 3개의 물건을 가지고 있으면, 너는 6개의 물건을 가진 사람보다 덜 가지고 있는 것입니다. \n",
    "그리고 일상생활에서, 너가 10개의 바나나를 가지고 있다면, 너는 6개의 바나나를 가진 사람보다 바나나를 더 많이 가지고 있는 것입니다. \n",
    "감사합니다.\n",
    "\"\"\"\n",
    "\n",
    "# Okt 형태소 분석기 객체 생성\n",
    "okt = Okt()\n",
    "\n",
    "# 명사 추출\n",
    "nouns = okt.nouns(text)\n",
    "\n",
    "# 동사 추출\n",
    "verbs = [word for word, pos in okt.pos(text) if pos == \"Verb\"]\n",
    "\n",
    "print(\"명사 추출 결과:\", nouns)\n",
    "print(\"동사 추출 결과:\", verbs)"
   ]
  }
 ],
 "metadata": {
  "kernelspec": {
   "display_name": "Python 3",
   "language": "python",
   "name": "python3"
  },
  "language_info": {
   "codemirror_mode": {
    "name": "ipython",
    "version": 3
   },
   "file_extension": ".py",
   "mimetype": "text/x-python",
   "name": "python",
   "nbconvert_exporter": "python",
   "pygments_lexer": "ipython3",
   "version": "3.8.19"
  }
 },
 "nbformat": 4,
 "nbformat_minor": 2
}
