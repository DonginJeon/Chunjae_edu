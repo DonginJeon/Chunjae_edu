{
 "cells": [
  {
   "cell_type": "code",
   "execution_count": 1,
   "metadata": {},
   "outputs": [
    {
     "ename": "ModuleNotFoundError",
     "evalue": "No module named 'yt_dlp'",
     "output_type": "error",
     "traceback": [
      "\u001b[1;31m---------------------------------------------------------------------------\u001b[0m",
      "\u001b[1;31mModuleNotFoundError\u001b[0m                       Traceback (most recent call last)",
      "Cell \u001b[1;32mIn[1], line 1\u001b[0m\n\u001b[1;32m----> 1\u001b[0m \u001b[38;5;28;01mimport\u001b[39;00m \u001b[38;5;21;01myt_dlp\u001b[39;00m\n\u001b[0;32m      4\u001b[0m \u001b[38;5;66;03m# 유튜브 URL\u001b[39;00m\n\u001b[0;32m      5\u001b[0m url \u001b[38;5;241m=\u001b[39m \u001b[38;5;124m\"\u001b[39m\u001b[38;5;124mhttps://youtu.be/zVLjWIftX_o?si=zFNesrc3CTkB9pCN\u001b[39m\u001b[38;5;124m\"\u001b[39m\n",
      "\u001b[1;31mModuleNotFoundError\u001b[0m: No module named 'yt_dlp'"
     ]
    }
   ],
   "source": [
    "import yt_dlp\n",
    "\n",
    "\n",
    "# 유튜브 URL\n",
    "url = \"https://youtu.be/zVLjWIftX_o?si=zFNesrc3CTkB9pCN\"\n",
    "\n",
    "# 다운로드 옵션 (오디오만 다운로드)\n",
    "ydl_opts = {\n",
    "    \"format\": \"bestaudio/best\",\n",
    "    \"postprocessors\": [\n",
    "        {\n",
    "            \"key\": \"FFmpegExtractAudio\",\n",
    "            \"preferredcodec\": \"mp3\",\n",
    "            \"preferredquality\": \"192\",\n",
    "        }\n",
    "    ],\n",
    "}\n",
    "\n",
    "with yt_dlp.YoutubeDL(ydl_opts) as ydl:\n",
    "    ydl.download([url])"
   ]
  },
  {
   "cell_type": "code",
   "execution_count": 1,
   "metadata": {},
   "outputs": [],
   "source": [
    "from moviepy.editor import VideoFileClip"
   ]
  },
  {
   "cell_type": "code",
   "execution_count": 2,
   "metadata": {},
   "outputs": [
    {
     "name": "stdout",
     "output_type": "stream",
     "text": [
      "MoviePy - Writing audio in ./ebs_audio/big.mp3\n"
     ]
    },
    {
     "name": "stderr",
     "output_type": "stream",
     "text": [
      "                                                                      "
     ]
    },
    {
     "name": "stdout",
     "output_type": "stream",
     "text": [
      "MoviePy - Done.\n"
     ]
    },
    {
     "name": "stderr",
     "output_type": "stream",
     "text": [
      "\r"
     ]
    }
   ],
   "source": [
    "# 비디오 파일 경로\n",
    "video_path = (\n",
    "    \"./ebs_video/y2mate.com - 초등 수학 개념잡기  01강 네자리수와 큰 수001_360P.mp4\"\n",
    ")\n",
    "# 저장할 오디오 파일 경로\n",
    "audio_output_path = \"./ebs_audio/big.mp3\"\n",
    "\n",
    "# 비디오 파일 불러오기\n",
    "video_clip = VideoFileClip(video_path)\n",
    "\n",
    "# 비디오에서 오디오 추출\n",
    "audio_clip = video_clip.audio\n",
    "\n",
    "# 오디오 파일로 저장\n",
    "audio_clip.write_audiofile(audio_output_path)\n",
    "\n",
    "# 리소스 해제\n",
    "audio_clip.close()\n",
    "video_clip.close()"
   ]
  },
  {
   "cell_type": "code",
   "execution_count": 3,
   "metadata": {},
   "outputs": [],
   "source": [
    "from moviepy.editor import AudioFileClip\n",
    "import os"
   ]
  },
  {
   "cell_type": "code",
   "execution_count": 4,
   "metadata": {},
   "outputs": [],
   "source": [
    "from transformers import pipeline\n",
    "\n",
    "whisper_small = pipeline(\"automatic-speech-recognition\", \"openai/whisper-small\")"
   ]
  },
  {
   "cell_type": "markdown",
   "metadata": {},
   "source": [
    "ebs"
   ]
  },
  {
   "cell_type": "code",
   "execution_count": null,
   "metadata": {},
   "outputs": [],
   "source": [
    "# 오디오 파일을 30초 단위로 나누는 함수\n",
    "def split_audio(file_path, chunk_length=30):\n",
    "    audio = AudioFileClip(file_path)\n",
    "    total_duration = int(audio.duration)\n",
    "    audio_chunks = []\n",
    "\n",
    "    for start in range(0, total_duration, chunk_length):\n",
    "        end = min(start + chunk_length, total_duration)\n",
    "        chunk = audio.subclip(start, end)\n",
    "        chunk_path = f\"chunk_{start}_{end}.mp3\"\n",
    "        chunk.write_audiofile(chunk_path)\n",
    "        audio_chunks.append(chunk_path)\n",
    "\n",
    "    return audio_chunks\n",
    "\n",
    "\n",
    "# 각 청크에서 텍스트 추출\n",
    "def transcribe_audio_chunks(chunk_files):\n",
    "    transcriptions = []\n",
    "    for chunk_file in chunk_files:\n",
    "        result = whisper_small(chunk_file, generate_kwargs={\"language\": \"Korean\"})\n",
    "        transcriptions.append(result[\"text\"])\n",
    "        os.remove(chunk_file)  # 임시 파일 삭제\n",
    "    return transcriptions\n",
    "\n",
    "\n",
    "# 전체 텍스트를 하나로 합침\n",
    "def merge_transcriptions(transcriptions):\n",
    "    return \" \".join(transcriptions)\n",
    "\n",
    "\n",
    "# 오디오 파일 경로\n",
    "audio_file = audio_output_path\n",
    "\n",
    "\n",
    "# 오디오 파일을 30초 단위로 나누고 텍스트 추출\n",
    "chunks = split_audio(audio_file)\n",
    "transcriptions = transcribe_audio_chunks(chunks)\n",
    "final_transcription = merge_transcriptions(transcriptions)\n",
    "\n",
    "# 최종 결과 출력\n",
    "print(final_transcription)"
   ]
  },
  {
   "cell_type": "markdown",
   "metadata": {},
   "source": [
    "칸"
   ]
  },
  {
   "cell_type": "code",
   "execution_count": 10,
   "metadata": {},
   "outputs": [
    {
     "name": "stderr",
     "output_type": "stream",
     "text": [
      "chunk:  42%|████▏     | 4143/9969 [01:07<00:02, 2338.91it/s, now=None]"
     ]
    },
    {
     "name": "stdout",
     "output_type": "stream",
     "text": [
      "Converting: Video_ Comparing numbers of objects.mp4 -> ./khan_audio/Video_ Comparing numbers of objects.mp3\n",
      "MoviePy - Writing audio in ./khan_audio/Video_ Comparing numbers of objects.mp3\n"
     ]
    },
    {
     "name": "stderr",
     "output_type": "stream",
     "text": [
      "chunk:  42%|████▏     | 4143/9969 [01:08<00:02, 2338.91it/s, now=None]"
     ]
    },
    {
     "name": "stdout",
     "output_type": "stream",
     "text": [
      "MoviePy - Done.\n"
     ]
    },
    {
     "name": "stderr",
     "output_type": "stream",
     "text": [
      "chunk:  42%|████▏     | 4143/9969 [01:08<00:02, 2338.91it/s, now=None]"
     ]
    },
    {
     "name": "stdout",
     "output_type": "stream",
     "text": [
      "Converting: Video_ Comparing numbers on the number line.mp4 -> ./khan_audio/Video_ Comparing numbers on the number line.mp3\n",
      "MoviePy - Writing audio in ./khan_audio/Video_ Comparing numbers on the number line.mp3\n"
     ]
    },
    {
     "name": "stderr",
     "output_type": "stream",
     "text": [
      "chunk:  42%|████▏     | 4143/9969 [01:09<00:02, 2338.91it/s, now=None]"
     ]
    },
    {
     "name": "stdout",
     "output_type": "stream",
     "text": [
      "MoviePy - Done.\n"
     ]
    },
    {
     "name": "stderr",
     "output_type": "stream",
     "text": [
      "chunk:  42%|████▏     | 4143/9969 [01:09<00:02, 2338.91it/s, now=None]"
     ]
    },
    {
     "name": "stdout",
     "output_type": "stream",
     "text": [
      "Converting: Video_ Counting by category.mp4 -> ./khan_audio/Video_ Counting by category.mp3\n",
      "MoviePy - Writing audio in ./khan_audio/Video_ Counting by category.mp3\n"
     ]
    },
    {
     "name": "stderr",
     "output_type": "stream",
     "text": [
      "chunk:  42%|████▏     | 4143/9969 [01:10<00:02, 2338.91it/s, now=None]"
     ]
    },
    {
     "name": "stdout",
     "output_type": "stream",
     "text": [
      "MoviePy - Done.\n"
     ]
    },
    {
     "name": "stderr",
     "output_type": "stream",
     "text": [
      "chunk:  42%|████▏     | 4143/9969 [01:10<00:02, 2338.91it/s, now=None]"
     ]
    },
    {
     "name": "stdout",
     "output_type": "stream",
     "text": [
      "Converting: Video_ Counting in pictures.mp4 -> ./khan_audio/Video_ Counting in pictures.mp3\n",
      "MoviePy - Writing audio in ./khan_audio/Video_ Counting in pictures.mp3\n"
     ]
    },
    {
     "name": "stderr",
     "output_type": "stream",
     "text": [
      "chunk:  42%|████▏     | 4143/9969 [01:10<00:02, 2338.91it/s, now=None]"
     ]
    },
    {
     "name": "stdout",
     "output_type": "stream",
     "text": [
      "MoviePy - Done.\n"
     ]
    },
    {
     "name": "stderr",
     "output_type": "stream",
     "text": [
      "chunk:  42%|████▏     | 4143/9969 [01:11<00:02, 2338.91it/s, now=None]"
     ]
    },
    {
     "name": "stdout",
     "output_type": "stream",
     "text": [
      "Converting: Video_ Counting objects 1.mp4 -> ./khan_audio/Video_ Counting objects 1.mp3\n",
      "MoviePy - Writing audio in ./khan_audio/Video_ Counting objects 1.mp3\n"
     ]
    },
    {
     "name": "stderr",
     "output_type": "stream",
     "text": [
      "chunk:  42%|████▏     | 4143/9969 [01:11<00:02, 2338.91it/s, now=None]"
     ]
    },
    {
     "name": "stdout",
     "output_type": "stream",
     "text": [
      "MoviePy - Done.\n"
     ]
    },
    {
     "name": "stderr",
     "output_type": "stream",
     "text": [
      "chunk:  42%|████▏     | 4143/9969 [01:11<00:02, 2338.91it/s, now=None]"
     ]
    },
    {
     "name": "stdout",
     "output_type": "stream",
     "text": [
      "Converting: Video_ Counting objects 2.mp4 -> ./khan_audio/Video_ Counting objects 2.mp3\n",
      "MoviePy - Writing audio in ./khan_audio/Video_ Counting objects 2.mp3\n"
     ]
    },
    {
     "name": "stderr",
     "output_type": "stream",
     "text": [
      "chunk:  42%|████▏     | 4143/9969 [01:12<00:02, 2338.91it/s, now=None]"
     ]
    },
    {
     "name": "stdout",
     "output_type": "stream",
     "text": [
      "MoviePy - Done.\n"
     ]
    },
    {
     "name": "stderr",
     "output_type": "stream",
     "text": [
      "chunk:  42%|████▏     | 4143/9969 [01:12<00:02, 2338.91it/s, now=None]"
     ]
    },
    {
     "name": "stdout",
     "output_type": "stream",
     "text": [
      "Converting: y2mate.com - Adding 1 vs adding 10  Addition and subtraction  1st grade  Khan Academy_v720P.mp4 -> ./khan_audio/y2mate.com - Adding 1 vs adding 10  Addition and subtraction  1st grade  Khan Academy_v720P.mp3\n",
      "MoviePy - Writing audio in ./khan_audio/y2mate.com - Adding 1 vs adding 10  Addition and subtraction  1st grade  Khan Academy_v720P.mp3\n"
     ]
    },
    {
     "name": "stderr",
     "output_type": "stream",
     "text": [
      "chunk:  42%|████▏     | 4143/9969 [01:13<00:02, 2338.91it/s, now=None]"
     ]
    },
    {
     "name": "stdout",
     "output_type": "stream",
     "text": [
      "MoviePy - Done.\n"
     ]
    },
    {
     "name": "stderr",
     "output_type": "stream",
     "text": [
      "chunk:  42%|████▏     | 4143/9969 [01:13<00:02, 2338.91it/s, now=None]"
     ]
    },
    {
     "name": "stdout",
     "output_type": "stream",
     "text": [
      "Converting: y2mate.com - Adding 5  3  6  Addition and subtraction within 20  Early Math  Khan Academy_720pFH.mp4 -> ./khan_audio/y2mate.com - Adding 5  3  6  Addition and subtraction within 20  Early Math  Khan Academy_720pFH.mp3\n",
      "MoviePy - Writing audio in ./khan_audio/y2mate.com - Adding 5  3  6  Addition and subtraction within 20  Early Math  Khan Academy_720pFH.mp3\n"
     ]
    },
    {
     "name": "stderr",
     "output_type": "stream",
     "text": [
      "chunk:  42%|████▏     | 4143/9969 [01:15<00:02, 2338.91it/s, now=None]"
     ]
    },
    {
     "name": "stdout",
     "output_type": "stream",
     "text": [
      "MoviePy - Done.\n",
      "Converting: y2mate.com - Adding 7  6  Addition and subtraction within 20  Early Math  Khan Academy_720pFH.mp4 -> ./khan_audio/y2mate.com - Adding 7  6  Addition and subtraction within 20  Early Math  Khan Academy_720pFH.mp3\n"
     ]
    },
    {
     "name": "stderr",
     "output_type": "stream",
     "text": [
      "chunk:  42%|████▏     | 4143/9969 [01:15<00:02, 2338.91it/s, now=None]"
     ]
    },
    {
     "name": "stdout",
     "output_type": "stream",
     "text": [
      "MoviePy - Writing audio in ./khan_audio/y2mate.com - Adding 7  6  Addition and subtraction within 20  Early Math  Khan Academy_720pFH.mp3\n"
     ]
    },
    {
     "name": "stderr",
     "output_type": "stream",
     "text": [
      "chunk:  42%|████▏     | 4143/9969 [01:17<00:02, 2338.91it/s, now=None]"
     ]
    },
    {
     "name": "stdout",
     "output_type": "stream",
     "text": [
      "MoviePy - Done.\n"
     ]
    },
    {
     "name": "stderr",
     "output_type": "stream",
     "text": [
      "chunk:  42%|████▏     | 4143/9969 [01:17<00:02, 2338.91it/s, now=None]"
     ]
    },
    {
     "name": "stdout",
     "output_type": "stream",
     "text": [
      "Converting: y2mate.com - Adding 8  7  Addition and subtraction within 20  Early Math  Khan Academy_720pFH.mp4 -> ./khan_audio/y2mate.com - Adding 8  7  Addition and subtraction within 20  Early Math  Khan Academy_720pFH.mp3\n",
      "MoviePy - Writing audio in ./khan_audio/y2mate.com - Adding 8  7  Addition and subtraction within 20  Early Math  Khan Academy_720pFH.mp3\n"
     ]
    },
    {
     "name": "stderr",
     "output_type": "stream",
     "text": [
      "chunk:  42%|████▏     | 4143/9969 [01:18<00:02, 2338.91it/s, now=None]"
     ]
    },
    {
     "name": "stdout",
     "output_type": "stream",
     "text": [
      "MoviePy - Done.\n",
      "Converting: y2mate.com - Adding to 10  Basic addition and subtraction  Early Math  Khan Academy_v720P.mp4 -> ./khan_audio/y2mate.com - Adding to 10  Basic addition and subtraction  Early Math  Khan Academy_v720P.mp3\n"
     ]
    },
    {
     "name": "stderr",
     "output_type": "stream",
     "text": [
      "chunk:  42%|████▏     | 4143/9969 [01:18<00:02, 2338.91it/s, now=None]"
     ]
    },
    {
     "name": "stdout",
     "output_type": "stream",
     "text": [
      "MoviePy - Writing audio in ./khan_audio/y2mate.com - Adding to 10  Basic addition and subtraction  Early Math  Khan Academy_v720P.mp3\n"
     ]
    },
    {
     "name": "stderr",
     "output_type": "stream",
     "text": [
      "chunk:  42%|████▏     | 4143/9969 [01:19<00:02, 2338.91it/s, now=None]"
     ]
    },
    {
     "name": "stdout",
     "output_type": "stream",
     "text": [
      "MoviePy - Done.\n",
      "Converting: y2mate.com - Adding with arrays_v720P.mp4 -> ./khan_audio/y2mate.com - Adding with arrays_v720P.mp3\n"
     ]
    },
    {
     "name": "stderr",
     "output_type": "stream",
     "text": [
      "chunk:  42%|████▏     | 4143/9969 [01:19<00:02, 2338.91it/s, now=None]"
     ]
    },
    {
     "name": "stdout",
     "output_type": "stream",
     "text": [
      "MoviePy - Writing audio in ./khan_audio/y2mate.com - Adding with arrays_v720P.mp3\n"
     ]
    },
    {
     "name": "stderr",
     "output_type": "stream",
     "text": [
      "chunk:  42%|████▏     | 4143/9969 [01:21<00:02, 2338.91it/s, now=None]"
     ]
    },
    {
     "name": "stdout",
     "output_type": "stream",
     "text": [
      "MoviePy - Done.\n",
      "Converting: y2mate.com - Adding with place value blocks_v720P.mp4 -> ./khan_audio/y2mate.com - Adding with place value blocks_v720P.mp3\n",
      "MoviePy - Writing audio in ./khan_audio/y2mate.com - Adding with place value blocks_v720P.mp3\n"
     ]
    },
    {
     "name": "stderr",
     "output_type": "stream",
     "text": [
      "chunk:  42%|████▏     | 4143/9969 [01:21<00:02, 2338.91it/s, now=None]"
     ]
    },
    {
     "name": "stdout",
     "output_type": "stream",
     "text": [
      "MoviePy - Done.\n",
      "Converting: y2mate.com - Addition and subtraction within 10  Basic addition and subtraction  Early Math  Khan Academy_v720P.mp4 -> ./khan_audio/y2mate.com - Addition and subtraction within 10  Basic addition and subtraction  Early Math  Khan Academy_v720P.mp3\n"
     ]
    },
    {
     "name": "stderr",
     "output_type": "stream",
     "text": [
      "chunk:  42%|████▏     | 4143/9969 [01:22<00:02, 2338.91it/s, now=None]"
     ]
    },
    {
     "name": "stdout",
     "output_type": "stream",
     "text": [
      "MoviePy - Writing audio in ./khan_audio/y2mate.com - Addition and subtraction within 10  Basic addition and subtraction  Early Math  Khan Academy_v720P.mp3\n"
     ]
    },
    {
     "name": "stderr",
     "output_type": "stream",
     "text": [
      "chunk:  42%|████▏     | 4143/9969 [01:23<00:02, 2338.91it/s, now=None]"
     ]
    },
    {
     "name": "stdout",
     "output_type": "stream",
     "text": [
      "MoviePy - Done.\n"
     ]
    },
    {
     "name": "stderr",
     "output_type": "stream",
     "text": [
      "chunk:  42%|████▏     | 4143/9969 [01:23<00:02, 2338.91it/s, now=None]"
     ]
    },
    {
     "name": "stdout",
     "output_type": "stream",
     "text": [
      "Converting: y2mate.com - Addition based on arrays word problems_v720P.mp4 -> ./khan_audio/y2mate.com - Addition based on arrays word problems_v720P.mp3\n",
      "MoviePy - Writing audio in ./khan_audio/y2mate.com - Addition based on arrays word problems_v720P.mp3\n"
     ]
    },
    {
     "name": "stderr",
     "output_type": "stream",
     "text": [
      "chunk:  42%|████▏     | 4143/9969 [01:23<00:02, 2338.91it/s, now=None]"
     ]
    },
    {
     "name": "stdout",
     "output_type": "stream",
     "text": [
      "MoviePy - Done.\n",
      "Converting: y2mate.com - Addition with 10 frames_v720P.mp4 -> ./khan_audio/y2mate.com - Addition with 10 frames_v720P.mp3\n"
     ]
    },
    {
     "name": "stderr",
     "output_type": "stream",
     "text": [
      "chunk:  42%|████▏     | 4143/9969 [01:24<00:02, 2338.91it/s, now=None]"
     ]
    },
    {
     "name": "stdout",
     "output_type": "stream",
     "text": [
      "MoviePy - Writing audio in ./khan_audio/y2mate.com - Addition with 10 frames_v720P.mp3\n"
     ]
    },
    {
     "name": "stderr",
     "output_type": "stream",
     "text": [
      "chunk:  42%|████▏     | 4143/9969 [01:25<00:02, 2338.91it/s, now=None]"
     ]
    },
    {
     "name": "stdout",
     "output_type": "stream",
     "text": [
      "MoviePy - Done.\n",
      "Converting: y2mate.com - Addition word problems within 10  Basic addition and subtraction  Early Math  Khan Academy_v720P.mp4 -> ./khan_audio/y2mate.com - Addition word problems within 10  Basic addition and subtraction  Early Math  Khan Academy_v720P.mp3\n"
     ]
    },
    {
     "name": "stderr",
     "output_type": "stream",
     "text": [
      "chunk:  42%|████▏     | 4143/9969 [01:25<00:02, 2338.91it/s, now=None]"
     ]
    },
    {
     "name": "stdout",
     "output_type": "stream",
     "text": [
      "MoviePy - Writing audio in ./khan_audio/y2mate.com - Addition word problems within 10  Basic addition and subtraction  Early Math  Khan Academy_v720P.mp3\n"
     ]
    },
    {
     "name": "stderr",
     "output_type": "stream",
     "text": [
      "chunk:  42%|████▏     | 4143/9969 [01:26<00:02, 2338.91it/s, now=None]"
     ]
    },
    {
     "name": "stdout",
     "output_type": "stream",
     "text": [
      "MoviePy - Done.\n"
     ]
    },
    {
     "name": "stderr",
     "output_type": "stream",
     "text": [
      "chunk:  42%|████▏     | 4143/9969 [01:26<00:02, 2338.91it/s, now=None]"
     ]
    },
    {
     "name": "stdout",
     "output_type": "stream",
     "text": [
      "Converting: y2mate.com - Comparing whole numbers  Place value tens and hundreds  Early Math  Khan Academy_v720P.mp4 -> ./khan_audio/y2mate.com - Comparing whole numbers  Place value tens and hundreds  Early Math  Khan Academy_v720P.mp3\n",
      "MoviePy - Writing audio in ./khan_audio/y2mate.com - Comparing whole numbers  Place value tens and hundreds  Early Math  Khan Academy_v720P.mp3\n"
     ]
    },
    {
     "name": "stderr",
     "output_type": "stream",
     "text": [
      "chunk:  42%|████▏     | 4143/9969 [01:27<00:02, 2338.91it/s, now=None]"
     ]
    },
    {
     "name": "stdout",
     "output_type": "stream",
     "text": [
      "MoviePy - Done.\n"
     ]
    },
    {
     "name": "stderr",
     "output_type": "stream",
     "text": [
      "chunk:  42%|████▏     | 4143/9969 [01:27<00:02, 2338.91it/s, now=None]"
     ]
    },
    {
     "name": "stdout",
     "output_type": "stream",
     "text": [
      "Converting: y2mate.com - Comparison word problems  Addition and subtraction within 20  Early Math  Khan Academy_720pFH.mp4 -> ./khan_audio/y2mate.com - Comparison word problems  Addition and subtraction within 20  Early Math  Khan Academy_720pFH.mp3\n",
      "MoviePy - Writing audio in ./khan_audio/y2mate.com - Comparison word problems  Addition and subtraction within 20  Early Math  Khan Academy_720pFH.mp3\n"
     ]
    },
    {
     "name": "stderr",
     "output_type": "stream",
     "text": [
      "chunk:  42%|████▏     | 4143/9969 [01:29<00:02, 2338.91it/s, now=None]"
     ]
    },
    {
     "name": "stdout",
     "output_type": "stream",
     "text": [
      "MoviePy - Done.\n"
     ]
    },
    {
     "name": "stderr",
     "output_type": "stream",
     "text": [
      "chunk:  42%|████▏     | 4143/9969 [01:29<00:02, 2338.91it/s, now=None]"
     ]
    },
    {
     "name": "stdout",
     "output_type": "stream",
     "text": [
      "Converting: y2mate.com - Comparison word problems rolypolies  Addition and subtraction  1st grade  Khan Academy_v720P.mp4 -> ./khan_audio/y2mate.com - Comparison word problems rolypolies  Addition and subtraction  1st grade  Khan Academy_v720P.mp3\n",
      "MoviePy - Writing audio in ./khan_audio/y2mate.com - Comparison word problems rolypolies  Addition and subtraction  1st grade  Khan Academy_v720P.mp3\n"
     ]
    },
    {
     "name": "stderr",
     "output_type": "stream",
     "text": [
      "chunk:  42%|████▏     | 4143/9969 [01:30<00:02, 2338.91it/s, now=None]"
     ]
    },
    {
     "name": "stdout",
     "output_type": "stream",
     "text": [
      "MoviePy - Done.\n"
     ]
    },
    {
     "name": "stderr",
     "output_type": "stream",
     "text": [
      "chunk:  42%|████▏     | 4143/9969 [01:31<00:02, 2338.91it/s, now=None]"
     ]
    },
    {
     "name": "stdout",
     "output_type": "stream",
     "text": [
      "Converting: y2mate.com - Constructing a scatter plot  Regression  Probability and Statistics  Khan Academy_720pFH.mp4 -> ./khan_audio/y2mate.com - Constructing a scatter plot  Regression  Probability and Statistics  Khan Academy_720pFH.mp3\n",
      "MoviePy - Writing audio in ./khan_audio/y2mate.com - Constructing a scatter plot  Regression  Probability and Statistics  Khan Academy_720pFH.mp3\n"
     ]
    },
    {
     "name": "stderr",
     "output_type": "stream",
     "text": [
      "chunk:  42%|████▏     | 4143/9969 [01:32<00:02, 2338.91it/s, now=None]"
     ]
    },
    {
     "name": "stdout",
     "output_type": "stream",
     "text": [
      "MoviePy - Done.\n"
     ]
    },
    {
     "name": "stderr",
     "output_type": "stream",
     "text": [
      "chunk:  42%|████▏     | 4143/9969 [01:32<00:02, 2338.91it/s, now=None]"
     ]
    },
    {
     "name": "stdout",
     "output_type": "stream",
     "text": [
      "Converting: y2mate.com - Converting repeating decimals to fractions 1  Linear equations  Algebra I  Khan Academy_720pFH.mp4 -> ./khan_audio/y2mate.com - Converting repeating decimals to fractions 1  Linear equations  Algebra I  Khan Academy_720pFH.mp3\n",
      "MoviePy - Writing audio in ./khan_audio/y2mate.com - Converting repeating decimals to fractions 1  Linear equations  Algebra I  Khan Academy_720pFH.mp3\n"
     ]
    },
    {
     "name": "stderr",
     "output_type": "stream",
     "text": [
      "chunk:  42%|████▏     | 4143/9969 [01:34<00:02, 2338.91it/s, now=None]"
     ]
    },
    {
     "name": "stdout",
     "output_type": "stream",
     "text": [
      "MoviePy - Done.\n"
     ]
    },
    {
     "name": "stderr",
     "output_type": "stream",
     "text": [
      "chunk:  42%|████▏     | 4143/9969 [01:34<00:02, 2338.91it/s, now=None]"
     ]
    },
    {
     "name": "stdout",
     "output_type": "stream",
     "text": [
      "Converting: y2mate.com - Coordinate plane plot ordered pairs  Negative numbers  6th grade  Khan Academy_v720P.mp4 -> ./khan_audio/y2mate.com - Coordinate plane plot ordered pairs  Negative numbers  6th grade  Khan Academy_v720P.mp3\n",
      "MoviePy - Writing audio in ./khan_audio/y2mate.com - Coordinate plane plot ordered pairs  Negative numbers  6th grade  Khan Academy_v720P.mp3\n"
     ]
    },
    {
     "name": "stderr",
     "output_type": "stream",
     "text": [
      "chunk:  42%|████▏     | 4143/9969 [01:35<00:02, 2338.91it/s, now=None]"
     ]
    },
    {
     "name": "stdout",
     "output_type": "stream",
     "text": [
      "MoviePy - Done.\n"
     ]
    },
    {
     "name": "stderr",
     "output_type": "stream",
     "text": [
      "chunk:  42%|████▏     | 4143/9969 [01:35<00:02, 2338.91it/s, now=None]"
     ]
    },
    {
     "name": "stdout",
     "output_type": "stream",
     "text": [
      "Converting: y2mate.com - Corresponding points and sides of scaled shapes_720pFH.mp4 -> ./khan_audio/y2mate.com - Corresponding points and sides of scaled shapes_720pFH.mp3\n",
      "MoviePy - Writing audio in ./khan_audio/y2mate.com - Corresponding points and sides of scaled shapes_720pFH.mp3\n"
     ]
    },
    {
     "name": "stderr",
     "output_type": "stream",
     "text": [
      "chunk:  42%|████▏     | 4143/9969 [01:37<00:02, 2338.91it/s, now=None]"
     ]
    },
    {
     "name": "stdout",
     "output_type": "stream",
     "text": [
      "MoviePy - Done.\n",
      "Converting: y2mate.com - Counting by tens  Counting  Early Math  Khan Academy_v720P.mp4 -> ./khan_audio/y2mate.com - Counting by tens  Counting  Early Math  Khan Academy_v720P.mp3\n"
     ]
    },
    {
     "name": "stderr",
     "output_type": "stream",
     "text": [
      "chunk:  42%|████▏     | 4143/9969 [01:37<00:02, 2338.91it/s, now=None]"
     ]
    },
    {
     "name": "stdout",
     "output_type": "stream",
     "text": [
      "MoviePy - Writing audio in ./khan_audio/y2mate.com - Counting by tens  Counting  Early Math  Khan Academy_v720P.mp3\n"
     ]
    },
    {
     "name": "stderr",
     "output_type": "stream",
     "text": [
      "chunk:  42%|████▏     | 4143/9969 [01:37<00:02, 2338.91it/s, now=None]"
     ]
    },
    {
     "name": "stdout",
     "output_type": "stream",
     "text": [
      "MoviePy - Done.\n"
     ]
    },
    {
     "name": "stderr",
     "output_type": "stream",
     "text": [
      "chunk:  42%|████▏     | 4143/9969 [01:38<00:02, 2338.91it/s, now=None]"
     ]
    },
    {
     "name": "stdout",
     "output_type": "stream",
     "text": [
      "Converting: y2mate.com - Counting by tens examples  Addition and subtraction within 100  Early Math  Khan Academy_v720P.mp4 -> ./khan_audio/y2mate.com - Counting by tens examples  Addition and subtraction within 100  Early Math  Khan Academy_v720P.mp3\n",
      "MoviePy - Writing audio in ./khan_audio/y2mate.com - Counting by tens examples  Addition and subtraction within 100  Early Math  Khan Academy_v720P.mp3\n"
     ]
    },
    {
     "name": "stderr",
     "output_type": "stream",
     "text": [
      "chunk:  42%|████▏     | 4143/9969 [01:39<00:02, 2338.91it/s, now=None]"
     ]
    },
    {
     "name": "stdout",
     "output_type": "stream",
     "text": [
      "MoviePy - Done.\n"
     ]
    },
    {
     "name": "stderr",
     "output_type": "stream",
     "text": [
      "chunk:  42%|████▏     | 4143/9969 [01:39<00:02, 2338.91it/s, now=None]"
     ]
    },
    {
     "name": "stdout",
     "output_type": "stream",
     "text": [
      "Converting: y2mate.com - Counting in order  Counting  Early Math  Khan Academy_720pFH.mp4 -> ./khan_audio/y2mate.com - Counting in order  Counting  Early Math  Khan Academy_720pFH.mp3\n",
      "MoviePy - Writing audio in ./khan_audio/y2mate.com - Counting in order  Counting  Early Math  Khan Academy_720pFH.mp3\n"
     ]
    },
    {
     "name": "stderr",
     "output_type": "stream",
     "text": [
      "chunk:  42%|████▏     | 4143/9969 [01:40<00:02, 2338.91it/s, now=None]"
     ]
    },
    {
     "name": "stdout",
     "output_type": "stream",
     "text": [
      "MoviePy - Done.\n",
      "Converting: y2mate.com - Counting with small numbers  Counting  Early Math  Khan Academy_720pHF.mp4 -> ./khan_audio/y2mate.com - Counting with small numbers  Counting  Early Math  Khan Academy_720pHF.mp3\n"
     ]
    },
    {
     "name": "stderr",
     "output_type": "stream",
     "text": [
      "chunk:  42%|████▏     | 4143/9969 [01:40<00:02, 2338.91it/s, now=None]"
     ]
    },
    {
     "name": "stdout",
     "output_type": "stream",
     "text": [
      "MoviePy - Writing audio in ./khan_audio/y2mate.com - Counting with small numbers  Counting  Early Math  Khan Academy_720pHF.mp3\n"
     ]
    },
    {
     "name": "stderr",
     "output_type": "stream",
     "text": [
      "chunk:  42%|████▏     | 4143/9969 [01:41<00:02, 2338.91it/s, now=None]"
     ]
    },
    {
     "name": "stdout",
     "output_type": "stream",
     "text": [
      "MoviePy - Done.\n",
      "Converting: y2mate.com - Decomposing angles  Math  4th grade  Khan Academy_v720P.mp4 -> ./khan_audio/y2mate.com - Decomposing angles  Math  4th grade  Khan Academy_v720P.mp3\n"
     ]
    },
    {
     "name": "stderr",
     "output_type": "stream",
     "text": [
      "chunk:  42%|████▏     | 4143/9969 [01:41<00:02, 2338.91it/s, now=None]"
     ]
    },
    {
     "name": "stdout",
     "output_type": "stream",
     "text": [
      "MoviePy - Writing audio in ./khan_audio/y2mate.com - Decomposing angles  Math  4th grade  Khan Academy_v720P.mp3\n"
     ]
    },
    {
     "name": "stderr",
     "output_type": "stream",
     "text": [
      "chunk:  42%|████▏     | 4143/9969 [01:42<00:02, 2338.91it/s, now=None]"
     ]
    },
    {
     "name": "stdout",
     "output_type": "stream",
     "text": [
      "MoviePy - Done.\n"
     ]
    },
    {
     "name": "stderr",
     "output_type": "stream",
     "text": [
      "chunk:  42%|████▏     | 4143/9969 [01:42<00:02, 2338.91it/s, now=None]"
     ]
    },
    {
     "name": "stdout",
     "output_type": "stream",
     "text": [
      "Converting: y2mate.com - Equal sign  Addition and subtraction within 20  Early Math  Khan Academy_720p.mp4 -> ./khan_audio/y2mate.com - Equal sign  Addition and subtraction within 20  Early Math  Khan Academy_720p.mp3\n",
      "MoviePy - Writing audio in ./khan_audio/y2mate.com - Equal sign  Addition and subtraction within 20  Early Math  Khan Academy_720p.mp3\n"
     ]
    },
    {
     "name": "stderr",
     "output_type": "stream",
     "text": [
      "chunk:  42%|████▏     | 4143/9969 [01:44<00:02, 2338.91it/s, now=None]"
     ]
    },
    {
     "name": "stdout",
     "output_type": "stream",
     "text": [
      "MoviePy - Done.\n"
     ]
    },
    {
     "name": "stderr",
     "output_type": "stream",
     "text": [
      "chunk:  42%|████▏     | 4143/9969 [01:45<00:02, 2338.91it/s, now=None]"
     ]
    },
    {
     "name": "stdout",
     "output_type": "stream",
     "text": [
      "Converting: y2mate.com - Estimating 2 digit multiplication example_v720P.mp4 -> ./khan_audio/y2mate.com - Estimating 2 digit multiplication example_v720P.mp3\n",
      "MoviePy - Writing audio in ./khan_audio/y2mate.com - Estimating 2 digit multiplication example_v720P.mp3\n"
     ]
    },
    {
     "name": "stderr",
     "output_type": "stream",
     "text": [
      "chunk:  42%|████▏     | 4143/9969 [01:46<00:02, 2338.91it/s, now=None]"
     ]
    },
    {
     "name": "stdout",
     "output_type": "stream",
     "text": [
      "MoviePy - Done.\n"
     ]
    },
    {
     "name": "stderr",
     "output_type": "stream",
     "text": [
      "chunk:  42%|████▏     | 4143/9969 [01:46<00:02, 2338.91it/s, now=None]"
     ]
    },
    {
     "name": "stdout",
     "output_type": "stream",
     "text": [
      "Converting: y2mate.com - Examples identifying multiples_v720P.mp4 -> ./khan_audio/y2mate.com - Examples identifying multiples_v720P.mp3\n",
      "MoviePy - Writing audio in ./khan_audio/y2mate.com - Examples identifying multiples_v720P.mp3\n"
     ]
    },
    {
     "name": "stderr",
     "output_type": "stream",
     "text": [
      "chunk:  42%|████▏     | 4143/9969 [01:48<00:02, 2338.91it/s, now=None]"
     ]
    },
    {
     "name": "stdout",
     "output_type": "stream",
     "text": [
      "MoviePy - Done.\n"
     ]
    },
    {
     "name": "stderr",
     "output_type": "stream",
     "text": [
      "chunk:  42%|████▏     | 4143/9969 [01:48<00:02, 2338.91it/s, now=None]"
     ]
    },
    {
     "name": "stdout",
     "output_type": "stream",
     "text": [
      "Converting: y2mate.com - Examples relating decimals and fractions in words_v720P.mp4 -> ./khan_audio/y2mate.com - Examples relating decimals and fractions in words_v720P.mp3\n",
      "MoviePy - Writing audio in ./khan_audio/y2mate.com - Examples relating decimals and fractions in words_v720P.mp3\n"
     ]
    },
    {
     "name": "stderr",
     "output_type": "stream",
     "text": [
      "chunk:  42%|████▏     | 4143/9969 [01:49<00:02, 2338.91it/s, now=None]"
     ]
    },
    {
     "name": "stdout",
     "output_type": "stream",
     "text": [
      "MoviePy - Done.\n"
     ]
    },
    {
     "name": "stderr",
     "output_type": "stream",
     "text": [
      "chunk:  42%|████▏     | 4143/9969 [01:50<00:02, 2338.91it/s, now=None]"
     ]
    },
    {
     "name": "stdout",
     "output_type": "stream",
     "text": [
      "Converting: y2mate.com - Exercising gorillas  Addition and subtraction within 20  Early Math  Khan Academy_720pFH.mp4 -> ./khan_audio/y2mate.com - Exercising gorillas  Addition and subtraction within 20  Early Math  Khan Academy_720pFH.mp3\n",
      "MoviePy - Writing audio in ./khan_audio/y2mate.com - Exercising gorillas  Addition and subtraction within 20  Early Math  Khan Academy_720pFH.mp3\n"
     ]
    },
    {
     "name": "stderr",
     "output_type": "stream",
     "text": [
      "chunk:  42%|████▏     | 4143/9969 [01:52<00:02, 2338.91it/s, now=None]"
     ]
    },
    {
     "name": "stdout",
     "output_type": "stream",
     "text": [
      "MoviePy - Done.\n",
      "Converting: y2mate.com - Finding factors of a number  Factors and multiples  PreAlgebra  Khan Academy_720pFH.mp4 -> ./khan_audio/y2mate.com - Finding factors of a number  Factors and multiples  PreAlgebra  Khan Academy_720pFH.mp3\n"
     ]
    },
    {
     "name": "stderr",
     "output_type": "stream",
     "text": [
      "chunk:  42%|████▏     | 4143/9969 [01:52<00:02, 2338.91it/s, now=None]"
     ]
    },
    {
     "name": "stdout",
     "output_type": "stream",
     "text": [
      "MoviePy - Writing audio in ./khan_audio/y2mate.com - Finding factors of a number  Factors and multiples  PreAlgebra  Khan Academy_720pFH.mp3\n"
     ]
    },
    {
     "name": "stderr",
     "output_type": "stream",
     "text": [
      "chunk:  42%|████▏     | 4143/9969 [01:57<00:02, 2338.91it/s, now=None]"
     ]
    },
    {
     "name": "stdout",
     "output_type": "stream",
     "text": [
      "MoviePy - Done.\n"
     ]
    },
    {
     "name": "stderr",
     "output_type": "stream",
     "text": [
      "chunk:  42%|████▏     | 4143/9969 [01:57<00:02, 2338.91it/s, now=None]"
     ]
    },
    {
     "name": "stdout",
     "output_type": "stream",
     "text": [
      "Converting: y2mate.com - Fractiondecimal intuition problems examples  4th grade  Khan Academy_720pFH.mp4 -> ./khan_audio/y2mate.com - Fractiondecimal intuition problems examples  4th grade  Khan Academy_720pFH.mp3\n",
      "MoviePy - Writing audio in ./khan_audio/y2mate.com - Fractiondecimal intuition problems examples  4th grade  Khan Academy_720pFH.mp3\n"
     ]
    },
    {
     "name": "stderr",
     "output_type": "stream",
     "text": [
      "chunk:  42%|████▏     | 4143/9969 [01:59<00:02, 2338.91it/s, now=None]"
     ]
    },
    {
     "name": "stdout",
     "output_type": "stream",
     "text": [
      "MoviePy - Done.\n"
     ]
    },
    {
     "name": "stderr",
     "output_type": "stream",
     "text": [
      "chunk:  42%|████▏     | 4143/9969 [01:59<00:02, 2338.91it/s, now=None]"
     ]
    },
    {
     "name": "stdout",
     "output_type": "stream",
     "text": [
      "Converting: y2mate.com - Getting to 10 by filling boxes  Basic addition and subtraction  Early Math  Khan Academy_v720P.mp4 -> ./khan_audio/y2mate.com - Getting to 10 by filling boxes  Basic addition and subtraction  Early Math  Khan Academy_v720P.mp3\n",
      "MoviePy - Writing audio in ./khan_audio/y2mate.com - Getting to 10 by filling boxes  Basic addition and subtraction  Early Math  Khan Academy_v720P.mp3\n"
     ]
    },
    {
     "name": "stderr",
     "output_type": "stream",
     "text": [
      "chunk:  42%|████▏     | 4143/9969 [02:00<00:02, 2338.91it/s, now=None]"
     ]
    },
    {
     "name": "stdout",
     "output_type": "stream",
     "text": [
      "MoviePy - Done.\n",
      "Converting: y2mate.com - Greater than and less than symbols  Applying mathematical reasoning  PreAlgebra  Khan Academy_720pFH.mp4 -> ./khan_audio/y2mate.com - Greater than and less than symbols  Applying mathematical reasoning  PreAlgebra  Khan Academy_720pFH.mp3\n",
      "MoviePy - Writing audio in ./khan_audio/y2mate.com - Greater than and less than symbols  Applying mathematical reasoning  PreAlgebra  Khan Academy_720pFH.mp3\n"
     ]
    },
    {
     "name": "stderr",
     "output_type": "stream",
     "text": [
      "chunk:  42%|████▏     | 4143/9969 [02:02<00:02, 2338.91it/s, now=None]"
     ]
    },
    {
     "name": "stdout",
     "output_type": "stream",
     "text": [
      "MoviePy - Done.\n"
     ]
    },
    {
     "name": "stderr",
     "output_type": "stream",
     "text": [
      "chunk:  42%|████▏     | 4143/9969 [02:02<00:02, 2338.91it/s, now=None]"
     ]
    },
    {
     "name": "stdout",
     "output_type": "stream",
     "text": [
      "Converting: y2mate.com - How to simplify an expression by combining like terms and the distributive property  Khan Academy_720pFH.mp4 -> ./khan_audio/y2mate.com - How to simplify an expression by combining like terms and the distributive property  Khan Academy_720pFH.mp3\n",
      "MoviePy - Writing audio in ./khan_audio/y2mate.com - How to simplify an expression by combining like terms and the distributive property  Khan Academy_720pFH.mp3\n"
     ]
    },
    {
     "name": "stderr",
     "output_type": "stream",
     "text": [
      "chunk:  42%|████▏     | 4143/9969 [02:04<00:02, 2338.91it/s, now=None]"
     ]
    },
    {
     "name": "stdout",
     "output_type": "stream",
     "text": [
      "MoviePy - Done.\n",
      "Converting: y2mate.com - How to test solutions to equations using substitution  6th grade  Khan Academy_720pFH.mp4 -> ./khan_audio/y2mate.com - How to test solutions to equations using substitution  6th grade  Khan Academy_720pFH.mp3\n"
     ]
    },
    {
     "name": "stderr",
     "output_type": "stream",
     "text": [
      "chunk:  42%|████▏     | 4143/9969 [02:04<00:02, 2338.91it/s, now=None]"
     ]
    },
    {
     "name": "stdout",
     "output_type": "stream",
     "text": [
      "MoviePy - Writing audio in ./khan_audio/y2mate.com - How to test solutions to equations using substitution  6th grade  Khan Academy_720pFH.mp3\n"
     ]
    },
    {
     "name": "stderr",
     "output_type": "stream",
     "text": [
      "chunk:  42%|████▏     | 4143/9969 [02:06<00:02, 2338.91it/s, now=None]"
     ]
    },
    {
     "name": "stdout",
     "output_type": "stream",
     "text": [
      "MoviePy - Done.\n",
      "Converting: y2mate.com - Identifying hundredths on a number line  Math  4th grade  Khan Academy_720pFH.mp4 -> ./khan_audio/y2mate.com - Identifying hundredths on a number line  Math  4th grade  Khan Academy_720pFH.mp3\n"
     ]
    },
    {
     "name": "stderr",
     "output_type": "stream",
     "text": [
      "chunk:  42%|████▏     | 4143/9969 [02:06<00:02, 2338.91it/s, now=None]"
     ]
    },
    {
     "name": "stdout",
     "output_type": "stream",
     "text": [
      "MoviePy - Writing audio in ./khan_audio/y2mate.com - Identifying hundredths on a number line  Math  4th grade  Khan Academy_720pFH.mp3\n"
     ]
    },
    {
     "name": "stderr",
     "output_type": "stream",
     "text": [
      "chunk:  42%|████▏     | 4143/9969 [02:07<00:02, 2338.91it/s, now=None]"
     ]
    },
    {
     "name": "stdout",
     "output_type": "stream",
     "text": [
      "MoviePy - Done.\n"
     ]
    },
    {
     "name": "stderr",
     "output_type": "stream",
     "text": [
      "chunk:  42%|████▏     | 4143/9969 [02:08<00:02, 2338.91it/s, now=None]"
     ]
    },
    {
     "name": "stdout",
     "output_type": "stream",
     "text": [
      "Converting: y2mate.com - Interpreting absolute value as distance  7th grade  Khan Academy_720pFH.mp4 -> ./khan_audio/y2mate.com - Interpreting absolute value as distance  7th grade  Khan Academy_720pFH.mp3\n",
      "MoviePy - Writing audio in ./khan_audio/y2mate.com - Interpreting absolute value as distance  7th grade  Khan Academy_720pFH.mp3\n"
     ]
    },
    {
     "name": "stderr",
     "output_type": "stream",
     "text": [
      "chunk:  42%|████▏     | 4143/9969 [02:12<00:02, 2338.91it/s, now=None]"
     ]
    },
    {
     "name": "stdout",
     "output_type": "stream",
     "text": [
      "MoviePy - Done.\n",
      "Converting: y2mate.com - Introduction to addition  Basic addition and subtraction  Early Math  Khan Academy_720pFH.mp4 -> ./khan_audio/y2mate.com - Introduction to addition  Basic addition and subtraction  Early Math  Khan Academy_720pFH.mp3\n"
     ]
    },
    {
     "name": "stderr",
     "output_type": "stream",
     "text": [
      "chunk:  42%|████▏     | 4143/9969 [02:12<00:02, 2338.91it/s, now=None]"
     ]
    },
    {
     "name": "stdout",
     "output_type": "stream",
     "text": [
      "MoviePy - Writing audio in ./khan_audio/y2mate.com - Introduction to addition  Basic addition and subtraction  Early Math  Khan Academy_720pFH.mp3\n"
     ]
    },
    {
     "name": "stderr",
     "output_type": "stream",
     "text": [
      "chunk:  42%|████▏     | 4143/9969 [02:14<00:02, 2338.91it/s, now=None]"
     ]
    },
    {
     "name": "stdout",
     "output_type": "stream",
     "text": [
      "MoviePy - Done.\n",
      "Converting: y2mate.com - Introduction to place value  Place value tens and hundreds  Early Math  Khan Academy_720pFH.mp4 -> ./khan_audio/y2mate.com - Introduction to place value  Place value tens and hundreds  Early Math  Khan Academy_720pFH.mp3\n"
     ]
    },
    {
     "name": "stderr",
     "output_type": "stream",
     "text": [
      "chunk:  42%|████▏     | 4143/9969 [02:14<00:02, 2338.91it/s, now=None]"
     ]
    },
    {
     "name": "stdout",
     "output_type": "stream",
     "text": [
      "MoviePy - Writing audio in ./khan_audio/y2mate.com - Introduction to place value  Place value tens and hundreds  Early Math  Khan Academy_720pFH.mp3\n"
     ]
    },
    {
     "name": "stderr",
     "output_type": "stream",
     "text": [
      "chunk:  42%|████▏     | 4143/9969 [02:17<00:02, 2338.91it/s, now=None]"
     ]
    },
    {
     "name": "stdout",
     "output_type": "stream",
     "text": [
      "MoviePy - Done.\n",
      "Converting: y2mate.com - Introduction to subtraction  Basic addition and subtraction  Early Math  Khan Academy_720pFH.mp4 -> ./khan_audio/y2mate.com - Introduction to subtraction  Basic addition and subtraction  Early Math  Khan Academy_720pFH.mp3\n"
     ]
    },
    {
     "name": "stderr",
     "output_type": "stream",
     "text": [
      "chunk:  42%|████▏     | 4143/9969 [02:17<00:02, 2338.91it/s, now=None]"
     ]
    },
    {
     "name": "stdout",
     "output_type": "stream",
     "text": [
      "MoviePy - Writing audio in ./khan_audio/y2mate.com - Introduction to subtraction  Basic addition and subtraction  Early Math  Khan Academy_720pFH.mp3\n"
     ]
    },
    {
     "name": "stderr",
     "output_type": "stream",
     "text": [
      "chunk:  42%|████▏     | 4143/9969 [02:18<00:02, 2338.91it/s, now=None]"
     ]
    },
    {
     "name": "stdout",
     "output_type": "stream",
     "text": [
      "MoviePy - Done.\n",
      "Converting: y2mate.com - Making 5  Basic addition and subtraction  Early Math  Khan Academy_720pFH.mp4 -> ./khan_audio/y2mate.com - Making 5  Basic addition and subtraction  Early Math  Khan Academy_720pFH.mp3\n"
     ]
    },
    {
     "name": "stderr",
     "output_type": "stream",
     "text": [
      "chunk:  42%|████▏     | 4143/9969 [02:19<00:02, 2338.91it/s, now=None]"
     ]
    },
    {
     "name": "stdout",
     "output_type": "stream",
     "text": [
      "MoviePy - Writing audio in ./khan_audio/y2mate.com - Making 5  Basic addition and subtraction  Early Math  Khan Academy_720pFH.mp3\n"
     ]
    },
    {
     "name": "stderr",
     "output_type": "stream",
     "text": [
      "chunk:  42%|████▏     | 4143/9969 [02:20<00:02, 2338.91it/s, now=None]"
     ]
    },
    {
     "name": "stdout",
     "output_type": "stream",
     "text": [
      "MoviePy - Done.\n"
     ]
    },
    {
     "name": "stderr",
     "output_type": "stream",
     "text": [
      "chunk:  42%|████▏     | 4143/9969 [02:21<00:02, 2338.91it/s, now=None]"
     ]
    },
    {
     "name": "stdout",
     "output_type": "stream",
     "text": [
      "Converting: y2mate.com - Measuring angles with a circular protractor  Math  4th grade  Khan Academy_v720P.mp4 -> ./khan_audio/y2mate.com - Measuring angles with a circular protractor  Math  4th grade  Khan Academy_v720P.mp3\n",
      "MoviePy - Writing audio in ./khan_audio/y2mate.com - Measuring angles with a circular protractor  Math  4th grade  Khan Academy_v720P.mp3\n"
     ]
    },
    {
     "name": "stderr",
     "output_type": "stream",
     "text": [
      "chunk:  42%|████▏     | 4143/9969 [02:21<00:02, 2338.91it/s, now=None]"
     ]
    },
    {
     "name": "stdout",
     "output_type": "stream",
     "text": [
      "MoviePy - Done.\n"
     ]
    },
    {
     "name": "stderr",
     "output_type": "stream",
     "text": [
      "chunk:  42%|████▏     | 4143/9969 [02:22<00:02, 2338.91it/s, now=None]"
     ]
    },
    {
     "name": "stdout",
     "output_type": "stream",
     "text": [
      "Converting: y2mate.com - Metric system units of distance  4th grade  Khan Academy_720pFH.mp4 -> ./khan_audio/y2mate.com - Metric system units of distance  4th grade  Khan Academy_720pFH.mp3\n",
      "MoviePy - Writing audio in ./khan_audio/y2mate.com - Metric system units of distance  4th grade  Khan Academy_720pFH.mp3\n"
     ]
    },
    {
     "name": "stderr",
     "output_type": "stream",
     "text": [
      "chunk:  42%|████▏     | 4143/9969 [02:25<00:02, 2338.91it/s, now=None]"
     ]
    },
    {
     "name": "stdout",
     "output_type": "stream",
     "text": [
      "MoviePy - Done.\n",
      "Converting: y2mate.com - Metric system units of volume  4th grade  Khan Academy_720pFH.mp4 -> ./khan_audio/y2mate.com - Metric system units of volume  4th grade  Khan Academy_720pFH.mp3\n",
      "MoviePy - Writing audio in ./khan_audio/y2mate.com - Metric system units of volume  4th grade  Khan Academy_720pFH.mp3\n"
     ]
    },
    {
     "name": "stderr",
     "output_type": "stream",
     "text": [
      "chunk:  42%|████▏     | 4143/9969 [02:27<00:02, 2338.91it/s, now=None]"
     ]
    },
    {
     "name": "stdout",
     "output_type": "stream",
     "text": [
      "MoviePy - Done.\n",
      "Converting: y2mate.com - Metric system units of weight  4th grade  Khan Academy_720pFH.mp4 -> ./khan_audio/y2mate.com - Metric system units of weight  4th grade  Khan Academy_720pFH.mp3\n"
     ]
    },
    {
     "name": "stderr",
     "output_type": "stream",
     "text": [
      "chunk:  42%|████▏     | 4143/9969 [02:27<00:02, 2338.91it/s, now=None]"
     ]
    },
    {
     "name": "stdout",
     "output_type": "stream",
     "text": [
      "MoviePy - Writing audio in ./khan_audio/y2mate.com - Metric system units of weight  4th grade  Khan Academy_720pFH.mp3\n"
     ]
    },
    {
     "name": "stderr",
     "output_type": "stream",
     "text": [
      "chunk:  42%|████▏     | 4143/9969 [02:29<00:02, 2338.91it/s, now=None]"
     ]
    },
    {
     "name": "stdout",
     "output_type": "stream",
     "text": [
      "MoviePy - Done.\n"
     ]
    },
    {
     "name": "stderr",
     "output_type": "stream",
     "text": [
      "chunk:  42%|████▏     | 4143/9969 [02:29<00:02, 2338.91it/s, now=None]"
     ]
    },
    {
     "name": "stdout",
     "output_type": "stream",
     "text": [
      "Converting: y2mate.com - Missing numbers between 0 and 120  Counting  Early Math  Khan Academy_720pFH.mp4 -> ./khan_audio/y2mate.com - Missing numbers between 0 and 120  Counting  Early Math  Khan Academy_720pFH.mp3\n",
      "MoviePy - Writing audio in ./khan_audio/y2mate.com - Missing numbers between 0 and 120  Counting  Early Math  Khan Academy_720pFH.mp3\n"
     ]
    },
    {
     "name": "stderr",
     "output_type": "stream",
     "text": [
      "chunk:  42%|████▏     | 4143/9969 [02:30<00:02, 2338.91it/s, now=None]"
     ]
    },
    {
     "name": "stdout",
     "output_type": "stream",
     "text": [
      "MoviePy - Done.\n"
     ]
    },
    {
     "name": "stderr",
     "output_type": "stream",
     "text": [
      "chunk:  42%|████▏     | 4143/9969 [02:30<00:02, 2338.91it/s, now=None]"
     ]
    },
    {
     "name": "stdout",
     "output_type": "stream",
     "text": [
      "Converting: y2mate.com - Missing numbers in addition and subtraction  2nd grade  Khan Academy_720pFH.mp4 -> ./khan_audio/y2mate.com - Missing numbers in addition and subtraction  2nd grade  Khan Academy_720pFH.mp3\n",
      "MoviePy - Writing audio in ./khan_audio/y2mate.com - Missing numbers in addition and subtraction  2nd grade  Khan Academy_720pFH.mp3\n"
     ]
    },
    {
     "name": "stderr",
     "output_type": "stream",
     "text": [
      "chunk:  42%|████▏     | 4143/9969 [02:32<00:02, 2338.91it/s, now=None]"
     ]
    },
    {
     "name": "stdout",
     "output_type": "stream",
     "text": [
      "MoviePy - Done.\n"
     ]
    },
    {
     "name": "stderr",
     "output_type": "stream",
     "text": [
      "chunk:  42%|████▏     | 4143/9969 [02:33<00:02, 2338.91it/s, now=None]"
     ]
    },
    {
     "name": "stdout",
     "output_type": "stream",
     "text": [
      "Converting: y2mate.com - Monkeys for a party  Place value tens and hundreds  Early Math  Khan Academy_v720P.mp4 -> ./khan_audio/y2mate.com - Monkeys for a party  Place value tens and hundreds  Early Math  Khan Academy_v720P.mp3\n",
      "MoviePy - Writing audio in ./khan_audio/y2mate.com - Monkeys for a party  Place value tens and hundreds  Early Math  Khan Academy_v720P.mp3\n"
     ]
    },
    {
     "name": "stderr",
     "output_type": "stream",
     "text": [
      "chunk:  42%|████▏     | 4143/9969 [02:34<00:02, 2338.91it/s, now=None]"
     ]
    },
    {
     "name": "stdout",
     "output_type": "stream",
     "text": [
      "MoviePy - Done.\n",
      "Converting: y2mate.com - Multiplying 10s  Math  4th grade  Khan Academy_720pFH.mp4 -> ./khan_audio/y2mate.com - Multiplying 10s  Math  4th grade  Khan Academy_720pFH.mp3\n"
     ]
    },
    {
     "name": "stderr",
     "output_type": "stream",
     "text": [
      "chunk:  42%|████▏     | 4143/9969 [02:34<00:02, 2338.91it/s, now=None]"
     ]
    },
    {
     "name": "stdout",
     "output_type": "stream",
     "text": [
      "MoviePy - Writing audio in ./khan_audio/y2mate.com - Multiplying 10s  Math  4th grade  Khan Academy_720pFH.mp3\n"
     ]
    },
    {
     "name": "stderr",
     "output_type": "stream",
     "text": [
      "chunk:  42%|████▏     | 4143/9969 [02:36<00:02, 2338.91it/s, now=None]"
     ]
    },
    {
     "name": "stdout",
     "output_type": "stream",
     "text": [
      "MoviePy - Done.\n"
     ]
    },
    {
     "name": "stderr",
     "output_type": "stream",
     "text": [
      "chunk:  42%|████▏     | 4143/9969 [02:36<00:02, 2338.91it/s, now=None]"
     ]
    },
    {
     "name": "stdout",
     "output_type": "stream",
     "text": [
      "Converting: y2mate.com - Multiplying 2 digit numbers  Multiplication and division  4th grade  Khan Academy_720pFH.mp4 -> ./khan_audio/y2mate.com - Multiplying 2 digit numbers  Multiplication and division  4th grade  Khan Academy_720pFH.mp3\n",
      "MoviePy - Writing audio in ./khan_audio/y2mate.com - Multiplying 2 digit numbers  Multiplication and division  4th grade  Khan Academy_720pFH.mp3\n"
     ]
    },
    {
     "name": "stderr",
     "output_type": "stream",
     "text": [
      "chunk:  42%|████▏     | 4143/9969 [02:38<00:02, 2338.91it/s, now=None]"
     ]
    },
    {
     "name": "stdout",
     "output_type": "stream",
     "text": [
      "MoviePy - Done.\n"
     ]
    },
    {
     "name": "stderr",
     "output_type": "stream",
     "text": [
      "chunk:  42%|████▏     | 4143/9969 [02:38<00:02, 2338.91it/s, now=None]"
     ]
    },
    {
     "name": "stdout",
     "output_type": "stream",
     "text": [
      "Converting: y2mate.com - Number grid  Counting  Early Math  Khan Academy_720pFH.mp4 -> ./khan_audio/y2mate.com - Number grid  Counting  Early Math  Khan Academy_720pFH.mp3\n",
      "MoviePy - Writing audio in ./khan_audio/y2mate.com - Number grid  Counting  Early Math  Khan Academy_720pFH.mp3\n"
     ]
    },
    {
     "name": "stderr",
     "output_type": "stream",
     "text": [
      "chunk:  42%|████▏     | 4143/9969 [02:41<00:02, 2338.91it/s, now=None]"
     ]
    },
    {
     "name": "stdout",
     "output_type": "stream",
     "text": [
      "MoviePy - Done.\n",
      "Converting: y2mate.com - Pieces of fruit  Basic addition and subtraction  Early Math  Khan Academy_v720P.mp4 -> ./khan_audio/y2mate.com - Pieces of fruit  Basic addition and subtraction  Early Math  Khan Academy_v720P.mp3\n"
     ]
    },
    {
     "name": "stderr",
     "output_type": "stream",
     "text": [
      "chunk:  42%|████▏     | 4143/9969 [02:41<00:02, 2338.91it/s, now=None]"
     ]
    },
    {
     "name": "stdout",
     "output_type": "stream",
     "text": [
      "MoviePy - Writing audio in ./khan_audio/y2mate.com - Pieces of fruit  Basic addition and subtraction  Early Math  Khan Academy_v720P.mp3\n"
     ]
    },
    {
     "name": "stderr",
     "output_type": "stream",
     "text": [
      "chunk:  42%|████▏     | 4143/9969 [02:42<00:02, 2338.91it/s, now=None]"
     ]
    },
    {
     "name": "stdout",
     "output_type": "stream",
     "text": [
      "MoviePy - Done.\n"
     ]
    },
    {
     "name": "stderr",
     "output_type": "stream",
     "text": [
      "chunk:  42%|████▏     | 4143/9969 [02:42<00:02, 2338.91it/s, now=None]"
     ]
    },
    {
     "name": "stdout",
     "output_type": "stream",
     "text": [
      "Converting: y2mate.com - Place value example with 25  Place value tens and hundreds  Early Math  Khan Academy_720pFH.mp4 -> ./khan_audio/y2mate.com - Place value example with 25  Place value tens and hundreds  Early Math  Khan Academy_720pFH.mp3\n",
      "MoviePy - Writing audio in ./khan_audio/y2mate.com - Place value example with 25  Place value tens and hundreds  Early Math  Khan Academy_720pFH.mp3\n"
     ]
    },
    {
     "name": "stderr",
     "output_type": "stream",
     "text": [
      "chunk:  42%|████▏     | 4143/9969 [02:43<00:02, 2338.91it/s, now=None]"
     ]
    },
    {
     "name": "stdout",
     "output_type": "stream",
     "text": [
      "MoviePy - Done.\n"
     ]
    },
    {
     "name": "stderr",
     "output_type": "stream",
     "text": [
      "chunk:  42%|████▏     | 4143/9969 [02:43<00:02, 2338.91it/s, now=None]"
     ]
    },
    {
     "name": "stdout",
     "output_type": "stream",
     "text": [
      "Converting: y2mate.com - Place value example with 42  Place value tens and hundreds  Early Math  Khan Academy_720pFH.mp4 -> ./khan_audio/y2mate.com - Place value example with 42  Place value tens and hundreds  Early Math  Khan Academy_720pFH.mp3\n",
      "MoviePy - Writing audio in ./khan_audio/y2mate.com - Place value example with 42  Place value tens and hundreds  Early Math  Khan Academy_720pFH.mp3\n"
     ]
    },
    {
     "name": "stderr",
     "output_type": "stream",
     "text": [
      "chunk:  42%|████▏     | 4143/9969 [02:45<00:02, 2338.91it/s, now=None]"
     ]
    },
    {
     "name": "stdout",
     "output_type": "stream",
     "text": [
      "MoviePy - Done.\n",
      "Converting: y2mate.com - Powers of fractions  Exponents radicals and scientific notation  PreAlgebra  Khan Academy_720pFH.mp4 -> ./khan_audio/y2mate.com - Powers of fractions  Exponents radicals and scientific notation  PreAlgebra  Khan Academy_720pFH.mp3\n"
     ]
    },
    {
     "name": "stderr",
     "output_type": "stream",
     "text": [
      "chunk:  42%|████▏     | 4143/9969 [02:46<00:02, 2338.91it/s, now=None]"
     ]
    },
    {
     "name": "stdout",
     "output_type": "stream",
     "text": [
      "MoviePy - Writing audio in ./khan_audio/y2mate.com - Powers of fractions  Exponents radicals and scientific notation  PreAlgebra  Khan Academy_720pFH.mp3\n"
     ]
    },
    {
     "name": "stderr",
     "output_type": "stream",
     "text": [
      "chunk:  42%|████▏     | 4143/9969 [02:46<00:02, 2338.91it/s, now=None]"
     ]
    },
    {
     "name": "stdout",
     "output_type": "stream",
     "text": [
      "MoviePy - Done.\n"
     ]
    },
    {
     "name": "stderr",
     "output_type": "stream",
     "text": [
      "chunk:  42%|████▏     | 4143/9969 [02:47<00:02, 2338.91it/s, now=None]"
     ]
    },
    {
     "name": "stdout",
     "output_type": "stream",
     "text": [
      "Converting: y2mate.com - Recognizing prime and composite numbers  Factors and multiples  PreAlgebra  Khan Academy_720pFH.mp4 -> ./khan_audio/y2mate.com - Recognizing prime and composite numbers  Factors and multiples  PreAlgebra  Khan Academy_720pFH.mp3\n",
      "MoviePy - Writing audio in ./khan_audio/y2mate.com - Recognizing prime and composite numbers  Factors and multiples  PreAlgebra  Khan Academy_720pFH.mp3\n"
     ]
    },
    {
     "name": "stderr",
     "output_type": "stream",
     "text": [
      "chunk:  42%|████▏     | 4143/9969 [02:49<00:02, 2338.91it/s, now=None]"
     ]
    },
    {
     "name": "stdout",
     "output_type": "stream",
     "text": [
      "MoviePy - Done.\n",
      "Converting: y2mate.com - Regrouping whole numbers  Arithmetic properties  PreAlgebra  Khan Academy_720pFH.mp4 -> ./khan_audio/y2mate.com - Regrouping whole numbers  Arithmetic properties  PreAlgebra  Khan Academy_720pFH.mp3\n"
     ]
    },
    {
     "name": "stderr",
     "output_type": "stream",
     "text": [
      "chunk:  42%|████▏     | 4143/9969 [02:49<00:02, 2338.91it/s, now=None]"
     ]
    },
    {
     "name": "stdout",
     "output_type": "stream",
     "text": [
      "MoviePy - Writing audio in ./khan_audio/y2mate.com - Regrouping whole numbers  Arithmetic properties  PreAlgebra  Khan Academy_720pFH.mp3\n"
     ]
    },
    {
     "name": "stderr",
     "output_type": "stream",
     "text": [
      "chunk:  42%|████▏     | 4143/9969 [02:51<00:02, 2338.91it/s, now=None]"
     ]
    },
    {
     "name": "stdout",
     "output_type": "stream",
     "text": [
      "MoviePy - Done.\n"
     ]
    },
    {
     "name": "stderr",
     "output_type": "stream",
     "text": [
      "chunk:  42%|████▏     | 4143/9969 [02:51<00:02, 2338.91it/s, now=None]"
     ]
    },
    {
     "name": "stdout",
     "output_type": "stream",
     "text": [
      "Converting: y2mate.com - Relating addition and subtraction  Basic addition and subtraction  Early Math  Khan Academy_720pFH.mp4 -> ./khan_audio/y2mate.com - Relating addition and subtraction  Basic addition and subtraction  Early Math  Khan Academy_720pFH.mp3\n",
      "MoviePy - Writing audio in ./khan_audio/y2mate.com - Relating addition and subtraction  Basic addition and subtraction  Early Math  Khan Academy_720pFH.mp3\n"
     ]
    },
    {
     "name": "stderr",
     "output_type": "stream",
     "text": [
      "chunk:  42%|████▏     | 4143/9969 [02:52<00:02, 2338.91it/s, now=None]"
     ]
    },
    {
     "name": "stdout",
     "output_type": "stream",
     "text": [
      "MoviePy - Done.\n"
     ]
    },
    {
     "name": "stderr",
     "output_type": "stream",
     "text": [
      "chunk:  42%|████▏     | 4143/9969 [02:52<00:02, 2338.91it/s, now=None]"
     ]
    },
    {
     "name": "stdout",
     "output_type": "stream",
     "text": [
      "Converting: y2mate.com - Repeated addition example  Addition and subtraction within 100  Early Math  Khan Academy_720pFH.mp4 -> ./khan_audio/y2mate.com - Repeated addition example  Addition and subtraction within 100  Early Math  Khan Academy_720pFH.mp3\n",
      "MoviePy - Writing audio in ./khan_audio/y2mate.com - Repeated addition example  Addition and subtraction within 100  Early Math  Khan Academy_720pFH.mp3\n"
     ]
    },
    {
     "name": "stderr",
     "output_type": "stream",
     "text": [
      "chunk:  42%|████▏     | 4143/9969 [02:53<00:02, 2338.91it/s, now=None]"
     ]
    },
    {
     "name": "stdout",
     "output_type": "stream",
     "text": [
      "MoviePy - Done.\n"
     ]
    },
    {
     "name": "stderr",
     "output_type": "stream",
     "text": [
      "chunk:  42%|████▏     | 4143/9969 [02:53<00:02, 2338.91it/s, now=None]"
     ]
    },
    {
     "name": "stdout",
     "output_type": "stream",
     "text": [
      "Converting: y2mate.com - Representing and comparing rates  Linear equations and functions  8th grade  Khan Academy_720pFH.mp4 -> ./khan_audio/y2mate.com - Representing and comparing rates  Linear equations and functions  8th grade  Khan Academy_720pFH.mp3\n",
      "MoviePy - Writing audio in ./khan_audio/y2mate.com - Representing and comparing rates  Linear equations and functions  8th grade  Khan Academy_720pFH.mp3\n"
     ]
    },
    {
     "name": "stderr",
     "output_type": "stream",
     "text": [
      "chunk:  42%|████▏     | 4143/9969 [02:55<00:02, 2338.91it/s, now=None]"
     ]
    },
    {
     "name": "stdout",
     "output_type": "stream",
     "text": [
      "MoviePy - Done.\n",
      "Converting: y2mate.com - Rewriting fractions as decimals  Math  4th grade  Khan Academy_720pFH.mp4 -> ./khan_audio/y2mate.com - Rewriting fractions as decimals  Math  4th grade  Khan Academy_720pFH.mp3\n"
     ]
    },
    {
     "name": "stderr",
     "output_type": "stream",
     "text": [
      "chunk:  42%|████▏     | 4143/9969 [02:55<00:02, 2338.91it/s, now=None]"
     ]
    },
    {
     "name": "stdout",
     "output_type": "stream",
     "text": [
      "MoviePy - Writing audio in ./khan_audio/y2mate.com - Rewriting fractions as decimals  Math  4th grade  Khan Academy_720pFH.mp3\n"
     ]
    },
    {
     "name": "stderr",
     "output_type": "stream",
     "text": [
      "chunk:  42%|████▏     | 4143/9969 [02:57<00:02, 2338.91it/s, now=None]"
     ]
    },
    {
     "name": "stdout",
     "output_type": "stream",
     "text": [
      "MoviePy - Done.\n",
      "Converting: y2mate.com - Rounding whole numbers example 2  Arithmetic properties  PreAlgebra  Khan Academy_v720P.mp4 -> ./khan_audio/y2mate.com - Rounding whole numbers example 2  Arithmetic properties  PreAlgebra  Khan Academy_v720P.mp3\n"
     ]
    },
    {
     "name": "stderr",
     "output_type": "stream",
     "text": [
      "chunk:  42%|████▏     | 4143/9969 [02:57<00:02, 2338.91it/s, now=None]"
     ]
    },
    {
     "name": "stdout",
     "output_type": "stream",
     "text": [
      "MoviePy - Writing audio in ./khan_audio/y2mate.com - Rounding whole numbers example 2  Arithmetic properties  PreAlgebra  Khan Academy_v720P.mp3\n"
     ]
    },
    {
     "name": "stderr",
     "output_type": "stream",
     "text": [
      "chunk:  42%|████▏     | 4143/9969 [02:58<00:02, 2338.91it/s, now=None]"
     ]
    },
    {
     "name": "stdout",
     "output_type": "stream",
     "text": [
      "MoviePy - Done.\n"
     ]
    },
    {
     "name": "stderr",
     "output_type": "stream",
     "text": [
      "chunk:  42%|████▏     | 4143/9969 [02:58<00:02, 2338.91it/s, now=None]"
     ]
    },
    {
     "name": "stdout",
     "output_type": "stream",
     "text": [
      "Converting: y2mate.com - Skip counting by 5 example  Addition and subtraction within 100  Early Math  Khan Academy_720pFH.mp4 -> ./khan_audio/y2mate.com - Skip counting by 5 example  Addition and subtraction within 100  Early Math  Khan Academy_720pFH.mp3\n",
      "MoviePy - Writing audio in ./khan_audio/y2mate.com - Skip counting by 5 example  Addition and subtraction within 100  Early Math  Khan Academy_720pFH.mp3\n"
     ]
    },
    {
     "name": "stderr",
     "output_type": "stream",
     "text": [
      "chunk:  42%|████▏     | 4143/9969 [02:59<00:02, 2338.91it/s, now=None]"
     ]
    },
    {
     "name": "stdout",
     "output_type": "stream",
     "text": [
      "MoviePy - Done.\n"
     ]
    },
    {
     "name": "stderr",
     "output_type": "stream",
     "text": [
      "chunk:  42%|████▏     | 4143/9969 [02:59<00:02, 2338.91it/s, now=None]"
     ]
    },
    {
     "name": "stdout",
     "output_type": "stream",
     "text": [
      "Converting: y2mate.com - Solving the troll riddle visually  Algebra II  Khan Academy_720pFH.mp4 -> ./khan_audio/y2mate.com - Solving the troll riddle visually  Algebra II  Khan Academy_720pFH.mp3\n",
      "MoviePy - Writing audio in ./khan_audio/y2mate.com - Solving the troll riddle visually  Algebra II  Khan Academy_720pFH.mp3\n"
     ]
    },
    {
     "name": "stderr",
     "output_type": "stream",
     "text": [
      "chunk:  42%|████▏     | 4143/9969 [03:02<00:02, 2338.91it/s, now=None]"
     ]
    },
    {
     "name": "stdout",
     "output_type": "stream",
     "text": [
      "MoviePy - Done.\n"
     ]
    },
    {
     "name": "stderr",
     "output_type": "stream",
     "text": [
      "chunk:  42%|████▏     | 4143/9969 [03:02<00:02, 2338.91it/s, now=None]"
     ]
    },
    {
     "name": "stdout",
     "output_type": "stream",
     "text": [
      "Converting: y2mate.com - Statistical questions  Data and statistics  6th grade  Khan Academy_720pFH.mp4 -> ./khan_audio/y2mate.com - Statistical questions  Data and statistics  6th grade  Khan Academy_720pFH.mp3\n",
      "MoviePy - Writing audio in ./khan_audio/y2mate.com - Statistical questions  Data and statistics  6th grade  Khan Academy_720pFH.mp3\n"
     ]
    },
    {
     "name": "stderr",
     "output_type": "stream",
     "text": [
      "chunk:  42%|████▏     | 4143/9969 [03:06<00:02, 2338.91it/s, now=None]"
     ]
    },
    {
     "name": "stdout",
     "output_type": "stream",
     "text": [
      "MoviePy - Done.\n"
     ]
    },
    {
     "name": "stderr",
     "output_type": "stream",
     "text": [
      "chunk:  42%|████▏     | 4143/9969 [03:06<00:02, 2338.91it/s, now=None]"
     ]
    },
    {
     "name": "stdout",
     "output_type": "stream",
     "text": [
      "Converting: y2mate.com - Subtracting 1 vs subtracting 10  Addition and subtraction within 100  2nd grade  Khan Academy_v720P.mp4 -> ./khan_audio/y2mate.com - Subtracting 1 vs subtracting 10  Addition and subtraction within 100  2nd grade  Khan Academy_v720P.mp3\n",
      "MoviePy - Writing audio in ./khan_audio/y2mate.com - Subtracting 1 vs subtracting 10  Addition and subtraction within 100  2nd grade  Khan Academy_v720P.mp3\n"
     ]
    },
    {
     "name": "stderr",
     "output_type": "stream",
     "text": [
      "chunk:  42%|████▏     | 4143/9969 [03:08<00:02, 2338.91it/s, now=None]"
     ]
    },
    {
     "name": "stdout",
     "output_type": "stream",
     "text": [
      "MoviePy - Done.\n"
     ]
    },
    {
     "name": "stderr",
     "output_type": "stream",
     "text": [
      "chunk:  42%|████▏     | 4143/9969 [03:08<00:02, 2338.91it/s, now=None]"
     ]
    },
    {
     "name": "stdout",
     "output_type": "stream",
     "text": [
      "Converting: y2mate.com - Subtracting 14  6  Addition and subtraction within 20  Early Math  Khan Academy_720pFH.mp4 -> ./khan_audio/y2mate.com - Subtracting 14  6  Addition and subtraction within 20  Early Math  Khan Academy_720pFH.mp3\n",
      "MoviePy - Writing audio in ./khan_audio/y2mate.com - Subtracting 14  6  Addition and subtraction within 20  Early Math  Khan Academy_720pFH.mp3\n"
     ]
    },
    {
     "name": "stderr",
     "output_type": "stream",
     "text": [
      "chunk:  42%|████▏     | 4143/9969 [03:09<00:02, 2338.91it/s, now=None]"
     ]
    },
    {
     "name": "stdout",
     "output_type": "stream",
     "text": [
      "MoviePy - Done.\n"
     ]
    },
    {
     "name": "stderr",
     "output_type": "stream",
     "text": [
      "chunk:  42%|████▏     | 4143/9969 [03:10<00:02, 2338.91it/s, now=None]"
     ]
    },
    {
     "name": "stdout",
     "output_type": "stream",
     "text": [
      "Converting: y2mate.com - Subtracting multi digit numbers with regrouping_720pFH.mp4 -> ./khan_audio/y2mate.com - Subtracting multi digit numbers with regrouping_720pFH.mp3\n",
      "MoviePy - Writing audio in ./khan_audio/y2mate.com - Subtracting multi digit numbers with regrouping_720pFH.mp3\n"
     ]
    },
    {
     "name": "stderr",
     "output_type": "stream",
     "text": [
      "chunk:  42%|████▏     | 4143/9969 [03:12<00:02, 2338.91it/s, now=None]"
     ]
    },
    {
     "name": "stdout",
     "output_type": "stream",
     "text": [
      "MoviePy - Done.\n"
     ]
    },
    {
     "name": "stderr",
     "output_type": "stream",
     "text": [
      "chunk:  42%|████▏     | 4143/9969 [03:12<00:02, 2338.91it/s, now=None]"
     ]
    },
    {
     "name": "stdout",
     "output_type": "stream",
     "text": [
      "Converting: y2mate.com - Subtracting with a number line_v720P.mp4 -> ./khan_audio/y2mate.com - Subtracting with a number line_v720P.mp3\n",
      "MoviePy - Writing audio in ./khan_audio/y2mate.com - Subtracting with a number line_v720P.mp3\n"
     ]
    },
    {
     "name": "stderr",
     "output_type": "stream",
     "text": [
      "chunk:  42%|████▏     | 4143/9969 [03:12<00:02, 2338.91it/s, now=None]"
     ]
    },
    {
     "name": "stdout",
     "output_type": "stream",
     "text": [
      "MoviePy - Done.\n"
     ]
    },
    {
     "name": "stderr",
     "output_type": "stream",
     "text": [
      "chunk:  42%|████▏     | 4143/9969 [03:13<00:02, 2338.91it/s, now=None]"
     ]
    },
    {
     "name": "stdout",
     "output_type": "stream",
     "text": [
      "Converting: y2mate.com - Subtraction using place value blocks_v720P.mp4 -> ./khan_audio/y2mate.com - Subtraction using place value blocks_v720P.mp3\n",
      "MoviePy - Writing audio in ./khan_audio/y2mate.com - Subtraction using place value blocks_v720P.mp3\n"
     ]
    },
    {
     "name": "stderr",
     "output_type": "stream",
     "text": [
      "chunk:  42%|████▏     | 4143/9969 [03:13<00:02, 2338.91it/s, now=None]"
     ]
    },
    {
     "name": "stdout",
     "output_type": "stream",
     "text": [
      "MoviePy - Done.\n"
     ]
    },
    {
     "name": "stderr",
     "output_type": "stream",
     "text": [
      "chunk:  42%|████▏     | 4143/9969 [03:13<00:02, 2338.91it/s, now=None]"
     ]
    },
    {
     "name": "stdout",
     "output_type": "stream",
     "text": [
      "Converting: y2mate.com - Subtraction with ten frames_v720P.mp4 -> ./khan_audio/y2mate.com - Subtraction with ten frames_v720P.mp3\n",
      "MoviePy - Writing audio in ./khan_audio/y2mate.com - Subtraction with ten frames_v720P.mp3\n"
     ]
    },
    {
     "name": "stderr",
     "output_type": "stream",
     "text": [
      "chunk:  42%|████▏     | 4143/9969 [03:14<00:02, 2338.91it/s, now=None]"
     ]
    },
    {
     "name": "stdout",
     "output_type": "stream",
     "text": [
      "MoviePy - Done.\n"
     ]
    },
    {
     "name": "stderr",
     "output_type": "stream",
     "text": [
      "chunk:  42%|████▏     | 4143/9969 [03:14<00:02, 2338.91it/s, now=None]"
     ]
    },
    {
     "name": "stdout",
     "output_type": "stream",
     "text": [
      "Converting: y2mate.com - Subtraction word problems within 10  Basic addition and subtraction  Early Math  Khan Academy_v720P.mp4 -> ./khan_audio/y2mate.com - Subtraction word problems within 10  Basic addition and subtraction  Early Math  Khan Academy_v720P.mp3\n",
      "MoviePy - Writing audio in ./khan_audio/y2mate.com - Subtraction word problems within 10  Basic addition and subtraction  Early Math  Khan Academy_v720P.mp3\n"
     ]
    },
    {
     "name": "stderr",
     "output_type": "stream",
     "text": [
      "chunk:  42%|████▏     | 4143/9969 [03:15<00:02, 2338.91it/s, now=None]"
     ]
    },
    {
     "name": "stdout",
     "output_type": "stream",
     "text": [
      "MoviePy - Done.\n"
     ]
    },
    {
     "name": "stderr",
     "output_type": "stream",
     "text": [
      "chunk:  42%|████▏     | 4143/9969 [03:15<00:02, 2338.91it/s, now=None]"
     ]
    },
    {
     "name": "stdout",
     "output_type": "stream",
     "text": [
      "Converting: y2mate.com - Teens as sums with 10  Place value tens and hundreds  Early Math  Khan Academy_v720P.mp4 -> ./khan_audio/y2mate.com - Teens as sums with 10  Place value tens and hundreds  Early Math  Khan Academy_v720P.mp3\n",
      "MoviePy - Writing audio in ./khan_audio/y2mate.com - Teens as sums with 10  Place value tens and hundreds  Early Math  Khan Academy_v720P.mp3\n"
     ]
    },
    {
     "name": "stderr",
     "output_type": "stream",
     "text": [
      "chunk:  42%|████▏     | 4143/9969 [03:16<00:02, 2338.91it/s, now=None]"
     ]
    },
    {
     "name": "stdout",
     "output_type": "stream",
     "text": [
      "MoviePy - Done.\n",
      "Converting: y2mate.com - Time word problem puzzle  Math  3rd grade  Khan Academy_v720P.mp4 -> ./khan_audio/y2mate.com - Time word problem puzzle  Math  3rd grade  Khan Academy_v720P.mp3\n"
     ]
    },
    {
     "name": "stderr",
     "output_type": "stream",
     "text": [
      "chunk:  42%|████▏     | 4143/9969 [03:16<00:02, 2338.91it/s, now=None]"
     ]
    },
    {
     "name": "stdout",
     "output_type": "stream",
     "text": [
      "MoviePy - Writing audio in ./khan_audio/y2mate.com - Time word problem puzzle  Math  3rd grade  Khan Academy_v720P.mp3\n"
     ]
    },
    {
     "name": "stderr",
     "output_type": "stream",
     "text": [
      "chunk:  42%|████▏     | 4143/9969 [03:17<00:02, 2338.91it/s, now=None]"
     ]
    },
    {
     "name": "stdout",
     "output_type": "stream",
     "text": [
      "MoviePy - Done.\n"
     ]
    },
    {
     "name": "stderr",
     "output_type": "stream",
     "text": [
      "chunk:  42%|████▏     | 4143/9969 [03:17<00:02, 2338.91it/s, now=None]"
     ]
    },
    {
     "name": "stdout",
     "output_type": "stream",
     "text": [
      "Converting: y2mate.com - Transformations  dilation_720pFH.mp4 -> ./khan_audio/y2mate.com - Transformations  dilation_720pFH.mp3\n",
      "MoviePy - Writing audio in ./khan_audio/y2mate.com - Transformations  dilation_720pFH.mp3\n"
     ]
    },
    {
     "name": "stderr",
     "output_type": "stream",
     "text": [
      "chunk:  42%|████▏     | 4143/9969 [03:18<00:02, 2338.91it/s, now=None]"
     ]
    },
    {
     "name": "stdout",
     "output_type": "stream",
     "text": [
      "MoviePy - Done.\n"
     ]
    },
    {
     "name": "stderr",
     "output_type": "stream",
     "text": [
      "chunk:  42%|████▏     | 4143/9969 [03:18<00:02, 2338.91it/s, now=None]"
     ]
    },
    {
     "name": "stdout",
     "output_type": "stream",
     "text": [
      "Converting: y2mate.com - Understanding place value when adding ones  Early Math  Khan Academy_720pFH.mp4 -> ./khan_audio/y2mate.com - Understanding place value when adding ones  Early Math  Khan Academy_720pFH.mp3\n",
      "MoviePy - Writing audio in ./khan_audio/y2mate.com - Understanding place value when adding ones  Early Math  Khan Academy_720pFH.mp3\n"
     ]
    },
    {
     "name": "stderr",
     "output_type": "stream",
     "text": [
      "chunk:  42%|████▏     | 4143/9969 [03:19<00:02, 2338.91it/s, now=None]"
     ]
    },
    {
     "name": "stdout",
     "output_type": "stream",
     "text": [
      "MoviePy - Done.\n"
     ]
    },
    {
     "name": "stderr",
     "output_type": "stream",
     "text": [
      "chunk:  42%|████▏     | 4143/9969 [03:19<00:02, 2338.91it/s, now=None]"
     ]
    },
    {
     "name": "stdout",
     "output_type": "stream",
     "text": [
      "Converting: y2mate.com - Understanding place value when subtracting tens  Early Math  Khan Academy_v720P.mp4 -> ./khan_audio/y2mate.com - Understanding place value when subtracting tens  Early Math  Khan Academy_v720P.mp3\n",
      "MoviePy - Writing audio in ./khan_audio/y2mate.com - Understanding place value when subtracting tens  Early Math  Khan Academy_v720P.mp3\n"
     ]
    },
    {
     "name": "stderr",
     "output_type": "stream",
     "text": [
      "chunk:  42%|████▏     | 4143/9969 [03:20<00:02, 2338.91it/s, now=None]"
     ]
    },
    {
     "name": "stdout",
     "output_type": "stream",
     "text": [
      "MoviePy - Done.\n"
     ]
    },
    {
     "name": "stderr",
     "output_type": "stream",
     "text": [
      "chunk:  42%|████▏     | 4143/9969 [03:21<00:02, 2338.91it/s, now=None]"
     ]
    },
    {
     "name": "stdout",
     "output_type": "stream",
     "text": [
      "Converting: y2mate.com - Understanding place value while subtracting ones  Early Math  Khan Academy_v720P.mp4 -> ./khan_audio/y2mate.com - Understanding place value while subtracting ones  Early Math  Khan Academy_v720P.mp3\n",
      "MoviePy - Writing audio in ./khan_audio/y2mate.com - Understanding place value while subtracting ones  Early Math  Khan Academy_v720P.mp3\n"
     ]
    },
    {
     "name": "stderr",
     "output_type": "stream",
     "text": [
      "chunk:  42%|████▏     | 4143/9969 [03:22<00:02, 2338.91it/s, now=None]"
     ]
    },
    {
     "name": "stdout",
     "output_type": "stream",
     "text": [
      "MoviePy - Done.\n"
     ]
    },
    {
     "name": "stderr",
     "output_type": "stream",
     "text": [
      "chunk:  42%|████▏     | 4143/9969 [03:22<00:02, 2338.91it/s, now=None]"
     ]
    },
    {
     "name": "stdout",
     "output_type": "stream",
     "text": [
      "Converting: y2mate.com - Why a negative times a negative is a positive  PreAlgebra  Khan Academy_720pFH.mp4 -> ./khan_audio/y2mate.com - Why a negative times a negative is a positive  PreAlgebra  Khan Academy_720pFH.mp3\n",
      "MoviePy - Writing audio in ./khan_audio/y2mate.com - Why a negative times a negative is a positive  PreAlgebra  Khan Academy_720pFH.mp3\n"
     ]
    },
    {
     "name": "stderr",
     "output_type": "stream",
     "text": [
      "chunk:  42%|████▏     | 4143/9969 [03:24<00:02, 2338.91it/s, now=None]"
     ]
    },
    {
     "name": "stdout",
     "output_type": "stream",
     "text": [
      "MoviePy - Done.\n",
      "All video files have been converted to audio!\n"
     ]
    }
   ],
   "source": [
    "import os\n",
    "from moviepy.editor import VideoFileClip\n",
    "\n",
    "# 비디오 파일이 있는 폴더 경로\n",
    "video_folder_path = \"./khan_academy_kids/\"\n",
    "\n",
    "# 오디오 파일을 저장할 폴더 경로\n",
    "audio_output_folder_path = \"./khan_audio/\"\n",
    "\n",
    "# 오디오 파일을 저장할 폴더가 없으면 생성\n",
    "if not os.path.exists(audio_output_folder_path):\n",
    "    os.makedirs(audio_output_folder_path)\n",
    "\n",
    "# 비디오 폴더 내 모든 파일을 가져오기\n",
    "for filename in os.listdir(video_folder_path):\n",
    "    # 확장자가 비디오 파일인지 확인 (여기서는 .mp4 기준)\n",
    "    if filename.endswith(\".mp4\"):\n",
    "        video_path = os.path.join(video_folder_path, filename)\n",
    "        audio_output_path = os.path.join(\n",
    "            audio_output_folder_path, f\"{os.path.splitext(filename)[0]}.mp3\"\n",
    "        )\n",
    "\n",
    "        # 비디오 파일 불러오기\n",
    "        video_clip = VideoFileClip(video_path)\n",
    "\n",
    "        # 비디오에서 오디오 추출\n",
    "        audio_clip = video_clip.audio\n",
    "\n",
    "        # 오디오 파일로 저장\n",
    "        print(f\"Converting: {filename} -> {audio_output_path}\")\n",
    "        audio_clip.write_audiofile(audio_output_path)\n",
    "\n",
    "        # 리소스 해제\n",
    "        audio_clip.close()\n",
    "        video_clip.close()\n",
    "\n",
    "print(\"All video files have been converted to audio!\")"
   ]
  },
  {
   "cell_type": "code",
   "execution_count": null,
   "metadata": {},
   "outputs": [],
   "source": [
    "# 비디오 파일 경로\n",
    "video_path = (\n",
    "    \"./ebs_video/y2mate.com - 초등 수학 개념잡기  01강 네자리수와 큰 수001_360P.mp4\"\n",
    ")\n",
    "# 저장할 오디오 파일 경로\n",
    "audio_output_path = \"./ebs_audio/big.mp3\"\n",
    "\n",
    "# 비디오 파일 불러오기\n",
    "video_clip = VideoFileClip(video_path)\n",
    "\n",
    "# 비디오에서 오디오 추출\n",
    "audio_clip = video_clip.audio\n",
    "\n",
    "# 오디오 파일로 저장\n",
    "audio_clip.write_audiofile(audio_output_path)\n",
    "\n",
    "# 리소스 해제\n",
    "audio_clip.close()\n",
    "video_clip.close()"
   ]
  },
  {
   "cell_type": "code",
   "execution_count": 11,
   "metadata": {},
   "outputs": [
    {
     "name": "stderr",
     "output_type": "stream",
     "text": [
      "chunk:  42%|████▏     | 4143/9969 [07:31<00:02, 2338.91it/s, now=None]"
     ]
    },
    {
     "name": "stdout",
     "output_type": "stream",
     "text": [
      "MoviePy - Writing audio in chunk_0_30.mp3\n"
     ]
    },
    {
     "name": "stderr",
     "output_type": "stream",
     "text": [
      "chunk:  42%|████▏     | 4143/9969 [07:32<00:02, 2338.91it/s, now=None]"
     ]
    },
    {
     "name": "stdout",
     "output_type": "stream",
     "text": [
      "MoviePy - Done.\n",
      "MoviePy - Writing audio in chunk_30_60.mp3\n"
     ]
    },
    {
     "name": "stderr",
     "output_type": "stream",
     "text": [
      "chunk:  42%|████▏     | 4143/9969 [07:32<00:02, 2338.91it/s, now=None]"
     ]
    },
    {
     "name": "stdout",
     "output_type": "stream",
     "text": [
      "MoviePy - Done.\n",
      "MoviePy - Writing audio in chunk_60_90.mp3\n"
     ]
    },
    {
     "name": "stderr",
     "output_type": "stream",
     "text": [
      "chunk:  42%|████▏     | 4143/9969 [07:32<00:02, 2338.91it/s, now=None]"
     ]
    },
    {
     "name": "stdout",
     "output_type": "stream",
     "text": [
      "MoviePy - Done.\n",
      "MoviePy - Writing audio in chunk_90_120.mp3\n"
     ]
    },
    {
     "name": "stderr",
     "output_type": "stream",
     "text": [
      "chunk:  42%|████▏     | 4143/9969 [07:32<00:02, 2338.91it/s, now=None]"
     ]
    },
    {
     "name": "stdout",
     "output_type": "stream",
     "text": [
      "MoviePy - Done.\n",
      "MoviePy - Writing audio in chunk_120_122.mp3\n"
     ]
    },
    {
     "name": "stderr",
     "output_type": "stream",
     "text": [
      "chunk:  42%|████▏     | 4143/9969 [07:32<00:02, 2338.91it/s, now=None]"
     ]
    },
    {
     "name": "stdout",
     "output_type": "stream",
     "text": [
      "MoviePy - Done.\n"
     ]
    },
    {
     "name": "stderr",
     "output_type": "stream",
     "text": [
      "chunk:  42%|████▏     | 4143/9969 [07:53<00:02, 2338.91it/s, now=None]"
     ]
    },
    {
     "name": "stdout",
     "output_type": "stream",
     "text": [
      "Saved transcription to ./khan_text/Video_ Comparing numbers of objects.txt\n",
      "MoviePy - Writing audio in chunk_0_30.mp3\n"
     ]
    },
    {
     "name": "stderr",
     "output_type": "stream",
     "text": [
      "chunk:  42%|████▏     | 4143/9969 [07:53<00:02, 2338.91it/s, now=None]"
     ]
    },
    {
     "name": "stdout",
     "output_type": "stream",
     "text": [
      "MoviePy - Done.\n",
      "MoviePy - Writing audio in chunk_30_60.mp3\n"
     ]
    },
    {
     "name": "stderr",
     "output_type": "stream",
     "text": [
      "chunk:  42%|████▏     | 4143/9969 [07:54<00:02, 2338.91it/s, now=None]"
     ]
    },
    {
     "name": "stdout",
     "output_type": "stream",
     "text": [
      "MoviePy - Done.\n",
      "MoviePy - Writing audio in chunk_60_90.mp3\n"
     ]
    },
    {
     "name": "stderr",
     "output_type": "stream",
     "text": [
      "chunk:  42%|████▏     | 4143/9969 [07:54<00:02, 2338.91it/s, now=None]"
     ]
    },
    {
     "name": "stdout",
     "output_type": "stream",
     "text": [
      "MoviePy - Done.\n"
     ]
    },
    {
     "name": "stderr",
     "output_type": "stream",
     "text": [
      "chunk:  42%|████▏     | 4143/9969 [08:21<00:02, 2338.91it/s, now=None]"
     ]
    },
    {
     "name": "stdout",
     "output_type": "stream",
     "text": [
      "Saved transcription to ./khan_text/Video_ Comparing numbers on the number line.txt\n",
      "MoviePy - Writing audio in chunk_0_30.mp3\n"
     ]
    },
    {
     "name": "stderr",
     "output_type": "stream",
     "text": [
      "chunk:  42%|████▏     | 4143/9969 [08:21<00:02, 2338.91it/s, now=None]"
     ]
    },
    {
     "name": "stdout",
     "output_type": "stream",
     "text": [
      "MoviePy - Done.\n",
      "MoviePy - Writing audio in chunk_30_43.mp3\n"
     ]
    },
    {
     "name": "stderr",
     "output_type": "stream",
     "text": [
      "chunk:  42%|████▏     | 4143/9969 [08:22<00:02, 2338.91it/s, now=None]"
     ]
    },
    {
     "name": "stdout",
     "output_type": "stream",
     "text": [
      "MoviePy - Done.\n"
     ]
    },
    {
     "name": "stderr",
     "output_type": "stream",
     "text": [
      "chunk:  42%|████▏     | 4143/9969 [08:37<00:02, 2338.91it/s, now=None]"
     ]
    },
    {
     "name": "stdout",
     "output_type": "stream",
     "text": [
      "Saved transcription to ./khan_text/Video_ Counting by category.txt\n",
      "MoviePy - Writing audio in chunk_0_30.mp3\n"
     ]
    },
    {
     "name": "stderr",
     "output_type": "stream",
     "text": [
      "chunk:  42%|████▏     | 4143/9969 [08:38<00:02, 2338.91it/s, now=None]"
     ]
    },
    {
     "name": "stdout",
     "output_type": "stream",
     "text": [
      "MoviePy - Done.\n",
      "MoviePy - Writing audio in chunk_30_60.mp3\n"
     ]
    },
    {
     "name": "stderr",
     "output_type": "stream",
     "text": [
      "chunk:  42%|████▏     | 4143/9969 [08:38<00:02, 2338.91it/s, now=None]"
     ]
    },
    {
     "name": "stdout",
     "output_type": "stream",
     "text": [
      "MoviePy - Done.\n",
      "MoviePy - Writing audio in chunk_60_72.mp3\n"
     ]
    },
    {
     "name": "stderr",
     "output_type": "stream",
     "text": [
      "chunk:  42%|████▏     | 4143/9969 [08:38<00:02, 2338.91it/s, now=None]"
     ]
    },
    {
     "name": "stdout",
     "output_type": "stream",
     "text": [
      "MoviePy - Done.\n"
     ]
    },
    {
     "name": "stderr",
     "output_type": "stream",
     "text": [
      "chunk:  42%|████▏     | 4143/9969 [09:06<00:02, 2338.91it/s, now=None]"
     ]
    },
    {
     "name": "stdout",
     "output_type": "stream",
     "text": [
      "Saved transcription to ./khan_text/Video_ Counting in pictures.txt\n",
      "MoviePy - Writing audio in chunk_0_30.mp3\n"
     ]
    },
    {
     "name": "stderr",
     "output_type": "stream",
     "text": [
      "chunk:  42%|████▏     | 4143/9969 [09:07<00:02, 2338.91it/s, now=None]"
     ]
    },
    {
     "name": "stdout",
     "output_type": "stream",
     "text": [
      "MoviePy - Done.\n",
      "MoviePy - Writing audio in chunk_30_60.mp3\n"
     ]
    },
    {
     "name": "stderr",
     "output_type": "stream",
     "text": [
      "chunk:  42%|████▏     | 4143/9969 [09:07<00:02, 2338.91it/s, now=None]"
     ]
    },
    {
     "name": "stdout",
     "output_type": "stream",
     "text": [
      "MoviePy - Done.\n",
      "MoviePy - Writing audio in chunk_60_62.mp3\n"
     ]
    },
    {
     "name": "stderr",
     "output_type": "stream",
     "text": [
      "chunk:  42%|████▏     | 4143/9969 [09:07<00:02, 2338.91it/s, now=None]"
     ]
    },
    {
     "name": "stdout",
     "output_type": "stream",
     "text": [
      "MoviePy - Done.\n"
     ]
    },
    {
     "name": "stderr",
     "output_type": "stream",
     "text": [
      "chunk:  42%|████▏     | 4143/9969 [09:19<00:02, 2338.91it/s, now=None]"
     ]
    },
    {
     "name": "stdout",
     "output_type": "stream",
     "text": [
      "Saved transcription to ./khan_text/Video_ Counting objects 1.txt\n",
      "MoviePy - Writing audio in chunk_0_30.mp3\n"
     ]
    },
    {
     "name": "stderr",
     "output_type": "stream",
     "text": [
      "chunk:  42%|████▏     | 4143/9969 [09:19<00:02, 2338.91it/s, now=None]"
     ]
    },
    {
     "name": "stdout",
     "output_type": "stream",
     "text": [
      "MoviePy - Done.\n",
      "MoviePy - Writing audio in chunk_30_60.mp3\n"
     ]
    },
    {
     "name": "stderr",
     "output_type": "stream",
     "text": [
      "chunk:  42%|████▏     | 4143/9969 [09:19<00:02, 2338.91it/s, now=None]"
     ]
    },
    {
     "name": "stdout",
     "output_type": "stream",
     "text": [
      "MoviePy - Done.\n",
      "MoviePy - Writing audio in chunk_60_90.mp3\n"
     ]
    },
    {
     "name": "stderr",
     "output_type": "stream",
     "text": [
      "chunk:  42%|████▏     | 4143/9969 [09:20<00:02, 2338.91it/s, now=None]"
     ]
    },
    {
     "name": "stdout",
     "output_type": "stream",
     "text": [
      "MoviePy - Done.\n",
      "MoviePy - Writing audio in chunk_90_104.mp3\n"
     ]
    },
    {
     "name": "stderr",
     "output_type": "stream",
     "text": [
      "chunk:  42%|████▏     | 4143/9969 [09:20<00:02, 2338.91it/s, now=None]"
     ]
    },
    {
     "name": "stdout",
     "output_type": "stream",
     "text": [
      "MoviePy - Done.\n"
     ]
    },
    {
     "name": "stderr",
     "output_type": "stream",
     "text": [
      "chunk:  42%|████▏     | 4143/9969 [09:38<00:02, 2338.91it/s, now=None]"
     ]
    },
    {
     "name": "stdout",
     "output_type": "stream",
     "text": [
      "Saved transcription to ./khan_text/Video_ Counting objects 2.txt\n",
      "MoviePy - Writing audio in chunk_0_30.mp3\n"
     ]
    },
    {
     "name": "stderr",
     "output_type": "stream",
     "text": [
      "chunk:  42%|████▏     | 4143/9969 [09:39<00:02, 2338.91it/s, now=None]"
     ]
    },
    {
     "name": "stdout",
     "output_type": "stream",
     "text": [
      "MoviePy - Done.\n",
      "MoviePy - Writing audio in chunk_30_60.mp3\n"
     ]
    },
    {
     "name": "stderr",
     "output_type": "stream",
     "text": [
      "chunk:  42%|████▏     | 4143/9969 [09:39<00:02, 2338.91it/s, now=None]"
     ]
    },
    {
     "name": "stdout",
     "output_type": "stream",
     "text": [
      "MoviePy - Done.\n",
      "MoviePy - Writing audio in chunk_60_90.mp3\n"
     ]
    },
    {
     "name": "stderr",
     "output_type": "stream",
     "text": [
      "chunk:  42%|████▏     | 4143/9969 [09:39<00:02, 2338.91it/s, now=None]"
     ]
    },
    {
     "name": "stdout",
     "output_type": "stream",
     "text": [
      "MoviePy - Done.\n",
      "MoviePy - Writing audio in chunk_90_120.mp3\n"
     ]
    },
    {
     "name": "stderr",
     "output_type": "stream",
     "text": [
      "chunk:  42%|████▏     | 4143/9969 [09:39<00:02, 2338.91it/s, now=None]"
     ]
    },
    {
     "name": "stdout",
     "output_type": "stream",
     "text": [
      "MoviePy - Done.\n",
      "MoviePy - Writing audio in chunk_120_136.mp3\n"
     ]
    },
    {
     "name": "stderr",
     "output_type": "stream",
     "text": [
      "chunk:  42%|████▏     | 4143/9969 [09:40<00:02, 2338.91it/s, now=None]"
     ]
    },
    {
     "name": "stdout",
     "output_type": "stream",
     "text": [
      "MoviePy - Done.\n"
     ]
    },
    {
     "name": "stderr",
     "output_type": "stream",
     "text": [
      "chunk:  42%|████▏     | 4143/9969 [10:04<00:02, 2338.91it/s, now=None]"
     ]
    },
    {
     "name": "stdout",
     "output_type": "stream",
     "text": [
      "Saved transcription to ./khan_text/y2mate.com - Adding 1 vs adding 10  Addition and subtraction  1st grade  Khan Academy_v720P.txt\n",
      "MoviePy - Writing audio in chunk_0_30.mp3\n"
     ]
    },
    {
     "name": "stderr",
     "output_type": "stream",
     "text": [
      "chunk:  42%|████▏     | 4143/9969 [10:04<00:02, 2338.91it/s, now=None]"
     ]
    },
    {
     "name": "stdout",
     "output_type": "stream",
     "text": [
      "MoviePy - Done.\n",
      "MoviePy - Writing audio in chunk_30_60.mp3\n"
     ]
    },
    {
     "name": "stderr",
     "output_type": "stream",
     "text": [
      "chunk:  42%|████▏     | 4143/9969 [10:04<00:02, 2338.91it/s, now=None]"
     ]
    },
    {
     "name": "stdout",
     "output_type": "stream",
     "text": [
      "MoviePy - Done.\n",
      "MoviePy - Writing audio in chunk_60_90.mp3\n"
     ]
    },
    {
     "name": "stderr",
     "output_type": "stream",
     "text": [
      "chunk:  42%|████▏     | 4143/9969 [10:05<00:02, 2338.91it/s, now=None]"
     ]
    },
    {
     "name": "stdout",
     "output_type": "stream",
     "text": [
      "MoviePy - Done.\n",
      "MoviePy - Writing audio in chunk_90_120.mp3\n"
     ]
    },
    {
     "name": "stderr",
     "output_type": "stream",
     "text": [
      "chunk:  42%|████▏     | 4143/9969 [10:05<00:02, 2338.91it/s, now=None]"
     ]
    },
    {
     "name": "stdout",
     "output_type": "stream",
     "text": [
      "MoviePy - Done.\n",
      "MoviePy - Writing audio in chunk_120_150.mp3\n"
     ]
    },
    {
     "name": "stderr",
     "output_type": "stream",
     "text": [
      "chunk:  42%|████▏     | 4143/9969 [10:05<00:02, 2338.91it/s, now=None]"
     ]
    },
    {
     "name": "stdout",
     "output_type": "stream",
     "text": [
      "MoviePy - Done.\n",
      "MoviePy - Writing audio in chunk_150_157.mp3\n"
     ]
    },
    {
     "name": "stderr",
     "output_type": "stream",
     "text": [
      "chunk:  42%|████▏     | 4143/9969 [10:05<00:02, 2338.91it/s, now=None]"
     ]
    },
    {
     "name": "stdout",
     "output_type": "stream",
     "text": [
      "MoviePy - Done.\n"
     ]
    },
    {
     "name": "stderr",
     "output_type": "stream",
     "text": [
      "chunk:  42%|████▏     | 4143/9969 [10:33<00:02, 2338.91it/s, now=None]"
     ]
    },
    {
     "name": "stdout",
     "output_type": "stream",
     "text": [
      "Saved transcription to ./khan_text/y2mate.com - Adding 5  3  6  Addition and subtraction within 20  Early Math  Khan Academy_720pFH.txt\n",
      "MoviePy - Writing audio in chunk_0_30.mp3\n"
     ]
    },
    {
     "name": "stderr",
     "output_type": "stream",
     "text": [
      "chunk:  42%|████▏     | 4143/9969 [10:33<00:02, 2338.91it/s, now=None]"
     ]
    },
    {
     "name": "stdout",
     "output_type": "stream",
     "text": [
      "MoviePy - Done.\n",
      "MoviePy - Writing audio in chunk_30_60.mp3\n"
     ]
    },
    {
     "name": "stderr",
     "output_type": "stream",
     "text": [
      "chunk:  42%|████▏     | 4143/9969 [10:34<00:02, 2338.91it/s, now=None]"
     ]
    },
    {
     "name": "stdout",
     "output_type": "stream",
     "text": [
      "MoviePy - Done.\n",
      "MoviePy - Writing audio in chunk_60_90.mp3\n"
     ]
    },
    {
     "name": "stderr",
     "output_type": "stream",
     "text": [
      "chunk:  42%|████▏     | 4143/9969 [10:34<00:02, 2338.91it/s, now=None]"
     ]
    },
    {
     "name": "stdout",
     "output_type": "stream",
     "text": [
      "MoviePy - Done.\n",
      "MoviePy - Writing audio in chunk_90_120.mp3\n"
     ]
    },
    {
     "name": "stderr",
     "output_type": "stream",
     "text": [
      "chunk:  42%|████▏     | 4143/9969 [10:34<00:02, 2338.91it/s, now=None]"
     ]
    },
    {
     "name": "stdout",
     "output_type": "stream",
     "text": [
      "MoviePy - Done.\n",
      "MoviePy - Writing audio in chunk_120_150.mp3\n"
     ]
    },
    {
     "name": "stderr",
     "output_type": "stream",
     "text": [
      "chunk:  42%|████▏     | 4143/9969 [10:34<00:02, 2338.91it/s, now=None]"
     ]
    },
    {
     "name": "stdout",
     "output_type": "stream",
     "text": [
      "MoviePy - Done.\n",
      "MoviePy - Writing audio in chunk_150_180.mp3\n"
     ]
    },
    {
     "name": "stderr",
     "output_type": "stream",
     "text": [
      "chunk:  42%|████▏     | 4143/9969 [10:35<00:02, 2338.91it/s, now=None]"
     ]
    },
    {
     "name": "stdout",
     "output_type": "stream",
     "text": [
      "MoviePy - Done.\n",
      "MoviePy - Writing audio in chunk_180_210.mp3\n"
     ]
    },
    {
     "name": "stderr",
     "output_type": "stream",
     "text": [
      "chunk:  42%|████▏     | 4143/9969 [10:35<00:02, 2338.91it/s, now=None]"
     ]
    },
    {
     "name": "stdout",
     "output_type": "stream",
     "text": [
      "MoviePy - Done.\n",
      "MoviePy - Writing audio in chunk_210_232.mp3\n"
     ]
    },
    {
     "name": "stderr",
     "output_type": "stream",
     "text": [
      "chunk:  42%|████▏     | 4143/9969 [10:35<00:02, 2338.91it/s, now=None]"
     ]
    },
    {
     "name": "stdout",
     "output_type": "stream",
     "text": [
      "MoviePy - Done.\n"
     ]
    },
    {
     "name": "stderr",
     "output_type": "stream",
     "text": [
      "chunk:  42%|████▏     | 4143/9969 [11:29<00:02, 2338.91it/s, now=None]"
     ]
    },
    {
     "name": "stdout",
     "output_type": "stream",
     "text": [
      "Saved transcription to ./khan_text/y2mate.com - Adding 7  6  Addition and subtraction within 20  Early Math  Khan Academy_720pFH.txt\n",
      "MoviePy - Writing audio in chunk_0_30.mp3\n"
     ]
    },
    {
     "name": "stderr",
     "output_type": "stream",
     "text": [
      "chunk:  42%|████▏     | 4143/9969 [11:30<00:02, 2338.91it/s, now=None]"
     ]
    },
    {
     "name": "stdout",
     "output_type": "stream",
     "text": [
      "MoviePy - Done.\n",
      "MoviePy - Writing audio in chunk_30_60.mp3\n"
     ]
    },
    {
     "name": "stderr",
     "output_type": "stream",
     "text": [
      "chunk:  42%|████▏     | 4143/9969 [11:30<00:02, 2338.91it/s, now=None]"
     ]
    },
    {
     "name": "stdout",
     "output_type": "stream",
     "text": [
      "MoviePy - Done.\n",
      "MoviePy - Writing audio in chunk_60_90.mp3\n"
     ]
    },
    {
     "name": "stderr",
     "output_type": "stream",
     "text": [
      "chunk:  42%|████▏     | 4143/9969 [11:30<00:02, 2338.91it/s, now=None]"
     ]
    },
    {
     "name": "stdout",
     "output_type": "stream",
     "text": [
      "MoviePy - Done.\n",
      "MoviePy - Writing audio in chunk_90_120.mp3\n"
     ]
    },
    {
     "name": "stderr",
     "output_type": "stream",
     "text": [
      "chunk:  42%|████▏     | 4143/9969 [11:31<00:02, 2338.91it/s, now=None]"
     ]
    },
    {
     "name": "stdout",
     "output_type": "stream",
     "text": [
      "MoviePy - Done.\n",
      "MoviePy - Writing audio in chunk_120_150.mp3\n"
     ]
    },
    {
     "name": "stderr",
     "output_type": "stream",
     "text": [
      "chunk:  42%|████▏     | 4143/9969 [11:31<00:02, 2338.91it/s, now=None]"
     ]
    },
    {
     "name": "stdout",
     "output_type": "stream",
     "text": [
      "MoviePy - Done.\n",
      "MoviePy - Writing audio in chunk_150_180.mp3\n"
     ]
    },
    {
     "name": "stderr",
     "output_type": "stream",
     "text": [
      "chunk:  42%|████▏     | 4143/9969 [11:31<00:02, 2338.91it/s, now=None]"
     ]
    },
    {
     "name": "stdout",
     "output_type": "stream",
     "text": [
      "MoviePy - Done.\n",
      "MoviePy - Writing audio in chunk_180_198.mp3\n"
     ]
    },
    {
     "name": "stderr",
     "output_type": "stream",
     "text": [
      "chunk:  42%|████▏     | 4143/9969 [11:32<00:02, 2338.91it/s, now=None]"
     ]
    },
    {
     "name": "stdout",
     "output_type": "stream",
     "text": [
      "MoviePy - Done.\n"
     ]
    },
    {
     "name": "stderr",
     "output_type": "stream",
     "text": [
      "chunk:  42%|████▏     | 4143/9969 [12:47<00:02, 2338.91it/s, now=None]"
     ]
    },
    {
     "name": "stdout",
     "output_type": "stream",
     "text": [
      "Saved transcription to ./khan_text/y2mate.com - Adding 8  7  Addition and subtraction within 20  Early Math  Khan Academy_720pFH.txt\n",
      "MoviePy - Writing audio in chunk_0_30.mp3\n"
     ]
    },
    {
     "name": "stderr",
     "output_type": "stream",
     "text": [
      "chunk:  42%|████▏     | 4143/9969 [12:47<00:02, 2338.91it/s, now=None]"
     ]
    },
    {
     "name": "stdout",
     "output_type": "stream",
     "text": [
      "MoviePy - Done.\n",
      "MoviePy - Writing audio in chunk_30_60.mp3\n"
     ]
    },
    {
     "name": "stderr",
     "output_type": "stream",
     "text": [
      "chunk:  42%|████▏     | 4143/9969 [12:48<00:02, 2338.91it/s, now=None]"
     ]
    },
    {
     "name": "stdout",
     "output_type": "stream",
     "text": [
      "MoviePy - Done.\n",
      "MoviePy - Writing audio in chunk_60_90.mp3\n"
     ]
    },
    {
     "name": "stderr",
     "output_type": "stream",
     "text": [
      "chunk:  42%|████▏     | 4143/9969 [12:48<00:02, 2338.91it/s, now=None]"
     ]
    },
    {
     "name": "stdout",
     "output_type": "stream",
     "text": [
      "MoviePy - Done.\n",
      "MoviePy - Writing audio in chunk_90_119.mp3\n"
     ]
    },
    {
     "name": "stderr",
     "output_type": "stream",
     "text": [
      "chunk:  42%|████▏     | 4143/9969 [12:49<00:02, 2338.91it/s, now=None]"
     ]
    },
    {
     "name": "stdout",
     "output_type": "stream",
     "text": [
      "MoviePy - Done.\n"
     ]
    },
    {
     "name": "stderr",
     "output_type": "stream",
     "text": [
      "chunk:  42%|████▏     | 4143/9969 [13:32<00:02, 2338.91it/s, now=None]"
     ]
    },
    {
     "name": "stdout",
     "output_type": "stream",
     "text": [
      "Saved transcription to ./khan_text/y2mate.com - Adding to 10  Basic addition and subtraction  Early Math  Khan Academy_v720P.txt\n",
      "MoviePy - Writing audio in chunk_0_30.mp3\n"
     ]
    },
    {
     "name": "stderr",
     "output_type": "stream",
     "text": [
      "chunk:  42%|████▏     | 4143/9969 [13:33<00:02, 2338.91it/s, now=None]"
     ]
    },
    {
     "name": "stdout",
     "output_type": "stream",
     "text": [
      "MoviePy - Done.\n",
      "MoviePy - Writing audio in chunk_30_60.mp3\n"
     ]
    },
    {
     "name": "stderr",
     "output_type": "stream",
     "text": [
      "chunk:  42%|████▏     | 4143/9969 [13:33<00:02, 2338.91it/s, now=None]"
     ]
    },
    {
     "name": "stdout",
     "output_type": "stream",
     "text": [
      "MoviePy - Done.\n",
      "MoviePy - Writing audio in chunk_60_90.mp3\n"
     ]
    },
    {
     "name": "stderr",
     "output_type": "stream",
     "text": [
      "chunk:  42%|████▏     | 4143/9969 [13:34<00:02, 2338.91it/s, now=None]"
     ]
    },
    {
     "name": "stdout",
     "output_type": "stream",
     "text": [
      "MoviePy - Done.\n",
      "MoviePy - Writing audio in chunk_90_113.mp3\n"
     ]
    },
    {
     "name": "stderr",
     "output_type": "stream",
     "text": [
      "chunk:  42%|████▏     | 4143/9969 [13:34<00:02, 2338.91it/s, now=None]"
     ]
    },
    {
     "name": "stdout",
     "output_type": "stream",
     "text": [
      "MoviePy - Done.\n"
     ]
    },
    {
     "name": "stderr",
     "output_type": "stream",
     "text": [
      "chunk:  42%|████▏     | 4143/9969 [14:18<00:02, 2338.91it/s, now=None]"
     ]
    },
    {
     "name": "stdout",
     "output_type": "stream",
     "text": [
      "Saved transcription to ./khan_text/y2mate.com - Adding with arrays_v720P.txt\n",
      "MoviePy - Writing audio in chunk_0_30.mp3\n"
     ]
    },
    {
     "name": "stderr",
     "output_type": "stream",
     "text": [
      "chunk:  42%|████▏     | 4143/9969 [14:18<00:02, 2338.91it/s, now=None]"
     ]
    },
    {
     "name": "stdout",
     "output_type": "stream",
     "text": [
      "MoviePy - Done.\n",
      "MoviePy - Writing audio in chunk_30_60.mp3\n"
     ]
    },
    {
     "name": "stderr",
     "output_type": "stream",
     "text": [
      "chunk:  42%|████▏     | 4143/9969 [14:18<00:02, 2338.91it/s, now=None]"
     ]
    },
    {
     "name": "stdout",
     "output_type": "stream",
     "text": [
      "MoviePy - Done.\n",
      "MoviePy - Writing audio in chunk_60_83.mp3\n"
     ]
    },
    {
     "name": "stderr",
     "output_type": "stream",
     "text": [
      "chunk:  42%|████▏     | 4143/9969 [14:19<00:02, 2338.91it/s, now=None]"
     ]
    },
    {
     "name": "stdout",
     "output_type": "stream",
     "text": [
      "MoviePy - Done.\n"
     ]
    },
    {
     "name": "stderr",
     "output_type": "stream",
     "text": [
      "chunk:  42%|████▏     | 4143/9969 [14:53<00:02, 2338.91it/s, now=None]"
     ]
    },
    {
     "name": "stdout",
     "output_type": "stream",
     "text": [
      "Saved transcription to ./khan_text/y2mate.com - Adding with place value blocks_v720P.txt\n",
      "MoviePy - Writing audio in chunk_0_30.mp3\n"
     ]
    },
    {
     "name": "stderr",
     "output_type": "stream",
     "text": [
      "chunk:  42%|████▏     | 4143/9969 [14:54<00:02, 2338.91it/s, now=None]"
     ]
    },
    {
     "name": "stdout",
     "output_type": "stream",
     "text": [
      "MoviePy - Done.\n",
      "MoviePy - Writing audio in chunk_30_60.mp3\n"
     ]
    },
    {
     "name": "stderr",
     "output_type": "stream",
     "text": [
      "chunk:  42%|████▏     | 4143/9969 [14:54<00:02, 2338.91it/s, now=None]"
     ]
    },
    {
     "name": "stdout",
     "output_type": "stream",
     "text": [
      "MoviePy - Done.\n",
      "MoviePy - Writing audio in chunk_60_90.mp3\n"
     ]
    },
    {
     "name": "stderr",
     "output_type": "stream",
     "text": [
      "chunk:  42%|████▏     | 4143/9969 [14:54<00:02, 2338.91it/s, now=None]"
     ]
    },
    {
     "name": "stdout",
     "output_type": "stream",
     "text": [
      "MoviePy - Done.\n",
      "MoviePy - Writing audio in chunk_90_120.mp3\n"
     ]
    },
    {
     "name": "stderr",
     "output_type": "stream",
     "text": [
      "chunk:  42%|████▏     | 4143/9969 [14:55<00:02, 2338.91it/s, now=None]"
     ]
    },
    {
     "name": "stdout",
     "output_type": "stream",
     "text": [
      "MoviePy - Done.\n",
      "MoviePy - Writing audio in chunk_120_134.mp3\n"
     ]
    },
    {
     "name": "stderr",
     "output_type": "stream",
     "text": [
      "chunk:  42%|████▏     | 4143/9969 [14:55<00:02, 2338.91it/s, now=None]"
     ]
    },
    {
     "name": "stdout",
     "output_type": "stream",
     "text": [
      "MoviePy - Done.\n"
     ]
    },
    {
     "name": "stderr",
     "output_type": "stream",
     "text": [
      "chunk:  42%|████▏     | 4143/9969 [15:44<00:02, 2338.91it/s, now=None]"
     ]
    },
    {
     "name": "stdout",
     "output_type": "stream",
     "text": [
      "Saved transcription to ./khan_text/y2mate.com - Addition and subtraction within 10  Basic addition and subtraction  Early Math  Khan Academy_v720P.txt\n",
      "MoviePy - Writing audio in chunk_0_30.mp3\n"
     ]
    },
    {
     "name": "stderr",
     "output_type": "stream",
     "text": [
      "chunk:  42%|████▏     | 4143/9969 [15:45<00:02, 2338.91it/s, now=None]"
     ]
    },
    {
     "name": "stdout",
     "output_type": "stream",
     "text": [
      "MoviePy - Done.\n",
      "MoviePy - Writing audio in chunk_30_60.mp3\n"
     ]
    },
    {
     "name": "stderr",
     "output_type": "stream",
     "text": [
      "chunk:  42%|████▏     | 4143/9969 [15:45<00:02, 2338.91it/s, now=None]"
     ]
    },
    {
     "name": "stdout",
     "output_type": "stream",
     "text": [
      "MoviePy - Done.\n",
      "MoviePy - Writing audio in chunk_60_90.mp3\n"
     ]
    },
    {
     "name": "stderr",
     "output_type": "stream",
     "text": [
      "chunk:  42%|████▏     | 4143/9969 [15:46<00:02, 2338.91it/s, now=None]"
     ]
    },
    {
     "name": "stdout",
     "output_type": "stream",
     "text": [
      "MoviePy - Done.\n",
      "MoviePy - Writing audio in chunk_90_100.mp3\n"
     ]
    },
    {
     "name": "stderr",
     "output_type": "stream",
     "text": [
      "chunk:  42%|████▏     | 4143/9969 [15:46<00:02, 2338.91it/s, now=None]"
     ]
    },
    {
     "name": "stdout",
     "output_type": "stream",
     "text": [
      "MoviePy - Done.\n"
     ]
    },
    {
     "name": "stderr",
     "output_type": "stream",
     "text": [
      "chunk:  42%|████▏     | 4143/9969 [16:04<00:02, 2338.91it/s, now=None]"
     ]
    },
    {
     "name": "stdout",
     "output_type": "stream",
     "text": [
      "Saved transcription to ./khan_text/y2mate.com - Addition based on arrays word problems_v720P.txt\n",
      "MoviePy - Writing audio in chunk_0_30.mp3\n"
     ]
    },
    {
     "name": "stderr",
     "output_type": "stream",
     "text": [
      "chunk:  42%|████▏     | 4143/9969 [16:04<00:02, 2338.91it/s, now=None]"
     ]
    },
    {
     "name": "stdout",
     "output_type": "stream",
     "text": [
      "MoviePy - Done.\n",
      "MoviePy - Writing audio in chunk_30_60.mp3\n"
     ]
    },
    {
     "name": "stderr",
     "output_type": "stream",
     "text": [
      "chunk:  42%|████▏     | 4143/9969 [16:04<00:02, 2338.91it/s, now=None]"
     ]
    },
    {
     "name": "stdout",
     "output_type": "stream",
     "text": [
      "MoviePy - Done.\n",
      "MoviePy - Writing audio in chunk_60_90.mp3\n"
     ]
    },
    {
     "name": "stderr",
     "output_type": "stream",
     "text": [
      "chunk:  42%|████▏     | 4143/9969 [16:05<00:02, 2338.91it/s, now=None]"
     ]
    },
    {
     "name": "stdout",
     "output_type": "stream",
     "text": [
      "MoviePy - Done.\n",
      "MoviePy - Writing audio in chunk_90_120.mp3\n"
     ]
    },
    {
     "name": "stderr",
     "output_type": "stream",
     "text": [
      "chunk:  42%|████▏     | 4143/9969 [16:05<00:02, 2338.91it/s, now=None]"
     ]
    },
    {
     "name": "stdout",
     "output_type": "stream",
     "text": [
      "MoviePy - Done.\n",
      "MoviePy - Writing audio in chunk_120_150.mp3\n"
     ]
    },
    {
     "name": "stderr",
     "output_type": "stream",
     "text": [
      "chunk:  42%|████▏     | 4143/9969 [16:05<00:02, 2338.91it/s, now=None]"
     ]
    },
    {
     "name": "stdout",
     "output_type": "stream",
     "text": [
      "MoviePy - Done.\n",
      "MoviePy - Writing audio in chunk_150_157.mp3\n"
     ]
    },
    {
     "name": "stderr",
     "output_type": "stream",
     "text": [
      "chunk:  42%|████▏     | 4143/9969 [16:05<00:02, 2338.91it/s, now=None]"
     ]
    },
    {
     "name": "stdout",
     "output_type": "stream",
     "text": [
      "MoviePy - Done.\n"
     ]
    },
    {
     "name": "stderr",
     "output_type": "stream",
     "text": [
      "chunk:  42%|████▏     | 4143/9969 [16:33<00:02, 2338.91it/s, now=None]"
     ]
    },
    {
     "name": "stdout",
     "output_type": "stream",
     "text": [
      "Saved transcription to ./khan_text/y2mate.com - Addition with 10 frames_v720P.txt\n",
      "MoviePy - Writing audio in chunk_0_30.mp3\n"
     ]
    },
    {
     "name": "stderr",
     "output_type": "stream",
     "text": [
      "chunk:  42%|████▏     | 4143/9969 [16:33<00:02, 2338.91it/s, now=None]"
     ]
    },
    {
     "name": "stdout",
     "output_type": "stream",
     "text": [
      "MoviePy - Done.\n",
      "MoviePy - Writing audio in chunk_30_60.mp3\n"
     ]
    },
    {
     "name": "stderr",
     "output_type": "stream",
     "text": [
      "chunk:  42%|████▏     | 4143/9969 [16:34<00:02, 2338.91it/s, now=None]"
     ]
    },
    {
     "name": "stdout",
     "output_type": "stream",
     "text": [
      "MoviePy - Done.\n",
      "MoviePy - Writing audio in chunk_60_90.mp3\n"
     ]
    },
    {
     "name": "stderr",
     "output_type": "stream",
     "text": [
      "chunk:  42%|████▏     | 4143/9969 [16:34<00:02, 2338.91it/s, now=None]"
     ]
    },
    {
     "name": "stdout",
     "output_type": "stream",
     "text": [
      "MoviePy - Done.\n",
      "MoviePy - Writing audio in chunk_90_101.mp3\n"
     ]
    },
    {
     "name": "stderr",
     "output_type": "stream",
     "text": [
      "chunk:  42%|████▏     | 4143/9969 [16:34<00:02, 2338.91it/s, now=None]"
     ]
    },
    {
     "name": "stdout",
     "output_type": "stream",
     "text": [
      "MoviePy - Done.\n"
     ]
    },
    {
     "name": "stderr",
     "output_type": "stream",
     "text": [
      "chunk:  42%|████▏     | 4143/9969 [17:06<00:02, 2338.91it/s, now=None]"
     ]
    },
    {
     "name": "stdout",
     "output_type": "stream",
     "text": [
      "Saved transcription to ./khan_text/y2mate.com - Addition word problems within 10  Basic addition and subtraction  Early Math  Khan Academy_v720P.txt\n",
      "MoviePy - Writing audio in chunk_0_30.mp3\n"
     ]
    },
    {
     "name": "stderr",
     "output_type": "stream",
     "text": [
      "chunk:  42%|████▏     | 4143/9969 [17:06<00:02, 2338.91it/s, now=None]"
     ]
    },
    {
     "name": "stdout",
     "output_type": "stream",
     "text": [
      "MoviePy - Done.\n",
      "MoviePy - Writing audio in chunk_30_60.mp3\n"
     ]
    },
    {
     "name": "stderr",
     "output_type": "stream",
     "text": [
      "chunk:  42%|████▏     | 4143/9969 [17:07<00:02, 2338.91it/s, now=None]"
     ]
    },
    {
     "name": "stdout",
     "output_type": "stream",
     "text": [
      "MoviePy - Done.\n",
      "MoviePy - Writing audio in chunk_60_90.mp3\n"
     ]
    },
    {
     "name": "stderr",
     "output_type": "stream",
     "text": [
      "chunk:  42%|████▏     | 4143/9969 [17:07<00:02, 2338.91it/s, now=None]"
     ]
    },
    {
     "name": "stdout",
     "output_type": "stream",
     "text": [
      "MoviePy - Done.\n",
      "MoviePy - Writing audio in chunk_90_120.mp3\n"
     ]
    },
    {
     "name": "stderr",
     "output_type": "stream",
     "text": [
      "chunk:  42%|████▏     | 4143/9969 [17:07<00:02, 2338.91it/s, now=None]"
     ]
    },
    {
     "name": "stdout",
     "output_type": "stream",
     "text": [
      "MoviePy - Done.\n",
      "MoviePy - Writing audio in chunk_120_124.mp3\n"
     ]
    },
    {
     "name": "stderr",
     "output_type": "stream",
     "text": [
      "chunk:  42%|████▏     | 4143/9969 [17:08<00:02, 2338.91it/s, now=None]"
     ]
    },
    {
     "name": "stdout",
     "output_type": "stream",
     "text": [
      "MoviePy - Done.\n"
     ]
    },
    {
     "name": "stderr",
     "output_type": "stream",
     "text": [
      "chunk:  42%|████▏     | 4143/9969 [17:57<00:02, 2338.91it/s, now=None]"
     ]
    },
    {
     "name": "stdout",
     "output_type": "stream",
     "text": [
      "Saved transcription to ./khan_text/y2mate.com - Comparing whole numbers  Place value tens and hundreds  Early Math  Khan Academy_v720P.txt\n",
      "MoviePy - Writing audio in chunk_0_30.mp3\n"
     ]
    },
    {
     "name": "stderr",
     "output_type": "stream",
     "text": [
      "chunk:  42%|████▏     | 4143/9969 [17:58<00:02, 2338.91it/s, now=None]"
     ]
    },
    {
     "name": "stdout",
     "output_type": "stream",
     "text": [
      "MoviePy - Done.\n",
      "MoviePy - Writing audio in chunk_30_60.mp3\n"
     ]
    },
    {
     "name": "stderr",
     "output_type": "stream",
     "text": [
      "chunk:  42%|████▏     | 4143/9969 [17:58<00:02, 2338.91it/s, now=None]"
     ]
    },
    {
     "name": "stdout",
     "output_type": "stream",
     "text": [
      "MoviePy - Done.\n",
      "MoviePy - Writing audio in chunk_60_90.mp3\n"
     ]
    },
    {
     "name": "stderr",
     "output_type": "stream",
     "text": [
      "chunk:  42%|████▏     | 4143/9969 [17:58<00:02, 2338.91it/s, now=None]"
     ]
    },
    {
     "name": "stdout",
     "output_type": "stream",
     "text": [
      "MoviePy - Done.\n",
      "MoviePy - Writing audio in chunk_90_120.mp3\n"
     ]
    },
    {
     "name": "stderr",
     "output_type": "stream",
     "text": [
      "chunk:  42%|████▏     | 4143/9969 [17:59<00:02, 2338.91it/s, now=None]"
     ]
    },
    {
     "name": "stdout",
     "output_type": "stream",
     "text": [
      "MoviePy - Done.\n",
      "MoviePy - Writing audio in chunk_120_150.mp3\n"
     ]
    },
    {
     "name": "stderr",
     "output_type": "stream",
     "text": [
      "chunk:  42%|████▏     | 4143/9969 [17:59<00:02, 2338.91it/s, now=None]"
     ]
    },
    {
     "name": "stdout",
     "output_type": "stream",
     "text": [
      "MoviePy - Done.\n",
      "MoviePy - Writing audio in chunk_150_180.mp3\n"
     ]
    },
    {
     "name": "stderr",
     "output_type": "stream",
     "text": [
      "chunk:  42%|████▏     | 4143/9969 [17:59<00:02, 2338.91it/s, now=None]"
     ]
    },
    {
     "name": "stdout",
     "output_type": "stream",
     "text": [
      "MoviePy - Done.\n",
      "MoviePy - Writing audio in chunk_180_202.mp3\n"
     ]
    },
    {
     "name": "stderr",
     "output_type": "stream",
     "text": [
      "chunk:  42%|████▏     | 4143/9969 [17:59<00:02, 2338.91it/s, now=None]"
     ]
    },
    {
     "name": "stdout",
     "output_type": "stream",
     "text": [
      "MoviePy - Done.\n"
     ]
    },
    {
     "name": "stderr",
     "output_type": "stream",
     "text": [
      "chunk:  42%|████▏     | 4143/9969 [19:15<00:02, 2338.91it/s, now=None]"
     ]
    },
    {
     "name": "stdout",
     "output_type": "stream",
     "text": [
      "Saved transcription to ./khan_text/y2mate.com - Comparison word problems  Addition and subtraction within 20  Early Math  Khan Academy_720pFH.txt\n",
      "MoviePy - Writing audio in chunk_0_30.mp3\n"
     ]
    },
    {
     "name": "stderr",
     "output_type": "stream",
     "text": [
      "chunk:  42%|████▏     | 4143/9969 [19:15<00:02, 2338.91it/s, now=None]"
     ]
    },
    {
     "name": "stdout",
     "output_type": "stream",
     "text": [
      "MoviePy - Done.\n",
      "MoviePy - Writing audio in chunk_30_60.mp3\n"
     ]
    },
    {
     "name": "stderr",
     "output_type": "stream",
     "text": [
      "chunk:  42%|████▏     | 4143/9969 [19:16<00:02, 2338.91it/s, now=None]"
     ]
    },
    {
     "name": "stdout",
     "output_type": "stream",
     "text": [
      "MoviePy - Done.\n",
      "MoviePy - Writing audio in chunk_60_90.mp3\n"
     ]
    },
    {
     "name": "stderr",
     "output_type": "stream",
     "text": [
      "chunk:  42%|████▏     | 4143/9969 [19:16<00:02, 2338.91it/s, now=None]"
     ]
    },
    {
     "name": "stdout",
     "output_type": "stream",
     "text": [
      "MoviePy - Done.\n",
      "MoviePy - Writing audio in chunk_90_120.mp3\n"
     ]
    },
    {
     "name": "stderr",
     "output_type": "stream",
     "text": [
      "chunk:  42%|████▏     | 4143/9969 [19:16<00:02, 2338.91it/s, now=None]"
     ]
    },
    {
     "name": "stdout",
     "output_type": "stream",
     "text": [
      "MoviePy - Done.\n",
      "MoviePy - Writing audio in chunk_120_150.mp3\n"
     ]
    },
    {
     "name": "stderr",
     "output_type": "stream",
     "text": [
      "chunk:  42%|████▏     | 4143/9969 [19:17<00:02, 2338.91it/s, now=None]"
     ]
    },
    {
     "name": "stdout",
     "output_type": "stream",
     "text": [
      "MoviePy - Done.\n",
      "MoviePy - Writing audio in chunk_150_180.mp3\n"
     ]
    },
    {
     "name": "stderr",
     "output_type": "stream",
     "text": [
      "chunk:  42%|████▏     | 4143/9969 [19:17<00:02, 2338.91it/s, now=None]"
     ]
    },
    {
     "name": "stdout",
     "output_type": "stream",
     "text": [
      "MoviePy - Done.\n",
      "MoviePy - Writing audio in chunk_180_193.mp3\n"
     ]
    },
    {
     "name": "stderr",
     "output_type": "stream",
     "text": [
      "chunk:  42%|████▏     | 4143/9969 [19:17<00:02, 2338.91it/s, now=None]"
     ]
    },
    {
     "name": "stdout",
     "output_type": "stream",
     "text": [
      "MoviePy - Done.\n"
     ]
    },
    {
     "name": "stderr",
     "output_type": "stream",
     "text": [
      "chunk:  42%|████▏     | 4143/9969 [20:37<00:02, 2338.91it/s, now=None]"
     ]
    },
    {
     "name": "stdout",
     "output_type": "stream",
     "text": [
      "Saved transcription to ./khan_text/y2mate.com - Comparison word problems rolypolies  Addition and subtraction  1st grade  Khan Academy_v720P.txt\n",
      "MoviePy - Writing audio in chunk_0_30.mp3\n"
     ]
    },
    {
     "name": "stderr",
     "output_type": "stream",
     "text": [
      "chunk:  42%|████▏     | 4143/9969 [20:37<00:02, 2338.91it/s, now=None]"
     ]
    },
    {
     "name": "stdout",
     "output_type": "stream",
     "text": [
      "MoviePy - Done.\n",
      "MoviePy - Writing audio in chunk_30_60.mp3\n"
     ]
    },
    {
     "name": "stderr",
     "output_type": "stream",
     "text": [
      "chunk:  42%|████▏     | 4143/9969 [20:37<00:02, 2338.91it/s, now=None]"
     ]
    },
    {
     "name": "stdout",
     "output_type": "stream",
     "text": [
      "MoviePy - Done.\n",
      "MoviePy - Writing audio in chunk_60_90.mp3\n"
     ]
    },
    {
     "name": "stderr",
     "output_type": "stream",
     "text": [
      "chunk:  42%|████▏     | 4143/9969 [20:38<00:02, 2338.91it/s, now=None]"
     ]
    },
    {
     "name": "stdout",
     "output_type": "stream",
     "text": [
      "MoviePy - Done.\n",
      "MoviePy - Writing audio in chunk_90_120.mp3\n"
     ]
    },
    {
     "name": "stderr",
     "output_type": "stream",
     "text": [
      "chunk:  42%|████▏     | 4143/9969 [20:38<00:02, 2338.91it/s, now=None]"
     ]
    },
    {
     "name": "stdout",
     "output_type": "stream",
     "text": [
      "MoviePy - Done.\n",
      "MoviePy - Writing audio in chunk_120_150.mp3\n"
     ]
    },
    {
     "name": "stderr",
     "output_type": "stream",
     "text": [
      "chunk:  42%|████▏     | 4143/9969 [20:38<00:02, 2338.91it/s, now=None]"
     ]
    },
    {
     "name": "stdout",
     "output_type": "stream",
     "text": [
      "MoviePy - Done.\n",
      "MoviePy - Writing audio in chunk_150_151.mp3\n"
     ]
    },
    {
     "name": "stderr",
     "output_type": "stream",
     "text": [
      "chunk:  42%|████▏     | 4143/9969 [20:39<00:02, 2338.91it/s, now=None]"
     ]
    },
    {
     "name": "stdout",
     "output_type": "stream",
     "text": [
      "MoviePy - Done.\n"
     ]
    },
    {
     "name": "stderr",
     "output_type": "stream",
     "text": [
      "chunk:  42%|████▏     | 4143/9969 [21:40<00:02, 2338.91it/s, now=None]"
     ]
    },
    {
     "name": "stdout",
     "output_type": "stream",
     "text": [
      "Saved transcription to ./khan_text/y2mate.com - Constructing a scatter plot  Regression  Probability and Statistics  Khan Academy_720pFH.txt\n",
      "MoviePy - Writing audio in chunk_0_30.mp3\n"
     ]
    },
    {
     "name": "stderr",
     "output_type": "stream",
     "text": [
      "chunk:  42%|████▏     | 4143/9969 [21:40<00:02, 2338.91it/s, now=None]"
     ]
    },
    {
     "name": "stdout",
     "output_type": "stream",
     "text": [
      "MoviePy - Done.\n",
      "MoviePy - Writing audio in chunk_30_60.mp3\n"
     ]
    },
    {
     "name": "stderr",
     "output_type": "stream",
     "text": [
      "chunk:  42%|████▏     | 4143/9969 [21:41<00:02, 2338.91it/s, now=None]"
     ]
    },
    {
     "name": "stdout",
     "output_type": "stream",
     "text": [
      "MoviePy - Done.\n",
      "MoviePy - Writing audio in chunk_60_90.mp3\n"
     ]
    },
    {
     "name": "stderr",
     "output_type": "stream",
     "text": [
      "chunk:  42%|████▏     | 4143/9969 [21:41<00:02, 2338.91it/s, now=None]"
     ]
    },
    {
     "name": "stdout",
     "output_type": "stream",
     "text": [
      "MoviePy - Done.\n",
      "MoviePy - Writing audio in chunk_90_120.mp3\n"
     ]
    },
    {
     "name": "stderr",
     "output_type": "stream",
     "text": [
      "chunk:  42%|████▏     | 4143/9969 [21:41<00:02, 2338.91it/s, now=None]"
     ]
    },
    {
     "name": "stdout",
     "output_type": "stream",
     "text": [
      "MoviePy - Done.\n",
      "MoviePy - Writing audio in chunk_120_150.mp3\n"
     ]
    },
    {
     "name": "stderr",
     "output_type": "stream",
     "text": [
      "chunk:  42%|████▏     | 4143/9969 [21:42<00:02, 2338.91it/s, now=None]"
     ]
    },
    {
     "name": "stdout",
     "output_type": "stream",
     "text": [
      "MoviePy - Done.\n",
      "MoviePy - Writing audio in chunk_150_180.mp3\n"
     ]
    },
    {
     "name": "stderr",
     "output_type": "stream",
     "text": [
      "chunk:  42%|████▏     | 4143/9969 [21:42<00:02, 2338.91it/s, now=None]"
     ]
    },
    {
     "name": "stdout",
     "output_type": "stream",
     "text": [
      "MoviePy - Done.\n",
      "MoviePy - Writing audio in chunk_180_210.mp3\n"
     ]
    },
    {
     "name": "stderr",
     "output_type": "stream",
     "text": [
      "chunk:  42%|████▏     | 4143/9969 [21:42<00:02, 2338.91it/s, now=None]"
     ]
    },
    {
     "name": "stdout",
     "output_type": "stream",
     "text": [
      "MoviePy - Done.\n",
      "MoviePy - Writing audio in chunk_210_240.mp3\n"
     ]
    },
    {
     "name": "stderr",
     "output_type": "stream",
     "text": [
      "chunk:  42%|████▏     | 4143/9969 [21:43<00:02, 2338.91it/s, now=None]"
     ]
    },
    {
     "name": "stdout",
     "output_type": "stream",
     "text": [
      "MoviePy - Done.\n",
      "MoviePy - Writing audio in chunk_240_242.mp3\n"
     ]
    },
    {
     "name": "stderr",
     "output_type": "stream",
     "text": [
      "chunk:  42%|████▏     | 4143/9969 [21:43<00:02, 2338.91it/s, now=None]"
     ]
    },
    {
     "name": "stdout",
     "output_type": "stream",
     "text": [
      "MoviePy - Done.\n"
     ]
    },
    {
     "name": "stderr",
     "output_type": "stream",
     "text": [
      "chunk:  42%|████▏     | 4143/9969 [23:27<00:02, 2338.91it/s, now=None]"
     ]
    },
    {
     "name": "stdout",
     "output_type": "stream",
     "text": [
      "Saved transcription to ./khan_text/y2mate.com - Converting repeating decimals to fractions 1  Linear equations  Algebra I  Khan Academy_720pFH.txt\n",
      "MoviePy - Writing audio in chunk_0_30.mp3\n"
     ]
    },
    {
     "name": "stderr",
     "output_type": "stream",
     "text": [
      "chunk:  42%|████▏     | 4143/9969 [23:27<00:02, 2338.91it/s, now=None]"
     ]
    },
    {
     "name": "stdout",
     "output_type": "stream",
     "text": [
      "MoviePy - Done.\n",
      "MoviePy - Writing audio in chunk_30_60.mp3\n"
     ]
    },
    {
     "name": "stderr",
     "output_type": "stream",
     "text": [
      "chunk:  42%|████▏     | 4143/9969 [23:28<00:02, 2338.91it/s, now=None]"
     ]
    },
    {
     "name": "stdout",
     "output_type": "stream",
     "text": [
      "MoviePy - Done.\n",
      "MoviePy - Writing audio in chunk_60_90.mp3\n"
     ]
    },
    {
     "name": "stderr",
     "output_type": "stream",
     "text": [
      "chunk:  42%|████▏     | 4143/9969 [23:28<00:02, 2338.91it/s, now=None]"
     ]
    },
    {
     "name": "stdout",
     "output_type": "stream",
     "text": [
      "MoviePy - Done.\n",
      "MoviePy - Writing audio in chunk_90_120.mp3\n"
     ]
    },
    {
     "name": "stderr",
     "output_type": "stream",
     "text": [
      "chunk:  42%|████▏     | 4143/9969 [23:29<00:02, 2338.91it/s, now=None]"
     ]
    },
    {
     "name": "stdout",
     "output_type": "stream",
     "text": [
      "MoviePy - Done.\n",
      "MoviePy - Writing audio in chunk_120_127.mp3\n"
     ]
    },
    {
     "name": "stderr",
     "output_type": "stream",
     "text": [
      "chunk:  42%|████▏     | 4143/9969 [23:29<00:02, 2338.91it/s, now=None]"
     ]
    },
    {
     "name": "stdout",
     "output_type": "stream",
     "text": [
      "MoviePy - Done.\n"
     ]
    },
    {
     "name": "stderr",
     "output_type": "stream",
     "text": [
      "chunk:  42%|████▏     | 4143/9969 [24:26<00:02, 2338.91it/s, now=None]"
     ]
    },
    {
     "name": "stdout",
     "output_type": "stream",
     "text": [
      "Saved transcription to ./khan_text/y2mate.com - Coordinate plane plot ordered pairs  Negative numbers  6th grade  Khan Academy_v720P.txt\n",
      "MoviePy - Writing audio in chunk_0_30.mp3\n"
     ]
    },
    {
     "name": "stderr",
     "output_type": "stream",
     "text": [
      "chunk:  42%|████▏     | 4143/9969 [24:26<00:02, 2338.91it/s, now=None]"
     ]
    },
    {
     "name": "stdout",
     "output_type": "stream",
     "text": [
      "MoviePy - Done.\n",
      "MoviePy - Writing audio in chunk_30_60.mp3\n"
     ]
    },
    {
     "name": "stderr",
     "output_type": "stream",
     "text": [
      "chunk:  42%|████▏     | 4143/9969 [24:26<00:02, 2338.91it/s, now=None]"
     ]
    },
    {
     "name": "stdout",
     "output_type": "stream",
     "text": [
      "MoviePy - Done.\n",
      "MoviePy - Writing audio in chunk_60_90.mp3\n"
     ]
    },
    {
     "name": "stderr",
     "output_type": "stream",
     "text": [
      "chunk:  42%|████▏     | 4143/9969 [24:27<00:02, 2338.91it/s, now=None]"
     ]
    },
    {
     "name": "stdout",
     "output_type": "stream",
     "text": [
      "MoviePy - Done.\n",
      "MoviePy - Writing audio in chunk_90_120.mp3\n"
     ]
    },
    {
     "name": "stderr",
     "output_type": "stream",
     "text": [
      "chunk:  42%|████▏     | 4143/9969 [24:27<00:02, 2338.91it/s, now=None]"
     ]
    },
    {
     "name": "stdout",
     "output_type": "stream",
     "text": [
      "MoviePy - Done.\n",
      "MoviePy - Writing audio in chunk_120_150.mp3\n"
     ]
    },
    {
     "name": "stderr",
     "output_type": "stream",
     "text": [
      "chunk:  42%|████▏     | 4143/9969 [24:28<00:02, 2338.91it/s, now=None]"
     ]
    },
    {
     "name": "stdout",
     "output_type": "stream",
     "text": [
      "MoviePy - Done.\n",
      "MoviePy - Writing audio in chunk_150_174.mp3\n"
     ]
    },
    {
     "name": "stderr",
     "output_type": "stream",
     "text": [
      "chunk:  42%|████▏     | 4143/9969 [24:28<00:02, 2338.91it/s, now=None]"
     ]
    },
    {
     "name": "stdout",
     "output_type": "stream",
     "text": [
      "MoviePy - Done.\n"
     ]
    },
    {
     "name": "stderr",
     "output_type": "stream",
     "text": [
      "chunk:  42%|████▏     | 4143/9969 [25:35<00:02, 2338.91it/s, now=None]"
     ]
    },
    {
     "name": "stdout",
     "output_type": "stream",
     "text": [
      "Saved transcription to ./khan_text/y2mate.com - Corresponding points and sides of scaled shapes_720pFH.txt\n",
      "MoviePy - Writing audio in chunk_0_30.mp3\n"
     ]
    },
    {
     "name": "stderr",
     "output_type": "stream",
     "text": [
      "chunk:  42%|████▏     | 4143/9969 [25:35<00:02, 2338.91it/s, now=None]"
     ]
    },
    {
     "name": "stdout",
     "output_type": "stream",
     "text": [
      "MoviePy - Done.\n",
      "MoviePy - Writing audio in chunk_30_60.mp3\n"
     ]
    },
    {
     "name": "stderr",
     "output_type": "stream",
     "text": [
      "chunk:  42%|████▏     | 4143/9969 [25:35<00:02, 2338.91it/s, now=None]"
     ]
    },
    {
     "name": "stdout",
     "output_type": "stream",
     "text": [
      "MoviePy - Done.\n",
      "MoviePy - Writing audio in chunk_60_90.mp3\n"
     ]
    },
    {
     "name": "stderr",
     "output_type": "stream",
     "text": [
      "chunk:  42%|████▏     | 4143/9969 [25:36<00:02, 2338.91it/s, now=None]"
     ]
    },
    {
     "name": "stdout",
     "output_type": "stream",
     "text": [
      "MoviePy - Done.\n",
      "MoviePy - Writing audio in chunk_90_94.mp3\n"
     ]
    },
    {
     "name": "stderr",
     "output_type": "stream",
     "text": [
      "chunk:  42%|████▏     | 4143/9969 [25:36<00:02, 2338.91it/s, now=None]"
     ]
    },
    {
     "name": "stdout",
     "output_type": "stream",
     "text": [
      "MoviePy - Done.\n"
     ]
    },
    {
     "name": "stderr",
     "output_type": "stream",
     "text": [
      "chunk:  42%|████▏     | 4143/9969 [26:17<00:02, 2338.91it/s, now=None]"
     ]
    },
    {
     "name": "stdout",
     "output_type": "stream",
     "text": [
      "Saved transcription to ./khan_text/y2mate.com - Counting by tens  Counting  Early Math  Khan Academy_v720P.txt\n",
      "MoviePy - Writing audio in chunk_0_30.mp3\n"
     ]
    },
    {
     "name": "stderr",
     "output_type": "stream",
     "text": [
      "chunk:  42%|████▏     | 4143/9969 [26:18<00:02, 2338.91it/s, now=None]"
     ]
    },
    {
     "name": "stdout",
     "output_type": "stream",
     "text": [
      "MoviePy - Done.\n",
      "MoviePy - Writing audio in chunk_30_60.mp3\n"
     ]
    },
    {
     "name": "stderr",
     "output_type": "stream",
     "text": [
      "chunk:  42%|████▏     | 4143/9969 [26:18<00:02, 2338.91it/s, now=None]"
     ]
    },
    {
     "name": "stdout",
     "output_type": "stream",
     "text": [
      "MoviePy - Done.\n",
      "MoviePy - Writing audio in chunk_60_90.mp3\n"
     ]
    },
    {
     "name": "stderr",
     "output_type": "stream",
     "text": [
      "chunk:  42%|████▏     | 4143/9969 [26:18<00:02, 2338.91it/s, now=None]"
     ]
    },
    {
     "name": "stdout",
     "output_type": "stream",
     "text": [
      "MoviePy - Done.\n",
      "MoviePy - Writing audio in chunk_90_120.mp3\n"
     ]
    },
    {
     "name": "stderr",
     "output_type": "stream",
     "text": [
      "chunk:  42%|████▏     | 4143/9969 [26:19<00:02, 2338.91it/s, now=None]"
     ]
    },
    {
     "name": "stdout",
     "output_type": "stream",
     "text": [
      "MoviePy - Done.\n",
      "MoviePy - Writing audio in chunk_120_150.mp3\n"
     ]
    },
    {
     "name": "stderr",
     "output_type": "stream",
     "text": [
      "chunk:  42%|████▏     | 4143/9969 [26:19<00:02, 2338.91it/s, now=None]"
     ]
    },
    {
     "name": "stdout",
     "output_type": "stream",
     "text": [
      "MoviePy - Done.\n",
      "MoviePy - Writing audio in chunk_150_155.mp3\n"
     ]
    },
    {
     "name": "stderr",
     "output_type": "stream",
     "text": [
      "chunk:  42%|████▏     | 4143/9969 [26:19<00:02, 2338.91it/s, now=None]"
     ]
    },
    {
     "name": "stdout",
     "output_type": "stream",
     "text": [
      "MoviePy - Done.\n"
     ]
    },
    {
     "name": "stderr",
     "output_type": "stream",
     "text": [
      "chunk:  42%|████▏     | 4143/9969 [27:24<00:02, 2338.91it/s, now=None]"
     ]
    },
    {
     "name": "stdout",
     "output_type": "stream",
     "text": [
      "Saved transcription to ./khan_text/y2mate.com - Counting by tens examples  Addition and subtraction within 100  Early Math  Khan Academy_v720P.txt\n",
      "MoviePy - Writing audio in chunk_0_30.mp3\n"
     ]
    },
    {
     "name": "stderr",
     "output_type": "stream",
     "text": [
      "chunk:  42%|████▏     | 4143/9969 [27:25<00:02, 2338.91it/s, now=None]"
     ]
    },
    {
     "name": "stdout",
     "output_type": "stream",
     "text": [
      "MoviePy - Done.\n",
      "MoviePy - Writing audio in chunk_30_60.mp3\n"
     ]
    },
    {
     "name": "stderr",
     "output_type": "stream",
     "text": [
      "chunk:  42%|████▏     | 4143/9969 [27:25<00:02, 2338.91it/s, now=None]"
     ]
    },
    {
     "name": "stdout",
     "output_type": "stream",
     "text": [
      "MoviePy - Done.\n",
      "MoviePy - Writing audio in chunk_60_90.mp3\n"
     ]
    },
    {
     "name": "stderr",
     "output_type": "stream",
     "text": [
      "chunk:  42%|████▏     | 4143/9969 [27:25<00:02, 2338.91it/s, now=None]"
     ]
    },
    {
     "name": "stdout",
     "output_type": "stream",
     "text": [
      "MoviePy - Done.\n",
      "MoviePy - Writing audio in chunk_90_117.mp3\n"
     ]
    },
    {
     "name": "stderr",
     "output_type": "stream",
     "text": [
      "chunk:  42%|████▏     | 4143/9969 [27:26<00:02, 2338.91it/s, now=None]"
     ]
    },
    {
     "name": "stdout",
     "output_type": "stream",
     "text": [
      "MoviePy - Done.\n"
     ]
    },
    {
     "name": "stderr",
     "output_type": "stream",
     "text": [
      "chunk:  42%|████▏     | 4143/9969 [28:11<00:02, 2338.91it/s, now=None]"
     ]
    },
    {
     "name": "stdout",
     "output_type": "stream",
     "text": [
      "Saved transcription to ./khan_text/y2mate.com - Counting in order  Counting  Early Math  Khan Academy_720pFH.txt\n",
      "MoviePy - Writing audio in chunk_0_30.mp3\n"
     ]
    },
    {
     "name": "stderr",
     "output_type": "stream",
     "text": [
      "chunk:  42%|████▏     | 4143/9969 [28:12<00:02, 2338.91it/s, now=None]"
     ]
    },
    {
     "name": "stdout",
     "output_type": "stream",
     "text": [
      "MoviePy - Done.\n",
      "MoviePy - Writing audio in chunk_30_55.mp3\n"
     ]
    },
    {
     "name": "stderr",
     "output_type": "stream",
     "text": [
      "chunk:  42%|████▏     | 4143/9969 [28:12<00:02, 2338.91it/s, now=None]"
     ]
    },
    {
     "name": "stdout",
     "output_type": "stream",
     "text": [
      "MoviePy - Done.\n"
     ]
    },
    {
     "name": "stderr",
     "output_type": "stream",
     "text": [
      "chunk:  42%|████▏     | 4143/9969 [28:29<00:02, 2338.91it/s, now=None]"
     ]
    },
    {
     "name": "stdout",
     "output_type": "stream",
     "text": [
      "Saved transcription to ./khan_text/y2mate.com - Counting with small numbers  Counting  Early Math  Khan Academy_720pHF.txt\n",
      "MoviePy - Writing audio in chunk_0_30.mp3\n"
     ]
    },
    {
     "name": "stderr",
     "output_type": "stream",
     "text": [
      "chunk:  42%|████▏     | 4143/9969 [28:29<00:02, 2338.91it/s, now=None]"
     ]
    },
    {
     "name": "stdout",
     "output_type": "stream",
     "text": [
      "MoviePy - Done.\n",
      "MoviePy - Writing audio in chunk_30_60.mp3\n"
     ]
    },
    {
     "name": "stderr",
     "output_type": "stream",
     "text": [
      "chunk:  42%|████▏     | 4143/9969 [28:30<00:02, 2338.91it/s, now=None]"
     ]
    },
    {
     "name": "stdout",
     "output_type": "stream",
     "text": [
      "MoviePy - Done.\n",
      "MoviePy - Writing audio in chunk_60_90.mp3\n"
     ]
    },
    {
     "name": "stderr",
     "output_type": "stream",
     "text": [
      "chunk:  42%|████▏     | 4143/9969 [28:30<00:02, 2338.91it/s, now=None]"
     ]
    },
    {
     "name": "stdout",
     "output_type": "stream",
     "text": [
      "MoviePy - Done.\n",
      "MoviePy - Writing audio in chunk_90_120.mp3\n"
     ]
    },
    {
     "name": "stderr",
     "output_type": "stream",
     "text": [
      "chunk:  42%|████▏     | 4143/9969 [28:30<00:02, 2338.91it/s, now=None]"
     ]
    },
    {
     "name": "stdout",
     "output_type": "stream",
     "text": [
      "MoviePy - Done.\n",
      "MoviePy - Writing audio in chunk_120_150.mp3\n"
     ]
    },
    {
     "name": "stderr",
     "output_type": "stream",
     "text": [
      "chunk:  42%|████▏     | 4143/9969 [28:31<00:02, 2338.91it/s, now=None]"
     ]
    },
    {
     "name": "stdout",
     "output_type": "stream",
     "text": [
      "MoviePy - Done.\n",
      "MoviePy - Writing audio in chunk_150_180.mp3\n"
     ]
    },
    {
     "name": "stderr",
     "output_type": "stream",
     "text": [
      "chunk:  42%|████▏     | 4143/9969 [28:31<00:02, 2338.91it/s, now=None]"
     ]
    },
    {
     "name": "stdout",
     "output_type": "stream",
     "text": [
      "MoviePy - Done.\n",
      "MoviePy - Writing audio in chunk_180_184.mp3\n"
     ]
    },
    {
     "name": "stderr",
     "output_type": "stream",
     "text": [
      "chunk:  42%|████▏     | 4143/9969 [28:31<00:02, 2338.91it/s, now=None]"
     ]
    },
    {
     "name": "stdout",
     "output_type": "stream",
     "text": [
      "MoviePy - Done.\n"
     ]
    },
    {
     "name": "stderr",
     "output_type": "stream",
     "text": [
      "chunk:  42%|████▏     | 4143/9969 [29:21<00:02, 2338.91it/s, now=None]"
     ]
    },
    {
     "name": "stdout",
     "output_type": "stream",
     "text": [
      "Saved transcription to ./khan_text/y2mate.com - Decomposing angles  Math  4th grade  Khan Academy_v720P.txt\n",
      "MoviePy - Writing audio in chunk_0_30.mp3\n"
     ]
    },
    {
     "name": "stderr",
     "output_type": "stream",
     "text": [
      "chunk:  42%|████▏     | 4143/9969 [29:22<00:02, 2338.91it/s, now=None]"
     ]
    },
    {
     "name": "stdout",
     "output_type": "stream",
     "text": [
      "MoviePy - Done.\n",
      "MoviePy - Writing audio in chunk_30_60.mp3\n"
     ]
    },
    {
     "name": "stderr",
     "output_type": "stream",
     "text": [
      "chunk:  42%|████▏     | 4143/9969 [29:22<00:02, 2338.91it/s, now=None]"
     ]
    },
    {
     "name": "stdout",
     "output_type": "stream",
     "text": [
      "MoviePy - Done.\n",
      "MoviePy - Writing audio in chunk_60_90.mp3\n"
     ]
    },
    {
     "name": "stderr",
     "output_type": "stream",
     "text": [
      "chunk:  42%|████▏     | 4143/9969 [29:22<00:02, 2338.91it/s, now=None]"
     ]
    },
    {
     "name": "stdout",
     "output_type": "stream",
     "text": [
      "MoviePy - Done.\n",
      "MoviePy - Writing audio in chunk_90_120.mp3\n"
     ]
    },
    {
     "name": "stderr",
     "output_type": "stream",
     "text": [
      "chunk:  42%|████▏     | 4143/9969 [29:22<00:02, 2338.91it/s, now=None]"
     ]
    },
    {
     "name": "stdout",
     "output_type": "stream",
     "text": [
      "MoviePy - Done.\n",
      "MoviePy - Writing audio in chunk_120_150.mp3\n"
     ]
    },
    {
     "name": "stderr",
     "output_type": "stream",
     "text": [
      "chunk:  42%|████▏     | 4143/9969 [29:23<00:02, 2338.91it/s, now=None]"
     ]
    },
    {
     "name": "stdout",
     "output_type": "stream",
     "text": [
      "MoviePy - Done.\n",
      "MoviePy - Writing audio in chunk_150_180.mp3\n"
     ]
    },
    {
     "name": "stderr",
     "output_type": "stream",
     "text": [
      "chunk:  42%|████▏     | 4143/9969 [29:23<00:02, 2338.91it/s, now=None]"
     ]
    },
    {
     "name": "stdout",
     "output_type": "stream",
     "text": [
      "MoviePy - Done.\n",
      "MoviePy - Writing audio in chunk_180_210.mp3\n"
     ]
    },
    {
     "name": "stderr",
     "output_type": "stream",
     "text": [
      "chunk:  42%|████▏     | 4143/9969 [29:23<00:02, 2338.91it/s, now=None]"
     ]
    },
    {
     "name": "stdout",
     "output_type": "stream",
     "text": [
      "MoviePy - Done.\n",
      "MoviePy - Writing audio in chunk_210_240.mp3\n"
     ]
    },
    {
     "name": "stderr",
     "output_type": "stream",
     "text": [
      "chunk:  42%|████▏     | 4143/9969 [29:23<00:02, 2338.91it/s, now=None]"
     ]
    },
    {
     "name": "stdout",
     "output_type": "stream",
     "text": [
      "MoviePy - Done.\n",
      "MoviePy - Writing audio in chunk_240_270.mp3\n"
     ]
    },
    {
     "name": "stderr",
     "output_type": "stream",
     "text": [
      "chunk:  42%|████▏     | 4143/9969 [29:24<00:02, 2338.91it/s, now=None]"
     ]
    },
    {
     "name": "stdout",
     "output_type": "stream",
     "text": [
      "MoviePy - Done.\n",
      "MoviePy - Writing audio in chunk_270_295.mp3\n"
     ]
    },
    {
     "name": "stderr",
     "output_type": "stream",
     "text": [
      "chunk:  42%|████▏     | 4143/9969 [29:24<00:02, 2338.91it/s, now=None]"
     ]
    },
    {
     "name": "stdout",
     "output_type": "stream",
     "text": [
      "MoviePy - Done.\n"
     ]
    },
    {
     "name": "stderr",
     "output_type": "stream",
     "text": [
      "chunk:  42%|████▏     | 4143/9969 [30:10<00:02, 2338.91it/s, now=None]"
     ]
    },
    {
     "name": "stdout",
     "output_type": "stream",
     "text": [
      "Saved transcription to ./khan_text/y2mate.com - Equal sign  Addition and subtraction within 20  Early Math  Khan Academy_720p.txt\n",
      "MoviePy - Writing audio in chunk_0_30.mp3\n"
     ]
    },
    {
     "name": "stderr",
     "output_type": "stream",
     "text": [
      "chunk:  42%|████▏     | 4143/9969 [30:11<00:02, 2338.91it/s, now=None]"
     ]
    },
    {
     "name": "stdout",
     "output_type": "stream",
     "text": [
      "MoviePy - Done.\n",
      "MoviePy - Writing audio in chunk_30_60.mp3\n"
     ]
    },
    {
     "name": "stderr",
     "output_type": "stream",
     "text": [
      "chunk:  42%|████▏     | 4143/9969 [30:11<00:02, 2338.91it/s, now=None]"
     ]
    },
    {
     "name": "stdout",
     "output_type": "stream",
     "text": [
      "MoviePy - Done.\n",
      "MoviePy - Writing audio in chunk_60_90.mp3\n"
     ]
    },
    {
     "name": "stderr",
     "output_type": "stream",
     "text": [
      "chunk:  42%|████▏     | 4143/9969 [30:11<00:02, 2338.91it/s, now=None]"
     ]
    },
    {
     "name": "stdout",
     "output_type": "stream",
     "text": [
      "MoviePy - Done.\n",
      "MoviePy - Writing audio in chunk_90_120.mp3\n"
     ]
    },
    {
     "name": "stderr",
     "output_type": "stream",
     "text": [
      "chunk:  42%|████▏     | 4143/9969 [30:12<00:02, 2338.91it/s, now=None]"
     ]
    },
    {
     "name": "stdout",
     "output_type": "stream",
     "text": [
      "MoviePy - Done.\n",
      "MoviePy - Writing audio in chunk_120_150.mp3\n"
     ]
    },
    {
     "name": "stderr",
     "output_type": "stream",
     "text": [
      "chunk:  42%|████▏     | 4143/9969 [30:12<00:02, 2338.91it/s, now=None]"
     ]
    },
    {
     "name": "stdout",
     "output_type": "stream",
     "text": [
      "MoviePy - Done.\n",
      "MoviePy - Writing audio in chunk_150_163.mp3\n"
     ]
    },
    {
     "name": "stderr",
     "output_type": "stream",
     "text": [
      "chunk:  42%|████▏     | 4143/9969 [30:12<00:02, 2338.91it/s, now=None]"
     ]
    },
    {
     "name": "stdout",
     "output_type": "stream",
     "text": [
      "MoviePy - Done.\n"
     ]
    },
    {
     "name": "stderr",
     "output_type": "stream",
     "text": [
      "chunk:  42%|████▏     | 4143/9969 [30:41<00:02, 2338.91it/s, now=None]"
     ]
    },
    {
     "name": "stdout",
     "output_type": "stream",
     "text": [
      "Saved transcription to ./khan_text/y2mate.com - Estimating 2 digit multiplication example_v720P.txt\n",
      "MoviePy - Writing audio in chunk_0_30.mp3\n"
     ]
    },
    {
     "name": "stderr",
     "output_type": "stream",
     "text": [
      "chunk:  42%|████▏     | 4143/9969 [30:41<00:02, 2338.91it/s, now=None]"
     ]
    },
    {
     "name": "stdout",
     "output_type": "stream",
     "text": [
      "MoviePy - Done.\n",
      "MoviePy - Writing audio in chunk_30_60.mp3\n"
     ]
    },
    {
     "name": "stderr",
     "output_type": "stream",
     "text": [
      "chunk:  42%|████▏     | 4143/9969 [30:42<00:02, 2338.91it/s, now=None]"
     ]
    },
    {
     "name": "stdout",
     "output_type": "stream",
     "text": [
      "MoviePy - Done.\n",
      "MoviePy - Writing audio in chunk_60_90.mp3\n"
     ]
    },
    {
     "name": "stderr",
     "output_type": "stream",
     "text": [
      "chunk:  42%|████▏     | 4143/9969 [30:42<00:02, 2338.91it/s, now=None]"
     ]
    },
    {
     "name": "stdout",
     "output_type": "stream",
     "text": [
      "MoviePy - Done.\n",
      "MoviePy - Writing audio in chunk_90_120.mp3\n"
     ]
    },
    {
     "name": "stderr",
     "output_type": "stream",
     "text": [
      "chunk:  42%|████▏     | 4143/9969 [30:42<00:02, 2338.91it/s, now=None]"
     ]
    },
    {
     "name": "stdout",
     "output_type": "stream",
     "text": [
      "MoviePy - Done.\n",
      "MoviePy - Writing audio in chunk_120_150.mp3\n"
     ]
    },
    {
     "name": "stderr",
     "output_type": "stream",
     "text": [
      "chunk:  42%|████▏     | 4143/9969 [30:42<00:02, 2338.91it/s, now=None]"
     ]
    },
    {
     "name": "stdout",
     "output_type": "stream",
     "text": [
      "MoviePy - Done.\n",
      "MoviePy - Writing audio in chunk_150_180.mp3\n"
     ]
    },
    {
     "name": "stderr",
     "output_type": "stream",
     "text": [
      "chunk:  42%|████▏     | 4143/9969 [30:43<00:02, 2338.91it/s, now=None]"
     ]
    },
    {
     "name": "stdout",
     "output_type": "stream",
     "text": [
      "MoviePy - Done.\n",
      "MoviePy - Writing audio in chunk_180_210.mp3\n"
     ]
    },
    {
     "name": "stderr",
     "output_type": "stream",
     "text": [
      "chunk:  42%|████▏     | 4143/9969 [30:43<00:02, 2338.91it/s, now=None]"
     ]
    },
    {
     "name": "stdout",
     "output_type": "stream",
     "text": [
      "MoviePy - Done.\n",
      "MoviePy - Writing audio in chunk_210_239.mp3\n"
     ]
    },
    {
     "name": "stderr",
     "output_type": "stream",
     "text": [
      "chunk:  42%|████▏     | 4143/9969 [30:43<00:02, 2338.91it/s, now=None]"
     ]
    },
    {
     "name": "stdout",
     "output_type": "stream",
     "text": [
      "MoviePy - Done.\n"
     ]
    },
    {
     "name": "stderr",
     "output_type": "stream",
     "text": [
      "chunk:  42%|████▏     | 4143/9969 [31:28<00:02, 2338.91it/s, now=None]"
     ]
    },
    {
     "name": "stdout",
     "output_type": "stream",
     "text": [
      "Saved transcription to ./khan_text/y2mate.com - Examples identifying multiples_v720P.txt\n",
      "MoviePy - Writing audio in chunk_0_30.mp3\n"
     ]
    },
    {
     "name": "stderr",
     "output_type": "stream",
     "text": [
      "chunk:  42%|████▏     | 4143/9969 [31:28<00:02, 2338.91it/s, now=None]"
     ]
    },
    {
     "name": "stdout",
     "output_type": "stream",
     "text": [
      "MoviePy - Done.\n",
      "MoviePy - Writing audio in chunk_30_60.mp3\n"
     ]
    },
    {
     "name": "stderr",
     "output_type": "stream",
     "text": [
      "chunk:  42%|████▏     | 4143/9969 [31:28<00:02, 2338.91it/s, now=None]"
     ]
    },
    {
     "name": "stdout",
     "output_type": "stream",
     "text": [
      "MoviePy - Done.\n",
      "MoviePy - Writing audio in chunk_60_90.mp3\n"
     ]
    },
    {
     "name": "stderr",
     "output_type": "stream",
     "text": [
      "chunk:  42%|████▏     | 4143/9969 [31:28<00:02, 2338.91it/s, now=None]"
     ]
    },
    {
     "name": "stdout",
     "output_type": "stream",
     "text": [
      "MoviePy - Done.\n",
      "MoviePy - Writing audio in chunk_90_120.mp3\n"
     ]
    },
    {
     "name": "stderr",
     "output_type": "stream",
     "text": [
      "chunk:  42%|████▏     | 4143/9969 [31:29<00:02, 2338.91it/s, now=None]"
     ]
    },
    {
     "name": "stdout",
     "output_type": "stream",
     "text": [
      "MoviePy - Done.\n",
      "MoviePy - Writing audio in chunk_120_150.mp3\n"
     ]
    },
    {
     "name": "stderr",
     "output_type": "stream",
     "text": [
      "chunk:  42%|████▏     | 4143/9969 [31:29<00:02, 2338.91it/s, now=None]"
     ]
    },
    {
     "name": "stdout",
     "output_type": "stream",
     "text": [
      "MoviePy - Done.\n",
      "MoviePy - Writing audio in chunk_150_180.mp3\n"
     ]
    },
    {
     "name": "stderr",
     "output_type": "stream",
     "text": [
      "chunk:  42%|████▏     | 4143/9969 [31:29<00:02, 2338.91it/s, now=None]"
     ]
    },
    {
     "name": "stdout",
     "output_type": "stream",
     "text": [
      "MoviePy - Done.\n",
      "MoviePy - Writing audio in chunk_180_190.mp3\n"
     ]
    },
    {
     "name": "stderr",
     "output_type": "stream",
     "text": [
      "chunk:  42%|████▏     | 4143/9969 [31:29<00:02, 2338.91it/s, now=None]"
     ]
    },
    {
     "name": "stdout",
     "output_type": "stream",
     "text": [
      "MoviePy - Done.\n"
     ]
    },
    {
     "name": "stderr",
     "output_type": "stream",
     "text": [
      "chunk:  42%|████▏     | 4143/9969 [32:04<00:02, 2338.91it/s, now=None]"
     ]
    },
    {
     "name": "stdout",
     "output_type": "stream",
     "text": [
      "Saved transcription to ./khan_text/y2mate.com - Examples relating decimals and fractions in words_v720P.txt\n",
      "MoviePy - Writing audio in chunk_0_30.mp3\n"
     ]
    },
    {
     "name": "stderr",
     "output_type": "stream",
     "text": [
      "chunk:  42%|████▏     | 4143/9969 [32:04<00:02, 2338.91it/s, now=None]"
     ]
    },
    {
     "name": "stdout",
     "output_type": "stream",
     "text": [
      "MoviePy - Done.\n",
      "MoviePy - Writing audio in chunk_30_60.mp3\n"
     ]
    },
    {
     "name": "stderr",
     "output_type": "stream",
     "text": [
      "chunk:  42%|████▏     | 4143/9969 [32:04<00:02, 2338.91it/s, now=None]"
     ]
    },
    {
     "name": "stdout",
     "output_type": "stream",
     "text": [
      "MoviePy - Done.\n",
      "MoviePy - Writing audio in chunk_60_90.mp3\n"
     ]
    },
    {
     "name": "stderr",
     "output_type": "stream",
     "text": [
      "chunk:  42%|████▏     | 4143/9969 [32:05<00:02, 2338.91it/s, now=None]"
     ]
    },
    {
     "name": "stdout",
     "output_type": "stream",
     "text": [
      "MoviePy - Done.\n",
      "MoviePy - Writing audio in chunk_90_120.mp3\n"
     ]
    },
    {
     "name": "stderr",
     "output_type": "stream",
     "text": [
      "chunk:  42%|████▏     | 4143/9969 [32:05<00:02, 2338.91it/s, now=None]"
     ]
    },
    {
     "name": "stdout",
     "output_type": "stream",
     "text": [
      "MoviePy - Done.\n",
      "MoviePy - Writing audio in chunk_120_150.mp3\n"
     ]
    },
    {
     "name": "stderr",
     "output_type": "stream",
     "text": [
      "chunk:  42%|████▏     | 4143/9969 [32:05<00:02, 2338.91it/s, now=None]"
     ]
    },
    {
     "name": "stdout",
     "output_type": "stream",
     "text": [
      "MoviePy - Done.\n",
      "MoviePy - Writing audio in chunk_150_180.mp3\n"
     ]
    },
    {
     "name": "stderr",
     "output_type": "stream",
     "text": [
      "chunk:  42%|████▏     | 4143/9969 [32:05<00:02, 2338.91it/s, now=None]"
     ]
    },
    {
     "name": "stdout",
     "output_type": "stream",
     "text": [
      "MoviePy - Done.\n",
      "MoviePy - Writing audio in chunk_180_210.mp3\n"
     ]
    },
    {
     "name": "stderr",
     "output_type": "stream",
     "text": [
      "chunk:  42%|████▏     | 4143/9969 [32:06<00:02, 2338.91it/s, now=None]"
     ]
    },
    {
     "name": "stdout",
     "output_type": "stream",
     "text": [
      "MoviePy - Done.\n",
      "MoviePy - Writing audio in chunk_210_240.mp3\n"
     ]
    },
    {
     "name": "stderr",
     "output_type": "stream",
     "text": [
      "chunk:  42%|████▏     | 4143/9969 [32:06<00:02, 2338.91it/s, now=None]"
     ]
    },
    {
     "name": "stdout",
     "output_type": "stream",
     "text": [
      "MoviePy - Done.\n",
      "MoviePy - Writing audio in chunk_240_270.mp3\n"
     ]
    },
    {
     "name": "stderr",
     "output_type": "stream",
     "text": [
      "chunk:  42%|████▏     | 4143/9969 [32:06<00:02, 2338.91it/s, now=None]"
     ]
    },
    {
     "name": "stdout",
     "output_type": "stream",
     "text": [
      "MoviePy - Done.\n",
      "MoviePy - Writing audio in chunk_270_300.mp3\n"
     ]
    },
    {
     "name": "stderr",
     "output_type": "stream",
     "text": [
      "chunk:  42%|████▏     | 4143/9969 [32:06<00:02, 2338.91it/s, now=None]"
     ]
    },
    {
     "name": "stdout",
     "output_type": "stream",
     "text": [
      "MoviePy - Done.\n",
      "MoviePy - Writing audio in chunk_300_330.mp3\n"
     ]
    },
    {
     "name": "stderr",
     "output_type": "stream",
     "text": [
      "chunk:  42%|████▏     | 4143/9969 [32:07<00:02, 2338.91it/s, now=None]"
     ]
    },
    {
     "name": "stdout",
     "output_type": "stream",
     "text": [
      "MoviePy - Done.\n",
      "MoviePy - Writing audio in chunk_330_331.mp3\n"
     ]
    },
    {
     "name": "stderr",
     "output_type": "stream",
     "text": [
      "chunk:  42%|████▏     | 4143/9969 [32:07<00:02, 2338.91it/s, now=None]"
     ]
    },
    {
     "name": "stdout",
     "output_type": "stream",
     "text": [
      "MoviePy - Done.\n"
     ]
    },
    {
     "name": "stderr",
     "output_type": "stream",
     "text": [
      "chunk:  42%|████▏     | 4143/9969 [33:47<00:02, 2338.91it/s, now=None]"
     ]
    },
    {
     "name": "stdout",
     "output_type": "stream",
     "text": [
      "Saved transcription to ./khan_text/y2mate.com - Exercising gorillas  Addition and subtraction within 20  Early Math  Khan Academy_720pFH.txt\n",
      "MoviePy - Writing audio in chunk_0_30.mp3\n"
     ]
    },
    {
     "name": "stderr",
     "output_type": "stream",
     "text": [
      "chunk:  42%|████▏     | 4143/9969 [33:47<00:02, 2338.91it/s, now=None]"
     ]
    },
    {
     "name": "stdout",
     "output_type": "stream",
     "text": [
      "MoviePy - Done.\n",
      "MoviePy - Writing audio in chunk_30_60.mp3\n"
     ]
    },
    {
     "name": "stderr",
     "output_type": "stream",
     "text": [
      "chunk:  42%|████▏     | 4143/9969 [33:48<00:02, 2338.91it/s, now=None]"
     ]
    },
    {
     "name": "stdout",
     "output_type": "stream",
     "text": [
      "MoviePy - Done.\n",
      "MoviePy - Writing audio in chunk_60_90.mp3\n"
     ]
    },
    {
     "name": "stderr",
     "output_type": "stream",
     "text": [
      "chunk:  42%|████▏     | 4143/9969 [33:48<00:02, 2338.91it/s, now=None]"
     ]
    },
    {
     "name": "stdout",
     "output_type": "stream",
     "text": [
      "MoviePy - Done.\n",
      "MoviePy - Writing audio in chunk_90_120.mp3\n"
     ]
    },
    {
     "name": "stderr",
     "output_type": "stream",
     "text": [
      "chunk:  42%|████▏     | 4143/9969 [33:49<00:02, 2338.91it/s, now=None]"
     ]
    },
    {
     "name": "stdout",
     "output_type": "stream",
     "text": [
      "MoviePy - Done.\n",
      "MoviePy - Writing audio in chunk_120_150.mp3\n"
     ]
    },
    {
     "name": "stderr",
     "output_type": "stream",
     "text": [
      "chunk:  42%|████▏     | 4143/9969 [33:49<00:02, 2338.91it/s, now=None]"
     ]
    },
    {
     "name": "stdout",
     "output_type": "stream",
     "text": [
      "MoviePy - Done.\n",
      "MoviePy - Writing audio in chunk_150_180.mp3\n"
     ]
    },
    {
     "name": "stderr",
     "output_type": "stream",
     "text": [
      "chunk:  42%|████▏     | 4143/9969 [33:49<00:02, 2338.91it/s, now=None]"
     ]
    },
    {
     "name": "stdout",
     "output_type": "stream",
     "text": [
      "MoviePy - Done.\n",
      "MoviePy - Writing audio in chunk_180_210.mp3\n"
     ]
    },
    {
     "name": "stderr",
     "output_type": "stream",
     "text": [
      "chunk:  42%|████▏     | 4143/9969 [33:50<00:02, 2338.91it/s, now=None]"
     ]
    },
    {
     "name": "stdout",
     "output_type": "stream",
     "text": [
      "MoviePy - Done.\n",
      "MoviePy - Writing audio in chunk_210_240.mp3\n"
     ]
    },
    {
     "name": "stderr",
     "output_type": "stream",
     "text": [
      "chunk:  42%|████▏     | 4143/9969 [33:50<00:02, 2338.91it/s, now=None]"
     ]
    },
    {
     "name": "stdout",
     "output_type": "stream",
     "text": [
      "MoviePy - Done.\n",
      "MoviePy - Writing audio in chunk_240_270.mp3\n"
     ]
    },
    {
     "name": "stderr",
     "output_type": "stream",
     "text": [
      "chunk:  42%|████▏     | 4143/9969 [33:51<00:02, 2338.91it/s, now=None]"
     ]
    },
    {
     "name": "stdout",
     "output_type": "stream",
     "text": [
      "MoviePy - Done.\n",
      "MoviePy - Writing audio in chunk_270_300.mp3\n"
     ]
    },
    {
     "name": "stderr",
     "output_type": "stream",
     "text": [
      "chunk:  42%|████▏     | 4143/9969 [33:51<00:02, 2338.91it/s, now=None]"
     ]
    },
    {
     "name": "stdout",
     "output_type": "stream",
     "text": [
      "MoviePy - Done.\n",
      "MoviePy - Writing audio in chunk_300_330.mp3\n"
     ]
    },
    {
     "name": "stderr",
     "output_type": "stream",
     "text": [
      "chunk:  42%|████▏     | 4143/9969 [33:51<00:02, 2338.91it/s, now=None]"
     ]
    },
    {
     "name": "stdout",
     "output_type": "stream",
     "text": [
      "MoviePy - Done.\n",
      "MoviePy - Writing audio in chunk_330_360.mp3\n"
     ]
    },
    {
     "name": "stderr",
     "output_type": "stream",
     "text": [
      "chunk:  42%|████▏     | 4143/9969 [33:52<00:02, 2338.91it/s, now=None]"
     ]
    },
    {
     "name": "stdout",
     "output_type": "stream",
     "text": [
      "MoviePy - Done.\n",
      "MoviePy - Writing audio in chunk_360_390.mp3\n"
     ]
    },
    {
     "name": "stderr",
     "output_type": "stream",
     "text": [
      "chunk:  42%|████▏     | 4143/9969 [33:52<00:02, 2338.91it/s, now=None]"
     ]
    },
    {
     "name": "stdout",
     "output_type": "stream",
     "text": [
      "MoviePy - Done.\n",
      "MoviePy - Writing audio in chunk_390_420.mp3\n"
     ]
    },
    {
     "name": "stderr",
     "output_type": "stream",
     "text": [
      "chunk:  42%|████▏     | 4143/9969 [33:52<00:02, 2338.91it/s, now=None]"
     ]
    },
    {
     "name": "stdout",
     "output_type": "stream",
     "text": [
      "MoviePy - Done.\n",
      "MoviePy - Writing audio in chunk_420_450.mp3\n"
     ]
    },
    {
     "name": "stderr",
     "output_type": "stream",
     "text": [
      "chunk:  42%|████▏     | 4143/9969 [33:53<00:02, 2338.91it/s, now=None]"
     ]
    },
    {
     "name": "stdout",
     "output_type": "stream",
     "text": [
      "MoviePy - Done.\n",
      "MoviePy - Writing audio in chunk_450_480.mp3\n"
     ]
    },
    {
     "name": "stderr",
     "output_type": "stream",
     "text": [
      "chunk:  42%|████▏     | 4143/9969 [33:53<00:02, 2338.91it/s, now=None]"
     ]
    },
    {
     "name": "stdout",
     "output_type": "stream",
     "text": [
      "MoviePy - Done.\n",
      "MoviePy - Writing audio in chunk_480_510.mp3\n"
     ]
    },
    {
     "name": "stderr",
     "output_type": "stream",
     "text": [
      "chunk:  42%|████▏     | 4143/9969 [33:54<00:02, 2338.91it/s, now=None]"
     ]
    },
    {
     "name": "stdout",
     "output_type": "stream",
     "text": [
      "MoviePy - Done.\n",
      "MoviePy - Writing audio in chunk_510_540.mp3\n"
     ]
    },
    {
     "name": "stderr",
     "output_type": "stream",
     "text": [
      "chunk:  42%|████▏     | 4143/9969 [33:54<00:02, 2338.91it/s, now=None]"
     ]
    },
    {
     "name": "stdout",
     "output_type": "stream",
     "text": [
      "MoviePy - Done.\n",
      "MoviePy - Writing audio in chunk_540_570.mp3\n"
     ]
    },
    {
     "name": "stderr",
     "output_type": "stream",
     "text": [
      "chunk:  42%|████▏     | 4143/9969 [33:54<00:02, 2338.91it/s, now=None]"
     ]
    },
    {
     "name": "stdout",
     "output_type": "stream",
     "text": [
      "MoviePy - Done.\n",
      "MoviePy - Writing audio in chunk_570_593.mp3\n"
     ]
    },
    {
     "name": "stderr",
     "output_type": "stream",
     "text": [
      "chunk:  42%|████▏     | 4143/9969 [33:55<00:02, 2338.91it/s, now=None]"
     ]
    },
    {
     "name": "stdout",
     "output_type": "stream",
     "text": [
      "MoviePy - Done.\n"
     ]
    },
    {
     "name": "stderr",
     "output_type": "stream",
     "text": [
      "chunk:  42%|████▏     | 4143/9969 [38:07<00:02, 2338.91it/s, now=None]"
     ]
    },
    {
     "name": "stdout",
     "output_type": "stream",
     "text": [
      "Saved transcription to ./khan_text/y2mate.com - Finding factors of a number  Factors and multiples  PreAlgebra  Khan Academy_720pFH.txt\n",
      "MoviePy - Writing audio in chunk_0_30.mp3\n"
     ]
    },
    {
     "name": "stderr",
     "output_type": "stream",
     "text": [
      "chunk:  42%|████▏     | 4143/9969 [38:07<00:02, 2338.91it/s, now=None]"
     ]
    },
    {
     "name": "stdout",
     "output_type": "stream",
     "text": [
      "MoviePy - Done.\n",
      "MoviePy - Writing audio in chunk_30_60.mp3\n"
     ]
    },
    {
     "name": "stderr",
     "output_type": "stream",
     "text": [
      "chunk:  42%|████▏     | 4143/9969 [38:08<00:02, 2338.91it/s, now=None]"
     ]
    },
    {
     "name": "stdout",
     "output_type": "stream",
     "text": [
      "MoviePy - Done.\n",
      "MoviePy - Writing audio in chunk_60_90.mp3\n"
     ]
    },
    {
     "name": "stderr",
     "output_type": "stream",
     "text": [
      "chunk:  42%|████▏     | 4143/9969 [38:08<00:02, 2338.91it/s, now=None]"
     ]
    },
    {
     "name": "stdout",
     "output_type": "stream",
     "text": [
      "MoviePy - Done.\n",
      "MoviePy - Writing audio in chunk_90_120.mp3\n"
     ]
    },
    {
     "name": "stderr",
     "output_type": "stream",
     "text": [
      "chunk:  42%|████▏     | 4143/9969 [38:08<00:02, 2338.91it/s, now=None]"
     ]
    },
    {
     "name": "stdout",
     "output_type": "stream",
     "text": [
      "MoviePy - Done.\n",
      "MoviePy - Writing audio in chunk_120_150.mp3\n"
     ]
    },
    {
     "name": "stderr",
     "output_type": "stream",
     "text": [
      "chunk:  42%|████▏     | 4143/9969 [38:09<00:02, 2338.91it/s, now=None]"
     ]
    },
    {
     "name": "stdout",
     "output_type": "stream",
     "text": [
      "MoviePy - Done.\n",
      "MoviePy - Writing audio in chunk_150_180.mp3\n"
     ]
    },
    {
     "name": "stderr",
     "output_type": "stream",
     "text": [
      "chunk:  42%|████▏     | 4143/9969 [38:09<00:02, 2338.91it/s, now=None]"
     ]
    },
    {
     "name": "stdout",
     "output_type": "stream",
     "text": [
      "MoviePy - Done.\n",
      "MoviePy - Writing audio in chunk_180_210.mp3\n"
     ]
    },
    {
     "name": "stderr",
     "output_type": "stream",
     "text": [
      "chunk:  42%|████▏     | 4143/9969 [38:09<00:02, 2338.91it/s, now=None]"
     ]
    },
    {
     "name": "stdout",
     "output_type": "stream",
     "text": [
      "MoviePy - Done.\n",
      "MoviePy - Writing audio in chunk_210_240.mp3\n"
     ]
    },
    {
     "name": "stderr",
     "output_type": "stream",
     "text": [
      "chunk:  42%|████▏     | 4143/9969 [38:10<00:02, 2338.91it/s, now=None]"
     ]
    },
    {
     "name": "stdout",
     "output_type": "stream",
     "text": [
      "MoviePy - Done.\n",
      "MoviePy - Writing audio in chunk_240_270.mp3\n"
     ]
    },
    {
     "name": "stderr",
     "output_type": "stream",
     "text": [
      "chunk:  42%|████▏     | 4143/9969 [38:10<00:02, 2338.91it/s, now=None]"
     ]
    },
    {
     "name": "stdout",
     "output_type": "stream",
     "text": [
      "MoviePy - Done.\n",
      "MoviePy - Writing audio in chunk_270_276.mp3\n"
     ]
    },
    {
     "name": "stderr",
     "output_type": "stream",
     "text": [
      "chunk:  42%|████▏     | 4143/9969 [38:10<00:02, 2338.91it/s, now=None]"
     ]
    },
    {
     "name": "stdout",
     "output_type": "stream",
     "text": [
      "MoviePy - Done.\n"
     ]
    },
    {
     "name": "stderr",
     "output_type": "stream",
     "text": [
      "chunk:  42%|████▏     | 4143/9969 [39:57<00:02, 2338.91it/s, now=None]"
     ]
    },
    {
     "name": "stdout",
     "output_type": "stream",
     "text": [
      "Saved transcription to ./khan_text/y2mate.com - Fractiondecimal intuition problems examples  4th grade  Khan Academy_720pFH.txt\n",
      "MoviePy - Writing audio in chunk_0_30.mp3\n"
     ]
    },
    {
     "name": "stderr",
     "output_type": "stream",
     "text": [
      "chunk:  42%|████▏     | 4143/9969 [39:58<00:02, 2338.91it/s, now=None]"
     ]
    },
    {
     "name": "stdout",
     "output_type": "stream",
     "text": [
      "MoviePy - Done.\n",
      "MoviePy - Writing audio in chunk_30_60.mp3\n"
     ]
    },
    {
     "name": "stderr",
     "output_type": "stream",
     "text": [
      "chunk:  42%|████▏     | 4143/9969 [39:58<00:02, 2338.91it/s, now=None]"
     ]
    },
    {
     "name": "stdout",
     "output_type": "stream",
     "text": [
      "MoviePy - Done.\n",
      "MoviePy - Writing audio in chunk_60_90.mp3\n"
     ]
    },
    {
     "name": "stderr",
     "output_type": "stream",
     "text": [
      "chunk:  42%|████▏     | 4143/9969 [39:58<00:02, 2338.91it/s, now=None]"
     ]
    },
    {
     "name": "stdout",
     "output_type": "stream",
     "text": [
      "MoviePy - Done.\n",
      "MoviePy - Writing audio in chunk_90_113.mp3\n"
     ]
    },
    {
     "name": "stderr",
     "output_type": "stream",
     "text": [
      "chunk:  42%|████▏     | 4143/9969 [39:58<00:02, 2338.91it/s, now=None]"
     ]
    },
    {
     "name": "stdout",
     "output_type": "stream",
     "text": [
      "MoviePy - Done.\n"
     ]
    },
    {
     "name": "stderr",
     "output_type": "stream",
     "text": [
      "chunk:  42%|████▏     | 4143/9969 [40:35<00:02, 2338.91it/s, now=None]"
     ]
    },
    {
     "name": "stdout",
     "output_type": "stream",
     "text": [
      "Saved transcription to ./khan_text/y2mate.com - Getting to 10 by filling boxes  Basic addition and subtraction  Early Math  Khan Academy_v720P.txt\n",
      "MoviePy - Writing audio in chunk_0_30.mp3\n"
     ]
    },
    {
     "name": "stderr",
     "output_type": "stream",
     "text": [
      "chunk:  42%|████▏     | 4143/9969 [40:36<00:02, 2338.91it/s, now=None]"
     ]
    },
    {
     "name": "stdout",
     "output_type": "stream",
     "text": [
      "MoviePy - Done.\n",
      "MoviePy - Writing audio in chunk_30_60.mp3\n"
     ]
    },
    {
     "name": "stderr",
     "output_type": "stream",
     "text": [
      "chunk:  42%|████▏     | 4143/9969 [40:36<00:02, 2338.91it/s, now=None]"
     ]
    },
    {
     "name": "stdout",
     "output_type": "stream",
     "text": [
      "MoviePy - Done.\n",
      "MoviePy - Writing audio in chunk_60_90.mp3\n"
     ]
    },
    {
     "name": "stderr",
     "output_type": "stream",
     "text": [
      "chunk:  42%|████▏     | 4143/9969 [40:36<00:02, 2338.91it/s, now=None]"
     ]
    },
    {
     "name": "stdout",
     "output_type": "stream",
     "text": [
      "MoviePy - Done.\n",
      "MoviePy - Writing audio in chunk_90_120.mp3\n"
     ]
    },
    {
     "name": "stderr",
     "output_type": "stream",
     "text": [
      "chunk:  42%|████▏     | 4143/9969 [40:36<00:02, 2338.91it/s, now=None]"
     ]
    },
    {
     "name": "stdout",
     "output_type": "stream",
     "text": [
      "MoviePy - Done.\n",
      "MoviePy - Writing audio in chunk_120_150.mp3\n"
     ]
    },
    {
     "name": "stderr",
     "output_type": "stream",
     "text": [
      "chunk:  42%|████▏     | 4143/9969 [40:37<00:02, 2338.91it/s, now=None]"
     ]
    },
    {
     "name": "stdout",
     "output_type": "stream",
     "text": [
      "MoviePy - Done.\n",
      "MoviePy - Writing audio in chunk_150_180.mp3\n"
     ]
    },
    {
     "name": "stderr",
     "output_type": "stream",
     "text": [
      "chunk:  42%|████▏     | 4143/9969 [40:37<00:02, 2338.91it/s, now=None]"
     ]
    },
    {
     "name": "stdout",
     "output_type": "stream",
     "text": [
      "MoviePy - Done.\n",
      "MoviePy - Writing audio in chunk_180_210.mp3\n"
     ]
    },
    {
     "name": "stderr",
     "output_type": "stream",
     "text": [
      "chunk:  42%|████▏     | 4143/9969 [40:37<00:02, 2338.91it/s, now=None]"
     ]
    },
    {
     "name": "stdout",
     "output_type": "stream",
     "text": [
      "MoviePy - Done.\n",
      "MoviePy - Writing audio in chunk_210_240.mp3\n"
     ]
    },
    {
     "name": "stderr",
     "output_type": "stream",
     "text": [
      "chunk:  42%|████▏     | 4143/9969 [40:37<00:02, 2338.91it/s, now=None]"
     ]
    },
    {
     "name": "stdout",
     "output_type": "stream",
     "text": [
      "MoviePy - Done.\n",
      "MoviePy - Writing audio in chunk_240_270.mp3\n"
     ]
    },
    {
     "name": "stderr",
     "output_type": "stream",
     "text": [
      "chunk:  42%|████▏     | 4143/9969 [40:38<00:02, 2338.91it/s, now=None]"
     ]
    },
    {
     "name": "stdout",
     "output_type": "stream",
     "text": [
      "MoviePy - Done.\n",
      "MoviePy - Writing audio in chunk_270_300.mp3\n"
     ]
    },
    {
     "name": "stderr",
     "output_type": "stream",
     "text": [
      "chunk:  42%|████▏     | 4143/9969 [40:38<00:02, 2338.91it/s, now=None]"
     ]
    },
    {
     "name": "stdout",
     "output_type": "stream",
     "text": [
      "MoviePy - Done.\n",
      "MoviePy - Writing audio in chunk_300_303.mp3\n"
     ]
    },
    {
     "name": "stderr",
     "output_type": "stream",
     "text": [
      "chunk:  42%|████▏     | 4143/9969 [40:38<00:02, 2338.91it/s, now=None]"
     ]
    },
    {
     "name": "stdout",
     "output_type": "stream",
     "text": [
      "MoviePy - Done.\n"
     ]
    },
    {
     "name": "stderr",
     "output_type": "stream",
     "text": [
      "chunk:  42%|████▏     | 4143/9969 [41:42<00:02, 2338.91it/s, now=None]"
     ]
    },
    {
     "name": "stdout",
     "output_type": "stream",
     "text": [
      "Saved transcription to ./khan_text/y2mate.com - Greater than and less than symbols  Applying mathematical reasoning  PreAlgebra  Khan Academy_720pFH.txt\n",
      "MoviePy - Writing audio in chunk_0_30.mp3\n"
     ]
    },
    {
     "name": "stderr",
     "output_type": "stream",
     "text": [
      "chunk:  42%|████▏     | 4143/9969 [41:42<00:02, 2338.91it/s, now=None]"
     ]
    },
    {
     "name": "stdout",
     "output_type": "stream",
     "text": [
      "MoviePy - Done.\n",
      "MoviePy - Writing audio in chunk_30_60.mp3\n"
     ]
    },
    {
     "name": "stderr",
     "output_type": "stream",
     "text": [
      "chunk:  42%|████▏     | 4143/9969 [41:43<00:02, 2338.91it/s, now=None]"
     ]
    },
    {
     "name": "stdout",
     "output_type": "stream",
     "text": [
      "MoviePy - Done.\n",
      "MoviePy - Writing audio in chunk_60_90.mp3\n"
     ]
    },
    {
     "name": "stderr",
     "output_type": "stream",
     "text": [
      "chunk:  42%|████▏     | 4143/9969 [41:43<00:02, 2338.91it/s, now=None]"
     ]
    },
    {
     "name": "stdout",
     "output_type": "stream",
     "text": [
      "MoviePy - Done.\n",
      "MoviePy - Writing audio in chunk_90_120.mp3\n"
     ]
    },
    {
     "name": "stderr",
     "output_type": "stream",
     "text": [
      "chunk:  42%|████▏     | 4143/9969 [41:43<00:02, 2338.91it/s, now=None]"
     ]
    },
    {
     "name": "stdout",
     "output_type": "stream",
     "text": [
      "MoviePy - Done.\n",
      "MoviePy - Writing audio in chunk_120_150.mp3\n"
     ]
    },
    {
     "name": "stderr",
     "output_type": "stream",
     "text": [
      "chunk:  42%|████▏     | 4143/9969 [41:43<00:02, 2338.91it/s, now=None]"
     ]
    },
    {
     "name": "stdout",
     "output_type": "stream",
     "text": [
      "MoviePy - Done.\n",
      "MoviePy - Writing audio in chunk_150_180.mp3\n"
     ]
    },
    {
     "name": "stderr",
     "output_type": "stream",
     "text": [
      "chunk:  42%|████▏     | 4143/9969 [41:44<00:02, 2338.91it/s, now=None]"
     ]
    },
    {
     "name": "stdout",
     "output_type": "stream",
     "text": [
      "MoviePy - Done.\n",
      "MoviePy - Writing audio in chunk_180_210.mp3\n"
     ]
    },
    {
     "name": "stderr",
     "output_type": "stream",
     "text": [
      "chunk:  42%|████▏     | 4143/9969 [41:44<00:02, 2338.91it/s, now=None]"
     ]
    },
    {
     "name": "stdout",
     "output_type": "stream",
     "text": [
      "MoviePy - Done.\n",
      "MoviePy - Writing audio in chunk_210_240.mp3\n"
     ]
    },
    {
     "name": "stderr",
     "output_type": "stream",
     "text": [
      "chunk:  42%|████▏     | 4143/9969 [41:44<00:02, 2338.91it/s, now=None]"
     ]
    },
    {
     "name": "stdout",
     "output_type": "stream",
     "text": [
      "MoviePy - Done.\n",
      "MoviePy - Writing audio in chunk_240_246.mp3\n"
     ]
    },
    {
     "name": "stderr",
     "output_type": "stream",
     "text": [
      "chunk:  42%|████▏     | 4143/9969 [41:44<00:02, 2338.91it/s, now=None]"
     ]
    },
    {
     "name": "stdout",
     "output_type": "stream",
     "text": [
      "MoviePy - Done.\n"
     ]
    },
    {
     "name": "stderr",
     "output_type": "stream",
     "text": [
      "chunk:  42%|████▏     | 4143/9969 [42:27<00:02, 2338.91it/s, now=None]"
     ]
    },
    {
     "name": "stdout",
     "output_type": "stream",
     "text": [
      "Saved transcription to ./khan_text/y2mate.com - How to simplify an expression by combining like terms and the distributive property  Khan Academy_720pFH.txt\n",
      "MoviePy - Writing audio in chunk_0_30.mp3\n"
     ]
    },
    {
     "name": "stderr",
     "output_type": "stream",
     "text": [
      "chunk:  42%|████▏     | 4143/9969 [42:27<00:02, 2338.91it/s, now=None]"
     ]
    },
    {
     "name": "stdout",
     "output_type": "stream",
     "text": [
      "MoviePy - Done.\n",
      "MoviePy - Writing audio in chunk_30_60.mp3\n"
     ]
    },
    {
     "name": "stderr",
     "output_type": "stream",
     "text": [
      "chunk:  42%|████▏     | 4143/9969 [42:28<00:02, 2338.91it/s, now=None]"
     ]
    },
    {
     "name": "stdout",
     "output_type": "stream",
     "text": [
      "MoviePy - Done.\n",
      "MoviePy - Writing audio in chunk_60_90.mp3\n"
     ]
    },
    {
     "name": "stderr",
     "output_type": "stream",
     "text": [
      "chunk:  42%|████▏     | 4143/9969 [42:28<00:02, 2338.91it/s, now=None]"
     ]
    },
    {
     "name": "stdout",
     "output_type": "stream",
     "text": [
      "MoviePy - Done.\n",
      "MoviePy - Writing audio in chunk_90_120.mp3\n"
     ]
    },
    {
     "name": "stderr",
     "output_type": "stream",
     "text": [
      "chunk:  42%|████▏     | 4143/9969 [42:28<00:02, 2338.91it/s, now=None]"
     ]
    },
    {
     "name": "stdout",
     "output_type": "stream",
     "text": [
      "MoviePy - Done.\n",
      "MoviePy - Writing audio in chunk_120_150.mp3\n"
     ]
    },
    {
     "name": "stderr",
     "output_type": "stream",
     "text": [
      "chunk:  42%|████▏     | 4143/9969 [42:28<00:02, 2338.91it/s, now=None]"
     ]
    },
    {
     "name": "stdout",
     "output_type": "stream",
     "text": [
      "MoviePy - Done.\n",
      "MoviePy - Writing audio in chunk_150_180.mp3\n"
     ]
    },
    {
     "name": "stderr",
     "output_type": "stream",
     "text": [
      "chunk:  42%|████▏     | 4143/9969 [42:29<00:02, 2338.91it/s, now=None]"
     ]
    },
    {
     "name": "stdout",
     "output_type": "stream",
     "text": [
      "MoviePy - Done.\n",
      "MoviePy - Writing audio in chunk_180_210.mp3\n"
     ]
    },
    {
     "name": "stderr",
     "output_type": "stream",
     "text": [
      "chunk:  42%|████▏     | 4143/9969 [42:29<00:02, 2338.91it/s, now=None]"
     ]
    },
    {
     "name": "stdout",
     "output_type": "stream",
     "text": [
      "MoviePy - Done.\n",
      "MoviePy - Writing audio in chunk_210_224.mp3\n"
     ]
    },
    {
     "name": "stderr",
     "output_type": "stream",
     "text": [
      "chunk:  42%|████▏     | 4143/9969 [42:29<00:02, 2338.91it/s, now=None]"
     ]
    },
    {
     "name": "stdout",
     "output_type": "stream",
     "text": [
      "MoviePy - Done.\n"
     ]
    },
    {
     "name": "stderr",
     "output_type": "stream",
     "text": [
      "chunk:  42%|████▏     | 4143/9969 [43:07<00:02, 2338.91it/s, now=None]"
     ]
    },
    {
     "name": "stdout",
     "output_type": "stream",
     "text": [
      "Saved transcription to ./khan_text/y2mate.com - How to test solutions to equations using substitution  6th grade  Khan Academy_720pFH.txt\n",
      "MoviePy - Writing audio in chunk_0_30.mp3\n"
     ]
    },
    {
     "name": "stderr",
     "output_type": "stream",
     "text": [
      "chunk:  42%|████▏     | 4143/9969 [43:07<00:02, 2338.91it/s, now=None]"
     ]
    },
    {
     "name": "stdout",
     "output_type": "stream",
     "text": [
      "MoviePy - Done.\n",
      "MoviePy - Writing audio in chunk_30_60.mp3\n"
     ]
    },
    {
     "name": "stderr",
     "output_type": "stream",
     "text": [
      "chunk:  42%|████▏     | 4143/9969 [43:07<00:02, 2338.91it/s, now=None]"
     ]
    },
    {
     "name": "stdout",
     "output_type": "stream",
     "text": [
      "MoviePy - Done.\n",
      "MoviePy - Writing audio in chunk_60_90.mp3\n"
     ]
    },
    {
     "name": "stderr",
     "output_type": "stream",
     "text": [
      "chunk:  42%|████▏     | 4143/9969 [43:08<00:02, 2338.91it/s, now=None]"
     ]
    },
    {
     "name": "stdout",
     "output_type": "stream",
     "text": [
      "MoviePy - Done.\n",
      "MoviePy - Writing audio in chunk_90_120.mp3\n"
     ]
    },
    {
     "name": "stderr",
     "output_type": "stream",
     "text": [
      "chunk:  42%|████▏     | 4143/9969 [43:08<00:02, 2338.91it/s, now=None]"
     ]
    },
    {
     "name": "stdout",
     "output_type": "stream",
     "text": [
      "MoviePy - Done.\n",
      "MoviePy - Writing audio in chunk_120_150.mp3\n"
     ]
    },
    {
     "name": "stderr",
     "output_type": "stream",
     "text": [
      "chunk:  42%|████▏     | 4143/9969 [43:08<00:02, 2338.91it/s, now=None]"
     ]
    },
    {
     "name": "stdout",
     "output_type": "stream",
     "text": [
      "MoviePy - Done.\n",
      "MoviePy - Writing audio in chunk_150_170.mp3\n"
     ]
    },
    {
     "name": "stderr",
     "output_type": "stream",
     "text": [
      "chunk:  42%|████▏     | 4143/9969 [43:08<00:02, 2338.91it/s, now=None]"
     ]
    },
    {
     "name": "stdout",
     "output_type": "stream",
     "text": [
      "MoviePy - Done.\n"
     ]
    },
    {
     "name": "stderr",
     "output_type": "stream",
     "text": [
      "chunk:  42%|████▏     | 4143/9969 [43:34<00:02, 2338.91it/s, now=None]"
     ]
    },
    {
     "name": "stdout",
     "output_type": "stream",
     "text": [
      "Saved transcription to ./khan_text/y2mate.com - Identifying hundredths on a number line  Math  4th grade  Khan Academy_720pFH.txt\n",
      "MoviePy - Writing audio in chunk_0_30.mp3\n"
     ]
    },
    {
     "name": "stderr",
     "output_type": "stream",
     "text": [
      "chunk:  42%|████▏     | 4143/9969 [43:34<00:02, 2338.91it/s, now=None]"
     ]
    },
    {
     "name": "stdout",
     "output_type": "stream",
     "text": [
      "MoviePy - Done.\n",
      "MoviePy - Writing audio in chunk_30_60.mp3\n"
     ]
    },
    {
     "name": "stderr",
     "output_type": "stream",
     "text": [
      "chunk:  42%|████▏     | 4143/9969 [43:34<00:02, 2338.91it/s, now=None]"
     ]
    },
    {
     "name": "stdout",
     "output_type": "stream",
     "text": [
      "MoviePy - Done.\n",
      "MoviePy - Writing audio in chunk_60_90.mp3\n"
     ]
    },
    {
     "name": "stderr",
     "output_type": "stream",
     "text": [
      "chunk:  42%|████▏     | 4143/9969 [43:34<00:02, 2338.91it/s, now=None]"
     ]
    },
    {
     "name": "stdout",
     "output_type": "stream",
     "text": [
      "MoviePy - Done.\n",
      "MoviePy - Writing audio in chunk_90_120.mp3\n"
     ]
    },
    {
     "name": "stderr",
     "output_type": "stream",
     "text": [
      "chunk:  42%|████▏     | 4143/9969 [43:35<00:02, 2338.91it/s, now=None]"
     ]
    },
    {
     "name": "stdout",
     "output_type": "stream",
     "text": [
      "MoviePy - Done.\n",
      "MoviePy - Writing audio in chunk_120_150.mp3\n"
     ]
    },
    {
     "name": "stderr",
     "output_type": "stream",
     "text": [
      "chunk:  42%|████▏     | 4143/9969 [43:35<00:02, 2338.91it/s, now=None]"
     ]
    },
    {
     "name": "stdout",
     "output_type": "stream",
     "text": [
      "MoviePy - Done.\n",
      "MoviePy - Writing audio in chunk_150_180.mp3\n"
     ]
    },
    {
     "name": "stderr",
     "output_type": "stream",
     "text": [
      "chunk:  42%|████▏     | 4143/9969 [43:35<00:02, 2338.91it/s, now=None]"
     ]
    },
    {
     "name": "stdout",
     "output_type": "stream",
     "text": [
      "MoviePy - Done.\n",
      "MoviePy - Writing audio in chunk_180_210.mp3\n"
     ]
    },
    {
     "name": "stderr",
     "output_type": "stream",
     "text": [
      "chunk:  42%|████▏     | 4143/9969 [43:35<00:02, 2338.91it/s, now=None]"
     ]
    },
    {
     "name": "stdout",
     "output_type": "stream",
     "text": [
      "MoviePy - Done.\n",
      "MoviePy - Writing audio in chunk_210_240.mp3\n"
     ]
    },
    {
     "name": "stderr",
     "output_type": "stream",
     "text": [
      "chunk:  42%|████▏     | 4143/9969 [43:36<00:02, 2338.91it/s, now=None]"
     ]
    },
    {
     "name": "stdout",
     "output_type": "stream",
     "text": [
      "MoviePy - Done.\n",
      "MoviePy - Writing audio in chunk_240_270.mp3\n"
     ]
    },
    {
     "name": "stderr",
     "output_type": "stream",
     "text": [
      "chunk:  42%|████▏     | 4143/9969 [43:36<00:02, 2338.91it/s, now=None]"
     ]
    },
    {
     "name": "stdout",
     "output_type": "stream",
     "text": [
      "MoviePy - Done.\n",
      "MoviePy - Writing audio in chunk_270_300.mp3\n"
     ]
    },
    {
     "name": "stderr",
     "output_type": "stream",
     "text": [
      "chunk:  42%|████▏     | 4143/9969 [43:36<00:02, 2338.91it/s, now=None]"
     ]
    },
    {
     "name": "stdout",
     "output_type": "stream",
     "text": [
      "MoviePy - Done.\n",
      "MoviePy - Writing audio in chunk_300_330.mp3\n"
     ]
    },
    {
     "name": "stderr",
     "output_type": "stream",
     "text": [
      "chunk:  42%|████▏     | 4143/9969 [43:36<00:02, 2338.91it/s, now=None]"
     ]
    },
    {
     "name": "stdout",
     "output_type": "stream",
     "text": [
      "MoviePy - Done.\n",
      "MoviePy - Writing audio in chunk_330_360.mp3\n"
     ]
    },
    {
     "name": "stderr",
     "output_type": "stream",
     "text": [
      "chunk:  42%|████▏     | 4143/9969 [43:37<00:02, 2338.91it/s, now=None]"
     ]
    },
    {
     "name": "stdout",
     "output_type": "stream",
     "text": [
      "MoviePy - Done.\n",
      "MoviePy - Writing audio in chunk_360_390.mp3\n"
     ]
    },
    {
     "name": "stderr",
     "output_type": "stream",
     "text": [
      "chunk:  42%|████▏     | 4143/9969 [43:37<00:02, 2338.91it/s, now=None]"
     ]
    },
    {
     "name": "stdout",
     "output_type": "stream",
     "text": [
      "MoviePy - Done.\n",
      "MoviePy - Writing audio in chunk_390_420.mp3\n"
     ]
    },
    {
     "name": "stderr",
     "output_type": "stream",
     "text": [
      "chunk:  42%|████▏     | 4143/9969 [43:37<00:02, 2338.91it/s, now=None]"
     ]
    },
    {
     "name": "stdout",
     "output_type": "stream",
     "text": [
      "MoviePy - Done.\n",
      "MoviePy - Writing audio in chunk_420_450.mp3\n"
     ]
    },
    {
     "name": "stderr",
     "output_type": "stream",
     "text": [
      "chunk:  42%|████▏     | 4143/9969 [43:37<00:02, 2338.91it/s, now=None]"
     ]
    },
    {
     "name": "stdout",
     "output_type": "stream",
     "text": [
      "MoviePy - Done.\n",
      "MoviePy - Writing audio in chunk_450_480.mp3\n"
     ]
    },
    {
     "name": "stderr",
     "output_type": "stream",
     "text": [
      "chunk:  42%|████▏     | 4143/9969 [43:38<00:02, 2338.91it/s, now=None]"
     ]
    },
    {
     "name": "stdout",
     "output_type": "stream",
     "text": [
      "MoviePy - Done.\n",
      "MoviePy - Writing audio in chunk_480_510.mp3\n"
     ]
    },
    {
     "name": "stderr",
     "output_type": "stream",
     "text": [
      "chunk:  42%|████▏     | 4143/9969 [43:38<00:02, 2338.91it/s, now=None]"
     ]
    },
    {
     "name": "stdout",
     "output_type": "stream",
     "text": [
      "MoviePy - Done.\n",
      "MoviePy - Writing audio in chunk_510_540.mp3\n"
     ]
    },
    {
     "name": "stderr",
     "output_type": "stream",
     "text": [
      "chunk:  42%|████▏     | 4143/9969 [43:38<00:02, 2338.91it/s, now=None]"
     ]
    },
    {
     "name": "stdout",
     "output_type": "stream",
     "text": [
      "MoviePy - Done.\n",
      "MoviePy - Writing audio in chunk_540_570.mp3\n"
     ]
    },
    {
     "name": "stderr",
     "output_type": "stream",
     "text": [
      "chunk:  42%|████▏     | 4143/9969 [43:38<00:02, 2338.91it/s, now=None]"
     ]
    },
    {
     "name": "stdout",
     "output_type": "stream",
     "text": [
      "MoviePy - Done.\n",
      "MoviePy - Writing audio in chunk_570_600.mp3\n"
     ]
    },
    {
     "name": "stderr",
     "output_type": "stream",
     "text": [
      "chunk:  42%|████▏     | 4143/9969 [43:39<00:02, 2338.91it/s, now=None]"
     ]
    },
    {
     "name": "stdout",
     "output_type": "stream",
     "text": [
      "MoviePy - Done.\n",
      "MoviePy - Writing audio in chunk_600_630.mp3\n"
     ]
    },
    {
     "name": "stderr",
     "output_type": "stream",
     "text": [
      "chunk:  42%|████▏     | 4143/9969 [43:39<00:02, 2338.91it/s, now=None]"
     ]
    },
    {
     "name": "stdout",
     "output_type": "stream",
     "text": [
      "MoviePy - Done.\n",
      "MoviePy - Writing audio in chunk_630_653.mp3\n"
     ]
    },
    {
     "name": "stderr",
     "output_type": "stream",
     "text": [
      "chunk:  42%|████▏     | 4143/9969 [43:39<00:02, 2338.91it/s, now=None]"
     ]
    },
    {
     "name": "stdout",
     "output_type": "stream",
     "text": [
      "MoviePy - Done.\n"
     ]
    },
    {
     "name": "stderr",
     "output_type": "stream",
     "text": [
      "chunk:  42%|████▏     | 4143/9969 [45:37<00:02, 2338.91it/s, now=None]"
     ]
    },
    {
     "name": "stdout",
     "output_type": "stream",
     "text": [
      "Saved transcription to ./khan_text/y2mate.com - Interpreting absolute value as distance  7th grade  Khan Academy_720pFH.txt\n",
      "MoviePy - Writing audio in chunk_0_30.mp3\n"
     ]
    },
    {
     "name": "stderr",
     "output_type": "stream",
     "text": [
      "chunk:  42%|████▏     | 4143/9969 [45:38<00:02, 2338.91it/s, now=None]"
     ]
    },
    {
     "name": "stdout",
     "output_type": "stream",
     "text": [
      "MoviePy - Done.\n",
      "MoviePy - Writing audio in chunk_30_60.mp3\n"
     ]
    },
    {
     "name": "stderr",
     "output_type": "stream",
     "text": [
      "chunk:  42%|████▏     | 4143/9969 [45:38<00:02, 2338.91it/s, now=None]"
     ]
    },
    {
     "name": "stdout",
     "output_type": "stream",
     "text": [
      "MoviePy - Done.\n",
      "MoviePy - Writing audio in chunk_60_90.mp3\n"
     ]
    },
    {
     "name": "stderr",
     "output_type": "stream",
     "text": [
      "chunk:  42%|████▏     | 4143/9969 [45:38<00:02, 2338.91it/s, now=None]"
     ]
    },
    {
     "name": "stdout",
     "output_type": "stream",
     "text": [
      "MoviePy - Done.\n",
      "MoviePy - Writing audio in chunk_90_120.mp3\n"
     ]
    },
    {
     "name": "stderr",
     "output_type": "stream",
     "text": [
      "chunk:  42%|████▏     | 4143/9969 [45:38<00:02, 2338.91it/s, now=None]"
     ]
    },
    {
     "name": "stdout",
     "output_type": "stream",
     "text": [
      "MoviePy - Done.\n",
      "MoviePy - Writing audio in chunk_120_150.mp3\n"
     ]
    },
    {
     "name": "stderr",
     "output_type": "stream",
     "text": [
      "chunk:  42%|████▏     | 4143/9969 [45:39<00:02, 2338.91it/s, now=None]"
     ]
    },
    {
     "name": "stdout",
     "output_type": "stream",
     "text": [
      "MoviePy - Done.\n",
      "MoviePy - Writing audio in chunk_150_180.mp3\n"
     ]
    },
    {
     "name": "stderr",
     "output_type": "stream",
     "text": [
      "chunk:  42%|████▏     | 4143/9969 [45:39<00:02, 2338.91it/s, now=None]"
     ]
    },
    {
     "name": "stdout",
     "output_type": "stream",
     "text": [
      "MoviePy - Done.\n",
      "MoviePy - Writing audio in chunk_180_190.mp3\n"
     ]
    },
    {
     "name": "stderr",
     "output_type": "stream",
     "text": [
      "chunk:  42%|████▏     | 4143/9969 [45:39<00:02, 2338.91it/s, now=None]"
     ]
    },
    {
     "name": "stdout",
     "output_type": "stream",
     "text": [
      "MoviePy - Done.\n"
     ]
    },
    {
     "name": "stderr",
     "output_type": "stream",
     "text": [
      "chunk:  42%|████▏     | 4143/9969 [46:08<00:02, 2338.91it/s, now=None]"
     ]
    },
    {
     "name": "stdout",
     "output_type": "stream",
     "text": [
      "Saved transcription to ./khan_text/y2mate.com - Introduction to addition  Basic addition and subtraction  Early Math  Khan Academy_720pFH.txt\n",
      "MoviePy - Writing audio in chunk_0_30.mp3\n"
     ]
    },
    {
     "name": "stderr",
     "output_type": "stream",
     "text": [
      "chunk:  42%|████▏     | 4143/9969 [46:08<00:02, 2338.91it/s, now=None]"
     ]
    },
    {
     "name": "stdout",
     "output_type": "stream",
     "text": [
      "MoviePy - Done.\n",
      "MoviePy - Writing audio in chunk_30_60.mp3\n"
     ]
    },
    {
     "name": "stderr",
     "output_type": "stream",
     "text": [
      "chunk:  42%|████▏     | 4143/9969 [46:08<00:02, 2338.91it/s, now=None]"
     ]
    },
    {
     "name": "stdout",
     "output_type": "stream",
     "text": [
      "MoviePy - Done.\n",
      "MoviePy - Writing audio in chunk_60_90.mp3\n"
     ]
    },
    {
     "name": "stderr",
     "output_type": "stream",
     "text": [
      "chunk:  42%|████▏     | 4143/9969 [46:08<00:02, 2338.91it/s, now=None]"
     ]
    },
    {
     "name": "stdout",
     "output_type": "stream",
     "text": [
      "MoviePy - Done.\n",
      "MoviePy - Writing audio in chunk_90_120.mp3\n"
     ]
    },
    {
     "name": "stderr",
     "output_type": "stream",
     "text": [
      "chunk:  42%|████▏     | 4143/9969 [46:09<00:02, 2338.91it/s, now=None]"
     ]
    },
    {
     "name": "stdout",
     "output_type": "stream",
     "text": [
      "MoviePy - Done.\n",
      "MoviePy - Writing audio in chunk_120_150.mp3\n"
     ]
    },
    {
     "name": "stderr",
     "output_type": "stream",
     "text": [
      "chunk:  42%|████▏     | 4143/9969 [46:09<00:02, 2338.91it/s, now=None]"
     ]
    },
    {
     "name": "stdout",
     "output_type": "stream",
     "text": [
      "MoviePy - Done.\n",
      "MoviePy - Writing audio in chunk_150_180.mp3\n"
     ]
    },
    {
     "name": "stderr",
     "output_type": "stream",
     "text": [
      "chunk:  42%|████▏     | 4143/9969 [46:09<00:02, 2338.91it/s, now=None]"
     ]
    },
    {
     "name": "stdout",
     "output_type": "stream",
     "text": [
      "MoviePy - Done.\n",
      "MoviePy - Writing audio in chunk_180_210.mp3\n"
     ]
    },
    {
     "name": "stderr",
     "output_type": "stream",
     "text": [
      "chunk:  42%|████▏     | 4143/9969 [46:09<00:02, 2338.91it/s, now=None]"
     ]
    },
    {
     "name": "stdout",
     "output_type": "stream",
     "text": [
      "MoviePy - Done.\n",
      "MoviePy - Writing audio in chunk_210_240.mp3\n"
     ]
    },
    {
     "name": "stderr",
     "output_type": "stream",
     "text": [
      "chunk:  42%|████▏     | 4143/9969 [46:10<00:02, 2338.91it/s, now=None]"
     ]
    },
    {
     "name": "stdout",
     "output_type": "stream",
     "text": [
      "MoviePy - Done.\n",
      "MoviePy - Writing audio in chunk_240_270.mp3\n"
     ]
    },
    {
     "name": "stderr",
     "output_type": "stream",
     "text": [
      "chunk:  42%|████▏     | 4143/9969 [46:10<00:02, 2338.91it/s, now=None]"
     ]
    },
    {
     "name": "stdout",
     "output_type": "stream",
     "text": [
      "MoviePy - Done.\n",
      "MoviePy - Writing audio in chunk_270_300.mp3\n"
     ]
    },
    {
     "name": "stderr",
     "output_type": "stream",
     "text": [
      "chunk:  42%|████▏     | 4143/9969 [46:10<00:02, 2338.91it/s, now=None]"
     ]
    },
    {
     "name": "stdout",
     "output_type": "stream",
     "text": [
      "MoviePy - Done.\n",
      "MoviePy - Writing audio in chunk_300_330.mp3\n"
     ]
    },
    {
     "name": "stderr",
     "output_type": "stream",
     "text": [
      "chunk:  42%|████▏     | 4143/9969 [46:10<00:02, 2338.91it/s, now=None]"
     ]
    },
    {
     "name": "stdout",
     "output_type": "stream",
     "text": [
      "MoviePy - Done.\n",
      "MoviePy - Writing audio in chunk_330_358.mp3\n"
     ]
    },
    {
     "name": "stderr",
     "output_type": "stream",
     "text": [
      "chunk:  42%|████▏     | 4143/9969 [46:11<00:02, 2338.91it/s, now=None]"
     ]
    },
    {
     "name": "stdout",
     "output_type": "stream",
     "text": [
      "MoviePy - Done.\n"
     ]
    },
    {
     "name": "stderr",
     "output_type": "stream",
     "text": [
      "chunk:  42%|████▏     | 4143/9969 [47:15<00:02, 2338.91it/s, now=None]"
     ]
    },
    {
     "name": "stdout",
     "output_type": "stream",
     "text": [
      "Saved transcription to ./khan_text/y2mate.com - Introduction to place value  Place value tens and hundreds  Early Math  Khan Academy_720pFH.txt\n",
      "MoviePy - Writing audio in chunk_0_30.mp3\n"
     ]
    },
    {
     "name": "stderr",
     "output_type": "stream",
     "text": [
      "chunk:  42%|████▏     | 4143/9969 [47:15<00:02, 2338.91it/s, now=None]"
     ]
    },
    {
     "name": "stdout",
     "output_type": "stream",
     "text": [
      "MoviePy - Done.\n",
      "MoviePy - Writing audio in chunk_30_60.mp3\n"
     ]
    },
    {
     "name": "stderr",
     "output_type": "stream",
     "text": [
      "chunk:  42%|████▏     | 4143/9969 [47:16<00:02, 2338.91it/s, now=None]"
     ]
    },
    {
     "name": "stdout",
     "output_type": "stream",
     "text": [
      "MoviePy - Done.\n",
      "MoviePy - Writing audio in chunk_60_90.mp3\n"
     ]
    },
    {
     "name": "stderr",
     "output_type": "stream",
     "text": [
      "chunk:  42%|████▏     | 4143/9969 [47:16<00:02, 2338.91it/s, now=None]"
     ]
    },
    {
     "name": "stdout",
     "output_type": "stream",
     "text": [
      "MoviePy - Done.\n",
      "MoviePy - Writing audio in chunk_90_120.mp3\n"
     ]
    },
    {
     "name": "stderr",
     "output_type": "stream",
     "text": [
      "chunk:  42%|████▏     | 4143/9969 [47:16<00:02, 2338.91it/s, now=None]"
     ]
    },
    {
     "name": "stdout",
     "output_type": "stream",
     "text": [
      "MoviePy - Done.\n",
      "MoviePy - Writing audio in chunk_120_150.mp3\n"
     ]
    },
    {
     "name": "stderr",
     "output_type": "stream",
     "text": [
      "chunk:  42%|████▏     | 4143/9969 [47:16<00:02, 2338.91it/s, now=None]"
     ]
    },
    {
     "name": "stdout",
     "output_type": "stream",
     "text": [
      "MoviePy - Done.\n",
      "MoviePy - Writing audio in chunk_150_180.mp3\n"
     ]
    },
    {
     "name": "stderr",
     "output_type": "stream",
     "text": [
      "chunk:  42%|████▏     | 4143/9969 [47:17<00:02, 2338.91it/s, now=None]"
     ]
    },
    {
     "name": "stdout",
     "output_type": "stream",
     "text": [
      "MoviePy - Done.\n",
      "MoviePy - Writing audio in chunk_180_210.mp3\n"
     ]
    },
    {
     "name": "stderr",
     "output_type": "stream",
     "text": [
      "chunk:  42%|████▏     | 4143/9969 [47:17<00:02, 2338.91it/s, now=None]"
     ]
    },
    {
     "name": "stdout",
     "output_type": "stream",
     "text": [
      "MoviePy - Done.\n",
      "MoviePy - Writing audio in chunk_210_218.mp3\n"
     ]
    },
    {
     "name": "stderr",
     "output_type": "stream",
     "text": [
      "chunk:  42%|████▏     | 4143/9969 [47:17<00:02, 2338.91it/s, now=None]"
     ]
    },
    {
     "name": "stdout",
     "output_type": "stream",
     "text": [
      "MoviePy - Done.\n"
     ]
    },
    {
     "name": "stderr",
     "output_type": "stream",
     "text": [
      "chunk:  42%|████▏     | 4143/9969 [47:50<00:02, 2338.91it/s, now=None]"
     ]
    },
    {
     "name": "stdout",
     "output_type": "stream",
     "text": [
      "Saved transcription to ./khan_text/y2mate.com - Introduction to subtraction  Basic addition and subtraction  Early Math  Khan Academy_720pFH.txt\n",
      "MoviePy - Writing audio in chunk_0_30.mp3\n"
     ]
    },
    {
     "name": "stderr",
     "output_type": "stream",
     "text": [
      "chunk:  42%|████▏     | 4143/9969 [47:50<00:02, 2338.91it/s, now=None]"
     ]
    },
    {
     "name": "stdout",
     "output_type": "stream",
     "text": [
      "MoviePy - Done.\n",
      "MoviePy - Writing audio in chunk_30_60.mp3\n"
     ]
    },
    {
     "name": "stderr",
     "output_type": "stream",
     "text": [
      "chunk:  42%|████▏     | 4143/9969 [47:50<00:02, 2338.91it/s, now=None]"
     ]
    },
    {
     "name": "stdout",
     "output_type": "stream",
     "text": [
      "MoviePy - Done.\n",
      "MoviePy - Writing audio in chunk_60_90.mp3\n"
     ]
    },
    {
     "name": "stderr",
     "output_type": "stream",
     "text": [
      "chunk:  42%|████▏     | 4143/9969 [47:51<00:02, 2338.91it/s, now=None]"
     ]
    },
    {
     "name": "stdout",
     "output_type": "stream",
     "text": [
      "MoviePy - Done.\n",
      "MoviePy - Writing audio in chunk_90_120.mp3\n"
     ]
    },
    {
     "name": "stderr",
     "output_type": "stream",
     "text": [
      "chunk:  42%|████▏     | 4143/9969 [47:51<00:02, 2338.91it/s, now=None]"
     ]
    },
    {
     "name": "stdout",
     "output_type": "stream",
     "text": [
      "MoviePy - Done.\n",
      "MoviePy - Writing audio in chunk_120_150.mp3\n"
     ]
    },
    {
     "name": "stderr",
     "output_type": "stream",
     "text": [
      "chunk:  42%|████▏     | 4143/9969 [47:51<00:02, 2338.91it/s, now=None]"
     ]
    },
    {
     "name": "stdout",
     "output_type": "stream",
     "text": [
      "MoviePy - Done.\n",
      "MoviePy - Writing audio in chunk_150_180.mp3\n"
     ]
    },
    {
     "name": "stderr",
     "output_type": "stream",
     "text": [
      "chunk:  42%|████▏     | 4143/9969 [47:52<00:02, 2338.91it/s, now=None]"
     ]
    },
    {
     "name": "stdout",
     "output_type": "stream",
     "text": [
      "MoviePy - Done.\n",
      "MoviePy - Writing audio in chunk_180_210.mp3\n"
     ]
    },
    {
     "name": "stderr",
     "output_type": "stream",
     "text": [
      "chunk:  42%|████▏     | 4143/9969 [47:52<00:02, 2338.91it/s, now=None]"
     ]
    },
    {
     "name": "stdout",
     "output_type": "stream",
     "text": [
      "MoviePy - Done.\n",
      "MoviePy - Writing audio in chunk_210_240.mp3\n"
     ]
    },
    {
     "name": "stderr",
     "output_type": "stream",
     "text": [
      "chunk:  42%|████▏     | 4143/9969 [47:52<00:02, 2338.91it/s, now=None]"
     ]
    },
    {
     "name": "stdout",
     "output_type": "stream",
     "text": [
      "MoviePy - Done.\n",
      "MoviePy - Writing audio in chunk_240_246.mp3\n"
     ]
    },
    {
     "name": "stderr",
     "output_type": "stream",
     "text": [
      "chunk:  42%|████▏     | 4143/9969 [47:52<00:02, 2338.91it/s, now=None]"
     ]
    },
    {
     "name": "stdout",
     "output_type": "stream",
     "text": [
      "MoviePy - Done.\n"
     ]
    },
    {
     "name": "stderr",
     "output_type": "stream",
     "text": [
      "chunk:  42%|████▏     | 4143/9969 [48:32<00:02, 2338.91it/s, now=None]"
     ]
    },
    {
     "name": "stdout",
     "output_type": "stream",
     "text": [
      "Saved transcription to ./khan_text/y2mate.com - Making 5  Basic addition and subtraction  Early Math  Khan Academy_720pFH.txt\n",
      "MoviePy - Writing audio in chunk_0_30.mp3\n"
     ]
    },
    {
     "name": "stderr",
     "output_type": "stream",
     "text": [
      "chunk:  42%|████▏     | 4143/9969 [48:32<00:02, 2338.91it/s, now=None]"
     ]
    },
    {
     "name": "stdout",
     "output_type": "stream",
     "text": [
      "MoviePy - Done.\n",
      "MoviePy - Writing audio in chunk_30_60.mp3\n"
     ]
    },
    {
     "name": "stderr",
     "output_type": "stream",
     "text": [
      "chunk:  42%|████▏     | 4143/9969 [48:32<00:02, 2338.91it/s, now=None]"
     ]
    },
    {
     "name": "stdout",
     "output_type": "stream",
     "text": [
      "MoviePy - Done.\n",
      "MoviePy - Writing audio in chunk_60_90.mp3\n"
     ]
    },
    {
     "name": "stderr",
     "output_type": "stream",
     "text": [
      "chunk:  42%|████▏     | 4143/9969 [48:33<00:02, 2338.91it/s, now=None]"
     ]
    },
    {
     "name": "stdout",
     "output_type": "stream",
     "text": [
      "MoviePy - Done.\n",
      "MoviePy - Writing audio in chunk_90_108.mp3\n"
     ]
    },
    {
     "name": "stderr",
     "output_type": "stream",
     "text": [
      "chunk:  42%|████▏     | 4143/9969 [48:33<00:02, 2338.91it/s, now=None]"
     ]
    },
    {
     "name": "stdout",
     "output_type": "stream",
     "text": [
      "MoviePy - Done.\n"
     ]
    },
    {
     "name": "stderr",
     "output_type": "stream",
     "text": [
      "chunk:  42%|████▏     | 4143/9969 [48:50<00:02, 2338.91it/s, now=None]"
     ]
    },
    {
     "name": "stdout",
     "output_type": "stream",
     "text": [
      "Saved transcription to ./khan_text/y2mate.com - Measuring angles with a circular protractor  Math  4th grade  Khan Academy_v720P.txt\n",
      "MoviePy - Writing audio in chunk_0_30.mp3\n"
     ]
    },
    {
     "name": "stderr",
     "output_type": "stream",
     "text": [
      "chunk:  42%|████▏     | 4143/9969 [48:50<00:02, 2338.91it/s, now=None]"
     ]
    },
    {
     "name": "stdout",
     "output_type": "stream",
     "text": [
      "MoviePy - Done.\n",
      "MoviePy - Writing audio in chunk_30_60.mp3\n"
     ]
    },
    {
     "name": "stderr",
     "output_type": "stream",
     "text": [
      "chunk:  42%|████▏     | 4143/9969 [48:50<00:02, 2338.91it/s, now=None]"
     ]
    },
    {
     "name": "stdout",
     "output_type": "stream",
     "text": [
      "MoviePy - Done.\n",
      "MoviePy - Writing audio in chunk_60_90.mp3\n"
     ]
    },
    {
     "name": "stderr",
     "output_type": "stream",
     "text": [
      "chunk:  42%|████▏     | 4143/9969 [48:51<00:02, 2338.91it/s, now=None]"
     ]
    },
    {
     "name": "stdout",
     "output_type": "stream",
     "text": [
      "MoviePy - Done.\n",
      "MoviePy - Writing audio in chunk_90_120.mp3\n"
     ]
    },
    {
     "name": "stderr",
     "output_type": "stream",
     "text": [
      "chunk:  42%|████▏     | 4143/9969 [48:51<00:02, 2338.91it/s, now=None]"
     ]
    },
    {
     "name": "stdout",
     "output_type": "stream",
     "text": [
      "MoviePy - Done.\n",
      "MoviePy - Writing audio in chunk_120_150.mp3\n"
     ]
    },
    {
     "name": "stderr",
     "output_type": "stream",
     "text": [
      "chunk:  42%|████▏     | 4143/9969 [48:51<00:02, 2338.91it/s, now=None]"
     ]
    },
    {
     "name": "stdout",
     "output_type": "stream",
     "text": [
      "MoviePy - Done.\n",
      "MoviePy - Writing audio in chunk_150_180.mp3\n"
     ]
    },
    {
     "name": "stderr",
     "output_type": "stream",
     "text": [
      "chunk:  42%|████▏     | 4143/9969 [48:51<00:02, 2338.91it/s, now=None]"
     ]
    },
    {
     "name": "stdout",
     "output_type": "stream",
     "text": [
      "MoviePy - Done.\n",
      "MoviePy - Writing audio in chunk_180_210.mp3\n"
     ]
    },
    {
     "name": "stderr",
     "output_type": "stream",
     "text": [
      "chunk:  42%|████▏     | 4143/9969 [48:52<00:02, 2338.91it/s, now=None]"
     ]
    },
    {
     "name": "stdout",
     "output_type": "stream",
     "text": [
      "MoviePy - Done.\n",
      "MoviePy - Writing audio in chunk_210_240.mp3\n"
     ]
    },
    {
     "name": "stderr",
     "output_type": "stream",
     "text": [
      "chunk:  42%|████▏     | 4143/9969 [48:52<00:02, 2338.91it/s, now=None]"
     ]
    },
    {
     "name": "stdout",
     "output_type": "stream",
     "text": [
      "MoviePy - Done.\n",
      "MoviePy - Writing audio in chunk_240_270.mp3\n"
     ]
    },
    {
     "name": "stderr",
     "output_type": "stream",
     "text": [
      "chunk:  42%|████▏     | 4143/9969 [48:52<00:02, 2338.91it/s, now=None]"
     ]
    },
    {
     "name": "stdout",
     "output_type": "stream",
     "text": [
      "MoviePy - Done.\n",
      "MoviePy - Writing audio in chunk_270_300.mp3\n"
     ]
    },
    {
     "name": "stderr",
     "output_type": "stream",
     "text": [
      "chunk:  42%|████▏     | 4143/9969 [48:52<00:02, 2338.91it/s, now=None]"
     ]
    },
    {
     "name": "stdout",
     "output_type": "stream",
     "text": [
      "MoviePy - Done.\n",
      "MoviePy - Writing audio in chunk_300_330.mp3\n"
     ]
    },
    {
     "name": "stderr",
     "output_type": "stream",
     "text": [
      "chunk:  42%|████▏     | 4143/9969 [48:53<00:02, 2338.91it/s, now=None]"
     ]
    },
    {
     "name": "stdout",
     "output_type": "stream",
     "text": [
      "MoviePy - Done.\n",
      "MoviePy - Writing audio in chunk_330_360.mp3\n"
     ]
    },
    {
     "name": "stderr",
     "output_type": "stream",
     "text": [
      "chunk:  42%|████▏     | 4143/9969 [48:53<00:02, 2338.91it/s, now=None]"
     ]
    },
    {
     "name": "stdout",
     "output_type": "stream",
     "text": [
      "MoviePy - Done.\n",
      "MoviePy - Writing audio in chunk_360_390.mp3\n"
     ]
    },
    {
     "name": "stderr",
     "output_type": "stream",
     "text": [
      "chunk:  42%|████▏     | 4143/9969 [48:53<00:02, 2338.91it/s, now=None]"
     ]
    },
    {
     "name": "stdout",
     "output_type": "stream",
     "text": [
      "MoviePy - Done.\n",
      "MoviePy - Writing audio in chunk_390_415.mp3\n"
     ]
    },
    {
     "name": "stderr",
     "output_type": "stream",
     "text": [
      "chunk:  42%|████▏     | 4143/9969 [48:53<00:02, 2338.91it/s, now=None]"
     ]
    },
    {
     "name": "stdout",
     "output_type": "stream",
     "text": [
      "MoviePy - Done.\n"
     ]
    },
    {
     "name": "stderr",
     "output_type": "stream",
     "text": [
      "chunk:  42%|████▏     | 4143/9969 [50:13<00:02, 2338.91it/s, now=None]"
     ]
    },
    {
     "name": "stdout",
     "output_type": "stream",
     "text": [
      "Saved transcription to ./khan_text/y2mate.com - Metric system units of distance  4th grade  Khan Academy_720pFH.txt\n",
      "MoviePy - Writing audio in chunk_0_30.mp3\n"
     ]
    },
    {
     "name": "stderr",
     "output_type": "stream",
     "text": [
      "chunk:  42%|████▏     | 4143/9969 [50:13<00:02, 2338.91it/s, now=None]"
     ]
    },
    {
     "name": "stdout",
     "output_type": "stream",
     "text": [
      "MoviePy - Done.\n",
      "MoviePy - Writing audio in chunk_30_60.mp3\n"
     ]
    },
    {
     "name": "stderr",
     "output_type": "stream",
     "text": [
      "chunk:  42%|████▏     | 4143/9969 [50:13<00:02, 2338.91it/s, now=None]"
     ]
    },
    {
     "name": "stdout",
     "output_type": "stream",
     "text": [
      "MoviePy - Done.\n",
      "MoviePy - Writing audio in chunk_60_90.mp3\n"
     ]
    },
    {
     "name": "stderr",
     "output_type": "stream",
     "text": [
      "chunk:  42%|████▏     | 4143/9969 [50:14<00:02, 2338.91it/s, now=None]"
     ]
    },
    {
     "name": "stdout",
     "output_type": "stream",
     "text": [
      "MoviePy - Done.\n",
      "MoviePy - Writing audio in chunk_90_120.mp3\n"
     ]
    },
    {
     "name": "stderr",
     "output_type": "stream",
     "text": [
      "chunk:  42%|████▏     | 4143/9969 [50:14<00:02, 2338.91it/s, now=None]"
     ]
    },
    {
     "name": "stdout",
     "output_type": "stream",
     "text": [
      "MoviePy - Done.\n",
      "MoviePy - Writing audio in chunk_120_150.mp3\n"
     ]
    },
    {
     "name": "stderr",
     "output_type": "stream",
     "text": [
      "chunk:  42%|████▏     | 4143/9969 [50:14<00:02, 2338.91it/s, now=None]"
     ]
    },
    {
     "name": "stdout",
     "output_type": "stream",
     "text": [
      "MoviePy - Done.\n",
      "MoviePy - Writing audio in chunk_150_180.mp3\n"
     ]
    },
    {
     "name": "stderr",
     "output_type": "stream",
     "text": [
      "chunk:  42%|████▏     | 4143/9969 [50:14<00:02, 2338.91it/s, now=None]"
     ]
    },
    {
     "name": "stdout",
     "output_type": "stream",
     "text": [
      "MoviePy - Done.\n",
      "MoviePy - Writing audio in chunk_180_210.mp3\n"
     ]
    },
    {
     "name": "stderr",
     "output_type": "stream",
     "text": [
      "chunk:  42%|████▏     | 4143/9969 [50:15<00:02, 2338.91it/s, now=None]"
     ]
    },
    {
     "name": "stdout",
     "output_type": "stream",
     "text": [
      "MoviePy - Done.\n",
      "MoviePy - Writing audio in chunk_210_240.mp3\n"
     ]
    },
    {
     "name": "stderr",
     "output_type": "stream",
     "text": [
      "chunk:  42%|████▏     | 4143/9969 [50:15<00:02, 2338.91it/s, now=None]"
     ]
    },
    {
     "name": "stdout",
     "output_type": "stream",
     "text": [
      "MoviePy - Done.\n",
      "MoviePy - Writing audio in chunk_240_253.mp3\n"
     ]
    },
    {
     "name": "stderr",
     "output_type": "stream",
     "text": [
      "chunk:  42%|████▏     | 4143/9969 [50:15<00:02, 2338.91it/s, now=None]"
     ]
    },
    {
     "name": "stdout",
     "output_type": "stream",
     "text": [
      "MoviePy - Done.\n"
     ]
    },
    {
     "name": "stderr",
     "output_type": "stream",
     "text": [
      "chunk:  42%|████▏     | 4143/9969 [50:55<00:02, 2338.91it/s, now=None]"
     ]
    },
    {
     "name": "stdout",
     "output_type": "stream",
     "text": [
      "Saved transcription to ./khan_text/y2mate.com - Metric system units of volume  4th grade  Khan Academy_720pFH.txt\n",
      "MoviePy - Writing audio in chunk_0_30.mp3\n"
     ]
    },
    {
     "name": "stderr",
     "output_type": "stream",
     "text": [
      "chunk:  42%|████▏     | 4143/9969 [50:55<00:02, 2338.91it/s, now=None]"
     ]
    },
    {
     "name": "stdout",
     "output_type": "stream",
     "text": [
      "MoviePy - Done.\n",
      "MoviePy - Writing audio in chunk_30_60.mp3\n"
     ]
    },
    {
     "name": "stderr",
     "output_type": "stream",
     "text": [
      "chunk:  42%|████▏     | 4143/9969 [50:55<00:02, 2338.91it/s, now=None]"
     ]
    },
    {
     "name": "stdout",
     "output_type": "stream",
     "text": [
      "MoviePy - Done.\n",
      "MoviePy - Writing audio in chunk_60_90.mp3\n"
     ]
    },
    {
     "name": "stderr",
     "output_type": "stream",
     "text": [
      "chunk:  42%|████▏     | 4143/9969 [50:56<00:02, 2338.91it/s, now=None]"
     ]
    },
    {
     "name": "stdout",
     "output_type": "stream",
     "text": [
      "MoviePy - Done.\n",
      "MoviePy - Writing audio in chunk_90_120.mp3\n"
     ]
    },
    {
     "name": "stderr",
     "output_type": "stream",
     "text": [
      "chunk:  42%|████▏     | 4143/9969 [50:56<00:02, 2338.91it/s, now=None]"
     ]
    },
    {
     "name": "stdout",
     "output_type": "stream",
     "text": [
      "MoviePy - Done.\n",
      "MoviePy - Writing audio in chunk_120_150.mp3\n"
     ]
    },
    {
     "name": "stderr",
     "output_type": "stream",
     "text": [
      "chunk:  42%|████▏     | 4143/9969 [50:56<00:02, 2338.91it/s, now=None]"
     ]
    },
    {
     "name": "stdout",
     "output_type": "stream",
     "text": [
      "MoviePy - Done.\n",
      "MoviePy - Writing audio in chunk_150_180.mp3\n"
     ]
    },
    {
     "name": "stderr",
     "output_type": "stream",
     "text": [
      "chunk:  42%|████▏     | 4143/9969 [50:56<00:02, 2338.91it/s, now=None]"
     ]
    },
    {
     "name": "stdout",
     "output_type": "stream",
     "text": [
      "MoviePy - Done.\n",
      "MoviePy - Writing audio in chunk_180_210.mp3\n"
     ]
    },
    {
     "name": "stderr",
     "output_type": "stream",
     "text": [
      "chunk:  42%|████▏     | 4143/9969 [50:57<00:02, 2338.91it/s, now=None]"
     ]
    },
    {
     "name": "stdout",
     "output_type": "stream",
     "text": [
      "MoviePy - Done.\n",
      "MoviePy - Writing audio in chunk_210_240.mp3\n"
     ]
    },
    {
     "name": "stderr",
     "output_type": "stream",
     "text": [
      "chunk:  42%|████▏     | 4143/9969 [50:57<00:02, 2338.91it/s, now=None]"
     ]
    },
    {
     "name": "stdout",
     "output_type": "stream",
     "text": [
      "MoviePy - Done.\n",
      "MoviePy - Writing audio in chunk_240_265.mp3\n"
     ]
    },
    {
     "name": "stderr",
     "output_type": "stream",
     "text": [
      "chunk:  42%|████▏     | 4143/9969 [50:57<00:02, 2338.91it/s, now=None]"
     ]
    },
    {
     "name": "stdout",
     "output_type": "stream",
     "text": [
      "MoviePy - Done.\n"
     ]
    },
    {
     "name": "stderr",
     "output_type": "stream",
     "text": [
      "chunk:  42%|████▏     | 4143/9969 [51:42<00:02, 2338.91it/s, now=None]"
     ]
    },
    {
     "name": "stdout",
     "output_type": "stream",
     "text": [
      "Saved transcription to ./khan_text/y2mate.com - Metric system units of weight  4th grade  Khan Academy_720pFH.txt\n",
      "MoviePy - Writing audio in chunk_0_30.mp3\n"
     ]
    },
    {
     "name": "stderr",
     "output_type": "stream",
     "text": [
      "chunk:  42%|████▏     | 4143/9969 [51:42<00:02, 2338.91it/s, now=None]"
     ]
    },
    {
     "name": "stdout",
     "output_type": "stream",
     "text": [
      "MoviePy - Done.\n",
      "MoviePy - Writing audio in chunk_30_60.mp3\n"
     ]
    },
    {
     "name": "stderr",
     "output_type": "stream",
     "text": [
      "chunk:  42%|████▏     | 4143/9969 [51:42<00:02, 2338.91it/s, now=None]"
     ]
    },
    {
     "name": "stdout",
     "output_type": "stream",
     "text": [
      "MoviePy - Done.\n",
      "MoviePy - Writing audio in chunk_60_90.mp3\n"
     ]
    },
    {
     "name": "stderr",
     "output_type": "stream",
     "text": [
      "chunk:  42%|████▏     | 4143/9969 [51:42<00:02, 2338.91it/s, now=None]"
     ]
    },
    {
     "name": "stdout",
     "output_type": "stream",
     "text": [
      "MoviePy - Done.\n",
      "MoviePy - Writing audio in chunk_90_113.mp3\n"
     ]
    },
    {
     "name": "stderr",
     "output_type": "stream",
     "text": [
      "chunk:  42%|████▏     | 4143/9969 [51:43<00:02, 2338.91it/s, now=None]"
     ]
    },
    {
     "name": "stdout",
     "output_type": "stream",
     "text": [
      "MoviePy - Done.\n"
     ]
    },
    {
     "name": "stderr",
     "output_type": "stream",
     "text": [
      "chunk:  42%|████▏     | 4143/9969 [52:01<00:02, 2338.91it/s, now=None]"
     ]
    },
    {
     "name": "stdout",
     "output_type": "stream",
     "text": [
      "Saved transcription to ./khan_text/y2mate.com - Missing numbers between 0 and 120  Counting  Early Math  Khan Academy_720pFH.txt\n",
      "MoviePy - Writing audio in chunk_0_30.mp3\n"
     ]
    },
    {
     "name": "stderr",
     "output_type": "stream",
     "text": [
      "chunk:  42%|████▏     | 4143/9969 [52:01<00:02, 2338.91it/s, now=None]"
     ]
    },
    {
     "name": "stdout",
     "output_type": "stream",
     "text": [
      "MoviePy - Done.\n",
      "MoviePy - Writing audio in chunk_30_60.mp3\n"
     ]
    },
    {
     "name": "stderr",
     "output_type": "stream",
     "text": [
      "chunk:  42%|████▏     | 4143/9969 [52:01<00:02, 2338.91it/s, now=None]"
     ]
    },
    {
     "name": "stdout",
     "output_type": "stream",
     "text": [
      "MoviePy - Done.\n",
      "MoviePy - Writing audio in chunk_60_90.mp3\n"
     ]
    },
    {
     "name": "stderr",
     "output_type": "stream",
     "text": [
      "chunk:  42%|████▏     | 4143/9969 [52:02<00:02, 2338.91it/s, now=None]"
     ]
    },
    {
     "name": "stdout",
     "output_type": "stream",
     "text": [
      "MoviePy - Done.\n",
      "MoviePy - Writing audio in chunk_90_120.mp3\n"
     ]
    },
    {
     "name": "stderr",
     "output_type": "stream",
     "text": [
      "chunk:  42%|████▏     | 4143/9969 [52:02<00:02, 2338.91it/s, now=None]"
     ]
    },
    {
     "name": "stdout",
     "output_type": "stream",
     "text": [
      "MoviePy - Done.\n",
      "MoviePy - Writing audio in chunk_120_150.mp3\n"
     ]
    },
    {
     "name": "stderr",
     "output_type": "stream",
     "text": [
      "chunk:  42%|████▏     | 4143/9969 [52:02<00:02, 2338.91it/s, now=None]"
     ]
    },
    {
     "name": "stdout",
     "output_type": "stream",
     "text": [
      "MoviePy - Done.\n",
      "MoviePy - Writing audio in chunk_150_180.mp3\n"
     ]
    },
    {
     "name": "stderr",
     "output_type": "stream",
     "text": [
      "chunk:  42%|████▏     | 4143/9969 [52:02<00:02, 2338.91it/s, now=None]"
     ]
    },
    {
     "name": "stdout",
     "output_type": "stream",
     "text": [
      "MoviePy - Done.\n",
      "MoviePy - Writing audio in chunk_180_210.mp3\n"
     ]
    },
    {
     "name": "stderr",
     "output_type": "stream",
     "text": [
      "chunk:  42%|████▏     | 4143/9969 [52:03<00:02, 2338.91it/s, now=None]"
     ]
    },
    {
     "name": "stdout",
     "output_type": "stream",
     "text": [
      "MoviePy - Done.\n",
      "MoviePy - Writing audio in chunk_210_240.mp3\n"
     ]
    },
    {
     "name": "stderr",
     "output_type": "stream",
     "text": [
      "chunk:  42%|████▏     | 4143/9969 [52:03<00:02, 2338.91it/s, now=None]"
     ]
    },
    {
     "name": "stdout",
     "output_type": "stream",
     "text": [
      "MoviePy - Done.\n",
      "MoviePy - Writing audio in chunk_240_270.mp3\n"
     ]
    },
    {
     "name": "stderr",
     "output_type": "stream",
     "text": [
      "chunk:  42%|████▏     | 4143/9969 [52:03<00:02, 2338.91it/s, now=None]"
     ]
    },
    {
     "name": "stdout",
     "output_type": "stream",
     "text": [
      "MoviePy - Done.\n",
      "MoviePy - Writing audio in chunk_270_300.mp3\n"
     ]
    },
    {
     "name": "stderr",
     "output_type": "stream",
     "text": [
      "chunk:  42%|████▏     | 4143/9969 [52:03<00:02, 2338.91it/s, now=None]"
     ]
    },
    {
     "name": "stdout",
     "output_type": "stream",
     "text": [
      "MoviePy - Done.\n",
      "MoviePy - Writing audio in chunk_300_330.mp3\n"
     ]
    },
    {
     "name": "stderr",
     "output_type": "stream",
     "text": [
      "chunk:  42%|████▏     | 4143/9969 [52:04<00:02, 2338.91it/s, now=None]"
     ]
    },
    {
     "name": "stdout",
     "output_type": "stream",
     "text": [
      "MoviePy - Done.\n",
      "MoviePy - Writing audio in chunk_330_343.mp3\n"
     ]
    },
    {
     "name": "stderr",
     "output_type": "stream",
     "text": [
      "chunk:  42%|████▏     | 4143/9969 [52:04<00:02, 2338.91it/s, now=None]"
     ]
    },
    {
     "name": "stdout",
     "output_type": "stream",
     "text": [
      "MoviePy - Done.\n"
     ]
    },
    {
     "name": "stderr",
     "output_type": "stream",
     "text": [
      "chunk:  42%|████▏     | 4143/9969 [53:04<00:02, 2338.91it/s, now=None]"
     ]
    },
    {
     "name": "stdout",
     "output_type": "stream",
     "text": [
      "Saved transcription to ./khan_text/y2mate.com - Missing numbers in addition and subtraction  2nd grade  Khan Academy_720pFH.txt\n",
      "MoviePy - Writing audio in chunk_0_30.mp3\n"
     ]
    },
    {
     "name": "stderr",
     "output_type": "stream",
     "text": [
      "chunk:  42%|████▏     | 4143/9969 [53:04<00:02, 2338.91it/s, now=None]"
     ]
    },
    {
     "name": "stdout",
     "output_type": "stream",
     "text": [
      "MoviePy - Done.\n",
      "MoviePy - Writing audio in chunk_30_60.mp3\n"
     ]
    },
    {
     "name": "stderr",
     "output_type": "stream",
     "text": [
      "chunk:  42%|████▏     | 4143/9969 [53:04<00:02, 2338.91it/s, now=None]"
     ]
    },
    {
     "name": "stdout",
     "output_type": "stream",
     "text": [
      "MoviePy - Done.\n",
      "MoviePy - Writing audio in chunk_60_90.mp3\n"
     ]
    },
    {
     "name": "stderr",
     "output_type": "stream",
     "text": [
      "chunk:  42%|████▏     | 4143/9969 [53:04<00:02, 2338.91it/s, now=None]"
     ]
    },
    {
     "name": "stdout",
     "output_type": "stream",
     "text": [
      "MoviePy - Done.\n",
      "MoviePy - Writing audio in chunk_90_120.mp3\n"
     ]
    },
    {
     "name": "stderr",
     "output_type": "stream",
     "text": [
      "chunk:  42%|████▏     | 4143/9969 [53:05<00:02, 2338.91it/s, now=None]"
     ]
    },
    {
     "name": "stdout",
     "output_type": "stream",
     "text": [
      "MoviePy - Done.\n",
      "MoviePy - Writing audio in chunk_120_150.mp3\n"
     ]
    },
    {
     "name": "stderr",
     "output_type": "stream",
     "text": [
      "chunk:  42%|████▏     | 4143/9969 [53:05<00:02, 2338.91it/s, now=None]"
     ]
    },
    {
     "name": "stdout",
     "output_type": "stream",
     "text": [
      "MoviePy - Done.\n",
      "MoviePy - Writing audio in chunk_150_177.mp3\n"
     ]
    },
    {
     "name": "stderr",
     "output_type": "stream",
     "text": [
      "chunk:  42%|████▏     | 4143/9969 [53:05<00:02, 2338.91it/s, now=None]"
     ]
    },
    {
     "name": "stdout",
     "output_type": "stream",
     "text": [
      "MoviePy - Done.\n"
     ]
    },
    {
     "name": "stderr",
     "output_type": "stream",
     "text": [
      "chunk:  42%|████▏     | 4143/9969 [53:29<00:02, 2338.91it/s, now=None]"
     ]
    },
    {
     "name": "stdout",
     "output_type": "stream",
     "text": [
      "Saved transcription to ./khan_text/y2mate.com - Monkeys for a party  Place value tens and hundreds  Early Math  Khan Academy_v720P.txt\n",
      "MoviePy - Writing audio in chunk_0_30.mp3\n"
     ]
    },
    {
     "name": "stderr",
     "output_type": "stream",
     "text": [
      "chunk:  42%|████▏     | 4143/9969 [53:30<00:02, 2338.91it/s, now=None]"
     ]
    },
    {
     "name": "stdout",
     "output_type": "stream",
     "text": [
      "MoviePy - Done.\n",
      "MoviePy - Writing audio in chunk_30_60.mp3\n"
     ]
    },
    {
     "name": "stderr",
     "output_type": "stream",
     "text": [
      "chunk:  42%|████▏     | 4143/9969 [53:30<00:02, 2338.91it/s, now=None]"
     ]
    },
    {
     "name": "stdout",
     "output_type": "stream",
     "text": [
      "MoviePy - Done.\n",
      "MoviePy - Writing audio in chunk_60_90.mp3\n"
     ]
    },
    {
     "name": "stderr",
     "output_type": "stream",
     "text": [
      "chunk:  42%|████▏     | 4143/9969 [53:30<00:02, 2338.91it/s, now=None]"
     ]
    },
    {
     "name": "stdout",
     "output_type": "stream",
     "text": [
      "MoviePy - Done.\n",
      "MoviePy - Writing audio in chunk_90_120.mp3\n"
     ]
    },
    {
     "name": "stderr",
     "output_type": "stream",
     "text": [
      "chunk:  42%|████▏     | 4143/9969 [53:30<00:02, 2338.91it/s, now=None]"
     ]
    },
    {
     "name": "stdout",
     "output_type": "stream",
     "text": [
      "MoviePy - Done.\n",
      "MoviePy - Writing audio in chunk_120_150.mp3\n"
     ]
    },
    {
     "name": "stderr",
     "output_type": "stream",
     "text": [
      "chunk:  42%|████▏     | 4143/9969 [53:31<00:02, 2338.91it/s, now=None]"
     ]
    },
    {
     "name": "stdout",
     "output_type": "stream",
     "text": [
      "MoviePy - Done.\n",
      "MoviePy - Writing audio in chunk_150_180.mp3\n"
     ]
    },
    {
     "name": "stderr",
     "output_type": "stream",
     "text": [
      "chunk:  42%|████▏     | 4143/9969 [53:31<00:02, 2338.91it/s, now=None]"
     ]
    },
    {
     "name": "stdout",
     "output_type": "stream",
     "text": [
      "MoviePy - Done.\n",
      "MoviePy - Writing audio in chunk_180_210.mp3\n"
     ]
    },
    {
     "name": "stderr",
     "output_type": "stream",
     "text": [
      "chunk:  42%|████▏     | 4143/9969 [53:31<00:02, 2338.91it/s, now=None]"
     ]
    },
    {
     "name": "stdout",
     "output_type": "stream",
     "text": [
      "MoviePy - Done.\n",
      "MoviePy - Writing audio in chunk_210_240.mp3\n"
     ]
    },
    {
     "name": "stderr",
     "output_type": "stream",
     "text": [
      "chunk:  42%|████▏     | 4143/9969 [53:31<00:02, 2338.91it/s, now=None]"
     ]
    },
    {
     "name": "stdout",
     "output_type": "stream",
     "text": [
      "MoviePy - Done.\n",
      "MoviePy - Writing audio in chunk_240_270.mp3\n"
     ]
    },
    {
     "name": "stderr",
     "output_type": "stream",
     "text": [
      "chunk:  42%|████▏     | 4143/9969 [53:32<00:02, 2338.91it/s, now=None]"
     ]
    },
    {
     "name": "stdout",
     "output_type": "stream",
     "text": [
      "MoviePy - Done.\n",
      "MoviePy - Writing audio in chunk_270_300.mp3\n"
     ]
    },
    {
     "name": "stderr",
     "output_type": "stream",
     "text": [
      "chunk:  42%|████▏     | 4143/9969 [53:32<00:02, 2338.91it/s, now=None]"
     ]
    },
    {
     "name": "stdout",
     "output_type": "stream",
     "text": [
      "MoviePy - Done.\n",
      "MoviePy - Writing audio in chunk_300_307.mp3\n"
     ]
    },
    {
     "name": "stderr",
     "output_type": "stream",
     "text": [
      "chunk:  42%|████▏     | 4143/9969 [53:32<00:02, 2338.91it/s, now=None]"
     ]
    },
    {
     "name": "stdout",
     "output_type": "stream",
     "text": [
      "MoviePy - Done.\n"
     ]
    },
    {
     "name": "stderr",
     "output_type": "stream",
     "text": [
      "chunk:  42%|████▏     | 4143/9969 [54:19<00:02, 2338.91it/s, now=None]"
     ]
    },
    {
     "name": "stdout",
     "output_type": "stream",
     "text": [
      "Saved transcription to ./khan_text/y2mate.com - Multiplying 10s  Math  4th grade  Khan Academy_720pFH.txt\n",
      "MoviePy - Writing audio in chunk_0_30.mp3\n"
     ]
    },
    {
     "name": "stderr",
     "output_type": "stream",
     "text": [
      "chunk:  42%|████▏     | 4143/9969 [54:19<00:02, 2338.91it/s, now=None]"
     ]
    },
    {
     "name": "stdout",
     "output_type": "stream",
     "text": [
      "MoviePy - Done.\n",
      "MoviePy - Writing audio in chunk_30_60.mp3\n"
     ]
    },
    {
     "name": "stderr",
     "output_type": "stream",
     "text": [
      "chunk:  42%|████▏     | 4143/9969 [54:19<00:02, 2338.91it/s, now=None]"
     ]
    },
    {
     "name": "stdout",
     "output_type": "stream",
     "text": [
      "MoviePy - Done.\n",
      "MoviePy - Writing audio in chunk_60_90.mp3\n"
     ]
    },
    {
     "name": "stderr",
     "output_type": "stream",
     "text": [
      "chunk:  42%|████▏     | 4143/9969 [54:19<00:02, 2338.91it/s, now=None]"
     ]
    },
    {
     "name": "stdout",
     "output_type": "stream",
     "text": [
      "MoviePy - Done.\n",
      "MoviePy - Writing audio in chunk_90_120.mp3\n"
     ]
    },
    {
     "name": "stderr",
     "output_type": "stream",
     "text": [
      "chunk:  42%|████▏     | 4143/9969 [54:20<00:02, 2338.91it/s, now=None]"
     ]
    },
    {
     "name": "stdout",
     "output_type": "stream",
     "text": [
      "MoviePy - Done.\n",
      "MoviePy - Writing audio in chunk_120_150.mp3\n"
     ]
    },
    {
     "name": "stderr",
     "output_type": "stream",
     "text": [
      "chunk:  42%|████▏     | 4143/9969 [54:20<00:02, 2338.91it/s, now=None]"
     ]
    },
    {
     "name": "stdout",
     "output_type": "stream",
     "text": [
      "MoviePy - Done.\n",
      "MoviePy - Writing audio in chunk_150_180.mp3\n"
     ]
    },
    {
     "name": "stderr",
     "output_type": "stream",
     "text": [
      "chunk:  42%|████▏     | 4143/9969 [54:20<00:02, 2338.91it/s, now=None]"
     ]
    },
    {
     "name": "stdout",
     "output_type": "stream",
     "text": [
      "MoviePy - Done.\n",
      "MoviePy - Writing audio in chunk_180_210.mp3\n"
     ]
    },
    {
     "name": "stderr",
     "output_type": "stream",
     "text": [
      "chunk:  42%|████▏     | 4143/9969 [54:20<00:02, 2338.91it/s, now=None]"
     ]
    },
    {
     "name": "stdout",
     "output_type": "stream",
     "text": [
      "MoviePy - Done.\n",
      "MoviePy - Writing audio in chunk_210_240.mp3\n"
     ]
    },
    {
     "name": "stderr",
     "output_type": "stream",
     "text": [
      "chunk:  42%|████▏     | 4143/9969 [54:21<00:02, 2338.91it/s, now=None]"
     ]
    },
    {
     "name": "stdout",
     "output_type": "stream",
     "text": [
      "MoviePy - Done.\n",
      "MoviePy - Writing audio in chunk_240_246.mp3\n"
     ]
    },
    {
     "name": "stderr",
     "output_type": "stream",
     "text": [
      "chunk:  42%|████▏     | 4143/9969 [54:21<00:02, 2338.91it/s, now=None]"
     ]
    },
    {
     "name": "stdout",
     "output_type": "stream",
     "text": [
      "MoviePy - Done.\n"
     ]
    },
    {
     "name": "stderr",
     "output_type": "stream",
     "text": [
      "chunk:  42%|████▏     | 4143/9969 [55:02<00:02, 2338.91it/s, now=None]"
     ]
    },
    {
     "name": "stdout",
     "output_type": "stream",
     "text": [
      "Saved transcription to ./khan_text/y2mate.com - Multiplying 2 digit numbers  Multiplication and division  4th grade  Khan Academy_720pFH.txt\n",
      "MoviePy - Writing audio in chunk_0_30.mp3\n"
     ]
    },
    {
     "name": "stderr",
     "output_type": "stream",
     "text": [
      "chunk:  42%|████▏     | 4143/9969 [55:03<00:02, 2338.91it/s, now=None]"
     ]
    },
    {
     "name": "stdout",
     "output_type": "stream",
     "text": [
      "MoviePy - Done.\n",
      "MoviePy - Writing audio in chunk_30_60.mp3\n"
     ]
    },
    {
     "name": "stderr",
     "output_type": "stream",
     "text": [
      "chunk:  42%|████▏     | 4143/9969 [55:03<00:02, 2338.91it/s, now=None]"
     ]
    },
    {
     "name": "stdout",
     "output_type": "stream",
     "text": [
      "MoviePy - Done.\n",
      "MoviePy - Writing audio in chunk_60_90.mp3\n"
     ]
    },
    {
     "name": "stderr",
     "output_type": "stream",
     "text": [
      "chunk:  42%|████▏     | 4143/9969 [55:03<00:02, 2338.91it/s, now=None]"
     ]
    },
    {
     "name": "stdout",
     "output_type": "stream",
     "text": [
      "MoviePy - Done.\n",
      "MoviePy - Writing audio in chunk_90_120.mp3\n"
     ]
    },
    {
     "name": "stderr",
     "output_type": "stream",
     "text": [
      "chunk:  42%|████▏     | 4143/9969 [55:04<00:02, 2338.91it/s, now=None]"
     ]
    },
    {
     "name": "stdout",
     "output_type": "stream",
     "text": [
      "MoviePy - Done.\n",
      "MoviePy - Writing audio in chunk_120_150.mp3\n"
     ]
    },
    {
     "name": "stderr",
     "output_type": "stream",
     "text": [
      "chunk:  42%|████▏     | 4143/9969 [55:04<00:02, 2338.91it/s, now=None]"
     ]
    },
    {
     "name": "stdout",
     "output_type": "stream",
     "text": [
      "MoviePy - Done.\n",
      "MoviePy - Writing audio in chunk_150_180.mp3\n"
     ]
    },
    {
     "name": "stderr",
     "output_type": "stream",
     "text": [
      "chunk:  42%|████▏     | 4143/9969 [55:04<00:02, 2338.91it/s, now=None]"
     ]
    },
    {
     "name": "stdout",
     "output_type": "stream",
     "text": [
      "MoviePy - Done.\n",
      "MoviePy - Writing audio in chunk_180_210.mp3\n"
     ]
    },
    {
     "name": "stderr",
     "output_type": "stream",
     "text": [
      "chunk:  42%|████▏     | 4143/9969 [55:04<00:02, 2338.91it/s, now=None]"
     ]
    },
    {
     "name": "stdout",
     "output_type": "stream",
     "text": [
      "MoviePy - Done.\n",
      "MoviePy - Writing audio in chunk_210_240.mp3\n"
     ]
    },
    {
     "name": "stderr",
     "output_type": "stream",
     "text": [
      "chunk:  42%|████▏     | 4143/9969 [55:05<00:02, 2338.91it/s, now=None]"
     ]
    },
    {
     "name": "stdout",
     "output_type": "stream",
     "text": [
      "MoviePy - Done.\n",
      "MoviePy - Writing audio in chunk_240_270.mp3\n"
     ]
    },
    {
     "name": "stderr",
     "output_type": "stream",
     "text": [
      "chunk:  42%|████▏     | 4143/9969 [55:05<00:02, 2338.91it/s, now=None]"
     ]
    },
    {
     "name": "stdout",
     "output_type": "stream",
     "text": [
      "MoviePy - Done.\n",
      "MoviePy - Writing audio in chunk_270_297.mp3\n"
     ]
    },
    {
     "name": "stderr",
     "output_type": "stream",
     "text": [
      "chunk:  42%|████▏     | 4143/9969 [55:05<00:02, 2338.91it/s, now=None]"
     ]
    },
    {
     "name": "stdout",
     "output_type": "stream",
     "text": [
      "MoviePy - Done.\n"
     ]
    },
    {
     "name": "stderr",
     "output_type": "stream",
     "text": [
      "chunk:  42%|████▏     | 4143/9969 [56:05<00:02, 2338.91it/s, now=None]"
     ]
    },
    {
     "name": "stdout",
     "output_type": "stream",
     "text": [
      "Saved transcription to ./khan_text/y2mate.com - Number grid  Counting  Early Math  Khan Academy_720pFH.txt\n",
      "MoviePy - Writing audio in chunk_0_30.mp3\n"
     ]
    },
    {
     "name": "stderr",
     "output_type": "stream",
     "text": [
      "chunk:  42%|████▏     | 4143/9969 [56:06<00:02, 2338.91it/s, now=None]"
     ]
    },
    {
     "name": "stdout",
     "output_type": "stream",
     "text": [
      "MoviePy - Done.\n",
      "MoviePy - Writing audio in chunk_30_60.mp3\n"
     ]
    },
    {
     "name": "stderr",
     "output_type": "stream",
     "text": [
      "chunk:  42%|████▏     | 4143/9969 [56:06<00:02, 2338.91it/s, now=None]"
     ]
    },
    {
     "name": "stdout",
     "output_type": "stream",
     "text": [
      "MoviePy - Done.\n",
      "MoviePy - Writing audio in chunk_60_90.mp3\n"
     ]
    },
    {
     "name": "stderr",
     "output_type": "stream",
     "text": [
      "chunk:  42%|████▏     | 4143/9969 [56:06<00:02, 2338.91it/s, now=None]"
     ]
    },
    {
     "name": "stdout",
     "output_type": "stream",
     "text": [
      "MoviePy - Done.\n",
      "MoviePy - Writing audio in chunk_90_120.mp3\n"
     ]
    },
    {
     "name": "stderr",
     "output_type": "stream",
     "text": [
      "chunk:  42%|████▏     | 4143/9969 [56:06<00:02, 2338.91it/s, now=None]"
     ]
    },
    {
     "name": "stdout",
     "output_type": "stream",
     "text": [
      "MoviePy - Done.\n",
      "MoviePy - Writing audio in chunk_120_136.mp3\n"
     ]
    },
    {
     "name": "stderr",
     "output_type": "stream",
     "text": [
      "chunk:  42%|████▏     | 4143/9969 [56:07<00:02, 2338.91it/s, now=None]"
     ]
    },
    {
     "name": "stdout",
     "output_type": "stream",
     "text": [
      "MoviePy - Done.\n"
     ]
    },
    {
     "name": "stderr",
     "output_type": "stream",
     "text": [
      "chunk:  42%|████▏     | 4143/9969 [56:51<00:02, 2338.91it/s, now=None]"
     ]
    },
    {
     "name": "stdout",
     "output_type": "stream",
     "text": [
      "Saved transcription to ./khan_text/y2mate.com - Pieces of fruit  Basic addition and subtraction  Early Math  Khan Academy_v720P.txt\n",
      "MoviePy - Writing audio in chunk_0_30.mp3\n"
     ]
    },
    {
     "name": "stderr",
     "output_type": "stream",
     "text": [
      "chunk:  42%|████▏     | 4143/9969 [56:51<00:02, 2338.91it/s, now=None]"
     ]
    },
    {
     "name": "stdout",
     "output_type": "stream",
     "text": [
      "MoviePy - Done.\n",
      "MoviePy - Writing audio in chunk_30_60.mp3\n"
     ]
    },
    {
     "name": "stderr",
     "output_type": "stream",
     "text": [
      "chunk:  42%|████▏     | 4143/9969 [56:51<00:02, 2338.91it/s, now=None]"
     ]
    },
    {
     "name": "stdout",
     "output_type": "stream",
     "text": [
      "MoviePy - Done.\n",
      "MoviePy - Writing audio in chunk_60_90.mp3\n"
     ]
    },
    {
     "name": "stderr",
     "output_type": "stream",
     "text": [
      "chunk:  42%|████▏     | 4143/9969 [56:52<00:02, 2338.91it/s, now=None]"
     ]
    },
    {
     "name": "stdout",
     "output_type": "stream",
     "text": [
      "MoviePy - Done.\n",
      "MoviePy - Writing audio in chunk_90_120.mp3\n"
     ]
    },
    {
     "name": "stderr",
     "output_type": "stream",
     "text": [
      "chunk:  42%|████▏     | 4143/9969 [56:52<00:02, 2338.91it/s, now=None]"
     ]
    },
    {
     "name": "stdout",
     "output_type": "stream",
     "text": [
      "MoviePy - Done.\n",
      "MoviePy - Writing audio in chunk_120_150.mp3\n"
     ]
    },
    {
     "name": "stderr",
     "output_type": "stream",
     "text": [
      "chunk:  42%|████▏     | 4143/9969 [56:52<00:02, 2338.91it/s, now=None]"
     ]
    },
    {
     "name": "stdout",
     "output_type": "stream",
     "text": [
      "MoviePy - Done.\n",
      "MoviePy - Writing audio in chunk_150_174.mp3\n"
     ]
    },
    {
     "name": "stderr",
     "output_type": "stream",
     "text": [
      "chunk:  42%|████▏     | 4143/9969 [56:53<00:02, 2338.91it/s, now=None]"
     ]
    },
    {
     "name": "stdout",
     "output_type": "stream",
     "text": [
      "MoviePy - Done.\n"
     ]
    },
    {
     "name": "stderr",
     "output_type": "stream",
     "text": [
      "chunk:  42%|████▏     | 4143/9969 [57:55<00:02, 2338.91it/s, now=None]"
     ]
    },
    {
     "name": "stdout",
     "output_type": "stream",
     "text": [
      "Saved transcription to ./khan_text/y2mate.com - Place value example with 25  Place value tens and hundreds  Early Math  Khan Academy_720pFH.txt\n",
      "MoviePy - Writing audio in chunk_0_30.mp3\n"
     ]
    },
    {
     "name": "stderr",
     "output_type": "stream",
     "text": [
      "chunk:  42%|████▏     | 4143/9969 [57:55<00:02, 2338.91it/s, now=None]"
     ]
    },
    {
     "name": "stdout",
     "output_type": "stream",
     "text": [
      "MoviePy - Done.\n",
      "MoviePy - Writing audio in chunk_30_60.mp3\n"
     ]
    },
    {
     "name": "stderr",
     "output_type": "stream",
     "text": [
      "chunk:  42%|████▏     | 4143/9969 [57:55<00:02, 2338.91it/s, now=None]"
     ]
    },
    {
     "name": "stdout",
     "output_type": "stream",
     "text": [
      "MoviePy - Done.\n",
      "MoviePy - Writing audio in chunk_60_90.mp3\n"
     ]
    },
    {
     "name": "stderr",
     "output_type": "stream",
     "text": [
      "chunk:  42%|████▏     | 4143/9969 [57:56<00:02, 2338.91it/s, now=None]"
     ]
    },
    {
     "name": "stdout",
     "output_type": "stream",
     "text": [
      "MoviePy - Done.\n",
      "MoviePy - Writing audio in chunk_90_120.mp3\n"
     ]
    },
    {
     "name": "stderr",
     "output_type": "stream",
     "text": [
      "chunk:  42%|████▏     | 4143/9969 [57:56<00:02, 2338.91it/s, now=None]"
     ]
    },
    {
     "name": "stdout",
     "output_type": "stream",
     "text": [
      "MoviePy - Done.\n",
      "MoviePy - Writing audio in chunk_120_150.mp3\n"
     ]
    },
    {
     "name": "stderr",
     "output_type": "stream",
     "text": [
      "chunk:  42%|████▏     | 4143/9969 [57:56<00:02, 2338.91it/s, now=None]"
     ]
    },
    {
     "name": "stdout",
     "output_type": "stream",
     "text": [
      "MoviePy - Done.\n",
      "MoviePy - Writing audio in chunk_150_180.mp3\n"
     ]
    },
    {
     "name": "stderr",
     "output_type": "stream",
     "text": [
      "chunk:  42%|████▏     | 4143/9969 [57:57<00:02, 2338.91it/s, now=None]"
     ]
    },
    {
     "name": "stdout",
     "output_type": "stream",
     "text": [
      "MoviePy - Done.\n",
      "MoviePy - Writing audio in chunk_180_210.mp3\n"
     ]
    },
    {
     "name": "stderr",
     "output_type": "stream",
     "text": [
      "chunk:  42%|████▏     | 4143/9969 [57:57<00:02, 2338.91it/s, now=None]"
     ]
    },
    {
     "name": "stdout",
     "output_type": "stream",
     "text": [
      "MoviePy - Done.\n",
      "MoviePy - Writing audio in chunk_210_240.mp3\n"
     ]
    },
    {
     "name": "stderr",
     "output_type": "stream",
     "text": [
      "chunk:  42%|████▏     | 4143/9969 [57:57<00:02, 2338.91it/s, now=None]"
     ]
    },
    {
     "name": "stdout",
     "output_type": "stream",
     "text": [
      "MoviePy - Done.\n",
      "MoviePy - Writing audio in chunk_240_259.mp3\n"
     ]
    },
    {
     "name": "stderr",
     "output_type": "stream",
     "text": [
      "chunk:  42%|████▏     | 4143/9969 [57:57<00:02, 2338.91it/s, now=None]"
     ]
    },
    {
     "name": "stdout",
     "output_type": "stream",
     "text": [
      "MoviePy - Done.\n"
     ]
    },
    {
     "name": "stderr",
     "output_type": "stream",
     "text": [
      "chunk:  42%|████▏     | 4143/9969 [59:39<00:02, 2338.91it/s, now=None]"
     ]
    },
    {
     "name": "stdout",
     "output_type": "stream",
     "text": [
      "Saved transcription to ./khan_text/y2mate.com - Place value example with 42  Place value tens and hundreds  Early Math  Khan Academy_720pFH.txt\n",
      "MoviePy - Writing audio in chunk_0_30.mp3\n"
     ]
    },
    {
     "name": "stderr",
     "output_type": "stream",
     "text": [
      "chunk:  42%|████▏     | 4143/9969 [59:39<00:02, 2338.91it/s, now=None]"
     ]
    },
    {
     "name": "stdout",
     "output_type": "stream",
     "text": [
      "MoviePy - Done.\n",
      "MoviePy - Writing audio in chunk_30_60.mp3\n"
     ]
    },
    {
     "name": "stderr",
     "output_type": "stream",
     "text": [
      "chunk:  42%|████▏     | 4143/9969 [59:40<00:02, 2338.91it/s, now=None]"
     ]
    },
    {
     "name": "stdout",
     "output_type": "stream",
     "text": [
      "MoviePy - Done.\n",
      "MoviePy - Writing audio in chunk_60_90.mp3\n"
     ]
    },
    {
     "name": "stderr",
     "output_type": "stream",
     "text": [
      "chunk:  42%|████▏     | 4143/9969 [59:40<00:02, 2338.91it/s, now=None]"
     ]
    },
    {
     "name": "stdout",
     "output_type": "stream",
     "text": [
      "MoviePy - Done.\n",
      "MoviePy - Writing audio in chunk_90_106.mp3\n"
     ]
    },
    {
     "name": "stderr",
     "output_type": "stream",
     "text": [
      "chunk:  42%|████▏     | 4143/9969 [59:40<00:02, 2338.91it/s, now=None]"
     ]
    },
    {
     "name": "stdout",
     "output_type": "stream",
     "text": [
      "MoviePy - Done.\n"
     ]
    },
    {
     "name": "stderr",
     "output_type": "stream",
     "text": [
      "chunk:  42%|████▏     | 4143/9969 [1:00:23<00:02, 2338.91it/s, now=None]"
     ]
    },
    {
     "name": "stdout",
     "output_type": "stream",
     "text": [
      "Saved transcription to ./khan_text/y2mate.com - Powers of fractions  Exponents radicals and scientific notation  PreAlgebra  Khan Academy_720pFH.txt\n",
      "MoviePy - Writing audio in chunk_0_30.mp3\n"
     ]
    },
    {
     "name": "stderr",
     "output_type": "stream",
     "text": [
      "chunk:  42%|████▏     | 4143/9969 [1:00:23<00:02, 2338.91it/s, now=None]"
     ]
    },
    {
     "name": "stdout",
     "output_type": "stream",
     "text": [
      "MoviePy - Done.\n",
      "MoviePy - Writing audio in chunk_30_60.mp3\n"
     ]
    },
    {
     "name": "stderr",
     "output_type": "stream",
     "text": [
      "chunk:  42%|████▏     | 4143/9969 [1:00:24<00:02, 2338.91it/s, now=None]"
     ]
    },
    {
     "name": "stdout",
     "output_type": "stream",
     "text": [
      "MoviePy - Done.\n",
      "MoviePy - Writing audio in chunk_60_90.mp3\n"
     ]
    },
    {
     "name": "stderr",
     "output_type": "stream",
     "text": [
      "chunk:  42%|████▏     | 4143/9969 [1:00:24<00:02, 2338.91it/s, now=None]"
     ]
    },
    {
     "name": "stdout",
     "output_type": "stream",
     "text": [
      "MoviePy - Done.\n",
      "MoviePy - Writing audio in chunk_90_120.mp3\n"
     ]
    },
    {
     "name": "stderr",
     "output_type": "stream",
     "text": [
      "chunk:  42%|████▏     | 4143/9969 [1:00:24<00:02, 2338.91it/s, now=None]"
     ]
    },
    {
     "name": "stdout",
     "output_type": "stream",
     "text": [
      "MoviePy - Done.\n",
      "MoviePy - Writing audio in chunk_120_150.mp3\n"
     ]
    },
    {
     "name": "stderr",
     "output_type": "stream",
     "text": [
      "chunk:  42%|████▏     | 4143/9969 [1:00:25<00:02, 2338.91it/s, now=None]"
     ]
    },
    {
     "name": "stdout",
     "output_type": "stream",
     "text": [
      "MoviePy - Done.\n",
      "MoviePy - Writing audio in chunk_150_180.mp3\n"
     ]
    },
    {
     "name": "stderr",
     "output_type": "stream",
     "text": [
      "chunk:  42%|████▏     | 4143/9969 [1:00:25<00:02, 2338.91it/s, now=None]"
     ]
    },
    {
     "name": "stdout",
     "output_type": "stream",
     "text": [
      "MoviePy - Done.\n",
      "MoviePy - Writing audio in chunk_180_210.mp3\n"
     ]
    },
    {
     "name": "stderr",
     "output_type": "stream",
     "text": [
      "chunk:  42%|████▏     | 4143/9969 [1:00:25<00:02, 2338.91it/s, now=None]"
     ]
    },
    {
     "name": "stdout",
     "output_type": "stream",
     "text": [
      "MoviePy - Done.\n",
      "MoviePy - Writing audio in chunk_210_240.mp3\n"
     ]
    },
    {
     "name": "stderr",
     "output_type": "stream",
     "text": [
      "chunk:  42%|████▏     | 4143/9969 [1:00:26<00:02, 2338.91it/s, now=None]"
     ]
    },
    {
     "name": "stdout",
     "output_type": "stream",
     "text": [
      "MoviePy - Done.\n",
      "MoviePy - Writing audio in chunk_240_270.mp3\n"
     ]
    },
    {
     "name": "stderr",
     "output_type": "stream",
     "text": [
      "chunk:  42%|████▏     | 4143/9969 [1:00:26<00:02, 2338.91it/s, now=None]"
     ]
    },
    {
     "name": "stdout",
     "output_type": "stream",
     "text": [
      "MoviePy - Done.\n",
      "MoviePy - Writing audio in chunk_270_279.mp3\n"
     ]
    },
    {
     "name": "stderr",
     "output_type": "stream",
     "text": [
      "chunk:  42%|████▏     | 4143/9969 [1:00:26<00:02, 2338.91it/s, now=None]"
     ]
    },
    {
     "name": "stdout",
     "output_type": "stream",
     "text": [
      "MoviePy - Done.\n"
     ]
    },
    {
     "name": "stderr",
     "output_type": "stream",
     "text": [
      "chunk:  42%|████▏     | 4143/9969 [1:02:06<00:02, 2338.91it/s, now=None]"
     ]
    },
    {
     "name": "stdout",
     "output_type": "stream",
     "text": [
      "Saved transcription to ./khan_text/y2mate.com - Recognizing prime and composite numbers  Factors and multiples  PreAlgebra  Khan Academy_720pFH.txt\n",
      "MoviePy - Writing audio in chunk_0_30.mp3\n"
     ]
    },
    {
     "name": "stderr",
     "output_type": "stream",
     "text": [
      "chunk:  42%|████▏     | 4143/9969 [1:02:07<00:02, 2338.91it/s, now=None]"
     ]
    },
    {
     "name": "stdout",
     "output_type": "stream",
     "text": [
      "MoviePy - Done.\n",
      "MoviePy - Writing audio in chunk_30_60.mp3\n"
     ]
    },
    {
     "name": "stderr",
     "output_type": "stream",
     "text": [
      "chunk:  42%|████▏     | 4143/9969 [1:02:07<00:02, 2338.91it/s, now=None]"
     ]
    },
    {
     "name": "stdout",
     "output_type": "stream",
     "text": [
      "MoviePy - Done.\n",
      "MoviePy - Writing audio in chunk_60_90.mp3\n"
     ]
    },
    {
     "name": "stderr",
     "output_type": "stream",
     "text": [
      "chunk:  42%|████▏     | 4143/9969 [1:02:07<00:02, 2338.91it/s, now=None]"
     ]
    },
    {
     "name": "stdout",
     "output_type": "stream",
     "text": [
      "MoviePy - Done.\n",
      "MoviePy - Writing audio in chunk_90_120.mp3\n"
     ]
    },
    {
     "name": "stderr",
     "output_type": "stream",
     "text": [
      "chunk:  42%|████▏     | 4143/9969 [1:02:07<00:02, 2338.91it/s, now=None]"
     ]
    },
    {
     "name": "stdout",
     "output_type": "stream",
     "text": [
      "MoviePy - Done.\n",
      "MoviePy - Writing audio in chunk_120_150.mp3\n"
     ]
    },
    {
     "name": "stderr",
     "output_type": "stream",
     "text": [
      "chunk:  42%|████▏     | 4143/9969 [1:02:08<00:02, 2338.91it/s, now=None]"
     ]
    },
    {
     "name": "stdout",
     "output_type": "stream",
     "text": [
      "MoviePy - Done.\n",
      "MoviePy - Writing audio in chunk_150_180.mp3\n"
     ]
    },
    {
     "name": "stderr",
     "output_type": "stream",
     "text": [
      "chunk:  42%|████▏     | 4143/9969 [1:02:08<00:02, 2338.91it/s, now=None]"
     ]
    },
    {
     "name": "stdout",
     "output_type": "stream",
     "text": [
      "MoviePy - Done.\n",
      "MoviePy - Writing audio in chunk_180_210.mp3\n"
     ]
    },
    {
     "name": "stderr",
     "output_type": "stream",
     "text": [
      "chunk:  42%|████▏     | 4143/9969 [1:02:08<00:02, 2338.91it/s, now=None]"
     ]
    },
    {
     "name": "stdout",
     "output_type": "stream",
     "text": [
      "MoviePy - Done.\n",
      "MoviePy - Writing audio in chunk_210_240.mp3\n"
     ]
    },
    {
     "name": "stderr",
     "output_type": "stream",
     "text": [
      "chunk:  42%|████▏     | 4143/9969 [1:02:08<00:02, 2338.91it/s, now=None]"
     ]
    },
    {
     "name": "stdout",
     "output_type": "stream",
     "text": [
      "MoviePy - Done.\n",
      "MoviePy - Writing audio in chunk_240_262.mp3\n"
     ]
    },
    {
     "name": "stderr",
     "output_type": "stream",
     "text": [
      "chunk:  42%|████▏     | 4143/9969 [1:02:09<00:02, 2338.91it/s, now=None]"
     ]
    },
    {
     "name": "stdout",
     "output_type": "stream",
     "text": [
      "MoviePy - Done.\n"
     ]
    },
    {
     "name": "stderr",
     "output_type": "stream",
     "text": [
      "chunk:  42%|████▏     | 4143/9969 [1:02:51<00:02, 2338.91it/s, now=None]"
     ]
    },
    {
     "name": "stdout",
     "output_type": "stream",
     "text": [
      "Saved transcription to ./khan_text/y2mate.com - Regrouping whole numbers  Arithmetic properties  PreAlgebra  Khan Academy_720pFH.txt\n",
      "MoviePy - Writing audio in chunk_0_30.mp3\n"
     ]
    },
    {
     "name": "stderr",
     "output_type": "stream",
     "text": [
      "chunk:  42%|████▏     | 4143/9969 [1:02:51<00:02, 2338.91it/s, now=None]"
     ]
    },
    {
     "name": "stdout",
     "output_type": "stream",
     "text": [
      "MoviePy - Done.\n",
      "MoviePy - Writing audio in chunk_30_60.mp3\n"
     ]
    },
    {
     "name": "stderr",
     "output_type": "stream",
     "text": [
      "chunk:  42%|████▏     | 4143/9969 [1:02:52<00:02, 2338.91it/s, now=None]"
     ]
    },
    {
     "name": "stdout",
     "output_type": "stream",
     "text": [
      "MoviePy - Done.\n",
      "MoviePy - Writing audio in chunk_60_90.mp3\n"
     ]
    },
    {
     "name": "stderr",
     "output_type": "stream",
     "text": [
      "chunk:  42%|████▏     | 4143/9969 [1:02:52<00:02, 2338.91it/s, now=None]"
     ]
    },
    {
     "name": "stdout",
     "output_type": "stream",
     "text": [
      "MoviePy - Done.\n",
      "MoviePy - Writing audio in chunk_90_120.mp3\n"
     ]
    },
    {
     "name": "stderr",
     "output_type": "stream",
     "text": [
      "chunk:  42%|████▏     | 4143/9969 [1:02:52<00:02, 2338.91it/s, now=None]"
     ]
    },
    {
     "name": "stdout",
     "output_type": "stream",
     "text": [
      "MoviePy - Done.\n",
      "MoviePy - Writing audio in chunk_120_125.mp3\n"
     ]
    },
    {
     "name": "stderr",
     "output_type": "stream",
     "text": [
      "chunk:  42%|████▏     | 4143/9969 [1:02:52<00:02, 2338.91it/s, now=None]"
     ]
    },
    {
     "name": "stdout",
     "output_type": "stream",
     "text": [
      "MoviePy - Done.\n"
     ]
    },
    {
     "name": "stderr",
     "output_type": "stream",
     "text": [
      "chunk:  42%|████▏     | 4143/9969 [1:03:14<00:02, 2338.91it/s, now=None]"
     ]
    },
    {
     "name": "stdout",
     "output_type": "stream",
     "text": [
      "Saved transcription to ./khan_text/y2mate.com - Relating addition and subtraction  Basic addition and subtraction  Early Math  Khan Academy_720pFH.txt\n",
      "MoviePy - Writing audio in chunk_0_30.mp3\n"
     ]
    },
    {
     "name": "stderr",
     "output_type": "stream",
     "text": [
      "chunk:  42%|████▏     | 4143/9969 [1:03:15<00:02, 2338.91it/s, now=None]"
     ]
    },
    {
     "name": "stdout",
     "output_type": "stream",
     "text": [
      "MoviePy - Done.\n",
      "MoviePy - Writing audio in chunk_30_60.mp3\n"
     ]
    },
    {
     "name": "stderr",
     "output_type": "stream",
     "text": [
      "chunk:  42%|████▏     | 4143/9969 [1:03:15<00:02, 2338.91it/s, now=None]"
     ]
    },
    {
     "name": "stdout",
     "output_type": "stream",
     "text": [
      "MoviePy - Done.\n",
      "MoviePy - Writing audio in chunk_60_90.mp3\n"
     ]
    },
    {
     "name": "stderr",
     "output_type": "stream",
     "text": [
      "chunk:  42%|████▏     | 4143/9969 [1:03:15<00:02, 2338.91it/s, now=None]"
     ]
    },
    {
     "name": "stdout",
     "output_type": "stream",
     "text": [
      "MoviePy - Done.\n",
      "MoviePy - Writing audio in chunk_90_120.mp3\n"
     ]
    },
    {
     "name": "stderr",
     "output_type": "stream",
     "text": [
      "chunk:  42%|████▏     | 4143/9969 [1:03:15<00:02, 2338.91it/s, now=None]"
     ]
    },
    {
     "name": "stdout",
     "output_type": "stream",
     "text": [
      "MoviePy - Done.\n",
      "MoviePy - Writing audio in chunk_120_129.mp3\n"
     ]
    },
    {
     "name": "stderr",
     "output_type": "stream",
     "text": [
      "chunk:  42%|████▏     | 4143/9969 [1:03:16<00:02, 2338.91it/s, now=None]"
     ]
    },
    {
     "name": "stdout",
     "output_type": "stream",
     "text": [
      "MoviePy - Done.\n"
     ]
    },
    {
     "name": "stderr",
     "output_type": "stream",
     "text": [
      "chunk:  42%|████▏     | 4143/9969 [1:03:40<00:02, 2338.91it/s, now=None]"
     ]
    },
    {
     "name": "stdout",
     "output_type": "stream",
     "text": [
      "Saved transcription to ./khan_text/y2mate.com - Repeated addition example  Addition and subtraction within 100  Early Math  Khan Academy_720pFH.txt\n",
      "MoviePy - Writing audio in chunk_0_30.mp3\n"
     ]
    },
    {
     "name": "stderr",
     "output_type": "stream",
     "text": [
      "chunk:  42%|████▏     | 4143/9969 [1:03:40<00:02, 2338.91it/s, now=None]"
     ]
    },
    {
     "name": "stdout",
     "output_type": "stream",
     "text": [
      "MoviePy - Done.\n",
      "MoviePy - Writing audio in chunk_30_60.mp3\n"
     ]
    },
    {
     "name": "stderr",
     "output_type": "stream",
     "text": [
      "chunk:  42%|████▏     | 4143/9969 [1:03:40<00:02, 2338.91it/s, now=None]"
     ]
    },
    {
     "name": "stdout",
     "output_type": "stream",
     "text": [
      "MoviePy - Done.\n",
      "MoviePy - Writing audio in chunk_60_90.mp3\n"
     ]
    },
    {
     "name": "stderr",
     "output_type": "stream",
     "text": [
      "chunk:  42%|████▏     | 4143/9969 [1:03:40<00:02, 2338.91it/s, now=None]"
     ]
    },
    {
     "name": "stdout",
     "output_type": "stream",
     "text": [
      "MoviePy - Done.\n",
      "MoviePy - Writing audio in chunk_90_120.mp3\n"
     ]
    },
    {
     "name": "stderr",
     "output_type": "stream",
     "text": [
      "chunk:  42%|████▏     | 4143/9969 [1:03:41<00:02, 2338.91it/s, now=None]"
     ]
    },
    {
     "name": "stdout",
     "output_type": "stream",
     "text": [
      "MoviePy - Done.\n",
      "MoviePy - Writing audio in chunk_120_150.mp3\n"
     ]
    },
    {
     "name": "stderr",
     "output_type": "stream",
     "text": [
      "chunk:  42%|████▏     | 4143/9969 [1:03:41<00:02, 2338.91it/s, now=None]"
     ]
    },
    {
     "name": "stdout",
     "output_type": "stream",
     "text": [
      "MoviePy - Done.\n",
      "MoviePy - Writing audio in chunk_150_180.mp3\n"
     ]
    },
    {
     "name": "stderr",
     "output_type": "stream",
     "text": [
      "chunk:  42%|████▏     | 4143/9969 [1:03:41<00:02, 2338.91it/s, now=None]"
     ]
    },
    {
     "name": "stdout",
     "output_type": "stream",
     "text": [
      "MoviePy - Done.\n",
      "MoviePy - Writing audio in chunk_180_198.mp3\n"
     ]
    },
    {
     "name": "stderr",
     "output_type": "stream",
     "text": [
      "chunk:  42%|████▏     | 4143/9969 [1:03:41<00:02, 2338.91it/s, now=None]"
     ]
    },
    {
     "name": "stdout",
     "output_type": "stream",
     "text": [
      "MoviePy - Done.\n"
     ]
    },
    {
     "name": "stderr",
     "output_type": "stream",
     "text": [
      "chunk:  42%|████▏     | 4143/9969 [1:04:14<00:02, 2338.91it/s, now=None]"
     ]
    },
    {
     "name": "stdout",
     "output_type": "stream",
     "text": [
      "Saved transcription to ./khan_text/y2mate.com - Representing and comparing rates  Linear equations and functions  8th grade  Khan Academy_720pFH.txt\n",
      "MoviePy - Writing audio in chunk_0_30.mp3\n"
     ]
    },
    {
     "name": "stderr",
     "output_type": "stream",
     "text": [
      "chunk:  42%|████▏     | 4143/9969 [1:04:15<00:02, 2338.91it/s, now=None]"
     ]
    },
    {
     "name": "stdout",
     "output_type": "stream",
     "text": [
      "MoviePy - Done.\n",
      "MoviePy - Writing audio in chunk_30_60.mp3\n"
     ]
    },
    {
     "name": "stderr",
     "output_type": "stream",
     "text": [
      "chunk:  42%|████▏     | 4143/9969 [1:04:15<00:02, 2338.91it/s, now=None]"
     ]
    },
    {
     "name": "stdout",
     "output_type": "stream",
     "text": [
      "MoviePy - Done.\n",
      "MoviePy - Writing audio in chunk_60_90.mp3\n"
     ]
    },
    {
     "name": "stderr",
     "output_type": "stream",
     "text": [
      "chunk:  42%|████▏     | 4143/9969 [1:04:15<00:02, 2338.91it/s, now=None]"
     ]
    },
    {
     "name": "stdout",
     "output_type": "stream",
     "text": [
      "MoviePy - Done.\n",
      "MoviePy - Writing audio in chunk_90_120.mp3\n"
     ]
    },
    {
     "name": "stderr",
     "output_type": "stream",
     "text": [
      "chunk:  42%|████▏     | 4143/9969 [1:04:16<00:02, 2338.91it/s, now=None]"
     ]
    },
    {
     "name": "stdout",
     "output_type": "stream",
     "text": [
      "MoviePy - Done.\n",
      "MoviePy - Writing audio in chunk_120_150.mp3\n"
     ]
    },
    {
     "name": "stderr",
     "output_type": "stream",
     "text": [
      "chunk:  42%|████▏     | 4143/9969 [1:04:16<00:02, 2338.91it/s, now=None]"
     ]
    },
    {
     "name": "stdout",
     "output_type": "stream",
     "text": [
      "MoviePy - Done.\n",
      "MoviePy - Writing audio in chunk_150_180.mp3\n"
     ]
    },
    {
     "name": "stderr",
     "output_type": "stream",
     "text": [
      "chunk:  42%|████▏     | 4143/9969 [1:04:16<00:02, 2338.91it/s, now=None]"
     ]
    },
    {
     "name": "stdout",
     "output_type": "stream",
     "text": [
      "MoviePy - Done.\n",
      "MoviePy - Writing audio in chunk_180_210.mp3\n"
     ]
    },
    {
     "name": "stderr",
     "output_type": "stream",
     "text": [
      "chunk:  42%|████▏     | 4143/9969 [1:04:16<00:02, 2338.91it/s, now=None]"
     ]
    },
    {
     "name": "stdout",
     "output_type": "stream",
     "text": [
      "MoviePy - Done.\n",
      "MoviePy - Writing audio in chunk_210_237.mp3\n"
     ]
    },
    {
     "name": "stderr",
     "output_type": "stream",
     "text": [
      "chunk:  42%|████▏     | 4143/9969 [1:04:17<00:02, 2338.91it/s, now=None]"
     ]
    },
    {
     "name": "stdout",
     "output_type": "stream",
     "text": [
      "MoviePy - Done.\n"
     ]
    },
    {
     "name": "stderr",
     "output_type": "stream",
     "text": [
      "chunk:  42%|████▏     | 4143/9969 [1:04:49<00:02, 2338.91it/s, now=None]"
     ]
    },
    {
     "name": "stdout",
     "output_type": "stream",
     "text": [
      "Saved transcription to ./khan_text/y2mate.com - Rewriting fractions as decimals  Math  4th grade  Khan Academy_720pFH.txt\n",
      "MoviePy - Writing audio in chunk_0_30.mp3\n"
     ]
    },
    {
     "name": "stderr",
     "output_type": "stream",
     "text": [
      "chunk:  42%|████▏     | 4143/9969 [1:04:49<00:02, 2338.91it/s, now=None]"
     ]
    },
    {
     "name": "stdout",
     "output_type": "stream",
     "text": [
      "MoviePy - Done.\n",
      "MoviePy - Writing audio in chunk_30_60.mp3\n"
     ]
    },
    {
     "name": "stderr",
     "output_type": "stream",
     "text": [
      "chunk:  42%|████▏     | 4143/9969 [1:04:49<00:02, 2338.91it/s, now=None]"
     ]
    },
    {
     "name": "stdout",
     "output_type": "stream",
     "text": [
      "MoviePy - Done.\n",
      "MoviePy - Writing audio in chunk_60_90.mp3\n"
     ]
    },
    {
     "name": "stderr",
     "output_type": "stream",
     "text": [
      "chunk:  42%|████▏     | 4143/9969 [1:04:50<00:02, 2338.91it/s, now=None]"
     ]
    },
    {
     "name": "stdout",
     "output_type": "stream",
     "text": [
      "MoviePy - Done.\n",
      "MoviePy - Writing audio in chunk_90_120.mp3\n"
     ]
    },
    {
     "name": "stderr",
     "output_type": "stream",
     "text": [
      "chunk:  42%|████▏     | 4143/9969 [1:04:50<00:02, 2338.91it/s, now=None]"
     ]
    },
    {
     "name": "stdout",
     "output_type": "stream",
     "text": [
      "MoviePy - Done.\n",
      "MoviePy - Writing audio in chunk_120_147.mp3\n"
     ]
    },
    {
     "name": "stderr",
     "output_type": "stream",
     "text": [
      "chunk:  42%|████▏     | 4143/9969 [1:04:50<00:02, 2338.91it/s, now=None]"
     ]
    },
    {
     "name": "stdout",
     "output_type": "stream",
     "text": [
      "MoviePy - Done.\n"
     ]
    },
    {
     "name": "stderr",
     "output_type": "stream",
     "text": [
      "chunk:  42%|████▏     | 4143/9969 [1:05:11<00:02, 2338.91it/s, now=None]"
     ]
    },
    {
     "name": "stdout",
     "output_type": "stream",
     "text": [
      "Saved transcription to ./khan_text/y2mate.com - Rounding whole numbers example 2  Arithmetic properties  PreAlgebra  Khan Academy_v720P.txt\n",
      "MoviePy - Writing audio in chunk_0_30.mp3\n"
     ]
    },
    {
     "name": "stderr",
     "output_type": "stream",
     "text": [
      "chunk:  42%|████▏     | 4143/9969 [1:05:11<00:02, 2338.91it/s, now=None]"
     ]
    },
    {
     "name": "stdout",
     "output_type": "stream",
     "text": [
      "MoviePy - Done.\n",
      "MoviePy - Writing audio in chunk_30_60.mp3\n"
     ]
    },
    {
     "name": "stderr",
     "output_type": "stream",
     "text": [
      "chunk:  42%|████▏     | 4143/9969 [1:05:11<00:02, 2338.91it/s, now=None]"
     ]
    },
    {
     "name": "stdout",
     "output_type": "stream",
     "text": [
      "MoviePy - Done.\n",
      "MoviePy - Writing audio in chunk_60_90.mp3\n"
     ]
    },
    {
     "name": "stderr",
     "output_type": "stream",
     "text": [
      "chunk:  42%|████▏     | 4143/9969 [1:05:12<00:02, 2338.91it/s, now=None]"
     ]
    },
    {
     "name": "stdout",
     "output_type": "stream",
     "text": [
      "MoviePy - Done.\n",
      "MoviePy - Writing audio in chunk_90_120.mp3\n"
     ]
    },
    {
     "name": "stderr",
     "output_type": "stream",
     "text": [
      "chunk:  42%|████▏     | 4143/9969 [1:05:12<00:02, 2338.91it/s, now=None]"
     ]
    },
    {
     "name": "stdout",
     "output_type": "stream",
     "text": [
      "MoviePy - Done.\n",
      "MoviePy - Writing audio in chunk_120_124.mp3\n"
     ]
    },
    {
     "name": "stderr",
     "output_type": "stream",
     "text": [
      "chunk:  42%|████▏     | 4143/9969 [1:05:12<00:02, 2338.91it/s, now=None]"
     ]
    },
    {
     "name": "stdout",
     "output_type": "stream",
     "text": [
      "MoviePy - Done.\n"
     ]
    },
    {
     "name": "stderr",
     "output_type": "stream",
     "text": [
      "chunk:  42%|████▏     | 4143/9969 [1:05:31<00:02, 2338.91it/s, now=None]"
     ]
    },
    {
     "name": "stdout",
     "output_type": "stream",
     "text": [
      "Saved transcription to ./khan_text/y2mate.com - Skip counting by 5 example  Addition and subtraction within 100  Early Math  Khan Academy_720pFH.txt\n",
      "MoviePy - Writing audio in chunk_0_30.mp3\n"
     ]
    },
    {
     "name": "stderr",
     "output_type": "stream",
     "text": [
      "chunk:  42%|████▏     | 4143/9969 [1:05:32<00:02, 2338.91it/s, now=None]"
     ]
    },
    {
     "name": "stdout",
     "output_type": "stream",
     "text": [
      "MoviePy - Done.\n",
      "MoviePy - Writing audio in chunk_30_60.mp3\n"
     ]
    },
    {
     "name": "stderr",
     "output_type": "stream",
     "text": [
      "chunk:  42%|████▏     | 4143/9969 [1:05:32<00:02, 2338.91it/s, now=None]"
     ]
    },
    {
     "name": "stdout",
     "output_type": "stream",
     "text": [
      "MoviePy - Done.\n",
      "MoviePy - Writing audio in chunk_60_90.mp3\n"
     ]
    },
    {
     "name": "stderr",
     "output_type": "stream",
     "text": [
      "chunk:  42%|████▏     | 4143/9969 [1:05:32<00:02, 2338.91it/s, now=None]"
     ]
    },
    {
     "name": "stdout",
     "output_type": "stream",
     "text": [
      "MoviePy - Done.\n",
      "MoviePy - Writing audio in chunk_90_120.mp3\n"
     ]
    },
    {
     "name": "stderr",
     "output_type": "stream",
     "text": [
      "chunk:  42%|████▏     | 4143/9969 [1:05:32<00:02, 2338.91it/s, now=None]"
     ]
    },
    {
     "name": "stdout",
     "output_type": "stream",
     "text": [
      "MoviePy - Done.\n",
      "MoviePy - Writing audio in chunk_120_150.mp3\n"
     ]
    },
    {
     "name": "stderr",
     "output_type": "stream",
     "text": [
      "chunk:  42%|████▏     | 4143/9969 [1:05:33<00:02, 2338.91it/s, now=None]"
     ]
    },
    {
     "name": "stdout",
     "output_type": "stream",
     "text": [
      "MoviePy - Done.\n",
      "MoviePy - Writing audio in chunk_150_180.mp3\n"
     ]
    },
    {
     "name": "stderr",
     "output_type": "stream",
     "text": [
      "chunk:  42%|████▏     | 4143/9969 [1:05:33<00:02, 2338.91it/s, now=None]"
     ]
    },
    {
     "name": "stdout",
     "output_type": "stream",
     "text": [
      "MoviePy - Done.\n",
      "MoviePy - Writing audio in chunk_180_210.mp3\n"
     ]
    },
    {
     "name": "stderr",
     "output_type": "stream",
     "text": [
      "chunk:  42%|████▏     | 4143/9969 [1:05:33<00:02, 2338.91it/s, now=None]"
     ]
    },
    {
     "name": "stdout",
     "output_type": "stream",
     "text": [
      "MoviePy - Done.\n",
      "MoviePy - Writing audio in chunk_210_240.mp3\n"
     ]
    },
    {
     "name": "stderr",
     "output_type": "stream",
     "text": [
      "chunk:  42%|████▏     | 4143/9969 [1:05:33<00:02, 2338.91it/s, now=None]"
     ]
    },
    {
     "name": "stdout",
     "output_type": "stream",
     "text": [
      "MoviePy - Done.\n",
      "MoviePy - Writing audio in chunk_240_270.mp3\n"
     ]
    },
    {
     "name": "stderr",
     "output_type": "stream",
     "text": [
      "chunk:  42%|████▏     | 4143/9969 [1:05:34<00:02, 2338.91it/s, now=None]"
     ]
    },
    {
     "name": "stdout",
     "output_type": "stream",
     "text": [
      "MoviePy - Done.\n",
      "MoviePy - Writing audio in chunk_270_300.mp3\n"
     ]
    },
    {
     "name": "stderr",
     "output_type": "stream",
     "text": [
      "chunk:  42%|████▏     | 4143/9969 [1:05:34<00:02, 2338.91it/s, now=None]"
     ]
    },
    {
     "name": "stdout",
     "output_type": "stream",
     "text": [
      "MoviePy - Done.\n",
      "MoviePy - Writing audio in chunk_300_330.mp3\n"
     ]
    },
    {
     "name": "stderr",
     "output_type": "stream",
     "text": [
      "chunk:  42%|████▏     | 4143/9969 [1:05:34<00:02, 2338.91it/s, now=None]"
     ]
    },
    {
     "name": "stdout",
     "output_type": "stream",
     "text": [
      "MoviePy - Done.\n",
      "MoviePy - Writing audio in chunk_330_340.mp3\n"
     ]
    },
    {
     "name": "stderr",
     "output_type": "stream",
     "text": [
      "chunk:  42%|████▏     | 4143/9969 [1:05:34<00:02, 2338.91it/s, now=None]"
     ]
    },
    {
     "name": "stdout",
     "output_type": "stream",
     "text": [
      "MoviePy - Done.\n"
     ]
    },
    {
     "name": "stderr",
     "output_type": "stream",
     "text": [
      "chunk:  42%|████▏     | 4143/9969 [1:06:34<00:02, 2338.91it/s, now=None]"
     ]
    },
    {
     "name": "stdout",
     "output_type": "stream",
     "text": [
      "Saved transcription to ./khan_text/y2mate.com - Solving the troll riddle visually  Algebra II  Khan Academy_720pFH.txt\n",
      "MoviePy - Writing audio in chunk_0_30.mp3\n"
     ]
    },
    {
     "name": "stderr",
     "output_type": "stream",
     "text": [
      "chunk:  42%|████▏     | 4143/9969 [1:06:35<00:02, 2338.91it/s, now=None]"
     ]
    },
    {
     "name": "stdout",
     "output_type": "stream",
     "text": [
      "MoviePy - Done.\n",
      "MoviePy - Writing audio in chunk_30_60.mp3\n"
     ]
    },
    {
     "name": "stderr",
     "output_type": "stream",
     "text": [
      "chunk:  42%|████▏     | 4143/9969 [1:06:35<00:02, 2338.91it/s, now=None]"
     ]
    },
    {
     "name": "stdout",
     "output_type": "stream",
     "text": [
      "MoviePy - Done.\n",
      "MoviePy - Writing audio in chunk_60_90.mp3\n"
     ]
    },
    {
     "name": "stderr",
     "output_type": "stream",
     "text": [
      "chunk:  42%|████▏     | 4143/9969 [1:06:35<00:02, 2338.91it/s, now=None]"
     ]
    },
    {
     "name": "stdout",
     "output_type": "stream",
     "text": [
      "MoviePy - Done.\n",
      "MoviePy - Writing audio in chunk_90_120.mp3\n"
     ]
    },
    {
     "name": "stderr",
     "output_type": "stream",
     "text": [
      "chunk:  42%|████▏     | 4143/9969 [1:06:35<00:02, 2338.91it/s, now=None]"
     ]
    },
    {
     "name": "stdout",
     "output_type": "stream",
     "text": [
      "MoviePy - Done.\n",
      "MoviePy - Writing audio in chunk_120_150.mp3\n"
     ]
    },
    {
     "name": "stderr",
     "output_type": "stream",
     "text": [
      "chunk:  42%|████▏     | 4143/9969 [1:06:36<00:02, 2338.91it/s, now=None]"
     ]
    },
    {
     "name": "stdout",
     "output_type": "stream",
     "text": [
      "MoviePy - Done.\n",
      "MoviePy - Writing audio in chunk_150_180.mp3\n"
     ]
    },
    {
     "name": "stderr",
     "output_type": "stream",
     "text": [
      "chunk:  42%|████▏     | 4143/9969 [1:06:36<00:02, 2338.91it/s, now=None]"
     ]
    },
    {
     "name": "stdout",
     "output_type": "stream",
     "text": [
      "MoviePy - Done.\n",
      "MoviePy - Writing audio in chunk_180_210.mp3\n"
     ]
    },
    {
     "name": "stderr",
     "output_type": "stream",
     "text": [
      "chunk:  42%|████▏     | 4143/9969 [1:06:36<00:02, 2338.91it/s, now=None]"
     ]
    },
    {
     "name": "stdout",
     "output_type": "stream",
     "text": [
      "MoviePy - Done.\n",
      "MoviePy - Writing audio in chunk_210_240.mp3\n"
     ]
    },
    {
     "name": "stderr",
     "output_type": "stream",
     "text": [
      "chunk:  42%|████▏     | 4143/9969 [1:06:36<00:02, 2338.91it/s, now=None]"
     ]
    },
    {
     "name": "stdout",
     "output_type": "stream",
     "text": [
      "MoviePy - Done.\n",
      "MoviePy - Writing audio in chunk_240_270.mp3\n"
     ]
    },
    {
     "name": "stderr",
     "output_type": "stream",
     "text": [
      "chunk:  42%|████▏     | 4143/9969 [1:06:37<00:02, 2338.91it/s, now=None]"
     ]
    },
    {
     "name": "stdout",
     "output_type": "stream",
     "text": [
      "MoviePy - Done.\n",
      "MoviePy - Writing audio in chunk_270_300.mp3\n"
     ]
    },
    {
     "name": "stderr",
     "output_type": "stream",
     "text": [
      "chunk:  42%|████▏     | 4143/9969 [1:06:37<00:02, 2338.91it/s, now=None]"
     ]
    },
    {
     "name": "stdout",
     "output_type": "stream",
     "text": [
      "MoviePy - Done.\n",
      "MoviePy - Writing audio in chunk_300_330.mp3\n"
     ]
    },
    {
     "name": "stderr",
     "output_type": "stream",
     "text": [
      "chunk:  42%|████▏     | 4143/9969 [1:06:37<00:02, 2338.91it/s, now=None]"
     ]
    },
    {
     "name": "stdout",
     "output_type": "stream",
     "text": [
      "MoviePy - Done.\n",
      "MoviePy - Writing audio in chunk_330_360.mp3\n"
     ]
    },
    {
     "name": "stderr",
     "output_type": "stream",
     "text": [
      "chunk:  42%|████▏     | 4143/9969 [1:06:38<00:02, 2338.91it/s, now=None]"
     ]
    },
    {
     "name": "stdout",
     "output_type": "stream",
     "text": [
      "MoviePy - Done.\n",
      "MoviePy - Writing audio in chunk_360_390.mp3\n"
     ]
    },
    {
     "name": "stderr",
     "output_type": "stream",
     "text": [
      "chunk:  42%|████▏     | 4143/9969 [1:06:38<00:02, 2338.91it/s, now=None]"
     ]
    },
    {
     "name": "stdout",
     "output_type": "stream",
     "text": [
      "MoviePy - Done.\n",
      "MoviePy - Writing audio in chunk_390_420.mp3\n"
     ]
    },
    {
     "name": "stderr",
     "output_type": "stream",
     "text": [
      "chunk:  42%|████▏     | 4143/9969 [1:06:38<00:02, 2338.91it/s, now=None]"
     ]
    },
    {
     "name": "stdout",
     "output_type": "stream",
     "text": [
      "MoviePy - Done.\n",
      "MoviePy - Writing audio in chunk_420_450.mp3\n"
     ]
    },
    {
     "name": "stderr",
     "output_type": "stream",
     "text": [
      "chunk:  42%|████▏     | 4143/9969 [1:06:38<00:02, 2338.91it/s, now=None]"
     ]
    },
    {
     "name": "stdout",
     "output_type": "stream",
     "text": [
      "MoviePy - Done.\n",
      "MoviePy - Writing audio in chunk_450_480.mp3\n"
     ]
    },
    {
     "name": "stderr",
     "output_type": "stream",
     "text": [
      "chunk:  42%|████▏     | 4143/9969 [1:06:39<00:02, 2338.91it/s, now=None]"
     ]
    },
    {
     "name": "stdout",
     "output_type": "stream",
     "text": [
      "MoviePy - Done.\n",
      "MoviePy - Writing audio in chunk_480_510.mp3\n"
     ]
    },
    {
     "name": "stderr",
     "output_type": "stream",
     "text": [
      "chunk:  42%|████▏     | 4143/9969 [1:06:39<00:02, 2338.91it/s, now=None]"
     ]
    },
    {
     "name": "stdout",
     "output_type": "stream",
     "text": [
      "MoviePy - Done.\n",
      "MoviePy - Writing audio in chunk_510_540.mp3\n"
     ]
    },
    {
     "name": "stderr",
     "output_type": "stream",
     "text": [
      "chunk:  42%|████▏     | 4143/9969 [1:06:39<00:02, 2338.91it/s, now=None]"
     ]
    },
    {
     "name": "stdout",
     "output_type": "stream",
     "text": [
      "MoviePy - Done.\n",
      "MoviePy - Writing audio in chunk_540_570.mp3\n"
     ]
    },
    {
     "name": "stderr",
     "output_type": "stream",
     "text": [
      "chunk:  42%|████▏     | 4143/9969 [1:06:39<00:02, 2338.91it/s, now=None]"
     ]
    },
    {
     "name": "stdout",
     "output_type": "stream",
     "text": [
      "MoviePy - Done.\n",
      "MoviePy - Writing audio in chunk_570_573.mp3\n"
     ]
    },
    {
     "name": "stderr",
     "output_type": "stream",
     "text": [
      "chunk:  42%|████▏     | 4143/9969 [1:06:39<00:02, 2338.91it/s, now=None]"
     ]
    },
    {
     "name": "stdout",
     "output_type": "stream",
     "text": [
      "MoviePy - Done.\n"
     ]
    },
    {
     "name": "stderr",
     "output_type": "stream",
     "text": [
      "chunk:  42%|████▏     | 4143/9969 [1:08:29<00:02, 2338.91it/s, now=None]"
     ]
    },
    {
     "name": "stdout",
     "output_type": "stream",
     "text": [
      "Saved transcription to ./khan_text/y2mate.com - Statistical questions  Data and statistics  6th grade  Khan Academy_720pFH.txt\n",
      "MoviePy - Writing audio in chunk_0_30.mp3\n"
     ]
    },
    {
     "name": "stderr",
     "output_type": "stream",
     "text": [
      "chunk:  42%|████▏     | 4143/9969 [1:08:29<00:02, 2338.91it/s, now=None]"
     ]
    },
    {
     "name": "stdout",
     "output_type": "stream",
     "text": [
      "MoviePy - Done.\n",
      "MoviePy - Writing audio in chunk_30_60.mp3\n"
     ]
    },
    {
     "name": "stderr",
     "output_type": "stream",
     "text": [
      "chunk:  42%|████▏     | 4143/9969 [1:08:30<00:02, 2338.91it/s, now=None]"
     ]
    },
    {
     "name": "stdout",
     "output_type": "stream",
     "text": [
      "MoviePy - Done.\n",
      "MoviePy - Writing audio in chunk_60_90.mp3\n"
     ]
    },
    {
     "name": "stderr",
     "output_type": "stream",
     "text": [
      "chunk:  42%|████▏     | 4143/9969 [1:08:30<00:02, 2338.91it/s, now=None]"
     ]
    },
    {
     "name": "stdout",
     "output_type": "stream",
     "text": [
      "MoviePy - Done.\n",
      "MoviePy - Writing audio in chunk_90_120.mp3\n"
     ]
    },
    {
     "name": "stderr",
     "output_type": "stream",
     "text": [
      "chunk:  42%|████▏     | 4143/9969 [1:08:30<00:02, 2338.91it/s, now=None]"
     ]
    },
    {
     "name": "stdout",
     "output_type": "stream",
     "text": [
      "MoviePy - Done.\n",
      "MoviePy - Writing audio in chunk_120_150.mp3\n"
     ]
    },
    {
     "name": "stderr",
     "output_type": "stream",
     "text": [
      "chunk:  42%|████▏     | 4143/9969 [1:08:31<00:02, 2338.91it/s, now=None]"
     ]
    },
    {
     "name": "stdout",
     "output_type": "stream",
     "text": [
      "MoviePy - Done.\n",
      "MoviePy - Writing audio in chunk_150_151.mp3\n"
     ]
    },
    {
     "name": "stderr",
     "output_type": "stream",
     "text": [
      "chunk:  42%|████▏     | 4143/9969 [1:08:31<00:02, 2338.91it/s, now=None]"
     ]
    },
    {
     "name": "stdout",
     "output_type": "stream",
     "text": [
      "MoviePy - Done.\n"
     ]
    },
    {
     "name": "stderr",
     "output_type": "stream",
     "text": [
      "chunk:  42%|████▏     | 4143/9969 [1:09:00<00:02, 2338.91it/s, now=None]"
     ]
    },
    {
     "name": "stdout",
     "output_type": "stream",
     "text": [
      "Saved transcription to ./khan_text/y2mate.com - Subtracting 1 vs subtracting 10  Addition and subtraction within 100  2nd grade  Khan Academy_v720P.txt\n",
      "MoviePy - Writing audio in chunk_0_30.mp3\n"
     ]
    },
    {
     "name": "stderr",
     "output_type": "stream",
     "text": [
      "chunk:  42%|████▏     | 4143/9969 [1:09:00<00:02, 2338.91it/s, now=None]"
     ]
    },
    {
     "name": "stdout",
     "output_type": "stream",
     "text": [
      "MoviePy - Done.\n",
      "MoviePy - Writing audio in chunk_30_60.mp3\n"
     ]
    },
    {
     "name": "stderr",
     "output_type": "stream",
     "text": [
      "chunk:  42%|████▏     | 4143/9969 [1:09:00<00:02, 2338.91it/s, now=None]"
     ]
    },
    {
     "name": "stdout",
     "output_type": "stream",
     "text": [
      "MoviePy - Done.\n",
      "MoviePy - Writing audio in chunk_60_90.mp3\n"
     ]
    },
    {
     "name": "stderr",
     "output_type": "stream",
     "text": [
      "chunk:  42%|████▏     | 4143/9969 [1:09:01<00:02, 2338.91it/s, now=None]"
     ]
    },
    {
     "name": "stdout",
     "output_type": "stream",
     "text": [
      "MoviePy - Done.\n",
      "MoviePy - Writing audio in chunk_90_120.mp3\n"
     ]
    },
    {
     "name": "stderr",
     "output_type": "stream",
     "text": [
      "chunk:  42%|████▏     | 4143/9969 [1:09:01<00:02, 2338.91it/s, now=None]"
     ]
    },
    {
     "name": "stdout",
     "output_type": "stream",
     "text": [
      "MoviePy - Done.\n",
      "MoviePy - Writing audio in chunk_120_150.mp3\n"
     ]
    },
    {
     "name": "stderr",
     "output_type": "stream",
     "text": [
      "chunk:  42%|████▏     | 4143/9969 [1:09:01<00:02, 2338.91it/s, now=None]"
     ]
    },
    {
     "name": "stdout",
     "output_type": "stream",
     "text": [
      "MoviePy - Done.\n",
      "MoviePy - Writing audio in chunk_150_180.mp3\n"
     ]
    },
    {
     "name": "stderr",
     "output_type": "stream",
     "text": [
      "chunk:  42%|████▏     | 4143/9969 [1:09:01<00:02, 2338.91it/s, now=None]"
     ]
    },
    {
     "name": "stdout",
     "output_type": "stream",
     "text": [
      "MoviePy - Done.\n",
      "MoviePy - Writing audio in chunk_180_210.mp3\n"
     ]
    },
    {
     "name": "stderr",
     "output_type": "stream",
     "text": [
      "chunk:  42%|████▏     | 4143/9969 [1:09:02<00:02, 2338.91it/s, now=None]"
     ]
    },
    {
     "name": "stdout",
     "output_type": "stream",
     "text": [
      "MoviePy - Done.\n",
      "MoviePy - Writing audio in chunk_210_240.mp3\n"
     ]
    },
    {
     "name": "stderr",
     "output_type": "stream",
     "text": [
      "chunk:  42%|████▏     | 4143/9969 [1:09:02<00:02, 2338.91it/s, now=None]"
     ]
    },
    {
     "name": "stdout",
     "output_type": "stream",
     "text": [
      "MoviePy - Done.\n",
      "MoviePy - Writing audio in chunk_240_242.mp3\n"
     ]
    },
    {
     "name": "stderr",
     "output_type": "stream",
     "text": [
      "chunk:  42%|████▏     | 4143/9969 [1:09:02<00:02, 2338.91it/s, now=None]"
     ]
    },
    {
     "name": "stdout",
     "output_type": "stream",
     "text": [
      "MoviePy - Done.\n"
     ]
    },
    {
     "name": "stderr",
     "output_type": "stream",
     "text": [
      "chunk:  42%|████▏     | 4143/9969 [1:09:43<00:02, 2338.91it/s, now=None]"
     ]
    },
    {
     "name": "stdout",
     "output_type": "stream",
     "text": [
      "Saved transcription to ./khan_text/y2mate.com - Subtracting 14  6  Addition and subtraction within 20  Early Math  Khan Academy_720pFH.txt\n",
      "MoviePy - Writing audio in chunk_0_30.mp3\n"
     ]
    },
    {
     "name": "stderr",
     "output_type": "stream",
     "text": [
      "chunk:  42%|████▏     | 4143/9969 [1:09:43<00:02, 2338.91it/s, now=None]"
     ]
    },
    {
     "name": "stdout",
     "output_type": "stream",
     "text": [
      "MoviePy - Done.\n",
      "MoviePy - Writing audio in chunk_30_60.mp3\n"
     ]
    },
    {
     "name": "stderr",
     "output_type": "stream",
     "text": [
      "chunk:  42%|████▏     | 4143/9969 [1:09:44<00:02, 2338.91it/s, now=None]"
     ]
    },
    {
     "name": "stdout",
     "output_type": "stream",
     "text": [
      "MoviePy - Done.\n",
      "MoviePy - Writing audio in chunk_60_90.mp3\n"
     ]
    },
    {
     "name": "stderr",
     "output_type": "stream",
     "text": [
      "chunk:  42%|████▏     | 4143/9969 [1:09:44<00:02, 2338.91it/s, now=None]"
     ]
    },
    {
     "name": "stdout",
     "output_type": "stream",
     "text": [
      "MoviePy - Done.\n",
      "MoviePy - Writing audio in chunk_90_120.mp3\n"
     ]
    },
    {
     "name": "stderr",
     "output_type": "stream",
     "text": [
      "chunk:  42%|████▏     | 4143/9969 [1:09:44<00:02, 2338.91it/s, now=None]"
     ]
    },
    {
     "name": "stdout",
     "output_type": "stream",
     "text": [
      "MoviePy - Done.\n",
      "MoviePy - Writing audio in chunk_120_150.mp3\n"
     ]
    },
    {
     "name": "stderr",
     "output_type": "stream",
     "text": [
      "chunk:  42%|████▏     | 4143/9969 [1:09:44<00:02, 2338.91it/s, now=None]"
     ]
    },
    {
     "name": "stdout",
     "output_type": "stream",
     "text": [
      "MoviePy - Done.\n",
      "MoviePy - Writing audio in chunk_150_180.mp3\n"
     ]
    },
    {
     "name": "stderr",
     "output_type": "stream",
     "text": [
      "chunk:  42%|████▏     | 4143/9969 [1:09:45<00:02, 2338.91it/s, now=None]"
     ]
    },
    {
     "name": "stdout",
     "output_type": "stream",
     "text": [
      "MoviePy - Done.\n",
      "MoviePy - Writing audio in chunk_180_200.mp3\n"
     ]
    },
    {
     "name": "stderr",
     "output_type": "stream",
     "text": [
      "chunk:  42%|████▏     | 4143/9969 [1:09:45<00:02, 2338.91it/s, now=None]"
     ]
    },
    {
     "name": "stdout",
     "output_type": "stream",
     "text": [
      "MoviePy - Done.\n"
     ]
    },
    {
     "name": "stderr",
     "output_type": "stream",
     "text": [
      "chunk:  42%|████▏     | 4143/9969 [1:10:20<00:02, 2338.91it/s, now=None]"
     ]
    },
    {
     "name": "stdout",
     "output_type": "stream",
     "text": [
      "Saved transcription to ./khan_text/y2mate.com - Subtracting multi digit numbers with regrouping_720pFH.txt\n",
      "MoviePy - Writing audio in chunk_0_30.mp3\n"
     ]
    },
    {
     "name": "stderr",
     "output_type": "stream",
     "text": [
      "chunk:  42%|████▏     | 4143/9969 [1:10:20<00:02, 2338.91it/s, now=None]"
     ]
    },
    {
     "name": "stdout",
     "output_type": "stream",
     "text": [
      "MoviePy - Done.\n",
      "MoviePy - Writing audio in chunk_30_60.mp3\n"
     ]
    },
    {
     "name": "stderr",
     "output_type": "stream",
     "text": [
      "chunk:  42%|████▏     | 4143/9969 [1:10:20<00:02, 2338.91it/s, now=None]"
     ]
    },
    {
     "name": "stdout",
     "output_type": "stream",
     "text": [
      "MoviePy - Done.\n",
      "MoviePy - Writing audio in chunk_60_79.mp3\n"
     ]
    },
    {
     "name": "stderr",
     "output_type": "stream",
     "text": [
      "chunk:  42%|████▏     | 4143/9969 [1:10:20<00:02, 2338.91it/s, now=None]"
     ]
    },
    {
     "name": "stdout",
     "output_type": "stream",
     "text": [
      "MoviePy - Done.\n"
     ]
    },
    {
     "name": "stderr",
     "output_type": "stream",
     "text": [
      "chunk:  42%|████▏     | 4143/9969 [1:10:33<00:02, 2338.91it/s, now=None]"
     ]
    },
    {
     "name": "stdout",
     "output_type": "stream",
     "text": [
      "Saved transcription to ./khan_text/y2mate.com - Subtracting with a number line_v720P.txt\n",
      "MoviePy - Writing audio in chunk_0_30.mp3\n"
     ]
    },
    {
     "name": "stderr",
     "output_type": "stream",
     "text": [
      "chunk:  42%|████▏     | 4143/9969 [1:10:33<00:02, 2338.91it/s, now=None]"
     ]
    },
    {
     "name": "stdout",
     "output_type": "stream",
     "text": [
      "MoviePy - Done.\n",
      "MoviePy - Writing audio in chunk_30_60.mp3\n"
     ]
    },
    {
     "name": "stderr",
     "output_type": "stream",
     "text": [
      "chunk:  42%|████▏     | 4143/9969 [1:10:33<00:02, 2338.91it/s, now=None]"
     ]
    },
    {
     "name": "stdout",
     "output_type": "stream",
     "text": [
      "MoviePy - Done.\n",
      "MoviePy - Writing audio in chunk_60_78.mp3\n"
     ]
    },
    {
     "name": "stderr",
     "output_type": "stream",
     "text": [
      "chunk:  42%|████▏     | 4143/9969 [1:10:34<00:02, 2338.91it/s, now=None]"
     ]
    },
    {
     "name": "stdout",
     "output_type": "stream",
     "text": [
      "MoviePy - Done.\n"
     ]
    },
    {
     "name": "stderr",
     "output_type": "stream",
     "text": [
      "chunk:  42%|████▏     | 4143/9969 [1:10:46<00:02, 2338.91it/s, now=None]"
     ]
    },
    {
     "name": "stdout",
     "output_type": "stream",
     "text": [
      "Saved transcription to ./khan_text/y2mate.com - Subtraction using place value blocks_v720P.txt\n",
      "MoviePy - Writing audio in chunk_0_30.mp3\n"
     ]
    },
    {
     "name": "stderr",
     "output_type": "stream",
     "text": [
      "chunk:  42%|████▏     | 4143/9969 [1:10:46<00:02, 2338.91it/s, now=None]"
     ]
    },
    {
     "name": "stdout",
     "output_type": "stream",
     "text": [
      "MoviePy - Done.\n",
      "MoviePy - Writing audio in chunk_30_55.mp3\n"
     ]
    },
    {
     "name": "stderr",
     "output_type": "stream",
     "text": [
      "chunk:  42%|████▏     | 4143/9969 [1:10:47<00:02, 2338.91it/s, now=None]"
     ]
    },
    {
     "name": "stdout",
     "output_type": "stream",
     "text": [
      "MoviePy - Done.\n"
     ]
    },
    {
     "name": "stderr",
     "output_type": "stream",
     "text": [
      "chunk:  42%|████▏     | 4143/9969 [1:10:56<00:02, 2338.91it/s, now=None]"
     ]
    },
    {
     "name": "stdout",
     "output_type": "stream",
     "text": [
      "Saved transcription to ./khan_text/y2mate.com - Subtraction with ten frames_v720P.txt\n",
      "MoviePy - Writing audio in chunk_0_30.mp3\n"
     ]
    },
    {
     "name": "stderr",
     "output_type": "stream",
     "text": [
      "chunk:  42%|████▏     | 4143/9969 [1:10:56<00:02, 2338.91it/s, now=None]"
     ]
    },
    {
     "name": "stdout",
     "output_type": "stream",
     "text": [
      "MoviePy - Done.\n",
      "MoviePy - Writing audio in chunk_30_60.mp3\n"
     ]
    },
    {
     "name": "stderr",
     "output_type": "stream",
     "text": [
      "chunk:  42%|████▏     | 4143/9969 [1:10:56<00:02, 2338.91it/s, now=None]"
     ]
    },
    {
     "name": "stdout",
     "output_type": "stream",
     "text": [
      "MoviePy - Done.\n",
      "MoviePy - Writing audio in chunk_60_62.mp3\n"
     ]
    },
    {
     "name": "stderr",
     "output_type": "stream",
     "text": [
      "chunk:  42%|████▏     | 4143/9969 [1:10:56<00:02, 2338.91it/s, now=None]"
     ]
    },
    {
     "name": "stdout",
     "output_type": "stream",
     "text": [
      "MoviePy - Done.\n"
     ]
    },
    {
     "name": "stderr",
     "output_type": "stream",
     "text": [
      "chunk:  42%|████▏     | 4143/9969 [1:11:07<00:02, 2338.91it/s, now=None]"
     ]
    },
    {
     "name": "stdout",
     "output_type": "stream",
     "text": [
      "Saved transcription to ./khan_text/y2mate.com - Subtraction word problems within 10  Basic addition and subtraction  Early Math  Khan Academy_v720P.txt\n",
      "MoviePy - Writing audio in chunk_0_30.mp3\n"
     ]
    },
    {
     "name": "stderr",
     "output_type": "stream",
     "text": [
      "chunk:  42%|████▏     | 4143/9969 [1:11:07<00:02, 2338.91it/s, now=None]"
     ]
    },
    {
     "name": "stdout",
     "output_type": "stream",
     "text": [
      "MoviePy - Done.\n",
      "MoviePy - Writing audio in chunk_30_60.mp3\n"
     ]
    },
    {
     "name": "stderr",
     "output_type": "stream",
     "text": [
      "chunk:  42%|████▏     | 4143/9969 [1:11:07<00:02, 2338.91it/s, now=None]"
     ]
    },
    {
     "name": "stdout",
     "output_type": "stream",
     "text": [
      "MoviePy - Done.\n",
      "MoviePy - Writing audio in chunk_60_90.mp3\n"
     ]
    },
    {
     "name": "stderr",
     "output_type": "stream",
     "text": [
      "chunk:  42%|████▏     | 4143/9969 [1:11:08<00:02, 2338.91it/s, now=None]"
     ]
    },
    {
     "name": "stdout",
     "output_type": "stream",
     "text": [
      "MoviePy - Done.\n",
      "MoviePy - Writing audio in chunk_90_120.mp3\n"
     ]
    },
    {
     "name": "stderr",
     "output_type": "stream",
     "text": [
      "chunk:  42%|████▏     | 4143/9969 [1:11:08<00:02, 2338.91it/s, now=None]"
     ]
    },
    {
     "name": "stdout",
     "output_type": "stream",
     "text": [
      "MoviePy - Done.\n",
      "MoviePy - Writing audio in chunk_120_150.mp3\n"
     ]
    },
    {
     "name": "stderr",
     "output_type": "stream",
     "text": [
      "chunk:  42%|████▏     | 4143/9969 [1:11:08<00:02, 2338.91it/s, now=None]"
     ]
    },
    {
     "name": "stdout",
     "output_type": "stream",
     "text": [
      "MoviePy - Done.\n",
      "MoviePy - Writing audio in chunk_150_179.mp3\n"
     ]
    },
    {
     "name": "stderr",
     "output_type": "stream",
     "text": [
      "chunk:  42%|████▏     | 4143/9969 [1:11:08<00:02, 2338.91it/s, now=None]"
     ]
    },
    {
     "name": "stdout",
     "output_type": "stream",
     "text": [
      "MoviePy - Done.\n"
     ]
    },
    {
     "name": "stderr",
     "output_type": "stream",
     "text": [
      "chunk:  42%|████▏     | 4143/9969 [1:11:35<00:02, 2338.91it/s, now=None]"
     ]
    },
    {
     "name": "stdout",
     "output_type": "stream",
     "text": [
      "Saved transcription to ./khan_text/y2mate.com - Teens as sums with 10  Place value tens and hundreds  Early Math  Khan Academy_v720P.txt\n",
      "MoviePy - Writing audio in chunk_0_30.mp3\n"
     ]
    },
    {
     "name": "stderr",
     "output_type": "stream",
     "text": [
      "chunk:  42%|████▏     | 4143/9969 [1:11:35<00:02, 2338.91it/s, now=None]"
     ]
    },
    {
     "name": "stdout",
     "output_type": "stream",
     "text": [
      "MoviePy - Done.\n",
      "MoviePy - Writing audio in chunk_30_60.mp3\n"
     ]
    },
    {
     "name": "stderr",
     "output_type": "stream",
     "text": [
      "chunk:  42%|████▏     | 4143/9969 [1:11:36<00:02, 2338.91it/s, now=None]"
     ]
    },
    {
     "name": "stdout",
     "output_type": "stream",
     "text": [
      "MoviePy - Done.\n",
      "MoviePy - Writing audio in chunk_60_89.mp3\n"
     ]
    },
    {
     "name": "stderr",
     "output_type": "stream",
     "text": [
      "chunk:  42%|████▏     | 4143/9969 [1:11:36<00:02, 2338.91it/s, now=None]"
     ]
    },
    {
     "name": "stdout",
     "output_type": "stream",
     "text": [
      "MoviePy - Done.\n"
     ]
    },
    {
     "name": "stderr",
     "output_type": "stream",
     "text": [
      "chunk:  42%|████▏     | 4143/9969 [1:11:47<00:02, 2338.91it/s, now=None]"
     ]
    },
    {
     "name": "stdout",
     "output_type": "stream",
     "text": [
      "Saved transcription to ./khan_text/y2mate.com - Time word problem puzzle  Math  3rd grade  Khan Academy_v720P.txt\n",
      "MoviePy - Writing audio in chunk_0_30.mp3\n"
     ]
    },
    {
     "name": "stderr",
     "output_type": "stream",
     "text": [
      "chunk:  42%|████▏     | 4143/9969 [1:11:47<00:02, 2338.91it/s, now=None]"
     ]
    },
    {
     "name": "stdout",
     "output_type": "stream",
     "text": [
      "MoviePy - Done.\n",
      "MoviePy - Writing audio in chunk_30_60.mp3\n"
     ]
    },
    {
     "name": "stderr",
     "output_type": "stream",
     "text": [
      "chunk:  42%|████▏     | 4143/9969 [1:11:47<00:02, 2338.91it/s, now=None]"
     ]
    },
    {
     "name": "stdout",
     "output_type": "stream",
     "text": [
      "MoviePy - Done.\n",
      "MoviePy - Writing audio in chunk_60_90.mp3\n"
     ]
    },
    {
     "name": "stderr",
     "output_type": "stream",
     "text": [
      "chunk:  42%|████▏     | 4143/9969 [1:11:48<00:02, 2338.91it/s, now=None]"
     ]
    },
    {
     "name": "stdout",
     "output_type": "stream",
     "text": [
      "MoviePy - Done.\n"
     ]
    },
    {
     "name": "stderr",
     "output_type": "stream",
     "text": [
      "chunk:  42%|████▏     | 4143/9969 [1:12:04<00:02, 2338.91it/s, now=None]"
     ]
    },
    {
     "name": "stdout",
     "output_type": "stream",
     "text": [
      "Saved transcription to ./khan_text/y2mate.com - Transformations  dilation_720pFH.txt\n",
      "MoviePy - Writing audio in chunk_0_30.mp3\n"
     ]
    },
    {
     "name": "stderr",
     "output_type": "stream",
     "text": [
      "chunk:  42%|████▏     | 4143/9969 [1:12:04<00:02, 2338.91it/s, now=None]"
     ]
    },
    {
     "name": "stdout",
     "output_type": "stream",
     "text": [
      "MoviePy - Done.\n",
      "MoviePy - Writing audio in chunk_30_60.mp3\n"
     ]
    },
    {
     "name": "stderr",
     "output_type": "stream",
     "text": [
      "chunk:  42%|████▏     | 4143/9969 [1:12:04<00:02, 2338.91it/s, now=None]"
     ]
    },
    {
     "name": "stdout",
     "output_type": "stream",
     "text": [
      "MoviePy - Done.\n",
      "MoviePy - Writing audio in chunk_60_90.mp3\n"
     ]
    },
    {
     "name": "stderr",
     "output_type": "stream",
     "text": [
      "chunk:  42%|████▏     | 4143/9969 [1:12:04<00:02, 2338.91it/s, now=None]"
     ]
    },
    {
     "name": "stdout",
     "output_type": "stream",
     "text": [
      "MoviePy - Done.\n",
      "MoviePy - Writing audio in chunk_90_120.mp3\n"
     ]
    },
    {
     "name": "stderr",
     "output_type": "stream",
     "text": [
      "chunk:  42%|████▏     | 4143/9969 [1:12:05<00:02, 2338.91it/s, now=None]"
     ]
    },
    {
     "name": "stdout",
     "output_type": "stream",
     "text": [
      "MoviePy - Done.\n",
      "MoviePy - Writing audio in chunk_120_150.mp3\n"
     ]
    },
    {
     "name": "stderr",
     "output_type": "stream",
     "text": [
      "chunk:  42%|████▏     | 4143/9969 [1:12:05<00:02, 2338.91it/s, now=None]"
     ]
    },
    {
     "name": "stdout",
     "output_type": "stream",
     "text": [
      "MoviePy - Done.\n",
      "MoviePy - Writing audio in chunk_150_155.mp3\n"
     ]
    },
    {
     "name": "stderr",
     "output_type": "stream",
     "text": [
      "chunk:  42%|████▏     | 4143/9969 [1:12:05<00:02, 2338.91it/s, now=None]"
     ]
    },
    {
     "name": "stdout",
     "output_type": "stream",
     "text": [
      "MoviePy - Done.\n"
     ]
    },
    {
     "name": "stderr",
     "output_type": "stream",
     "text": [
      "chunk:  42%|████▏     | 4143/9969 [1:12:28<00:02, 2338.91it/s, now=None]"
     ]
    },
    {
     "name": "stdout",
     "output_type": "stream",
     "text": [
      "Saved transcription to ./khan_text/y2mate.com - Understanding place value when adding ones  Early Math  Khan Academy_720pFH.txt\n",
      "MoviePy - Writing audio in chunk_0_30.mp3\n"
     ]
    },
    {
     "name": "stderr",
     "output_type": "stream",
     "text": [
      "chunk:  42%|████▏     | 4143/9969 [1:12:28<00:02, 2338.91it/s, now=None]"
     ]
    },
    {
     "name": "stdout",
     "output_type": "stream",
     "text": [
      "MoviePy - Done.\n",
      "MoviePy - Writing audio in chunk_30_60.mp3\n"
     ]
    },
    {
     "name": "stderr",
     "output_type": "stream",
     "text": [
      "chunk:  42%|████▏     | 4143/9969 [1:12:28<00:02, 2338.91it/s, now=None]"
     ]
    },
    {
     "name": "stdout",
     "output_type": "stream",
     "text": [
      "MoviePy - Done.\n",
      "MoviePy - Writing audio in chunk_60_90.mp3\n"
     ]
    },
    {
     "name": "stderr",
     "output_type": "stream",
     "text": [
      "chunk:  42%|████▏     | 4143/9969 [1:12:29<00:02, 2338.91it/s, now=None]"
     ]
    },
    {
     "name": "stdout",
     "output_type": "stream",
     "text": [
      "MoviePy - Done.\n",
      "MoviePy - Writing audio in chunk_90_120.mp3\n"
     ]
    },
    {
     "name": "stderr",
     "output_type": "stream",
     "text": [
      "chunk:  42%|████▏     | 4143/9969 [1:12:29<00:02, 2338.91it/s, now=None]"
     ]
    },
    {
     "name": "stdout",
     "output_type": "stream",
     "text": [
      "MoviePy - Done.\n",
      "MoviePy - Writing audio in chunk_120_150.mp3\n"
     ]
    },
    {
     "name": "stderr",
     "output_type": "stream",
     "text": [
      "chunk:  42%|████▏     | 4143/9969 [1:12:29<00:02, 2338.91it/s, now=None]"
     ]
    },
    {
     "name": "stdout",
     "output_type": "stream",
     "text": [
      "MoviePy - Done.\n",
      "MoviePy - Writing audio in chunk_150_156.mp3\n"
     ]
    },
    {
     "name": "stderr",
     "output_type": "stream",
     "text": [
      "chunk:  42%|████▏     | 4143/9969 [1:12:29<00:02, 2338.91it/s, now=None]"
     ]
    },
    {
     "name": "stdout",
     "output_type": "stream",
     "text": [
      "MoviePy - Done.\n"
     ]
    },
    {
     "name": "stderr",
     "output_type": "stream",
     "text": [
      "chunk:  42%|████▏     | 4143/9969 [1:12:55<00:02, 2338.91it/s, now=None]"
     ]
    },
    {
     "name": "stdout",
     "output_type": "stream",
     "text": [
      "Saved transcription to ./khan_text/y2mate.com - Understanding place value when subtracting tens  Early Math  Khan Academy_v720P.txt\n",
      "MoviePy - Writing audio in chunk_0_30.mp3\n"
     ]
    },
    {
     "name": "stderr",
     "output_type": "stream",
     "text": [
      "chunk:  42%|████▏     | 4143/9969 [1:12:55<00:02, 2338.91it/s, now=None]"
     ]
    },
    {
     "name": "stdout",
     "output_type": "stream",
     "text": [
      "MoviePy - Done.\n",
      "MoviePy - Writing audio in chunk_30_60.mp3\n"
     ]
    },
    {
     "name": "stderr",
     "output_type": "stream",
     "text": [
      "chunk:  42%|████▏     | 4143/9969 [1:12:55<00:02, 2338.91it/s, now=None]"
     ]
    },
    {
     "name": "stdout",
     "output_type": "stream",
     "text": [
      "MoviePy - Done.\n",
      "MoviePy - Writing audio in chunk_60_90.mp3\n"
     ]
    },
    {
     "name": "stderr",
     "output_type": "stream",
     "text": [
      "chunk:  42%|████▏     | 4143/9969 [1:12:55<00:02, 2338.91it/s, now=None]"
     ]
    },
    {
     "name": "stdout",
     "output_type": "stream",
     "text": [
      "MoviePy - Done.\n",
      "MoviePy - Writing audio in chunk_90_120.mp3\n"
     ]
    },
    {
     "name": "stderr",
     "output_type": "stream",
     "text": [
      "chunk:  42%|████▏     | 4143/9969 [1:12:56<00:02, 2338.91it/s, now=None]"
     ]
    },
    {
     "name": "stdout",
     "output_type": "stream",
     "text": [
      "MoviePy - Done.\n",
      "MoviePy - Writing audio in chunk_120_150.mp3\n"
     ]
    },
    {
     "name": "stderr",
     "output_type": "stream",
     "text": [
      "chunk:  42%|████▏     | 4143/9969 [1:12:56<00:02, 2338.91it/s, now=None]"
     ]
    },
    {
     "name": "stdout",
     "output_type": "stream",
     "text": [
      "MoviePy - Done.\n",
      "MoviePy - Writing audio in chunk_150_164.mp3\n"
     ]
    },
    {
     "name": "stderr",
     "output_type": "stream",
     "text": [
      "chunk:  42%|████▏     | 4143/9969 [1:12:56<00:02, 2338.91it/s, now=None]"
     ]
    },
    {
     "name": "stdout",
     "output_type": "stream",
     "text": [
      "MoviePy - Done.\n"
     ]
    },
    {
     "name": "stderr",
     "output_type": "stream",
     "text": [
      "chunk:  42%|████▏     | 4143/9969 [1:13:23<00:02, 2338.91it/s, now=None]"
     ]
    },
    {
     "name": "stdout",
     "output_type": "stream",
     "text": [
      "Saved transcription to ./khan_text/y2mate.com - Understanding place value while subtracting ones  Early Math  Khan Academy_v720P.txt\n",
      "MoviePy - Writing audio in chunk_0_30.mp3\n"
     ]
    },
    {
     "name": "stderr",
     "output_type": "stream",
     "text": [
      "chunk:  42%|████▏     | 4143/9969 [1:13:23<00:02, 2338.91it/s, now=None]"
     ]
    },
    {
     "name": "stdout",
     "output_type": "stream",
     "text": [
      "MoviePy - Done.\n",
      "MoviePy - Writing audio in chunk_30_60.mp3\n"
     ]
    },
    {
     "name": "stderr",
     "output_type": "stream",
     "text": [
      "chunk:  42%|████▏     | 4143/9969 [1:13:24<00:02, 2338.91it/s, now=None]"
     ]
    },
    {
     "name": "stdout",
     "output_type": "stream",
     "text": [
      "MoviePy - Done.\n",
      "MoviePy - Writing audio in chunk_60_90.mp3\n"
     ]
    },
    {
     "name": "stderr",
     "output_type": "stream",
     "text": [
      "chunk:  42%|████▏     | 4143/9969 [1:13:24<00:02, 2338.91it/s, now=None]"
     ]
    },
    {
     "name": "stdout",
     "output_type": "stream",
     "text": [
      "MoviePy - Done.\n",
      "MoviePy - Writing audio in chunk_90_120.mp3\n"
     ]
    },
    {
     "name": "stderr",
     "output_type": "stream",
     "text": [
      "chunk:  42%|████▏     | 4143/9969 [1:13:24<00:02, 2338.91it/s, now=None]"
     ]
    },
    {
     "name": "stdout",
     "output_type": "stream",
     "text": [
      "MoviePy - Done.\n",
      "MoviePy - Writing audio in chunk_120_150.mp3\n"
     ]
    },
    {
     "name": "stderr",
     "output_type": "stream",
     "text": [
      "chunk:  42%|████▏     | 4143/9969 [1:13:24<00:02, 2338.91it/s, now=None]"
     ]
    },
    {
     "name": "stdout",
     "output_type": "stream",
     "text": [
      "MoviePy - Done.\n",
      "MoviePy - Writing audio in chunk_150_180.mp3\n"
     ]
    },
    {
     "name": "stderr",
     "output_type": "stream",
     "text": [
      "chunk:  42%|████▏     | 4143/9969 [1:13:25<00:02, 2338.91it/s, now=None]"
     ]
    },
    {
     "name": "stdout",
     "output_type": "stream",
     "text": [
      "MoviePy - Done.\n",
      "MoviePy - Writing audio in chunk_180_210.mp3\n"
     ]
    },
    {
     "name": "stderr",
     "output_type": "stream",
     "text": [
      "chunk:  42%|████▏     | 4143/9969 [1:13:25<00:02, 2338.91it/s, now=None]"
     ]
    },
    {
     "name": "stdout",
     "output_type": "stream",
     "text": [
      "MoviePy - Done.\n",
      "MoviePy - Writing audio in chunk_210_240.mp3\n"
     ]
    },
    {
     "name": "stderr",
     "output_type": "stream",
     "text": [
      "chunk:  42%|████▏     | 4143/9969 [1:13:25<00:02, 2338.91it/s, now=None]"
     ]
    },
    {
     "name": "stdout",
     "output_type": "stream",
     "text": [
      "MoviePy - Done.\n",
      "MoviePy - Writing audio in chunk_240_270.mp3\n"
     ]
    },
    {
     "name": "stderr",
     "output_type": "stream",
     "text": [
      "chunk:  42%|████▏     | 4143/9969 [1:13:25<00:02, 2338.91it/s, now=None]"
     ]
    },
    {
     "name": "stdout",
     "output_type": "stream",
     "text": [
      "MoviePy - Done.\n",
      "MoviePy - Writing audio in chunk_270_300.mp3\n"
     ]
    },
    {
     "name": "stderr",
     "output_type": "stream",
     "text": [
      "chunk:  42%|████▏     | 4143/9969 [1:13:26<00:02, 2338.91it/s, now=None]"
     ]
    },
    {
     "name": "stdout",
     "output_type": "stream",
     "text": [
      "MoviePy - Done.\n",
      "MoviePy - Writing audio in chunk_300_330.mp3\n"
     ]
    },
    {
     "name": "stderr",
     "output_type": "stream",
     "text": [
      "chunk:  42%|████▏     | 4143/9969 [1:13:26<00:02, 2338.91it/s, now=None]"
     ]
    },
    {
     "name": "stdout",
     "output_type": "stream",
     "text": [
      "MoviePy - Done.\n",
      "MoviePy - Writing audio in chunk_330_346.mp3\n"
     ]
    },
    {
     "name": "stderr",
     "output_type": "stream",
     "text": [
      "chunk:  42%|████▏     | 4143/9969 [1:13:26<00:02, 2338.91it/s, now=None]"
     ]
    },
    {
     "name": "stdout",
     "output_type": "stream",
     "text": [
      "MoviePy - Done.\n",
      "Saved transcription to ./khan_text/y2mate.com - Why a negative times a negative is a positive  PreAlgebra  Khan Academy_720pFH.txt\n"
     ]
    }
   ],
   "source": [
    "import os\n",
    "\n",
    "# 오디오 파일이 저장될 폴더 경로\n",
    "audio_output_path = \"./khan_audio/\"\n",
    "# 텍스트 파일을 저장할 폴더 경로\n",
    "text_output_path = \"./khan_text/\"\n",
    "\n",
    "# 텍스트 파일을 저장할 폴더가 없으면 생성\n",
    "if not os.path.exists(text_output_path):\n",
    "    os.makedirs(text_output_path)\n",
    "\n",
    "# 오디오 파일들을 처리하는 반복문\n",
    "for audio_file in os.listdir(audio_output_path):\n",
    "    if audio_file.endswith(\".mp3\") or audio_file.endswith(\n",
    "        \".wav\"\n",
    "    ):  # 오디오 파일 확장자 필터링\n",
    "        audio_file_path = os.path.join(audio_output_path, audio_file)\n",
    "\n",
    "        # 오디오 파일을 30초 단위로 나누고 텍스트 추출\n",
    "        chunks = split_audio(audio_file_path)\n",
    "        transcriptions = transcribe_audio_chunks(chunks)\n",
    "        final_transcription = merge_transcriptions(transcriptions)\n",
    "\n",
    "        # 결과 텍스트 파일로 저장\n",
    "        text_file_name = f\"{os.path.splitext(audio_file)[0]}.txt\"\n",
    "        text_file_path = os.path.join(text_output_path, text_file_name)\n",
    "\n",
    "        with open(text_file_path, \"w\", encoding=\"utf-8\") as text_file:\n",
    "            text_file.write(final_transcription)\n",
    "\n",
    "        print(f\"Saved transcription to {text_file_path}\")"
   ]
  },
  {
   "cell_type": "code",
   "execution_count": 7,
   "metadata": {},
   "outputs": [
    {
     "name": "stdout",
     "output_type": "stream",
     "text": [
      "MoviePy - Writing audio in chunk_0_30.mp3\n"
     ]
    },
    {
     "name": "stderr",
     "output_type": "stream",
     "text": [
      "                                                                    \r"
     ]
    },
    {
     "name": "stdout",
     "output_type": "stream",
     "text": [
      "MoviePy - Done.\n",
      "MoviePy - Writing audio in chunk_30_60.mp3\n"
     ]
    },
    {
     "name": "stderr",
     "output_type": "stream",
     "text": [
      "                                                                    \r"
     ]
    },
    {
     "name": "stdout",
     "output_type": "stream",
     "text": [
      "MoviePy - Done.\n",
      "MoviePy - Writing audio in chunk_60_90.mp3\n"
     ]
    },
    {
     "name": "stderr",
     "output_type": "stream",
     "text": [
      "                                                                    \r"
     ]
    },
    {
     "name": "stdout",
     "output_type": "stream",
     "text": [
      "MoviePy - Done.\n",
      "MoviePy - Writing audio in chunk_90_120.mp3\n"
     ]
    },
    {
     "name": "stderr",
     "output_type": "stream",
     "text": [
      "                                                                    \r"
     ]
    },
    {
     "name": "stdout",
     "output_type": "stream",
     "text": [
      "MoviePy - Done.\n",
      "MoviePy - Writing audio in chunk_120_150.mp3\n"
     ]
    },
    {
     "name": "stderr",
     "output_type": "stream",
     "text": [
      "                                                                    \r"
     ]
    },
    {
     "name": "stdout",
     "output_type": "stream",
     "text": [
      "MoviePy - Done.\n",
      "MoviePy - Writing audio in chunk_150_180.mp3\n"
     ]
    },
    {
     "name": "stderr",
     "output_type": "stream",
     "text": [
      "                                                                    \r"
     ]
    },
    {
     "name": "stdout",
     "output_type": "stream",
     "text": [
      "MoviePy - Done.\n",
      "MoviePy - Writing audio in chunk_180_210.mp3\n"
     ]
    },
    {
     "name": "stderr",
     "output_type": "stream",
     "text": [
      "                                                                    \r"
     ]
    },
    {
     "name": "stdout",
     "output_type": "stream",
     "text": [
      "MoviePy - Done.\n",
      "MoviePy - Writing audio in chunk_210_240.mp3\n"
     ]
    },
    {
     "name": "stderr",
     "output_type": "stream",
     "text": [
      "                                                                    \r"
     ]
    },
    {
     "name": "stdout",
     "output_type": "stream",
     "text": [
      "MoviePy - Done.\n",
      "MoviePy - Writing audio in chunk_240_270.mp3\n"
     ]
    },
    {
     "name": "stderr",
     "output_type": "stream",
     "text": [
      "                                                                    \r"
     ]
    },
    {
     "name": "stdout",
     "output_type": "stream",
     "text": [
      "MoviePy - Done.\n",
      "MoviePy - Writing audio in chunk_270_300.mp3\n"
     ]
    },
    {
     "name": "stderr",
     "output_type": "stream",
     "text": [
      "                                                                    \r"
     ]
    },
    {
     "name": "stdout",
     "output_type": "stream",
     "text": [
      "MoviePy - Done.\n",
      "MoviePy - Writing audio in chunk_300_330.mp3\n"
     ]
    },
    {
     "name": "stderr",
     "output_type": "stream",
     "text": [
      "                                                                    \r"
     ]
    },
    {
     "name": "stdout",
     "output_type": "stream",
     "text": [
      "MoviePy - Done.\n",
      "MoviePy - Writing audio in chunk_330_360.mp3\n"
     ]
    },
    {
     "name": "stderr",
     "output_type": "stream",
     "text": [
      "                                                                    \r"
     ]
    },
    {
     "name": "stdout",
     "output_type": "stream",
     "text": [
      "MoviePy - Done.\n",
      "MoviePy - Writing audio in chunk_360_390.mp3\n"
     ]
    },
    {
     "name": "stderr",
     "output_type": "stream",
     "text": [
      "                                                                    \r"
     ]
    },
    {
     "name": "stdout",
     "output_type": "stream",
     "text": [
      "MoviePy - Done.\n",
      "MoviePy - Writing audio in chunk_390_420.mp3\n"
     ]
    },
    {
     "name": "stderr",
     "output_type": "stream",
     "text": [
      "                                                                    \r"
     ]
    },
    {
     "name": "stdout",
     "output_type": "stream",
     "text": [
      "MoviePy - Done.\n",
      "MoviePy - Writing audio in chunk_420_450.mp3\n"
     ]
    },
    {
     "name": "stderr",
     "output_type": "stream",
     "text": [
      "                                                                    \r"
     ]
    },
    {
     "name": "stdout",
     "output_type": "stream",
     "text": [
      "MoviePy - Done.\n",
      " Hello, everyone. I'm glad to meet you all.  So, it's your first time. I'm very excited. What will we learn from the concept? I'm sure you've been curious. What you're going to learn from the concept is that you'll think of the first thing when you say, it's math. You're going to think of the first thing when you say, it's math. If it's math, you'll think of the first thing that you learned from the third or fourth grade. You can't get a good idea of the number of people who are in the group.  We will try to organize the concepts we must learn here in this lesson. Before we start, I will introduce you three goals that you must learn in this lesson. We are going to be doing a video call with the students.  We will talk about three concepts this time. But look at the first concept. Let's talk about the concept of the word. It is called the four-digit number and the position value. Then, in this case, it is best to explain one four-digit number for example. But I have put the title of the expression of various ways of expression for four-digit numbers. There are a lot of ways to listen to the teacher. 1. You have to express the word first. 2. The word is the first.  is Thank you.  We can also use this method. The second method is to think about what the number of the number is. This means that the number of the number is 2,000. Because we said 1,000 is 2,000. I'm going to say this. This is a story that shows the number of 2 in 2456. Because we said there are two thousand. So, in 2456, there are four hundred and four hundred. And there are ten thousand.  5 times 50, and 6 times 1, each number is expressed in the values. This is also used a lot. But surprisingly, one of the things you get a lot wrong is the third method. I asked after giving four places. What questions do you get? This is a question, how many people are in a row? How many people are in a row? I'm really worried. This is when you're like,  자 이렇게 생각하세요. 이때 2456은 1이 2456 개 만큼 모여져서 이루어진 것이다. 이와 같이 얘기해 줄 수도 있다는 거예요. 그러니까 표현의 방법들은 굉장히 여러 가지가 있다 라는 걸 말해 줄 수 있는 것이죠. 이런 것들이 모두 네 자릿에 관련된 다양한 표현의 방법이다 라는 겁니다. 또 하나 빠져서 안 되는 거 있겠죠? 바로 네 번째 방법이에요. 여러분이 읽어서 나타�이 주는 방법인데요. So, that's it. Thank you.  We usually say this. Let's say we want to read the names of the numbers and the value of the name. The meaning of that is, the number is 2, so read 2. But this is in the place of the 1000, so next, we put the 1000. Then, read the number 4. So 4. But this means 100. Therefore, 2400. Then, the same way when you read it, 50. 그런데 1은요 그냥 숫자만 읽어서 6이라고 표현해요  There are many ways to read and show. There is one more thing you shouldn't miss. I'll introduce the next content. What is it? We have solved various expressions. If you look at the next content, there is a expression, let's go to 2456. This is what I told you a little bit earlier. That's what it is. In 2456, the value of the number 2 is shown. But this is another word. The number of the letters is...  수가 뭐죠? 이렇게 물어봐요. 그래서 우리가 수학 공부를 할 때에는요, 숫자하고 수화구가 서로 다른 의미로 사용되는 문제들을 많이 만날 수 있게 돼요. 그러니까 숫자 2가 나타내는 값은 그 수는 얼마입니까? 바로 2000이 되어지는 겁니다. 이렇게 얘기를 하고요. 그 다음에 숫자 5가 나타내는 값은 얼마겠습니까? 그러면 50입니다. 2와 같이 말해야 한다는 거죠. 바로 이것이 네 자리시에 있어서 닭가게 숫자가 낮  We can see exactly what we need to put in our own place. We must remember this in our own concept. So, how did you feel about this concept? Let's solve the problem of concept closing with our teacher. Let's look at the problem. This is a problem that has been solved by the 4-year-old student, 21st, 12th. But the problem is that the problem is not only the concept, 21조 12번에 관련된 문제예요. 그런데 문제를  When you look at the question, how many are 100, 11, 12, and 15? This is a very difficult question. My friends know that there are many mistakes when solving this problem. But after you do it with your teacher, you can never get it wrong. Let's solve it like this. We've looked at it before, but if we say 1000 is 4,000, this means 4000. If you don't want to solve this problem, When you're drinking,  그 위치를 잘 맞춰서 적어주는 게 매우 중요합니다. 그러면 그 다음은 뭐가 될까? 100이 17개. 그러면 이때도 요령이 있어요. 뭐냐? 100부터 적는 거예요. 이렇게 100을 자리 맞춰 적분한 다음에 요렇게만 적어놓으면 100이 한 개란 뜻이거든요? 그런데 지금 보면 알겠지만 100이 17개라고 얘기를 하고 있죠. 그러면 1 대신에 그 자리에다가 이렇게 맞춰서 17을 적어주는 거예요. 그랬더니 1700이 되어지는 것이다라. Next  This time, we will say 12, 11, 1. Then we will write this down. We will write it down like this. But if we write it down like this, it means 12, 1. But it's not 12, 1. 12, 11, 1. So we will write it down according to the position. And then, we will write down the first one. Since we said 1 is 15, we will write down the number that appears at this time like 15. And if not, then all of these...\n"
     ]
    }
   ],
   "source": [
    "# 오디오 파일을 30초 단위로 나누는 함수\n",
    "def split_audio(file_path, chunk_length=30):\n",
    "    audio = AudioFileClip(file_path)\n",
    "    total_duration = int(audio.duration)\n",
    "    audio_chunks = []\n",
    "\n",
    "    for start in range(0, total_duration, chunk_length):\n",
    "        end = min(start + chunk_length, total_duration)\n",
    "        chunk = audio.subclip(start, end)\n",
    "        chunk_path = f\"chunk_{start}_{end}.mp3\"\n",
    "        chunk.write_audiofile(chunk_path)\n",
    "        audio_chunks.append(chunk_path)\n",
    "\n",
    "    return audio_chunks\n",
    "\n",
    "\n",
    "# 각 청크에서 텍스트 추출\n",
    "def transcribe_audio_chunks(chunk_files):\n",
    "    transcriptions = []\n",
    "    for chunk_file in chunk_files:\n",
    "        result = whisper_small(chunk_file, generate_kwargs={\"language\": \"english\"})\n",
    "        transcriptions.append(result[\"text\"])\n",
    "        os.remove(chunk_file)  # 임시 파일 삭제\n",
    "    return transcriptions\n",
    "\n",
    "\n",
    "# 전체 텍스트를 하나로 합침\n",
    "def merge_transcriptions(transcriptions):\n",
    "    return \" \".join(transcriptions)\n",
    "\n",
    "\n",
    "# 오디오 파일 경로\n",
    "audio_output_path = \"./khan_audio/\"\n",
    "for audio_file in os.listdir(audio_output_path):\n",
    "\n",
    "    # 오디오 파일을 30초 단위로 나누고 텍스트 추출\n",
    "    chunks = split_audio(audio_file)\n",
    "    transcriptions = transcribe_audio_chunks(chunks)\n",
    "    final_transcription = merge_transcriptions(transcriptions)\n",
    "\n",
    "# 최종 결과 출력\n",
    "print(final_transcription)"
   ]
  },
  {
   "cell_type": "code",
   "execution_count": null,
   "metadata": {},
   "outputs": [],
   "source": [
    "api = "
   ]
  },
  {
   "cell_type": "code",
   "execution_count": null,
   "metadata": {},
   "outputs": [],
   "source": [
    "import os\n",
    "from moviepy.editor import AudioFileClip\n",
    "import openai\n",
    "\n",
    "# OpenAI API 키 설정\n",
    "openai.api_key = f\"{api}\"\n",
    "\n",
    "\n",
    "# 오디오 파일을 30초 단위로 나누는 함수\n",
    "def split_audio(file_path, chunk_length=30):\n",
    "    audio = AudioFileClip(file_path)\n",
    "    total_duration = int(audio.duration)\n",
    "    audio_chunks = []\n",
    "\n",
    "    for start in range(0, total_duration, chunk_length):\n",
    "        end = min(start + chunk_length, total_duration)\n",
    "        chunk = audio.subclip(start, end)\n",
    "        chunk_path = f\"chunk_{start}_{end}.mp3\"\n",
    "        chunk.write_audiofile(chunk_path)\n",
    "        audio_chunks.append(chunk_path)\n",
    "\n",
    "    return audio_chunks\n",
    "\n",
    "\n",
    "# 각 청크에서 텍스트 추출하는 함수\n",
    "def transcribe_audio_chunks(chunk_files):\n",
    "    transcriptions = []\n",
    "    for chunk_file in chunk_files:\n",
    "        result = whisper_small(chunk_file, generate_kwargs={\"language\": \"english\"})\n",
    "        transcriptions.append(result[\"text\"])\n",
    "        os.remove(chunk_file)  # 임시 파일 삭제\n",
    "    return transcriptions\n",
    "\n",
    "\n",
    "# 전체 텍스트를 하나로 합치는 함수\n",
    "def merge_transcriptions(transcriptions):\n",
    "    return \" \".join(transcriptions)\n",
    "\n",
    "\n",
    "# 오디오 파일 경로\n",
    "audio_output_path = \"./khan_audio/\"\n",
    "\n",
    "# 오디오 파일을 30초 단위로 나누고 텍스트 추출\n",
    "for audio_file in os.listdir(audio_output_path):\n",
    "    file_path = os.path.join(audio_output_path, audio_file)\n",
    "    chunks = split_audio(file_path)\n",
    "    transcriptions = transcribe_audio_chunks(chunks)\n",
    "    final_transcription = merge_transcriptions(transcriptions)\n",
    "\n",
    "# 번역 및 요약할 긴 영어 텍스트\n",
    "text_to_translate_and_summarize = final_transcription\n",
    "\n",
    "# GPT-4를 사용하여 텍스트를 주제별로 나누고 번역 및 요약\n",
    "response = openai.ChatCompletion.create(\n",
    "    model=\"gpt-4\",\n",
    "    messages=[\n",
    "        {\"role\": \"system\", \"content\": \"You are a helpful assistant.\"},\n",
    "        {\n",
    "            \"role\": \"user\",\n",
    "            \"content\": f\"Translate this text to Korean, divide it by topic, and summarize each topic. translate all text to Korean: {text_to_translate_and_summarize}\",\n",
    "        },\n",
    "    ],\n",
    ")\n",
    "\n",
    "# 번역 및 요약된 결과\n",
    "translated_text = response[\"choices\"][0][\"message\"][\"content\"]\n",
    "\n",
    "# 번역된 텍스트를 파일로 저장\n",
    "output_file_path = \"translated_text.txt\"\n",
    "with open(output_file_path, \"w\", encoding=\"utf-8\") as file:\n",
    "    file.write(translated_text)\n",
    "\n",
    "print(f\"번역된 텍스트가 '{output_file_path}' 파일에 저장되었습니다.\")"
   ]
  },
  {
   "cell_type": "code",
   "execution_count": 15,
   "metadata": {},
   "outputs": [
    {
     "name": "stdout",
     "output_type": "stream",
     "text": [
      "**Translation into Korean**\n",
      "\n",
      "먼저, 당신은 고대의 철학자로서, 수학을 처음부터 다지고 있으며, 음수가 무엇을 나타낼 수 있거나 나타내야하는지에 대해 합리적으로 이해하고 있습니다. 또한 음수를 더하고 빼는 법도 알고 있습니다. 그러나 이제 여러분은 결론에 처해 있습니다. 음수를 곱하면 어떻게 될까요? 양수를 음수에 곱하면, 또는 음수 두 개를 곱하면 어떻게 될까요? 예를 들어, 양수와 음수 중 하나를 선택하여 곱해 보면 어떻게 될지 아직 확신이 없습니다. 예를 들어, 5와 -3을 곱하면 어떻게 될까요? 이는 아직 확실하지 않습니다. 또한 음수 둘을 곱하면 어떻게 될지에 대해서도 확신이 없습니다. 예를 들어, -2와 -6을 곱하면 어떻게 될까요? 이는 당신에게도 불분명합니다.\n",
      "\n",
      "하지만 수학자인 당신은, 이를 정의하는 방법이나 이것이 무엇이어야 하는지는, 당신이 이미 알고 있는 수학의 다른 모든 특성, 그리고 최선의 경우 모든 곱셈의 특성과 일관성을 유지해야 한다는 것을 알고 있습니다. 이것은 당신이 이것을 올바르게 이해하고 있다는 것을 더욱 확인하게 할 것입니다. 그리고 나중에 이것들이 무엇인지, 그리고 왜 이것이 실제로 의미가 있는지에 대한 직관을 얻는 다른 방법에 대해 생각해 볼 수 있습니다. \n",
      "\n",
      "그러나 이것이 당신이 이미 알고 있는 나머지 수학과 일관성을 유지하기 위해서, 당신은 약간의 사유 실험에 들어갑니다. 당신은 이야기합니다, 5와 3 그리고 -3을 곱하면 어떻게 될까요? 음수를 더하거나 양수에 음수를 더하는 철학을 이미 가지고 있습니다. -3이 3의 반대임을 알고 있습니다. 3에 -3을 더하면 0이 나옵니다. 그러므로 이것은 5와 0을 곱한 것과 같을 것입니다. 그리고 0에 어떤 숫자를 곱해도 0이 됩니다.\n",
      "\n",
      "그러나 한편으로는, 당신은 양수와 음수를 곱하는 것이 분배 법칙과 일관성을 유지하기를 원합니다. 그러므로 이 5를 분배할 수 있어야 한다고 말합니다. 따라서 이 5를 분배해 봅니다. 그래서 우리는 5와 3을 곱하게 됩니다. 따라서 5와 3을 곱합니다. +5와 -3을 곱합니다. 그리고 이 모든 것은 0과 동일해야 합니다. 그러나 5와 3은 양수 두 개이므로, 그 결과는 15이 됩니다. 그러므로 이제 우리는 다음과 같은 것을 얻었습니다.\n",
      "\n",
      "15 + 5와 -3을 곱한 것은 다른 모든 수학을 알고 있는 것과 일관성을 유지하기 위해 0과 동일해야 합니다. 그러면 어떤 수와 15를 더하면 0이 될까요? 그것은 바로 15의 반대입니다. 이것이 참이라면, 이것이 우리가 알고 있는 다른 모든 수학과 일관성을 유지하기 위해서는, 이것은 -15와 동일해야 합니다.\n",
      "\n",
      "**Dividing into Topics**\n",
      "\n",
      "Topic 1: Understanding and representing of Negative numbers\n",
      "Topic 2: Addition and subtraction of Negative numbers\n",
      "Topic 3: Multiplication of positive number times a negative number\n",
      "Topic 4: Multiplication of two negative numbers\n",
      "Topic 5: Consistency of Distributive property\n",
      "Topic 6: Understanding and implying the other properties multiplication. \n",
      "Topic 7: The concept of adding negative to a positive and multiplied by zero.\n",
      "Topic 8: Thought experiments of multiplying negative and positive numbers\n",
      "\n",
      "**Summarizing each topic**\n",
      "\n",
      "Topic 1: The topic initially sets the ground that an ancient philosopher understands the representation of negative numbers.\n",
      "Topic 2: The philosopher can add and subtract numbers which includes negative numbers.\n",
      "Topic 3: The philosopher is figuring out the result when a positive number is multiplied by the negative number.\n",
      "Topic 4: This topic tells about the uncertainties in the result when two negative numbers are multiplied.\n",
      "Topic 5: It is wished that multiplication of negative and positive numbers or two negative numbers should be consistent with the distributive property.\n",
      "Topic 6: There is a thirst for learning further properties of multiplication in order to interpret multiplication of negative numbers more comfortably.\n",
      "Topic 7: The philosopher can now add a negative number to a positive and anything that is multiplied by zero becomes zero.\n",
      "Topic 8: The philosopher applied lessons learned from his previous experiments with numbers to greter thought experiments about multiplication of negative numbers.\n"
     ]
    }
   ],
   "source": [
    "import openai\n",
    "\n",
    "# OpenAI API 키 설정\n",
    "openai.api_key = f\"{api}\"\n",
    "\n",
    "# 번역 및 요약할 긴 영어 텍스트\n",
    "text_to_translate_and_summarize = final_transcription\n",
    "\n",
    "# GPT-4를 사용하여 텍스트를 주제별로 나누고 번역 및 요약\n",
    "response = openai.ChatCompletion.create(\n",
    "    model=\"gpt-4\",\n",
    "    messages=[\n",
    "        {\"role\": \"system\", \"content\": \"You are a helpful assistant.\"},\n",
    "        {\n",
    "            \"role\": \"user\",\n",
    "            \"content\": f\"Translate this text to Korean, divide it by topic, and summarize each topic. translate all text to Korean: {text_to_translate_and_summarize}\",\n",
    "        },\n",
    "    ],\n",
    ")\n",
    "\n",
    "# 번역 및 요약된 결과 출력\n",
    "print(response[\"choices\"][0][\"message\"][\"content\"])"
   ]
  },
  {
   "cell_type": "code",
   "execution_count": 3,
   "metadata": {},
   "outputs": [
    {
     "name": "stdout",
     "output_type": "stream",
     "text": [
      "Processed file: Video_ Comparing numbers of objects.txt\n",
      "Processed file: Video_ Comparing numbers on the number line.txt\n",
      "Processed file: Video_ Counting by category.txt\n",
      "Processed file: Video_ Counting in pictures.txt\n",
      "Processed file: Video_ Counting objects 1.txt\n",
      "Processed file: Video_ Counting objects 2.txt\n",
      "Processed file: y2mate.com - Adding 1 vs adding 10  Addition and subtraction  1st grade  Khan Academy_v720P.txt\n",
      "Processed file: y2mate.com - Adding 5  3  6  Addition and subtraction within 20  Early Math  Khan Academy_720pFH.txt\n",
      "Processed file: y2mate.com - Adding 7  6  Addition and subtraction within 20  Early Math  Khan Academy_720pFH.txt\n",
      "Processed file: y2mate.com - Adding 8  7  Addition and subtraction within 20  Early Math  Khan Academy_720pFH.txt\n",
      "Processed file: y2mate.com - Adding to 10  Basic addition and subtraction  Early Math  Khan Academy_v720P.txt\n",
      "Processed file: y2mate.com - Adding with arrays_v720P.txt\n",
      "Processed file: y2mate.com - Adding with place value blocks_v720P.txt\n",
      "Processed file: y2mate.com - Addition and subtraction within 10  Basic addition and subtraction  Early Math  Khan Academy_v720P.txt\n",
      "Processed file: y2mate.com - Addition based on arrays word problems_v720P.txt\n",
      "Processed file: y2mate.com - Addition with 10 frames_v720P.txt\n",
      "Processed file: y2mate.com - Addition word problems within 10  Basic addition and subtraction  Early Math  Khan Academy_v720P.txt\n",
      "Processed file: y2mate.com - Comparing whole numbers  Place value tens and hundreds  Early Math  Khan Academy_v720P.txt\n",
      "Processed file: y2mate.com - Comparison word problems  Addition and subtraction within 20  Early Math  Khan Academy_720pFH.txt\n",
      "Processed file: y2mate.com - Comparison word problems rolypolies  Addition and subtraction  1st grade  Khan Academy_v720P.txt\n",
      "Processed file: y2mate.com - Constructing a scatter plot  Regression  Probability and Statistics  Khan Academy_720pFH.txt\n",
      "Processed file: y2mate.com - Converting repeating decimals to fractions 1  Linear equations  Algebra I  Khan Academy_720pFH.txt\n",
      "Processed file: y2mate.com - Coordinate plane plot ordered pairs  Negative numbers  6th grade  Khan Academy_v720P.txt\n",
      "Processed file: y2mate.com - Corresponding points and sides of scaled shapes_720pFH.txt\n",
      "Processed file: y2mate.com - Counting by tens  Counting  Early Math  Khan Academy_v720P.txt\n",
      "Processed file: y2mate.com - Counting by tens examples  Addition and subtraction within 100  Early Math  Khan Academy_v720P.txt\n",
      "Processed file: y2mate.com - Counting in order  Counting  Early Math  Khan Academy_720pFH.txt\n",
      "Processed file: y2mate.com - Counting with small numbers  Counting  Early Math  Khan Academy_720pHF.txt\n",
      "Processed file: y2mate.com - Decomposing angles  Math  4th grade  Khan Academy_v720P.txt\n",
      "Processed file: y2mate.com - Equal sign  Addition and subtraction within 20  Early Math  Khan Academy_720p.txt\n",
      "Processed file: y2mate.com - Estimating 2 digit multiplication example_v720P.txt\n",
      "Processed file: y2mate.com - Examples identifying multiples_v720P.txt\n",
      "Processed file: y2mate.com - Examples relating decimals and fractions in words_v720P.txt\n",
      "Processed file: y2mate.com - Exercising gorillas  Addition and subtraction within 20  Early Math  Khan Academy_720pFH.txt\n",
      "Processed file: y2mate.com - Finding factors of a number  Factors and multiples  PreAlgebra  Khan Academy_720pFH.txt\n",
      "Processed file: y2mate.com - Fractiondecimal intuition problems examples  4th grade  Khan Academy_720pFH.txt\n",
      "Processed file: y2mate.com - Getting to 10 by filling boxes  Basic addition and subtraction  Early Math  Khan Academy_v720P.txt\n",
      "Processed file: y2mate.com - Greater than and less than symbols  Applying mathematical reasoning  PreAlgebra  Khan Academy_720pFH.txt\n",
      "Processed file: y2mate.com - How to simplify an expression by combining like terms and the distributive property  Khan Academy_720pFH.txt\n",
      "Processed file: y2mate.com - How to test solutions to equations using substitution  6th grade  Khan Academy_720pFH.txt\n",
      "Processed file: y2mate.com - Identifying hundredths on a number line  Math  4th grade  Khan Academy_720pFH.txt\n",
      "Processed file: y2mate.com - Interpreting absolute value as distance  7th grade  Khan Academy_720pFH.txt\n",
      "Processed file: y2mate.com - Introduction to addition  Basic addition and subtraction  Early Math  Khan Academy_720pFH.txt\n",
      "Processed file: y2mate.com - Introduction to place value  Place value tens and hundreds  Early Math  Khan Academy_720pFH.txt\n",
      "Processed file: y2mate.com - Introduction to subtraction  Basic addition and subtraction  Early Math  Khan Academy_720pFH.txt\n",
      "Processed file: y2mate.com - Making 5  Basic addition and subtraction  Early Math  Khan Academy_720pFH.txt\n",
      "Processed file: y2mate.com - Measuring angles with a circular protractor  Math  4th grade  Khan Academy_v720P.txt\n",
      "Processed file: y2mate.com - Metric system units of distance  4th grade  Khan Academy_720pFH.txt\n",
      "Processed file: y2mate.com - Metric system units of volume  4th grade  Khan Academy_720pFH.txt\n",
      "Processed file: y2mate.com - Metric system units of weight  4th grade  Khan Academy_720pFH.txt\n",
      "Processed file: y2mate.com - Missing numbers between 0 and 120  Counting  Early Math  Khan Academy_720pFH.txt\n",
      "Processed file: y2mate.com - Missing numbers in addition and subtraction  2nd grade  Khan Academy_720pFH.txt\n",
      "Processed file: y2mate.com - Monkeys for a party  Place value tens and hundreds  Early Math  Khan Academy_v720P.txt\n",
      "Processed file: y2mate.com - Multiplying 10s  Math  4th grade  Khan Academy_720pFH.txt\n",
      "Processed file: y2mate.com - Multiplying 2 digit numbers  Multiplication and division  4th grade  Khan Academy_720pFH.txt\n",
      "Processed file: y2mate.com - Number grid  Counting  Early Math  Khan Academy_720pFH.txt\n",
      "Processed file: y2mate.com - Pieces of fruit  Basic addition and subtraction  Early Math  Khan Academy_v720P.txt\n",
      "Processed file: y2mate.com - Place value example with 25  Place value tens and hundreds  Early Math  Khan Academy_720pFH.txt\n",
      "Processed file: y2mate.com - Place value example with 42  Place value tens and hundreds  Early Math  Khan Academy_720pFH.txt\n",
      "Processed file: y2mate.com - Powers of fractions  Exponents radicals and scientific notation  PreAlgebra  Khan Academy_720pFH.txt\n",
      "Processed file: y2mate.com - Recognizing prime and composite numbers  Factors and multiples  PreAlgebra  Khan Academy_720pFH.txt\n",
      "Processed file: y2mate.com - Regrouping whole numbers  Arithmetic properties  PreAlgebra  Khan Academy_720pFH.txt\n",
      "Processed file: y2mate.com - Relating addition and subtraction  Basic addition and subtraction  Early Math  Khan Academy_720pFH.txt\n",
      "Processed file: y2mate.com - Repeated addition example  Addition and subtraction within 100  Early Math  Khan Academy_720pFH.txt\n",
      "Processed file: y2mate.com - Representing and comparing rates  Linear equations and functions  8th grade  Khan Academy_720pFH.txt\n",
      "Processed file: y2mate.com - Rewriting fractions as decimals  Math  4th grade  Khan Academy_720pFH.txt\n",
      "Processed file: y2mate.com - Rounding whole numbers example 2  Arithmetic properties  PreAlgebra  Khan Academy_v720P.txt\n",
      "Processed file: y2mate.com - Skip counting by 5 example  Addition and subtraction within 100  Early Math  Khan Academy_720pFH.txt\n",
      "Processed file: y2mate.com - Solving the troll riddle visually  Algebra II  Khan Academy_720pFH.txt\n",
      "Processed file: y2mate.com - Statistical questions  Data and statistics  6th grade  Khan Academy_720pFH.txt\n",
      "Processed file: y2mate.com - Subtracting 1 vs subtracting 10  Addition and subtraction within 100  2nd grade  Khan Academy_v720P.txt\n",
      "Processed file: y2mate.com - Subtracting 14  6  Addition and subtraction within 20  Early Math  Khan Academy_720pFH.txt\n",
      "Processed file: y2mate.com - Subtracting multi digit numbers with regrouping_720pFH.txt\n",
      "Processed file: y2mate.com - Subtracting with a number line_v720P.txt\n",
      "Processed file: y2mate.com - Subtraction using place value blocks_v720P.txt\n",
      "Processed file: y2mate.com - Subtraction with ten frames_v720P.txt\n",
      "Processed file: y2mate.com - Subtraction word problems within 10  Basic addition and subtraction  Early Math  Khan Academy_v720P.txt\n",
      "Processed file: y2mate.com - Teens as sums with 10  Place value tens and hundreds  Early Math  Khan Academy_v720P.txt\n",
      "Processed file: y2mate.com - Time word problem puzzle  Math  3rd grade  Khan Academy_v720P.txt\n",
      "Processed file: y2mate.com - Transformations  dilation_720pFH.txt\n",
      "Processed file: y2mate.com - Understanding place value when adding ones  Early Math  Khan Academy_720pFH.txt\n",
      "Processed file: y2mate.com - Understanding place value when subtracting tens  Early Math  Khan Academy_v720P.txt\n",
      "Processed file: y2mate.com - Understanding place value while subtracting ones  Early Math  Khan Academy_v720P.txt\n",
      "Processed file: y2mate.com - Why a negative times a negative is a positive  PreAlgebra  Khan Academy_720pFH.txt\n"
     ]
    }
   ],
   "source": [
    "import openai\n",
    "import os\n",
    "\n",
    "# OpenAI API 키 설정\n",
    "openai.api_key = f\"{api}\"\n",
    "\n",
    "# 텍스트 파일이 있는 디렉토리와 저장할 디렉토리 설정\n",
    "input_directory = \"./khan_text/\"  # 원본 텍스트 파일이 있는 디렉토리\n",
    "output_directory = \"./khan_text_transed/\"  # 번역 및 요약된 파일을 저장할 디렉토리\n",
    "\n",
    "# 디렉토리가 없으면 생성\n",
    "if not os.path.exists(output_directory):\n",
    "    os.makedirs(output_directory)\n",
    "\n",
    "# 텍스트 파일 목록 가져오기\n",
    "text_files = [f for f in os.listdir(input_directory) if f.endswith(\".txt\")]\n",
    "\n",
    "# 각 파일에 대해 번역 및 요약 수행\n",
    "for file_name in text_files:\n",
    "    file_path = os.path.join(input_directory, file_name)\n",
    "\n",
    "    # 파일 읽기\n",
    "    with open(file_path, \"r\", encoding=\"utf-8\") as file:\n",
    "        text_to_translate_and_summarize = file.read()\n",
    "\n",
    "    # GPT-4를 사용하여 번역 및 요약\n",
    "    response = openai.ChatCompletion.create(\n",
    "        model=\"gpt-4\",\n",
    "        messages=[\n",
    "            {\"role\": \"system\", \"content\": \"You are a helpful assistant.\"},\n",
    "            {\n",
    "                \"role\": \"user\",\n",
    "                \"content\": f\"Translate this text to Korean: {text_to_translate_and_summarize}\",\n",
    "            },\n",
    "        ],\n",
    "    )\n",
    "\n",
    "    # 번역 및 요약된 결과\n",
    "    translated_and_summarized_text = response[\"choices\"][0][\"message\"][\"content\"]\n",
    "\n",
    "    # 결과를 새로운 파일로 저장\n",
    "    output_file_path = os.path.join(output_directory, file_name)\n",
    "    with open(output_file_path, \"w\", encoding=\"utf-8\") as output_file:\n",
    "        output_file.write(translated_and_summarized_text)\n",
    "\n",
    "    print(f\"Processed file: {file_name}\")"
   ]
  }
 ],
 "metadata": {
  "kernelspec": {
   "display_name": "Python 3",
   "language": "python",
   "name": "python3"
  },
  "language_info": {
   "codemirror_mode": {
    "name": "ipython",
    "version": 3
   },
   "file_extension": ".py",
   "mimetype": "text/x-python",
   "name": "python",
   "nbconvert_exporter": "python",
   "pygments_lexer": "ipython3",
   "version": "3.8.19"
  }
 },
 "nbformat": 4,
 "nbformat_minor": 2
}
