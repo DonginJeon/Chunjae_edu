{
 "cells": [
  {
   "cell_type": "markdown",
   "metadata": {},
   "source": [
    "- 음성데이터를 받아서\n",
    "- 텍스트 파싱\n",
    "- 모델을 이용해서 나온 것을 \n",
    "\n",
    "- 날짜별 음성파일을 텍스트로 변환\n",
    "- 변환한 파일을 어떤 강의인지 매칭\n",
    "- 매칭된 내용을 요약부분에 넣기"
   ]
  },
  {
   "cell_type": "code",
   "execution_count": null,
   "metadata": {},
   "outputs": [],
   "source": []
  }
 ],
 "metadata": {
  "language_info": {
   "name": "python"
  }
 },
 "nbformat": 4,
 "nbformat_minor": 2
}
