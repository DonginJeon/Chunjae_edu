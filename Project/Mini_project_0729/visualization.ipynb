{
 "cells": [
  {
   "cell_type": "code",
   "execution_count": null,
   "metadata": {},
   "outputs": [],
   "source": [
    "import pandas as pd\n",
    "import plotly.express as px\n",
    "import matplotlib.pyplot as plt\n",
    "import seaborn as sns"
   ]
  },
  {
   "cell_type": "code",
   "execution_count": null,
   "metadata": {},
   "outputs": [],
   "source": [
    "# 데이터셋 호출\n",
    "RFM_result = pd.read_csv(\"./RFM_report.csv\")\n",
    "RFM_result\n",
    "\n",
    "df = pd.read_csv(\"./df.csv\")\n",
    "df"
   ]
  },
  {
   "cell_type": "markdown",
   "metadata": {},
   "source": [
    "- 월별, 연도별 매출 시각화\n",
    "- 판매 금액 TOP3 상품에 대한 구매자 분포도 시각화\n",
    "- RFM 점수 최고 구매자의 구매 물품 분포도 시각화\n",
    "- 기타 추가 시각화"
   ]
  },
  {
   "cell_type": "markdown",
   "metadata": {},
   "source": [
    "- 월별, 연도별 매출 시각화"
   ]
  },
  {
   "cell_type": "code",
   "execution_count": null,
   "metadata": {},
   "outputs": [],
   "source": [
    "# 월별, 연도별 매출 시각화\n",
    "\n",
    "df[\"month\"] = df[\"주문일자\"].dt.month\n",
    "df[\"year\"] = df[\"주문일자\"].dt.year"
   ]
  },
  {
   "cell_type": "code",
   "execution_count": null,
   "metadata": {},
   "outputs": [],
   "source": [
    "plt.figure(figsize=(16, 9))\n",
    "plt.ylabel(\"매출액\")\n",
    "\n",
    "sns.barplot(df, x=\"month\", y=\"판매금액\", hue=\"year\")\n",
    "plt.title(\"monthly & yearly sales\")\n",
    "plt.show()"
   ]
  },
  {
   "cell_type": "code",
   "execution_count": null,
   "metadata": {},
   "outputs": [],
   "source": [
    "# 연도별 선그래프\n",
    "sns.lineplot(data=df, x=\"year\", y=\"판매금액\")"
   ]
  },
  {
   "cell_type": "code",
   "execution_count": null,
   "metadata": {},
   "outputs": [],
   "source": [
    "top3_"
   ]
  },
  {
   "cell_type": "code",
   "execution_count": null,
   "metadata": {},
   "outputs": [],
   "source": [
    "top3_ = df[df[\"상품명\"] == \"[명절상품권특가] 신세계 상품권 교환권-4만원권\"]\n",
    "\n",
    "sns.scatterplot(data=top3_, x=\"판매금액\", y=\"month\")"
   ]
  },
  {
   "cell_type": "code",
   "execution_count": null,
   "metadata": {},
   "outputs": [],
   "source": [
    "# 판매금액 탑3 상품에 대한 구매자 분포도 시각화\n",
    "top3 = df[\"판매금액\"].sort_values(ascending=False).unique()[0:3]\n",
    "under3 = df[\"판매금액\"].sort_values(ascending=True).unique()[0:3]\n",
    "\n",
    "print(top3)\n",
    "print(under3)"
   ]
  },
  {
   "cell_type": "markdown",
   "metadata": {},
   "source": [
    "- RFM 점수 최고 구매자의 구매 물품 분포도 시각화"
   ]
  },
  {
   "cell_type": "code",
   "execution_count": null,
   "metadata": {},
   "outputs": [],
   "source": [
    "RFM_result"
   ]
  },
  {
   "cell_type": "code",
   "execution_count": null,
   "metadata": {},
   "outputs": [],
   "source": [
    "# 점수열 추가\n",
    "RFM_result[\"sum\"] = 0\n",
    "for i in range(len(RFM_result)):\n",
    "    RFM_result.loc[i, \"sum\"] += (\n",
    "        int(RFM_result.iloc[i, 4])\n",
    "        + int(RFM_result.iloc[i, 5])\n",
    "        + int(RFM_result.iloc[i, 6])\n",
    "    )"
   ]
  },
  {
   "cell_type": "code",
   "execution_count": null,
   "metadata": {},
   "outputs": [],
   "source": [
    "highest_RFM = RFM_result[RFM_result[\"sum\"] == RFM_result[\"sum\"].max()].loc[:, \"구매자\"]\n",
    "\n",
    "list_15 = df[df[\"구매자\"].isin(highest_RFM.tolist())]\n",
    "a = list_15.groupby(\"구매자\")[\"상품명\"].value_counts()"
   ]
  },
  {
   "cell_type": "code",
   "execution_count": null,
   "metadata": {},
   "outputs": [],
   "source": [
    "bas = df[df[\"구매자\"] == \"Bond and Sons\"]\n",
    "bas"
   ]
  },
  {
   "cell_type": "code",
   "execution_count": null,
   "metadata": {},
   "outputs": [],
   "source": [
    "# Bond and Sons의 구매 품목\n",
    "plt.figure(figsize=(16, 25))\n",
    "sns.countplot(data=bas, x=\"상품명\")"
   ]
  },
  {
   "cell_type": "code",
   "execution_count": null,
   "metadata": {},
   "outputs": [],
   "source": [
    "RFM_result"
   ]
  },
  {
   "cell_type": "code",
   "execution_count": null,
   "metadata": {},
   "outputs": [],
   "source": [
    "# 점수에 대한 산점도\n",
    "plt.figure(figsize=(16, 9))\n",
    "px.scatter(RFM_result, x=\"Grade\", y=\"sum\")\n",
    "\n",
    "# 신경써야할 고객을 더 구체적으로 나눠야함"
   ]
  }
 ],
 "metadata": {
  "kernelspec": {
   "display_name": "base",
   "language": "python",
   "name": "python3"
  },
  "language_info": {
   "codemirror_mode": {
    "name": "ipython",
    "version": 3
   },
   "file_extension": ".py",
   "mimetype": "text/x-python",
   "name": "python",
   "nbconvert_exporter": "python",
   "pygments_lexer": "ipython3",
   "version": "3.12.4"
  }
 },
 "nbformat": 4,
 "nbformat_minor": 2
}
