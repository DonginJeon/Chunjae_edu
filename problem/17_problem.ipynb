{
 "cells": [
  {
   "cell_type": "code",
   "execution_count": 1,
   "metadata": {},
   "outputs": [
    {
     "name": "stdout",
     "output_type": "stream",
     "text": [
      "        income     expenses\n",
      "0  4496.714153  1292.314629\n",
      "1  8436.995623  1789.677339\n",
      "2  4647.688538  1828.642742\n",
      "3  5523.029856  1598.861365\n",
      "4  3765.846625  1919.357144\n"
     ]
    }
   ],
   "source": [
    "import pandas as pd\n",
    "import numpy as np\n",
    "\n",
    "# 랜덤 시드 고정 \n",
    "np.random.seed(42)\n",
    "\n",
    "num_samples = 100\n",
    "\n",
    "\n",
    "data = {\n",
    "    \"income\": np.random.normal(loc=4000, scale=1000, size=num_samples),\n",
    "    \"expenses\": np.random.normal(loc=2000, scale=500, size=num_samples),\n",
    "}\n",
    "\n",
    "df = pd.DataFrame(data)\n",
    "\n",
    "# 이상치 추가\n",
    "num_outliers = 7\n",
    "\n",
    "# income 열에 대한 이상치 추가\n",
    "df.loc[np.random.choice(df.index, num_outliers), \"income\"] = (\n",
    "    df[\"income\"].mean() + 5 * df[\"income\"].std()\n",
    ")\n",
    "# expenses 열에 대한 이상치 추가\n",
    "df.loc[np.random.choice(df.index, num_outliers), \"expenses\"] = (\n",
    "    df[\"expenses\"].mean() + 5 * df[\"expenses\"].std()\n",
    ")\n",
    "\n",
    "df.loc[55] = [0, 0]\n",
    "df.loc[44] = [10000, 10000]\n",
    "\n",
    "print(df.head())"
   ]
  },
  {
   "cell_type": "markdown",
   "metadata": {},
   "source": [
    "### (1) 이상치 제거하기\n",
    "\n",
    "1. `expenses`에 대한 상자그림(box plot)을 출력하세요.\n",
    "    \n",
    "    ![Untitled](https://prod-files-secure.s3.us-west-2.amazonaws.com/f2678325-6f7b-4a25-b188-86c42030d6d5/76665609-8461-4975-997e-87b99cb239e2/Untitled.png)"
   ]
  },
  {
   "cell_type": "code",
   "execution_count": 2,
   "metadata": {},
   "outputs": [
    {
     "data": {
      "text/plain": [
       "<Axes: >"
      ]
     },
     "execution_count": 2,
     "metadata": {},
     "output_type": "execute_result"
    },
    {
     "data": {
      "image/png": "[encoded data removed]",
      "text/plain": [
       "<Figure size 640x480 with 1 Axes>"
      ]
     },
     "metadata": {},
     "output_type": "display_data"
    }
   ],
   "source": [
    "df['expenses'].plot.box()"
   ]
  },
  {
   "cell_type": "markdown",
   "metadata": {},
   "source": [
    "2. `expenses`에 대해 사분위수를 활용한 이상치를 탐색하고 출력하세요.\n",
    "    \n",
    "    ```bash\n",
    "    24     4395.324709\n",
    "    25     4395.324709\n",
    "    38     4395.324709\n",
    "    41     4395.324709\n",
    "    44    10000.000000\n",
    "    49     4395.324709\n",
    "    55        0.000000\n",
    "    92     4395.324709\n",
    "    98     4395.324709\n",
    "    Name: expenses, dtype: float64\n",
    "    ```"
   ]
  },
  {
   "cell_type": "code",
   "execution_count": 5,
   "metadata": {},
   "outputs": [
    {
     "name": "stdout",
     "output_type": "stream",
     "text": [
      "24     4395.324709\n",
      "25     4395.324709\n",
      "38     4395.324709\n",
      "41     4395.324709\n",
      "44    10000.000000\n",
      "49     4395.324709\n",
      "55        0.000000\n",
      "92     4395.324709\n",
      "98     4395.324709\n",
      "Name: expenses, dtype: float64\n"
     ]
    }
   ],
   "source": [
    "column_e = df['expenses']\n",
    "q1 = column_e.quantile(0.25)\n",
    "q3 = column_e.quantile(0.75)\n",
    "IQR = q3-q1\n",
    "l_bound = q1 - IQR * 1.5\n",
    "u_bound = q3 + IQR * 1.5\n",
    "lower_bound_filter = column_e < l_bound \n",
    "upper_bound_filter = column_e > u_bound  \n",
    "\n",
    "# 이상치 추출\n",
    "outliers = column_e[lower_bound_filter | upper_bound_filter]\n",
    "\n",
    "print(outliers)"
   ]
  },
  {
   "cell_type": "markdown",
   "metadata": {},
   "source": [
    "3. 데이터 필터링을 활용해서 이상치를 제거하고, 결과를 `df_cleaned` 변수에 저장하고 expenses 데이터를 출력하세요.\n",
    "    \n",
    "    ```bash\n",
    "    0     1292.314629\n",
    "    1     1789.677339\n",
    "    2     1828.642742\n",
    "    3     1598.861365\n",
    "    4     1919.357144\n",
    "             ...     \n",
    "    94    2086.590463\n",
    "    95    2192.658690\n",
    "    96    1558.071282\n",
    "    97    2076.862553\n",
    "    99    1428.514851\n",
    "    Name: expenses, Length: 91, dtype: float64\n",
    "    ```"
   ]
  },
  {
   "cell_type": "code",
   "execution_count": 31,
   "metadata": {},
   "outputs": [
    {
     "data": {
      "text/html": [
       "<div>\n",
       "<style scoped>\n",
       "    .dataframe tbody tr th:only-of-type {\n",
       "        vertical-align: middle;\n",
       "    }\n",
       "\n",
       "    .dataframe tbody tr th {\n",
       "        vertical-align: top;\n",
       "    }\n",
       "\n",
       "    .dataframe thead th {\n",
       "        text-align: right;\n",
       "    }\n",
       "</style>\n",
       "<table border=\"1\" class=\"dataframe\">\n",
       "  <thead>\n",
       "    <tr style=\"text-align: right;\">\n",
       "      <th></th>\n",
       "      <th>income</th>\n",
       "      <th>expenses</th>\n",
       "    </tr>\n",
       "  </thead>\n",
       "  <tbody>\n",
       "    <tr>\n",
       "      <th>0</th>\n",
       "      <td>4496.714153</td>\n",
       "      <td>1292.314629</td>\n",
       "    </tr>\n",
       "    <tr>\n",
       "      <th>1</th>\n",
       "      <td>8436.995623</td>\n",
       "      <td>1789.677339</td>\n",
       "    </tr>\n",
       "    <tr>\n",
       "      <th>2</th>\n",
       "      <td>4647.688538</td>\n",
       "      <td>1828.642742</td>\n",
       "    </tr>\n",
       "    <tr>\n",
       "      <th>3</th>\n",
       "      <td>5523.029856</td>\n",
       "      <td>1598.861365</td>\n",
       "    </tr>\n",
       "    <tr>\n",
       "      <th>4</th>\n",
       "      <td>3765.846625</td>\n",
       "      <td>1919.357144</td>\n",
       "    </tr>\n",
       "    <tr>\n",
       "      <th>...</th>\n",
       "      <td>...</td>\n",
       "      <td>...</td>\n",
       "    </tr>\n",
       "    <tr>\n",
       "      <th>94</th>\n",
       "      <td>3607.891847</td>\n",
       "      <td>2086.590463</td>\n",
       "    </tr>\n",
       "    <tr>\n",
       "      <th>95</th>\n",
       "      <td>2536.485052</td>\n",
       "      <td>2192.658690</td>\n",
       "    </tr>\n",
       "    <tr>\n",
       "      <th>96</th>\n",
       "      <td>4296.120277</td>\n",
       "      <td>1558.071282</td>\n",
       "    </tr>\n",
       "    <tr>\n",
       "      <th>97</th>\n",
       "      <td>4261.055272</td>\n",
       "      <td>2076.862553</td>\n",
       "    </tr>\n",
       "    <tr>\n",
       "      <th>99</th>\n",
       "      <td>3765.412867</td>\n",
       "      <td>1428.514851</td>\n",
       "    </tr>\n",
       "  </tbody>\n",
       "</table>\n",
       "<p>91 rows × 2 columns</p>\n",
       "</div>"
      ],
      "text/plain": [
       "         income     expenses\n",
       "0   4496.714153  1292.314629\n",
       "1   8436.995623  1789.677339\n",
       "2   4647.688538  1828.642742\n",
       "3   5523.029856  1598.861365\n",
       "4   3765.846625  1919.357144\n",
       "..          ...          ...\n",
       "94  3607.891847  2086.590463\n",
       "95  2536.485052  2192.658690\n",
       "96  4296.120277  1558.071282\n",
       "97  4261.055272  2076.862553\n",
       "99  3765.412867  1428.514851\n",
       "\n",
       "[91 rows x 2 columns]"
      ]
     },
     "execution_count": 31,
     "metadata": {},
     "output_type": "execute_result"
    }
   ],
   "source": [
    "df_cleaned = df.drop(outliers.index)\n",
    "df_cleaned"
   ]
  },
  {
   "cell_type": "code",
   "execution_count": 32,
   "metadata": {},
   "outputs": [
    {
     "data": {
      "text/plain": [
       "0     1292.314629\n",
       "1     1789.677339\n",
       "2     1828.642742\n",
       "3     1598.861365\n",
       "4     1919.357144\n",
       "         ...     \n",
       "94    2086.590463\n",
       "95    2192.658690\n",
       "96    1558.071282\n",
       "97    2076.862553\n",
       "99    1428.514851\n",
       "Name: expenses, Length: 91, dtype: float64"
      ]
     },
     "execution_count": 32,
     "metadata": {},
     "output_type": "execute_result"
    }
   ],
   "source": [
    "lower_bound_filter = column_e >= l_bound \n",
    "upper_bound_filter = column_e <= u_bound  \n",
    "\n",
    "# 이상치 추출\n",
    "non_outliers = column_e[lower_bound_filter & upper_bound_filter]\n",
    "non_outliers"
   ]
  },
  {
   "cell_type": "markdown",
   "metadata": {},
   "source": [
    "4.  변수 `df_cleaned` 의 `expenses`에 대한 상자그림(box plot)을 출력하세요.\n",
    "    \n",
    "    ![Untitled](https://prod-files-secure.s3.us-west-2.amazonaws.com/f2678325-6f7b-4a25-b188-86c42030d6d5/93de7c2a-143f-466c-8003-a1e3696b4cbe/Untitled.png)"
   ]
  },
  {
   "cell_type": "code",
   "execution_count": 34,
   "metadata": {},
   "outputs": [
    {
     "data": {
      "text/plain": [
       "<Axes: >"
      ]
     },
     "execution_count": 34,
     "metadata": {},
     "output_type": "execute_result"
    },
    {
     "data": {
      "image/png": "[encoded data removed]",
      "text/plain": [
       "<Figure size 640x480 with 1 Axes>"
      ]
     },
     "metadata": {},
     "output_type": "display_data"
    }
   ],
   "source": [
    "df_cleaned['expenses'].plot.box()"
   ]
  },
  {
   "cell_type": "code",
   "execution_count": 35,
   "metadata": {},
   "outputs": [],
   "source": [
    "### (2) 이상치 수정하기\n",
    "\n",
    "import pandas as pd\n",
    "import numpy as np\n",
    "\n",
    "# 랜덤 모듈 사용을 위한 시드 설정\n",
    "np.random.seed(0)\n",
    "\n",
    "# 학생 수와 데이터 수 설정\n",
    "num_students = 1000\n",
    "\n",
    "# 데이터프레임 생성\n",
    "df = pd.DataFrame(\n",
    "    {\n",
    "        \"ID\": np.arange(1, num_students + 1),\n",
    "        \"Name\": [f\"학생{i}\" for i in range(1, num_students + 1)],\n",
    "        \"grade\": np.round(np.random.uniform(1.0, 4.5, size=num_students), 2),\n",
    "    }\n",
    ")\n",
    "\n",
    "# 일부 이상치 추가\n",
    "num_outliers = 50\n",
    "\n",
    "# grade 열에 이상치 추가\n",
    "outlier_indices_gpa = np.random.choice(df.index, num_outliers, replace=False)\n",
    "df.loc[outlier_indices_gpa, \"grade\"] = np.round(\n",
    "    np.random.uniform(4.5, 10.0, size=num_outliers), 2\n",
    ")"
   ]
  },
  {
   "cell_type": "markdown",
   "metadata": {},
   "source": [
    "2. `grade` 에 대한 상자그림을 출력하세요.\n",
    "    \n",
    "    ![Untitled](https://prod-files-secure.s3.us-west-2.amazonaws.com/f2678325-6f7b-4a25-b188-86c42030d6d5/51c577d1-b9ce-47e8-bc0b-69d24990d694/Untitled.png)"
   ]
  },
  {
   "cell_type": "code",
   "execution_count": 36,
   "metadata": {},
   "outputs": [
    {
     "data": {
      "text/plain": [
       "<Axes: >"
      ]
     },
     "execution_count": 36,
     "metadata": {},
     "output_type": "execute_result"
    },
    {
     "data": {
      "image/png": "[encoded data removed]",
      "text/plain": [
       "<Figure size 640x480 with 1 Axes>"
      ]
     },
     "metadata": {},
     "output_type": "display_data"
    }
   ],
   "source": [
    "df['grade'].plot.box()"
   ]
  },
  {
   "cell_type": "markdown",
   "metadata": {},
   "source": [
    "3. `grade`에 대해 사분위수를 활용한 이상치를 탐색하고 출력하세요.\n",
    "    \n",
    "    ```bash\n",
    "    24     9.17\n",
    "    57     8.94\n",
    "    71     9.70\n",
    "    86     6.79\n",
    "    98     9.37\n",
    "    124    6.81\n",
    "    180    8.89\n",
    "    352    7.34\n",
    "    385    6.64\n",
    "    396    7.33\n",
    "    403    8.72\n",
    "    495    9.04\n",
    "    532    8.33\n",
    "    545    8.51\n",
    "    548    9.15\n",
    "    575    7.21\n",
    "    579    9.45\n",
    "    628    7.15\n",
    "    651    9.45\n",
    "    655    7.61\n",
    "    663    9.60\n",
    "    759    8.73\n",
    "    916    6.85\n",
    "    936    8.59\n",
    "    943    9.91\n",
    "    Name: grade, dtype: float64\n",
    "    ```"
   ]
  },
  {
   "cell_type": "code",
   "execution_count": 65,
   "metadata": {},
   "outputs": [
    {
     "name": "stdout",
     "output_type": "stream",
     "text": [
      "-0.6975000000000002 6.282500000000001\n"
     ]
    }
   ],
   "source": [
    "column_g = df['grade']\n",
    "q1 = column_g.quantile(0.25)\n",
    "q3 = column_g.quantile(0.75)\n",
    "IQR = q3-q1\n",
    "l_bound = q1 - IQR * 1.5\n",
    "u_bound = q3 + IQR * 1.5\n",
    "lower_bound_filter = column_g < l_bound \n",
    "upper_bound_filter = column_g > u_bound  \n",
    "\n",
    "# 이상치 추출\n",
    "outliers = column_g[lower_bound_filter | upper_bound_filter]\n",
    "\n",
    "print(l_bound,u_bound)"
   ]
  },
  {
   "cell_type": "markdown",
   "metadata": {},
   "source": [
    "4. `grade` 에 대한 이상치를 평균값으로 수정하고, 상자그림을 출력하세요.\n",
    "    \n",
    "    ![Untitled](https://prod-files-secure.s3.us-west-2.amazonaws.com/f2678325-6f7b-4a25-b188-86c42030d6d5/18273a13-4427-497b-90b4-5df2a7c303e1/Untitled.png)"
   ]
  },
  {
   "cell_type": "code",
   "execution_count": 72,
   "metadata": {},
   "outputs": [
    {
     "data": {
      "text/plain": [
       "6.27"
      ]
     },
     "execution_count": 72,
     "metadata": {},
     "output_type": "execute_result"
    }
   ],
   "source": [
    "max(df['grade'])"
   ]
  },
  {
   "cell_type": "code",
   "execution_count": 73,
   "metadata": {},
   "outputs": [
    {
     "data": {
      "text/plain": [
       "<Axes: >"
      ]
     },
     "execution_count": 73,
     "metadata": {},
     "output_type": "execute_result"
    },
    {
     "data": {
      "image/png": "[encoded data removed]",
      "text/plain": [
       "<Figure size 640x480 with 1 Axes>"
      ]
     },
     "metadata": {},
     "output_type": "display_data"
    }
   ],
   "source": [
    "df.loc[outliers.index,'grade']=df['grade'].mean()\n",
    "df['grade'].plot.box()"
   ]
  },
  {
   "cell_type": "markdown",
   "metadata": {},
   "source": [
    "5. `garde` 데이터 중 4.5가 넘는 데이터를 출력하세요.\n",
    "    \n",
    "    ```bash\n",
    "          ID   Name  grade\n",
    "    9     10   학생10   4.68\n",
    "    69    70   학생70   5.42\n",
    "    132  133  학생133   4.64\n",
    "    183  184  학생184   5.58\n",
    "    248  249  학생249   6.27\n",
    "    306  307  학생307   5.70\n",
    "    379  380  학생380   5.10\n",
    "    384  385  학생385   5.02\n",
    "    402  403  학생403   5.14\n",
    "    439  440  학생440   6.19\n",
    "    488  489  학생489   6.45\n",
    "    547  548  학생548   5.62\n",
    "    559  560  학생560   5.35\n",
    "    568  569  학생569   5.45\n",
    "    616  617  학생617   5.14\n",
    "    704  705  학생705   4.52\n",
    "    732  733  학생733   6.21\n",
    "    771  772  학생772   5.77\n",
    "    830  831  학생831   5.90\n",
    "    862  863  학생863   5.10\n",
    "    899  900  학생900   5.64\n",
    "    906  907  학생907   6.07\n",
    "    913  914  학생914   6.12\n",
    "    962  963  학생963   5.29\n",
    "    982  983  학생983   5.40\n",
    "    ```"
   ]
  },
  {
   "cell_type": "code",
   "execution_count": 74,
   "metadata": {},
   "outputs": [
    {
     "data": {
      "text/html": [
       "<div>\n",
       "<style scoped>\n",
       "    .dataframe tbody tr th:only-of-type {\n",
       "        vertical-align: middle;\n",
       "    }\n",
       "\n",
       "    .dataframe tbody tr th {\n",
       "        vertical-align: top;\n",
       "    }\n",
       "\n",
       "    .dataframe thead th {\n",
       "        text-align: right;\n",
       "    }\n",
       "</style>\n",
       "<table border=\"1\" class=\"dataframe\">\n",
       "  <thead>\n",
       "    <tr style=\"text-align: right;\">\n",
       "      <th></th>\n",
       "      <th>ID</th>\n",
       "      <th>Name</th>\n",
       "      <th>grade</th>\n",
       "    </tr>\n",
       "  </thead>\n",
       "  <tbody>\n",
       "    <tr>\n",
       "      <th>9</th>\n",
       "      <td>10</td>\n",
       "      <td>학생10</td>\n",
       "      <td>4.68</td>\n",
       "    </tr>\n",
       "    <tr>\n",
       "      <th>69</th>\n",
       "      <td>70</td>\n",
       "      <td>학생70</td>\n",
       "      <td>5.42</td>\n",
       "    </tr>\n",
       "    <tr>\n",
       "      <th>132</th>\n",
       "      <td>133</td>\n",
       "      <td>학생133</td>\n",
       "      <td>4.64</td>\n",
       "    </tr>\n",
       "    <tr>\n",
       "      <th>183</th>\n",
       "      <td>184</td>\n",
       "      <td>학생184</td>\n",
       "      <td>5.58</td>\n",
       "    </tr>\n",
       "    <tr>\n",
       "      <th>248</th>\n",
       "      <td>249</td>\n",
       "      <td>학생249</td>\n",
       "      <td>6.27</td>\n",
       "    </tr>\n",
       "    <tr>\n",
       "      <th>306</th>\n",
       "      <td>307</td>\n",
       "      <td>학생307</td>\n",
       "      <td>5.70</td>\n",
       "    </tr>\n",
       "    <tr>\n",
       "      <th>379</th>\n",
       "      <td>380</td>\n",
       "      <td>학생380</td>\n",
       "      <td>5.10</td>\n",
       "    </tr>\n",
       "    <tr>\n",
       "      <th>384</th>\n",
       "      <td>385</td>\n",
       "      <td>학생385</td>\n",
       "      <td>5.02</td>\n",
       "    </tr>\n",
       "    <tr>\n",
       "      <th>402</th>\n",
       "      <td>403</td>\n",
       "      <td>학생403</td>\n",
       "      <td>5.14</td>\n",
       "    </tr>\n",
       "    <tr>\n",
       "      <th>439</th>\n",
       "      <td>440</td>\n",
       "      <td>학생440</td>\n",
       "      <td>6.19</td>\n",
       "    </tr>\n",
       "    <tr>\n",
       "      <th>547</th>\n",
       "      <td>548</td>\n",
       "      <td>학생548</td>\n",
       "      <td>5.62</td>\n",
       "    </tr>\n",
       "    <tr>\n",
       "      <th>559</th>\n",
       "      <td>560</td>\n",
       "      <td>학생560</td>\n",
       "      <td>5.35</td>\n",
       "    </tr>\n",
       "    <tr>\n",
       "      <th>568</th>\n",
       "      <td>569</td>\n",
       "      <td>학생569</td>\n",
       "      <td>5.45</td>\n",
       "    </tr>\n",
       "    <tr>\n",
       "      <th>616</th>\n",
       "      <td>617</td>\n",
       "      <td>학생617</td>\n",
       "      <td>5.14</td>\n",
       "    </tr>\n",
       "    <tr>\n",
       "      <th>704</th>\n",
       "      <td>705</td>\n",
       "      <td>학생705</td>\n",
       "      <td>4.52</td>\n",
       "    </tr>\n",
       "    <tr>\n",
       "      <th>732</th>\n",
       "      <td>733</td>\n",
       "      <td>학생733</td>\n",
       "      <td>6.21</td>\n",
       "    </tr>\n",
       "    <tr>\n",
       "      <th>771</th>\n",
       "      <td>772</td>\n",
       "      <td>학생772</td>\n",
       "      <td>5.77</td>\n",
       "    </tr>\n",
       "    <tr>\n",
       "      <th>830</th>\n",
       "      <td>831</td>\n",
       "      <td>학생831</td>\n",
       "      <td>5.90</td>\n",
       "    </tr>\n",
       "    <tr>\n",
       "      <th>862</th>\n",
       "      <td>863</td>\n",
       "      <td>학생863</td>\n",
       "      <td>5.10</td>\n",
       "    </tr>\n",
       "    <tr>\n",
       "      <th>899</th>\n",
       "      <td>900</td>\n",
       "      <td>학생900</td>\n",
       "      <td>5.64</td>\n",
       "    </tr>\n",
       "    <tr>\n",
       "      <th>906</th>\n",
       "      <td>907</td>\n",
       "      <td>학생907</td>\n",
       "      <td>6.07</td>\n",
       "    </tr>\n",
       "    <tr>\n",
       "      <th>913</th>\n",
       "      <td>914</td>\n",
       "      <td>학생914</td>\n",
       "      <td>6.12</td>\n",
       "    </tr>\n",
       "    <tr>\n",
       "      <th>962</th>\n",
       "      <td>963</td>\n",
       "      <td>학생963</td>\n",
       "      <td>5.29</td>\n",
       "    </tr>\n",
       "    <tr>\n",
       "      <th>982</th>\n",
       "      <td>983</td>\n",
       "      <td>학생983</td>\n",
       "      <td>5.40</td>\n",
       "    </tr>\n",
       "  </tbody>\n",
       "</table>\n",
       "</div>"
      ],
      "text/plain": [
       "      ID   Name  grade\n",
       "9     10   학생10   4.68\n",
       "69    70   학생70   5.42\n",
       "132  133  학생133   4.64\n",
       "183  184  학생184   5.58\n",
       "248  249  학생249   6.27\n",
       "306  307  학생307   5.70\n",
       "379  380  학생380   5.10\n",
       "384  385  학생385   5.02\n",
       "402  403  학생403   5.14\n",
       "439  440  학생440   6.19\n",
       "547  548  학생548   5.62\n",
       "559  560  학생560   5.35\n",
       "568  569  학생569   5.45\n",
       "616  617  학생617   5.14\n",
       "704  705  학생705   4.52\n",
       "732  733  학생733   6.21\n",
       "771  772  학생772   5.77\n",
       "830  831  학생831   5.90\n",
       "862  863  학생863   5.10\n",
       "899  900  학생900   5.64\n",
       "906  907  학생907   6.07\n",
       "913  914  학생914   6.12\n",
       "962  963  학생963   5.29\n",
       "982  983  학생983   5.40"
      ]
     },
     "execution_count": 74,
     "metadata": {},
     "output_type": "execute_result"
    }
   ],
   "source": [
    "df.loc[df['grade']>4.5,:]"
   ]
  }
 ],
 "metadata": {
  "kernelspec": {
   "display_name": "base",
   "language": "python",
   "name": "python3"
  },
  "language_info": {
   "codemirror_mode": {
    "name": "ipython",
    "version": 3
   },
   "file_extension": ".py",
   "mimetype": "text/x-python",
   "name": "python",
   "nbconvert_exporter": "python",
   "pygments_lexer": "ipython3",
   "version": "3.12.4"
  }
 },
 "nbformat": 4,
 "nbformat_minor": 2
}
