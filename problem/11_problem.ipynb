{
 "cells": [
  {
   "cell_type": "markdown",
   "metadata": {},
   "source": [
    "## [실습]\n",
    "\n",
    "<aside>\n",
    "💡 문제를 읽고 해당 문제를 해결하기 위한 코드를 작성하세요.\n",
    "\n",
    "</aside>\n",
    "\n",
    "### (1) 데이터 불러오고 저장하기\n",
    "\n",
    "[titanic.csv](https://prod-files-secure.s3.us-west-2.amazonaws.com/f2678325-6f7b-4a25-b188-86c42030d6d5/ca4938ca-19f2-4d57-9d62-bec7883ef54c/titanic.csv)\n",
    "\n",
    "1. 위 데이터 파일을 다운로드 받습니다.\n",
    "2. 파일을 불러와서 데이터프레임을 생성하세요.\n",
    "3. 해당 데이터프레임을 `json` 파일로 저장하세요."
   ]
  },
  {
   "cell_type": "code",
   "execution_count": 1,
   "metadata": {},
   "outputs": [
    {
     "name": "stdout",
     "output_type": "stream",
     "text": [
      "     survived  pclass     sex   age  sibsp  parch     fare embarked   class  \\\n",
      "0           0       3    male  22.0      1      0   7.2500        S   Third   \n",
      "1           1       1  female  38.0      1      0  71.2833        C   First   \n",
      "2           1       3  female  26.0      0      0   7.9250        S   Third   \n",
      "3           1       1  female  35.0      1      0  53.1000        S   First   \n",
      "4           0       3    male  35.0      0      0   8.0500        S   Third   \n",
      "..        ...     ...     ...   ...    ...    ...      ...      ...     ...   \n",
      "886         0       2    male  27.0      0      0  13.0000        S  Second   \n",
      "887         1       1  female  19.0      0      0  30.0000        S   First   \n",
      "888         0       3  female   NaN      1      2  23.4500        S   Third   \n",
      "889         1       1    male  26.0      0      0  30.0000        C   First   \n",
      "890         0       3    male  32.0      0      0   7.7500        Q   Third   \n",
      "\n",
      "       who  adult_male deck  embark_town alive  alone  \n",
      "0      man        True  NaN  Southampton    no  False  \n",
      "1    woman       False    C    Cherbourg   yes  False  \n",
      "2    woman       False  NaN  Southampton   yes   True  \n",
      "3    woman       False    C  Southampton   yes  False  \n",
      "4      man        True  NaN  Southampton    no   True  \n",
      "..     ...         ...  ...          ...   ...    ...  \n",
      "886    man        True  NaN  Southampton    no   True  \n",
      "887  woman       False    B  Southampton   yes   True  \n",
      "888  woman       False  NaN  Southampton    no  False  \n",
      "889    man        True    C    Cherbourg   yes   True  \n",
      "890    man        True  NaN   Queenstown    no   True  \n",
      "\n",
      "[891 rows x 15 columns]\n"
     ]
    }
   ],
   "source": [
    "import pandas as pd\n",
    "df = pd.read_csv(\"./data/titanic.csv\")\n",
    "print(df)\n",
    "\n"
   ]
  },
  {
   "cell_type": "markdown",
   "metadata": {},
   "source": [
    "### (2) 네이버 상품 정보 불러와서 저장하기\n",
    "\n",
    "1. 네이버 상품 정보 데이터 `json` 파일을 불러와서 데이터프레임을 생성하세요.\n",
    "2. 해당 데이터프레임을 `csv` 파일로 저장하세요."
   ]
  },
  {
   "cell_type": "code",
   "execution_count": 2,
   "metadata": {},
   "outputs": [
    {
     "name": "stdout",
     "output_type": "stream",
     "text": [
      "                                            상품명          가격  \\\n",
      "0                      지클릭커 오피스프로 저소음 슬림 무선 키보드   최저18,900원   \n",
      "1          지클릭커 레트로 SPK 100 저소음 무선 블루투스 기계식 키보드   최저59,500원   \n",
      "2    지클릭커 오피스프로 WK30 움직이는 마카롱 슬림 라이트 저소음 무선 키보드   최저17,800원   \n",
      "3            COX CK420 교체축 레인보우 LED 게이밍 기계식 키보드   최저34,900원   \n",
      "4                        QSENN SEM-DT35 NEW USB   최저14,900원   \n",
      "..                                          ...         ...   \n",
      "152                    앱코 KN01 텐키리스 PBT 무접점 키보드  최저102,000원   \n",
      "153              레드빈 더베러 텐키리스 저소음 무선 기계식 키보드 A1   최저79,000원   \n",
      "154                                 한성컴퓨터 BK330   최저24,900원   \n",
      "155           COX 엔데버 오리지널 레트로 PBT 무접점 텐키리스 키보드  최저133,000원   \n",
      "156            앱코 K660M TKL 텐키리스 PBT 체리 기계식 키보드   최저62,000원   \n",
      "\n",
      "                                              상품 정보 주소            무선  \n",
      "0    https://cr.shopping.naver.com/adcr.nhn?x=8iz9T...     연결방식 : 무선  \n",
      "1    https://cr.shopping.naver.com/adcr.nhn?x=P0R%2...  연결방식 : 유무선겸용  \n",
      "2    https://cr.shopping.naver.com/adcr.nhn?x=LNg%2...     연결방식 : 무선  \n",
      "3    https://cr.shopping.naver.com/adcr.nhn?x=cEcIH...     연결방식 : 유선  \n",
      "4    https://cr.shopping.naver.com/adcr.nhn?x=TwKTL...     연결방식 : 유선  \n",
      "..                                                 ...           ...  \n",
      "152  https://cr.shopping.naver.com/adcr.nhn?x=UYgsH...     연결방식 : 유선  \n",
      "153  https://cr.shopping.naver.com/adcr.nhn?x=a2YTl...  연결방식 : 유무선겸용  \n",
      "154  https://cr.shopping.naver.com/adcr.nhn?x=jhyz0...     연결방식 : 무선  \n",
      "155  https://cr.shopping.naver.com/adcr.nhn?x=OLHQu...     연결방식 : 유선  \n",
      "156  https://cr.shopping.naver.com/adcr.nhn?x=ykgQA...     연결방식 : 유선  \n",
      "\n",
      "[157 rows x 4 columns]\n"
     ]
    }
   ],
   "source": [
    "df2 = pd.read_json(\"./data/Keyboard_info.json\")\n",
    "print(df2)"
   ]
  }
 ],
 "metadata": {
  "kernelspec": {
   "display_name": "base",
   "language": "python",
   "name": "python3"
  },
  "language_info": {
   "codemirror_mode": {
    "name": "ipython",
    "version": 3
   },
   "file_extension": ".py",
   "mimetype": "text/x-python",
   "name": "python",
   "nbconvert_exporter": "python",
   "pygments_lexer": "ipython3",
   "version": "3.12.4"
  }
 },
 "nbformat": 4,
 "nbformat_minor": 2
}
