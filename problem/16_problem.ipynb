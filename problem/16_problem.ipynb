{
 "cells": [
  {
   "cell_type": "code",
   "execution_count": 24,
   "metadata": {},
   "outputs": [],
   "source": [
    "import pandas as pd\n",
    "import numpy as np\n",
    "\n",
    "# 랜덤 모듈 사용을 위한 시드 설정\n",
    "np.random.seed(0)\n",
    "\n",
    "# 학생 수와 데이터 수 설정\n",
    "num_students = 1000\n",
    "\n",
    "# 데이터프레임 생성\n",
    "df = pd.DataFrame(\n",
    "    {\n",
    "        \"학생ID\": np.arange(1, num_students + 1),\n",
    "        \"이름\": [f\"학생{i}\" for i in range(1, num_students + 1)],\n",
    "        \"나이\": np.random.randint(20, 30, size=num_students),\n",
    "        \"전공\": np.random.choice(\n",
    "            [\"컴퓨터공학\", \"물리학\", \"전자공학\", \"수학\", \"화학\", \"생물학\"],\n",
    "            size=num_students,\n",
    "        ),\n",
    "        \"학년\": np.random.randint(1, 5, size=num_students),\n",
    "        \"학점\": np.round(np.random.uniform(1.0, 4.5, size=num_students), 2),\n",
    "    }\n",
    ")\n",
    "# 결측치 10% 생성\n",
    "num_na_count = int(num_students * 0.1)\n",
    "\n",
    "na_inde_age = np.random.choice(df.index, num_na_count, replace=False)\n",
    "df.loc[na_inde_age, \"나이\"] = np.nan\n",
    "\n",
    "na_inde_major = np.random.choice(df.index, num_na_count, replace=False)\n",
    "df.loc[na_inde_major, \"전공\"] = np.nan\n",
    "\n",
    "na_inde_grade = np.random.choice(df.index, num_na_count, replace=False)\n",
    "df.loc[na_inde_grade, \"학년\"] = np.nan\n",
    "\n",
    "na_inde_gpa = np.random.choice(df.index, num_na_count, replace=False)\n",
    "df.loc[na_inde_gpa, \"학점\"] = np.nan"
   ]
  },
  {
   "cell_type": "markdown",
   "metadata": {},
   "source": [
    "### (2) 결측치 처리\n",
    "\n",
    "1. 각 열의 결측치 수를 출력하세요.\n",
    "    \n",
    "    ```bash\n",
    "    학생ID      0\n",
    "    이름        0\n",
    "    나이      100\n",
    "    전공      100\n",
    "    학년      100\n",
    "    학점      100\n",
    "    dtype: int64\n",
    "    ```\n",
    "    \n",
    "2. 결측치가 있는 행을 삭제하고, 변수 `df_cleaned_row` 에 저장하고 데이터프레임의 구조를 출력하세요.\n",
    "    \n",
    "    ```bash\n",
    "    (664, 6)\n",
    "    ```\n",
    "    \n",
    "3. `나이` 열의 결측치를 평균값으로 대체하세요.\n",
    "4. `전공` 열의 결측치를 최빈값으로 대체하세요.\n",
    "5. `학년` 열의 결측치를 1로 대체하세요.\n",
    "6. `학점` 열의 결측치를 중앙값으로 대체하세요.\n",
    "7. 각 열의 결측치 수를 출력하세요.\n",
    "    \n",
    "    ```bash\n",
    "    학생ID    0\n",
    "    이름      0\n",
    "    나이      0\n",
    "    전공      0\n",
    "    학년      0\n",
    "    학점      0\n",
    "    dtype: int64\n",
    "    ```"
   ]
  },
  {
   "cell_type": "code",
   "execution_count": 3,
   "metadata": {},
   "outputs": [
    {
     "data": {
      "text/plain": [
       "학생ID      0\n",
       "이름        0\n",
       "나이      100\n",
       "전공      100\n",
       "학년      100\n",
       "학점      100\n",
       "dtype: int64"
      ]
     },
     "execution_count": 3,
     "metadata": {},
     "output_type": "execute_result"
    }
   ],
   "source": [
    "df.isnull().sum()"
   ]
  },
  {
   "cell_type": "code",
   "execution_count": 6,
   "metadata": {},
   "outputs": [
    {
     "data": {
      "text/plain": [
       "(664, 6)"
      ]
     },
     "execution_count": 6,
     "metadata": {},
     "output_type": "execute_result"
    }
   ],
   "source": [
    "df_cleaned_row = df.dropna(axis=\"index\")\n",
    "df_cleaned_row.shape"
   ]
  },
  {
   "cell_type": "code",
   "execution_count": 26,
   "metadata": {},
   "outputs": [
    {
     "name": "stderr",
     "output_type": "stream",
     "text": [
      "C:\\Users\\user\\AppData\\Local\\Temp\\ipykernel_14616\\2001976914.py:1: FutureWarning: A value is trying to be set on a copy of a DataFrame or Series through chained assignment using an inplace method.\n",
      "The behavior will change in pandas 3.0. This inplace method will never work because the intermediate object on which we are setting values always behaves as a copy.\n",
      "\n",
      "For example, when doing 'df[col].method(value, inplace=True)', try using 'df.method({col: value}, inplace=True)' or df[col] = df[col].method(value) instead, to perform the operation inplace on the original object.\n",
      "\n",
      "\n",
      "  df['나이'].fillna(df['나이'].mean(),inplace=True)\n"
     ]
    }
   ],
   "source": [
    "df[\"나이\"].fillna(df[\"나이\"].mean(), inplace=True)"
   ]
  },
  {
   "cell_type": "code",
   "execution_count": 32,
   "metadata": {},
   "outputs": [
    {
     "data": {
      "text/plain": [
       "0        물리학\n",
       "1      컴퓨터공학\n",
       "2        물리학\n",
       "3       전자공학\n",
       "4      컴퓨터공학\n",
       "       ...  \n",
       "995      생물학\n",
       "996      NaN\n",
       "997      물리학\n",
       "998      물리학\n",
       "999      생물학\n",
       "Name: 전공, Length: 1000, dtype: object"
      ]
     },
     "execution_count": 32,
     "metadata": {},
     "output_type": "execute_result"
    }
   ],
   "source": [
    "df[\"전공\"]"
   ]
  },
  {
   "cell_type": "code",
   "execution_count": 33,
   "metadata": {},
   "outputs": [],
   "source": [
    "df[\"전공\"].fillna(df[\"전공\"].mode()[0], inplace=True)"
   ]
  },
  {
   "cell_type": "code",
   "execution_count": 28,
   "metadata": {},
   "outputs": [
    {
     "name": "stderr",
     "output_type": "stream",
     "text": [
      "C:\\Users\\user\\AppData\\Local\\Temp\\ipykernel_14616\\2705491656.py:1: FutureWarning: A value is trying to be set on a copy of a DataFrame or Series through chained assignment using an inplace method.\n",
      "The behavior will change in pandas 3.0. This inplace method will never work because the intermediate object on which we are setting values always behaves as a copy.\n",
      "\n",
      "For example, when doing 'df[col].method(value, inplace=True)', try using 'df.method({col: value}, inplace=True)' or df[col] = df[col].method(value) instead, to perform the operation inplace on the original object.\n",
      "\n",
      "\n",
      "  df['학년'].fillna(1,inplace=True)\n"
     ]
    }
   ],
   "source": [
    "df[\"학년\"].fillna(1, inplace=True)"
   ]
  },
  {
   "cell_type": "code",
   "execution_count": 29,
   "metadata": {},
   "outputs": [
    {
     "name": "stderr",
     "output_type": "stream",
     "text": [
      "C:\\Users\\user\\AppData\\Local\\Temp\\ipykernel_14616\\591786406.py:1: FutureWarning: A value is trying to be set on a copy of a DataFrame or Series through chained assignment using an inplace method.\n",
      "The behavior will change in pandas 3.0. This inplace method will never work because the intermediate object on which we are setting values always behaves as a copy.\n",
      "\n",
      "For example, when doing 'df[col].method(value, inplace=True)', try using 'df.method({col: value}, inplace=True)' or df[col] = df[col].method(value) instead, to perform the operation inplace on the original object.\n",
      "\n",
      "\n",
      "  df['학점'].fillna(df['학점'].median(),inplace=True)\n"
     ]
    }
   ],
   "source": [
    "df[\"학점\"].fillna(df[\"학점\"].median(), inplace=True)"
   ]
  },
  {
   "cell_type": "code",
   "execution_count": 35,
   "metadata": {},
   "outputs": [
    {
     "data": {
      "text/plain": [
       "학생ID    0\n",
       "이름      0\n",
       "나이      0\n",
       "전공      0\n",
       "학년      0\n",
       "학점      0\n",
       "dtype: int64"
      ]
     },
     "execution_count": 35,
     "metadata": {},
     "output_type": "execute_result"
    }
   ],
   "source": [
    "df.isnull().sum()"
   ]
  }
 ],
 "metadata": {
  "kernelspec": {
   "display_name": "base",
   "language": "python",
   "name": "python3"
  },
  "language_info": {
   "codemirror_mode": {
    "name": "ipython",
    "version": 3
   },
   "file_extension": ".py",
   "mimetype": "text/x-python",
   "name": "python",
   "nbconvert_exporter": "python",
   "pygments_lexer": "ipython3",
   "version": "3.12.4"
  }
 },
 "nbformat": 4,
 "nbformat_minor": 2
}
