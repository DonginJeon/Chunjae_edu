{
 "cells": [
  {
   "cell_type": "markdown",
   "metadata": {},
   "source": [
    "1. 두 변수의 합\n",
    "    - 베이스 코드에서 두 매개변수의 합을 반환(return)하는 함수 코드를 완성하세요.\n",
    "    - 베이스 코드\n",
    "    \n",
    "    ```python\n",
    "    def add_numbers(x, y):\n",
    "        pass\n",
    "        # pass 아래로 코드를 작성해서 함수를 완성하세요.\n",
    "    \n",
    "    print(add_numbers(3, 5))\n",
    "    ```\n",
    "    \n",
    "    - 예시\n",
    "    \n",
    "    ```python\n",
    "    8\n",
    "    ```"
   ]
  },
  {
   "cell_type": "code",
   "execution_count": null,
   "metadata": {},
   "outputs": [],
   "source": [
    "def add_numbers(x, y):\n",
    "    return x + y\n",
    "\n",
    "\n",
    "print(add_numbers(3, 5))"
   ]
  },
  {
   "cell_type": "markdown",
   "metadata": {},
   "source": [
    "2. 절대값\n",
    "    - 베이스 코드에서 매개변수의 절대값을 반환(return)하는 함수 코드를 완성하세요.\n",
    "    - 단, 내장 함수는 사용하지마세요.\n",
    "    - 베이스 코드\n",
    "    \n",
    "    ```python\n",
    "    def abs_number(x):\n",
    "        pass\n",
    "        # pass 아래로 코드를 작성해서 함수를 완성하세요.\n",
    "    \n",
    "    print(abs_number(-3))\n",
    "    ```\n",
    "    \n",
    "    - 출력\n",
    "    \n",
    "    ```python\n",
    "    3\n",
    "    ```"
   ]
  },
  {
   "cell_type": "code",
   "execution_count": 2,
   "metadata": {},
   "outputs": [
    {
     "name": "stdout",
     "output_type": "stream",
     "text": [
      "3\n",
      "4\n"
     ]
    }
   ],
   "source": [
    "def abs_number(x):\n",
    "    if x < 0:\n",
    "\n",
    "\n",
    "        return x * (-1)\n",
    "    else:\n",
    "        return x\n",
    "\n",
    "\n",
    "\n",
    "print(abs_number(-3))\n",
    "\n",
    "print(abs_number(4))"
   ]
  },
  {
   "cell_type": "markdown",
   "metadata": {},
   "source": [
    "3. 리스트의 길이\n",
    "    - 베이스 코드에서 리스트 매개변수의 길이(원소의 개수)를 반환하는 함수 코드를 완성하세요.\n",
    "    - 단, 내장 함수는 사용하지마세요.\n",
    "    - 베이스 코드\n",
    "    \n",
    "    ```python\n",
    "    def len_list(numbers):\n",
    "        pass\n",
    "        # pass 아래로 코드를 작성해서 함수를 완성하세요.\n",
    "    \n",
    "    print(len_list([0, 1, 2, 3, 4]))\n",
    "    ```\n",
    "    \n",
    "    - 출력\n",
    "    \n",
    "    ```python\n",
    "    5\n",
    "    ```"
   ]
  },
  {
   "cell_type": "code",
   "execution_count": null,
   "metadata": {},
   "outputs": [],
   "source": [
    "def len_list(numbers):\n",
    "    count = 0\n",
    "    for i in numbers:\n",
    "        count += 1\n",
    "    return count\n",
    "\n",
    "\n",
    "print(len_list([0, 1, 2, 3, 4]))"
   ]
  },
  {
   "cell_type": "markdown",
   "metadata": {},
   "source": [
    "4. 리스트의 원소 총합\n",
    "    - 베이스 코드에서 리스트 원소들의 합을 반환하는 함수 코드를 완성하세요.\n",
    "    - 단, 내장 함수는 사용하지마세요.\n",
    "    - 베이스 코드\n",
    "    \n",
    "    ```python\n",
    "    def sum_list(numbers):\n",
    "        pass\n",
    "        # pass 아래로 코드를 작성해서 함수를 완성하세요.\n",
    "    \n",
    "    print(sum_list([0, 1, 2, 3, 4]))\n",
    "    ```\n",
    "    \n",
    "    - 출력\n",
    "    \n",
    "    ```python\n",
    "    10\n",
    "    ```"
   ]
  },
  {
   "cell_type": "code",
   "execution_count": null,
   "metadata": {},
   "outputs": [],
   "source": [
    "def sum_list(numbers):\n",
    "    a = 0\n",
    "    for i in numbers:\n",
    "        a += i\n",
    "    return a\n",
    "\n",
    "\n",
    "print(sum_list([0, 1, 2, 3, 4]))"
   ]
  },
  {
   "cell_type": "markdown",
   "metadata": {},
   "source": [
    "5. 리스트의 원소 평균 값\n",
    "    - 베이스 코드에서 리스트 원소들의 평균 값을 반환하는 함수 코드를 완성하세요.\n",
    "    - 단, 내장 함수는 사용하지마세요.\n",
    "    - 베이스 코드\n",
    "    \n",
    "    ```python\n",
    "    def avg_list(numbers):\n",
    "        pass\n",
    "        # pass 아래로 코드를 작성해서 함수를 완성하세요.\n",
    "    \n",
    "    print(avg_list([0, 1, 2, 3, 4]))\n",
    "    ```\n",
    "    \n",
    "    - 출력\n",
    "    \n",
    "    ```python\n",
    "    2.0\n",
    "    ```"
   ]
  },
  {
   "cell_type": "code",
   "execution_count": 32,
   "metadata": {},
   "outputs": [
    {
     "name": "stdout",
     "output_type": "stream",
     "text": [
      "2.0\n"
     ]
    }
   ],
   "source": [
    "def avg_list(numbers):\n",
    "    a = 0\n",
    "    count = 0\n",
    "    for i in numbers:\n",
    "        a += i\n",
    "        count += 1\n",
    "    return a / count\n",
    "\n",
    "\n",
    "print(avg_list([0, 1, 2, 3, 4]))"
   ]
  },
  {
   "cell_type": "markdown",
   "metadata": {},
   "source": [
    "6. 절대 값 크기 비교\n",
    "    - 베이스 코드에서 절대값이 더 큰 값을 출력하는 함수 코드를 완성하세요.\n",
    "    - 단, 내장 함수는 사용하지 마세요.\n",
    "    - 베이스 코드\n",
    "    \n",
    "    ```python\n",
    "    def max_abs_value(x, y):\n",
    "        pass\n",
    "        # pass 아래로 코드를 작성해서 함수를 완성하세요.\n",
    "    \n",
    "    max_abs_value(1, -1)\n",
    "    max_abs_value(2, 1)\n",
    "    max_abs_value(1, -2)\n",
    "    ```\n",
    "    \n",
    "    - 출력\n",
    "    \n",
    "    ```python\n",
    "    두 숫자의 크기는 같습니다.\n",
    "    2\n",
    "    -2\n",
    "    ```"
   ]
  },
  {
   "cell_type": "code",
   "execution_count": 17,
   "metadata": {},
   "outputs": [
    {
     "data": {
      "text/plain": [
       "-2"
      ]
     },
     "execution_count": 17,
     "metadata": {},
     "output_type": "execute_result"
    }
   ],
   "source": [
    "def max_abs_value(x, y):\n",
    "    x1=0\n",
    "    y1=0\n",
    "    if x < 0:\n",
    "        x1 = x * (-1)\n",
    "    else:\n",
    "        x1=x\n",
    "\n",
    "    if y < 0:\n",
    "        y1 = y * (-1)\n",
    "    else:\n",
    "        y1=y\n",
    "    \n",
    "    if x1 > y1:\n",
    "\n",
    "        return x\n",
    "\n",
    "    elif x1 < y1:\n",
    "  \n",
    "        return y\n",
    "\n",
    "    else:\n",
    "\n",
    "        return print(\"두 숫자의 크기는 같습니다.\")\n",
    "\n",
    "\n",
    "\n",
    "max_abs_value(-2, 1)"
   ]
  }
 ],
 "metadata": {
  "kernelspec": {
   "display_name": "base",
   "language": "python",
   "name": "python3"
  },
  "language_info": {
   "codemirror_mode": {
    "name": "ipython",
    "version": 3
   },
   "file_extension": ".py",
   "mimetype": "text/x-python",
   "name": "python",
   "nbconvert_exporter": "python",
   "pygments_lexer": "ipython3",
   "version": "3.12.4"
  }
 },
 "nbformat": 4,
 "nbformat_minor": 2
}
