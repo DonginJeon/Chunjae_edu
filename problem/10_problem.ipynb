{
 "cells": [
  {
   "cell_type": "markdown",
   "metadata": {},
   "source": [
    "## [실습]\n",
    "\n",
    "<aside>\n",
    "💡 문제를 읽고 해당 문제를 해결하기 위한 코드를 작성하세요.\n",
    "\n",
    "</aside>\n",
    "\n",
    "### (1) 데이터 프레임 생성\n",
    "\n",
    "1. 아래와 동일한 데이터를 저장한 데이터프레임을 만들고 출력하는 코드를 작성하세요.\n"
   ]
  },
  {
   "cell_type": "code",
   "execution_count": 2,
   "metadata": {},
   "outputs": [
    {
     "name": "stdout",
     "output_type": "stream",
     "text": [
      "    Name  Age  Salary\n",
      "0    Jay   28   50000\n",
      "1   Anna   34   62000\n",
      "2  Peter   29   58000\n",
      "3  Linda   32   75000\n"
     ]
    }
   ],
   "source": [
    "import pandas as pd\n",
    "\n",
    "row_data = [\n",
    "    [\"Jay\", 28, 50000],\n",
    "    [\"Anna\", 34, 62000],\n",
    "    [\"Peter\", 29, 58000],\n",
    "    [\"Linda\", 32, 75000],\n",
    "]\n",
    "\n",
    "col_list = [\"Name\", \"Age\", \"Salary\"]\n",
    "\n",
    "df = pd.DataFrame(row_data, columns=col_list)\n",
    "print(df)"
   ]
  },
  {
   "cell_type": "markdown",
   "metadata": {},
   "source": [
    "### (2) 네이버 상품 정보 데이터 프레임 생성\n",
    "\n",
    "1. 데이터가 저장된 json 파일을 읽어서 파이썬 객체로 변환하세요.\n",
    "2. 파이썬 객체를 활용하여 데이터프레임을 생성하세요."
   ]
  },
  {
   "cell_type": "code",
   "execution_count": 6,
   "metadata": {},
   "outputs": [
    {
     "name": "stdout",
     "output_type": "stream",
     "text": [
      "                                            상품명          가격  \\\n",
      "0                      지클릭커 오피스프로 저소음 슬림 무선 키보드   최저18,900원   \n",
      "1          지클릭커 레트로 SPK 100 저소음 무선 블루투스 기계식 키보드   최저59,500원   \n",
      "2    지클릭커 오피스프로 WK30 움직이는 마카롱 슬림 라이트 저소음 무선 키보드   최저17,800원   \n",
      "3            COX CK420 교체축 레인보우 LED 게이밍 기계식 키보드   최저34,900원   \n",
      "4                        QSENN SEM-DT35 NEW USB   최저14,900원   \n",
      "..                                          ...         ...   \n",
      "152                    앱코 KN01 텐키리스 PBT 무접점 키보드  최저102,000원   \n",
      "153              레드빈 더베러 텐키리스 저소음 무선 기계식 키보드 A1   최저79,000원   \n",
      "154                                 한성컴퓨터 BK330   최저24,900원   \n",
      "155           COX 엔데버 오리지널 레트로 PBT 무접점 텐키리스 키보드  최저133,000원   \n",
      "156            앱코 K660M TKL 텐키리스 PBT 체리 기계식 키보드   최저62,000원   \n",
      "\n",
      "                                              상품 정보 주소            무선  \n",
      "0    https://cr.shopping.naver.com/adcr.nhn?x=8iz9T...     연결방식 : 무선  \n",
      "1    https://cr.shopping.naver.com/adcr.nhn?x=P0R%2...  연결방식 : 유무선겸용  \n",
      "2    https://cr.shopping.naver.com/adcr.nhn?x=LNg%2...     연결방식 : 무선  \n",
      "3    https://cr.shopping.naver.com/adcr.nhn?x=cEcIH...     연결방식 : 유선  \n",
      "4    https://cr.shopping.naver.com/adcr.nhn?x=TwKTL...     연결방식 : 유선  \n",
      "..                                                 ...           ...  \n",
      "152  https://cr.shopping.naver.com/adcr.nhn?x=UYgsH...     연결방식 : 유선  \n",
      "153  https://cr.shopping.naver.com/adcr.nhn?x=a2YTl...  연결방식 : 유무선겸용  \n",
      "154  https://cr.shopping.naver.com/adcr.nhn?x=jhyz0...     연결방식 : 무선  \n",
      "155  https://cr.shopping.naver.com/adcr.nhn?x=OLHQu...     연결방식 : 유선  \n",
      "156  https://cr.shopping.naver.com/adcr.nhn?x=ykgQA...     연결방식 : 유선  \n",
      "\n",
      "[157 rows x 4 columns]\n"
     ]
    }
   ],
   "source": [
    "import json\n",
    "\n",
    "naver_d = []\n",
    "with open(\"Keyboard_info.json\", \"r\") as file:\n",
    "    naver_data = json.load(file)\n",
    "\n",
    "# print(naver_data)\n",
    "\n",
    "naver_df = pd.DataFrame(naver_data)\n",
    "print(naver_df)"
   ]
  }
 ],
 "metadata": {
  "kernelspec": {
   "display_name": "base",
   "language": "python",
   "name": "python3"
  },
  "language_info": {
   "codemirror_mode": {
    "name": "ipython",
    "version": 3
   },
   "file_extension": ".py",
   "mimetype": "text/x-python",
   "name": "python",
   "nbconvert_exporter": "python",
   "pygments_lexer": "ipython3",
   "version": "3.12.4"
  }
 },
 "nbformat": 4,
 "nbformat_minor": 2
}
