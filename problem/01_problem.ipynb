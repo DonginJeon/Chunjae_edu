{
 "cells": [
  {
   "cell_type": "code",
   "execution_count": 1,
   "metadata": {},
   "outputs": [
    {
     "name": "stdout",
     "output_type": "stream",
     "text": [
      "안녕하세요 전동인 당신의 나이는 26\n"
     ]
    }
   ],
   "source": [
    "# 1\n",
    "name = input(\"이름을 입력하세요 : \")\n",
    "age = input(\"나이을 입력하세요 : \")\n",
    "print(\"안녕하세요\",name,\"당신의 나이는\", age)"
   ]
  },
  {
   "cell_type": "code",
   "execution_count": 43,
   "metadata": {},
   "outputs": [
    {
     "name": "stdout",
     "output_type": "stream",
     "text": [
      "두 숫자의 합은 7 입니다\n"
     ]
    }
   ],
   "source": [
    "# 2\n",
    "num1 = int(input(\"첫 번째 숫자를 입력하세요 : \"))\n",
    "num2 = int(input(\"두 번째 숫자를 입력하세요 : \"))\n",
    "num3 = num1 + num2\n",
    "print(\"두 숫자의 합은 \", end=\"\")\n",
    "print(num3, end=\" \")\n",
    "\n",
    "print(\"입니다\")"
   ]
  },
  {
   "cell_type": "code",
   "execution_count": 44,
   "metadata": {},
   "outputs": [
    {
     "name": "stdout",
     "output_type": "stream",
     "text": [
      "덧셈 : 7\n",
      "빼기 : -1\n",
      "나누기 : 0.75\n",
      "곱하기 : 12\n"
     ]
    }
   ],
   "source": [
    "# 3\n",
    "num1 = int(input(\"첫 번째 숫자를 입력하세요 : \"))\n",
    "num2 = int(input(\"두 번째 숫자를 입력하세요 : \"))\n",
    "print(\"덧셈 :\", end=\" \")\n",
    "print(num1 + num2)\n",
    "print(\"빼기 :\", end=\" \")\n",
    "print(num1 - num2)\n",
    "print(\"나누기 :\", end=\" \")\n",
    "print(num1 / num2)\n",
    "print(\"곱하기 :\", end=\" \")\n",
    "print(num1 * num2)"
   ]
  },
  {
   "cell_type": "code",
   "execution_count": 45,
   "metadata": {},
   "outputs": [
    {
     "name": "stdout",
     "output_type": "stream",
     "text": [
      "몫 : 1\n",
      "나머지 : 1\n"
     ]
    }
   ],
   "source": [
    "# 4\n",
    "num1 = int(input(\"첫 번째 숫자를 입력하세요 : \"))\n",
    "num2 = int(input(\"두 번째 숫자를 입력하세요 : \"))\n",
    "print(\"몫 :\", end=\" \")\n",
    "print(num1 // num2)\n",
    "print(\"나머지 :\", end=\" \")\n",
    "print(num1 % num2)"
   ]
  },
  {
   "cell_type": "code",
   "execution_count": 46,
   "metadata": {},
   "outputs": [
    {
     "name": "stdout",
     "output_type": "stream",
     "text": [
      "평균 : 6.0\n"
     ]
    }
   ],
   "source": [
    "# 5\n",
    "num1 = int(input(\"첫 번째 숫자를 입력하세요 : \"))\n",
    "num2 = int(input(\"두 번째 숫자를 입력하세요 : \"))\n",
    "num3 = int(input(\"세 번째 숫자를 입력하세요 : \"))\n",
    "print(\"평균 :\", end=\" \")\n",
    "print((num1 + num2 + num3) / 3)"
   ]
  },
  {
   "cell_type": "code",
   "execution_count": 47,
   "metadata": {},
   "outputs": [
    {
     "name": "stdout",
     "output_type": "stream",
     "text": [
      "연결한 문자열 : Hello/Python\n"
     ]
    }
   ],
   "source": [
    "# 6\n",
    "string1 = input(\"첫 번째 문자열을 입력하세요 : \")\n",
    "string2 = input(\"두 번째 문자열을 입력하세요 : \")\n",
    "print(\"연결한 문자열 :\", end=\" \")\n",
    "print(string1, end=\"/\")\n",
    "print(string2)"
   ]
  },
  {
   "cell_type": "code",
   "execution_count": 48,
   "metadata": {},
   "outputs": [
    {
     "name": "stdout",
     "output_type": "stream",
     "text": [
      "사각형의 둘레 : 18\n",
      "사각형의 넓이 : 20\n"
     ]
    }
   ],
   "source": [
    "# 7\n",
    "len1 = int(input(\"첫 번째 변의 길이를 입력하세요 :\"))\n",
    "len2 = int(input(\"두 번째 변의 길이를 입력하세요 :\"))\n",
    "print(\"사각형의 둘레 :\", end=\" \")\n",
    "print((len1 + len2) * 2)\n",
    "print(\"사각형의 넓이 :\", end=\" \")\n",
    "print(len1 * len2)"
   ]
  },
  {
   "cell_type": "code",
   "execution_count": 49,
   "metadata": {},
   "outputs": [
    {
     "name": "stdout",
     "output_type": "stream",
     "text": [
      "원의 둘레 : 25.12\n",
      "원의 넓이 : 50.24\n"
     ]
    }
   ],
   "source": [
    "# 8\n",
    "r1 = int(input(\"반지름을 입력하세요 :\"))\n",
    "pi = 3.14\n",
    "print(\"원의 둘레 :\", end=\" \")\n",
    "print(2 * r1 * pi)\n",
    "print(\"원의 넓이 :\", end=\" \")\n",
    "print(pi * (r1**2))"
   ]
  },
  {
   "cell_type": "code",
   "execution_count": 50,
   "metadata": {},
   "outputs": [
    {
     "name": "stdout",
     "output_type": "stream",
     "text": [
      "a^b : 16\n"
     ]
    }
   ],
   "source": [
    "# 9\n",
    "a = int(input(\"밑을 입력하세요 : \"))\n",
    "b = int(input(\"지수를 입력하세요 : \"))\n",
    "print(\"a^b :\", end=\" \")\n",
    "print(a**b)"
   ]
  }
 ],
 "metadata": {
  "kernelspec": {
   "display_name": "base",
   "language": "python",
   "name": "python3"
  },
  "language_info": {
   "codemirror_mode": {
    "name": "ipython",
    "version": 3
   },
   "file_extension": ".py",
   "mimetype": "text/x-python",
   "name": "python",
   "nbconvert_exporter": "python",
   "pygments_lexer": "ipython3",
   "version": "3.12.4"
  }
 },
 "nbformat": 4,
 "nbformat_minor": 2
}
