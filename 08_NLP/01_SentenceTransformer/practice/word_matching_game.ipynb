{
 "cells": [
  {
   "cell_type": "markdown",
   "metadata": {},
   "source": [
    "# 실습\n",
    "## 단어 맞추기 프로그램 만들기\n",
    "---\n",
    "- 밀크티 초등 쏙쏙 words의 fly-1번 단어장 데이터를 참조하여 단어 맞추기 프로그램을 만들어보자\n",
    "- 사용자 입력과 정답 사이의 코사인 유사도를 파악한 뒤 얼마나 비슷한지 리턴하도록 하자"
   ]
  },
  {
   "cell_type": "code",
   "execution_count": 1,
   "metadata": {},
   "outputs": [
    {
     "name": "stderr",
     "output_type": "stream",
     "text": [
      "c:\\Users\\user\\Desktop\\Chunjae_edu\\.conda\\lib\\site-packages\\sentence_transformers\\cross_encoder\\CrossEncoder.py:13: TqdmWarning: IProgress not found. Please update jupyter and ipywidgets. See https://ipywidgets.readthedocs.io/en/stable/user_install.html\n",
      "  from tqdm.autonotebook import tqdm, trange\n"
     ]
    }
   ],
   "source": [
    "from sentence_transformers import SentenceTransformer, util\n",
    "import spacy\n",
    "import random\n"
   ]
  },
  {
   "cell_type": "code",
   "execution_count": 7,
   "metadata": {},
   "outputs": [],
   "source": [
    "sample_text = \"A bird is in the tree\""
   ]
  },
  {
   "cell_type": "code",
   "execution_count": 8,
   "metadata": {},
   "outputs": [
    {
     "name": "stderr",
     "output_type": "stream",
     "text": [
      "c:\\Users\\user\\Desktop\\Chunjae_edu\\.conda\\lib\\site-packages\\spacy\\util.py:910: UserWarning: [W095] Model 'en_core_web_sm' (3.5.0) was trained with spaCy v3.5.0 and may not be 100% compatible with the current version (3.8.2). If you see errors or degraded performance, download a newer compatible model or retrain your custom model with the current spaCy version. For more details and available updates, run: python -m spacy validate\n",
      "  warnings.warn(warn_msg)\n"
     ]
    }
   ],
   "source": [
    "nlp = spacy.load(\"en_core_web_sm\")"
   ]
  },
  {
   "cell_type": "code",
   "execution_count": 9,
   "metadata": {},
   "outputs": [],
   "source": [
    "model = SentenceTransformer(\"jhgan/ko-sroberta-multitask\")"
   ]
  },
  {
   "cell_type": "code",
   "execution_count": 33,
   "metadata": {},
   "outputs": [
    {
     "name": "stdout",
     "output_type": "stream",
     "text": [
      "{'A': 'DET', 'bird': 'NOUN', 'is': 'AUX', 'in': 'ADP', 'the': 'DET', 'tree': 'NOUN'}\n"
     ]
    }
   ],
   "source": [
    "doc = nlp(sample_text)\n",
    "\n",
    "# 단어와 품사를 딕셔너리로 정리\n",
    "word_pos_dict = {token.text: token.pos_ for token in doc}\n",
    "\n",
    "# 결과 출력\n",
    "print(word_pos_dict)"
   ]
  },
  {
   "cell_type": "code",
   "execution_count": 36,
   "metadata": {},
   "outputs": [
    {
     "data": {
      "text/plain": [
       "{'A': 'DET',\n",
       " 'bird': 'NOUN',\n",
       " 'is': 'AUX',\n",
       " 'in': 'ADP',\n",
       " 'the': 'DET',\n",
       " 'tree': 'NOUN'}"
      ]
     },
     "execution_count": 36,
     "metadata": {},
     "output_type": "execute_result"
    }
   ],
   "source": [
    "word_pos_dict"
   ]
  },
  {
   "cell_type": "code",
   "execution_count": 12,
   "metadata": {},
   "outputs": [],
   "source": [
    "answer = 'bird'"
   ]
  },
  {
   "cell_type": "code",
   "execution_count": 13,
   "metadata": {},
   "outputs": [],
   "source": [
    "question_dict = word_pos_dict.pop(answer)"
   ]
  },
  {
   "cell_type": "code",
   "execution_count": 14,
   "metadata": {},
   "outputs": [
    {
     "data": {
      "text/plain": [
       "'NOUN'"
      ]
     },
     "execution_count": 14,
     "metadata": {},
     "output_type": "execute_result"
    }
   ],
   "source": [
    "question_dict"
   ]
  },
  {
   "cell_type": "code",
   "execution_count": 17,
   "metadata": {},
   "outputs": [],
   "source": [
    "x = \"bird\"\n",
    "y = input('답을 입력해주세요')"
   ]
  },
  {
   "cell_type": "code",
   "execution_count": 42,
   "metadata": {},
   "outputs": [],
   "source": [
    "quiz = {\n",
    "    \"bird\": \"A bird is in the tree.\",\n",
    "    \"idea\": \"Matt has a good idea.\",\n",
    "    \"wing\": \"Chickens have wings.\",\n",
    "    \"fly\": \"Spiderman can’t fly.\",\n",
    "    \"wind\": \"The wind was strong.\",\n",
    "    \"car\": \"Is this your car?\",\n",
    "    \"sky\": \"Look at the sky.\",\n",
    "    \"airplane\": \"The airplane is in the sky.\"\n",
    "}"
   ]
  },
  {
   "cell_type": "code",
   "execution_count": 4,
   "metadata": {},
   "outputs": [
    {
     "ename": "ValueError",
     "evalue": "numpy.dtype size changed, may indicate binary incompatibility. Expected 96 from C header, got 88 from PyObject",
     "output_type": "error",
     "traceback": [
      "\u001b[1;31m---------------------------------------------------------------------------\u001b[0m",
      "\u001b[1;31mValueError\u001b[0m                                Traceback (most recent call last)",
      "Cell \u001b[1;32mIn[4], line 3\u001b[0m\n\u001b[0;32m      1\u001b[0m \u001b[38;5;28;01mimport\u001b[39;00m \u001b[38;5;21;01mrandom\u001b[39;00m\n\u001b[0;32m      2\u001b[0m \u001b[38;5;28;01mfrom\u001b[39;00m \u001b[38;5;21;01msentence_transformers\u001b[39;00m \u001b[38;5;28;01mimport\u001b[39;00m SentenceTransformer, util\n\u001b[1;32m----> 3\u001b[0m \u001b[38;5;28;01mimport\u001b[39;00m \u001b[38;5;21;01mspacy\u001b[39;00m\n\u001b[0;32m      4\u001b[0m \u001b[38;5;28;01mimport\u001b[39;00m \u001b[38;5;21;01msys\u001b[39;00m\n\u001b[0;32m      6\u001b[0m \u001b[38;5;28;01mdef\u001b[39;00m \u001b[38;5;21mhangman_game\u001b[39m(word_dict):\n",
      "File \u001b[1;32mc:\\Users\\user\\Desktop\\Chunjae_edu\\.conda\\lib\\site-packages\\spacy\\__init__.py:6\u001b[0m\n\u001b[0;32m      3\u001b[0m \u001b[38;5;28;01mimport\u001b[39;00m \u001b[38;5;21;01msys\u001b[39;00m\n\u001b[0;32m      5\u001b[0m \u001b[38;5;66;03m# set library-specific custom warning handling before doing anything else\u001b[39;00m\n\u001b[1;32m----> 6\u001b[0m \u001b[38;5;28;01mfrom\u001b[39;00m \u001b[38;5;21;01m.\u001b[39;00m\u001b[38;5;21;01merrors\u001b[39;00m \u001b[38;5;28;01mimport\u001b[39;00m setup_default_warnings\n\u001b[0;32m      8\u001b[0m setup_default_warnings()  \u001b[38;5;66;03m# noqa: E402\u001b[39;00m\n\u001b[0;32m     10\u001b[0m \u001b[38;5;66;03m# These are imported as part of the API\u001b[39;00m\n",
      "File \u001b[1;32mc:\\Users\\user\\Desktop\\Chunjae_edu\\.conda\\lib\\site-packages\\spacy\\errors.py:2\u001b[0m\n\u001b[0;32m      1\u001b[0m \u001b[38;5;28;01mimport\u001b[39;00m \u001b[38;5;21;01mwarnings\u001b[39;00m\n\u001b[1;32m----> 2\u001b[0m \u001b[38;5;28;01mfrom\u001b[39;00m \u001b[38;5;21;01m.\u001b[39;00m\u001b[38;5;21;01mcompat\u001b[39;00m \u001b[38;5;28;01mimport\u001b[39;00m Literal\n\u001b[0;32m      5\u001b[0m \u001b[38;5;28;01mclass\u001b[39;00m \u001b[38;5;21;01mErrorsWithCodes\u001b[39;00m(\u001b[38;5;28mtype\u001b[39m):\n\u001b[0;32m      6\u001b[0m     \u001b[38;5;28;01mdef\u001b[39;00m \u001b[38;5;21m__getattribute__\u001b[39m(\u001b[38;5;28mself\u001b[39m, code):\n",
      "File \u001b[1;32mc:\\Users\\user\\Desktop\\Chunjae_edu\\.conda\\lib\\site-packages\\spacy\\compat.py:38\u001b[0m\n\u001b[0;32m     35\u001b[0m \u001b[38;5;28;01mexcept\u001b[39;00m \u001b[38;5;167;01mImportError\u001b[39;00m:\n\u001b[0;32m     36\u001b[0m     \u001b[38;5;28;01mfrom\u001b[39;00m \u001b[38;5;21;01mcatalogue\u001b[39;00m \u001b[38;5;28;01mimport\u001b[39;00m _importlib_metadata \u001b[38;5;28;01mas\u001b[39;00m importlib_metadata  \u001b[38;5;66;03m# type: ignore[no-redef]    # noqa: F401\u001b[39;00m\n\u001b[1;32m---> 38\u001b[0m \u001b[38;5;28;01mfrom\u001b[39;00m \u001b[38;5;21;01mthinc\u001b[39;00m\u001b[38;5;21;01m.\u001b[39;00m\u001b[38;5;21;01mapi\u001b[39;00m \u001b[38;5;28;01mimport\u001b[39;00m Optimizer  \u001b[38;5;66;03m# noqa: F401\u001b[39;00m\n\u001b[0;32m     40\u001b[0m pickle \u001b[38;5;241m=\u001b[39m pickle\n\u001b[0;32m     41\u001b[0m copy_reg \u001b[38;5;241m=\u001b[39m copy_reg\n",
      "File \u001b[1;32mc:\\Users\\user\\Desktop\\Chunjae_edu\\.conda\\lib\\site-packages\\thinc\\api.py:1\u001b[0m\n\u001b[1;32m----> 1\u001b[0m \u001b[38;5;28;01mfrom\u001b[39;00m \u001b[38;5;21;01m.\u001b[39;00m\u001b[38;5;21;01mbackends\u001b[39;00m \u001b[38;5;28;01mimport\u001b[39;00m (\n\u001b[0;32m      2\u001b[0m     CupyOps,\n\u001b[0;32m      3\u001b[0m     MPSOps,\n\u001b[0;32m      4\u001b[0m     NumpyOps,\n\u001b[0;32m      5\u001b[0m     Ops,\n\u001b[0;32m      6\u001b[0m     get_current_ops,\n\u001b[0;32m      7\u001b[0m     get_ops,\n\u001b[0;32m      8\u001b[0m     set_current_ops,\n\u001b[0;32m      9\u001b[0m     set_gpu_allocator,\n\u001b[0;32m     10\u001b[0m     use_ops,\n\u001b[0;32m     11\u001b[0m     use_pytorch_for_gpu_memory,\n\u001b[0;32m     12\u001b[0m     use_tensorflow_for_gpu_memory,\n\u001b[0;32m     13\u001b[0m )\n\u001b[0;32m     14\u001b[0m \u001b[38;5;28;01mfrom\u001b[39;00m \u001b[38;5;21;01m.\u001b[39;00m\u001b[38;5;21;01mcompat\u001b[39;00m \u001b[38;5;28;01mimport\u001b[39;00m has_cupy\n\u001b[0;32m     15\u001b[0m \u001b[38;5;28;01mfrom\u001b[39;00m \u001b[38;5;21;01m.\u001b[39;00m\u001b[38;5;21;01mconfig\u001b[39;00m \u001b[38;5;28;01mimport\u001b[39;00m Config, ConfigValidationError, registry\n",
      "File \u001b[1;32mc:\\Users\\user\\Desktop\\Chunjae_edu\\.conda\\lib\\site-packages\\thinc\\backends\\__init__.py:17\u001b[0m\n\u001b[0;32m     15\u001b[0m \u001b[38;5;28;01mfrom\u001b[39;00m \u001b[38;5;21;01m.\u001b[39;00m\u001b[38;5;21;01m_cupy_allocators\u001b[39;00m \u001b[38;5;28;01mimport\u001b[39;00m cupy_pytorch_allocator, cupy_tensorflow_allocator\n\u001b[0;32m     16\u001b[0m \u001b[38;5;28;01mfrom\u001b[39;00m \u001b[38;5;21;01m.\u001b[39;00m\u001b[38;5;21;01m_param_server\u001b[39;00m \u001b[38;5;28;01mimport\u001b[39;00m ParamServer\n\u001b[1;32m---> 17\u001b[0m \u001b[38;5;28;01mfrom\u001b[39;00m \u001b[38;5;21;01m.\u001b[39;00m\u001b[38;5;21;01mcupy_ops\u001b[39;00m \u001b[38;5;28;01mimport\u001b[39;00m CupyOps\n\u001b[0;32m     18\u001b[0m \u001b[38;5;28;01mfrom\u001b[39;00m \u001b[38;5;21;01m.\u001b[39;00m\u001b[38;5;21;01mmps_ops\u001b[39;00m \u001b[38;5;28;01mimport\u001b[39;00m MPSOps\n\u001b[0;32m     19\u001b[0m \u001b[38;5;28;01mfrom\u001b[39;00m \u001b[38;5;21;01m.\u001b[39;00m\u001b[38;5;21;01mnumpy_ops\u001b[39;00m \u001b[38;5;28;01mimport\u001b[39;00m NumpyOps\n",
      "File \u001b[1;32mc:\\Users\\user\\Desktop\\Chunjae_edu\\.conda\\lib\\site-packages\\thinc\\backends\\cupy_ops.py:16\u001b[0m\n\u001b[0;32m      6\u001b[0m \u001b[38;5;28;01mfrom\u001b[39;00m \u001b[38;5;21;01m.\u001b[39;00m\u001b[38;5;21;01m.\u001b[39;00m\u001b[38;5;21;01mutil\u001b[39;00m \u001b[38;5;28;01mimport\u001b[39;00m (\n\u001b[0;32m      7\u001b[0m     is_cupy_array,\n\u001b[0;32m      8\u001b[0m     is_mxnet_gpu_array,\n\u001b[1;32m   (...)\u001b[0m\n\u001b[0;32m     13\u001b[0m     torch2xp,\n\u001b[0;32m     14\u001b[0m )\n\u001b[0;32m     15\u001b[0m \u001b[38;5;28;01mfrom\u001b[39;00m \u001b[38;5;21;01m.\u001b[39;00m \u001b[38;5;28;01mimport\u001b[39;00m _custom_kernels\n\u001b[1;32m---> 16\u001b[0m \u001b[38;5;28;01mfrom\u001b[39;00m \u001b[38;5;21;01m.\u001b[39;00m\u001b[38;5;21;01mnumpy_ops\u001b[39;00m \u001b[38;5;28;01mimport\u001b[39;00m NumpyOps\n\u001b[0;32m     17\u001b[0m \u001b[38;5;28;01mfrom\u001b[39;00m \u001b[38;5;21;01m.\u001b[39;00m\u001b[38;5;21;01mops\u001b[39;00m \u001b[38;5;28;01mimport\u001b[39;00m Ops\n\u001b[0;32m     20\u001b[0m \u001b[38;5;129m@registry\u001b[39m\u001b[38;5;241m.\u001b[39mops(\u001b[38;5;124m\"\u001b[39m\u001b[38;5;124mCupyOps\u001b[39m\u001b[38;5;124m\"\u001b[39m)\n\u001b[0;32m     21\u001b[0m \u001b[38;5;28;01mclass\u001b[39;00m \u001b[38;5;21;01mCupyOps\u001b[39;00m(Ops):\n",
      "File \u001b[1;32mc:\\Users\\user\\Desktop\\Chunjae_edu\\.conda\\lib\\site-packages\\thinc\\backends\\numpy_ops.pyx:1\u001b[0m, in \u001b[0;36minit thinc.backends.numpy_ops\u001b[1;34m()\u001b[0m\n",
      "\u001b[1;31mValueError\u001b[0m: numpy.dtype size changed, may indicate binary incompatibility. Expected 96 from C header, got 88 from PyObject"
     ]
    }
   ],
   "source": [
    "import random\n",
    "from sentence_transformers import SentenceTransformer, util\n",
    "import spacy\n",
    "import sys\n",
    "\n",
    "def hangman_game(word_dict):\n",
    "    sentence = \"A bird is in the tree.\"  \n",
    "    correct_word = \"bird\"  \n",
    "    \n",
    "    model = SentenceTransformer('all-MiniLM-L6-v2')\n",
    "    words_in_sentence = sentence.split()\n",
    "\n",
    "\n",
    "    blank_sentence = ['[____]' if word.lower() == correct_word.lower() else '_' * len(word) for word in words_in_sentence]\n",
    "\n",
    "\n",
    "    hint_priority = {'AUX': 1, 'ADJ': 2, 'DET': 3, 'NOUN': 4, 'ADP': 5}\n",
    "    hints = sorted(\n",
    "        {word: pos for word, pos in word_dict.items() if word.lower() != correct_word.lower()}.items(),\n",
    "        key=lambda item: hint_priority.get(item[1], 6)\n",
    "    )\n",
    "\n",
    "    correct_embedding = model.encode([correct_word], convert_to_tensor=True)\n",
    "\n",
    "    hint_index = 0  \n",
    "    attempts = 6  \n",
    "\n",
    "    print(\"행맨 게임에 오신 것을 환영합니다!\")\n",
    "    print(\"문장:\", ' '.join(blank_sentence))\n",
    "    sys.stdout.flush()\n",
    "\n",
    "    while attempts > 0:\n",
    "        print(f\"\\n남은 시도 횟수: {attempts}\")\n",
    "        guess = input(\"정답을 추측해보세요: \").lower()\n",
    "\n",
    "        if not guess.isalpha():\n",
    "            print(\"단어를 입력하세요.\")\n",
    "            continue\n",
    "\n",
    "        guess_embedding = model.encode([guess], convert_to_tensor=True)\n",
    "        similarity = util.pytorch_cos_sim(guess_embedding, correct_embedding).item()\n",
    "\n",
    "        if guess == correct_word:\n",
    "            print(f\"축하합니다! 정답은 '{correct_word}'였습니다!\")\n",
    "            print(f\"유사도: {similarity:.2f}\")\n",
    "            break\n",
    "        else:\n",
    "            print(f\"아쉽습니다. '{guess}'는 정답이 아닙니다.\")\n",
    "            print(f\"유사도: {similarity:.2f}\")\n",
    "            attempts -= 1\n",
    "\n",
    "            # 틀릴 때마다 정답을 제외한 단어를 공개\n",
    "            if hint_index < len(hints):\n",
    "                word_hint, _ = hints[hint_index]\n",
    "                for i, word in enumerate(words_in_sentence):\n",
    "                    if word.lower() == word_hint.lower():\n",
    "                        blank_sentence[i] = word\n",
    "                print(\"문장:\", ' '.join(blank_sentence))\n",
    "                sys.stdout.flush()\n",
    "                hint_index += 1\n",
    "\n",
    "    if attempts == 0:\n",
    "        print(f\"실패했습니다. 정답은 '{correct_word}'였습니다.\")\n",
    "        print(f\"유사도: {similarity:.2f}\")\n",
    "\n",
    "\n",
    "nlp = spacy.load(\"en_core_web_sm\")\n",
    "sentence = \"A bird is in the tree.\"\n",
    "\n",
    "doc = nlp(sentence)\n",
    "word_pos_dict = {token.text: token.pos_ for token in doc}\n",
    "\n",
    "word_dict = word_pos_dict\n",
    "\n",
    "# 행맨 게임 실행\n",
    "hangman_game(word_dict)\n"
   ]
  },
  {
   "cell_type": "code",
   "execution_count": 5,
   "metadata": {},
   "outputs": [
    {
     "name": "stdout",
     "output_type": "stream",
     "text": [
      "Requirement already satisfied: numpy in c:\\users\\user\\desktop\\chunjae_edu\\.conda\\lib\\site-packages (2.0.2)\n"
     ]
    }
   ],
   "source": [
    "!pip install --upgrade numpy"
   ]
  },
  {
   "cell_type": "code",
   "execution_count": 6,
   "metadata": {},
   "outputs": [
    {
     "name": "stdout",
     "output_type": "stream",
     "text": [
      "Requirement already satisfied: scipy in c:\\users\\user\\desktop\\chunjae_edu\\.conda\\lib\\site-packages (1.13.1)\n",
      "Requirement already satisfied: sentence-transformers in c:\\users\\user\\desktop\\chunjae_edu\\.conda\\lib\\site-packages (3.2.0)\n",
      "Requirement already satisfied: spacy in c:\\users\\user\\desktop\\chunjae_edu\\.conda\\lib\\site-packages (3.5.4)\n",
      "Collecting spacy\n",
      "  Using cached spacy-3.8.2-cp39-cp39-win_amd64.whl.metadata (27 kB)\n",
      "Requirement already satisfied: numpy<2.3,>=1.22.4 in c:\\users\\user\\desktop\\chunjae_edu\\.conda\\lib\\site-packages (from scipy) (2.0.2)\n",
      "Requirement already satisfied: transformers<5.0.0,>=4.41.0 in c:\\users\\user\\desktop\\chunjae_edu\\.conda\\lib\\site-packages (from sentence-transformers) (4.45.2)\n",
      "Requirement already satisfied: tqdm in c:\\users\\user\\desktop\\chunjae_edu\\.conda\\lib\\site-packages (from sentence-transformers) (4.66.5)\n",
      "Requirement already satisfied: torch>=1.11.0 in c:\\users\\user\\desktop\\chunjae_edu\\.conda\\lib\\site-packages (from sentence-transformers) (2.4.1)\n",
      "Requirement already satisfied: scikit-learn in c:\\users\\user\\desktop\\chunjae_edu\\.conda\\lib\\site-packages (from sentence-transformers) (1.5.2)\n",
      "Requirement already satisfied: huggingface-hub>=0.20.0 in c:\\users\\user\\desktop\\chunjae_edu\\.conda\\lib\\site-packages (from sentence-transformers) (0.25.2)\n",
      "Requirement already satisfied: Pillow in c:\\users\\user\\desktop\\chunjae_edu\\.conda\\lib\\site-packages (from sentence-transformers) (10.4.0)\n",
      "Requirement already satisfied: spacy-legacy<3.1.0,>=3.0.11 in c:\\users\\user\\desktop\\chunjae_edu\\.conda\\lib\\site-packages (from spacy) (3.0.12)\n",
      "Requirement already satisfied: spacy-loggers<2.0.0,>=1.0.0 in c:\\users\\user\\desktop\\chunjae_edu\\.conda\\lib\\site-packages (from spacy) (1.0.5)\n",
      "Requirement already satisfied: murmurhash<1.1.0,>=0.28.0 in c:\\users\\user\\desktop\\chunjae_edu\\.conda\\lib\\site-packages (from spacy) (1.0.10)\n",
      "Requirement already satisfied: cymem<2.1.0,>=2.0.2 in c:\\users\\user\\desktop\\chunjae_edu\\.conda\\lib\\site-packages (from spacy) (2.0.8)\n",
      "Requirement already satisfied: preshed<3.1.0,>=3.0.2 in c:\\users\\user\\desktop\\chunjae_edu\\.conda\\lib\\site-packages (from spacy) (3.0.9)\n",
      "Collecting thinc<8.4.0,>=8.3.0 (from spacy)\n",
      "  Using cached thinc-8.3.2-cp39-cp39-win_amd64.whl.metadata (15 kB)\n",
      "Requirement already satisfied: wasabi<1.2.0,>=0.9.1 in c:\\users\\user\\desktop\\chunjae_edu\\.conda\\lib\\site-packages (from spacy) (1.1.3)\n",
      "Requirement already satisfied: srsly<3.0.0,>=2.4.3 in c:\\users\\user\\desktop\\chunjae_edu\\.conda\\lib\\site-packages (from spacy) (2.4.8)\n",
      "Requirement already satisfied: catalogue<2.1.0,>=2.0.6 in c:\\users\\user\\desktop\\chunjae_edu\\.conda\\lib\\site-packages (from spacy) (2.0.10)\n",
      "Requirement already satisfied: weasel<0.5.0,>=0.1.0 in c:\\users\\user\\desktop\\chunjae_edu\\.conda\\lib\\site-packages (from spacy) (0.4.1)\n",
      "Requirement already satisfied: typer<1.0.0,>=0.3.0 in c:\\users\\user\\desktop\\chunjae_edu\\.conda\\lib\\site-packages (from spacy) (0.9.4)\n",
      "Requirement already satisfied: requests<3.0.0,>=2.13.0 in c:\\users\\user\\desktop\\chunjae_edu\\.conda\\lib\\site-packages (from spacy) (2.32.3)\n",
      "Requirement already satisfied: pydantic!=1.8,!=1.8.1,<3.0.0,>=1.7.4 in c:\\users\\user\\desktop\\chunjae_edu\\.conda\\lib\\site-packages (from spacy) (1.10.18)\n",
      "Requirement already satisfied: jinja2 in c:\\users\\user\\desktop\\chunjae_edu\\.conda\\lib\\site-packages (from spacy) (3.1.4)\n",
      "Requirement already satisfied: setuptools in c:\\users\\user\\desktop\\chunjae_edu\\.conda\\lib\\site-packages (from spacy) (75.1.0)\n",
      "Requirement already satisfied: packaging>=20.0 in c:\\users\\user\\desktop\\chunjae_edu\\.conda\\lib\\site-packages (from spacy) (24.1)\n",
      "Requirement already satisfied: langcodes<4.0.0,>=3.2.0 in c:\\users\\user\\desktop\\chunjae_edu\\.conda\\lib\\site-packages (from spacy) (3.4.1)\n",
      "Requirement already satisfied: filelock in c:\\users\\user\\desktop\\chunjae_edu\\.conda\\lib\\site-packages (from huggingface-hub>=0.20.0->sentence-transformers) (3.16.1)\n",
      "Requirement already satisfied: fsspec>=2023.5.0 in c:\\users\\user\\desktop\\chunjae_edu\\.conda\\lib\\site-packages (from huggingface-hub>=0.20.0->sentence-transformers) (2024.9.0)\n",
      "Requirement already satisfied: pyyaml>=5.1 in c:\\users\\user\\desktop\\chunjae_edu\\.conda\\lib\\site-packages (from huggingface-hub>=0.20.0->sentence-transformers) (6.0.2)\n",
      "Requirement already satisfied: typing-extensions>=3.7.4.3 in c:\\users\\user\\desktop\\chunjae_edu\\.conda\\lib\\site-packages (from huggingface-hub>=0.20.0->sentence-transformers) (4.12.2)\n",
      "Requirement already satisfied: language-data>=1.2 in c:\\users\\user\\desktop\\chunjae_edu\\.conda\\lib\\site-packages (from langcodes<4.0.0,>=3.2.0->spacy) (1.2.0)\n",
      "Requirement already satisfied: charset-normalizer<4,>=2 in c:\\users\\user\\desktop\\chunjae_edu\\.conda\\lib\\site-packages (from requests<3.0.0,>=2.13.0->spacy) (3.4.0)\n",
      "Requirement already satisfied: idna<4,>=2.5 in c:\\users\\user\\desktop\\chunjae_edu\\.conda\\lib\\site-packages (from requests<3.0.0,>=2.13.0->spacy) (3.10)\n",
      "Requirement already satisfied: urllib3<3,>=1.21.1 in c:\\users\\user\\desktop\\chunjae_edu\\.conda\\lib\\site-packages (from requests<3.0.0,>=2.13.0->spacy) (2.2.3)\n",
      "Requirement already satisfied: certifi>=2017.4.17 in c:\\users\\user\\desktop\\chunjae_edu\\.conda\\lib\\site-packages (from requests<3.0.0,>=2.13.0->spacy) (2024.8.30)\n",
      "Collecting blis<1.1.0,>=1.0.0 (from thinc<8.4.0,>=8.3.0->spacy)\n",
      "  Using cached blis-1.0.1-cp39-cp39-win_amd64.whl.metadata (7.8 kB)\n",
      "Requirement already satisfied: confection<1.0.0,>=0.0.1 in c:\\users\\user\\desktop\\chunjae_edu\\.conda\\lib\\site-packages (from thinc<8.4.0,>=8.3.0->spacy) (0.1.5)\n",
      "Requirement already satisfied: sympy in c:\\users\\user\\desktop\\chunjae_edu\\.conda\\lib\\site-packages (from torch>=1.11.0->sentence-transformers) (1.13.3)\n",
      "Requirement already satisfied: networkx in c:\\users\\user\\desktop\\chunjae_edu\\.conda\\lib\\site-packages (from torch>=1.11.0->sentence-transformers) (3.2.1)\n",
      "Requirement already satisfied: colorama in c:\\users\\user\\desktop\\chunjae_edu\\.conda\\lib\\site-packages (from tqdm->sentence-transformers) (0.4.6)\n",
      "Requirement already satisfied: regex!=2019.12.17 in c:\\users\\user\\desktop\\chunjae_edu\\.conda\\lib\\site-packages (from transformers<5.0.0,>=4.41.0->sentence-transformers) (2024.9.11)\n",
      "Requirement already satisfied: safetensors>=0.4.1 in c:\\users\\user\\desktop\\chunjae_edu\\.conda\\lib\\site-packages (from transformers<5.0.0,>=4.41.0->sentence-transformers) (0.4.5)\n",
      "Requirement already satisfied: tokenizers<0.21,>=0.20 in c:\\users\\user\\desktop\\chunjae_edu\\.conda\\lib\\site-packages (from transformers<5.0.0,>=4.41.0->sentence-transformers) (0.20.1)\n",
      "Requirement already satisfied: click<9.0.0,>=7.1.1 in c:\\users\\user\\desktop\\chunjae_edu\\.conda\\lib\\site-packages (from typer<1.0.0,>=0.3.0->spacy) (8.1.7)\n",
      "Requirement already satisfied: cloudpathlib<1.0.0,>=0.7.0 in c:\\users\\user\\desktop\\chunjae_edu\\.conda\\lib\\site-packages (from weasel<0.5.0,>=0.1.0->spacy) (0.19.0)\n",
      "Requirement already satisfied: smart-open<8.0.0,>=5.2.1 in c:\\users\\user\\desktop\\chunjae_edu\\.conda\\lib\\site-packages (from weasel<0.5.0,>=0.1.0->spacy) (6.4.0)\n",
      "Requirement already satisfied: MarkupSafe>=2.0 in c:\\users\\user\\desktop\\chunjae_edu\\.conda\\lib\\site-packages (from jinja2->spacy) (3.0.1)\n",
      "Requirement already satisfied: joblib>=1.2.0 in c:\\users\\user\\desktop\\chunjae_edu\\.conda\\lib\\site-packages (from scikit-learn->sentence-transformers) (1.4.2)\n",
      "Requirement already satisfied: threadpoolctl>=3.1.0 in c:\\users\\user\\desktop\\chunjae_edu\\.conda\\lib\\site-packages (from scikit-learn->sentence-transformers) (3.5.0)\n",
      "Requirement already satisfied: marisa-trie>=0.7.7 in c:\\users\\user\\desktop\\chunjae_edu\\.conda\\lib\\site-packages (from language-data>=1.2->langcodes<4.0.0,>=3.2.0->spacy) (1.2.0)\n",
      "Requirement already satisfied: mpmath<1.4,>=1.1.0 in c:\\users\\user\\desktop\\chunjae_edu\\.conda\\lib\\site-packages (from sympy->torch>=1.11.0->sentence-transformers) (1.3.0)\n",
      "Using cached spacy-3.8.2-cp39-cp39-win_amd64.whl (12.3 MB)\n",
      "Using cached thinc-8.3.2-cp39-cp39-win_amd64.whl (1.5 MB)\n",
      "Using cached blis-1.0.1-cp39-cp39-win_amd64.whl (6.4 MB)\n",
      "Installing collected packages: blis, thinc, spacy\n",
      "  Attempting uninstall: blis\n",
      "    Found existing installation: blis 0.7.11\n",
      "    Uninstalling blis-0.7.11:\n",
      "      Successfully uninstalled blis-0.7.11\n",
      "  Attempting uninstall: thinc\n",
      "    Found existing installation: thinc 8.1.12\n",
      "    Uninstalling thinc-8.1.12:\n",
      "      Successfully uninstalled thinc-8.1.12\n",
      "  Attempting uninstall: spacy\n",
      "    Found existing installation: spacy 3.5.4\n",
      "    Uninstalling spacy-3.5.4:\n",
      "      Successfully uninstalled spacy-3.5.4\n",
      "Successfully installed blis-1.0.1 spacy-3.8.2 thinc-8.3.2\n"
     ]
    },
    {
     "name": "stderr",
     "output_type": "stream",
     "text": [
      "  WARNING: Failed to remove contents in a temporary directory 'C:\\Users\\user\\Desktop\\Chunjae_edu\\.conda\\Lib\\site-packages\\~-is'.\n",
      "  You can safely remove it manually.\n",
      "  WARNING: Failed to remove contents in a temporary directory 'C:\\Users\\user\\Desktop\\Chunjae_edu\\.conda\\Lib\\site-packages\\~-inc'.\n",
      "  You can safely remove it manually.\n",
      "ERROR: pip's dependency resolver does not currently take into account all the packages that are installed. This behaviour is the source of the following dependency conflicts.\n",
      "en-core-web-sm 3.5.0 requires spacy<3.6.0,>=3.5.0, but you have spacy 3.8.2 which is incompatible.\n"
     ]
    }
   ],
   "source": [
    "!pip install --upgrade scipy sentence-transformers spacy"
   ]
  },
  {
   "cell_type": "code",
   "execution_count": 1,
   "metadata": {},
   "outputs": [
    {
     "name": "stderr",
     "output_type": "stream",
     "text": [
      "c:\\Users\\user\\Desktop\\Chunjae_edu\\.conda\\lib\\site-packages\\sentence_transformers\\cross_encoder\\CrossEncoder.py:13: TqdmWarning: IProgress not found. Please update jupyter and ipywidgets. See https://ipywidgets.readthedocs.io/en/stable/user_install.html\n",
      "  from tqdm.autonotebook import tqdm, trange\n"
     ]
    }
   ],
   "source": [
    "# 패키지\n",
    "\n",
    "import re\n",
    "import csv\n",
    "import PyPDF2\n",
    "import random\n",
    "from sentence_transformers import SentenceTransformer, util\n",
    "import spacy\n",
    "import sys"
   ]
  },
  {
   "cell_type": "markdown",
   "metadata": {},
   "source": []
  },
  {
   "cell_type": "code",
   "execution_count": 2,
   "metadata": {},
   "outputs": [
    {
     "name": "stdout",
     "output_type": "stream",
     "text": [
      "CSV 파일이 '쏙쏙Words.csv'에 저장되었습니다.\n"
     ]
    }
   ],
   "source": [
    "# PDF 파싱, 신유라님께서 제공\n",
    "\n",
    "def extract_data_from_pdf(pdf_path):\n",
    "    with open(pdf_path, 'rb') as file:\n",
    "        reader = PyPDF2.PdfReader(file)\n",
    "        text = \"\"\n",
    "        for page_num in range(len(reader.pages)):\n",
    "            page = reader.pages[page_num]\n",
    "            text += page.extract_text()\n",
    "\n",
    "    pattern = re.compile(r'([a-zA-Z]+)\\s+([가-힣\\s,]+)\\s+([A-Za-z,.!?\\'\\s]+)\\s+([가-힣,.!?\\'\\s]+)')\n",
    "    matches = pattern.findall(text)\n",
    "\n",
    "    data = []\n",
    "    for match in matches:\n",
    "        word = match[0].strip() \n",
    "        word_meaning = match[1].strip() \n",
    "        example_en = match[2].strip() \n",
    "        example_ko = match[3].strip()  \n",
    "        data.append([word, word_meaning, example_en, example_ko])\n",
    "    \n",
    "    return data\n",
    "\n",
    "def save_data_to_csv(data, output_csv):\n",
    "    with open(output_csv, mode='w', newline='', encoding='utf-8') as file:\n",
    "        writer = csv.writer(file)\n",
    "        writer.writerow(['단어', '단어 뜻', '예문', '예문 뜻'])\n",
    "        writer.writerows(data)\n",
    "\n",
    "pdf_path = './T9EE51U70.pdf'\n",
    "\n",
    "extracted_data = extract_data_from_pdf(pdf_path)\n",
    "\n",
    "csv_output = '쏙쏙Words.csv'\n",
    "save_data_to_csv(extracted_data, csv_output)\n",
    "print(f\"CSV 파일이 '{csv_output}'에 저장되었습니다.\")\n"
   ]
  },
  {
   "cell_type": "markdown",
   "metadata": {},
   "source": [
    "---"
   ]
  },
  {
   "cell_type": "code",
   "execution_count": 3,
   "metadata": {},
   "outputs": [
    {
     "name": "stdout",
     "output_type": "stream",
     "text": [
      "단어: bird, 예문: A bird is in the tree.\n",
      "단어: idea, 예문: Matt has a good  idea.\n",
      "단어: wing, 예문: Chickens have wings .\n",
      "단어: wind, 예문: The wind was strong.\n",
      "단어: car, 예문: Is this your car?\n",
      "단어: sky, 예문: Look at the sky.\n",
      "단어: airplane, 예문: The airplane  is in the sky.\n",
      "단어: cousin, 예문: My cousins  are kind.\n",
      "단어: notebook, 예문: Do you have a new notebook ?\n",
      "단어: vacation, 예문: I like summer vacation .\n",
      "단어: come, 예문: Can you come here?\n",
      "단어: museum, 예문: Where is the museum ?\n",
      "단어: animal, 예문: Kevin loves animals .\n",
      "단어: horse, 예문: What do horses  eat?\n",
      "단어: white, 예문: Look at that white rabbit.\n",
      "단어: clean, 예문: My room is clean now.\n",
      "단어: break, 예문: ,\n",
      "단어: building, 예문: The building  is very old.\n",
      "단어: prize, 예문: The prize was yellow socks.\n",
      "단어: borrow, 예문: Can I borrow  your pencil?\n",
      "단어: tomorrow, 예문: Let's meet at two tomorrow .\n",
      "단어: sleep, 예문: It's time to sleep.\n",
      "단어: wet, 예문: My shoes are wet.\n",
      "단어: hello, 예문: Hello, my name is Susan.\n",
      "단어: early, 예문: I get up early in the morning.\n",
      "단어: farm, 예문: Are there many cows on the farm?\n",
      "단어: present, 예문: This present  is for you.\n",
      "단어: always, 예문: She always  carries that doll.\n",
      "단어: sister, 예문: Is your sister cute?\n",
      "단어: name, 예문: Her name is Lucy.\n",
      "단어: show, 예문: Jamie showed  his photos.\n",
      "단어: story, 예문: The story was fun.\n",
      "단어: daughter, 예문: Do they have a daughter ?\n",
      "단어: afraid, 예문: Don't be afraid .\n",
      "단어: writer, 예문: The writer  is reading a book.\n",
      "단어: day, 예문: Do you like rainy days?\n",
      "단어: place, 예문: It's a good  place for a picnic.\n",
      "단어: sing, 예문: The birds are singing  in the tree.\n",
      "단어: another, 예문: Give me another  spoon, please.\n",
      "단어: musical, 예문: The musical  was sad.\n",
      "단어: actress, 예문: Is the actress  kind?\n",
      "단어: welcome, 예문: Welcome  to my birthday party!\n",
      "단어: first, 예문: It was her first birthday party.\n",
      "단어: boring, 예문: This book is boring .\n",
      "단어: find, 예문: Did you  find the eraser?\n",
      "단어: boots, 예문: My boots  are blue.\n",
      "단어: hear, 예문: Can you  hear me?\n",
      "단어: but, 예문: I'm short but my sister is tall.\n",
      "단어: fun, 예문: Riding a bike is fun.\n",
      "단어: problem, 예문: What is the problem ?\n",
      "단어: woman, 예문: The woman  found my key.\n",
      "단어: beautiful, 예문: These flowers are beautiful .\n",
      "단어: street, 예문: She was walking on the street .\n",
      "단어: hat, 예문: Where is my hat?\n",
      "단어: clothes, 예문: Tony bought new clothes  today.\n",
      "단어: computer, 예문: Can you use a computer ?\n",
      "단어: school, 예문: I go to school\n",
      "단어: small, 예문: Jane is making a small doll.\n",
      "단어: news, 예문: That's great news.\n",
      "단어: week, 예문: A week has seven days.\n",
      "단어: difficult, 예문: The math test was very difficult .\n",
      "단어: answer, 예문: Do you know the answer ?\n",
      "단어: time, 예문: We don't have much time.\n",
      "단어: anything, 예문: I can do anything  for you.\n",
      "단어: autumn, 예문: I read many books in autumn .\n",
      "단어: when, 예문: When  is your birthday?\n",
      "단어: ticket, 예문: Did you buy the ticket?\n",
      "단어: stay, 예문: He stayed  at the hotel for two days.\n",
      "단어: circle, 예문: Draw a circle on the paper.\n",
      "단어: dress, 예문: Do you have a long dress?\n",
      "단어: visit, 예문: Sam will visit Ulsan next week.\n",
      "단어: word, 예문: Write the word on the blackboard.\n",
      "단어: spell, 예문: How do you spell your name?\n",
      "단어: classroom, 예문: There are classrooms  on the fourth floor.\n",
      "단어: scold, 예문: The teacher is scolding  Jake.\n",
      "단어: live, 예문: My uncle lives in Busan.\n",
      "단어: India, 예문: Is Maria from India?\n",
      "단어: pilot, 예문: My uncle was a pilot.\n",
      "단어: soon, 예문: The bus will come soon.\n",
      "단어: spaceship, 예문: We can travel by spaceship .\n",
      "단어: air, 예문: Is the air cold and dry in winter?\n",
      "단어: wife, 예문: The farmer and his wife had an ox.\n",
      "단어: earth, 예문: The earth is getting warmer.\n",
      "단어: speech, 예문: Did you understand his speech ?\n",
      "단어: contest, 예문: A fishing contest  is interesting.\n",
      "단어: bus, 예문: We came home by bus.\n",
      "단어: seat, 예문: Is this your seat?\n",
      "단어: up, 예문: Stand up , please.\n",
      "단어: police, 예문: The police  asked my name.\n",
      "단어: say, 예문: What did Tony say?\n",
      "단어: drop, 예문: Did you drop the vase?\n",
      "단어: fire, 예문: The fire started in the kitchen.\n",
      "단어: rock, 예문: Falling rocks are dangerous.\n",
      "단어: rich, 예문: The man was rich but not happy.\n",
      "단어: strong, 예문: The wind is not strong  today.\n",
      "단어: bomb, 예문: People are afraid of bombs .\n",
      "단어: tell, 예문: Please tell us the truth.\n",
      "단어: both, 예문: I miss them both.\n",
      "단어: concert, 예문: We are going to a concert .\n",
      "단어: ear, 예문: His ears are small.\n",
      "단어: tired, 예문: Sam was hungry and tired.\n",
      "단어: pain, 예문: Do you feel pain in your legs?\n",
      "단어: music, 예문: Does Chris like music ?\n",
      "단어: end, 예문: The game ends at five.\n",
      "단어: art, 예문: French people love art.\n",
      "단어: question, 예문: Do you have a question ?\n",
      "단어: moon, 예문: The moon  is round.\n",
      "단어: hen, 예문: My grandpa has many hens.\n",
      "단어: egg, 예문: She needs two eggs.\n",
      "단어: where, 예문: Where  do you live?\n",
      "단어: do, 예문: Kate is doing  her homework.\n",
      "단어: quiet, 예문: Be quiet.\n",
      "단어: cute, 예문: My brother is cute.\n",
      "단어: blind, 예문: The dog is helping the blind man.\n",
      "단어: palm, 예문: He wrote something on my palm.\n",
      "단어: lip, 예문: Which animals have lips?\n",
      "단어: effort, 예문: She put more effort  into her studies.\n",
      "단어: today, 예문: What day is it today ?\n",
      "단어: magazine, 예문: I saw her picture in the magazine .\n",
      "단어: girl, 예문: Mary is a smart girl.\n",
      "단어: honest, 예문: Bill is an honest  boy.\n",
      "단어: reporter, 예문: The reporter  met a famous artist.\n",
      "단어: television, 예문: How long do you watch television  a day?\n",
      "단어: baseball, 예문: Do they play baseball  after school?\n",
      "단어: congratulate, 예문: We congratulated  Jack on his new job.\n",
      "단어: staff, 예문: The restaurant staff is kind.\n",
      "단어: what, 예문: What does Harry like?\n",
      "단어: again, 예문: See you again soon.\n",
      "단어: buy, 예문: Mom will buy some cheese.\n",
      "단어: kid, 예문: The kid is cute.\n",
      "단어: bottle, 예문: Did you open this bottle ?\n",
      "단어: thirsty, 예문: The horses were very thirsty .\n",
      "단어: expensive, 예문: Is that watch expensive ?\n",
      "단어: store, 예문: This store sells computers\n",
      "단어: arm, 예문: His arms are strong.\n",
      "단어: ill, 예문: My grandma is ill.\n",
      "단어: cook, 예문: Who is cooking  dinner?\n",
      "단어: hurry, 예문: Hurry  up, Jake.\n",
      "단어: count, 예문: She counted  the beds.\n",
      "단어: bread, 예문: The bread  smells good.\n",
      "단어: meat, 예문: Do you sell meat?\n",
      "단어: angel, 예문: Angels  have wings.\n",
      "단어: believe, 예문: I can't believe  the news.\n",
      "단어: curious, 예문: Are you curious  about space?\n",
      "단어: cloth, 예문: Cover the basket with a wet cloth.\n",
      "단어: kite, 예문: Flying a kite is exciting.\n",
      "단어: magic, 예문: Daniel showed us some magic  tricks.\n",
      "단어: corn, 예문: Can you make corn soup?\n",
      "단어: amazing, 예문: The night view is amazing  from the building.\n",
      "단어: singer, 예문: Do you know the singer ?\n",
      "단어: stage, 예문: Get off the stage!\n",
      "단어: voice, 예문: I can't hear your voice.\n",
      "단어: worry, 예문: Dad.\n",
      "단어: man, 예문: The man is fixing his car.\n",
      "단어: best, 예문: Who is the best actor?\n",
      "단어: coin, 예문: Jenny needs some coins.\n",
      "단어: gold, 예문: Time is gold.\n",
      "단어: sleepy, 예문: I always feel sleepy  after lunch.\n",
      "단어: number, 예문: Can you read the numbers  in English?\n",
      "단어: solve, 예문: She finally solved  the puzzle.\n",
      "단어: still, 예문: Are you still hungry, Jim?\n",
      "단어: simple, 예문: Cooking spaghetti is simple .\n",
      "단어: talent, 예문: He has a talent  for music.\n",
      "단어: island, 예문: Nobody lived on the island .\n",
      "단어: meal, 예문: Do you eat kimchi at every meal?\n",
      "단어: once, 예문: My family goes camping once a month.\n",
      "단어: calendar, 예문: He marked her birthday on the calendar .\n",
      "단어: vegetable, 예문: Are tomatoes vegetables ?\n",
      "단어: history, 예문: Sue learned American history  today.\n"
     ]
    }
   ],
   "source": [
    "def load_csv_to_dict(csv_file):\n",
    "    word_dict = {}\n",
    "    \n",
    "    with open(csv_file, mode='r', encoding='utf-8') as file:\n",
    "        reader = csv.reader(file)\n",
    "        next(reader)  \n",
    "\n",
    "        for row in reader:\n",
    "            word = row[0]  \n",
    "            example_en = row[2]  \n",
    "            word_dict[word] = example_en\n",
    "    \n",
    "    return word_dict\n",
    "\n",
    "\n",
    "csv_file = '쏙쏙Words.csv'\n",
    "\n",
    "\n",
    "word_example_dict = load_csv_to_dict(csv_file)\n",
    "\n",
    "\n",
    "for word, example in word_example_dict.items():\n",
    "    print(f\"단어: {word}, 예문: {example}\")\n"
   ]
  },
  {
   "cell_type": "code",
   "execution_count": null,
   "metadata": {},
   "outputs": [
    {
     "name": "stdout",
     "output_type": "stream",
     "text": [
      "행맨 게임에 오신 것을 환영합니다!\n",
      "문장: _ [____] __ __ ___ _____\n",
      "\n",
      "남은 시도 횟수: 6\n",
      "아쉽습니다. 's'는 정답이 아닙니다.\n",
      "유사도: 0.24\n",
      "문장: _ [____] is __ ___ _____\n",
      "\n",
      "남은 시도 횟수: 5\n",
      "아쉽습니다. 's'는 정답이 아닙니다.\n",
      "유사도: 0.24\n",
      "문장: A [____] is __ ___ _____\n",
      "\n",
      "남은 시도 횟수: 4\n",
      "아쉽습니다. 'brid'는 정답이 아닙니다.\n",
      "유사도: 0.25\n",
      "문장: A [____] is __ the _____\n",
      "\n",
      "남은 시도 횟수: 3\n",
      "축하합니다! 정답은 'bird'였습니다!\n",
      "유사도: 1.00\n",
      "행맨 게임에 오신 것을 환영합니다!\n",
      "문장: ____ ___ _ ____ _____\n",
      "\n",
      "남은 시도 횟수: 6\n"
     ]
    }
   ],
   "source": [
    "# 게임 코드\n",
    "\n",
    "quiz = word_example_dict\n",
    "\n",
    "\n",
    "def hangman_game(word_dict, sentence, correct_word):\n",
    "    model = SentenceTransformer('all-MiniLM-L6-v2')\n",
    "    words_in_sentence = sentence.split()\n",
    "\n",
    "    blank_sentence = ['[____]' if word.lower() == correct_word.lower() else '_' * len(word) for word in words_in_sentence]\n",
    "\n",
    "    hint_priority = {\n",
    "        'AUX': 1, 'ADJ': 2, 'DET': 3, 'NOUN': 4, 'ADP': 5, 'ADV': 6, \n",
    "        'VERB': 7, 'PRON': 8, 'PROPN': 9, 'CCONJ': 10, 'SCONJ': 11, \n",
    "        'INTJ': 12, 'NUM': 13, 'SYM': 14, 'PART': 15, 'PUNCT': 16, 'X': 17\n",
    "    }\n",
    "\n",
    "    hints = sorted(\n",
    "        {word: pos for word, pos in word_dict.items() if word.lower() != correct_word.lower()}.items(),\n",
    "        key=lambda item: hint_priority.get(item[1], 100)\n",
    "    )\n",
    "\n",
    "    correct_embedding = model.encode([correct_word], convert_to_tensor=True)\n",
    "\n",
    "    hint_index = 0  \n",
    "    attempts = 6  \n",
    "\n",
    "    print(\"행맨 게임에 오신 것을 환영합니다!\")\n",
    "    print(\"문장:\", ' '.join(blank_sentence))\n",
    "    sys.stdout.flush()\n",
    "\n",
    "    while attempts > 0:\n",
    "        print(f\"\\n남은 시도 횟수: {attempts}\")\n",
    "        guess = input(\"정답을 추측해보세요: \").lower()\n",
    "\n",
    "        if not guess.isalpha():\n",
    "            print(\"단어를 입력하세요.\")\n",
    "            continue\n",
    "\n",
    "        guess_embedding = model.encode([guess], convert_to_tensor=True)\n",
    "        similarity = util.pytorch_cos_sim(guess_embedding, correct_embedding).item()\n",
    "\n",
    "        if guess == correct_word:\n",
    "            print(f\"축하합니다! 정답은 '{correct_word}'였습니다!\")\n",
    "            print(f\"유사도: {similarity:.2f}\")\n",
    "            break\n",
    "        else:\n",
    "            print(f\"아쉽습니다. '{guess}'는 정답이 아닙니다.\")\n",
    "            print(f\"유사도: {similarity:.2f}\")\n",
    "            attempts -= 1\n",
    "\n",
    "            if hint_index < len(hints):\n",
    "                word_hint, _ = hints[hint_index]\n",
    "                for i, word in enumerate(words_in_sentence):\n",
    "                    if word.lower() == word_hint.lower():\n",
    "                        blank_sentence[i] = word\n",
    "                print(\"문장:\", ' '.join(blank_sentence))\n",
    "                sys.stdout.flush()\n",
    "                hint_index += 1\n",
    "\n",
    "    if attempts == 0:\n",
    "        print(f\"실패했습니다. 정답은 '{correct_word}'였습니다.\")\n",
    "        print(f\"유사도: {similarity:.2f}\")\n",
    "\n",
    "\n",
    "nlp = spacy.load(\"en_core_web_sm\")\n",
    "\n",
    "for word, sentence in quiz.items():\n",
    "    doc = nlp(sentence)\n",
    "    word_pos_dict = {token.text: token.pos_ for token in doc}\n",
    "    hangman_game(word_pos_dict, sentence, word)\n"
   ]
  }
 ],
 "metadata": {
  "kernelspec": {
   "display_name": "Python 3",
   "language": "python",
   "name": "python3"
  },
  "language_info": {
   "codemirror_mode": {
    "name": "ipython",
    "version": 3
   },
   "file_extension": ".py",
   "mimetype": "text/x-python",
   "name": "python",
   "nbconvert_exporter": "python",
   "pygments_lexer": "ipython3",
   "version": "3.9.20"
  }
 },
 "nbformat": 4,
 "nbformat_minor": 2
}
