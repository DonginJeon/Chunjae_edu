{
 "cells": [
  {
   "cell_type": "code",
   "execution_count": 3,
   "metadata": {},
   "outputs": [],
   "source": [
    "# Import Package\n",
    "from langchain_community.document_loaders import TextLoader\n",
    "from langchain_community.vectorstores import FAISS\n",
    "from langchain.embeddings import HuggingFaceBgeEmbeddings\n",
    "from langchain_text_splitters import CharacterTextSplitter\n",
    "from IPython.display import display_markdown"
   ]
  },
  {
   "cell_type": "code",
   "execution_count": 82,
   "metadata": {},
   "outputs": [
    {
     "name": "stdout",
     "output_type": "stream",
     "text": [
      "유사한 문서들:\n",
      "- 이차 방정식의 해를 구하는 방법 (거리: 4.730958461761475)\n",
      "- 기하학적 도형의 성질에 관한 설명 (거리: 5.489022254943848)\n",
      "- 삼각형의 각도 계산법 (거리: 5.668970108032227)\n"
     ]
    }
   ],
   "source": [
    "from sentence_transformers import SentenceTransformer\n",
    "import faiss\n",
    "import numpy as np\n",
    "\n",
    "model = SentenceTransformer(\"sentence-transformers/paraphrase-MiniLM-L6-v2\")\n",
    "\n",
    "\n",
    "documents = [\n",
    "    \"이차 방정식의 해를 구하는 방법\",\n",
    "    \"기하학적 도형의 성질에 관한 설명\",\n",
    "    \"삼각형의 각도 계산법\",\n",
    "    \"근의 공식은 이차방정식을 푸는 방법 중 하나로, 다음과 같은 식을 사용합니다.\",\n",
    "    \"근의 공식은 일반적으로 다음과 같습니다: x = (-b ± √(b^2 - 4ac)) / 2a\",\n",
    "]\n",
    "\n",
    "document_embeddings = model.encode(documents)\n",
    "\n",
    "# FAISS 인덱스 생성 및 문서 임베딩 추가\n",
    "embedding_dimension = document_embeddings.shape[1]\n",
    "index = faiss.IndexFlatL2(embedding_dimension)\n",
    "index.add(np.array(document_embeddings))\n",
    "\n",
    "\n",
    "def query_to_embedding(query):\n",
    "\n",
    "    query_embedding = model.encode([query])\n",
    "    return query_embedding\n",
    "\n",
    "\n",
    "def search_similar_documents(query, k=3):\n",
    "\n",
    "    query_embedding = query_to_embedding(query)\n",
    "\n",
    "    D, I = index.search(np.array(query_embedding), k=k)\n",
    "\n",
    "    print(\"유사한 문서들:\")\n",
    "    for idx in I[0]:\n",
    "        print(f\"- {documents[idx]} (거리: {D[0][idx]})\")\n",
    "\n",
    "\n",
    "# 검색 예시\n",
    "query = \"근의공식에 대해 알려줘\"\n",
    "search_similar_documents(query)"
   ]
  },
  {
   "cell_type": "code",
   "execution_count": 7,
   "metadata": {},
   "outputs": [
    {
     "name": "stderr",
     "output_type": "stream",
     "text": [
      "Created a chunk of size 335, which is longer than the specified 200\n",
      "C:\\Users\\user\\AppData\\Local\\Temp\\ipykernel_5892\\3310529468.py:17: LangChainDeprecationWarning: Default values for HuggingFaceEmbeddings.model_name were deprecated in LangChain 0.2.16 and will be removed in 0.4.0. Explicitly pass a model_name to the HuggingFaceEmbeddings constructor instead.\n",
      "  embeddings = HuggingFaceEmbeddings()\n"
     ]
    },
    {
     "data": {
      "text/markdown": [
       "문서에서 검색된 내용을 바탕으로 질문에 답변하세요: 이 방정식의 해는 근의 공식이나 판별식을 통해 쉽게 구할 수 있으며, 방정식의 해는 실수 또는 복소수로 나뉠 수 있습니다. 또한, 이차방정식은 포물선 형태의 그래프와 깊은 관련이 있으며, 물리학, 경제학, 엔지니어링 등 다양한 분야에서 널리 응용됩니다.\n",
       "## 5. 이차방정식의 응용\n",
       "이차방정식은 현실 세계의 다양한 문제를 해결하는 데 사용됩니다. 예를 들어:\n",
       "- **물리학**: 물체의 이동 경로는 종종 이차방정식으로 표현됩니다. 예를 들어, 중력 아래에서 자유 낙하하는 물체의 이동 경로는 포물선 모양을 그리며, 이는 이차방정식으로 설명될 수 있습니다.\n",
       "- **경제학**: 자본 투자나 수익 최적화 문제에서 이차방정식이 사용될 수 있습니다. 예를 들어, 비용과 수익 간의 관계를 분석하는 데 유용합니다.\n",
       "- **엔지니어링**: 건축물의 구조적 안정성을 분석할 때 이차방정식이 사용됩니다. 특히 포물선 구조물이나 곡선 형태의 디자인에서 자주 등장합니다.\n",
       "여기서:\n",
       "- `a`, `b`, `c`는 상수이며, `a ≠ 0`입니다.\n",
       "- `x`는 우리가 풀어야 할 미지수입니다.\n",
       "\n",
       "이차방정식은 그 형태에서 최고 차수가 2인 미지수를 포함하고 있기 때문에 '이차' 방정식이라 불립니다. 이차방정식의 해를 구하기 위해서는 다양한 방법이 사용될 수 있으며, 근의 공식, 인수분해, 또는 그래프를 이용하는 방법 등이 있습니다.\n",
       "## 4. 이차방정식의 그래프\n",
       "이차방정식의 그래프는 **포물선**의 형태를 가집니다. 포물선의 방향은 `a`의 부호에 따라 결정됩니다:\n",
       "- `a > 0`일 때, 그래프는 아래로 볼록한 포물선입니다.\n",
       "- `a < 0`일 때, 그래프는 위로 볼록한 포물선입니다.\n",
       "\n",
       "포물선의 꼭짓점은 방정식의 중요한 특징 중 하나이며, 꼭짓점의 x 좌표는 다음과 같이 계산됩니다: 질문: 근의공식에서 [XXX로 정의되는"
      ]
     },
     "metadata": {},
     "output_type": "display_data"
    }
   ],
   "source": [
    "from transformers import AutoTokenizer, AutoModelForCausalLM\n",
    "from langchain.embeddings import HuggingFaceEmbeddings\n",
    "from langchain.vectorstores import FAISS\n",
    "from langchain.document_loaders import TextLoader\n",
    "from langchain.text_splitter import CharacterTextSplitter\n",
    "import torch\n",
    "\n",
    "# 1. 문서 로드 및 텍스트 분리\n",
    "file_path = \"./extended_quadratic_equation_explanation.md\"\n",
    "documents = TextLoader(file_path, encoding=\"utf8\").load()\n",
    "\n",
    "# 텍스트 분리\n",
    "text_splitter = CharacterTextSplitter(chunk_size=200, chunk_overlap=0)\n",
    "docs = text_splitter.split_documents(documents)\n",
    "\n",
    "# 2. 임베딩 및 FAISS DB 생성 (KoSimCSE 모델 사용)\n",
    "embeddings = HuggingFaceEmbeddings()\n",
    "db = FAISS.from_documents(docs, embeddings)\n",
    "\n",
    "# 3. 생성 모델 로드 (KoGPT 모델 사용)\n",
    "gpt_tokenizer = AutoTokenizer.from_pretrained(\"skt/kogpt2-base-v2\")\n",
    "gpt_model = AutoModelForCausalLM.from_pretrained(\"skt/kogpt2-base-v2\")\n",
    "\n",
    "\n",
    "# 4. RAG 방식으로 답변 생성 함수\n",
    "def generate_rag_answer(query):\n",
    "    # FAISS로 검색 수행 (가장 관련 있는 문서 검색)\n",
    "    search_results = db.similarity_search(query)\n",
    "\n",
    "    if not search_results:\n",
    "        return \"관련된 문서를 찾을 수 없습니다.\"\n",
    "\n",
    "    # 검색된 문서들을 결합하여 문맥을 생성\n",
    "    context = \"\\n\".join([doc.page_content for doc in search_results])\n",
    "\n",
    "    # KoGPT 모델을 통해 답변 생성 (검색된 문서를 바탕으로 답변 생성)\n",
    "    input_text = (\n",
    "        f\"문서에서 검색된 내용을 바탕으로 질문에 답변하세요: {context} 질문: {query}\"\n",
    "    )\n",
    "    inputs = gpt_tokenizer.encode(input_text, return_tensors=\"pt\")\n",
    "\n",
    "    # GPU 사용 가능 여부 확인\n",
    "    device = \"cpu\"\n",
    "    gpt_model.to(device)\n",
    "    inputs = inputs.to(device)\n",
    "\n",
    "    # 모델을 통해 답변 생성\n",
    "    outputs = gpt_model.generate(\n",
    "        inputs,\n",
    "        max_length=400,\n",
    "        do_sample=True,\n",
    "        top_p=0.95,\n",
    "        top_k=60,\n",
    "        num_return_sequences=1,\n",
    "    )\n",
    "\n",
    "    # 최종 답변 반환\n",
    "    answer = gpt_tokenizer.decode(outputs[0], skip_special_tokens=True)\n",
    "    return answer\n",
    "\n",
    "\n",
    "# 5. 예시 질문\n",
    "query = input(\"질문을 입력해주세요\")\n",
    "\n",
    "# 6. RAG 방식으로 질문에 대한 답변 생성\n",
    "answer = generate_rag_answer(query)\n",
    "display_markdown(answer, raw=True)"
   ]
  },
  {
   "cell_type": "code",
   "execution_count": 100,
   "metadata": {},
   "outputs": [
    {
     "name": "stderr",
     "output_type": "stream",
     "text": [
      "Some weights of ElectraForSequenceClassification were not initialized from the model checkpoint at monologg/koelectra-base-discriminator and are newly initialized: ['classifier.dense.bias', 'classifier.dense.weight', 'classifier.out_proj.bias', 'classifier.out_proj.weight']\n",
      "You should probably TRAIN this model on a down-stream task to be able to use it for predictions and inference.\n",
      "No sentence-transformers model found with name BM-K/KoSimCSE-roberta-multitask. Creating a new one with mean pooling.\n"
     ]
    },
    {
     "name": "stdout",
     "output_type": "stream",
     "text": [
      "[Document(metadata={'source': './이차방정식.txt'}, page_content='# 이차방정식\\n\\n## 이차방정식과 그 해\\n\\n이차방정식은 x에 관한 이차식의 모양으로 정리할 수 있는 등식을 의미한다. \\n이차방정식의 일반형은 다음과 같다:\\n\\n```\\nax^2 + bx + c = 0 (단, a ≠ 0)\\n```\\n\\n여기서 a가 0이 되면 이차항이 없어져 이차방정식이 아니므로, a ≠ 0이어야 한다. b나 c는 0이 되어도 상관없다.\\n\\n### 이차방정식의 해'), Document(metadata={'source': './이차방정식.txt'}, page_content='인수분해는 이차방정식을 푸는 가장 기본적인 방법 중 하나다.\\n\\n### 예시 1: \\n\\n```\\nx^2 - 7x - 8 = 0\\n```\\n\\n인수분해하여,\\n\\n```\\n(x - 8)(x + 1) = 0\\n```\\n\\n따라서, 해는 x = 8 또는 x = -1이다.\\n\\n### 예시 2:\\n\\n```\\nx^2 - 8x + 16 = 0\\n```\\n\\n인수분해하면,\\n\\n```\\n(x - 4)^2 = 0\\n```\\n\\n이 경우 중근으로 x = 4가 해가 된다.\\n\\n### 예시 3:\\n\\n```\\nx^2 + 2x + 8 = 0\\n```'), Document(metadata={'source': './이차방정식.txt'}, page_content='이차방정식의 해는 x값을 의미하며, 보통 두 개의 서로 다른 해를 갖는다. \\n하지만, 해가 없는 경우 또는 두 해가 중복되는 경우가 있을 수 있다. 중복되는 경우의 해를 중근이라 부른다.\\n\\n## 이차방정식의 풀이 원리\\n\\n```\\nAB = 0 일 때, A = 0 또는 B = 0\\n```\\n\\n이 원리를 이용하여 이차방정식을 풀이할 수 있다. 예를 들어,\\n\\n```\\n(x - 8)(x + 1) = 0\\n```\\n\\n이 방정식에서 x = 8 또는 x = -1이 해가 된다.\\n\\n## 인수분해를 이용한 이차방정식의 풀이'), Document(metadata={'source': './이차방정식.txt'}, page_content='이 방정식은 인수분해가 불가능하다. 이러한 경우는 해가 존재하지 않으며, 허수로 해를 구할 수 있다.\\n\\n## 이차방정식의 근의 공식\\n\\n근의 공식은 인수분해가 불가능한 이차방정식을 푸는 데 사용된다.\\n\\n```\\nx = (-b ± √(b^2 - 4ac)) / 2a\\n```\\n\\n여기서 판별식 `D = b^2 - 4ac`를 사용하여 해의 종류를 알 수 있다.\\n\\n- `D > 0`: 서로 다른 두 실근을 갖는다.\\n- `D = 0`: 중근을 갖는다.\\n- `D < 0`: 허근을 갖는다.\\n\\n### 예시:\\n\\n```\\nx^2 + 3x + 2 = 0\\n```')]\n"
     ]
    }
   ],
   "source": [
    "from transformers import pipeline, ElectraTokenizer, ElectraForSequenceClassification\n",
    "from langchain.embeddings import HuggingFaceEmbeddings\n",
    "from langchain.vectorstores import FAISS\n",
    "from langchain.document_loaders import TextLoader\n",
    "from langchain.text_splitter import CharacterTextSplitter\n",
    "\n",
    "# LLM을 위한 전처리 파이프라인 설정\n",
    "tokenizer = ElectraTokenizer.from_pretrained(\"monologg/koelectra-base-discriminator\")\n",
    "model = ElectraForSequenceClassification.from_pretrained(\n",
    "    \"monologg/koelectra-base-discriminator\"\n",
    ")\n",
    "nlp = pipeline(\"sentiment-analysis\", model=model, tokenizer=tokenizer)\n",
    "\n",
    "# 문서 로드\n",
    "documents = TextLoader(\"./이차방정식.txt\", encoding=\"utf8\").load()\n",
    "\n",
    "# 텍스트 분리\n",
    "text_splitter = CharacterTextSplitter(chunk_size=300, chunk_overlap=0)\n",
    "docs = text_splitter.split_documents(documents)\n",
    "\n",
    "\n",
    "embeddings = HuggingFaceEmbeddings(model_name=\"BM-K/KoSimCSE-roberta-multitask\")\n",
    "db = FAISS.from_documents(docs, embeddings)\n",
    "\n",
    "# 질의를 위한 예시 텍스트\n",
    "query = \"근의 공식\"\n",
    "\n",
    "# LLM을 사용하여 질의를 전처리\n",
    "processed_query = nlp(query)[0][\"label\"]\n",
    "\n",
    "# 처리된 질의로 FAISS 검색\n",
    "answer = db.similarity_search(processed_query)\n",
    "\n",
    "# 결과 출력\n",
    "print(answer)"
   ]
  },
  {
   "cell_type": "code",
   "execution_count": 101,
   "metadata": {},
   "outputs": [
    {
     "data": {
      "text/markdown": [
       "# 이차방정식\n",
       "\n",
       "## 이차방정식과 그 해\n",
       "\n",
       "이차방정식은 x에 관한 이차식의 모양으로 정리할 수 있는 등식을 의미한다. \n",
       "이차방정식의 일반형은 다음과 같다:\n",
       "\n",
       "```\n",
       "ax^2 + bx + c = 0 (단, a ≠ 0)\n",
       "```\n",
       "\n",
       "여기서 a가 0이 되면 이차항이 없어져 이차방정식이 아니므로, a ≠ 0이어야 한다. b나 c는 0이 되어도 상관없다.\n",
       "\n",
       "### 이차방정식의 해"
      ]
     },
     "metadata": {},
     "output_type": "display_data"
    }
   ],
   "source": [
    "display_markdown(answer[0].page_content, raw=True)"
   ]
  },
  {
   "cell_type": "code",
   "execution_count": 2,
   "metadata": {},
   "outputs": [
    {
     "name": "stderr",
     "output_type": "stream",
     "text": [
      "c:\\Users\\user\\Desktop\\Chunjae_edu\\.conda\\lib\\site-packages\\IPython\\core\\interactiveshell.py:3550: LangChainDeprecationWarning: Default values for HuggingFaceBgeEmbeddings.model_name were deprecated in LangChain 0.2.5 and will be removed in 0.4.0. Explicitly pass a model_name to the HuggingFaceBgeEmbeddings constructor instead.\n",
      "  exec(code_obj, self.user_global_ns, self.user_ns)\n",
      "c:\\Users\\user\\Desktop\\Chunjae_edu\\.conda\\lib\\site-packages\\sentence_transformers\\cross_encoder\\CrossEncoder.py:13: TqdmWarning: IProgress not found. Please update jupyter and ipywidgets. See https://ipywidgets.readthedocs.io/en/stable/user_install.html\n",
      "  from tqdm.autonotebook import tqdm, trange\n"
     ]
    },
    {
     "name": "stdout",
     "output_type": "stream",
     "text": [
      "WARNING:tensorflow:From c:\\Users\\user\\Desktop\\Chunjae_edu\\.conda\\lib\\site-packages\\tf_keras\\src\\losses.py:2976: The name tf.losses.sparse_softmax_cross_entropy is deprecated. Please use tf.compat.v1.losses.sparse_softmax_cross_entropy instead.\n",
      "\n"
     ]
    }
   ],
   "source": [
    "embeddings = HuggingFaceBgeEmbeddings()"
   ]
  },
  {
   "cell_type": "code",
   "execution_count": 73,
   "metadata": {},
   "outputs": [],
   "source": [
    "documents = TextLoader(\"./이차방정식.txt\", encoding=\"utf8\").load()\n",
    "\n",
    "text_splitter = CharacterTextSplitter(chunk_size=300, chunk_overlap=0)\n",
    "docs = text_splitter.split_documents(documents)\n",
    "\n",
    "db = FAISS.from_documents(docs, embeddings)"
   ]
  },
  {
   "cell_type": "code",
   "execution_count": 93,
   "metadata": {},
   "outputs": [],
   "source": [
    "query = \"근의 공식\"\n",
    "answer = db.similarity_search(query)"
   ]
  },
  {
   "cell_type": "code",
   "execution_count": 94,
   "metadata": {},
   "outputs": [
    {
     "data": {
      "text/plain": [
       "[Document(metadata={'source': './이차방정식.txt'}, page_content='인수분해는 이차방정식을 푸는 가장 기본적인 방법 중 하나다.\\n\\n### 예시 1: \\n\\n```\\nx^2 - 7x - 8 = 0\\n```\\n\\n인수분해하여,\\n\\n```\\n(x - 8)(x + 1) = 0\\n```\\n\\n따라서, 해는 x = 8 또는 x = -1이다.\\n\\n### 예시 2:\\n\\n```\\nx^2 - 8x + 16 = 0\\n```\\n\\n인수분해하면,\\n\\n```\\n(x - 4)^2 = 0\\n```\\n\\n이 경우 중근으로 x = 4가 해가 된다.\\n\\n### 예시 3:\\n\\n```\\nx^2 + 2x + 8 = 0\\n```'),\n",
       " Document(metadata={'source': './이차방정식.txt'}, page_content='이 방정식은 인수분해가 불가능하다. 이러한 경우는 해가 존재하지 않으며, 허수로 해를 구할 수 있다.\\n\\n## 이차방정식의 근의 공식\\n\\n근의 공식은 인수분해가 불가능한 이차방정식을 푸는 데 사용된다.\\n\\n```\\nx = (-b ± √(b^2 - 4ac)) / 2a\\n```\\n\\n여기서 판별식 `D = b^2 - 4ac`를 사용하여 해의 종류를 알 수 있다.\\n\\n- `D > 0`: 서로 다른 두 실근을 갖는다.\\n- `D = 0`: 중근을 갖는다.\\n- `D < 0`: 허근을 갖는다.\\n\\n### 예시:\\n\\n```\\nx^2 + 3x + 2 = 0\\n```'),\n",
       " Document(metadata={'source': './이차방정식.txt'}, page_content='이차방정식의 해는 x값을 의미하며, 보통 두 개의 서로 다른 해를 갖는다. \\n하지만, 해가 없는 경우 또는 두 해가 중복되는 경우가 있을 수 있다. 중복되는 경우의 해를 중근이라 부른다.\\n\\n## 이차방정식의 풀이 원리\\n\\n```\\nAB = 0 일 때, A = 0 또는 B = 0\\n```\\n\\n이 원리를 이용하여 이차방정식을 풀이할 수 있다. 예를 들어,\\n\\n```\\n(x - 8)(x + 1) = 0\\n```\\n\\n이 방정식에서 x = 8 또는 x = -1이 해가 된다.\\n\\n## 인수분해를 이용한 이차방정식의 풀이'),\n",
       " Document(metadata={'source': './이차방정식.txt'}, page_content='근의 공식을 사용하여,\\n\\n```\\nx = (-3 ± √(9 - 8)) / 2 = (-3 ± 1) / 2\\n```\\n\\n따라서 해는 x = -1 또는 x = -2가 된다.')]"
      ]
     },
     "execution_count": 94,
     "metadata": {},
     "output_type": "execute_result"
    }
   ],
   "source": [
    "answer"
   ]
  },
  {
   "cell_type": "code",
   "execution_count": 95,
   "metadata": {},
   "outputs": [
    {
     "data": {
      "text/markdown": [
       "인수분해는 이차방정식을 푸는 가장 기본적인 방법 중 하나다.\n",
       "\n",
       "### 예시 1: \n",
       "\n",
       "```\n",
       "x^2 - 7x - 8 = 0\n",
       "```\n",
       "\n",
       "인수분해하여,\n",
       "\n",
       "```\n",
       "(x - 8)(x + 1) = 0\n",
       "```\n",
       "\n",
       "따라서, 해는 x = 8 또는 x = -1이다.\n",
       "\n",
       "### 예시 2:\n",
       "\n",
       "```\n",
       "x^2 - 8x + 16 = 0\n",
       "```\n",
       "\n",
       "인수분해하면,\n",
       "\n",
       "```\n",
       "(x - 4)^2 = 0\n",
       "```\n",
       "\n",
       "이 경우 중근으로 x = 4가 해가 된다.\n",
       "\n",
       "### 예시 3:\n",
       "\n",
       "```\n",
       "x^2 + 2x + 8 = 0\n",
       "```"
      ]
     },
     "metadata": {},
     "output_type": "display_data"
    }
   ],
   "source": [
    "display_markdown(answer[0].page_content, raw=True)"
   ]
  },
  {
   "cell_type": "code",
   "execution_count": 13,
   "metadata": {},
   "outputs": [
    {
     "name": "stderr",
     "output_type": "stream",
     "text": [
      "Created a chunk of size 335, which is longer than the specified 300\n",
      "C:\\Users\\user\\AppData\\Local\\Temp\\ipykernel_5892\\2335435296.py:17: LangChainDeprecationWarning: Default values for HuggingFaceEmbeddings.model_name were deprecated in LangChain 0.2.16 and will be removed in 0.4.0. Explicitly pass a model_name to the HuggingFaceEmbeddings constructor instead.\n",
      "  embeddings = HuggingFaceEmbeddings()\n"
     ]
    },
    {
     "name": "stdout",
     "output_type": "stream",
     "text": [
      "문서에서 검색된 내용을 바탕으로 질문에 답변하세요: 이차방정식은 그 형태에서 최고 차수가 2인 미지수를 포함하고 있기 때문에 '이차' 방정식이라 불립니다. 이차방정식의 해를 구하기 위해서는 다양한 방법이 사용될 수 있으며, 근의 공식, 인수분해, 또는 그래프를 이용하는 방법 등이 있습니다.\n",
      "\n",
      "## 2. 이차방정식의 해법\n",
      "\n",
      "### 2.1 근의 공식\n",
      "근의 공식은 이차방정식을 푸는 가장 일반적인 방법 중 하나입니다. 이 공식은 모든 이차방정식에 적용 가능하며, 특히 인수분해가 어렵거나 불가능할 때 유용합니다. 근의 공식은 다음과 같습니다:\n",
      "## 5. 이차방정식의 응용\n",
      "이차방정식은 현실 세계의 다양한 문제를 해결하는 데 사용됩니다. 예를 들어:\n",
      "- **물리학**: 물체의 이동 경로는 종종 이차방정식으로 표현됩니다. 예를 들어, 중력 아래에서 자유 낙하하는 물체의 이동 경로는 포물선 모양을 그리며, 이는 이차방정식으로 설명될 수 있습니다.\n",
      "- **경제학**: 자본 투자나 수익 최적화 문제에서 이차방정식이 사용될 수 있습니다. 예를 들어, 비용과 수익 간의 관계를 분석하는 데 유용합니다.\n",
      "- **엔지니어링**: 건축물의 구조적 안정성을 분석할 때 이차방정식이 사용됩니다. 특히 포물선 구조물이나 곡선 형태의 디자인에서 자주 등장합니다.\n",
      "따라서 해는 `x = 2`와 `x = -5/2`입니다.\n",
      "\n",
      "### 연습 문제:\n",
      "1. `x^2 - 6x + 9 = 0`을 풀어보세요.\n",
      "2. `2x^2 + 4x - 6 = 0`의 해를 구하세요.\n",
      "3. `x^2 - x - 2 = 0`을 근의 공식을 사용하여 풀어보세요.\n",
      "\n",
      "## 4. 이차방정식의 그래프\n",
      "이차방정식의 그래프는 **포물선**의 형태를 가집니다. 포물선의 방향은 `a`의 부호에 따라 결정됩니다:\n",
      "- `a > 0`일 때, 그래프는 아래로 볼록한 포물선입니다.\n",
      "- `a < 0`일 때, 그래프는 위로 볼록한 포물선입니다. 질문: 연습문제를 보여줘야합니다.\n",
      "1. `a` 또는 `b`<\n",
      " - `b><\n",
      "- `b`<\n",
      "- `a``<\n",
      "- `b`<\n",
      "- `b`<\n",
      "- `b`<\n",
      "- `b`<\n",
      "- `b`<\n",
      "- `b`<\n",
      "- `b`<\n",
      "- `b`<\n"
     ]
    }
   ],
   "source": [
    "from transformers import AutoTokenizer, AutoModelForCausalLM\n",
    "from langchain.embeddings import HuggingFaceEmbeddings\n",
    "from langchain.vectorstores import FAISS\n",
    "from langchain.document_loaders import TextLoader\n",
    "from langchain.text_splitter import CharacterTextSplitter\n",
    "import torch\n",
    "\n",
    "# 1. 문서 로드 및 텍스트 분리\n",
    "file_path = \"./extended_quadratic_equation_explanation.md\"\n",
    "documents = TextLoader(file_path, encoding=\"utf8\").load()\n",
    "\n",
    "# 텍스트 분리: 더 큰 문맥 크기를 사용 (chunk_size를 300으로 변경)\n",
    "text_splitter = CharacterTextSplitter(chunk_size=300, chunk_overlap=50)\n",
    "docs = text_splitter.split_documents(documents)\n",
    "\n",
    "# 2. 임베딩 및 FAISS DB 생성 (KoSimCSE 모델 명확히 설정)\n",
    "embeddings = HuggingFaceEmbeddings()\n",
    "db = FAISS.from_documents(docs, embeddings)\n",
    "\n",
    "# 3. 생성 모델 로드 (KoGPT 모델 사용)\n",
    "gpt_tokenizer = AutoTokenizer.from_pretrained(\"skt/kogpt2-base-v2\")\n",
    "gpt_model = AutoModelForCausalLM.from_pretrained(\"skt/kogpt2-base-v2\")\n",
    "\n",
    "\n",
    "# 4. RAG 방식으로 답변 생성 함수\n",
    "def generate_rag_answer(query):\n",
    "    # FAISS로 검색 수행 (가장 관련 있는 문서 검색, 검색 결과 수를 3개로 설정)\n",
    "    search_results = db.similarity_search(query, k=3)\n",
    "\n",
    "    if not search_results:\n",
    "        return \"관련된 문서를 찾을 수 없습니다.\"\n",
    "\n",
    "    # 검색된 문서들을 결합하여 문맥을 생성\n",
    "    context = \"\\n\".join([doc.page_content for doc in search_results])\n",
    "\n",
    "    # KoGPT 모델을 통해 답변 생성 (검색된 문서를 바탕으로 답변 생성)\n",
    "    input_text = (\n",
    "        f\"문서에서 검색된 내용을 바탕으로 질문에 답변하세요: {context} 질문: {query}\"\n",
    "    )\n",
    "    inputs = gpt_tokenizer.encode(input_text, return_tensors=\"pt\")\n",
    "\n",
    "    # GPU 사용 가능 여부 확인\n",
    "    device = \"cuda\" if torch.cuda.is_available() else \"cpu\"\n",
    "    gpt_model.to(device)\n",
    "    inputs = inputs.to(device)\n",
    "\n",
    "    # 모델을 통해 답변 생성\n",
    "    outputs = gpt_model.generate(\n",
    "        inputs,\n",
    "        max_length=500,\n",
    "        do_sample=True,\n",
    "        top_p=0.95,\n",
    "        top_k=60,\n",
    "        num_return_sequences=1,\n",
    "    )\n",
    "\n",
    "    # 최종 답변 반환\n",
    "    answer = gpt_tokenizer.decode(outputs[0], skip_special_tokens=True)\n",
    "    return answer\n",
    "\n",
    "\n",
    "# 5. 예시 질문\n",
    "query = input(\"질문을 입력해주세요: \")\n",
    "\n",
    "# 6. RAG 방식으로 질문에 대한 답변 생성\n",
    "answer = generate_rag_answer(query)\n",
    "print(answer)"
   ]
  }
 ],
 "metadata": {
  "kernelspec": {
   "display_name": "Python 3",
   "language": "python",
   "name": "python3"
  },
  "language_info": {
   "codemirror_mode": {
    "name": "ipython",
    "version": 3
   },
   "file_extension": ".py",
   "mimetype": "text/x-python",
   "name": "python",
   "nbconvert_exporter": "python",
   "pygments_lexer": "ipython3",
   "version": "3.9.20"
  }
 },
 "nbformat": 4,
 "nbformat_minor": 2
}
