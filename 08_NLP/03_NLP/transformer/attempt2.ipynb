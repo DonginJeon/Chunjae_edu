{
 "cells": [
  {
   "cell_type": "code",
   "execution_count": 1,
   "metadata": {},
   "outputs": [],
   "source": [
    "from transformers import pipeline"
   ]
  },
  {
   "cell_type": "code",
   "execution_count": 2,
   "metadata": {},
   "outputs": [
    {
     "name": "stderr",
     "output_type": "stream",
     "text": [
      "No model was supplied, defaulted to distilbert/distilroberta-base and revision fb53ab8 (https://huggingface.co/distilbert/distilroberta-base).\n",
      "Using a pipeline without specifying a model name and revision in production is not recommended.\n",
      "c:\\Users\\user\\Desktop\\Chunjae_edu\\.conda\\lib\\site-packages\\huggingface_hub\\file_download.py:147: UserWarning: `huggingface_hub` cache-system uses symlinks by default to efficiently store duplicated files but your machine does not support them in C:\\Users\\user\\.cache\\huggingface\\hub\\models--distilbert--distilroberta-base. Caching files will still work but in a degraded version that might require more space on your disk. This warning can be disabled by setting the `HF_HUB_DISABLE_SYMLINKS_WARNING` environment variable. For more details, see https://huggingface.co/docs/huggingface_hub/how-to-cache#limitations.\n",
      "To support symlinks on Windows, you either need to activate Developer Mode or to run Python as an administrator. In order to activate developer mode, see this article: https://docs.microsoft.com/en-us/windows/apps/get-started/enable-your-device-for-development\n",
      "  warnings.warn(message)\n"
     ]
    },
    {
     "name": "stdout",
     "output_type": "stream",
     "text": [
      "WARNING:tensorflow:From c:\\Users\\user\\Desktop\\Chunjae_edu\\.conda\\lib\\site-packages\\tf_keras\\src\\losses.py:2976: The name tf.losses.sparse_softmax_cross_entropy is deprecated. Please use tf.compat.v1.losses.sparse_softmax_cross_entropy instead.\n",
      "\n"
     ]
    },
    {
     "name": "stderr",
     "output_type": "stream",
     "text": [
      "Some weights of the model checkpoint at distilbert/distilroberta-base were not used when initializing RobertaForMaskedLM: ['roberta.pooler.dense.bias', 'roberta.pooler.dense.weight']\n",
      "- This IS expected if you are initializing RobertaForMaskedLM from the checkpoint of a model trained on another task or with another architecture (e.g. initializing a BertForSequenceClassification model from a BertForPreTraining model).\n",
      "- This IS NOT expected if you are initializing RobertaForMaskedLM from the checkpoint of a model that you expect to be exactly identical (initializing a BertForSequenceClassification model from a BertForSequenceClassification model).\n"
     ]
    }
   ],
   "source": [
    "model = pipeline(\"fill-mask\")"
   ]
  },
  {
   "cell_type": "code",
   "execution_count": 4,
   "metadata": {},
   "outputs": [
    {
     "data": {
      "text/plain": [
       "[{'score': 0.16532233357429504,\n",
       "  'token': 20980,\n",
       "  'token_str': ' Jedi',\n",
       "  'sequence': 'Anakin Skywalker killed the Jedi and finally brought balance to the force'},\n",
       " {'score': 0.087690569460392,\n",
       "  'token': 8636,\n",
       "  'token_str': ' enemy',\n",
       "  'sequence': 'Anakin Skywalker killed the enemy and finally brought balance to the force'},\n",
       " {'score': 0.059979397803545,\n",
       "  'token': 33922,\n",
       "  'token_str': ' Sith',\n",
       "  'sequence': 'Anakin Skywalker killed the Sith and finally brought balance to the force'},\n",
       " {'score': 0.05056058242917061,\n",
       "  'token': 7369,\n",
       "  'token_str': ' rebels',\n",
       "  'sequence': 'Anakin Skywalker killed the rebels and finally brought balance to the force'},\n",
       " {'score': 0.037738628685474396,\n",
       "  'token': 31918,\n",
       "  'token_str': ' Emperor',\n",
       "  'sequence': 'Anakin Skywalker killed the Emperor and finally brought balance to the force'}]"
      ]
     },
     "execution_count": 4,
     "metadata": {},
     "output_type": "execute_result"
    }
   ],
   "source": [
    "model(\"Anakin Skywalker killed the <mask> and finally brought balance to the force\")"
   ]
  },
  {
   "cell_type": "markdown",
   "metadata": {},
   "source": [
    "---"
   ]
  },
  {
   "cell_type": "markdown",
   "metadata": {},
   "source": [
    "# 실습\n",
    "### 노래 가사 단어 추천 프로그램"
   ]
  },
  {
   "cell_type": "code",
   "execution_count": 10,
   "metadata": {},
   "outputs": [
    {
     "data": {
      "text/plain": [
       "[{'score': 0.239606112241745,\n",
       "  'token': 20100,\n",
       "  'token_str': ' lonely',\n",
       "  'sequence': 'i walk a lonely road'},\n",
       " {'score': 0.09468507021665573,\n",
       "  'token': 10667,\n",
       "  'token_str': ' dirt',\n",
       "  'sequence': 'i walk a dirt road'},\n",
       " {'score': 0.05824877694249153,\n",
       "  'token': 31712,\n",
       "  'token_str': ' deserted',\n",
       "  'sequence': 'i walk a deserted road'},\n",
       " {'score': 0.04464828222990036,\n",
       "  'token': 27891,\n",
       "  'token_str': ' muddy',\n",
       "  'sequence': 'i walk a muddy road'},\n",
       " {'score': 0.04162126034498215,\n",
       "  'token': 31430,\n",
       "  'token_str': ' dusty',\n",
       "  'sequence': 'i walk a dusty road'}]"
      ]
     },
     "execution_count": 10,
     "metadata": {},
     "output_type": "execute_result"
    }
   ],
   "source": [
    "text_1 = input(\"앞부분을 입력하세요\")\n",
    "text_2 = input(\"뒷부분을 입력하세요\")\n",
    "text = text_1 + \" <mask> \" + text_2\n",
    "\n",
    "model(text)"
   ]
  },
  {
   "cell_type": "markdown",
   "metadata": {},
   "source": [
    "---"
   ]
  },
  {
   "cell_type": "code",
   "execution_count": 13,
   "metadata": {},
   "outputs": [
    {
     "name": "stderr",
     "output_type": "stream",
     "text": [
      "No model was supplied, defaulted to sshleifer/distilbart-cnn-12-6 and revision a4f8f3e (https://huggingface.co/sshleifer/distilbart-cnn-12-6).\n",
      "Using a pipeline without specifying a model name and revision in production is not recommended.\n"
     ]
    }
   ],
   "source": [
    "model_s = pipeline(\"summarization\")"
   ]
  },
  {
   "cell_type": "code",
   "execution_count": 14,
   "metadata": {},
   "outputs": [
    {
     "data": {
      "text/plain": [
       "[{'summary_text': \" 'Joker' explores the descent of Arthur Fleck, a mentally troubled man, into the chaotic persona of the Joker . The film is notable for its dark tone, psychological depth, and its departure from the traditional comic book movie formula . Joaquin Phoenix's performance captured the character’s descent from a lonely, mentally ill man to the infamous villain .\"}]"
      ]
     },
     "execution_count": 14,
     "metadata": {},
     "output_type": "execute_result"
    }
   ],
   "source": [
    "model_s(\n",
    "    \"\"\"\n",
    "'Joker' is a 2019 film centered around the iconic villain from DC Comics. It explores the descent of Arthur Fleck, a mentally troubled man, into the chaotic persona of the Joker. The film is set in the gritty, decaying city of Gotham in the 1980s, a time of political unrest, social inequality, and rampant crime. Arthur works as a party clown and struggles with severe mental health issues, including uncontrollable laughter due to a neurological condition. His life is a series of unfortunate events: he lives with his ailing mother, endures abuse and ridicule from society, and fails in his dream of becoming a stand-up comedian. As Arthur's life spirals downward, he begins to embrace violence and disorder, ultimately transforming into the Joker, a symbol of anarchy and rebellion. The film opens with Arthur being attacked on the street, which sets the tone for his mistreatment throughout the story. His sense of alienation deepens as he faces humiliation, whether it's at his clown job or his failed attempts at comedy. Gotham City itself plays a crucial role in the narrative, reflecting Arthur's growing despair. The city's social services are underfunded, leaving Arthur without access to his medication or therapy, and garbage piles up in the streets due to a workers' strike, symbolizing the city's decay. Arthur’s relationship with his mother, Penny, is central to his character. She is obsessed with Thomas Wayne, a wealthy businessman running for mayor, and believes Wayne will save them from their poverty. Arthur eventually uncovers the truth about his mother’s past, discovering that she was delusional and had fabricated the connection with Wayne, who in reality had abandoned them. This revelation, along with the discovery that he was adopted and abused as a child, drives Arthur deeper into madness. A pivotal moment in the film occurs when Arthur kills three wealthy men on a subway after they harass him. This act of violence becomes a turning point for Arthur, as he starts to embrace the power and recognition that come from his violent actions. The murders inadvertently spark a movement in Gotham, where the lower class begins to rise up against the elite, seeing the masked killer as a symbol of their struggle. Arthur’s transformation into the Joker accelerates as he is invited to appear on a late-night talk show hosted by Murray Franklin, a comedian he idolizes. However, Murray had previously mocked Arthur’s failed stand-up routine on live television. The film's climax takes place during the talk show, where Arthur confesses to the subway murders and criticizes society for ignoring people like him. He then shoots Murray live on air, causing chaos throughout Gotham. Riots break out in the streets, and Arthur, fully transformed into the Joker, is celebrated by the rioters as a hero. The film concludes with Arthur in a mental institution, laughing uncontrollably, suggesting that his final break from reality is complete. \"Joker\" is a character study that delves into themes of mental illness, societal neglect, and the consequences of systemic inequality. Joaquin Phoenix's portrayal of Arthur Fleck earned widespread acclaim, with his performance capturing the character’s descent from a lonely, mentally ill man to the infamous villain who thrives on chaos. The film is notable for its dark tone, psychological depth, and its departure from the traditional comic book movie formula, instead offering a raw and unsettling look at how society can contribute to the making of a villain.\"\"\"\n",
    ")"
   ]
  }
 ],
 "metadata": {
  "kernelspec": {
   "display_name": "Python 3",
   "language": "python",
   "name": "python3"
  },
  "language_info": {
   "codemirror_mode": {
    "name": "ipython",
    "version": 3
   },
   "file_extension": ".py",
   "mimetype": "text/x-python",
   "name": "python",
   "nbconvert_exporter": "python",
   "pygments_lexer": "ipython3",
   "version": "3.9.20"
  }
 },
 "nbformat": 4,
 "nbformat_minor": 2
}
