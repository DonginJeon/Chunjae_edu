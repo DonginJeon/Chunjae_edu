{
 "cells": [
  {
   "cell_type": "code",
   "execution_count": null,
   "metadata": {},
   "outputs": [],
   "source": [
    "import plotly.express as px\n",
    "\n",
    "\n",
    "#figure에 scatter plot 그리기\n",
    "fig = px.scatter(x=[1,2,3,4,5],y=[6,7,8,9,10])\n",
    "fig.show()\n"
   ]
  },
  {
   "cell_type": "code",
   "execution_count": null,
   "metadata": {},
   "outputs": [],
   "source": [
    "tips = px.data.tips()\n",
    "fig = px.scatter(\n",
    "    data_frame=tips,\n",
    "    x='total_bill',\n",
    "    y='tip'\n",
    "    )\n",
    "fig.show()"
   ]
  },
  {
   "cell_type": "code",
   "execution_count": null,
   "metadata": {},
   "outputs": [],
   "source": [
    "#그래프 스타일 수정\n",
    "fig = px.scatter(tips,x=\"total_bill\",y=\"tip\",color=\"time\")\n",
    "\n",
    "#그래프 레이아웃(figure) 수정\n",
    "\n",
    "fig.update_layout(\n",
    "    title = \"total_bill & tip\",\n",
    "    xaxis_title=\"청구금액($)\",\n",
    "    yaxis_title=\"팁($)\",\n",
    "    paper_bgcolor = \"skyblue\"\n",
    "\n",
    ")\n",
    "# 축에 대한 스타일 수정\n",
    "fig.update_xaxes(\n",
    "    title_text = \"X축 타이틀\",\n",
    "    showgrid = True,\n",
    "    gridwidth = 10\n",
    ")\n",
    "\n",
    "fig.update_yaxes(\n",
    "    title_text = \"y축 타이틀\",\n",
    "    showgrid = True,\n",
    "    gridwidth = 10\n",
    ")\n",
    "\n",
    "#마우스 오버 시 툴팁 스타일 수정\n",
    "fig.update_layout(\n",
    "    hoverlabel_bgcolor=\"green\",\n",
    "    hoverlabel_font_size =10,\n",
    "    hoverlabel_font_color =\"black\",\n",
    ")\n",
    "\n",
    "#커서 안내선\n",
    "fig.update_xaxes(\n",
    "    showspikes = True,\n",
    "    spikecolor = \"skyblue\",\n",
    "    \n",
    ")\n",
    "\n",
    "fig.update_yaxes(\n",
    "    showspikes = True,\n",
    "    spikecolor = \"skyblue\",\n",
    "    \n",
    ")\n",
    "\n",
    "\n",
    "fig.show()"
   ]
  },
  {
   "cell_type": "code",
   "execution_count": null,
   "metadata": {},
   "outputs": [],
   "source": [
    "# 스타일 템플릿 목록\n",
    "import plotly.io as pio\n",
    "# print(pio.templates)\n",
    "\n",
    "pio.templates.default = \"seaborn\"\n",
    "\n",
    "\n"
   ]
  },
  {
   "cell_type": "code",
   "execution_count": null,
   "metadata": {},
   "outputs": [],
   "source": [
    "tips = px.data.tips()\n",
    "\n",
    "fig = px.scatter(\n",
    "    data_frame=tips,\n",
    "    x='total_bill',\n",
    "    y='tip',\n",
    "    template=\"seaborn\"\n",
    "    )\n",
    "fig.show()"
   ]
  },
  {
   "cell_type": "code",
   "execution_count": null,
   "metadata": {},
   "outputs": [],
   "source": [
    "# 3D scatter plot\n",
    "import seaborn as sns\n",
    "penguins = sns.load_dataset('penguins')\n",
    "penguins = penguins.dropna(axis=\"index\",subset=[\"body_mass_g\"])\n",
    "\n",
    "px.scatter_3d(\n",
    "    data_frame=penguins,\n",
    "    x= \"bill_length_mm\",\n",
    "    y= \"bill_depth_mm\",\n",
    "    z=\"flipper_length_mm\",\n",
    "    color =\"species\",\n",
    "    symbol=\"island\",\n",
    "    size = \"body_mass_g\"\n",
    ")"
   ]
  },
  {
   "cell_type": "code",
   "execution_count": null,
   "metadata": {},
   "outputs": [],
   "source": [
    "#sunburst chart\n",
    "# 계층 구조 시각화 유용\n",
    "tips = px.data.tips()\n",
    "fig = px.sunburst(\n",
    "    data_frame=tips,\n",
    "    path= [\"day\"],\n",
    "    values= \"total_bill\",\n",
    ")\n",
    "\n",
    "fig.show()"
   ]
  },
  {
   "cell_type": "code",
   "execution_count": null,
   "metadata": {},
   "outputs": [],
   "source": [
    "#treemap\n",
    "tips = px.data.tips()\n",
    "fig = px.treemap(\n",
    "    data_frame=tips,\n",
    "    path= [\"day\",\"time\",\"smoker\"],\n",
    "    values= \"total_bill\",\n",
    ")\n",
    "print(tips[tips['day']==\"Sun\"])\n",
    "fig.show()"
   ]
  },
  {
   "cell_type": "code",
   "execution_count": null,
   "metadata": {},
   "outputs": [],
   "source": [
    "# Density heatmap\n",
    "# 두 변수에 대한 관계를 밀도\n",
    "\n",
    "fig = px.density_heatmap(tips, x=\"total_bill\", y=\"tip\")\n",
    "fig.show()"
   ]
  },
  {
   "cell_type": "code",
   "execution_count": null,
   "metadata": {},
   "outputs": [],
   "source": []
  },
  {
   "cell_type": "code",
   "execution_count": null,
   "metadata": {},
   "outputs": [],
   "source": [
    "#차트스튜디오\n",
    "import chart_studio\n",
    "from chart_studio.plotly import plot\n",
    "import plotly.express as px\n",
    "tips = px.data.tips()\n",
    "\n",
    "#접근을 위한 정보\n",
    "username = 'dongin'\n",
    "API_key = ''\n",
    "\n",
    "#접근을 위한 설정\n",
    "chart_studio.tools.set_credentials_file(\n",
    "    username=username,\n",
    "    api_key=API_key\n",
    ")\n",
    "\n",
    "\n",
    "fig = px.sunburst(\n",
    "    data_frame=tips,\n",
    "    path= [\"day\",\"time\",\"smoker\"],\n",
    "    values= \"total_bill\",\n",
    ")\n",
    "\n",
    "#plot(등록할 figure 객체, filename)\n",
    "plot(fig,filename=\"hello world\")"
   ]
  }
 ],
 "metadata": {
  "kernelspec": {
   "display_name": "base",
   "language": "python",
   "name": "python3"
  },
  "language_info": {
   "codemirror_mode": {
    "name": "ipython",
    "version": 3
   },
   "file_extension": ".py",
   "mimetype": "text/x-python",
   "name": "python",
   "nbconvert_exporter": "python",
   "pygments_lexer": "ipython3",
   "version": "3.12.4"
  }
 },
 "nbformat": 4,
 "nbformat_minor": 2
}
