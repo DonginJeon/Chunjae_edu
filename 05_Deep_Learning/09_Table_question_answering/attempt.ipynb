{
 "cells": [
  {
   "cell_type": "code",
   "execution_count": 2,
   "metadata": {},
   "outputs": [],
   "source": [
    "from transformers import pipeline\n",
    "import pandas as pd"
   ]
  },
  {
   "cell_type": "code",
   "execution_count": 3,
   "metadata": {},
   "outputs": [
    {
     "name": "stdout",
     "output_type": "stream",
     "text": [
      "WARNING:tensorflow:From c:\\Users\\user\\anaconda3\\Lib\\site-packages\\tf_keras\\src\\losses.py:2976: The name tf.losses.sparse_softmax_cross_entropy is deprecated. Please use tf.compat.v1.losses.sparse_softmax_cross_entropy instead.\n",
      "\n"
     ]
    },
    {
     "name": "stderr",
     "output_type": "stream",
     "text": [
      "c:\\Users\\user\\anaconda3\\Lib\\site-packages\\transformers\\tokenization_utils_base.py:1601: FutureWarning: `clean_up_tokenization_spaces` was not set. It will be set to `True` by default. This behavior will be depracted in transformers v4.45, and will be then set to `False` by default. For more details check this issue: https://github.com/huggingface/transformers/issues/31884\n",
      "  warnings.warn(\n"
     ]
    }
   ],
   "source": [
    "qa_model = pipeline(\n",
    "    task=\"table-question-answering\", model=\"dsba-lab/koreapas-finetuned-korwikitq\"\n",
    ")"
   ]
  },
  {
   "cell_type": "code",
   "execution_count": 9,
   "metadata": {},
   "outputs": [],
   "source": [
    "df = pd.read_csv(\"./dataset/python_exception.csv\")"
   ]
  },
  {
   "cell_type": "code",
   "execution_count": 10,
   "metadata": {},
   "outputs": [
    {
     "data": {
      "text/html": [
       "<div>\n",
       "<style scoped>\n",
       "    .dataframe tbody tr th:only-of-type {\n",
       "        vertical-align: middle;\n",
       "    }\n",
       "\n",
       "    .dataframe tbody tr th {\n",
       "        vertical-align: top;\n",
       "    }\n",
       "\n",
       "    .dataframe thead th {\n",
       "        text-align: right;\n",
       "    }\n",
       "</style>\n",
       "<table border=\"1\" class=\"dataframe\">\n",
       "  <thead>\n",
       "    <tr style=\"text-align: right;\">\n",
       "      <th></th>\n",
       "      <th>Error</th>\n",
       "      <th>설명</th>\n",
       "    </tr>\n",
       "  </thead>\n",
       "  <tbody>\n",
       "    <tr>\n",
       "      <th>0</th>\n",
       "      <td>AssertionError</td>\n",
       "      <td>assert 문이 실패할 때 발생하는 에러입니다. assert문은 주어진 조건이 거...</td>\n",
       "    </tr>\n",
       "    <tr>\n",
       "      <th>1</th>\n",
       "      <td>AttributeError</td>\n",
       "      <td>대상이 지원하지 않는 함수를 사용하려 할 때 발생하는 에러입니다. 예를 들어, 숫자...</td>\n",
       "    </tr>\n",
       "    <tr>\n",
       "      <th>2</th>\n",
       "      <td>EOFError</td>\n",
       "      <td>input() 함수가 데이터를 읽지 못한 상태에서 EOF (end-of-file) ...</td>\n",
       "    </tr>\n",
       "    <tr>\n",
       "      <th>3</th>\n",
       "      <td>FloatingPointError</td>\n",
       "      <td>현재 사용되지 않습니다.</td>\n",
       "    </tr>\n",
       "    <tr>\n",
       "      <th>4</th>\n",
       "      <td>GeneratorExit</td>\n",
       "      <td>제너레이터 또는 코루틴 이 닫힐 때 발생합니다</td>\n",
       "    </tr>\n",
       "    <tr>\n",
       "      <th>...</th>\n",
       "      <td>...</td>\n",
       "      <td>...</td>\n",
       "    </tr>\n",
       "    <tr>\n",
       "      <th>129</th>\n",
       "      <td>UnicodeTranslate</td>\n",
       "      <td>번역 중에 유니코드 관련 에러가 일어나면 발생합니다. UnicodeError 의 서...</td>\n",
       "    </tr>\n",
       "    <tr>\n",
       "      <th>130</th>\n",
       "      <td>Value</td>\n",
       "      <td>연산이나 함수가 올바른 형이지만 부적절한 값을 가진 인자를 받았고, 상황이 Inde...</td>\n",
       "    </tr>\n",
       "    <tr>\n",
       "      <th>131</th>\n",
       "      <td>ZeroDivision</td>\n",
       "      <td>나누기 또는 모듈로 연산의 두 번째 인자가 0일 때 발생합니다. 연관된 값은 피연산...</td>\n",
       "    </tr>\n",
       "    <tr>\n",
       "      <th>132</th>\n",
       "      <td>Windows</td>\n",
       "      <td>윈도우에서만 사용할 수 있습니다.</td>\n",
       "    </tr>\n",
       "    <tr>\n",
       "      <th>133</th>\n",
       "      <td>Syntax(message, details)</td>\n",
       "      <td>Raised when the parser encounters a syntax err...</td>\n",
       "    </tr>\n",
       "  </tbody>\n",
       "</table>\n",
       "<p>134 rows × 2 columns</p>\n",
       "</div>"
      ],
      "text/plain": [
       "                        Error  \\\n",
       "0              AssertionError   \n",
       "1              AttributeError   \n",
       "2                    EOFError   \n",
       "3          FloatingPointError   \n",
       "4               GeneratorExit   \n",
       "..                        ...   \n",
       "129          UnicodeTranslate   \n",
       "130                     Value   \n",
       "131              ZeroDivision   \n",
       "132                   Windows   \n",
       "133  Syntax(message, details)   \n",
       "\n",
       "                                                    설명  \n",
       "0    assert 문이 실패할 때 발생하는 에러입니다. assert문은 주어진 조건이 거...  \n",
       "1    대상이 지원하지 않는 함수를 사용하려 할 때 발생하는 에러입니다. 예를 들어, 숫자...  \n",
       "2    input() 함수가 데이터를 읽지 못한 상태에서 EOF (end-of-file) ...  \n",
       "3                                        현재 사용되지 않습니다.  \n",
       "4                            제너레이터 또는 코루틴 이 닫힐 때 발생합니다  \n",
       "..                                                 ...  \n",
       "129  번역 중에 유니코드 관련 에러가 일어나면 발생합니다. UnicodeError 의 서...  \n",
       "130  연산이나 함수가 올바른 형이지만 부적절한 값을 가진 인자를 받았고, 상황이 Inde...  \n",
       "131  나누기 또는 모듈로 연산의 두 번째 인자가 0일 때 발생합니다. 연관된 값은 피연산...  \n",
       "132                                 윈도우에서만 사용할 수 있습니다.  \n",
       "133  Raised when the parser encounters a syntax err...  \n",
       "\n",
       "[134 rows x 2 columns]"
      ]
     },
     "execution_count": 10,
     "metadata": {},
     "output_type": "execute_result"
    }
   ],
   "source": [
    "df = df.iloc[:, :-2]\n",
    "df"
   ]
  },
  {
   "cell_type": "code",
   "execution_count": 13,
   "metadata": {},
   "outputs": [
    {
     "data": {
      "text/plain": [
       "0"
      ]
     },
     "execution_count": 13,
     "metadata": {},
     "output_type": "execute_result"
    }
   ],
   "source": [
    "df.duplicated().sum()"
   ]
  },
  {
   "cell_type": "code",
   "execution_count": 6,
   "metadata": {},
   "outputs": [
    {
     "name": "stderr",
     "output_type": "stream",
     "text": [
      "c:\\Users\\user\\anaconda3\\Lib\\site-packages\\transformers\\models\\tapas\\tokenization_tapas.py:2673: FutureWarning: Series.__getitem__ treating keys as positions is deprecated. In a future version, integer keys will always be treated as labels (consistent with DataFrame behavior). To access a value by position, use `ser.iloc[pos]`\n",
      "  text = normalize_for_match(row[col_index].text)\n",
      "c:\\Users\\user\\anaconda3\\Lib\\site-packages\\transformers\\models\\tapas\\tokenization_tapas.py:1472: FutureWarning: Series.__getitem__ treating keys as positions is deprecated. In a future version, integer keys will always be treated as labels (consistent with DataFrame behavior). To access a value by position, use `ser.iloc[pos]`\n",
      "  cell = row[col_index]\n"
     ]
    },
    {
     "data": {
      "text/plain": [
       "{'answer': 'assert 문이 실패할 때 발생하는 에러입니다. assert문은 주어진 조건이 거짓인 경우 에러를 일으키는 함수이며, if 조건문과 같이 동작합니다. assert 함수는 주로 프로그램 점검을 할 때 이용됩니다.',\n",
       " 'coordinates': [(0, 1)],\n",
       " 'cells': ['assert 문이 실패할 때 발생하는 에러입니다. assert문은 주어진 조건이 거짓인 경우 에러를 일으키는 함수이며, if 조건문과 같이 동작합니다. assert 함수는 주로 프로그램 점검을 할 때 이용됩니다.']}"
      ]
     },
     "execution_count": 6,
     "metadata": {},
     "output_type": "execute_result"
    }
   ],
   "source": [
    "qa_model(query=\"AssertionError가 뭐여?\", table=df)"
   ]
  },
  {
   "cell_type": "code",
   "execution_count": 11,
   "metadata": {},
   "outputs": [
    {
     "data": {
      "text/plain": [
       "'ZeroDivisionError'"
      ]
     },
     "execution_count": 11,
     "metadata": {},
     "output_type": "execute_result"
    }
   ],
   "source": [
    "df.iloc[32, 0]"
   ]
  },
  {
   "cell_type": "code",
   "execution_count": 19,
   "metadata": {},
   "outputs": [],
   "source": [
    "def question():\n",
    "    question = input(\"질문을 입력해주세요\")\n",
    "    answer = qa_model(query=question, table=df)\n",
    "    if answer[\"answer\"] == \"\":\n",
    "        return \"질문에 대한 답을 찾지 못했습니다\"\n",
    "    elif answer[\"coordinates\"][0][-1] == 0:\n",
    "        answer2 = answer[\"answer\"]\n",
    "        return f\"\"\"질문이나 코드에서 파악한 에러의 이름은 {answer2} 입니다.\n",
    "    에러가 발생하는 원인은 다음과 같습니다: {df[df['Error'] == answer2]['설명'].iloc[0]}\"\"\"\n",
    "\n",
    "    else:\n",
    "        answer2 = answer[\"cells\"][0]\n",
    "        return answer2"
   ]
  },
  {
   "cell_type": "code",
   "execution_count": 21,
   "metadata": {},
   "outputs": [
    {
     "data": {
      "text/plain": [
       "'연산이나 함수가 올바른 형이지만 부적절한 값을 가진 인자를 받았고, 상황이 IndexError 처럼 더 구체적인 예외로 설명되지 않는 경우 발생합니다.'"
      ]
     },
     "execution_count": 21,
     "metadata": {},
     "output_type": "execute_result"
    }
   ],
   "source": [
    "question()"
   ]
  },
  {
   "cell_type": "code",
   "execution_count": null,
   "metadata": {},
   "outputs": [],
   "source": []
  }
 ],
 "metadata": {
  "kernelspec": {
   "display_name": "base",
   "language": "python",
   "name": "python3"
  },
  "language_info": {
   "codemirror_mode": {
    "name": "ipython",
    "version": 3
   },
   "file_extension": ".py",
   "mimetype": "text/x-python",
   "name": "python",
   "nbconvert_exporter": "python",
   "pygments_lexer": "ipython3",
   "version": "3.12.4"
  }
 },
 "nbformat": 4,
 "nbformat_minor": 2
}
