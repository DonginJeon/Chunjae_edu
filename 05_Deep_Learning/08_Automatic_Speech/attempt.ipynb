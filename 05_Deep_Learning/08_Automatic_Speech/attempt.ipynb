{
 "cells": [
  {
   "cell_type": "code",
   "execution_count": 1,
   "metadata": {},
   "outputs": [
    {
     "name": "stderr",
     "output_type": "stream",
     "text": [
      "c:\\Users\\user\\Desktop\\Chunjae_edu\\.conda\\lib\\site-packages\\tqdm\\auto.py:21: TqdmWarning: IProgress not found. Please update jupyter and ipywidgets. See https://ipywidgets.readthedocs.io/en/stable/user_install.html\n",
      "  from .autonotebook import tqdm as notebook_tqdm\n"
     ]
    }
   ],
   "source": [
    "from transformers import pipeline\n",
    "import os\n",
    "\n",
    "os.environ[\n",
    "    \"PATH\"\n",
    "] += \"C:/Users/user/AppData/Local/Microsoft/WinGet/Packages/Gyan.FFmpeg_Microsoft.Winget.Source_8wekyb3d8bbwe/ffmpeg-7.0.2-full_build/bin\"\n",
    "\n",
    "\n",
    "whisper_tiny = pipeline(\"automatic-speech-recognition\", \"openai/whisper-tiny\")\n",
    "whisper_large = pipeline(\"automatic-speech-recognition\", \"openai/whisper-large-v3\")"
   ]
  },
  {
   "cell_type": "code",
   "execution_count": 2,
   "metadata": {},
   "outputs": [
    {
     "name": "stderr",
     "output_type": "stream",
     "text": [
      "c:\\Users\\user\\Desktop\\Chunjae_edu\\.conda\\lib\\site-packages\\transformers\\models\\whisper\\generation_whisper.py:496: FutureWarning: The input name `inputs` is deprecated. Please make sure to use `input_features` instead.\n",
      "  warnings.warn(\n",
      "You have passed language=korean, but also have set `forced_decoder_ids` to [[1, None], [2, 50359]] which creates a conflict. `forced_decoder_ids` will be ignored in favor of language=korean.\n",
      "The attention mask is not set and cannot be inferred from input because pad token is same as eos token. As a consequence, you may observe unexpected behavior. Please pass your input's `attention_mask` to obtain reliable results.\n"
     ]
    },
    {
     "data": {
      "text/plain": [
       "{'text': ' 공굴 수 있는 미래를 위한 우리들의 외침 지금부터 시작하겠습니다. 여러분 초콜라 좋아하세요? 그럼 포동화 차리는요? 네, 저는 전부 좋아하는 음식들인데요. 특히 제가 초콜라에서 너무 너무 좋아해서 항상 가방 어딘가에 챙겨 놓을 정도입니다. 그런데 이 음식들이 조만간 쉽게 먹을 수 없는 사책품이 된다고 합니다. 왜 그럴까요? 기후밴으로 순었네 아프리카의 코코와 대배지가 사라지고 다른 장물들의 상황도 하기 시작하다고 합니다. 그런데 그냥 이렇게 생각하실 수 있어요. 초콜라까지가 안 먹으면 되지. 그런데 2020년 영향 질트로 목숨을 잃은 고생이면 어린이면 이 영 명 전 세계 인구에 3분의 1은 적절한 음식을 구하지 못하고 있습니다. 2차로운 기회 의견은 오프극의 공, 아프리카의 기립만의 생존을 위협하는 것이 아닌 인간에 생존마도 위협하고 있습니다. 제가 여러분에게 질문을 하나 더 해보겠습니다. 여러분들이 주게 될 날짜와 주게들이 요즘 하나만 알 수 있다면 여러분은 어떤 과줄 선택하실 건가요? 네, 다들 다양한 값판을 주셨는데요. 여러분의 선택이 무엇이든가는 여러분 어떻게 해서라도 죽음을 맞고자 하는 마음을 것입니다. 그렇다면 제가 통 크게 두 가지에 봐 모드를 알려드리겠습니다. 여러분 모두 2014년 기업연을 하고 싶게 됩니다. 지금 좀 눌렀고 다음스럽죠. 지금은 지금까지 좀 다섯 번에 대면을 겪고 왔는데요. 이 다섯 번에 대멜통의 원인이 모두 기유 변화였다는 사실 알고 계셨나요? 과학자들의 경고하는 기유 변화의 한계는 1.5도 그리고 그 시기는 2014년에 될 거라고 합니다. 우리는 지금 앞으로 20년 앞으로 다운 6번 때 대멜정을 기다리고 있는 것이죠. 그렇다면 대멜정을 막을 수 있는 방법은 없을까요? 지금 저의 질문에 대한 정답 또한 여러분들이 이미 알고 계십니다. 바로 탄소배치를 줄이는 것. 이미 정답을 알고 있는데 뭐가 문제인 걸까요? 국제 사회는 지난 30년 전 처음으로 기회에게 해결을 위한 국제적 역대를 약속했습니다. 그리고 구후, 수차라의 국제 회의가 협약을 만들었지만 약속을 지킨 나라는 없었습니다. 매년 폭염 한파 폭살등의 신기록을 기록하고 남극한 20도가 남었으며 북급의 비가는 절반에 사라졌습니다. 또한 전세계인구의 10%가 기회 남음인 신세가 되었습니다. 실천 없는 거창한 약속만으로는 지구를 지킬 수 없습니다. 이렇게 밀접되는 기성세대에게 경각증을 일ke여준 것은 다른만인 10대 청소년이었는데요. 스파이는 15세서녀 툰바이 그년은 매주 구매해 기유를 위한 분격업을 하고 수여진 판마를 들고 1인 21을 벌이면 기위기에 대응할 것을 초코하고 있습니다. 그녀의 웹침은 기회 핸동의 기폭제가 되어 전 세계에 청산한들을 움직이고 있는데요. 전 세계에 다양한 툰바이들은 거리로 나와 기우정이가 사회 정의 힘을 외치며 기성세대에게 당장 행동할 것을 요구하고 있습니다. 그들의 외침은 절박함을 담고 있습니다. 왜냐하면 그들이 기위기에 가장 큰 피해립게 될 미래세대이기 때문이죠. 이번 태드의 주제인 덕브라이던 이리스 아홀트원, 우리는 현재를 소유하고 있습니다. 하지만 미래도 소유할 수 있을까요? 현실이 된 기후 위기 속에서 수많은 투배대에게 미래는 없습니다. 현재 우리가 소유의 하는 것은 지구 환경이 아닌 그것을 지키기 위한 노력을 뿐입니다. 현재 소유 대상을 바꿀 때 우리는 꿈꿀 수 있는 미래를 소유할 수 있게 될 것입니다. 투발리가 극제회의에서 극제회의에서 기위기에 대한 경각심을 경과하던 그날 한국의 청소년들도 정부의 공원 기회대체들 비빤하며 국민청한 계집하네요 그로 올렸는데요 하지만 규들의 외침은 주목받지 못했습니다 한국 투발리 외침은 왜 주목받지 못했을까요 그 이유는 기위기에 대한 우리 사회 아니란 테더에서 찾을 수 있습니다 제대로 된 제도 계획이 아닌 풀려고 뽑기라던가 자원 재열용하계등 그냥 개인의 실청만으로 기회를 해결할 수 있다는 아니란해지기로 우리나라는 구체적인 원실가스 감증 묶어줬차 내놨지 못하고 있습니다 심지어 유행 기회를 변화해베게서는 온연전의 계획을 그냥 그대로 제출하며 어떤 행동도 하지 않는 국가 에 포함되고 나였습니다 그렇다면 이런 아니란 국가에서 벗어나 핸동하는 국가로 되게 위해 우리는 어떻게 해야 할까요? 목표를 높게 닿고 빠르게 핸동하라. 기후 외기는 구조적인 문제입니다. 사회 정부는의 관성을 뛰어납니다. 과감한 전환의 필요합니다. 국가원 실가스 감축 목표를 대폭산행하고 이를 위해 탄성림 경제로의 거치만 는 전환. 신제생 에너지 산업의 과감한 투자. 그리고 자연한 상태게 보관을 위해 행동해야 합니다. 투발리의 외침처럼 지금 행동하지 않으면 미래는 없습니다. 안전한 미래는 우리들의 걸리입니다. 1년품 차영 쪄리기, 체직 위즈의 식당 등 개인의 실천에서부터 시작하여 청소년 기후단체를 통해 우리의 외침을 하나로 모아야 할 때입니다. 마지막으로 다시 한 번 외침을 위해 이하기를 마무리하겠습니다. 목포일은 높게 잡고 빠르게 행동하라. 감사합니다.'}"
      ]
     },
     "execution_count": 2,
     "metadata": {},
     "output_type": "execute_result"
    }
   ],
   "source": [
    "whisper_tiny(\n",
    "    \"https://github.com/boringariel/python/raw/tmp/audio/data/%ED%95%9C%EA%B5%AD%EC%9D%98%20%ED%88%B0%EB%B2%A0%EB%A6%AC%EB%A5%BC%20%EB%A7%8C%EB%82%98%EB%9F%AC%20%EA%B0%80%EB%8A%94%20%EA%B8%B8%20%20Chaeeun%20Kim%20%20TEDxYouthMCH.mp3\",\n",
    "    generate_kwargs={\"language\": \"korean\"},\n",
    ")"
   ]
  },
  {
   "cell_type": "code",
   "execution_count": 3,
   "metadata": {},
   "outputs": [
    {
     "name": "stderr",
     "output_type": "stream",
     "text": [
      "You have passed language=korean, but also have set `forced_decoder_ids` to [[1, None], [2, 50360]] which creates a conflict. `forced_decoder_ids` will be ignored in favor of language=korean.\n"
     ]
    },
    {
     "data": {
      "text/plain": [
       "{'text': ' 꿈꿀 수 있는 미래를 위한 우리들의 외침 지금부터 시작하겠습니다. 여러분 초콜릿 좋아하세요? 네! 그럼 포도나 체리는요? 아니요! 네, 저는 전부 좋아하는 음식들인데요. 특히 제가 초콜릿을 너무너무 좋아해서 항상 가방 어딘가에 챙겨 놓을 정도입니다. 그런데 이 음식들이 조만간 쉽게 먹을 수 없는 사치품이 된다고 합니다. 왜 그럴까요? 기후변화로 수년 내에 아프리카의 코코아 재배지가 사라지고 다른 작물들의 상황 또한 비슷하다고 합니다. 그런데 그냥 이렇게 생각하실 수 있어요. 뭐 초콜릿? 까짓거 안 먹으면 되지. 그런데 2020년 영양실조로 목숨을 잃은 5세 미만 어린이는 2억 명, 전 세계 인구의 3분의 1은 적절한 음식을 구하지 못하고 있습니다. 이처럼 기후위기는 북극의 곰, 아프리카의 기린만의 생존을 위협하는 것이 아닌 인간의 생존마저 위협하고 있습니다 제가 여러분에게 질문을 하나 더 해보겠습니다 여러분들이 죽게 될 날짜와 죽게 될 이유 중 하나만 알 수 있다면 여러분은 어떤 것을 선택하실 건가요? 죽게 될 이유요! 다들 다양한 답변을 주셨는데요 여러분의 선택이 무엇이든 간에 여러분은 어떻게 해서라도 죽음을 막고자 하는 마음일 것입니다. 그렇다면 제가 통 크게 두 가지의 답 모두를 알려드리겠습니다. 여러분은 모두 2040년 기후변화로 죽게 됩니다. 지금 좀 놀랍고 당황스럽죠? 지구는 지금까지 총 5번의 대멸종을 겪어왔는데요. 이 5번의 대멸종의 원인이 모두 기후변화였다는 사실 알고 계셨나요? 아니요. 과학자들이 경고하는 기후변화의 한계는 1.5도, 그리고 그 시기는 2040년이 될 거라고 합니다. 우리는 지금 20년 앞으로 다가온 6번째 대멸종을 기다리고 있는 것이죠. 그렇다면 대멸종을 막을 수 있는 방법은 없을까요? 지금 저의 질문에 대한 정답 또한 여러분들이 이미 알고 계십니다 바로 탄소 배출을 줄이는 것 이미 정답을 알고 있는데 뭐가 문제인 걸까요? 국제사회는 지난 30년 전 처음으로 기후위기 해결을 위한 국제적 연대를 약속했습니다 그리고 그 후 수차례 국제회의와 협약을 만들었지만 약속을 지킨 나라는 없었습니다 매년 폭염, 한파, 폭설 등이 신기록을 기록하고 남극은 20도가 넘었으며 북극의 빙하는 절반이 사라졌습니다 또한 전 세계 인구의 10%가 기후난민 신세가 되었습니다 실천 없는 거창한 약속만으로는 지구를 지킬 수 없습니다 이렇게 미적되는 기성세대에게 경각심을 일깨워준 것은 다름 아닌 10대 청소년이었는데요 스페인의 15세 소녀 툰베리 그녀는 매주 금요일 기후를 위한 등교 거부 라고 쓰여진 팻말을 들고 1인 시위를 벌이며 기후위기에 대응할 것을 촉구하고 있습니다 그녀의 외침은 기후 행동의 기폭제가 되어 전 세계의 청소년들을 움직이고 있는데요 전 세계의 다양한 툰베리들은 거리로 나와 기후정의가 사회정의임을 외치며 기성세대에게 당장 행동할 것을 요구하고 있습니다. 그들의 외침은 절박함을 담고 있습니다. 왜냐하면 그들이 기후위기에 가장 큰 피해를 입게 될 미래세대이기 때문이죠. 이번 TED의 주제인 The Present It Is Our To Own 우리는 현재를 소유하고 있습니다. 하지만 미래도 소유할 수 있을까요? 현실이 된 기후위기 속에서 수많은 툰베리에게 미래는 없습니다. 현재 우리가 소유해야 하는 것은 지구 환경이 아닌 그것을 지키기 위한 노력일 뿐입니다. 현재의 소유 대상을 바꿀 때 우리는 꿈꿀 수 있는 미래를 소유할 수 있게 될 것입니다. 툰베리가 국제회의에서 기후위기에 대한 경각심을 경고하던 그날 한국의 청소년들도 정부의 공허한 기후대책을 비판하며 국민청원 게시판에 글을 올렸는데요. 하지만 그들의 외침은 주목받지 못했습니다. 한국 툰베리의 외침은 왜 주목받지 못했을까요? 그 이유는 기후위기에 대한 우리 사회의 안일한 태도에서 찾을 수 있습니다. 제대로 된 제도 개혁이 아닌 플러그 뽑기라던가 자원 재활용하기 등 그냥 개인의 실천만으로 기후위기를 해결할 수 있다는 안일한 인식으로 우리나라는 구체적인 온실가스 감축 목표조차 내놓지 못하고 있습니다. 심지어 유엔기후변화협약에서는 5년 전의 계획을 그냥 그대로 제출하며 어떤 행동도 하지 않는 국가에 포함되곤 하였습니다. 그렇다면 이런 안일한 국가에서 벗어나 행동하는 국가로 되기 위해 우리는 어떻게 해야 할까요? 목표를 높게 잡고 빠르게 행동하라. 기후 위기는 구조적인 문제입니다. 사회 전 분야의 관성을 뛰어넘는 과감한 전환이 필요합니다. 국가 온실가스 감축 목표를 대폭 상향하고 이를 위해 탄소 없는 경제로의 거침없는 전환, 신재생에너지 산업의 과감한 투자, 그리고 자연 생태계 복원을 위해 행동해야 합니다. 툰베리의 외침처럼 지금 행동하지 않으면 미래는 없습니다. 안전한 미래는 우리들의 권리입니다 일회용품 사용 줄이기, 채식 위주의 식단 등 개인의 실천에서부터 시작하여 청소년 기후단체를 통해 우리의 외침을 하나로 모여야 할 때입니다 마지막으로 다시 한번 외치며 저의 이야기를 마무리하겠습니다 목포열을 높게 잡고 빠르게 행동하라 감사합니다'}"
      ]
     },
     "execution_count": 3,
     "metadata": {},
     "output_type": "execute_result"
    }
   ],
   "source": [
    "whisper_large(\n",
    "    \"https://github.com/boringariel/python/raw/tmp/audio/data/%ED%95%9C%EA%B5%AD%EC%9D%98%20%ED%88%B0%EB%B2%A0%EB%A6%AC%EB%A5%BC%20%EB%A7%8C%EB%82%98%EB%9F%AC%20%EA%B0%80%EB%8A%94%20%EA%B8%B8%20%20Chaeeun%20Kim%20%20TEDxYouthMCH.mp3\",\n",
    "    generate_kwargs={\"language\": \"korean\"},\n",
    ")"
   ]
  },
  {
   "cell_type": "code",
   "execution_count": null,
   "metadata": {},
   "outputs": [],
   "source": [
    "from pydub import AudioSegment\n",
    "\n",
    "audio = AudioSegment.from_file(\"\")\n",
    "audio.export(\"\", format - \"mp3\")"
   ]
  },
  {
   "cell_type": "code",
   "execution_count": null,
   "metadata": {},
   "outputs": [],
   "source": [
    "whisper_large"
   ]
  }
 ],
 "metadata": {
  "kernelspec": {
   "display_name": "base",
   "language": "python",
   "name": "python3"
  },
  "language_info": {
   "codemirror_mode": {
    "name": "ipython",
    "version": 3
   },
   "file_extension": ".py",
   "mimetype": "text/x-python",
   "name": "python",
   "nbconvert_exporter": "python",
   "pygments_lexer": "ipython3",
   "version": "3.8.19"
  }
 },
 "nbformat": 4,
 "nbformat_minor": 2
}
