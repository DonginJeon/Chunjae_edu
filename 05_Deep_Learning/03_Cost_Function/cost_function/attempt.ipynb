{
 "cells": [
  {
   "cell_type": "code",
   "execution_count": 5,
   "metadata": {},
   "outputs": [],
   "source": [
    "# 패키지\n",
    "import tensorflow as tf\n",
    "import numpy as np\n",
    "\n",
    "from sklearn.metrics import mean_squared_error\n",
    "\n"
   ]
  },
  {
   "cell_type": "code",
   "execution_count": 40,
   "metadata": {},
   "outputs": [],
   "source": [
    "X = np.array([1,2,3,4], dtype=np.float32)\n",
    "y = np.array([3,5,7,9], dtype=np.float32)\n",
    "W, b = tf.Variable(0.0), tf.Variable(0.0)"
   ]
  },
  {
   "cell_type": "code",
   "execution_count": 42,
   "metadata": {},
   "outputs": [],
   "source": [
    "def linear_model(X):\n",
    "    return W*X+b"
   ]
  },
  {
   "cell_type": "code",
   "execution_count": 43,
   "metadata": {},
   "outputs": [],
   "source": [
    "def mse(y_true,y_pred):\n",
    "    return tf.reduce_mean(tf.square(y_true - y_pred))\n",
    "\n",
    "def rmse(y_true,y_pred):\n",
    "    return tf.sqrt(tf.reduce_mean(tf.square(y_true - y_pred)))\n",
    "\n",
    "def mae(y_true,y_pred):\n",
    "    return tf.reduce_mean(tf.abs(y_true - y_pred))\n",
    "\n",
    "\n",
    "# 보로드케스팅 가능. [2,3,4] -> [4,9,16]"
   ]
  },
  {
   "cell_type": "code",
   "execution_count": 44,
   "metadata": {},
   "outputs": [],
   "source": [
    "def cel(y_true,y_pred):\n",
    "    return (-1)*tf.reduce_mean(y_true*tf.math.log(y_pred)+(1-y_true)*tf.math.log(1-y_pred))"
   ]
  },
  {
   "cell_type": "code",
   "execution_count": 45,
   "metadata": {},
   "outputs": [],
   "source": [
    "optimizer = tf.optimizers.SGD(learning_rate=0.1)"
   ]
  },
  {
   "cell_type": "code",
   "execution_count": 46,
   "metadata": {},
   "outputs": [],
   "source": [
    "def train_step(X, y):\n",
    "    with tf.GradientTape() as tape:\n",
    "        y_pred = linear_model(X)\n",
    "        loss = mse(y, y_pred)\n",
    "    gradients = tape.gradient(loss, [W, b])\n",
    "    optimizer.apply_gradients(zip(gradients, [W, b]))\n",
    "    return loss"
   ]
  },
  {
   "cell_type": "code",
   "execution_count": 47,
   "metadata": {},
   "outputs": [],
   "source": [
    "def train_step_r(X, y):\n",
    "    with tf.GradientTape() as tape:\n",
    "        y_pred = linear_model(X)\n",
    "        loss = rmse(y, y_pred)\n",
    "    gradients = tape.gradient(loss, [W, b])\n",
    "    optimizer.apply_gradients(zip(gradients, [W, b]))\n",
    "    return loss"
   ]
  },
  {
   "cell_type": "code",
   "execution_count": 48,
   "metadata": {},
   "outputs": [],
   "source": [
    "def train_step_a(X, y):\n",
    "    with tf.GradientTape() as tape:\n",
    "        y_pred = linear_model(X)\n",
    "        loss = mae(y, y_pred)\n",
    "    gradients = tape.gradient(loss, [W, b])\n",
    "    optimizer.apply_gradients(zip(gradients, [W, b]))\n",
    "    return loss"
   ]
  },
  {
   "cell_type": "code",
   "execution_count": 49,
   "metadata": {},
   "outputs": [],
   "source": [
    "def train_step_cel(X1, y1):\n",
    "    with tf.GradientTape() as tape:\n",
    "        y_pred1 = linear_model(X1)\n",
    "        loss = cel(y1, y_pred1)\n",
    "    gradients = tape.gradient(loss, [W1, b1])\n",
    "    optimizer.apply_gradients(zip(gradients, [W1, b1]))\n",
    "    return loss"
   ]
  },
  {
   "cell_type": "code",
   "execution_count": 50,
   "metadata": {},
   "outputs": [
    {
     "name": "stdout",
     "output_type": "stream",
     "text": [
      "epoch : 0, loss : 41.0\n",
      "epoch : 100, loss : 3.141180786769837e-05\n",
      "epoch : 200, loss : 7.19508221891374e-08\n",
      "epoch : 300, loss : 1.6559908999624895e-10\n",
      "epoch : 400, loss : 5.115907697472721e-13\n",
      "epoch : 500, loss : 5.115907697472721e-13\n",
      "epoch : 600, loss : 5.115907697472721e-13\n",
      "epoch : 700, loss : 5.115907697472721e-13\n",
      "epoch : 800, loss : 5.115907697472721e-13\n",
      "epoch : 900, loss : 5.115907697472721e-13\n",
      "<tf.Variable 'Variable:0' shape=() dtype=float32, numpy=2.0000007>\n",
      "<tf.Variable 'Variable:0' shape=() dtype=float32, numpy=0.9999982>\n"
     ]
    }
   ],
   "source": [
    "for epoch in range(1000):\n",
    "    loss = train_step(X,y)\n",
    "    if epoch % 100 == 0:\n",
    "        print(f'epoch : {epoch}, loss : {loss}')\n",
    "\n",
    "print(W)\n",
    "print(b)\n"
   ]
  },
  {
   "cell_type": "code",
   "execution_count": 51,
   "metadata": {},
   "outputs": [
    {
     "name": "stdout",
     "output_type": "stream",
     "text": [
      "epoch : 0, loss : 7.152557373046875e-07\n",
      "epoch : 100, loss : 0.6547027230262756\n",
      "epoch : 200, loss : 0.6547015309333801\n",
      "epoch : 300, loss : 0.6547015309333801\n",
      "epoch : 400, loss : 0.6547015309333801\n",
      "epoch : 500, loss : 0.6547015309333801\n",
      "epoch : 600, loss : 0.6547015309333801\n",
      "epoch : 700, loss : 0.6547015309333801\n",
      "epoch : 800, loss : 0.6547015309333801\n",
      "epoch : 900, loss : 0.6547015309333801\n",
      "<tf.Variable 'Variable:0' shape=() dtype=float32, numpy=2.214497>\n",
      "<tf.Variable 'Variable:0' shape=() dtype=float32, numpy=1.0729556>\n"
     ]
    }
   ],
   "source": [
    "for epoch in range(1000):\n",
    "    loss = train_step_r(X,y)\n",
    "    if epoch % 100 == 0:\n",
    "        print(f'epoch : {epoch}, loss : {loss}')\n",
    "\n",
    "print(W)\n",
    "print(b)"
   ]
  },
  {
   "cell_type": "code",
   "execution_count": 57,
   "metadata": {},
   "outputs": [
    {
     "name": "stdout",
     "output_type": "stream",
     "text": [
      "epoch : 0, loss : 0.6091984510421753\n",
      "epoch : 10, loss : 0.6091984510421753\n",
      "epoch : 20, loss : 0.6091984510421753\n",
      "epoch : 30, loss : 0.6091984510421753\n",
      "epoch : 40, loss : 0.6091984510421753\n",
      "epoch : 50, loss : 0.6091984510421753\n",
      "epoch : 60, loss : 0.6091984510421753\n",
      "epoch : 70, loss : 0.6091984510421753\n",
      "epoch : 80, loss : 0.6091984510421753\n",
      "epoch : 90, loss : 0.6091984510421753\n",
      "epoch : 100, loss : 0.6091984510421753\n",
      "epoch : 110, loss : 0.6091984510421753\n",
      "epoch : 120, loss : 0.6091984510421753\n",
      "epoch : 130, loss : 0.6091984510421753\n",
      "epoch : 140, loss : 0.6091984510421753\n",
      "epoch : 150, loss : 0.6091984510421753\n",
      "epoch : 160, loss : 0.6091984510421753\n",
      "epoch : 170, loss : 0.6091984510421753\n",
      "epoch : 180, loss : 0.6091984510421753\n",
      "epoch : 190, loss : 0.6091984510421753\n",
      "epoch : 200, loss : 0.6091984510421753\n",
      "epoch : 210, loss : 0.6091984510421753\n",
      "epoch : 220, loss : 0.6091984510421753\n",
      "epoch : 230, loss : 0.6091984510421753\n",
      "epoch : 240, loss : 0.6091984510421753\n",
      "epoch : 250, loss : 0.6091984510421753\n",
      "epoch : 260, loss : 0.6091984510421753\n",
      "epoch : 270, loss : 0.6091984510421753\n",
      "epoch : 280, loss : 0.6091984510421753\n",
      "epoch : 290, loss : 0.6091984510421753\n",
      "<tf.Variable 'Variable:0' shape=() dtype=float32, numpy=2.214497>\n",
      "<tf.Variable 'Variable:0' shape=() dtype=float32, numpy=1.0729556>\n"
     ]
    }
   ],
   "source": [
    "for epoch in range(300):\n",
    "    loss = train_step_a(X,y)\n",
    "    if epoch % 10 == 0:\n",
    "        print(f'epoch : {epoch}, loss : {loss}')\n",
    "\n",
    "print(W)\n",
    "print(b)"
   ]
  },
  {
   "cell_type": "code",
   "execution_count": 11,
   "metadata": {},
   "outputs": [
    {
     "data": {
      "text/plain": [
       "<tf.Variable 'Variable:0' shape=() dtype=float32, numpy=2.0000007>"
      ]
     },
     "execution_count": 11,
     "metadata": {},
     "output_type": "execute_result"
    }
   ],
   "source": [
    "W"
   ]
  },
  {
   "cell_type": "code",
   "execution_count": 12,
   "metadata": {},
   "outputs": [
    {
     "data": {
      "text/plain": [
       "<tf.Variable 'Variable:0' shape=() dtype=float32, numpy=0.9999982>"
      ]
     },
     "execution_count": 12,
     "metadata": {},
     "output_type": "execute_result"
    }
   ],
   "source": [
    "b"
   ]
  },
  {
   "cell_type": "markdown",
   "metadata": {},
   "source": [
    "$y = 2x + 1$"
   ]
  },
  {
   "cell_type": "code",
   "execution_count": 61,
   "metadata": {},
   "outputs": [],
   "source": [
    "y_true = np.array([[0,1,0],[1,0,0],[0,1,0]])\n",
    "y_pred = np.array([[0.1,0.7,0.2],[0.8,0.1,0.15],[0.2,0.6,0.3]])"
   ]
  },
  {
   "cell_type": "code",
   "execution_count": 67,
   "metadata": {},
   "outputs": [
    {
     "data": {
      "text/plain": [
       "<tf.Tensor: shape=(), dtype=float64, numpy=0.41158148766423003>"
      ]
     },
     "execution_count": 67,
     "metadata": {},
     "output_type": "execute_result"
    }
   ],
   "source": [
    "tf.reduce_mean(tf.keras.losses.categorical_crossentropy(y_true,y_pred))"
   ]
  },
  {
   "cell_type": "code",
   "execution_count": 66,
   "metadata": {},
   "outputs": [
    {
     "data": {
      "text/plain": [
       "<tf.Tensor: shape=(), dtype=float64, numpy=0.21666666666666667>"
      ]
     },
     "execution_count": 66,
     "metadata": {},
     "output_type": "execute_result"
    }
   ],
   "source": [
    "# mae로 확인하면\n",
    "tf.reduce_mean(tf.abs(y_true-y_pred))"
   ]
  }
 ],
 "metadata": {
  "kernelspec": {
   "display_name": "base",
   "language": "python",
   "name": "python3"
  },
  "language_info": {
   "codemirror_mode": {
    "name": "ipython",
    "version": 3
   },
   "file_extension": ".py",
   "mimetype": "text/x-python",
   "name": "python",
   "nbconvert_exporter": "python",
   "pygments_lexer": "ipython3",
   "version": "3.12.4"
  }
 },
 "nbformat": 4,
 "nbformat_minor": 2
}
