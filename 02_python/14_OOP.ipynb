{
 "cells": [
  {
   "cell_type": "code",
   "execution_count": 16,
   "metadata": {},
   "outputs": [
    {
     "name": "stdout",
     "output_type": "stream",
     "text": [
      "Dongin 26 Earth\n",
      "저의 이름은Dongin이고, 나이는 29입니다\n"
     ]
    }
   ],
   "source": [
    "# 객체에 대한 설계\n",
    "# 객체 : 정보와 행동을 가진 존재\n",
    "# 정보와 행동을 설계(코드)\n",
    "# 설계도(코드 뭉치) == 클래스\n",
    "# 객체에 대한 정보(속성)와 행동(메서드)을 설계한 코드\n",
    "\n",
    "\n",
    "class Person:\n",
    "    # 생성자 메서드\n",
    "    # 객체를 생성할 때 실행되는 메서드\n",
    "\n",
    "    def __init__(self, name, age):\n",
    "        # 객체의 속성 == 인스턴스 변수\n",
    "        self.name = name\n",
    "        self.age = age\n",
    "        self.planet = \"Earth\"  # 괄호안에 없는 것도 이런식으로 지정하여 사용가능\n",
    "\n",
    "    # 인스턴스 메서드\n",
    "    # 인스턴스 고유의 함수(메서드), ex) append() pop() items()\n",
    "    # self : 첫 번째 매개변수 위치에 무조건 있어야한다\n",
    "    def introduce(self):\n",
    "        print(f\"저의 이름은{self.name}이고, 나이는 {self.age}입니다\")\n",
    "    \n",
    "    def birthday(self, add_age):\n",
    "        self.age = self.age + add_age\n",
    "\n",
    "# 객체 생성 방법\n",
    "person = Person(\"Dongin\", 26)\n",
    "print(person.name, person.age, person.planet)\n",
    "\n",
    "person.birthday(3)\n",
    "person.introduce()"
   ]
  },
  {
   "cell_type": "code",
   "execution_count": 21,
   "metadata": {},
   "outputs": [
    {
     "name": "stdout",
     "output_type": "stream",
     "text": [
      "Rose 4 red\n",
      "5\n",
      "black\n"
     ]
    }
   ],
   "source": [
    "class Flower:\n",
    "    def __init__(self, name, color, leaves):\n",
    "        self.name = name\n",
    "        self.color = color\n",
    "        self.leaves = leaves\n",
    "    \n",
    "    def bloowing(self):\n",
    "        self.leaves += 1\n",
    "        print(self.leaves)\n",
    "    \n",
    "    def change(self, changed_color):\n",
    "        self.color = changed_color\n",
    "        print(self.color)\n",
    "\n",
    "#인스턴스(객체) 생성\n",
    "f1 = Flower(\"Rose\", \"red\",4)\n",
    "print(f1.name,f1.leaves, f1.color)\n",
    "f1.bloowing()\n",
    "f1.change(\"black\")"
   ]
  }
 ],
 "metadata": {
  "kernelspec": {
   "display_name": "base",
   "language": "python",
   "name": "python3"
  },
  "language_info": {
   "codemirror_mode": {
    "name": "ipython",
    "version": 3
   },
   "file_extension": ".py",
   "mimetype": "text/x-python",
   "name": "python",
   "nbconvert_exporter": "python",
   "pygments_lexer": "ipython3",
   "version": "3.12.4"
  }
 },
 "nbformat": 4,
 "nbformat_minor": 2
}
