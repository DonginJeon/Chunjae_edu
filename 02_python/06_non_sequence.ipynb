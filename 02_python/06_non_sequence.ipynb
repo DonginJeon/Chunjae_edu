{
 "cells": [
  {
   "cell_type": "markdown",
   "metadata": {},
   "source": [
    "### 딕셔너리(사전형)\n",
    "\n",
    "- key-value의 쌍으로 이루어진 컨테이너 자료형\n",
    "- {}로 생성\n",
    "- :으로 구분\n",
    "- key값 작성시 수정이 불가능한 값만 가능(리스트는 불가)\n",
    "    - 튜플, 숫자형, 실수형 다 키값으로 가능(수정이 불가능)\n",
    "- 수정은 앞과 비슷하게 인덱싱을 통해 호출하고 원하는 값을 넣으면 수정됨\n",
    "    - 인덱스를 호출하고 \"\"(공백)을 넣으면 이것은 삭제가 아닌 수정, 즉 공백으로 value값이 수정이 됨\n",
    "- 주요 메서드\n",
    "    - 모든 key, value를 반환할때는 s를 붙여서 사용\n",
    "- get은 단순 호출과는 다르게 key값이 없는 것을 호출했을때 none으로 반환(오류 발생X) + 수정은 불가능"
   ]
  },
  {
   "cell_type": "code",
   "execution_count": null,
   "metadata": {},
   "outputs": [],
   "source": [
    "# 빈 딕셔너리 생성\n",
    "my_dict = {}\n",
    "\n",
    "# key-value 쌍이 있는 딕셔너리 생성\n",
    "my_dict = {\"여름\":\"덥다\"}"
   ]
  },
  {
   "cell_type": "code",
   "execution_count": null,
   "metadata": {},
   "outputs": [],
   "source": [
    "#1-3 주요 매서드\n",
    "변수.get(\"없는 것\",\"대신할 것\")"
   ]
  },
  {
   "cell_type": "markdown",
   "metadata": {},
   "source": [
    "### 집합(set) 자료형\n",
    "\n",
    "- 수학의 집합 개념을 프로그램적 개념으로 만든 것\n",
    "- 순서가 없는 중복된 값을 저장할 수 없음\n",
    "- {}를 통해 만들 수도 있고/ 변수 = set()을 통해 만들 수 도 있음.\n",
    "    * {}를 활용할 때는 비어있는 집합은 만들 수 없음\n",
    "- set은 중복자료를 받을 수 없음(오류는 발생X)\n",
    "- 삭제는 remove, discard로 가능하고 discard는 없는 값을 입력하더라도 오류없이 작동함  "
   ]
  },
  {
   "cell_type": "code",
   "execution_count": null,
   "metadata": {},
   "outputs": [],
   "source": [
    "#2-1"
   ]
  },
  {
   "cell_type": "markdown",
   "metadata": {},
   "source": [
    "### 멤버십 연산자\n",
    "\n",
    "- 딕셔너리 연산자\n",
    " - key를 기준으로 평가\n",
    " - value를 평가하고 싶으면 딕셔너리.values()로 평가하면 됨"
   ]
  }
 ],
 "metadata": {
  "language_info": {
   "name": "python"
  }
 },
 "nbformat": 4,
 "nbformat_minor": 2
}
