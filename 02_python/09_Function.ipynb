{
 "cells": [
  {
   "cell_type": "markdown",
   "metadata": {},
   "source": [
    "### 함수의 구조\n",
    "- def키워드\n",
    "    def 함수이름(매개변수1,매개변수2,...)\n",
    "\n",
    "- 내장함수\n",
    "- 매개변수와 반환값의 유무에 따른 분류\n",
    "    함수 : sorted(변수)- 반환값이 있어서 저장해서 사용가능\n",
    "    매서드 : 변수.sorted()- 반환값이 없어서 저장해서 사용불가\n",
    "-return을 만나면 함수의 작동이 멈추게 됨"
   ]
  },
  {
   "cell_type": "code",
   "execution_count": 1,
   "metadata": {},
   "outputs": [
    {
     "data": {
      "text/plain": [
       "5"
      ]
     },
     "execution_count": 1,
     "metadata": {},
     "output_type": "execute_result"
    }
   ],
   "source": [
    "##def 키워드\n",
    "# 함수 정의\n",
    "def add(n1, n2):\n",
    "    return n1 + n2\n",
    "\n",
    "\n",
    "# 함수 호출\n",
    "add(2, 3)"
   ]
  },
  {
   "cell_type": "code",
   "execution_count": null,
   "metadata": {},
   "outputs": [],
   "source": [
    "#문자가 저장된 리스트를 문자열로 변환\n",
    "string = \"hello\"\n",
    "sorted_string(sorted(string))\n"
   ]
  }
 ],
 "metadata": {
  "kernelspec": {
   "display_name": "base",
   "language": "python",
   "name": "python3"
  },
  "language_info": {
   "codemirror_mode": {
    "name": "ipython",
    "version": 3
   },
   "file_extension": ".py",
   "mimetype": "text/x-python",
   "name": "python",
   "nbconvert_exporter": "python",
   "pygments_lexer": "ipython3",
   "version": "3.12.4"
  }
 },
 "nbformat": 4,
 "nbformat_minor": 2
}
