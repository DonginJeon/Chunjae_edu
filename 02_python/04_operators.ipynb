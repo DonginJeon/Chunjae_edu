{
 "cells": [
  {
   "cell_type": "code",
   "execution_count": 1,
   "metadata": {},
   "outputs": [],
   "source": [
    "# 산술연산자"
   ]
  },
  {
   "cell_type": "code",
   "execution_count": 3,
   "metadata": {},
   "outputs": [
    {
     "name": "stdout",
     "output_type": "stream",
     "text": [
      "3\n"
     ]
    }
   ],
   "source": [
    "#복합대입연산자\n",
    "num1 = 1\n",
    "num2 = 2\n",
    "num1 += num2\n",
    "print(num1)"
   ]
  },
  {
   "cell_type": "markdown",
   "metadata": {},
   "source": [
    "##### 비교연산자\n",
    "###### 비교 연산자는 불린형으로 *평가*됨"
   ]
  },
  {
   "cell_type": "code",
   "execution_count": 10,
   "metadata": {},
   "outputs": [
    {
     "name": "stdout",
     "output_type": "stream",
     "text": [
      "True\n",
      "False\n",
      "True\n",
      "False\n"
     ]
    }
   ],
   "source": [
    "num1= 1\n",
    "num2= 1.0\n",
    "print(num1 == num2)\n",
    "print(num1 > num2)\n",
    "\n",
    "num1= 1\n",
    "num2= 1.0\n",
    "print(num2 == num1)\n",
    "\n",
    "num3= '1'\n",
    "print(num2 == num3)\n",
    "\n",
    "# 같은 숫자인데 정수형, 실수형이라면 true로 반환, 문자열이면 false\n"
   ]
  },
  {
   "cell_type": "markdown",
   "metadata": {},
   "source": [
    "## 비교연산자\n",
    "#### and\n",
    "#### or \n",
    "#### not\n"
   ]
  },
  {
   "cell_type": "code",
   "execution_count": 26,
   "metadata": {},
   "outputs": [
    {
     "name": "stdout",
     "output_type": "stream",
     "text": [
      "<class 'float'>\n",
      "<class 'str'>\n",
      "True\n",
      "False\n",
      "True\n",
      "False\n",
      "1\n"
     ]
    }
   ],
   "source": [
    "print(type(0.0))\n",
    "print(type(\"\"))\n",
    "print(not 0)\n",
    "print(not '0')\n",
    "print(not 0.0)\n",
    "print(not int(0.999999999999999999999))\n",
    "print(int(0.999999999999999999999))\n"
   ]
  },
  {
   "cell_type": "code",
   "execution_count": null,
   "metadata": {},
   "outputs": [],
   "source": []
  }
 ],
 "metadata": {
  "kernelspec": {
   "display_name": "base",
   "language": "python",
   "name": "python3"
  },
  "language_info": {
   "codemirror_mode": {
    "name": "ipython",
    "version": 3
   },
   "file_extension": ".py",
   "mimetype": "text/x-python",
   "name": "python",
   "nbconvert_exporter": "python",
   "pygments_lexer": "ipython3",
   "version": "3.12.4"
  }
 },
 "nbformat": 4,
 "nbformat_minor": 2
}
