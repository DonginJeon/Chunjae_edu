{
 "cells": [
  {
   "cell_type": "markdown",
   "metadata": {},
   "source": [
    "##리스트"
   ]
  },
  {
   "cell_type": "markdown",
   "metadata": {},
   "source": [
    "### 리스트 변수의 생성\n",
    "\n",
    "- ##### 리스트는 **대괄호**로 설정\n",
    "    - number = []\n",
    "- ##### 빈 리스트는 **거짓**(하나라도 값이 있으면 참)\n",
    "- ##### 리스트에 값을 저장할 때, 자료형의 구분이 없다."
   ]
  },
  {
   "cell_type": "markdown",
   "metadata": {},
   "source": [
    "### 리스트의 연산\n",
    "\n",
    "- ##### 덧셈\n",
    "    - ##### 두 개 이상의 리스트를 이어서 새로운 리스트를 생성\n",
    "- ##### 곱셈\n",
    "    - ##### 하나의 리스트를 곱한 수만큼 연결해서 새로운 리스트를 생성\n"
   ]
  },
  {
   "cell_type": "markdown",
   "metadata": {},
   "source": [
    "### 리스트의 인덱싱\n",
    "\n",
    "- ##### 시작은 0부터\n",
    "- ##### 음수 인덱싱 : 리스트의 값들을 반대로 찾음\n",
    "- ##### 리스트의 인덱싱을 활용한 값 수정(음수로도 가능)\n"
   ]
  },
  {
   "cell_type": "code",
   "execution_count": 28,
   "metadata": {},
   "outputs": [
    {
     "name": "stdout",
     "output_type": "stream",
     "text": [
      "5\n",
      "4\n",
      "3\n",
      "2\n",
      "1\n",
      "[1, 100, 3, 4, 5]\n"
     ]
    }
   ],
   "source": [
    "numbers = [1,2,3,4,5]\n",
    "for i in range(1,6):\n",
    "    print(numbers[-i])\n",
    "\n",
    "numbers[1]=100\n",
    "print(numbers)"
   ]
  },
  {
   "cell_type": "markdown",
   "metadata": {},
   "source": [
    "### 리스트의 슬라이싱\n",
    "\n",
    "- ##### numbers[start : end : step]\n",
    "- ##### start, end를 생략하고 step = -1이면 리스트가 뒤집힌다."
   ]
  },
  {
   "cell_type": "code",
   "execution_count": 30,
   "metadata": {},
   "outputs": [
    {
     "name": "stdout",
     "output_type": "stream",
     "text": [
      "[1, 2, 3]\n"
     ]
    }
   ],
   "source": [
    "numbers = [1,2,3,4,5]\n",
    "\n",
    "print(numbers[0:3])"
   ]
  },
  {
   "cell_type": "markdown",
   "metadata": {},
   "source": [
    "### 리스트에 원소 추가, 삭제\n",
    "\n",
    "- ##### 리스트.append(추가하고 싶은 원소) - 리스트가 가진 값을 추가\n",
    "- ##### 리스트.pop() - 리스트가 가진 값을 삭제\n",
    "- ##### 반환 : 특정기능을 수행하고 어떤 값을 돌려준다."
   ]
  },
  {
   "cell_type": "code",
   "execution_count": 46,
   "metadata": {},
   "outputs": [
    {
     "name": "stdout",
     "output_type": "stream",
     "text": [
      "[1, 2, 3, 4]\n"
     ]
    }
   ],
   "source": [
    "numbers = [1,2,3,4,5]\n",
    "numbers.pop()\n",
    "print(numbers)"
   ]
  },
  {
   "cell_type": "markdown",
   "metadata": {},
   "source": [
    "## 문자열"
   ]
  },
  {
   "cell_type": "markdown",
   "metadata": {},
   "source": [
    "### 문자열은 리스트와 유사하지만 원소의 삭제, 추가 등은 제한됨"
   ]
  },
  {
   "cell_type": "markdown",
   "metadata": {},
   "source": [
    "## 레인지\n",
    "- ### 연속된 정수의 목록을 생성해주는 기능(함수)\n",
    "- ### 리스트와 유사하게도 step이 -1이면 뒤집어주는 역할"
   ]
  },
  {
   "cell_type": "markdown",
   "metadata": {},
   "source": [
    "## 리스트 문자열 튜플 비교\n",
    "\n",
    "- 수정 가능 여부\n",
    "    - 리스트 가능\n",
    "    - 문자열 가능\n",
    "    - 튜플 불가능\n",
    "- 인덱싱\n",
    "    - 모두 가능\n",
    "- 슬라이싱\n",
    "    - 모두 가능\n",
    "- 값들의 자료형 일치 여부\n",
    "    - 리스트는 값들의 자료형이 달라도 된다\n",
    "    - 튜플도 값들의 자료형이 달라도 된다\n",
    "    - 문자열은 문자만 가능하다."
   ]
  },
  {
   "cell_type": "code",
   "execution_count": 47,
   "metadata": {},
   "outputs": [
    {
     "name": "stdout",
     "output_type": "stream",
     "text": [
      "<class 'list'>\n"
     ]
    }
   ],
   "source": [
    "print(type(numbers))"
   ]
  }
 ],
 "metadata": {
  "kernelspec": {
   "display_name": "base",
   "language": "python",
   "name": "python3"
  },
  "language_info": {
   "codemirror_mode": {
    "name": "ipython",
    "version": 3
   },
   "file_extension": ".py",
   "mimetype": "text/x-python",
   "name": "python",
   "nbconvert_exporter": "python",
   "pygments_lexer": "ipython3",
   "version": "3.12.4"
  }
 },
 "nbformat": 4,
 "nbformat_minor": 2
}
