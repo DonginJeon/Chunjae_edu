{
 "cells": [
  {
   "cell_type": "markdown",
   "metadata": {},
   "source": [
    "### 조건문\n",
    "\n",
    "- if 조건문의 기본 구조\n",
    "    if 조건:\n",
    "        조건의 평가 결과가 참이면 코드가 실행\n",
    "        코드 블럭 내부의 코드가 실행\n",
    "    elif 조건:\n",
    "        실행될 코드\n",
    "    else 조건:\n",
    "        위 조건들이 충족이 안되었을때 실행시킬 코드\n",
    "- 위의 경우는 한 뭉치의 조건문이지만 elif 대신 if를 써서 여러줄로 작성할 경우 작성한 수만큼의 뭉치가 생김\n",
    "- 조건 작성시 앞에서 배운 것을 활용하여 작성(비교 연산자와 논리 연산자를 섞어서 사용할 수도 있음)\n",
    "- 조건문 안에 조건문을 작성해도 괜찮다"
   ]
  },
  {
   "cell_type": "code",
   "execution_count": null,
   "metadata": {},
   "outputs": [],
   "source": [
    "#예제\n",
    "number= 21\n",
    "if number % 2 ==1 or number >10:\n",
    "    print(\"값이 홀수이거나 10보다 크다\")\n",
    "else:\n",
    "    print(\"값이 짝수이고 10보다 크지않다\")"
   ]
  }
 ],
 "metadata": {
  "language_info": {
   "name": "python"
  }
 },
 "nbformat": 4,
 "nbformat_minor": 2
}
