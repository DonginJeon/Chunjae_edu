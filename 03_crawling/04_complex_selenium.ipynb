{
 "cells": [
  {
   "cell_type": "code",
   "execution_count": 2,
   "metadata": {},
   "outputs": [
    {
     "name": "stdout",
     "output_type": "stream",
     "text": [
      "[{'상품명': '지클릭커 오피스프로 저소음 슬림 무선 키보드', '가격': '18,900원'}, {'상품명': '지클릭커 레트로 SPK 100 저소음 무선 블루투스 기계식 키보드', '가격': '59,500원'}, {'상품명': '지클릭커 오피스프로 WK30 움직이는 마카롱 슬림 라이트 저소음 무선 키보드', '가격': '17,800원'}, {'상품명': 'COX CK420 교체축 레인보우 LED 게이밍 기계식 키보드', '가격': '34,900원'}, {'상품명': 'QSENN SEM-DT35 NEW USB', '가격': '14,900원'}, {'상품명': '로지텍 K380', '가격': '27,540원'}, {'상품명': 'AULA F99 핫스왑 풀윤활', '가격': '71,500원'}, {'상품명': '앱코 K517 레트로 기계식 키보드', '가격': '42,900원'}, {'상품명': '엠스톤 그루브 GV10 수제풀윤활 104키 풀배열 기계식키보드 저소음밀키축 38g', '가격': '164,000원'}, {'상품명': '로지텍 K120 NEW Keyboard', '가격': '11,620원'}, {'상품명': '한성컴퓨터 GK898B PRO 염료승화 EDITION 8K 무접점키보드', '가격': '199,000원'}, {'상품명': '웨이코스 씽크웨이 X VGN TV99 유무선 99배열 기계식 키보드', '가격': '139,000원'}, {'상품명': '로지텍 MX KEYS S', '가격': '116,200원'}, {'상품명': '지클릭커 패드폰 저소음 무선 블루투스 키보드 WK40', '가격': '24,900원'}, {'상품명': '아이패드 블루투스키보드 무선 휴대용 애플 태블릿 PC 핸드폰 미니', '가격': '15,500원'}, {'상품명': '한성컴퓨터 TFG Cloud CF 3모드 듀얼 가스켓 기계식키보드', '가격': '111,200원'}, {'상품명': 'COX CK01 TKL 기계식 텐키리스 게이밍 키보드', '가격': '37,000원'}, {'상품명': '커세어 K70 RGB PRO 게이밍 기계식 키보드', '가격': '169,000원'}, {'상품명': 'COX CK87 게이트론 LED 게이밍 기계식', '가격': '42,900원'}, {'상품명': '앱코 K640 한영 축교환 레인보우LED 게이밍 방진축', '가격': '42,000원'}, {'상품명': '로지텍 K270 Wireless Keyboard', '가격': '20,460원'}, {'상품명': 'AULA F87 Pro 타란튤라 독거미 키보드 아우라 기계식 키보드 87키 그레이V4축', '가격': '19,990원'}, {'상품명': 'COX CY104', '가격': '58,000원'}, {'상품명': '로지텍 로지텍G G512 GX 기계식 게이밍 키보드', '가격': '98,880원'}, {'상품명': 'CHERRY MX BOARD 3.0S 게이밍 기계식 키보드', '가격': '103,550원'}, {'상품명': '앱코 K561 교체축 유무선 블루투스 기계식 키보드', '가격': '42,800원'}, {'상품명': '[국내정품 정발] AULA F98 독거미 키보드 무소음 적축 커스텀 풀윤활 보글보글 사무실 사무용 빙정축', '가격': '62,800원'}, {'상품명': '앱코 K660 ARC 프리미엄 카일광축 완전방수 레인보우 LED 게이밍 키보드', '가격': '57,000원'}, {'상품명': '사무실 저소음 키보드 무소음 멤브레인 키보드 사무용 레트로 키보드 게임용', '가격': '21,800원'}, {'상품명': '엠스톤 그루브스톤 GV10 수제윤활 크레용 GA (저소음밀키축 45g) 104키', '가격': '164,000원'}, {'상품명': '지클릭커 슈퍼 히어로 510X 게이밍 기계식 키보드', '가격': '32,800원'}, {'상품명': 'QSENN K1000 멤브레인 무선 키보드', '가격': '12,400원'}, {'상품명': 'AULA F99 독거미 키보드 타란튤라 아우라 기계식 키보드 99키 Leobog 그린축', '가격': '30,950원'}, {'상품명': '한성컴퓨터 GK787SE OfficeMaster 저소음 윤활 뽀송', '가격': '98,610원'}, {'상품명': '로지텍 SIGNATURE K855', '가격': '81,380원'}, {'상품명': '오아 무선 접이식 휴대용 블루투스 키보드', '가격': '37,800원'}, {'상품명': '프리플로우 Archon RE:AL HX', '가격': '132,000원'}, {'상품명': '앱코 K515 축교환 측면 RGB 라이팅 이중사출 게이밍 기계식 키보드', '가격': '40,900원'}, {'상품명': '엠스톤 그루브 GV8 수제 풀윤활 퀵스왑 87키 텐키리스 기계식키보드 저소음밀키축 45g', '가격': '159,000원'}, {'상품명': '다얼유 A104PRO 8K 유선 기계식 키보드 게이밍 스노우축', '가격': '129,000원'}]\n"
     ]
    }
   ],
   "source": [
    "from selenium import webdriver\n",
    "from selenium.webdriver.chrome.service import Service\n",
    "from webdriver_manager.chrome import ChromeDriverManager\n",
    "\n",
    "# 조건 설정을 위한 객체 호출\n",
    "from selenium.webdriver.common.by import By\n",
    "\n",
    "# 웹 페이지의 상호작용 객체\n",
    "from selenium.webdriver.common.action_chains import ActionChains\n",
    "\n",
    "# 키보드 객체\n",
    "from selenium.webdriver.common.keys import Keys\n",
    "\n",
    "# 프로그램 대기를 위한 time 객체\n",
    "import time\n",
    "\n",
    "import json\n",
    "\n",
    "\n",
    "service = Service(ChromeDriverManager().install())\n",
    "driver = webdriver.Chrome(service=service)\n",
    "keyword = \"키보드\"\n",
    "url = f\"https://search.shopping.naver.com/search/all?query={keyword}\"\n",
    "\n",
    "# 웹 페이지 열기\n",
    "driver.get(url)\n",
    "\n",
    "# 대기 메커니즘 코드\n",
    "driver.implicitly_wait(3)\n",
    "\n",
    "# 스크롤 내리기\n",
    "\n",
    "# ActionChain에 대한 객체 생성\n",
    "# webdriver 객체를 인자로 전달\n",
    "actions = ActionChains(driver)\n",
    "\n",
    "# 스크롤 다운 횟수\n",
    "scroll_count = 20\n",
    "\n",
    "# 키 누름 사이 대기 시간\n",
    "pause_time = 0.1\n",
    "\n",
    "product_name1 = []\n",
    "for _ in range(scroll_count):\n",
    "\n",
    "    # page down 키 누름 상호작용\n",
    "    actions.send_keys(Keys.PAGE_DOWN).perform()\n",
    "\n",
    "    # 키 누름 사이의 대기 시간\n",
    "    time.sleep(pause_time)\n",
    "\n",
    "product_list = driver.find_elements(By.CSS_SELECTOR, \"div.product_item__MDtDF\")\n",
    "\n",
    "#딕셔너리를 저장할 리스트\n",
    "data_list = []\n",
    "\n",
    "\n",
    "for product in product_list:\n",
    "    product_name = product.find_element(By.CSS_SELECTOR, \"a.product_link__TrAac.linkAnchor\")\n",
    "    product_price = product.find_element(By.CSS_SELECTOR, \"span.price_num__S2p_v\")\n",
    "    #print(product_name.text, product_price.text)\n",
    "    data = {\n",
    "        \"상품명\" : product_name.text ,\n",
    "        \"가격\" : product_price.text\n",
    "    }\n",
    "    data_list.append(data)\n",
    "\n",
    "print(data_list)\n",
    "    # product_name1.append(product_name.text)\n",
    "\n",
    "with open(\"naver.json\",\"w\") as file:\n",
    "    json.dump(data_list, file, indent=4,ensure_ascii=False)"
   ]
  },
  {
   "cell_type": "code",
   "execution_count": 49,
   "metadata": {},
   "outputs": [
    {
     "name": "stdout",
     "output_type": "stream",
     "text": [
      "[{'상품명': '지클릭커 오피스프로 저소음 슬림 무선 키보드', '가격': '18,900원'}, {'상품명': '지클릭커 레트로 SPK 100 저소음 무선 블루투스 기계식 키보드', '가격': '59,500원'}, {'상품명': '지클릭커 오피스프로 WK30 움직이는 마카롱 슬림 라이트 저소음 무선 키보드', '가격': '17,800원'}, {'상품명': 'COX CK420 교체축 레인보우 LED 게이밍 기계식 키보드', '가격': '34,900원'}, {'상품명': 'QSENN SEM-DT35 NEW USB', '가격': '14,900원'}, {'상품명': '로지텍 K380', '가격': '27,540원'}, {'상품명': 'AULA F99 핫스왑 풀윤활', '가격': '71,500원'}, {'상품명': '앱코 K517 레트로 기계식 키보드', '가격': '42,900원'}, {'상품명': '엠스톤 그루브 GV10 수제풀윤활 104키 풀배열 기계식키보드 저소음밀키축 38g', '가격': '164,000원'}, {'상품명': '로지텍 K120 NEW Keyboard', '가격': '11,620원'}, {'상품명': '한성컴퓨터 GK898B PRO 염료승화 EDITION 8K 무접점키보드', '가격': '199,000원'}, {'상품명': '웨이코스 씽크웨이 X VGN TV99 유무선 99배열 기계식 키보드', '가격': '139,000원'}, {'상품명': '로지텍 MX KEYS S', '가격': '116,200원'}, {'상품명': '지클릭커 패드폰 저소음 무선 블루투스 키보드 WK40', '가격': '24,900원'}, {'상품명': '아이패드 블루투스키보드 무선 휴대용 애플 태블릿 PC 핸드폰 미니', '가격': '15,500원'}, {'상품명': '한성컴퓨터 TFG Cloud CF 3모드 듀얼 가스켓 기계식키보드', '가격': '111,200원'}, {'상품명': 'COX CK01 TKL 기계식 텐키리스 게이밍 키보드', '가격': '37,000원'}, {'상품명': '커세어 K70 RGB PRO 게이밍 기계식 키보드', '가격': '169,000원'}, {'상품명': 'COX CK87 게이트론 LED 게이밍 기계식', '가격': '42,900원'}, {'상품명': '앱코 K640 한영 축교환 레인보우LED 게이밍 방진축', '가격': '42,000원'}, {'상품명': '로지텍 K270 Wireless Keyboard', '가격': '20,470원'}, {'상품명': 'AULA F87 Pro 타란튤라 독거미 키보드 아우라 기계식 키보드 87키 그레이V4축', '가격': '19,990원'}, {'상품명': 'COX CY104', '가격': '58,000원'}, {'상품명': '로지텍 로지텍G G512 GX 기계식 게이밍 키보드', '가격': '98,880원'}, {'상품명': 'CHERRY MX BOARD 3.0S 게이밍 기계식 키보드', '가격': '103,550원'}, {'상품명': '앱코 K561 교체축 유무선 블루투스 기계식 키보드', '가격': '42,800원'}, {'상품명': '오아 무선 접이식 휴대용 블루투스 키보드', '가격': '37,800원'}, {'상품명': '[국내정품 정발] AULA F98 독거미 키보드 무소음 적축 커스텀 풀윤활 보글보글 사무실 사무용 빙정축', '가격': '62,800원'}, {'상품명': '앱코 K660 ARC 프리미엄 카일광축 완전방수 레인보우 LED 게이밍 키보드', '가격': '57,000원'}, {'상품명': '사무실 저소음 키보드 무소음 멤브레인 키보드 사무용 레트로 키보드 게임용', '가격': '21,800원'}, {'상품명': '엠스톤 그루브스톤 GV10 수제윤활 크레용 GA (저소음밀키축 45g) 104키', '가격': '164,000원'}, {'상품명': '지클릭커 슈퍼 히어로 510X 게이밍 기계식 키보드', '가격': '32,800원'}, {'상품명': 'QSENN K1000 멤브레인 무선 키보드', '가격': '12,400원'}, {'상품명': 'AULA F99 독거미 키보드 타란튤라 아우라 기계식 키보드 99키 Leobog 그린축', '가격': '30,950원'}, {'상품명': '한성컴퓨터 GK787SE OfficeMaster 저소음 윤활 뽀송', '가격': '98,610원'}, {'상품명': '로지텍 SIGNATURE K855', '가격': '81,380원'}, {'상품명': '프리플로우 Archon RE:AL HX', '가격': '132,000원'}, {'상품명': '앱코 K515 축교환 측면 RGB 라이팅 이중사출 게이밍 기계식 키보드', '가격': '40,900원'}, {'상품명': '엠스톤 그루브 GV8 수제 풀윤활 퀵스왑 87키 텐키리스 기계식키보드 저소음밀키축 45g', '가격': '159,000원'}, {'상품명': '다얼유 A104PRO 8K 유선 기계식 키보드 게이밍 스노우축', '가격': '129,000원'}]\n"
     ]
    }
   ],
   "source": [
    "naver = []\n",
    "with open(\"naver.json\",\"r\") as file:\n",
    "    naver_data = json.load(file)\n",
    "\n",
    "print(naver_data)"
   ]
  },
  {
   "cell_type": "code",
   "execution_count": 39,
   "metadata": {},
   "outputs": [
    {
     "name": "stdout",
     "output_type": "stream",
     "text": [
      "change\n",
      "abilities\n",
      "inspirational\n",
      "aliteracy\n",
      "be-yourself\n",
      "adulthood\n",
      "life\n",
      "edison\n",
      "misattributed-eleanor-roosevelt\n",
      "humor\n"
     ]
    }
   ],
   "source": [
    "# CSS 실습\n",
    "from selenium import webdriver\n",
    "from selenium.webdriver.chrome.service import Service\n",
    "from webdriver_manager.chrome import ChromeDriverManager\n",
    "\n",
    "# 조건 설정을 위한 객체 호출\n",
    "from selenium.webdriver.common.by import By\n",
    "\n",
    "\n",
    "service = Service(ChromeDriverManager().install())\n",
    "driver = webdriver.Chrome(service=service)\n",
    "url = \"https://quotes.toscrape.com\"\n",
    "\n",
    "driver.implicitly_wait(10)\n",
    "\n",
    "# 웹 페이지 열기\n",
    "driver.get(url)\n",
    "\n",
    "quote_tags = driver.find_elements(By.CSS_SELECTOR, \"div.tags\")\n",
    "for tag_ in quote_tags:\n",
    "    tag_name = tag_.find_element(By.CSS_SELECTOR, \"a.tag\")\n",
    "    print(tag_name.text)"
   ]
  },
  {
   "cell_type": "code",
   "execution_count": 43,
   "metadata": {},
   "outputs": [],
   "source": [
    "import json\n",
    "\n",
    "data = [\n",
    "    {\"상품명\": \"선풍기\", \"가격\": \"30000원\"},\n",
    "    {\"상품명\": \"에어컨\", \"가격\": \"300000원\"},\n",
    "]\n",
    "\n",
    "# json 파일에 python객체를 저장\n",
    "# with 키워드\n",
    "\n",
    "with open(\"data.json\", \"w\") as file:\n",
    "    json.dump(data, file, indent=4,ensure_ascii=False)"
   ]
  },
  {
   "cell_type": "code",
   "execution_count": 42,
   "metadata": {},
   "outputs": [
    {
     "name": "stdout",
     "output_type": "stream",
     "text": [
      "[{'상품명': '선풍기', '가격': '30000원'}, {'상품명': '에어컨', '가격': '300000원'}]\n"
     ]
    }
   ],
   "source": [
    "python = []\n",
    "with open(\"data.json\",\"r\") as file:\n",
    "    python_data = json.load(file)\n",
    "\n",
    "print(python_data)"
   ]
  }
 ],
 "metadata": {
  "kernelspec": {
   "display_name": "base",
   "language": "python",
   "name": "python3"
  },
  "language_info": {
   "codemirror_mode": {
    "name": "ipython",
    "version": 3
   },
   "file_extension": ".py",
   "mimetype": "text/x-python",
   "name": "python",
   "nbconvert_exporter": "python",
   "pygments_lexer": "ipython3",
   "version": "3.12.4"
  }
 },
 "nbformat": 4,
 "nbformat_minor": 2
}
