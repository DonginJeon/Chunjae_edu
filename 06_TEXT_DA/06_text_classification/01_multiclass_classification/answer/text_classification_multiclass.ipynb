{
 "cells": [
  {
   "cell_type": "code",
   "execution_count": 1,
   "id": "9feb9fd7-038a-489f-8305-336774190b87",
   "metadata": {},
   "outputs": [],
   "source": [
    "import pandas as pd\n",
    "from sklearn.model_selection import train_test_split\n",
    "from sklearn.preprocessing import OneHotEncoder\n",
    "import numpy as np\n",
    "import pickle\n",
    "import matplotlib.pyplot as plt\n",
    "import re\n",
    "from konlpy.tag import Okt\n",
    "from tqdm import tqdm\n",
    "from tensorflow.keras.preprocessing.text import Tokenizer\n",
    "from tensorflow.keras.preprocessing.sequence import pad_sequences\n",
    "from tensorflow.keras.layers import Embedding, Dense, LSTM\n",
    "from tensorflow.keras.models import Sequential, load_model\n",
    "from tensorflow.keras.callbacks import EarlyStopping, ModelCheckpoint\n",
    "\n",
    "okt = Okt()\n",
    "enc = OneHotEncoder()\n",
    "tokenizer = Tokenizer()\n",
    "stopwords = [\n",
    "    \"의\",\n",
    "    \"가\",\n",
    "    \"이\",\n",
    "    \"은\",\n",
    "    \"들\",\n",
    "    \"는\",\n",
    "    \"좀\",\n",
    "    \"잘\",\n",
    "    \"걍\",\n",
    "    \"과\",\n",
    "    \"도\",\n",
    "    \"를\",\n",
    "    \"으로\",\n",
    "    \"자\",\n",
    "    \"에\",\n",
    "    \"와\",\n",
    "    \"한\",\n",
    "    \"하다\",\n",
    "]\n",
    "best_model_path = \"./best_model.keras\"\n",
    "\n",
    "vas = pd.read_csv(\"./vas.csv\", encoding=\"CP949\")\n",
    "\n",
    "\n",
    "def vas_remap(x):\n",
    "    if x <= 1:\n",
    "        return 0\n",
    "    elif x <= 4:\n",
    "        return 1\n",
    "    elif x <= 7:\n",
    "        return 2\n",
    "    return 3\n",
    "\n",
    "\n",
    "vas[\"vas\"] = vas[\"vas\"].apply(vas_remap)"
   ]
  },
  {
   "cell_type": "code",
   "execution_count": 2,
   "id": "7a51e3eb-2f25-4ad9-b310-7379865df05f",
   "metadata": {},
   "outputs": [
    {
     "name": "stderr",
     "output_type": "stream",
     "text": [
      "  0%|          | 0/724 [00:00<?, ?it/s]"
     ]
    },
    {
     "name": "stderr",
     "output_type": "stream",
     "text": [
      "100%|██████████| 724/724 [00:02<00:00, 316.24it/s]\n"
     ]
    }
   ],
   "source": [
    "input_array = np.array(vas[\"vas\"]).reshape(-1, 1)\n",
    "\n",
    "enc.fit(input_array)\n",
    "\n",
    "y_ori = enc.transform(input_array).toarray()\n",
    "\n",
    "X = []\n",
    "\n",
    "for sentence in tqdm(vas[\"symptom\"]):\n",
    "    tokenized_sentence = okt.morphs(sentence, stem=True)  # 토큰화\n",
    "    stopwords_removed_sentence = [\n",
    "        word for word in tokenized_sentence if not word in stopwords\n",
    "    ]  # 불용어 제거\n",
    "    X.append(stopwords_removed_sentence)\n",
    "\n",
    "X_train, X_test, y_train, y_test = train_test_split(\n",
    "    X, y_ori, random_state=12345, shuffle=True, test_size=0.1\n",
    ")\n",
    "\n",
    "tokenizer.fit_on_texts(X_train)"
   ]
  },
  {
   "cell_type": "code",
   "execution_count": 5,
   "id": "d286465a-5b78-4abe-afb0-30fd5d3373f3",
   "metadata": {},
   "outputs": [
    {
     "name": "stdout",
     "output_type": "stream",
     "text": [
      "단어 집합(vocabulary)의 크기 : 275\n",
      "등장 빈도가 2번 이하인 희귀 단어의 수: 171\n",
      "단어 집합에서 희귀 단어의 비율: 62.18181818181818\n",
      "전체 등장 빈도에서 희귀 단어 등장 빈도 비율: 17.19383617193836\n"
     ]
    }
   ],
   "source": [
    "threshold = 3\n",
    "total_cnt = len(tokenizer.word_index)  # 단어의 수\n",
    "rare_cnt = 0  # 등장 빈도수가 threshold보다 작은 단어의 개수를 카운트\n",
    "total_freq = 0  # 훈련 데이터의 전체 단어 빈도수 총 합\n",
    "rare_freq = 0  # 등장 빈도수가 threshold보다 작은 단어의 등장 빈도수의 총 합\n",
    "\n",
    "# 단어와 빈도수의 쌍(pair)을 key와 value로 받는다.\n",
    "for key, value in tokenizer.word_counts.items():\n",
    "    total_freq = total_freq + value\n",
    "\n",
    "    # 단어의 등장 빈도수가 threshold보다 작으면\n",
    "    if value < threshold:\n",
    "        rare_cnt = rare_cnt + 1\n",
    "        rare_freq = rare_freq + value\n",
    "\n",
    "print(\"단어 집합(vocabulary)의 크기 :\", total_cnt)\n",
    "print(\"등장 빈도가 %s번 이하인 희귀 단어의 수: %s\" % (threshold - 1, rare_cnt))\n",
    "print(\"단어 집합에서 희귀 단어의 비율:\", (rare_cnt / total_cnt) * 100)\n",
    "print(\"전체 등장 빈도에서 희귀 단어 등장 빈도 비율:\", (rare_freq / total_freq) * 100)"
   ]
  },
  {
   "cell_type": "code",
   "execution_count": 6,
   "id": "af948b41-f373-4fef-ad0d-bce27c401c0a",
   "metadata": {},
   "outputs": [
    {
     "name": "stdout",
     "output_type": "stream",
     "text": [
      "단어 집합의 크기 : 105\n"
     ]
    }
   ],
   "source": [
    "# 전체 단어 개수 중 빈도수 2이하인 단어는 제거.\n",
    "# 0번 패딩 토큰을 고려하여 + 1\n",
    "vocab_size = total_cnt - rare_cnt + 1\n",
    "print(\"단어 집합의 크기 :\", vocab_size)"
   ]
  },
  {
   "cell_type": "code",
   "execution_count": 7,
   "id": "0b6f45ef-8098-4e01-a95e-6a285c365ef5",
   "metadata": {},
   "outputs": [],
   "source": [
    "tokenizer = Tokenizer(vocab_size)\n",
    "tokenizer.fit_on_texts(X_train)\n",
    "X_train = tokenizer.texts_to_sequences(X_train)\n",
    "X_test = tokenizer.texts_to_sequences(X_test)"
   ]
  },
  {
   "cell_type": "code",
   "execution_count": 8,
   "id": "322944ac-9e02-4f84-9391-6408e97bb5ec",
   "metadata": {},
   "outputs": [
    {
     "name": "stdout",
     "output_type": "stream",
     "text": [
      "최대 길이 : 16\n",
      "평균 길이 : 9.723809523809523\n"
     ]
    },
    {
     "data": {
      "image/png": "[encoded data removed]",
      "text/plain": [
       "<Figure size 640x480 with 1 Axes>"
      ]
     },
     "metadata": {},
     "output_type": "display_data"
    }
   ],
   "source": [
    "# print('최대 길이 :',max(len(review) for review in X_train))\n",
    "# print('평균 길이 :',sum(map(len, X_train))/len(X_train))\n",
    "# plt.hist([len(review) for review in X_train], bins=50)\n",
    "# plt.xlabel('length of samples')\n",
    "# plt.ylabel('number of samples')\n",
    "# plt.show()"
   ]
  },
  {
   "cell_type": "code",
   "execution_count": 9,
   "id": "9b8ca3b5-508b-4a25-81b6-f39f1adaec06",
   "metadata": {},
   "outputs": [],
   "source": [
    "def below_threshold_len(max_len, nested_list):\n",
    "    count = 0\n",
    "    for sentence in nested_list:\n",
    "        if len(sentence) <= max_len:\n",
    "            count = count + 1\n",
    "    print(\n",
    "        \"전체 샘플 중 길이가 %s 이하인 샘플의 비율: %s\"\n",
    "        % (max_len, (count / len(nested_list)) * 100)\n",
    "    )"
   ]
  },
  {
   "cell_type": "code",
   "execution_count": 10,
   "id": "cd10d145-545d-4c82-a1b3-3dffc3b79a81",
   "metadata": {},
   "outputs": [
    {
     "name": "stdout",
     "output_type": "stream",
     "text": [
      "전체 샘플 중 길이가 30 이하인 샘플의 비율: 100.0\n"
     ]
    }
   ],
   "source": [
    "max_len = 30\n",
    "below_threshold_len(max_len, X_train)"
   ]
  },
  {
   "cell_type": "code",
   "execution_count": 11,
   "id": "97cc099c-1399-4e13-b013-f0feddfae562",
   "metadata": {},
   "outputs": [],
   "source": [
    "X_train = pad_sequences(X_train, maxlen=max_len)\n",
    "X_test = pad_sequences(X_test, maxlen=max_len)"
   ]
  },
  {
   "cell_type": "code",
   "execution_count": 12,
   "id": "4db82ad0-62d4-42a2-8548-5d86dd9e2ee9",
   "metadata": {},
   "outputs": [
    {
     "name": "stdout",
     "output_type": "stream",
     "text": [
      "Model: \"sequential\"\n",
      "_________________________________________________________________\n",
      " Layer (type)                Output Shape              Param #   \n",
      "=================================================================\n",
      " embedding (Embedding)       (None, None, 100)         10500     \n",
      "                                                                 \n",
      " lstm (LSTM)                 (None, 64)                42240     \n",
      "                                                                 \n",
      " dense (Dense)               (None, 4)                 260       \n",
      "                                                                 \n",
      "=================================================================\n",
      "Total params: 53000 (207.03 KB)\n",
      "Trainable params: 53000 (207.03 KB)\n",
      "Non-trainable params: 0 (0.00 Byte)\n",
      "_________________________________________________________________\n",
      "None\n",
      "Epoch 1/30\n",
      "1/3 [=========>....................] - ETA: 4s - loss: 1.3898 - acc: 0.0938\n",
      "Epoch 1: val_acc improved from -inf to 0.33333, saving model to C:/Users/user/Documents\\best_model.h5\n",
      "3/3 [==============================] - 3s 309ms/step - loss: 1.3857 - acc: 0.2143 - val_loss: 1.3796 - val_acc: 0.3333\n",
      "Epoch 2/30\n",
      "1/3 [=========>....................] - ETA: 0s - loss: 1.3787 - acc: 0.3125\n",
      "Epoch 2: val_acc did not improve from 0.33333\n",
      "3/3 [==============================] - 0s 35ms/step - loss: 1.3709 - acc: 0.4048 - val_loss: 1.3700 - val_acc: 0.2857\n",
      "Epoch 3/30\n",
      "1/3 [=========>....................] - ETA: 0s - loss: 1.3528 - acc: 0.3125"
     ]
    },
    {
     "name": "stderr",
     "output_type": "stream",
     "text": [
      "C:\\Users\\All Users\\anaconda3\\envs\\distilkobert\\lib\\site-packages\\keras\\src\\engine\\training.py:3000: UserWarning: You are saving your model as an HDF5 file via `model.save()`. This file format is considered legacy. We recommend using instead the native Keras format, e.g. `model.save('my_model.keras')`.\n",
      "  saving_api.save_model(\n"
     ]
    },
    {
     "name": "stdout",
     "output_type": "stream",
     "text": [
      "\n",
      "Epoch 3: val_acc did not improve from 0.33333\n",
      "3/3 [==============================] - 0s 38ms/step - loss: 1.3588 - acc: 0.3810 - val_loss: 1.3602 - val_acc: 0.2857\n",
      "Epoch 4/30\n",
      "1/3 [=========>....................] - ETA: 0s - loss: 1.3381 - acc: 0.3438\n",
      "Epoch 4: val_acc did not improve from 0.33333\n",
      "3/3 [==============================] - 0s 33ms/step - loss: 1.3380 - acc: 0.3571 - val_loss: 1.3515 - val_acc: 0.2857\n",
      "Epoch 5/30\n",
      "1/3 [=========>....................] - ETA: 0s - loss: 1.3219 - acc: 0.3125\n",
      "Epoch 5: val_acc did not improve from 0.33333\n",
      "3/3 [==============================] - 0s 31ms/step - loss: 1.3210 - acc: 0.3571 - val_loss: 1.3475 - val_acc: 0.2857\n",
      "Epoch 6/30\n",
      "1/3 [=========>....................] - ETA: 0s - loss: 1.3491 - acc: 0.2500\n",
      "Epoch 6: val_acc did not improve from 0.33333\n",
      "3/3 [==============================] - 0s 32ms/step - loss: 1.3133 - acc: 0.3571 - val_loss: 1.3493 - val_acc: 0.2857\n",
      "Epoch 7/30\n",
      "1/3 [=========>....................] - ETA: 0s - loss: 1.3089 - acc: 0.3438\n",
      "Epoch 7: val_acc did not improve from 0.33333\n",
      "3/3 [==============================] - 0s 33ms/step - loss: 1.2957 - acc: 0.3571 - val_loss: 1.3532 - val_acc: 0.2857\n",
      "Epoch 8/30\n",
      "1/3 [=========>....................] - ETA: 0s - loss: 1.2603 - acc: 0.3438\n",
      "Epoch 8: val_acc did not improve from 0.33333\n",
      "3/3 [==============================] - 0s 111ms/step - loss: 1.3001 - acc: 0.3571 - val_loss: 1.3480 - val_acc: 0.2857\n",
      "Epoch 9/30\n",
      "1/3 [=========>....................] - ETA: 0s - loss: 1.2352 - acc: 0.3750\n",
      "Epoch 9: val_acc did not improve from 0.33333\n",
      "3/3 [==============================] - 0s 33ms/step - loss: 1.2748 - acc: 0.3571 - val_loss: 1.3242 - val_acc: 0.2857\n",
      "Epoch 10/30\n",
      "1/3 [=========>....................] - ETA: 0s - loss: 1.2590 - acc: 0.3125\n",
      "Epoch 10: val_acc did not improve from 0.33333\n",
      "3/3 [==============================] - 0s 32ms/step - loss: 1.2734 - acc: 0.3690 - val_loss: 1.3032 - val_acc: 0.2857\n",
      "Epoch 11/30\n",
      "1/3 [=========>....................] - ETA: 0s - loss: 1.1939 - acc: 0.5000\n",
      "Epoch 11: val_acc improved from 0.33333 to 0.38095, saving model to C:/Users/user/Documents\\best_model.h5\n",
      "3/3 [==============================] - 0s 55ms/step - loss: 1.2482 - acc: 0.4405 - val_loss: 1.2881 - val_acc: 0.3810\n",
      "Epoch 12/30\n",
      "1/3 [=========>....................] - ETA: 0s - loss: 1.2097 - acc: 0.4688\n",
      "Epoch 12: val_acc improved from 0.38095 to 0.47619, saving model to C:/Users/user/Documents\\best_model.h5\n",
      "3/3 [==============================] - 0s 43ms/step - loss: 1.2336 - acc: 0.4881 - val_loss: 1.2680 - val_acc: 0.4762\n",
      "Epoch 13/30\n",
      "1/3 [=========>....................] - ETA: 0s - loss: 1.2506 - acc: 0.4375\n",
      "Epoch 13: val_acc did not improve from 0.47619\n",
      "3/3 [==============================] - 0s 36ms/step - loss: 1.2153 - acc: 0.4881 - val_loss: 1.2405 - val_acc: 0.4762\n",
      "Epoch 14/30\n",
      "1/3 [=========>....................] - ETA: 0s - loss: 1.0996 - acc: 0.6562\n",
      "Epoch 14: val_acc did not improve from 0.47619\n",
      "3/3 [==============================] - 0s 34ms/step - loss: 1.1599 - acc: 0.5595 - val_loss: 1.2009 - val_acc: 0.4762\n",
      "Epoch 15/30\n",
      "1/3 [=========>....................] - ETA: 0s - loss: 1.1589 - acc: 0.5000\n",
      "Epoch 15: val_acc improved from 0.47619 to 0.52381, saving model to C:/Users/user/Documents\\best_model.h5\n",
      "3/3 [==============================] - 0s 52ms/step - loss: 1.1465 - acc: 0.5714 - val_loss: 1.1473 - val_acc: 0.5238\n",
      "Epoch 16/30\n",
      "1/3 [=========>....................] - ETA: 0s - loss: 1.0956 - acc: 0.5938\n",
      "Epoch 16: val_acc improved from 0.52381 to 0.57143, saving model to C:/Users/user/Documents\\best_model.h5\n",
      "3/3 [==============================] - 0s 59ms/step - loss: 1.0476 - acc: 0.6310 - val_loss: 1.0743 - val_acc: 0.5714\n",
      "Epoch 17/30\n",
      "1/3 [=========>....................] - ETA: 0s - loss: 0.9927 - acc: 0.6875\n",
      "Epoch 17: val_acc did not improve from 0.57143\n",
      "3/3 [==============================] - 0s 44ms/step - loss: 1.0043 - acc: 0.6429 - val_loss: 0.9870 - val_acc: 0.5714\n",
      "Epoch 18/30\n",
      "3/3 [==============================] - ETA: 0s - loss: 0.9293 - acc: 0.7024\n",
      "Epoch 18: val_acc improved from 0.57143 to 0.61905, saving model to C:/Users/user/Documents\\best_model.h5\n",
      "3/3 [==============================] - 0s 58ms/step - loss: 0.9293 - acc: 0.7024 - val_loss: 0.9558 - val_acc: 0.6190\n",
      "Epoch 19/30\n",
      "1/3 [=========>....................] - ETA: 0s - loss: 1.0154 - acc: 0.6250\n",
      "Epoch 19: val_acc did not improve from 0.61905\n",
      "3/3 [==============================] - 0s 40ms/step - loss: 0.9822 - acc: 0.5595 - val_loss: 0.8756 - val_acc: 0.6190\n",
      "Epoch 20/30\n",
      "1/3 [=========>....................] - ETA: 0s - loss: 0.7390 - acc: 0.7500\n",
      "Epoch 20: val_acc did not improve from 0.61905\n",
      "3/3 [==============================] - 0s 40ms/step - loss: 0.8567 - acc: 0.6310 - val_loss: 0.8541 - val_acc: 0.6190\n",
      "Epoch 21/30\n",
      "3/3 [==============================] - ETA: 0s - loss: 0.8268 - acc: 0.6905\n",
      "Epoch 21: val_acc did not improve from 0.61905\n",
      "3/3 [==============================] - 0s 53ms/step - loss: 0.8268 - acc: 0.6905 - val_loss: 0.8464 - val_acc: 0.5714\n",
      "Epoch 22/30\n",
      "1/3 [=========>....................] - ETA: 0s - loss: 0.7891 - acc: 0.7188\n",
      "Epoch 22: val_acc did not improve from 0.61905\n",
      "3/3 [==============================] - 0s 42ms/step - loss: 0.7521 - acc: 0.7738 - val_loss: 0.8157 - val_acc: 0.5714\n",
      "Epoch 23/30\n",
      "1/3 [=========>....................] - ETA: 0s - loss: 0.7705 - acc: 0.8125\n",
      "Epoch 23: val_acc did not improve from 0.61905\n",
      "3/3 [==============================] - 0s 40ms/step - loss: 0.7490 - acc: 0.7500 - val_loss: 0.7872 - val_acc: 0.5714\n",
      "Epoch 24/30\n",
      "1/3 [=========>....................] - ETA: 0s - loss: 0.6939 - acc: 0.7812\n",
      "Epoch 24: val_acc did not improve from 0.61905\n",
      "3/3 [==============================] - 0s 43ms/step - loss: 0.6795 - acc: 0.7381 - val_loss: 0.7649 - val_acc: 0.5714\n",
      "Epoch 25/30\n",
      "1/3 [=========>....................] - ETA: 0s - loss: 0.5886 - acc: 0.7500\n",
      "Epoch 25: val_acc did not improve from 0.61905\n",
      "3/3 [==============================] - 0s 44ms/step - loss: 0.6640 - acc: 0.7024 - val_loss: 0.7320 - val_acc: 0.5714\n",
      "Epoch 26/30\n",
      "1/3 [=========>....................] - ETA: 0s - loss: 0.5797 - acc: 0.7188\n",
      "Epoch 26: val_acc did not improve from 0.61905\n",
      "3/3 [==============================] - 0s 37ms/step - loss: 0.5990 - acc: 0.7619 - val_loss: 0.7030 - val_acc: 0.5714\n",
      "Epoch 27/30\n",
      "1/3 [=========>....................] - ETA: 0s - loss: 0.6231 - acc: 0.7812\n",
      "Epoch 27: val_acc did not improve from 0.61905\n",
      "3/3 [==============================] - 0s 45ms/step - loss: 0.5798 - acc: 0.7857 - val_loss: 0.6973 - val_acc: 0.6190\n",
      "Epoch 28/30\n",
      "1/3 [=========>....................] - ETA: 0s - loss: 0.6027 - acc: 0.7500\n",
      "Epoch 28: val_acc improved from 0.61905 to 0.76190, saving model to C:/Users/user/Documents\\best_model.h5\n",
      "3/3 [==============================] - 0s 61ms/step - loss: 0.5063 - acc: 0.7976 - val_loss: 0.6665 - val_acc: 0.7619\n",
      "Epoch 29/30\n",
      "1/3 [=========>....................] - ETA: 0s - loss: 0.6213 - acc: 0.7500\n",
      "Epoch 29: val_acc did not improve from 0.76190\n",
      "3/3 [==============================] - 0s 34ms/step - loss: 0.5581 - acc: 0.8214 - val_loss: 0.6485 - val_acc: 0.7619\n",
      "Epoch 30/30\n",
      "1/3 [=========>....................] - ETA: 0s - loss: 0.5344 - acc: 0.7812\n",
      "Epoch 30: val_acc did not improve from 0.76190\n",
      "3/3 [==============================] - 0s 37ms/step - loss: 0.4997 - acc: 0.7857 - val_loss: 0.6505 - val_acc: 0.7619\n"
     ]
    }
   ],
   "source": [
    "embedding_dim = 100\n",
    "hidden_units = 128\n",
    "\n",
    "model = Sequential()\n",
    "model.add(Embedding(vocab_size, embedding_dim))\n",
    "model.add(LSTM(64, dropout=0.7, recurrent_dropout=0.7))\n",
    "model.add(Dense(4, activation=\"softmax\"))\n",
    "\n",
    "es = EarlyStopping(monitor=\"val_loss\", mode=\"min\", verbose=1, patience=4)\n",
    "mc = ModelCheckpoint(\n",
    "    best_model_path, monitor=\"val_acc\", mode=\"max\", verbose=1, save_best_only=True\n",
    ")\n",
    "\n",
    "model.compile(optimizer=\"adam\", loss=\"categorical_crossentropy\", metrics=[\"acc\"])\n",
    "print(model.summary())\n",
    "history = model.fit(\n",
    "    X_train, y_train, epochs=30, batch_size=32, validation_split=0.2, callbacks=[es, mc]\n",
    ")"
   ]
  },
  {
   "cell_type": "code",
   "execution_count": 13,
   "id": "c743bd8b-8f31-4eca-9643-92385bfc3afe",
   "metadata": {},
   "outputs": [
    {
     "name": "stdout",
     "output_type": "stream",
     "text": [
      "1/1 [==============================] - 0s 352ms/step - loss: 0.5699 - acc: 0.9167\n",
      "\n",
      " 테스트 정확도: 0.9167\n"
     ]
    }
   ],
   "source": [
    "loaded_model = load_model(best_model_path)\n",
    "print(\"\\n 테스트 정확도: %.4f\" % (loaded_model.evaluate(X_test, y_test)[1]))\n",
    "# UnicodeDecodeError: 'utf-8' codec can't decode byte 0xd5 in position 28: invalid continuation byte -> 경로에 띄어쓰기 등이 있으면 발생하는 에러"
   ]
  },
  {
   "cell_type": "code",
   "execution_count": 14,
   "id": "d6d696f4-17ea-4542-ac4b-88429d895efa",
   "metadata": {},
   "outputs": [],
   "source": [
    "# 토크나이저 백업\n",
    "with open(\"tokenizer.pickle\", \"wb\") as handle:\n",
    "    pickle.dump(tokenizer, handle)\n",
    "\n",
    "with open(\"tokenizer.pickle\", \"rb\") as handle:\n",
    "    tokenizer = pickle.load(handle)"
   ]
  },
  {
   "cell_type": "code",
   "execution_count": null,
   "id": "e6a5219b-8822-4c29-9deb-b16495c7a3bf",
   "metadata": {},
   "outputs": [],
   "source": []
  },
  {
   "cell_type": "code",
   "execution_count": 22,
   "id": "696afa20-d296-4334-be0f-528e0f124285",
   "metadata": {},
   "outputs": [
    {
     "data": {
      "image/png": "[encoded data removed]",
      "text/plain": [
       "<Figure size 640x480 with 1 Axes>"
      ]
     },
     "metadata": {},
     "output_type": "display_data"
    },
    {
     "data": {
      "image/png": "[encoded data removed]",
      "text/plain": [
       "<Figure size 640x480 with 1 Axes>"
      ]
     },
     "metadata": {},
     "output_type": "display_data"
    }
   ],
   "source": [
    "acc = history.history[\"acc\"]\n",
    "val_acc = history.history[\"val_acc\"]\n",
    "loss = history.history[\"loss\"]\n",
    "val_loss = history.history[\"val_loss\"]\n",
    "\n",
    "epochs = range(1, len(acc) + 1)\n",
    "\n",
    "plt.plot(epochs, acc, \"--\", label=\"Training acc\")\n",
    "plt.plot(epochs, val_acc, label=\"Validation acc\")\n",
    "plt.title(\"Training and validation accuracy\")\n",
    "plt.legend()\n",
    "\n",
    "plt.figure()\n",
    "\n",
    "plt.plot(epochs, loss, \"--\", label=\"Training loss\")\n",
    "plt.plot(epochs, val_loss, label=\"Validation loss\")\n",
    "plt.title(\"Training and validation loss\")\n",
    "plt.legend()\n",
    "\n",
    "plt.show()"
   ]
  },
  {
   "cell_type": "code",
   "execution_count": null,
   "id": "59361e07-9bd5-43ee-8546-e2e9745fdc51",
   "metadata": {},
   "outputs": [],
   "source": []
  },
  {
   "cell_type": "code",
   "execution_count": 16,
   "id": "b23f32e1-47e6-4403-b0e0-4f3f23a5537f",
   "metadata": {},
   "outputs": [
    {
     "data": {
      "text/html": [
       "<div>\n",
       "<style scoped>\n",
       "    .dataframe tbody tr th:only-of-type {\n",
       "        vertical-align: middle;\n",
       "    }\n",
       "\n",
       "    .dataframe tbody tr th {\n",
       "        vertical-align: top;\n",
       "    }\n",
       "\n",
       "    .dataframe thead th {\n",
       "        text-align: right;\n",
       "    }\n",
       "</style>\n",
       "<table border=\"1\" class=\"dataframe\">\n",
       "  <thead>\n",
       "    <tr style=\"text-align: right;\">\n",
       "      <th></th>\n",
       "      <th>symptom</th>\n",
       "      <th>vas</th>\n",
       "    </tr>\n",
       "  </thead>\n",
       "  <tbody>\n",
       "    <tr>\n",
       "      <th>0</th>\n",
       "      <td>아침에 깨어났을 때 치아에 전혀 문제가 없어요, 아무 느낌도 없습니다.</td>\n",
       "      <td>0</td>\n",
       "    </tr>\n",
       "    <tr>\n",
       "      <th>1</th>\n",
       "      <td>가끔 치아가 살짝 아릴 때가 있지만, 거의 주목하지 않아도 됩니다.</td>\n",
       "      <td>0</td>\n",
       "    </tr>\n",
       "    <tr>\n",
       "      <th>2</th>\n",
       "      <td>차가운 음료를 마실 때 가끔 치아가 미세하게 민감해집니다.</td>\n",
       "      <td>1</td>\n",
       "    </tr>\n",
       "    <tr>\n",
       "      <th>3</th>\n",
       "      <td>얼음을 먹으면 잠깐 치아가 아프지만, 곧 나아집니다.</td>\n",
       "      <td>1</td>\n",
       "    </tr>\n",
       "    <tr>\n",
       "      <th>4</th>\n",
       "      <td>씹을 때마다 가끔 어금니가 약간 불편하게 느껴집니다.</td>\n",
       "      <td>1</td>\n",
       "    </tr>\n",
       "    <tr>\n",
       "      <th>...</th>\n",
       "      <td>...</td>\n",
       "      <td>...</td>\n",
       "    </tr>\n",
       "    <tr>\n",
       "      <th>112</th>\n",
       "      <td>치아 통증이 너무 심해서 말하기도 힘들어요.</td>\n",
       "      <td>3</td>\n",
       "    </tr>\n",
       "    <tr>\n",
       "      <th>113</th>\n",
       "      <td>가끔 치아가 약간 아플 때가 있어요.</td>\n",
       "      <td>1</td>\n",
       "    </tr>\n",
       "    <tr>\n",
       "      <th>114</th>\n",
       "      <td>식사할 때마다 이가 불편하고 아파요.</td>\n",
       "      <td>2</td>\n",
       "    </tr>\n",
       "    <tr>\n",
       "      <th>115</th>\n",
       "      <td>치아에 지속적인 중간 정도의 통증이 있어요.</td>\n",
       "      <td>2</td>\n",
       "    </tr>\n",
       "    <tr>\n",
       "      <th>116</th>\n",
       "      <td>심한 치통으로 인해 먹기가 매우 어려워요.</td>\n",
       "      <td>2</td>\n",
       "    </tr>\n",
       "  </tbody>\n",
       "</table>\n",
       "<p>117 rows × 2 columns</p>\n",
       "</div>"
      ],
      "text/plain": [
       "                                     symptom  vas\n",
       "0    아침에 깨어났을 때 치아에 전혀 문제가 없어요, 아무 느낌도 없습니다.    0\n",
       "1      가끔 치아가 살짝 아릴 때가 있지만, 거의 주목하지 않아도 됩니다.    0\n",
       "2           차가운 음료를 마실 때 가끔 치아가 미세하게 민감해집니다.    1\n",
       "3              얼음을 먹으면 잠깐 치아가 아프지만, 곧 나아집니다.    1\n",
       "4              씹을 때마다 가끔 어금니가 약간 불편하게 느껴집니다.    1\n",
       "..                                       ...  ...\n",
       "112                 치아 통증이 너무 심해서 말하기도 힘들어요.    3\n",
       "113                     가끔 치아가 약간 아플 때가 있어요.    1\n",
       "114                     식사할 때마다 이가 불편하고 아파요.    2\n",
       "115                 치아에 지속적인 중간 정도의 통증이 있어요.    2\n",
       "116                  심한 치통으로 인해 먹기가 매우 어려워요.    2\n",
       "\n",
       "[117 rows x 2 columns]"
      ]
     },
     "execution_count": 16,
     "metadata": {},
     "output_type": "execute_result"
    }
   ],
   "source": [
    "vas"
   ]
  },
  {
   "cell_type": "code",
   "execution_count": 17,
   "id": "5ab07cd3-cf85-4e83-b09c-69c9873bda33",
   "metadata": {},
   "outputs": [
    {
     "name": "stdout",
     "output_type": "stream",
     "text": [
      "1/1 [==============================] - 0s 276ms/step\n"
     ]
    }
   ],
   "source": [
    "new_sentence = \"식사할 때마다 이가 불편하고 아파요.\"\n",
    "\n",
    "new_sentence = re.sub(r\"[^ㄱ-ㅎㅏ-ㅣ가-힣 ]\", \"\", new_sentence)\n",
    "new_sentence = okt.morphs(new_sentence, stem=True)  # 토큰화\n",
    "new_sentence = [word for word in new_sentence if not word in stopwords]  # 불용어 제거\n",
    "encoded = tokenizer.texts_to_sequences([new_sentence])  # 정수 인코딩\n",
    "pad_new = pad_sequences(encoded, maxlen=max_len)  # 패딩\n",
    "score = loaded_model.predict(pad_new)  # 예측"
   ]
  },
  {
   "cell_type": "code",
   "execution_count": 18,
   "id": "40d61606-d035-43c9-9c21-10a50e90c64c",
   "metadata": {},
   "outputs": [
    {
     "data": {
      "text/plain": [
       "array([[0.03706696, 0.2368438 , 0.7039124 , 0.02217695]], dtype=float32)"
      ]
     },
     "execution_count": 18,
     "metadata": {},
     "output_type": "execute_result"
    }
   ],
   "source": [
    "score"
   ]
  },
  {
   "cell_type": "code",
   "execution_count": 19,
   "id": "d3add7d5-b923-40b8-8154-3b287698e1d8",
   "metadata": {},
   "outputs": [
    {
     "data": {
      "text/plain": [
       "2"
      ]
     },
     "execution_count": 19,
     "metadata": {},
     "output_type": "execute_result"
    }
   ],
   "source": [
    "np.argmax(score)"
   ]
  },
  {
   "cell_type": "code",
   "execution_count": null,
   "id": "47657705-8094-4a56-b509-28c767ab42d4",
   "metadata": {},
   "outputs": [],
   "source": []
  },
  {
   "cell_type": "code",
   "execution_count": null,
   "id": "db438009-7c54-42d1-b370-df66bf9740a5",
   "metadata": {},
   "outputs": [],
   "source": []
  }
 ],
 "metadata": {
  "kernelspec": {
   "display_name": "Python 3",
   "language": "python",
   "name": "python3"
  },
  "language_info": {
   "codemirror_mode": {
    "name": "ipython",
    "version": 3
   },
   "file_extension": ".py",
   "mimetype": "text/x-python",
   "name": "python",
   "nbconvert_exporter": "python",
   "pygments_lexer": "ipython3",
   "version": "3.8.19"
  },
  "widgets": {
   "application/vnd.jupyter.widget-state+json": {
    "state": {},
    "version_major": 2,
    "version_minor": 0
   }
  }
 },
 "nbformat": 4,
 "nbformat_minor": 5
}
