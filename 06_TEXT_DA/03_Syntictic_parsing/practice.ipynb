{
 "cells": [
  {
   "cell_type": "markdown",
   "metadata": {},
   "source": [
    "# 실습 : 한국어 문법 문제 생성 프로그램 만들기\n",
    "- 입력 데이터(관리자) : 제공된 PDF파일, konlpy에서 제공하는 샘플 데이터, 한국어 구텐부르크 프로젝트, 크롤링 등(문자열로 여러 문장이 들어간 것)\n",
    "- 입력 데이터(사용자) : 문제의 정답\n",
    "- 출력 데이터 : 정오답 여부, 실제 정답\n",
    "- 문제를 여러 개 풀 수 있어야 함.(10문제씩은 풀 수 있게)\n",
    "- 한 차례 문제를 푼 뒤에는 총점을 확인할 수 있어야 함\n",
    "- 틀린 문제는 실제 정답이 무엇인지를 알 수 있어야 함\n",
    "- 일반 사용자가 사용한다고 가정하고 제작\n",
    "- 문제는 랜덤하게 출제되어야 함\n",
    "- 개발자가 아닌 관리자가 입력 데이터를 자유롭게 추가할 수 있어야함\n",
    "- 사용자가 입력한 답, 정오답 여부, 문제를 푼 시간, 출제된 문제 정보는 로그가 기록되어야 함."
   ]
  },
  {
   "cell_type": "markdown",
   "metadata": {},
   "source": [
    "패키지"
   ]
  },
  {
   "cell_type": "code",
   "execution_count": 1,
   "metadata": {},
   "outputs": [],
   "source": [
    "import spacy\n",
    "from spacy import displacy"
   ]
  },
  {
   "cell_type": "code",
   "execution_count": 2,
   "metadata": {},
   "outputs": [
    {
     "data": {
      "text/plain": [
       "CompletedProcess(args=['python', '-m', 'spacy', 'download', 'ko_core_news_sm'], returncode=0)"
      ]
     },
     "execution_count": 2,
     "metadata": {},
     "output_type": "execute_result"
    }
   ],
   "source": [
    "import subprocess\n",
    "\n",
    "# spacy ko_core_news_sm 모델 다운로드\n",
    "subprocess.run([\"python\", \"-m\", \"spacy\", \"download\", \"ko_core_news_sm\"])"
   ]
  },
  {
   "cell_type": "code",
   "execution_count": 3,
   "metadata": {},
   "outputs": [
    {
     "ename": "ModuleNotFoundError",
     "evalue": "No module named 'ckonlpy'",
     "output_type": "error",
     "traceback": [
      "\u001b[1;31m---------------------------------------------------------------------------\u001b[0m",
      "\u001b[1;31mModuleNotFoundError\u001b[0m                       Traceback (most recent call last)",
      "Cell \u001b[1;32mIn[3], line 2\u001b[0m\n\u001b[0;32m      1\u001b[0m \u001b[38;5;28;01mimport\u001b[39;00m \u001b[38;5;21;01mnltk\u001b[39;00m\n\u001b[1;32m----> 2\u001b[0m \u001b[38;5;28;01mfrom\u001b[39;00m \u001b[38;5;21;01mckonlpy\u001b[39;00m\u001b[38;5;21;01m.\u001b[39;00m\u001b[38;5;21;01mtag\u001b[39;00m \u001b[38;5;28;01mimport\u001b[39;00m Twitter\n",
      "\u001b[1;31mModuleNotFoundError\u001b[0m: No module named 'ckonlpy'"
     ]
    }
   ],
   "source": [
    "import nltk\n",
    "from ckonlpy.tag import Twitter"
   ]
  }
 ],
 "metadata": {
  "kernelspec": {
   "display_name": "Python 3",
   "language": "python",
   "name": "python3"
  },
  "language_info": {
   "codemirror_mode": {
    "name": "ipython",
    "version": 3
   },
   "file_extension": ".py",
   "mimetype": "text/x-python",
   "name": "python",
   "nbconvert_exporter": "python",
   "pygments_lexer": "ipython3",
   "version": "3.12.4"
  }
 },
 "nbformat": 4,
 "nbformat_minor": 2
}
