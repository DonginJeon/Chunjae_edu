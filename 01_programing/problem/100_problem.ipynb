{
 "cells": [
  {
   "cell_type": "markdown",
   "metadata": {},
   "source": [
    "## **[1] 데이터 불러오기**\n",
    "[movie_ratings.csv](https://prod-files-secure.s3.us-west-2.amazonaws.com/f2678325-6f7b-4a25-b188-86c42030d6d5/5884c8a4-2a89-4407-a8d6-7c18df7f177d/movie_ratings.csv)\n",
    "\n",
    "1. 파일을 불러와서 데이터프레임을 생성하세요."
   ]
  },
  {
   "cell_type": "markdown",
   "metadata": {},
   "source": [
    "## **[2] 데이터 확인하기**\n",
    "\n",
    "1. 데이터의 처음 5행과 마지막 5행을 출력하세요.\n",
    "2. 데이터의 구조, 즉 행과 열의 수를 출력하세요.\n",
    "3. 각 컬럼의 데이터 타입을 출력하세요."
   ]
  },
  {
   "cell_type": "markdown",
   "metadata": {},
   "source": [
    "## **[3] 범주형 자료 확인하기**\n",
    "\n",
    "1. 영화 장르(**`Genre`**) 컬럼의 유니크한 값과 각 장르별 영화 수를 출력하세요.\n",
    "2. 사용자의 직업(**`Occupation`**) 컬럼의 유니크한 값과 각 직업별 사용자 수를 출력하세요."
   ]
  },
  {
   "cell_type": "markdown",
   "metadata": {},
   "source": [
    "## [4] **수치형 자료 확인하기**\n",
    "\n",
    "1. 사용자 나이(**`Age`**) 컬럼의 평균, 최소값, 최대값을 출력하세요.\n",
    "2. 영화 평점(**`Rating`**) 컬럼에 대한 기술 통계량(평균, 표준편차, 최소값, 최대값, 사분위수)을 출력하세요."
   ]
  },
  {
   "cell_type": "code",
   "execution_count": null,
   "metadata": {},
   "outputs": [],
   "source": [
    "#test\n"
   ]
  }
 ],
 "metadata": {
  "language_info": {
   "name": "python"
  }
 },
 "nbformat": 4,
 "nbformat_minor": 2
}
