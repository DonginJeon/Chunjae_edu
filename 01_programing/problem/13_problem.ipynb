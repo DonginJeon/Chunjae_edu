{
 "cells": [
  {
   "cell_type": "markdown",
   "metadata": {},
   "source": [
    "## [1] 데이터 불러오기\n",
    "\n",
    "[movie_ratings.csv](https://prod-files-secure.s3.us-west-2.amazonaws.com/f2678325-6f7b-4a25-b188-86c42030d6d5/5884c8a4-2a89-4407-a8d6-7c18df7f177d/movie_ratings.csv)\n",
    "\n",
    "1. 파일을 불러와서 데이터프레임을 생성하세요."
   ]
  },
  {
   "cell_type": "code",
   "execution_count": 1,
   "metadata": {},
   "outputs": [
    {
     "name": "stdout",
     "output_type": "stream",
     "text": [
      "     UserID  MovieID  Rating  Age  Occupation    Genre\n",
      "0        45        8       4   55  Unemployed   Horror\n",
      "1        48        5       3   15    Engineer   Action\n",
      "2        65        4       2   55     Student  Romance\n",
      "3        68        6       5   45      Doctor   Comedy\n",
      "4        68        7       4   25    Engineer  Romance\n",
      "..      ...      ...     ...  ...         ...      ...\n",
      "495       4        4       4   50      Doctor   Action\n",
      "496      13       14       4   55     Student   Horror\n",
      "497      59        5       5   40     Student   Comedy\n",
      "498       2       20       3   40      Artist   Action\n",
      "499       1        7       2   20      Artist  Romance\n",
      "\n",
      "[500 rows x 6 columns]\n"
     ]
    }
   ],
   "source": [
    "import pandas as pd\n",
    "\n",
    "\n",
    "\n",
    "df = pd.read_csv(\"./data/movie_ratings.csv\")\n",
    "\n",
    "\n",
    "print(df)"
   ]
  },
  {
   "cell_type": "markdown",
   "metadata": {},
   "source": [
    "## **[2] 데이터 확인하기**\n",
    "\n",
    "1. 데이터의 처음 5행과 마지막 5행을 출력하세요.\n",
    "2. 데이터의 구조, 즉 행과 열의 수를 출력하세요.\n",
    "3. 각 컬럼의 데이터 타입을 출력하세요."
   ]
  },
  {
   "cell_type": "code",
   "execution_count": 5,
   "metadata": {},
   "outputs": [
    {
     "name": "stdout",
     "output_type": "stream",
     "text": [
      "   UserID  MovieID  Rating  Age  Occupation    Genre\n",
      "0      45        8       4   55  Unemployed   Horror\n",
      "1      48        5       3   15    Engineer   Action\n",
      "2      65        4       2   55     Student  Romance\n",
      "3      68        6       5   45      Doctor   Comedy\n",
      "4      68        7       4   25    Engineer  Romance      UserID  MovieID  Rating  Age Occupation    Genre\n",
      "495       4        4       4   50     Doctor   Action\n",
      "496      13       14       4   55    Student   Horror\n",
      "497      59        5       5   40    Student   Comedy\n",
      "498       2       20       3   40     Artist   Action\n",
      "499       1        7       2   20     Artist  Romance\n",
      "(500, 6)\n",
      "UserID         int64\n",
      "MovieID        int64\n",
      "Rating         int64\n",
      "Age            int64\n",
      "Occupation    object\n",
      "Genre         object\n",
      "dtype: object\n"
     ]
    }
   ],
   "source": [
    "# 1\n",
    "print(df.head(5), df.tail(5))\n",
    "\n",
    "# 2\n",
    "print(df.shape)\n",
    "\n",
    "# 3\n",
    "print(df.dtypes)"
   ]
  },
  {
   "cell_type": "markdown",
   "metadata": {},
   "source": [
    "## **[3] 범주형 자료 확인하기**\n",
    "\n",
    "1. 영화 장르(**`Genre`**) 컬럼의 유니크한 값과 각 장르별 영화 수를 출력하세요.\n",
    "2. 사용자의 직업(**`Occupation`**) 컬럼의 유니크한 값과 각 직업별 사용자 수를 출력하세요."
   ]
  },
  {
   "cell_type": "code",
   "execution_count": 11,
   "metadata": {},
   "outputs": [
    {
     "name": "stdout",
     "output_type": "stream",
     "text": [
      "장르 이름:['Horror' 'Action' 'Romance' 'Comedy' 'Drama']\n",
      "Genre\n",
      "Romance    119\n",
      "Drama      104\n",
      "Horror     101\n",
      "Action      94\n",
      "Comedy      82\n",
      "Name: count, dtype: int64\n",
      "사용자의 직업:['Unemployed' 'Engineer' 'Student' 'Doctor' 'Artist']\n",
      "Occupation\n",
      "Artist        108\n",
      "Engineer      104\n",
      "Doctor        102\n",
      "Unemployed     99\n",
      "Student        87\n",
      "Name: count, dtype: int64\n"
     ]
    }
   ],
   "source": [
    "# 1\n",
    "print(f\"장르 이름:{df['Genre'].unique()}\")\n",
    "print(df[\"Genre\"].value_counts())\n",
    "\n",
    "# 2\n",
    "print(f\"사용자의 직업:{df['Occupation'].unique()}\")\n",
    "print(df[\"Occupation\"].value_counts())"
   ]
  },
  {
   "cell_type": "markdown",
   "metadata": {},
   "source": [
    "## [4] **수치형 자료 확인하기**\n",
    "\n",
    "1. 사용자 나이(**`Age`**) 컬럼의 평균, 최소값, 최대값을 출력하세요.\n",
    "2. 영화 평점(**`Rating`**) 컬럼에 대한 기술 통계량(평균, 표준편차, 최소값, 최대값, 사분위수)을 출력하세요."
   ]
  },
  {
   "cell_type": "code",
   "execution_count": 21,
   "metadata": {},
   "outputs": [
    {
     "name": "stdout",
     "output_type": "stream",
     "text": [
      "평균: 38.52 최소값: 15 최대값: 60\n",
      "count    500.000000\n",
      "mean       2.998000\n",
      "std        1.434612\n",
      "min        1.000000\n",
      "25%        2.000000\n",
      "50%        3.000000\n",
      "75%        4.000000\n",
      "max        5.000000\n",
      "Name: Rating, dtype: float64\n"
     ]
    }
   ],
   "source": [
    "#1\n",
    "print(f\"평균: {df[\"Age\"].mean()} 최소값: {df[\"Age\"].min()} 최대값: {df[\"Age\"].max()}\")\n",
    "\n",
    "#2\n",
    "print(df[\"Rating\"].describe())"
   ]
  }
 ],
 "metadata": {
  "kernelspec": {
   "display_name": "base",
   "language": "python",
   "name": "python3"
  },
  "language_info": {
   "codemirror_mode": {
    "name": "ipython",
    "version": 3
   },
   "file_extension": ".py",
   "mimetype": "text/x-python",
   "name": "python",
   "nbconvert_exporter": "python",
   "pygments_lexer": "ipython3",
   "version": "3.12.4"
  }
 },
 "nbformat": 4,
 "nbformat_minor": 2
}
