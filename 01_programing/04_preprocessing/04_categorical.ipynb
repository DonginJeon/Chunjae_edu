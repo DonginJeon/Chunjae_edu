{
 "cells": [
  {
   "cell_type": "code",
   "execution_count": 3,
   "metadata": {},
   "outputs": [
    {
     "name": "stdout",
     "output_type": "stream",
     "text": [
      "     Brand     Model  Release\n",
      "0    Apple  iphone15     True\n",
      "1  Samsung  Galaxy24     True\n",
      "2    Apple  iphone16    False\n",
      "3   Xiaomi   Redme15     True\n",
      "4  Samsung  Galaxy23     True\n",
      "5   Xiaomi   Redme14     True\n",
      "6  Samsung  Galaxy25    False\n"
     ]
    }
   ],
   "source": [
    "import pandas as pd\n",
    "\n",
    "data = {\n",
    "    \"Brand\": [\n",
    "        \"Apple\",\n",
    "        \"Samsung\",\n",
    "        \"Apple\",\n",
    "        \"Xiaomi\",\n",
    "        \"Samsung\",\n",
    "        \"Xiaomi\",\n",
    "        \"Samsung\",\n",
    "    ],\n",
    "    \"Model\": [\n",
    "        \"iphone15\",\n",
    "        \"Galaxy24\",\n",
    "        \"iphone16\",\n",
    "        \"Redme15\",\n",
    "        \"Galaxy23\",\n",
    "        \"Redme14\",\n",
    "        \"Galaxy25\",\n",
    "    ],\n",
    "    \"Release\": [\n",
    "        True,\n",
    "        True,\n",
    "        False,\n",
    "        True,\n",
    "        True,\n",
    "        True,\n",
    "        False,\n",
    "    ],\n",
    "}\n",
    "df = pd.DataFrame(data)\n",
    "\n",
    "print(df)"
   ]
  },
  {
   "cell_type": "code",
   "execution_count": 4,
   "metadata": {},
   "outputs": [
    {
     "name": "stdout",
     "output_type": "stream",
     "text": [
      "['Apple' 'Samsung' 'Xiaomi']\n"
     ]
    }
   ],
   "source": [
    "#고유값 데이터 확인\n",
    "#series.unique()\n",
    "\n",
    "\n",
    "#열 브랜드의 고유값 출력\n",
    "print(df[\"Brand\"].unique())\n",
    "\n",
    "#데이터프레임 객체에는 unique() 사용X(열을 지정해야 사용가능)"
   ]
  },
  {
   "cell_type": "code",
   "execution_count": null,
   "metadata": {},
   "outputs": [],
   "source": [
    "#열의 각 고유값의 개수\n",
    "#series.value_counts()\n",
    "\n",
    "#열 브랜드의 고유값들이 각각 몇개인지 출력\n",
    "print(df[\"Brand\"].value_counts())\n",
    "\n",
    "#normalize = True, 고유값들의 비중 출력\n",
    "print(df[\"Brand\"].value_counts(normalize = True))\n",
    "\n",
    "\n"
   ]
  },
  {
   "cell_type": "code",
   "execution_count": 5,
   "metadata": {},
   "outputs": [
    {
     "name": "stdout",
     "output_type": "stream",
     "text": [
      "Brand      3\n",
      "Model      7\n",
      "Release    2\n",
      "dtype: int64\n"
     ]
    }
   ],
   "source": [
    "# 모든 열에 대한 고유한 값의 개수 -> 데이터프레임에 적용하겠다\n",
    "\n",
    "#brand,model,release 열의 고유값 개수\n",
    "print(df.nunique())\n"
   ]
  }
 ],
 "metadata": {
  "kernelspec": {
   "display_name": "base",
   "language": "python",
   "name": "python3"
  },
  "language_info": {
   "codemirror_mode": {
    "name": "ipython",
    "version": 3
   },
   "file_extension": ".py",
   "mimetype": "text/x-python",
   "name": "python",
   "nbconvert_exporter": "python",
   "pygments_lexer": "ipython3",
   "version": "3.12.4"
  }
 },
 "nbformat": 4,
 "nbformat_minor": 2
}
