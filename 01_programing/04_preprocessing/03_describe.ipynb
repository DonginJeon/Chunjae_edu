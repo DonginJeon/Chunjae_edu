{
 "cells": [
  {
   "cell_type": "code",
   "execution_count": 1,
   "metadata": {},
   "outputs": [
    {
     "data": {
      "text/html": [
       "<div>\n",
       "<style scoped>\n",
       "    .dataframe tbody tr th:only-of-type {\n",
       "        vertical-align: middle;\n",
       "    }\n",
       "\n",
       "    .dataframe tbody tr th {\n",
       "        vertical-align: top;\n",
       "    }\n",
       "\n",
       "    .dataframe thead th {\n",
       "        text-align: right;\n",
       "    }\n",
       "</style>\n",
       "<table border=\"1\" class=\"dataframe\">\n",
       "  <thead>\n",
       "    <tr style=\"text-align: right;\">\n",
       "      <th></th>\n",
       "      <th>Name</th>\n",
       "      <th>Position</th>\n",
       "      <th>Office</th>\n",
       "      <th>Age</th>\n",
       "      <th>Salary</th>\n",
       "    </tr>\n",
       "  </thead>\n",
       "  <tbody>\n",
       "    <tr>\n",
       "      <th>0</th>\n",
       "      <td>John Doe</td>\n",
       "      <td>Software Engineer</td>\n",
       "      <td>New York</td>\n",
       "      <td>28</td>\n",
       "      <td>95000</td>\n",
       "    </tr>\n",
       "    <tr>\n",
       "      <th>1</th>\n",
       "      <td>Jane Smith</td>\n",
       "      <td>Data Scientist</td>\n",
       "      <td>San Francisco</td>\n",
       "      <td>34</td>\n",
       "      <td>125000</td>\n",
       "    </tr>\n",
       "    <tr>\n",
       "      <th>2</th>\n",
       "      <td>Peter Jones</td>\n",
       "      <td>Project Manager</td>\n",
       "      <td>Berlin</td>\n",
       "      <td>45</td>\n",
       "      <td>75000</td>\n",
       "    </tr>\n",
       "  </tbody>\n",
       "</table>\n",
       "</div>"
      ],
      "text/plain": [
       "          Name           Position         Office  Age  Salary\n",
       "0     John Doe  Software Engineer       New York   28   95000\n",
       "1   Jane Smith     Data Scientist  San Francisco   34  125000\n",
       "2  Peter Jones    Project Manager         Berlin   45   75000"
      ]
     },
     "execution_count": 1,
     "metadata": {},
     "output_type": "execute_result"
    }
   ],
   "source": [
    "import pandas as pd\n",
    "\n",
    "data = {\n",
    "    \"Name\": [\n",
    "        \"John Doe\",\n",
    "        \"Jane Smith\",\n",
    "        \"Peter Jones\",\n",
    "        \"Linda Taylor\",\n",
    "        \"Emily Clark\",\n",
    "        \"David Smith\",\n",
    "        \"Michael Brown\",\n",
    "        \"Sarah Johnson\",\n",
    "    ],\n",
    "    \"Position\": [\n",
    "        \"Software Engineer\",\n",
    "        \"Data Scientist\",\n",
    "        \"Project Manager\",\n",
    "        \"HR Specialist\",\n",
    "        \"Data Scientist\",\n",
    "        \"Software Engineer\",\n",
    "        \"HR Specialist\",\n",
    "        \"Project Manager\",\n",
    "    ],\n",
    "    \"Office\": [\n",
    "        \"New York\",\n",
    "        \"San Francisco\",\n",
    "        \"Berlin\",\n",
    "        \"London\",\n",
    "        \"San Francisco\",\n",
    "        \"New York\",\n",
    "        \"London\",\n",
    "        \"Berlin\",\n",
    "    ],\n",
    "    \"Age\": [28, 34, 45, 32, 30, 38, 41, 29],\n",
    "    \"Salary\": [95000, 125000, 75000, 85000, 115000, 105000, 90000, 80000],\n",
    "}\n",
    "\n",
    "df = pd.DataFrame(data)\n",
    "\n",
    "df.head(3)"
   ]
  },
  {
   "cell_type": "code",
   "execution_count": 3,
   "metadata": {},
   "outputs": [
    {
     "name": "stdout",
     "output_type": "stream",
     "text": [
      "           Name           Position         Office  Age  Salary\n",
      "0      John Doe  Software Engineer       New York   28   95000\n",
      "1    Jane Smith     Data Scientist  San Francisco   34  125000\n",
      "2   Peter Jones    Project Manager         Berlin   45   75000\n",
      "3  Linda Taylor      HR Specialist         London   32   85000\n",
      "4   Emily Clark     Data Scientist  San Francisco   30  115000\n",
      "          Name           Position         Office  Age  Salary\n",
      "0     John Doe  Software Engineer       New York   28   95000\n",
      "1   Jane Smith     Data Scientist  San Francisco   34  125000\n",
      "2  Peter Jones    Project Manager         Berlin   45   75000\n",
      "            Name           Position         Office  Age  Salary\n",
      "0       John Doe  Software Engineer       New York   28   95000\n",
      "1     Jane Smith     Data Scientist  San Francisco   34  125000\n",
      "2    Peter Jones    Project Manager         Berlin   45   75000\n",
      "3   Linda Taylor      HR Specialist         London   32   85000\n",
      "4    Emily Clark     Data Scientist  San Francisco   30  115000\n",
      "5    David Smith  Software Engineer       New York   38  105000\n",
      "6  Michael Brown      HR Specialist         London   41   90000\n",
      "7  Sarah Johnson    Project Manager         Berlin   29   80000\n"
     ]
    }
   ],
   "source": [
    "# head(), tail()\n",
    "# head(n) : 상위 n개의 행을 확인\n",
    "# tail(n) : 하위 n개의 행을 확인\n",
    "\n",
    "# 상위 5개 확인\n",
    "print(df.head())\n",
    "\n",
    "# 상위 3개 확인\n",
    "print(df.head(3))\n",
    "\n",
    "# 하위 10개의 행을 확인\n",
    "print(df.tail(10))"
   ]
  },
  {
   "cell_type": "code",
   "execution_count": 4,
   "metadata": {},
   "outputs": [
    {
     "name": "stdout",
     "output_type": "stream",
     "text": [
      "(8, 5)\n"
     ]
    }
   ],
   "source": [
    "# 데이터프레임 shape\n",
    "shape = df.shape\n",
    "print(shape)"
   ]
  },
  {
   "cell_type": "code",
   "execution_count": 5,
   "metadata": {},
   "outputs": [
    {
     "name": "stdout",
     "output_type": "stream",
     "text": [
      "Name        object\n",
      "Position    object\n",
      "Office      object\n",
      "Age          int64\n",
      "Salary       int64\n",
      "dtype: object\n"
     ]
    }
   ],
   "source": [
    "# 각 열의 데이터 타입을 확인 dtypes속성\n",
    "dtypes = df.dtypes\n",
    "print(dtypes)"
   ]
  },
  {
   "cell_type": "code",
   "execution_count": 6,
   "metadata": {},
   "outputs": [
    {
     "name": "stdout",
     "output_type": "stream",
     "text": [
      "<class 'pandas.core.frame.DataFrame'>\n",
      "RangeIndex: 8 entries, 0 to 7\n",
      "Data columns (total 5 columns):\n",
      " #   Column    Non-Null Count  Dtype \n",
      "---  ------    --------------  ----- \n",
      " 0   Name      8 non-null      object\n",
      " 1   Position  8 non-null      object\n",
      " 2   Office    8 non-null      object\n",
      " 3   Age       8 non-null      int64 \n",
      " 4   Salary    8 non-null      int64 \n",
      "dtypes: int64(2), object(3)\n",
      "memory usage: 452.0+ bytes\n",
      "None\n"
     ]
    }
   ],
   "source": [
    "# 전체적인 요약 정보 info()\n",
    "info = df.info()\n",
    "print(info)"
   ]
  },
  {
   "cell_type": "code",
   "execution_count": 7,
   "metadata": {},
   "outputs": [
    {
     "name": "stdout",
     "output_type": "stream",
     "text": [
      "RangeIndex(start=0, stop=8, step=1)\n",
      "Index(['Name', 'Position', 'Office', 'Age', 'Salary'], dtype='object')\n"
     ]
    }
   ],
   "source": [
    "# 행(index)과 열(column) 정보 속성\n",
    "\n",
    "index_info = df.index\n",
    "print(index_info)\n",
    "column_info = df.columns\n",
    "print(column_info)"
   ]
  },
  {
   "cell_type": "code",
   "execution_count": 13,
   "metadata": {},
   "outputs": [
    {
     "name": "stdout",
     "output_type": "stream",
     "text": [
      "            Name           Position         Office  Age  Salary\n",
      "2    Peter Jones    Project Manager         Berlin   45   75000\n",
      "7  Sarah Johnson    Project Manager         Berlin   29   80000\n",
      "3   Linda Taylor      HR Specialist         London   32   85000\n",
      "6  Michael Brown      HR Specialist         London   41   90000\n",
      "0       John Doe  Software Engineer       New York   28   95000\n",
      "5    David Smith  Software Engineer       New York   38  105000\n",
      "4    Emily Clark     Data Scientist  San Francisco   30  115000\n",
      "1     Jane Smith     Data Scientist  San Francisco   34  125000\n",
      "            Name           Position         Office  Age  Salary\n",
      "1     Jane Smith     Data Scientist  San Francisco   34  125000\n",
      "4    Emily Clark     Data Scientist  San Francisco   30  115000\n",
      "5    David Smith  Software Engineer       New York   38  105000\n",
      "0       John Doe  Software Engineer       New York   28   95000\n",
      "6  Michael Brown      HR Specialist         London   41   90000\n",
      "3   Linda Taylor      HR Specialist         London   32   85000\n",
      "7  Sarah Johnson    Project Manager         Berlin   29   80000\n",
      "2    Peter Jones    Project Manager         Berlin   45   75000\n",
      "            Name           Position         Office  Age  Salary\n",
      "0       John Doe  Software Engineer       New York   28   95000\n",
      "7  Sarah Johnson    Project Manager         Berlin   29   80000\n",
      "4    Emily Clark     Data Scientist  San Francisco   30  115000\n",
      "3   Linda Taylor      HR Specialist         London   32   85000\n",
      "1     Jane Smith     Data Scientist  San Francisco   34  125000\n",
      "5    David Smith  Software Engineer       New York   38  105000\n",
      "6  Michael Brown      HR Specialist         London   41   90000\n",
      "2    Peter Jones    Project Manager         Berlin   45   75000\n"
     ]
    }
   ],
   "source": [
    "# 열을 기준으로 정렬\n",
    "# .sort_calues(by=\"열이름\")\n",
    "\n",
    "#열 salary 기준으로 정렬\n",
    "print(df.sort_values(by=\"Salary\"))\n",
    "\n",
    "#열 salary 기준으로 내림차순 정렬\n",
    "print(df.sort_values(by=\"Salary\",ascending=False))\n",
    "\n",
    "# 열 Age 기준으로 정렬\n",
    "print(df.sort_values(by=\"Age\",ascending = True))\n"
   ]
  },
  {
   "cell_type": "code",
   "execution_count": 14,
   "metadata": {},
   "outputs": [
    {
     "name": "stdout",
     "output_type": "stream",
     "text": [
      "            Name           Position         Office  Age  Salary\n",
      "2    Peter Jones    Project Manager         Berlin   45   75000\n",
      "7  Sarah Johnson    Project Manager         Berlin   29   80000\n",
      "3   Linda Taylor      HR Specialist         London   32   85000\n",
      "6  Michael Brown      HR Specialist         London   41   90000\n",
      "0       John Doe  Software Engineer       New York   28   95000\n",
      "5    David Smith  Software Engineer       New York   38  105000\n",
      "4    Emily Clark     Data Scientist  San Francisco   30  115000\n",
      "1     Jane Smith     Data Scientist  San Francisco   34  125000\n"
     ]
    }
   ],
   "source": [
    "# 2개 이상의 열을 기준으로 정렬\n",
    "print(df.sort_values(by=[\"Salary\",\"Age\"]))"
   ]
  },
  {
   "cell_type": "code",
   "execution_count": 17,
   "metadata": {},
   "outputs": [
    {
     "name": "stdout",
     "output_type": "stream",
     "text": [
      "            Name           Position         Office  Age  Salary\n",
      "2    Peter Jones    Project Manager         Berlin   45   75000\n",
      "7  Sarah Johnson    Project Manager         Berlin   29   80000\n",
      "3   Linda Taylor      HR Specialist         London   32   85000\n",
      "6  Michael Brown      HR Specialist         London   41   90000\n",
      "0       John Doe  Software Engineer       New York   28   95000\n",
      "5    David Smith  Software Engineer       New York   38  105000\n",
      "4    Emily Clark     Data Scientist  San Francisco   30  115000\n",
      "1     Jane Smith     Data Scientist  San Francisco   34  125000\n",
      "            Name           Position         Office  Age  Salary\n",
      "0       John Doe  Software Engineer       New York   28   95000\n",
      "1     Jane Smith     Data Scientist  San Francisco   34  125000\n",
      "2    Peter Jones    Project Manager         Berlin   45   75000\n",
      "3   Linda Taylor      HR Specialist         London   32   85000\n",
      "4    Emily Clark     Data Scientist  San Francisco   30  115000\n",
      "5    David Smith  Software Engineer       New York   38  105000\n",
      "6  Michael Brown      HR Specialist         London   41   90000\n",
      "7  Sarah Johnson    Project Manager         Berlin   29   80000\n",
      "            Name           Position         Office  Age  Salary\n",
      "7  Sarah Johnson    Project Manager         Berlin   29   80000\n",
      "6  Michael Brown      HR Specialist         London   41   90000\n",
      "5    David Smith  Software Engineer       New York   38  105000\n",
      "4    Emily Clark     Data Scientist  San Francisco   30  115000\n",
      "3   Linda Taylor      HR Specialist         London   32   85000\n",
      "2    Peter Jones    Project Manager         Berlin   45   75000\n",
      "1     Jane Smith     Data Scientist  San Francisco   34  125000\n",
      "0       John Doe  Software Engineer       New York   28   95000\n"
     ]
    }
   ],
   "source": [
    "# 인덱스(행) 기준 정렬\n",
    "new_df = df.sort_values(by=[\"Salary\",\"Age\"])\n",
    "print(new_df)\n",
    "print(new_df.sort_index())\n",
    "\n",
    "# 인덱스 기준 내림차순 정렬\n",
    "print(new_df.sort_index(ascending=False))"
   ]
  }
 ],
 "metadata": {
  "kernelspec": {
   "display_name": "base",
   "language": "python",
   "name": "python3"
  },
  "language_info": {
   "codemirror_mode": {
    "name": "ipython",
    "version": 3
   },
   "file_extension": ".py",
   "mimetype": "text/x-python",
   "name": "python",
   "nbconvert_exporter": "python",
   "pygments_lexer": "ipython3",
   "version": "3.12.4"
  }
 },
 "nbformat": 4,
 "nbformat_minor": 2
}
