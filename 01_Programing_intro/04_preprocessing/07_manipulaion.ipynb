{
 "cells": [
  {
   "cell_type": "code",
   "execution_count": 20,
   "metadata": {},
   "outputs": [],
   "source": [
    "import pandas as pd\n",
    "\n",
    "# 데이터 프레임 생성\n",
    "df = pd.DataFrame({\"A\": [1, 2, 3], \"B\": [4, 5, 6]})"
   ]
  },
  {
   "cell_type": "code",
   "execution_count": 4,
   "metadata": {},
   "outputs": [
    {
     "name": "stdout",
     "output_type": "stream",
     "text": [
      "   A    B\n",
      "0  1    4\n",
      "1  2  200\n",
      "2  3    6\n"
     ]
    }
   ],
   "source": [
    "# 값(셀) 선택 후 수정\n",
    "# 행 레이블이 1이고 열이 B인 데이터의 값을 200으로 수정\n",
    "df.loc[1, \"B\"] = 200\n",
    "print(df)"
   ]
  },
  {
   "cell_type": "code",
   "execution_count": 5,
   "metadata": {},
   "outputs": [
    {
     "name": "stdout",
     "output_type": "stream",
     "text": [
      "   A    B\n",
      "0  1  100\n",
      "1  2  100\n",
      "2  3  100\n"
     ]
    }
   ],
   "source": [
    "# 열 전체의 값을 수정\n",
    "df[\"B\"] = 100\n",
    "print(df)"
   ]
  },
  {
   "cell_type": "code",
   "execution_count": 10,
   "metadata": {},
   "outputs": [],
   "source": [
    "# 조건부 수정\n",
    "\n",
    "# 선택, A열 값이 3인 데이터를 출력\n",
    "df.loc[df[\"A\"] == 3]\n",
    "\n",
    "# B열의 데이터를 3으로 수정\n",
    "df.loc[df[\"A\"] == 3, \"A\"] = 5"
   ]
  },
  {
   "cell_type": "code",
   "execution_count": 25,
   "metadata": {},
   "outputs": [
    {
     "name": "stdout",
     "output_type": "stream",
     "text": [
      "   A  B\n",
      "0  1  4\n",
      "A  2  5\n",
      "B  3  6\n"
     ]
    }
   ],
   "source": [
    "# 레이블 수정\n",
    "# rename\n",
    "\n",
    "# df2 = df.rename({\"A\":\"C\"},axis=1)\n",
    "# print(df2)\n",
    "\n",
    "df3 = df.rename(columns={\"A\": \"D\"})\n",
    "df4 = df.rename(index={1: \"A\", 2: \"B\"})\n",
    "print(df4)\n",
    "\n",
    "df.rename(index={0: \"A\"}, inplace=True)"
   ]
  },
  {
   "cell_type": "code",
   "execution_count": 30,
   "metadata": {},
   "outputs": [
    {
     "name": "stdout",
     "output_type": "stream",
     "text": [
      "     A  B\n",
      "0  1.0  4\n",
      "1  2.0  5\n",
      "2  3.0  6\n"
     ]
    }
   ],
   "source": [
    "df = pd.DataFrame({\"A\": [1, 2, 3], \"B\": [4.5, 5.5, 6.4]})\n",
    "\n",
    "# 'A' 열을 float 변경하기\n",
    "df[\"A\"] = df[\"A\"].astype(float)\n",
    "\n",
    "# 'B' 열을 int로 변경하기\n",
    "df[\"B\"] = df[\"B\"].astype(int)\n",
    "\n",
    "print(df)"
   ]
  },
  {
   "cell_type": "code",
   "execution_count": 32,
   "metadata": {},
   "outputs": [
    {
     "name": "stdout",
     "output_type": "stream",
     "text": [
      "     A     B\n",
      "0    1   4.5\n",
      "1    2   5.5\n",
      "2    3   6.4\n",
      "99  99  99.0\n"
     ]
    }
   ],
   "source": [
    "# 추가하기\n",
    "df = pd.DataFrame({\"A\": [1, 2, 3], \"B\": [4.5, 5.5, 6.4]})\n",
    "\n",
    "df.loc[99] = [99, 99]\n",
    "print(df)"
   ]
  },
  {
   "cell_type": "code",
   "execution_count": 37,
   "metadata": {},
   "outputs": [
    {
     "name": "stdout",
     "output_type": "stream",
     "text": [
      "   A    B\n",
      "0  1  4.5\n",
      "1  2  5.5\n",
      "2  3  6.4\n",
      "   A    B\n",
      "0  1  4.5\n",
      "1  2  5.5\n",
      "2  3  6.4\n",
      "3  4  7.2\n",
      "   A    B\n",
      "0  1  4.5\n",
      "1  2  5.5\n",
      "2  3  6.4\n",
      "3  4  7.2\n",
      "4  1  4.5\n",
      "5  2  5.5\n",
      "6  3  6.4\n",
      "7  4  7.2\n"
     ]
    }
   ],
   "source": [
    "# 두개의 데이터프레임을 합치는 방법\n",
    "df = pd.DataFrame({\"A\": [1, 2, 3], \"B\": [4.5, 5.5, 6.4]})\n",
    "\n",
    "new_df = pd.DataFrame(\n",
    "    {\n",
    "        \"A\": [4],\n",
    "        \"B\": [7.2],\n",
    "    }\n",
    ")\n",
    "\n",
    "# pd.concat() 메서드\n",
    "# pd.concat([데이터프레임1,데이터프레임2])\n",
    "\n",
    "df2 = pd.concat([df, new_df], ignore_index=True)\n",
    "print(df)\n",
    "print(df2)\n",
    "\n",
    "df3 = pd.concat([df, new_df, df2], ignore_index=True)\n",
    "print(df3)"
   ]
  },
  {
   "cell_type": "code",
   "execution_count": 40,
   "metadata": {},
   "outputs": [
    {
     "name": "stdout",
     "output_type": "stream",
     "text": [
      "   A    B  C\n",
      "0  1  4.5  0\n",
      "1  2  5.5  0\n",
      "2  3  6.4  0\n",
      "   A    B  C      E\n",
      "0  1  4.5  0  False\n",
      "1  2  5.5  0   True\n",
      "2  3  6.4  0   True\n"
     ]
    }
   ],
   "source": [
    "# 열 추가하기\n",
    "df = pd.DataFrame({\"A\": [1, 2, 3], \"B\": [4.5, 5.5, 6.4]})\n",
    "\n",
    "df[\"C\"] = 0\n",
    "print(df)\n",
    "\n",
    "# 조건을 통한 불린형 값을 가진 열을 추가\n",
    "df[\"E\"] = df[\"A\"] >= 2\n",
    "print(df)"
   ]
  },
  {
   "cell_type": "code",
   "execution_count": 42,
   "metadata": {},
   "outputs": [],
   "source": [
    "# 열 삭제하기\n",
    "df = pd.DataFrame(\n",
    "    {\n",
    "        \"이름\": [\"홍길동\", \"이순신\", \"홍길동\", \"이순신\", \"강감찬\", \"안창호\"],\n",
    "        \"나이\": [25, 40, 25, 50, 35, 33],\n",
    "        \"직업\": [\"개발자\", \"선생님\", \"개발자\", \"의사\", \"의사\", \"선생님\"],\n",
    "    }\n",
    ")\n",
    "\n",
    "# 열 삭제, drop(columns=[])\n",
    "# 행 삭제, drop(index=[])\n",
    "# inplace 인자가 존재한다\n",
    "\n",
    "df.drop(columns=[\"나이\", \"직업\"], inplace=True)"
   ]
  },
  {
   "cell_type": "code",
   "execution_count": null,
   "metadata": {},
   "outputs": [],
   "source": [
    "# 행 삭제하기\n",
    "df = pd.DataFrame(\n",
    "    {\n",
    "        \"이름\": [\"홍길동\", \"이순신\", \"홍길동\", \"이순신\", \"강감찬\", \"안창호\"],\n",
    "        \"나이\": [25, 40, 25, 50, 35, 33],\n",
    "        \"직업\": [\"개발자\", \"선생님\", \"개발자\", \"의사\", \"의사\", \"선생님\"],\n",
    "    }\n",
    ")\n",
    "\n",
    "\n",
    "\"\"\"\n",
    "dropped_df = df.drop(index=[0,1,2])\n",
    "print(dropped_df)\n",
    "\"\"\"\n",
    "\n",
    "# 조건부 행 삭제\n",
    "\n",
    "# 나이가 30미만인 인덱스(행 레이블) 속성 추출\n",
    "drop_index = df[df[\"나이\"] < 30].index"
   ]
  },
  {
   "cell_type": "code",
   "execution_count": 1,
   "metadata": {},
   "outputs": [],
   "source": [
    "import pandas as pd\n",
    "\n",
    "df = pd.DataFrame(\n",
    "    {\n",
    "        \"이름\": [\"홍길동\", \"이순신\", \"홍길동\", \"이순신\", \"강감찬\", \"안창호\", \"홍길동\"],\n",
    "        \"나이\": [25, 40, 25, 50, 35, 33, 25],\n",
    "        \"직업\": [\"개발자\", \"선생님\", \"개발자\", \"의사\", \"의사\", \"선생님\", \"개발자\"],\n",
    "    }\n",
    ")"
   ]
  },
  {
   "cell_type": "code",
   "execution_count": 3,
   "metadata": {},
   "outputs": [
    {
     "data": {
      "text/plain": [
       "0    False\n",
       "1    False\n",
       "2     True\n",
       "3    False\n",
       "4     True\n",
       "5     True\n",
       "6     True\n",
       "dtype: bool"
      ]
     },
     "execution_count": 3,
     "metadata": {},
     "output_type": "execute_result"
    }
   ],
   "source": [
    "df.duplicated()\n",
    "\n",
    "df.duplicated(subset=['직업'])"
   ]
  },
  {
   "cell_type": "code",
   "execution_count": null,
   "metadata": {},
   "outputs": [],
   "source": [
    "new_df = drop_duplicates(inplace = False)\n",
    "\n",
    "\"\"\"\n",
    "inplace = False, 기존 데이터프레임을 수정하지 않고 새로운 데이터 프레임 반환\n",
    "ignore_index = True, 삭제 후 새로운 인덱스 번호를 부여\"\"\"\n",
    "\n",
    "\"\"\"\n",
    "keep ; 어떤 중복 데이터를 유지할 것이냐\n",
    "1. first : 첫번째 데이터만 유지하고 나머지 삭제(기본값)\n",
    "2. last : 마지막 데이터만 유지하고 나머지 삭제\n",
    "3. False : 모든 중복데이터를 삭제\n",
    "\"\"\""
   ]
  },
  {
   "cell_type": "code",
   "execution_count": 10,
   "metadata": {},
   "outputs": [
    {
     "name": "stdout",
     "output_type": "stream",
     "text": [
      "    이름  나이   직업\n",
      "0  홍길동  25  개발자\n",
      "1  이순신  40  선생님\n",
      "2  이순신  50   의사\n"
     ]
    }
   ],
   "source": [
    "# 직업에 대한 중복행을 삭제\n",
    "# 인덱스 번호는 초기화하고 기존 데이터프레임을 직접 수정하시오\n",
    "\n",
    "new_=df.drop_duplicates(subset=[\"직업\"],ignore_index=True,inplace=False,keep='first')\n",
    "print(new_)"
   ]
  }
 ],
 "metadata": {
  "kernelspec": {
   "display_name": "base",
   "language": "python",
   "name": "python3"
  },
  "language_info": {
   "codemirror_mode": {
    "name": "ipython",
    "version": 3
   },
   "file_extension": ".py",
   "mimetype": "text/x-python",
   "name": "python",
   "nbconvert_exporter": "python",
   "pygments_lexer": "ipython3",
   "version": "3.12.4"
  }
 },
 "nbformat": 4,
 "nbformat_minor": 2
}
