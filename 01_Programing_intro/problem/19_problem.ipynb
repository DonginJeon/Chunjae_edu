{
 "cells": [
  {
   "cell_type": "code",
   "execution_count": null,
   "metadata": {},
   "outputs": [],
   "source": [
    "### (1) 데이터프레임 생성\n",
    "\n",
    "\n",
    "import pandas as pd\n",
    "import numpy as np\n",
    "\n",
    "np.random.seed(0)\n",
    "\n",
    "# 학생 수\n",
    "num_students = 1000\n",
    "\n",
    "# 데이터프레임 생성\n",
    "df = pd.DataFrame(\n",
    "    {\n",
    "        \"학생ID\": np.arange(1, num_students + 1),\n",
    "        \"이름\": [f\"학생{i}\" for i in range(1, num_students + 1)],\n",
    "        \"나이\": np.random.randint(20, 30, size=num_students),\n",
    "        \"전공\": np.random.choice(\n",
    "            [\"컴퓨터공학\", \"물리학\", \"전자공학\", \"수학\", \"화학\", \"생물학\"],\n",
    "            size=num_students,\n",
    "        ),\n",
    "        \"학년\": np.random.randint(1, 5, size=num_students),\n",
    "        \"학점\": np.round(np.random.uniform(1.0, 4.5, size=num_students), 2),\n",
    "    }\n",
    ")\n",
    "print(df)"
   ]
  },
  {
   "cell_type": "markdown",
   "metadata": {},
   "source": [
    "1. 전공별 평균 학점을 출력하세요.\n",
    "    \n",
    "    ```bash\n",
    "    전공\n",
    "    물리학      2.816265\n",
    "    생물학      2.787976\n",
    "    수학       2.721966\n",
    "    전자공학     2.897711\n",
    "    컴퓨터공학    2.835890\n",
    "    화학       2.621887\n",
    "    Name: 학점, dtype: float64\n",
    "    ```"
   ]
  },
  {
   "cell_type": "code",
   "execution_count": 18,
   "metadata": {},
   "outputs": [
    {
     "name": "stdout",
     "output_type": "stream",
     "text": [
      "전공\n",
      "물리학      2.816265\n",
      "생물학      2.787976\n",
      "수학       2.721966\n",
      "전자공학     2.897711\n",
      "컴퓨터공학    2.835890\n",
      "화학       2.621887\n",
      "Name: 학점, dtype: float64\n"
     ]
    }
   ],
   "source": [
    "major = df.groupby(\"전공\")\n",
    "print(major[\"학점\"].mean())"
   ]
  },
  {
   "cell_type": "markdown",
   "metadata": {},
   "source": [
    "2. 학년별 평균 학점을 출력하세요.\n",
    "    \n",
    "    ```bash\n",
    "    학년\n",
    "    1    2.803766\n",
    "    2    2.864941\n",
    "    3    2.762008\n",
    "    4    2.695253\n",
    "    Name: 학점, dtype: float64\n",
    "    ```"
   ]
  },
  {
   "cell_type": "code",
   "execution_count": 19,
   "metadata": {},
   "outputs": [
    {
     "name": "stdout",
     "output_type": "stream",
     "text": [
      "학년\n",
      "1    2.803766\n",
      "2    2.864941\n",
      "3    2.762008\n",
      "4    2.695253\n",
      "Name: 학점, dtype: float64\n"
     ]
    }
   ],
   "source": [
    "grade = df.groupby(\"학년\")\n",
    "print(grade[\"학점\"].mean())"
   ]
  },
  {
   "cell_type": "markdown",
   "metadata": {},
   "source": [
    "3. 전공 및 학년별 평균 학점을 출력하세요.\n",
    "    \n",
    "    ```bash\n",
    "    전공     학년\n",
    "    물리학    1     2.897407\n",
    "           2     2.855581\n",
    "           3     2.890612\n",
    "           4     2.656170\n",
    "    생물학    1     2.670513\n",
    "           2     2.866863\n",
    "           3     2.804857\n",
    "           4     2.787209\n",
    "    수학     1     2.646078\n",
    "           2     2.822353\n",
    "           3     2.695106\n",
    "           4     2.759348\n",
    "    전자공학   1     3.326857\n",
    "           2     2.913043\n",
    "           3     2.758571\n",
    "           4     2.650278\n",
    "    컴퓨터공학  1     3.004750\n",
    "           2     2.816944\n",
    "           3     2.870732\n",
    "           4     2.672826\n",
    "    화학     1     2.402821\n",
    "           2     2.894419\n",
    "           3     2.526579\n",
    "           4     2.633333\n",
    "    Name: 학점, dtype: float64\n",
    "    ```"
   ]
  },
  {
   "cell_type": "code",
   "execution_count": 20,
   "metadata": {},
   "outputs": [
    {
     "name": "stdout",
     "output_type": "stream",
     "text": [
      "전공     학년\n",
      "물리학    1     2.897407\n",
      "       2     2.855581\n",
      "       3     2.890612\n",
      "       4     2.656170\n",
      "생물학    1     2.670513\n",
      "       2     2.866863\n",
      "       3     2.804857\n",
      "       4     2.787209\n",
      "수학     1     2.646078\n",
      "       2     2.822353\n",
      "       3     2.695106\n",
      "       4     2.759348\n",
      "전자공학   1     3.326857\n",
      "       2     2.913043\n",
      "       3     2.758571\n",
      "       4     2.650278\n",
      "컴퓨터공학  1     3.004750\n",
      "       2     2.816944\n",
      "       3     2.870732\n",
      "       4     2.672826\n",
      "화학     1     2.402821\n",
      "       2     2.894419\n",
      "       3     2.526579\n",
      "       4     2.633333\n",
      "Name: 학점, dtype: float64\n"
     ]
    }
   ],
   "source": [
    "group = df.groupby([\"전공\", \"학년\"])\n",
    "print(group[\"학점\"].mean())"
   ]
  },
  {
   "cell_type": "markdown",
   "metadata": {},
   "source": [
    "4. 각 전공별 최고 학점을 출력하세요.\n",
    "    \n",
    "    ```bash\n",
    "    전공\n",
    "    물리학      4.49\n",
    "    생물학      4.49\n",
    "    수학       4.46\n",
    "    전자공학     4.44\n",
    "    컴퓨터공학    4.50\n",
    "    화학       4.43\n",
    "    Name: 학점, dtype: float64\n",
    "    ```"
   ]
  },
  {
   "cell_type": "code",
   "execution_count": 21,
   "metadata": {},
   "outputs": [
    {
     "name": "stdout",
     "output_type": "stream",
     "text": [
      "전공\n",
      "물리학      4.49\n",
      "생물학      4.49\n",
      "수학       4.46\n",
      "전자공학     4.44\n",
      "컴퓨터공학    4.50\n",
      "화학       4.43\n",
      "Name: 학점, dtype: float64\n"
     ]
    }
   ],
   "source": [
    "major = df.groupby(\"전공\")\n",
    "print(major[\"학점\"].max())"
   ]
  },
  {
   "cell_type": "markdown",
   "metadata": {},
   "source": [
    "5. 전공별 학생ID의 수, 나이의 평균, 학점의 평균을 출력하세요.\n",
    "    \n",
    "    ```bash\n",
    "           학생ID         나이        학점\n",
    "    전공                              \n",
    "    물리학     166  24.391566  2.816265\n",
    "    생물학     168  24.666667  2.787976\n",
    "    수학      178  24.483146  2.721966\n",
    "    전자공학    166  24.343373  2.897711\n",
    "    컴퓨터공학   163  24.294479  2.835890\n",
    "    화학      159  24.477987  2.621887\n",
    "    ```"
   ]
  },
  {
   "cell_type": "code",
   "execution_count": 22,
   "metadata": {},
   "outputs": [
    {
     "data": {
      "text/html": [
       "<div>\n",
       "<style scoped>\n",
       "    .dataframe tbody tr th:only-of-type {\n",
       "        vertical-align: middle;\n",
       "    }\n",
       "\n",
       "    .dataframe tbody tr th {\n",
       "        vertical-align: top;\n",
       "    }\n",
       "\n",
       "    .dataframe thead th {\n",
       "        text-align: right;\n",
       "    }\n",
       "</style>\n",
       "<table border=\"1\" class=\"dataframe\">\n",
       "  <thead>\n",
       "    <tr style=\"text-align: right;\">\n",
       "      <th></th>\n",
       "      <th>학생ID</th>\n",
       "      <th>나이</th>\n",
       "      <th>학점</th>\n",
       "    </tr>\n",
       "    <tr>\n",
       "      <th>전공</th>\n",
       "      <th></th>\n",
       "      <th></th>\n",
       "      <th></th>\n",
       "    </tr>\n",
       "  </thead>\n",
       "  <tbody>\n",
       "    <tr>\n",
       "      <th>물리학</th>\n",
       "      <td>166</td>\n",
       "      <td>24.391566</td>\n",
       "      <td>2.816265</td>\n",
       "    </tr>\n",
       "    <tr>\n",
       "      <th>생물학</th>\n",
       "      <td>168</td>\n",
       "      <td>24.666667</td>\n",
       "      <td>2.787976</td>\n",
       "    </tr>\n",
       "    <tr>\n",
       "      <th>수학</th>\n",
       "      <td>178</td>\n",
       "      <td>24.483146</td>\n",
       "      <td>2.721966</td>\n",
       "    </tr>\n",
       "    <tr>\n",
       "      <th>전자공학</th>\n",
       "      <td>166</td>\n",
       "      <td>24.343373</td>\n",
       "      <td>2.897711</td>\n",
       "    </tr>\n",
       "    <tr>\n",
       "      <th>컴퓨터공학</th>\n",
       "      <td>163</td>\n",
       "      <td>24.294479</td>\n",
       "      <td>2.835890</td>\n",
       "    </tr>\n",
       "    <tr>\n",
       "      <th>화학</th>\n",
       "      <td>159</td>\n",
       "      <td>24.477987</td>\n",
       "      <td>2.621887</td>\n",
       "    </tr>\n",
       "  </tbody>\n",
       "</table>\n",
       "</div>"
      ],
      "text/plain": [
       "       학생ID         나이        학점\n",
       "전공                              \n",
       "물리학     166  24.391566  2.816265\n",
       "생물학     168  24.666667  2.787976\n",
       "수학      178  24.483146  2.721966\n",
       "전자공학    166  24.343373  2.897711\n",
       "컴퓨터공학   163  24.294479  2.835890\n",
       "화학      159  24.477987  2.621887"
      ]
     },
     "execution_count": 22,
     "metadata": {},
     "output_type": "execute_result"
    }
   ],
   "source": [
    "major = df.groupby(\"전공\")\n",
    "major.agg(\n",
    "    {\n",
    "        \"학생ID\": \"count\",\n",
    "        \"나이\": \"mean\",\n",
    "        \"학점\": \"mean\",\n",
    "    }\n",
    ")"
   ]
  },
  {
   "cell_type": "markdown",
   "metadata": {},
   "source": [
    "6. 학년별 학생ID의 수, 학점의 최댓값, 학점의 최소값을 출력하세요.\n",
    "    \n",
    "    ```bash\n",
    "        학생ID    학점      \n",
    "       count   max   min\n",
    "    학년                  \n",
    "    1    231  4.46  1.05\n",
    "    2    253  4.49  1.00\n",
    "    3    259  4.49  1.02\n",
    "    4    257  4.50  1.01\n",
    "    ```"
   ]
  },
  {
   "cell_type": "code",
   "execution_count": 23,
   "metadata": {},
   "outputs": [
    {
     "data": {
      "text/html": [
       "<div>\n",
       "<style scoped>\n",
       "    .dataframe tbody tr th:only-of-type {\n",
       "        vertical-align: middle;\n",
       "    }\n",
       "\n",
       "    .dataframe tbody tr th {\n",
       "        vertical-align: top;\n",
       "    }\n",
       "\n",
       "    .dataframe thead tr th {\n",
       "        text-align: left;\n",
       "    }\n",
       "\n",
       "    .dataframe thead tr:last-of-type th {\n",
       "        text-align: right;\n",
       "    }\n",
       "</style>\n",
       "<table border=\"1\" class=\"dataframe\">\n",
       "  <thead>\n",
       "    <tr>\n",
       "      <th></th>\n",
       "      <th>학생ID</th>\n",
       "      <th colspan=\"2\" halign=\"left\">학점</th>\n",
       "    </tr>\n",
       "    <tr>\n",
       "      <th></th>\n",
       "      <th>count</th>\n",
       "      <th>max</th>\n",
       "      <th>min</th>\n",
       "    </tr>\n",
       "    <tr>\n",
       "      <th>학년</th>\n",
       "      <th></th>\n",
       "      <th></th>\n",
       "      <th></th>\n",
       "    </tr>\n",
       "  </thead>\n",
       "  <tbody>\n",
       "    <tr>\n",
       "      <th>1</th>\n",
       "      <td>231</td>\n",
       "      <td>4.46</td>\n",
       "      <td>1.05</td>\n",
       "    </tr>\n",
       "    <tr>\n",
       "      <th>2</th>\n",
       "      <td>253</td>\n",
       "      <td>4.49</td>\n",
       "      <td>1.00</td>\n",
       "    </tr>\n",
       "    <tr>\n",
       "      <th>3</th>\n",
       "      <td>259</td>\n",
       "      <td>4.49</td>\n",
       "      <td>1.02</td>\n",
       "    </tr>\n",
       "    <tr>\n",
       "      <th>4</th>\n",
       "      <td>257</td>\n",
       "      <td>4.50</td>\n",
       "      <td>1.01</td>\n",
       "    </tr>\n",
       "  </tbody>\n",
       "</table>\n",
       "</div>"
      ],
      "text/plain": [
       "    학생ID    학점      \n",
       "   count   max   min\n",
       "학년                  \n",
       "1    231  4.46  1.05\n",
       "2    253  4.49  1.00\n",
       "3    259  4.49  1.02\n",
       "4    257  4.50  1.01"
      ]
     },
     "execution_count": 23,
     "metadata": {},
     "output_type": "execute_result"
    }
   ],
   "source": [
    "grade = df.groupby(\"학년\")\n",
    "grade.agg({\"학생ID\": \"count\", \"학점\": [\"max\", \"min\"]})"
   ]
  }
 ],
 "metadata": {
  "kernelspec": {
   "display_name": "base",
   "language": "python",
   "name": "python3"
  },
  "language_info": {
   "codemirror_mode": {
    "name": "ipython",
    "version": 3
   },
   "file_extension": ".py",
   "mimetype": "text/x-python",
   "name": "python",
   "nbconvert_exporter": "python",
   "pygments_lexer": "ipython3",
   "version": "3.12.4"
  }
 },
 "nbformat": 4,
 "nbformat_minor": 2
}
