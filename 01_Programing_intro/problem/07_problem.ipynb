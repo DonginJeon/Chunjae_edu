{
 "cells": [
  {
   "cell_type": "markdown",
   "metadata": {},
   "source": [
    "## [5] 실습\n",
    "\n",
    "> 은행 계좌를 파이썬 객체로 변환하기\n",
    "> \n",
    "\n",
    "### (1) 입금과 출금 그리고 조회\n",
    "\n",
    "- 클래스(class) : BankAccount\n",
    "- 인스턴스 변수(속성)\n",
    "    - account_holder : 계좌 소유자\n",
    "    - balance : 잔액\n",
    "- 생성자 메서드(`__init__`)\n",
    "    - account_holder : 계좌 생성자\n",
    "    - balance : 잔액, 기본값 = 0\n",
    "- 인스턴스 메서드\n",
    "    - deposit(amount) : amount 만큼 잔액이 증가\n",
    "    - withdraw(amount) : amount 만큼 잔액이 감소\n",
    "- 베이스 코드 및 출력 결과\n",
    "\n"
   ]
  },
  {
   "cell_type": "code",
   "execution_count": 1,
   "metadata": {},
   "outputs": [
    {
     "name": "stdout",
     "output_type": "stream",
     "text": [
      "초기 잔액: 0원\n",
      "현재 잔액: 1200원\n",
      "현재 잔액: 0원\n",
      "계좌 소유자: 홍길동\n"
     ]
    }
   ],
   "source": [
    "class BankAccount:\n",
    "    def __init__(self, account_holder):\n",
    "        self.account_holder = account_holder\n",
    "        self.balance = 0\n",
    "\n",
    "    def deposit(self, amount):\n",
    "        self.balance += amount\n",
    "\n",
    "    def withdraw(self, amount):\n",
    "        self.balance -= amount\n",
    "\n",
    "    def check(self):\n",
    "        print(f\"현재 잔액은 {self.balance}원\")\n",
    "\n",
    "\n",
    "account = BankAccount(\"홍길동\")\n",
    "print(f\"초기 잔액: {account.balance}원\")\n",
    "account.deposit(1500)\n",
    "account.withdraw(300)\n",
    "print(f\"현재 잔액: {account.balance}원\")\n",
    "account.withdraw(1200)\n",
    "print(f\"현재 잔액: {account.balance}원\")\n",
    "print(f\"계좌 소유자: {account.account_holder}\")"
   ]
  },
  {
   "cell_type": "code",
   "execution_count": 7,
   "metadata": {},
   "outputs": [
    {
     "data": {
      "text/plain": [
       "'\\n# 객체 생성 및 메서드 호출\\naccount = BankAccount(\"홍길동\")\\n\\n# 잔액 조회\\nprint(f\"초기 잔액: {account.balance}원\")\\n\\n# 입금\\naccount.deposit(1500)\\n\\n# 출금\\naccount.withdraw(300)\\n\\n# 잔액 조회\\nprint(f\"현재 잔액: {account.balance}원\")\\n\\naccount.withdraw(1200)\\n\\nprint(f\"현재 잔액: {account.balance}원\")\\n\\n# 계좌 소유자 조회\\nprint(f\"계좌 소유자: {account.balance}\")\\n```\\n\\n```bash\\n초기 잔액: 0원\\n현재 잔액: 1200원\\n현재 잔액: 0원\\n계좌 소유자: 홍길동\\n```\\n'"
      ]
     },
     "execution_count": 7,
     "metadata": {},
     "output_type": "execute_result"
    }
   ],
   "source": [
    "\"\"\"\n",
    "# 객체 생성 및 메서드 호출\n",
    "account = BankAccount(\"홍길동\")\n",
    "\n",
    "# 잔액 조회\n",
    "print(f\"초기 잔액: {account.balance}원\")\n",
    "\n",
    "# 입금\n",
    "account.deposit(1500)\n",
    "\n",
    "# 출금\n",
    "account.withdraw(300)\n",
    "\n",
    "# 잔액 조회\n",
    "print(f\"현재 잔액: {account.balance}원\")\n",
    "\n",
    "account.withdraw(1200)\n",
    "\n",
    "print(f\"현재 잔액: {account.balance}원\")\n",
    "\n",
    "# 계좌 소유자 조회\n",
    "print(f\"계좌 소유자: {account.balance}\")\n",
    "```\n",
    "\n",
    "```bash\n",
    "초기 잔액: 0원\n",
    "현재 잔액: 1200원\n",
    "현재 잔액: 0원\n",
    "계좌 소유자: 홍길동\n",
    "```\n",
    "\"\"\""
   ]
  },
  {
   "cell_type": "markdown",
   "metadata": {},
   "source": [
    "### (2) 메서드 유효성 검사\n",
    "\n",
    "> 프로그램에 입력된 값이 형식, 조건, 논리적으로 맞는지 확인하는 검사입니다.\n",
    "입금과 출금 메서드에 유효성 검사를 추가해봅시다.\n",
    "> \n",
    "- deposit(amount)\n",
    "    1. 양의 정수 검사\n",
    "        - amount가 숫자형 값인지 검사합니다.\n",
    "        - amount가 양의 정수인지 검사합니다.\n",
    "        - 검사를 통과하지 못하면 `잘못된 값입니다` 를 출력합니다.\n",
    "- withdraw(amount)\n",
    "    1. 양의 정수 검사\n",
    "        - amount가 숫자형 값인지 검사합니다.\n",
    "        - amount가 양의 정수인지 검사합니다.\n",
    "        - 검사를 통과하지 못하면 `잘못된 값입니다` 를 출력합니다.\n",
    "    2. 잔액 검사\n",
    "        - amount가 잔액 보다 작거나 같은지 검사합니다.\n",
    "        - 검사를 통과하지 못하면 `잔액이 부족합니다` 를 출력합니다.\n",
    "\n",
    "- 베이스 코드 및 출력 결과\n",
    "\n"
   ]
  },
  {
   "cell_type": "code",
   "execution_count": 33,
   "metadata": {},
   "outputs": [],
   "source": [
    "a = \"4\"\n",
    "if type(a) == int:\n",
    "    print(\"o\")"
   ]
  },
  {
   "cell_type": "code",
   "execution_count": null,
   "metadata": {},
   "outputs": [
    {
     "name": "stdout",
     "output_type": "stream",
     "text": [
      "초기 잔액: 0원\n",
      "잘못된 값입니다\n",
      "잘못된 값입니다\n",
      "현재 잔액: 1500원\n",
      "잔액이 부족합니다\n",
      "현재 잔액: 1500원\n"
     ]
    }
   ],
   "source": [
    "class BankAccount:\n",
    "    def __init__(self, account_holder):\n",
    "        self.account_holder = account_holder\n",
    "        self.balance = 0\n",
    "\n",
    "    def deposit(self, amount):\n",
    "        if type(amount) != str:\n",
    "            if amount > 0:\n",
    "                self.balance += amount\n",
    "\n",
    "        else:\n",
    "            print(\"잘못된 값입니다\")\n",
    "\n",
    "    def withdraw(self, amount):\n",
    "        if self.balance <= amount:\n",
    "            print(\"잔액이 부족합니다\")\n",
    "            if type(amount) == int:\n",
    "                if amount > 0:\n",
    "                    self.balance -= amount\n",
    "                else:\n",
    "                    print(\"잘못된 값입니다\")\n",
    "\n",
    "\n",
    "account = BankAccount(\"홍길동\")\n",
    "\n",
    "print(f\"초기 잔액: {account.balance}원\")\n",
    "\n",
    "account.deposit(\"천오백원\")\n",
    "\n",
    "account.deposit(1500)\n",
    "\n",
    "account.withdraw(-300)\n",
    "\n",
    "print(f\"현재 잔액: {account.balance}원\")\n",
    "\n",
    "account.withdraw(1600)\n",
    "\n",
    "print(f\"현재 잔액: {account.balance}원\")\n",
    "\n",
    "\n",
    "account.withdraw(1200)\n",
    "\n",
    "print(f\"현재 잔액: {account.balance}원\")"
   ]
  },
  {
   "cell_type": "markdown",
   "metadata": {},
   "source": [
    "\n",
    "```bash\n",
    "초기 잔액: 0원\n",
    "잘못된 값입니다.\n",
    "잘못된 값입니다.\n",
    "현재 잔액 : 1500원\n",
    "잔액이 부족합니다.\n",
    "현재 잔액 : 1500원\n",
    "```"
   ]
  }
 ],
 "metadata": {
  "kernelspec": {
   "display_name": "base",
   "language": "python",
   "name": "python3"
  },
  "language_info": {
   "codemirror_mode": {
    "name": "ipython",
    "version": 3
   },
   "file_extension": ".py",
   "mimetype": "text/x-python",
   "name": "python",
   "nbconvert_exporter": "python",
   "pygments_lexer": "ipython3",
   "version": "3.12.4"
  }
 },
 "nbformat": 4,
 "nbformat_minor": 2
}
