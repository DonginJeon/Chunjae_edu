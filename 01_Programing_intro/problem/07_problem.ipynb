{
 "cells": [
  {
   "cell_type": "markdown",
   "metadata": {},
   "source": [
    "## [5] 실습\n",
    "\n",
    "> 은행 계좌를 파이썬 객체로 변환하기\n",
    "> \n",
    "\n",
    "### (1) 입금과 출금 그리고 조회\n",
    "\n",
    "- 클래스(class) : BankAccount\n",
    "- 인스턴스 변수(속성)\n",
    "    - account_holder : 계좌 소유자\n",
    "    - balance : 잔액\n",
    "- 생성자 메서드(`__init__`)\n",
    "    - account_holder : 계좌 생성자\n",
    "    - balance : 잔액, 기본값 = 0\n",
    "- 인스턴스 메서드\n",
    "    - deposit(amount) : amount 만큼 잔액이 증가\n",
    "    - withdraw(amount) : amount 만큼 잔액이 감소\n",
    "- 베이스 코드 및 출력 결과\n",
    "\n"
   ]
  },
  {
   "cell_type": "code",
   "execution_count": 57,
   "metadata": {},
   "outputs": [
    {
     "ename": "KeyboardInterrupt",
     "evalue": "",
     "output_type": "error",
     "traceback": [
      "\u001b[1;31m---------------------------------------------------------------------------\u001b[0m",
      "\u001b[1;31mKeyboardInterrupt\u001b[0m                         Traceback (most recent call last)",
      "Cell \u001b[1;32mIn[57], line 1\u001b[0m\n\u001b[1;32m----> 1\u001b[0m \u001b[38;5;28;01mclass\u001b[39;00m \u001b[38;5;21;01mBankAccount\u001b[39;00m:\n\u001b[0;32m      2\u001b[0m     \u001b[38;5;28;01mdef\u001b[39;00m \u001b[38;5;21m__init__\u001b[39m(\u001b[38;5;28mself\u001b[39m, account_holder):\n\u001b[0;32m      3\u001b[0m         \u001b[38;5;28mself\u001b[39m\u001b[38;5;241m.\u001b[39maccount_holder \u001b[38;5;241m=\u001b[39m account_holder\n",
      "File \u001b[1;32mc:\\Users\\user\\anaconda3\\Lib\\site-packages\\debugpy\\_vendored\\pydevd\\_pydevd_bundle\\pydevd_frame.py:988\u001b[0m, in \u001b[0;36mPyDBFrame.trace_dispatch\u001b[1;34m(self, frame, event, arg)\u001b[0m\n\u001b[0;32m    986\u001b[0m \u001b[38;5;66;03m# if thread has a suspend flag, we suspend with a busy wait\u001b[39;00m\n\u001b[0;32m    987\u001b[0m \u001b[38;5;28;01mif\u001b[39;00m info\u001b[38;5;241m.\u001b[39mpydev_state \u001b[38;5;241m==\u001b[39m STATE_SUSPEND:\n\u001b[1;32m--> 988\u001b[0m     \u001b[38;5;28mself\u001b[39m\u001b[38;5;241m.\u001b[39mdo_wait_suspend(thread, frame, event, arg)\n\u001b[0;32m    989\u001b[0m     \u001b[38;5;28;01mreturn\u001b[39;00m \u001b[38;5;28mself\u001b[39m\u001b[38;5;241m.\u001b[39mtrace_dispatch\n\u001b[0;32m    990\u001b[0m \u001b[38;5;28;01melse\u001b[39;00m:\n",
      "File \u001b[1;32mc:\\Users\\user\\anaconda3\\Lib\\site-packages\\debugpy\\_vendored\\pydevd\\_pydevd_bundle\\pydevd_frame.py:165\u001b[0m, in \u001b[0;36mPyDBFrame.do_wait_suspend\u001b[1;34m(self, *args, **kwargs)\u001b[0m\n\u001b[0;32m    164\u001b[0m \u001b[38;5;28;01mdef\u001b[39;00m \u001b[38;5;21mdo_wait_suspend\u001b[39m(\u001b[38;5;28mself\u001b[39m, \u001b[38;5;241m*\u001b[39margs, \u001b[38;5;241m*\u001b[39m\u001b[38;5;241m*\u001b[39mkwargs):\n\u001b[1;32m--> 165\u001b[0m     \u001b[38;5;28mself\u001b[39m\u001b[38;5;241m.\u001b[39m_args[\u001b[38;5;241m0\u001b[39m]\u001b[38;5;241m.\u001b[39mdo_wait_suspend(\u001b[38;5;241m*\u001b[39margs, \u001b[38;5;241m*\u001b[39m\u001b[38;5;241m*\u001b[39mkwargs)\n",
      "File \u001b[1;32mc:\\Users\\user\\anaconda3\\Lib\\site-packages\\debugpy\\_vendored\\pydevd\\pydevd.py:2070\u001b[0m, in \u001b[0;36mPyDB.do_wait_suspend\u001b[1;34m(self, thread, frame, event, arg, exception_type)\u001b[0m\n\u001b[0;32m   2067\u001b[0m             from_this_thread\u001b[38;5;241m.\u001b[39mappend(frame_custom_thread_id)\n\u001b[0;32m   2069\u001b[0m     \u001b[38;5;28;01mwith\u001b[39;00m \u001b[38;5;28mself\u001b[39m\u001b[38;5;241m.\u001b[39m_threads_suspended_single_notification\u001b[38;5;241m.\u001b[39mnotify_thread_suspended(thread_id, thread, stop_reason):\n\u001b[1;32m-> 2070\u001b[0m         keep_suspended \u001b[38;5;241m=\u001b[39m \u001b[38;5;28mself\u001b[39m\u001b[38;5;241m.\u001b[39m_do_wait_suspend(thread, frame, event, arg, suspend_type, from_this_thread, frames_tracker)\n\u001b[0;32m   2072\u001b[0m frames_list \u001b[38;5;241m=\u001b[39m \u001b[38;5;28;01mNone\u001b[39;00m\n\u001b[0;32m   2074\u001b[0m \u001b[38;5;28;01mif\u001b[39;00m keep_suspended:\n\u001b[0;32m   2075\u001b[0m     \u001b[38;5;66;03m# This means that we should pause again after a set next statement.\u001b[39;00m\n",
      "File \u001b[1;32mc:\\Users\\user\\anaconda3\\Lib\\site-packages\\debugpy\\_vendored\\pydevd\\pydevd.py:2106\u001b[0m, in \u001b[0;36mPyDB._do_wait_suspend\u001b[1;34m(self, thread, frame, event, arg, suspend_type, from_this_thread, frames_tracker)\u001b[0m\n\u001b[0;32m   2103\u001b[0m         \u001b[38;5;28mself\u001b[39m\u001b[38;5;241m.\u001b[39m_call_input_hook()\n\u001b[0;32m   2105\u001b[0m     \u001b[38;5;28mself\u001b[39m\u001b[38;5;241m.\u001b[39mprocess_internal_commands()\n\u001b[1;32m-> 2106\u001b[0m     time\u001b[38;5;241m.\u001b[39msleep(\u001b[38;5;241m0.01\u001b[39m)\n\u001b[0;32m   2108\u001b[0m \u001b[38;5;28mself\u001b[39m\u001b[38;5;241m.\u001b[39mcancel_async_evaluation(get_current_thread_id(thread), \u001b[38;5;28mstr\u001b[39m(\u001b[38;5;28mid\u001b[39m(frame)))\n\u001b[0;32m   2110\u001b[0m \u001b[38;5;66;03m# process any stepping instructions\u001b[39;00m\n",
      "\u001b[1;31mKeyboardInterrupt\u001b[0m: "
     ]
    }
   ],
   "source": [
    "class BankAccount:\n",
    "    def __init__(self, account_holder):\n",
    "        self.account_holder = account_holder\n",
    "        self.balance = 0\n",
    "\n",
    "    def deposit(self, amount):\n",
    "        self.balance += amount\n",
    "\n",
    "    def withdraw(self, amount):\n",
    "        self.balance -= amount\n",
    "\n",
    "    def check(self):\n",
    "        print(f\"현재 잔액은 {self.balance}원\")\n",
    "\n",
    "\n",
    "account = BankAccount(\"홍길동\")\n",
    "print(f\"초기 잔액: {account.balance}원\")\n",
    "account.deposit(1500)\n",
    "account.withdraw(300)\n",
    "print(f\"현재 잔액: {account.balance}원\")\n",
    "account.withdraw(1200)\n",
    "print(f\"현재 잔액: {account.balance}원\")\n",
    "print(f\"계좌 소유자: {account.account_holder}\")"
   ]
  },
  {
   "cell_type": "code",
   "execution_count": 7,
   "metadata": {},
   "outputs": [
    {
     "data": {
      "text/plain": [
       "'\\n# 객체 생성 및 메서드 호출\\naccount = BankAccount(\"홍길동\")\\n\\n# 잔액 조회\\nprint(f\"초기 잔액: {account.balance}원\")\\n\\n# 입금\\naccount.deposit(1500)\\n\\n# 출금\\naccount.withdraw(300)\\n\\n# 잔액 조회\\nprint(f\"현재 잔액: {account.balance}원\")\\n\\naccount.withdraw(1200)\\n\\nprint(f\"현재 잔액: {account.balance}원\")\\n\\n# 계좌 소유자 조회\\nprint(f\"계좌 소유자: {account.balance}\")\\n```\\n\\n```bash\\n초기 잔액: 0원\\n현재 잔액: 1200원\\n현재 잔액: 0원\\n계좌 소유자: 홍길동\\n```\\n'"
      ]
     },
     "execution_count": 7,
     "metadata": {},
     "output_type": "execute_result"
    }
   ],
   "source": [
    "\"\"\"\n",
    "# 객체 생성 및 메서드 호출\n",
    "account = BankAccount(\"홍길동\")\n",
    "\n",
    "# 잔액 조회\n",
    "print(f\"초기 잔액: {account.balance}원\")\n",
    "\n",
    "# 입금\n",
    "account.deposit(1500)\n",
    "\n",
    "# 출금\n",
    "account.withdraw(300)\n",
    "\n",
    "# 잔액 조회\n",
    "print(f\"현재 잔액: {account.balance}원\")\n",
    "\n",
    "account.withdraw(1200)\n",
    "\n",
    "print(f\"현재 잔액: {account.balance}원\")\n",
    "\n",
    "# 계좌 소유자 조회\n",
    "print(f\"계좌 소유자: {account.balance}\")\n",
    "```\n",
    "\n",
    "```bash\n",
    "초기 잔액: 0원\n",
    "현재 잔액: 1200원\n",
    "현재 잔액: 0원\n",
    "계좌 소유자: 홍길동\n",
    "```\n",
    "\"\"\""
   ]
  },
  {
   "cell_type": "markdown",
   "metadata": {},
   "source": [
    "### (2) 메서드 유효성 검사\n",
    "\n",
    "> 프로그램에 입력된 값이 형식, 조건, 논리적으로 맞는지 확인하는 검사입니다.\n",
    "입금과 출금 메서드에 유효성 검사를 추가해봅시다.\n",
    "> \n",
    "- deposit(amount)\n",
    "    1. 양의 정수 검사\n",
    "        - amount가 숫자형 값인지 검사합니다.\n",
    "        - amount가 양의 정수인지 검사합니다.\n",
    "        - 검사를 통과하지 못하면 `잘못된 값입니다` 를 출력합니다.\n",
    "- withdraw(amount)\n",
    "    1. 양의 정수 검사\n",
    "        - amount가 숫자형 값인지 검사합니다.\n",
    "        - amount가 양의 정수인지 검사합니다.\n",
    "        - 검사를 통과하지 못하면 `잘못된 값입니다` 를 출력합니다.\n",
    "    2. 잔액 검사\n",
    "        - amount가 잔액 보다 작거나 같은지 검사합니다.\n",
    "        - 검사를 통과하지 못하면 `잔액이 부족합니다` 를 출력합니다.\n",
    "\n",
    "- 베이스 코드 및 출력 결과\n",
    "\n"
   ]
  },
  {
   "cell_type": "code",
   "execution_count": 33,
   "metadata": {},
   "outputs": [],
   "source": [
    "a = \"4\"\n",
    "if type(a) == int:\n",
    "    print(\"o\")"
   ]
  },
  {
   "cell_type": "code",
   "execution_count": null,
   "metadata": {},
   "outputs": [
    {
     "name": "stdout",
     "output_type": "stream",
     "text": [
      "초기 잔액: 0원\n",
      "잘못된 값입니다\n",
      "잘못된 값입니다\n",
      "현재 잔액: 1500원\n",
      "잔액이 부족합니다\n",
      "현재 잔액: 1500원\n"
     ]
    }
   ],
   "source": [
    "class BankAccount:\n",
    "    def __init__(self, account_holder):\n",
    "        self.account_holder = account_holder\n",
    "        self.balance = 0\n",
    "\n",
    "    def deposit(self, amount):\n",
    "        if type(amount) != str:\n",
    "            if amount > 0:\n",
    "                self.balance += amount\n",
    "\n",
    "        else:\n",
    "            print(\"잘못된 값입니다\")\n",
    "\n",
    "    def withdraw(self, amount):\n",
    "        if self.balance <= amount:\n",
    "            print(\"잔액이 부족합니다\")\n",
    "            if type(amount) == int:\n",
    "                if amount > 0:\n",
    "                    self.balance -= amount\n",
    "                else:\n",
    "                    print(\"잘못된 값입니다\")\n",
    "\n",
    "\n",
    "account = BankAccount(\"홍길동\")\n",
    "\n",
    "print(f\"초기 잔액: {account.balance}원\")\n",
    "\n",
    "account.deposit(\"천오백원\")\n",
    "\n",
    "account.deposit(1500)\n",
    "\n",
    "account.withdraw(-300)\n",
    "\n",
    "print(f\"현재 잔액: {account.balance}원\")\n",
    "\n",
    "account.withdraw(1600)\n",
    "\n",
    "print(f\"현재 잔액: {account.balance}원\")\n",
    "\n",
    "\n",
    "account.withdraw(1200)\n",
    "\n",
    "print(f\"현재 잔액: {account.balance}원\")"
   ]
  },
  {
   "cell_type": "markdown",
   "metadata": {},
   "source": [
    "\n",
    "```bash\n",
    "초기 잔액: 0원\n",
    "잘못된 값입니다.\n",
    "잘못된 값입니다.\n",
    "현재 잔액 : 1500원\n",
    "잔액이 부족합니다.\n",
    "현재 잔액 : 1500원\n",
    "```"
   ]
  }
 ],
 "metadata": {
  "kernelspec": {
   "display_name": "base",
   "language": "python",
   "name": "python3"
  },
  "language_info": {
   "codemirror_mode": {
    "name": "ipython",
    "version": 3
   },
   "file_extension": ".py",
   "mimetype": "text/x-python",
   "name": "python",
   "nbconvert_exporter": "python",
   "pygments_lexer": "ipython3",
   "version": "3.12.4"
  }
 },
 "nbformat": 4,
 "nbformat_minor": 2
}
