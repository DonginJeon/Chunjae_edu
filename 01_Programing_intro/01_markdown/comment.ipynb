{
 "cells": [
  {
   "cell_type": "code",
   "execution_count": null,
   "metadata": {},
   "outputs": [],
   "source": [
    "test"
   ]
  },
  {
   "cell_type": "code",
   "execution_count": 4,
   "metadata": {},
   "outputs": [
    {
     "name": "stdout",
     "output_type": "stream",
     "text": [
      "hello world\n"
     ]
    }
   ],
   "source": [
    "print(\"hello world\")  # 문장을 실행하는 코드"
   ]
  },
  {
   "cell_type": "markdown",
   "metadata": {},
   "source": [
    "[**naver**](https://naver.com)"
   ]
  },
  {
   "cell_type": "markdown",
   "metadata": {},
   "source": [
    "[hello.md](hello.md)"
   ]
  },
  {
   "cell_type": "markdown",
   "metadata": {},
   "source": [
    "![바다](data:image/jpeg;base64,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)\n"
   ]
  },
  {
   "cell_type": "markdown",
   "metadata": {},
   "source": [
    "# 파이썬\n",
    ">dfadfaf"
   ]
  }
 ],
 "metadata": {
  "kernelspec": {
   "display_name": "base",
   "language": "python",
   "name": "python3"
  },
  "language_info": {
   "codemirror_mode": {
    "name": "ipython",
    "version": 3
   },
   "file_extension": ".py",
   "mimetype": "text/x-python",
   "name": "python",
   "nbconvert_exporter": "python",
   "pygments_lexer": "ipython3",
   "version": "3.12.4"
  }
 },
 "nbformat": 4,
 "nbformat_minor": 2
}
