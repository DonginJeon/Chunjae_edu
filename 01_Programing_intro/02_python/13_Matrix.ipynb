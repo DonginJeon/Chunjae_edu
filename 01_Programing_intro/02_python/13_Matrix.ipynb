{
 "cells": [
  {
   "cell_type": "code",
   "execution_count": null,
   "metadata": {},
   "outputs": [],
   "source": [
    "n = 2\n",
    "m = 3\n",
    "\n",
    "for y in range(n):\n",
    "    print(f\"y={y}\")\n",
    "    for x in range(m):\n",
    "        print(x)"
   ]
  },
  {
   "cell_type": "code",
   "execution_count": null,
   "metadata": {},
   "outputs": [],
   "source": [
    "n = 6\n",
    "m = 5\n",
    "\n",
    "for y in range(2,n):\n",
    "    print(f\"y={y}\")\n",
    "    for x in range(1,m):\n",
    "        print(x)"
   ]
  },
  {
   "cell_type": "code",
   "execution_count": null,
   "metadata": {},
   "outputs": [],
   "source": [
    "#  이차원 리스트의 생성\n",
    "matrix = [[1,2,3],\n",
    "          [4,5,6,],\n",
    "          [7,8,9]]\n",
    "print(matrix)"
   ]
  },
  {
   "cell_type": "code",
   "execution_count": null,
   "metadata": {},
   "outputs": [],
   "source": [
    "# 이차원 리스트에 값 추가\n",
    "matrix = []\n",
    "matrix.append([1,2,3])\n",
    "print(matrix)"
   ]
  },
  {
   "cell_type": "code",
   "execution_count": 15,
   "metadata": {},
   "outputs": [
    {
     "name": "stdout",
     "output_type": "stream",
     "text": [
      "1\n",
      "2\n",
      "3\n",
      "4\n",
      "5\n",
      "6\n",
      "7\n",
      "8\n",
      "9\n"
     ]
    }
   ],
   "source": [
    "# 이차원 리스트의 인덱싱\n",
    "# 일차원 리스트 인덱싱 : 리스트변수[인덱스]\n",
    "# 이차원 리스트 인덱싱 : 리스트변수[행, 세로][열, 가로]\n",
    "\n",
    "\n",
    "matrix = [[1,2,3],\n",
    "          [4,5,6,],\n",
    "          [7,8,9]]\n",
    "for i in range(3):\n",
    "    for n in range(3):\n",
    "        print(matrix[i][n])\n",
    "\n"
   ]
  },
  {
   "cell_type": "code",
   "execution_count": 18,
   "metadata": {},
   "outputs": [
    {
     "name": "stdout",
     "output_type": "stream",
     "text": [
      "[[1, 2, 3], [4, 0, 6], [7, 8, 9]]\n"
     ]
    }
   ],
   "source": [
    "matrix = [[1,2,3],\n",
    "          [4,5,6,],\n",
    "          [7,8,9]]\n",
    "\n",
    "matrix[1][1] = 0\n",
    "print(matrix)"
   ]
  },
  {
   "cell_type": "code",
   "execution_count": null,
   "metadata": {},
   "outputs": [],
   "source": [
    "# 이중 반복문과 이차원 리스트\n",
    "\n",
    "len()으로 길이를 알 수 있음  \n",
    "\n",
    "# 각 일차원 리스트의 길이는 반복문을 통해\n",
    "\n",
    "for col in range(0,list_len):\n",
    "    str()"
   ]
  }
 ],
 "metadata": {
  "kernelspec": {
   "display_name": "base",
   "language": "python",
   "name": "python3"
  },
  "language_info": {
   "codemirror_mode": {
    "name": "ipython",
    "version": 3
   },
   "file_extension": ".py",
   "mimetype": "text/x-python",
   "name": "python",
   "nbconvert_exporter": "python",
   "pygments_lexer": "ipython3",
   "version": "3.12.4"
  }
 },
 "nbformat": 4,
 "nbformat_minor": 2
}
