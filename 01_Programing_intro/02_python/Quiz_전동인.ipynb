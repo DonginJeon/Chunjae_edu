{
 "cells": [
  {
   "cell_type": "markdown",
   "metadata": {},
   "source": [
    "# 본 테스트에서는 다른 코드 참고, 검색등의 행위를 금지합니다.\n",
    "# 본 테스트에서는 하드 코딩을 금지합니다."
   ]
  },
  {
   "cell_type": "code",
   "execution_count": 2,
   "metadata": {},
   "outputs": [
    {
     "name": "stdout",
     "output_type": "stream",
     "text": [
      "1\n",
      "5\n",
      "7\n",
      "11\n",
      "13\n",
      "17\n",
      "19\n"
     ]
    },
    {
     "data": {
      "text/plain": [
       "'출력\\n1\\n5\\n7\\n11\\n13\\n17\\n19\\n'"
      ]
     },
     "execution_count": 2,
     "metadata": {},
     "output_type": "execute_result"
    }
   ],
   "source": [
    "\"\"\"\n",
    "리스트 원소 필터링\n",
    "반복문과 조건문을 활용해서 주어진 리스트에서 2의 배수도 아니고 3의 배수도 아닌 숫자만 출력하세요.\n",
    "\"\"\"\n",
    "\n",
    "numbers = [1, 2, 3, 4, 5, 6, 7, 8, 9, 10, 11, 12, 13, 14, 15, 16, 17, 18, 19, 20]\n",
    "\n",
    "for i in numbers:\n",
    "    if i % 2 != 0 and i % 3 != 0:\n",
    "        print(i)\n",
    "\n",
    "\"\"\"출력\n",
    "1\n",
    "5\n",
    "7\n",
    "11\n",
    "13\n",
    "17\n",
    "19\n",
    "\"\"\""
   ]
  },
  {
   "cell_type": "code",
   "execution_count": 100,
   "metadata": {},
   "outputs": [
    {
     "name": "stdout",
     "output_type": "stream",
     "text": [
      "nohtyp"
     ]
    }
   ],
   "source": [
    "\"\"\"\n",
    "문자열 뒤집기\n",
    "입력한 문자열을 뒤집어서 출력하세요.\n",
    "ex) banana 입력 -> ananab 출력\n",
    "\"\"\"\n",
    "\n",
    "word = input()\n",
    "\n",
    "word_len = len(word)\n",
    "for i in range(word_len - 1, -1, -1):\n",
    "    print(word[i], end=\"\")"
   ]
  },
  {
   "cell_type": "code",
   "execution_count": 3,
   "metadata": {},
   "outputs": [
    {
     "data": {
      "text/plain": [
       "'ananab'"
      ]
     },
     "execution_count": 3,
     "metadata": {},
     "output_type": "execute_result"
    }
   ],
   "source": [
    "word = \"banana\"\n",
    "word[::-1]"
   ]
  },
  {
   "cell_type": "code",
   "execution_count": 101,
   "metadata": {},
   "outputs": [
    {
     "name": "stdout",
     "output_type": "stream",
     "text": [
      "8\n"
     ]
    }
   ],
   "source": [
    "\"\"\"\n",
    "짝수만 더하기\n",
    "반복문과 조건문을 활용해서 주어진 리스트에서 짝수만 더한 값을 반환하는 함수를 완성하세요.\n",
    "\"\"\"\n",
    "\n",
    "# a=[]\n",
    "# numbers = [3, 6, 1, 2]\n",
    "# for num in numbers:\n",
    "#     if num%2==0:\n",
    "#         a.append(num)\n",
    "# sum(a)\n",
    "\n",
    "\n",
    "def even_sum(number_list):\n",
    "    a = []\n",
    "    for num in numbers:\n",
    "        if num % 2 == 0:\n",
    "            a.append(num)\n",
    "    return sum(a)\n",
    "\n",
    "\n",
    "numbers = [3, 6, 1, 2]\n",
    "\n",
    "print(even_sum(numbers))\n",
    "\n",
    "# 출력 : 8"
   ]
  },
  {
   "cell_type": "code",
   "execution_count": 102,
   "metadata": {},
   "outputs": [
    {
     "name": "stdout",
     "output_type": "stream",
     "text": [
      "[0, 1, 2, 3, 4, 5]\n",
      "<class 'int'>\n"
     ]
    }
   ],
   "source": [
    "\"\"\"\n",
    "리스트에 저장된 문자 정수로 변환\n",
    "반복문을 활용해서 주어진 리스트의 문자열 자료형 정수를 정수형 자료형으로 변환한 리스트를 출력하세요.\n",
    "\"\"\"\n",
    "\n",
    "a = []\n",
    "string_numbers = [\"0\", \"1\", \"2\", \"3\", \"4\", \"5\"]\n",
    "for num in string_numbers:\n",
    "    num = int(num)\n",
    "    a.append(num)\n",
    "\n",
    "print(a)\n",
    "print(type(a[1]))\n",
    "# 출력 : [0, 1, 2, 3, 4, 5]"
   ]
  },
  {
   "cell_type": "code",
   "execution_count": 4,
   "metadata": {},
   "outputs": [
    {
     "name": "stdout",
     "output_type": "stream",
     "text": [
      "[4, 1, 8, 2, 9, 3, 5]\n"
     ]
    }
   ],
   "source": [
    "\"\"\"\n",
    "중복 제거하기\n",
    "주어진 리스트의 중복 원소를 제거한 리스트를 출력하세요.\n",
    "\"\"\"\n",
    "\n",
    "numbers = [4, 1, 8, 2, 9, 1, 3, 5, 3, 3, 4, 2, 1]\n",
    "non_num = []\n",
    "for val in numbers:\n",
    "    if val not in non_num:\n",
    "        non_num.append(val)\n",
    "print(non_num)\n",
    "\n",
    "# 출력 : [1, 2, 3, 4, 5, 8, 9]\n",
    "# 순서 무관"
   ]
  },
  {
   "cell_type": "code",
   "execution_count": 8,
   "metadata": {},
   "outputs": [
    {
     "name": "stdout",
     "output_type": "stream",
     "text": [
      "False\n"
     ]
    }
   ],
   "source": [
    "\"\"\"\n",
    "회문 검사\n",
    "회문(Palindrome)이란 앞에서부터 읽으나 뒤에서부터 읽으나 동일한 문자열을 말합니다. \n",
    "예를 들어, \"level\", \"radar\", \"가나다나가\", \"토마토\" 등은 회문입니다.\n",
    "\n",
    "문자열을 입력받고, 해당 문자열이 회문인지 검사하는 프로그램을 작성하세요.\n",
    "회문이라면 True 아니면 False를 출력합니다.\n",
    "ex) level 입력 -> True 출력 \n",
    "ex) apple -> False 출력\n",
    "\"\"\"\n",
    "\n",
    "word = input()\n",
    "word2 = word[::-1]\n",
    "if word == word2:\n",
    "    print(\"True\")\n",
    "else:\n",
    "    print(\"False\")"
   ]
  },
  {
   "cell_type": "code",
   "execution_count": 145,
   "metadata": {},
   "outputs": [
    {
     "name": "stdout",
     "output_type": "stream",
     "text": [
      "['h', 'e', 'l', 'o', ' ', 'w', 'r', 'd']\n",
      "1\n",
      "2\n",
      "3\n",
      "4\n",
      "5\n",
      "6\n",
      "7\n",
      "8\n",
      "9\n",
      "10\n",
      "11\n"
     ]
    },
    {
     "data": {
      "text/plain": [
       "' 예시\\n입력 \\nsentence = \"hello world\"\\n\\n출력, 순서는 상관없음\\n{\\n    \\'h\\': 1,\\n    \\'e\\': 1,\\n    \\'l\\': 3,\\n    \\'o\\': 2,\\n    \\' \\': 1,\\n    \\'w\\': 1,\\n    \\'r\\': 1,\\n    \\'d\\': 1\\n}\\n'"
      ]
     },
     "execution_count": 145,
     "metadata": {},
     "output_type": "execute_result"
    }
   ],
   "source": [
    "\"\"\"\n",
    "문자 카운팅\n",
    "문자열을 입력받고, 해당 문자열에서 각 문자의 등장 횟수를 카운트하고 출력하세요.\n",
    "내장함수 없이 풀이\n",
    "\"\"\"\n",
    "\n",
    "# sentence = input()\n",
    "sentence = \"hello world\"\n",
    "# word_dict = dict()\n",
    "# print(dict)\n",
    "non_char = []\n",
    "for val in sentence:\n",
    "    if val not in non_char:\n",
    "        non_char.append(val)\n",
    "print(non_char)\n",
    "\n",
    "\n",
    "count = 0\n",
    "\n",
    "\n",
    "for word1 in sentence:\n",
    "    if word1 in non_char:\n",
    "        count += 1\n",
    "        print(count)\n",
    "\n",
    "\"\"\" 예시\n",
    "입력 \n",
    "sentence = \"hello world\"\n",
    "\n",
    "출력, 순서는 상관없음\n",
    "{\n",
    "    'h': 1,\n",
    "    'e': 1,\n",
    "    'l': 3,\n",
    "    'o': 2,\n",
    "    ' ': 1,\n",
    "    'w': 1,\n",
    "    'r': 1,\n",
    "    'd': 1\n",
    "}\n",
    "\"\"\""
   ]
  },
  {
   "cell_type": "code",
   "execution_count": 8,
   "metadata": {},
   "outputs": [
    {
     "data": {
      "text/plain": [
       "dict"
      ]
     },
     "execution_count": 8,
     "metadata": {},
     "output_type": "execute_result"
    }
   ],
   "source": [
    "dict1={}\n",
    "dict1[\"test\"]=1\n",
    "type(dict1)"
   ]
  },
  {
   "cell_type": "code",
   "execution_count": 104,
   "metadata": {},
   "outputs": [
    {
     "name": "stdout",
     "output_type": "stream",
     "text": [
      "2 X 2 = 4\n",
      "2 X 3 = 6\n",
      "2 X 4 = 8\n",
      "2 X 5 = 10\n",
      "2 X 6 = 12\n",
      "2 X 7 = 14\n",
      "2 X 8 = 16\n",
      "2 X 9 = 18\n",
      "3 X 2 = 6\n",
      "3 X 3 = 9\n",
      "3 X 4 = 12\n",
      "3 X 5 = 15\n",
      "3 X 6 = 18\n",
      "3 X 7 = 21\n",
      "3 X 8 = 24\n",
      "3 X 9 = 27\n",
      "4 X 2 = 8\n",
      "4 X 3 = 12\n",
      "4 X 4 = 16\n",
      "4 X 5 = 20\n",
      "4 X 6 = 24\n",
      "4 X 7 = 28\n",
      "4 X 8 = 32\n",
      "4 X 9 = 36\n",
      "5 X 2 = 10\n",
      "5 X 3 = 15\n",
      "5 X 4 = 20\n",
      "5 X 5 = 25\n",
      "5 X 6 = 30\n",
      "5 X 7 = 35\n",
      "5 X 8 = 40\n",
      "5 X 9 = 45\n",
      "6 X 2 = 12\n",
      "6 X 3 = 18\n",
      "6 X 4 = 24\n",
      "6 X 5 = 30\n",
      "6 X 6 = 36\n",
      "6 X 7 = 42\n",
      "6 X 8 = 48\n",
      "6 X 9 = 54\n",
      "7 X 2 = 14\n",
      "7 X 3 = 21\n",
      "7 X 4 = 28\n",
      "7 X 5 = 35\n",
      "7 X 6 = 42\n",
      "7 X 7 = 49\n",
      "7 X 8 = 56\n",
      "7 X 9 = 63\n",
      "8 X 2 = 16\n",
      "8 X 3 = 24\n",
      "8 X 4 = 32\n",
      "8 X 5 = 40\n",
      "8 X 6 = 48\n",
      "8 X 7 = 56\n",
      "8 X 8 = 64\n",
      "8 X 9 = 72\n",
      "9 X 2 = 18\n",
      "9 X 3 = 27\n",
      "9 X 4 = 36\n",
      "9 X 5 = 45\n",
      "9 X 6 = 54\n",
      "9 X 7 = 63\n",
      "9 X 8 = 72\n",
      "9 X 9 = 81\n"
     ]
    }
   ],
   "source": [
    "\"\"\"\n",
    "구구단 출력하기\n",
    "중첩 반복문을 활용해서 구구단 2단부터 9단까지 출력하세요.\n",
    "\"\"\"\n",
    "\n",
    "\"\"\"출력\n",
    "2 X 2 = 4\n",
    "2 X 3 = 6\n",
    "2 X 4 = 8\n",
    "...\n",
    "9 X 9 = 81\n",
    "\"\"\"\n",
    "\n",
    "for i in range(2, 10):\n",
    "    for n in range(2, 10):\n",
    "        print(f\"{i} X {n} = {i*n}\")"
   ]
  },
  {
   "cell_type": "code",
   "execution_count": null,
   "metadata": {},
   "outputs": [],
   "source": []
  }
 ],
 "metadata": {
  "kernelspec": {
   "display_name": "base",
   "language": "python",
   "name": "python3"
  },
  "language_info": {
   "codemirror_mode": {
    "name": "ipython",
    "version": 3
   },
   "file_extension": ".py",
   "mimetype": "text/x-python",
   "name": "python",
   "nbconvert_exporter": "python",
   "pygments_lexer": "ipython3",
   "version": "3.12.4"
  }
 },
 "nbformat": 4,
 "nbformat_minor": 2
}
