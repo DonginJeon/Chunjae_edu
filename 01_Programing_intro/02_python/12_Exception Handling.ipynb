{
 "cells": [
  {
   "cell_type": "code",
   "execution_count": null,
   "metadata": {},
   "outputs": [],
   "source": [
    "try:\n",
    "    # 실행할 코드\n",
    "    # 예외가 발생할 수 있는 코드\n",
    "    # 예외가 발생했을 떄 예외 처리를 하고 싶은 코드\n",
    "    n = int(input(\"숫자를 입력하세요 : \"))\n",
    "    x = 10 / n\n",
    "\n",
    "    pass\n",
    "except Exception as e:  # Exception : 예외의 종류\n",
    "    # 예외가 발생했을 때 실행할 코드\n",
    "    print(\"에러가 발생했습니다:\", e)\n",
    "else:\n",
    "    # 예외가 발생안했을 때 실행할 코드\n",
    "    print(number)\n",
    "finally:\n",
    "    # 예외 발생 여부와 상관없이 항상 실행할 코드\n",
    "    print(\"코드를 종료합니다\")"
   ]
  },
  {
   "cell_type": "code",
   "execution_count": 1,
   "metadata": {},
   "outputs": [
    {
     "name": "stdout",
     "output_type": "stream",
     "text": [
      "정수형으로 변환할 수 없습니다.\n"
     ]
    }
   ],
   "source": [
    "# 예외(except)를 나눠서 작성하는 방법\n",
    "try:\n",
    "    n = int(input(\"숫자를 입력해주세요.\"))\n",
    "except ZeroDivisionError as e:\n",
    "    print(\"0으로는 숫자를 나눌 수 없습니다.\")\n",
    "except ValueError as e:\n",
    "    print(\"정수형으로 변환할 수 없습니다.\")\n",
    "else:\n",
    "    print(number)"
   ]
  }
 ],
 "metadata": {
  "kernelspec": {
   "display_name": "base",
   "language": "python",
   "name": "python3"
  },
  "language_info": {
   "codemirror_mode": {
    "name": "ipython",
    "version": 3
   },
   "file_extension": ".py",
   "mimetype": "text/x-python",
   "name": "python",
   "nbconvert_exporter": "python",
   "pygments_lexer": "ipython3",
   "version": "3.12.4"
  }
 },
 "nbformat": 4,
 "nbformat_minor": 2
}
