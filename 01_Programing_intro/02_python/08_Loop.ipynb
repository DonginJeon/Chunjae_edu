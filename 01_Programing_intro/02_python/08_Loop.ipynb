{
 "cells": [
  {
   "cell_type": "markdown",
   "metadata": {},
   "source": [
    "### for 반복문\n",
    "- 리스트 순회\n",
    "    - 인덱스를 호라용한 순회\n",
    "        인덱스의 범위 : 0 ~ 리스트 원소 개수 - 1\n",
    "- 문자열 순회\n",
    "- 레인지\n",
    "    - for i in range(1,5):\n",
    "        원하는 실행\n",
    "\n",
    "- 값 필터링\n",
    "-\n",
    "\n",
    "\n"
   ]
  },
  {
   "cell_type": "markdown",
   "metadata": {},
   "source": [
    "# for문"
   ]
  },
  {
   "cell_type": "code",
   "execution_count": null,
   "metadata": {},
   "outputs": [],
   "source": [
    "numbers = [\n",
    "    1,\n",
    "    2,\n",
    "    3,\n",
    "    4,\n",
    "    5,\n",
    "    6,\n",
    "]\n",
    "\n",
    "for number in numbers:\n",
    "    print(number * 2)"
   ]
  },
  {
   "cell_type": "code",
   "execution_count": null,
   "metadata": {},
   "outputs": [],
   "source": [
    "# 특정조건에 맞는 원소 출력\n",
    "numbers = [1, 2, 3, 4, 5, 6, 3, 1, 2, 7, 8, 3]\n",
    "\n",
    "for number in numbers:\n",
    "    if number == 3:\n",
    "        print(number)"
   ]
  },
  {
   "cell_type": "code",
   "execution_count": null,
   "metadata": {},
   "outputs": [],
   "source": [
    "# 원소의 개수 카운팅\n",
    "numbers = [1, 2, 3, 4, 5, 6, 3, 1, 2, 7, 8, 3]\n",
    "\n",
    "count = 0\n",
    "for i in numbers:\n",
    "    if i == 3:\n",
    "        count += 1\n",
    "\n",
    "print(count)"
   ]
  },
  {
   "cell_type": "code",
   "execution_count": 24,
   "metadata": {},
   "outputs": [
    {
     "name": "stdout",
     "output_type": "stream",
     "text": [
      "9\n"
     ]
    }
   ],
   "source": [
    "# 가장 큰 값 조회\n",
    "numbers = [1, 5, 6, 4, 9, 8, 7, 2, 3]\n",
    "max_number = 0\n",
    "for n in numbers:\n",
    "    if n > max_number:\n",
    "        max_number = n\n",
    "\n",
    "print(max_number)"
   ]
  },
  {
   "cell_type": "code",
   "execution_count": 26,
   "metadata": {},
   "outputs": [
    {
     "name": "stdout",
     "output_type": "stream",
     "text": [
      "1\n"
     ]
    }
   ],
   "source": [
    "# 가장 작은 값 조회\n",
    "numbers = [1, 5, 6, 4, 9, 8, 7, 2, 3]\n",
    "min_number = 100\n",
    "for n in numbers:\n",
    "    if min_number > n:\n",
    "        min_number = n\n",
    "print(min_number)"
   ]
  },
  {
   "cell_type": "code",
   "execution_count": 33,
   "metadata": {},
   "outputs": [
    {
     "name": "stdout",
     "output_type": "stream",
     "text": [
      "2\n",
      "4\n",
      "6\n"
     ]
    }
   ],
   "source": [
    "# 인덱스 기준 필터링\n",
    "# 인덱스가 홀수 인 것 필터링\n",
    "number = [1, 2, 3, 4, 5, 6]\n",
    "for i in range(0, len(number)):\n",
    "    if i % 2 == 1:\n",
    "        print(number[i])"
   ]
  },
  {
   "cell_type": "markdown",
   "metadata": {},
   "source": [
    "# while 문"
   ]
  },
  {
   "cell_type": "code",
   "execution_count": 36,
   "metadata": {},
   "outputs": [
    {
     "name": "stdout",
     "output_type": "stream",
     "text": [
      "2\n",
      "5\n",
      "8\n",
      "11\n",
      "14\n",
      "17\n",
      "20\n",
      "23\n",
      "26\n",
      "29\n",
      "32\n",
      "35\n",
      "38\n",
      "41\n",
      "44\n",
      "47\n",
      "50\n",
      "53\n",
      "56\n",
      "59\n",
      "62\n",
      "65\n",
      "68\n",
      "71\n",
      "74\n",
      "77\n",
      "80\n",
      "83\n",
      "86\n",
      "89\n",
      "92\n",
      "95\n",
      "98\n"
     ]
    }
   ],
   "source": [
    "# number가 3씩 증가하는데 100보다 작을 때까지\n",
    "number = 2\n",
    "while number < 100:\n",
    "    print(number)\n",
    "    number += 3"
   ]
  },
  {
   "cell_type": "code",
   "execution_count": 40,
   "metadata": {},
   "outputs": [
    {
     "name": "stdout",
     "output_type": "stream",
     "text": [
      "[1, 2, 3, 4]\n",
      "[1, 2, 3]\n",
      "[1, 2]\n",
      "[1]\n",
      "[]\n"
     ]
    }
   ],
   "source": [
    "# 빈 리스트가 될 때까지 값을 삭제\n",
    "number = [1, 2, 3, 4, 5]\n",
    "while number != []:\n",
    "    number.pop()\n",
    "    print(number)"
   ]
  },
  {
   "cell_type": "code",
   "execution_count": 46,
   "metadata": {},
   "outputs": [
    {
     "name": "stdout",
     "output_type": "stream",
     "text": [
      "[]\n",
      "[1]\n",
      "[1, 1]\n",
      "[1, 1, 1]\n",
      "[1, 1, 1, 1]\n",
      "[1, 1, 1, 1, 1]\n",
      "[1, 1, 1, 1, 1, 1]\n",
      "[1, 1, 1, 1, 1, 1, 1]\n",
      "[1, 1, 1, 1, 1, 1, 1, 1]\n",
      "[1, 1, 1, 1, 1, 1, 1, 1, 1]\n"
     ]
    }
   ],
   "source": [
    "# 빈 리스트를 채우기\n",
    "number = []\n",
    "while len(number) != 10:\n",
    "    print(number)\n",
    "    number.append(1)"
   ]
  },
  {
   "cell_type": "markdown",
   "metadata": {},
   "source": [
    "# 반복 제어문"
   ]
  },
  {
   "cell_type": "code",
   "execution_count": null,
   "metadata": {},
   "outputs": [],
   "source": [
    "#for ~ else"
   ]
  }
 ],
 "metadata": {
  "kernelspec": {
   "display_name": "base",
   "language": "python",
   "name": "python3"
  },
  "language_info": {
   "codemirror_mode": {
    "name": "ipython",
    "version": 3
   },
   "file_extension": ".py",
   "mimetype": "text/x-python",
   "name": "python",
   "nbconvert_exporter": "python",
   "pygments_lexer": "ipython3",
   "version": "3.12.4"
  }
 },
 "nbformat": 4,
 "nbformat_minor": 2
}
