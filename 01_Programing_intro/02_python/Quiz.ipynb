{
 "cells": [
  {
   "cell_type": "markdown",
   "metadata": {},
   "source": [
    "# 본 테스트에서는 다른 코드 참고, 검색등의 행위를 금지합니다.\n",
    "# 본 테스트에서는 하드 코딩을 금지합니다."
   ]
  },
  {
   "cell_type": "code",
   "execution_count": 2,
   "metadata": {},
   "outputs": [
    {
     "name": "stdout",
     "output_type": "stream",
     "text": [
      "1\n",
      "5\n",
      "7\n",
      "11\n",
      "13\n",
      "17\n",
      "19\n"
     ]
    },
    {
     "data": {
      "text/plain": [
       "'출력\\n1\\n5\\n7\\n11\\n13\\n17\\n19\\n'"
      ]
     },
     "execution_count": 2,
     "metadata": {},
     "output_type": "execute_result"
    }
   ],
   "source": [
    "\"\"\"\n",
    "리스트 원소 필터링\n",
    "반복문과 조건문을 활용해서 주어진 리스트에서 2의 배수도 아니고 3의 배수도 아닌 숫자만 출력하세요.\n",
    "\"\"\"\n",
    "\n",
    "numbers = [1, 2, 3, 4, 5, 6, 7, 8, 9, 10, 11, 12, 13, 14, 15, 16, 17, 18, 19, 20]\n",
    "\n",
    "for number in numbers:\n",
    "    # if number % 2 != 0 and number % 3 != 0:\n",
    "    #     print(number)\n",
    "\n",
    "    if number % 2 == 0:\n",
    "        continue\n",
    "    elif number % 3 == 0:\n",
    "        continue\n",
    "    print(number)\n",
    "\n",
    "\n",
    "\"\"\"출력\n",
    "1\n",
    "5\n",
    "7\n",
    "11\n",
    "13\n",
    "17\n",
    "19\n",
    "\"\"\""
   ]
  },
  {
   "cell_type": "code",
   "execution_count": 5,
   "metadata": {},
   "outputs": [
    {
     "name": "stdout",
     "output_type": "stream",
     "text": [
      "ananab\n",
      "ananab\n"
     ]
    }
   ],
   "source": [
    "\"\"\"\n",
    "문자열 뒤집기\n",
    "입력한 문자열을 뒤집어서 출력하세요.\n",
    "ex) banana 입력 -> ananab 출력\n",
    "\"\"\"\n",
    "\n",
    "word = input()\n",
    "\n",
    "print(word[::-1])\n",
    "\n",
    "new_word = \"\"\n",
    "for char in list(reversed(word)):\n",
    "    new_word = new_word + char\n",
    "\n",
    "print(new_word)"
   ]
  },
  {
   "cell_type": "code",
   "execution_count": 7,
   "metadata": {},
   "outputs": [
    {
     "name": "stdout",
     "output_type": "stream",
     "text": [
      "8\n"
     ]
    }
   ],
   "source": [
    "\"\"\"\n",
    "짝수만 더하기\n",
    "반복문과 조건문을 활용해서 주어진 리스트에서 짝수만 더한 값을 반환하는 함수를 완성하세요.\n",
    "\"\"\"\n",
    "\n",
    "\n",
    "def even_sum(number_list):\n",
    "    total = 0\n",
    "    for number in number_list:\n",
    "        if number % 2 == 0:\n",
    "            total = total + number\n",
    "\n",
    "    return total\n",
    "\n",
    "\n",
    "numbers = [3, 6, 1, 2]\n",
    "\n",
    "print(even_sum(numbers))\n",
    "\n",
    "# 출력 : 8"
   ]
  },
  {
   "cell_type": "code",
   "execution_count": 11,
   "metadata": {},
   "outputs": [
    {
     "name": "stdout",
     "output_type": "stream",
     "text": [
      "[0, 1, 2, 3, 4, 5]\n",
      "[0, 1, 2, 3, 4, 5]\n",
      "[1, 2, 3, 1]\n"
     ]
    }
   ],
   "source": [
    "\"\"\"\n",
    "리스트에 저장된 문자 정수로 변환\n",
    "반복문을 활용해서 주어진 리스트의 문자열 자료형 정수를 정수형 자료형으로 변환한 리스트를 출력하세요.\n",
    "\"\"\"\n",
    "\n",
    "string_numbers = [\"0\", \"1\", \"2\", \"3\", \"4\", \"5\"]\n",
    "\n",
    "numbers = []\n",
    "for number in string_numbers:\n",
    "    numbers.append(int(number))\n",
    "\n",
    "print(numbers)\n",
    "\n",
    "for index in range(len(string_numbers)):\n",
    "    string_numbers[index] = int(string_numbers[index])\n",
    "\n",
    "print(string_numbers)\n",
    "\n",
    "# map(함수, 컨테이너 자료형) 함수 : 컨테이너 자료형의 각 원소에 함수를 적용\n",
    "numbers2 = list(map(int, [\"1\", \"2\", \"3\", 1.1]))\n",
    "print(numbers2)\n",
    "\n",
    "# 출력 : [0, 1, 2, 3, 4, 5]"
   ]
  },
  {
   "cell_type": "code",
   "execution_count": 13,
   "metadata": {},
   "outputs": [
    {
     "name": "stdout",
     "output_type": "stream",
     "text": [
      "{1, 2, 3, 4, 5, 8, 9}\n",
      "[1, 2, 3, 4, 5, 8, 9]\n"
     ]
    }
   ],
   "source": [
    "\"\"\"\n",
    "중복 제거하기\n",
    "주어진 리스트의 중복 원소를 제거한 리스트를 출력하세요.\n",
    "\"\"\"\n",
    "\n",
    "numbers = [4, 1, 8, 2, 9, 1, 3, 5, 3, 3, 4, 2, 1]\n",
    "set_numbers = set(numbers)\n",
    "print(set_numbers)\n",
    "print(list(set_numbers))\n",
    "\n",
    "# 출력 : [1, 2, 3, 4, 5, 8, 9]\n",
    "# 순서 무관"
   ]
  },
  {
   "cell_type": "code",
   "execution_count": 16,
   "metadata": {},
   "outputs": [
    {
     "name": "stdout",
     "output_type": "stream",
     "text": [
      "apple elppa\n",
      "False\n"
     ]
    }
   ],
   "source": [
    "\"\"\"\n",
    "회문 검사\n",
    "회문(Palindrome)이란 앞에서부터 읽으나 뒤에서부터 읽으나 동일한 문자열을 말합니다. \n",
    "예를 들어, \"level\", \"radar\", \"가나다나가\", \"토마토\" 등은 회문입니다.\n",
    "\n",
    "문자열을 입력받고, 해당 문자열이 회문인지 검사하는 프로그램을 작성하세요.\n",
    "회문이라면 True 아니면 False를 출력합니다.\n",
    "ex) level 입력 -> True 출력 \n",
    "ex) apple -> False 출력\n",
    "\"\"\"\n",
    "\n",
    "word = input()\n",
    "reversed_word = word[::-1]\n",
    "\n",
    "print(word, reversed_word)\n",
    "if word == reversed_word:\n",
    "    print(True)\n",
    "else:\n",
    "    print(False)"
   ]
  },
  {
   "cell_type": "code",
   "execution_count": 1,
   "metadata": {},
   "outputs": [
    {
     "name": "stdout",
     "output_type": "stream",
     "text": [
      "h\n",
      "e\n",
      "l\n",
      "l\n",
      "o\n",
      " \n",
      "w\n",
      "o\n",
      "r\n",
      "l\n",
      "d\n",
      "{'h': 1, 'e': 1, 'l': 3, 'o': 2, ' ': 1, 'w': 1, 'r': 1, 'd': 1}\n"
     ]
    }
   ],
   "source": [
    "\"\"\"\n",
    "문자 카운팅\n",
    "문자열을 입력받고, 해당 문자열에서 각 문자의 등장 횟수를 카운트하고 출력하세요.\n",
    "내장 함수 없이 풀이해주세요. \n",
    "딕셔너리를 활용해주세요.\n",
    "\"\"\"\n",
    "\n",
    "sentence = input()\n",
    "\n",
    "count = {}  # 딕셔너리 변수, 문자들의 개수를 저장\n",
    "\n",
    "for char in sentence:\n",
    "    print(char)\n",
    "\n",
    "    if char not in count:  # count key 모음중에 문자가 없으면\n",
    "        count[char] = 1\n",
    "    elif char in count:  # count key 모음중에 문자가 있으면\n",
    "        count[char] = count[char] + 1\n",
    "        # count[char] += 1\n",
    "\n",
    "print(count)"
   ]
  },
  {
   "cell_type": "code",
   "execution_count": 19,
   "metadata": {},
   "outputs": [
    {
     "name": "stdout",
     "output_type": "stream",
     "text": [
      "2 X 2 = 4\n",
      "2 X 3 = 6\n",
      "2 X 4 = 8\n",
      "2 X 5 = 10\n",
      "2 X 6 = 12\n",
      "2 X 7 = 14\n",
      "2 X 8 = 16\n",
      "2 X 9 = 18\n",
      "3 X 2 = 6\n",
      "3 X 3 = 9\n",
      "3 X 4 = 12\n",
      "3 X 5 = 15\n",
      "3 X 6 = 18\n",
      "3 X 7 = 21\n",
      "3 X 8 = 24\n",
      "3 X 9 = 27\n",
      "4 X 2 = 8\n",
      "4 X 3 = 12\n",
      "4 X 4 = 16\n",
      "4 X 5 = 20\n",
      "4 X 6 = 24\n",
      "4 X 7 = 28\n",
      "4 X 8 = 32\n",
      "4 X 9 = 36\n",
      "5 X 2 = 10\n",
      "5 X 3 = 15\n",
      "5 X 4 = 20\n",
      "5 X 5 = 25\n",
      "5 X 6 = 30\n",
      "5 X 7 = 35\n",
      "5 X 8 = 40\n",
      "5 X 9 = 45\n",
      "6 X 2 = 12\n",
      "6 X 3 = 18\n",
      "6 X 4 = 24\n",
      "6 X 5 = 30\n",
      "6 X 6 = 36\n",
      "6 X 7 = 42\n",
      "6 X 8 = 48\n",
      "6 X 9 = 54\n",
      "7 X 2 = 14\n",
      "7 X 3 = 21\n",
      "7 X 4 = 28\n",
      "7 X 5 = 35\n",
      "7 X 6 = 42\n",
      "7 X 7 = 49\n",
      "7 X 8 = 56\n",
      "7 X 9 = 63\n",
      "8 X 2 = 16\n",
      "8 X 3 = 24\n",
      "8 X 4 = 32\n",
      "8 X 5 = 40\n",
      "8 X 6 = 48\n",
      "8 X 7 = 56\n",
      "8 X 8 = 64\n",
      "8 X 9 = 72\n",
      "9 X 2 = 18\n",
      "9 X 3 = 27\n",
      "9 X 4 = 36\n",
      "9 X 5 = 45\n",
      "9 X 6 = 54\n",
      "9 X 7 = 63\n",
      "9 X 8 = 72\n",
      "9 X 9 = 81\n"
     ]
    },
    {
     "data": {
      "text/plain": [
       "'출력\\n2 X 2 = 4\\n2 X 3 = 6\\n2 X 4 = 8\\n...\\n9 X 9 = 81\\n'"
      ]
     },
     "execution_count": 19,
     "metadata": {},
     "output_type": "execute_result"
    }
   ],
   "source": [
    "\"\"\"\n",
    "구구단 출력하기\n",
    "중첩 반복문을 활용해서 구구단 2단부터 9단까지 출력하세요.\n",
    "\"\"\"\n",
    "\n",
    "for i in range(2, 10):\n",
    "    for j in range(2, 10):\n",
    "        print(f\"{i} X {j} = {i*j}\")\n",
    "\n",
    "\"\"\"출력\n",
    "2 X 2 = 4\n",
    "2 X 3 = 6\n",
    "2 X 4 = 8\n",
    "...\n",
    "9 X 9 = 81\n",
    "\"\"\""
   ]
  },
  {
   "cell_type": "code",
   "execution_count": null,
   "metadata": {},
   "outputs": [],
   "source": []
  }
 ],
 "metadata": {
  "kernelspec": {
   "display_name": "base",
   "language": "python",
   "name": "python3"
  },
  "language_info": {
   "codemirror_mode": {
    "name": "ipython",
    "version": 3
   },
   "file_extension": ".py",
   "mimetype": "text/x-python",
   "name": "python",
   "nbconvert_exporter": "python",
   "pygments_lexer": "ipython3",
   "version": "3.12.4"
  }
 },
 "nbformat": 4,
 "nbformat_minor": 2
}
