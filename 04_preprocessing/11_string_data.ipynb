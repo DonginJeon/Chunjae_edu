{
 "cells": [
  {
   "cell_type": "code",
   "execution_count": 36,
   "metadata": {},
   "outputs": [],
   "source": [
    "import pandas as pd\n",
    "\n",
    "data = {\n",
    "    \"Name\": [\n",
    "        \"John\",\n",
    "        \"Alice\",\n",
    "        \"Bob\",\n",
    "        \"Eve\",\n",
    "        \"Charlie\",\n",
    "    ],\n",
    "    \"Gender\": [\n",
    "        \"Male\",\n",
    "        \"Female\",\n",
    "        \"Male\",\n",
    "        \"Female\",\n",
    "        \"Male\",\n",
    "    ],\n",
    "    \"Occupation\": [\n",
    "        \"Student\",\n",
    "        \"Teacher\",\n",
    "        \"Doctor\",\n",
    "        \"Engineer\",\n",
    "        \"Designer\",\n",
    "    ],\n",
    "    \"City\": [\n",
    "        \"New York\",\n",
    "        \"Los Angeles\",\n",
    "        \"Chicago\",\n",
    "        \"New York\",\n",
    "        \"Los Angeles\",\n",
    "    ],\n",
    "    \"Email\": [\n",
    "        \"john@example.com\",\n",
    "        \"alice@example.com\",\n",
    "        \"bob@domain.com\",\n",
    "        \"eve@domain.com\",\n",
    "        \"charlie@test.co.kr\",\n",
    "    ],\n",
    "}\n",
    "\n",
    "df = pd.DataFrame(data)"
   ]
  },
  {
   "cell_type": "code",
   "execution_count": 37,
   "metadata": {},
   "outputs": [
    {
     "name": "stdout",
     "output_type": "stream",
     "text": [
      "  Name  Gender Occupation      City           Email\n",
      "2  Bob    male     Doctor   Chicago  bob@domain.com\n",
      "3  Eve  female   Engineer  New York  eve@domain.com\n",
      "  Name           Email\n",
      "2  Bob  bob@domain.com\n",
      "3  Eve  eve@domain.com\n"
     ]
    }
   ],
   "source": [
    "# 문자열 처리\n",
    "# str 접근자 : 문자열 처리를 도와주는 도구\n",
    "# df[\"열\"].str.메서드()\n",
    "\n",
    "# 1. 소문자로 변환\n",
    "df[\"Gender\"] = df[\"Gender\"].str.lower()\n",
    "\n",
    "# 2. 이메일에서 domain.com 포함한 행만 탐색\n",
    "# 2-1. 이메일에서 domain.com 포함한 행을 true 반환\n",
    "domain_contains_index = df[\"Email\"].str.contains(\"domain.com\")\n",
    "\n",
    "\n",
    "# 2-2. 2-1에서 얻은 데이터로 필터링\n",
    "print(df.loc[domain_contains_index])\n",
    "\n",
    "# 2-3. name과 이메일 열만 출력\n",
    "print(df.loc[domain_contains_index, [\"Name\", \"Email\"]])"
   ]
  },
  {
   "cell_type": "code",
   "execution_count": 42,
   "metadata": {},
   "outputs": [
    {
     "data": {
      "text/html": [
       "<div>\n",
       "<style scoped>\n",
       "    .dataframe tbody tr th:only-of-type {\n",
       "        vertical-align: middle;\n",
       "    }\n",
       "\n",
       "    .dataframe tbody tr th {\n",
       "        vertical-align: top;\n",
       "    }\n",
       "\n",
       "    .dataframe thead th {\n",
       "        text-align: right;\n",
       "    }\n",
       "</style>\n",
       "<table border=\"1\" class=\"dataframe\">\n",
       "  <thead>\n",
       "    <tr style=\"text-align: right;\">\n",
       "      <th></th>\n",
       "      <th>Name</th>\n",
       "      <th>Gender</th>\n",
       "      <th>Occupation</th>\n",
       "      <th>City</th>\n",
       "      <th>Email</th>\n",
       "      <th>Id</th>\n",
       "    </tr>\n",
       "  </thead>\n",
       "  <tbody>\n",
       "    <tr>\n",
       "      <th>0</th>\n",
       "      <td>John</td>\n",
       "      <td>male</td>\n",
       "      <td>Student</td>\n",
       "      <td>New York</td>\n",
       "      <td>john@example.com</td>\n",
       "      <td>john</td>\n",
       "    </tr>\n",
       "    <tr>\n",
       "      <th>1</th>\n",
       "      <td>Alice</td>\n",
       "      <td>female</td>\n",
       "      <td>Teacher</td>\n",
       "      <td>Los Angeles</td>\n",
       "      <td>alice@example.com</td>\n",
       "      <td>alice</td>\n",
       "    </tr>\n",
       "    <tr>\n",
       "      <th>2</th>\n",
       "      <td>Bob</td>\n",
       "      <td>male</td>\n",
       "      <td>Doctor</td>\n",
       "      <td>Chicago</td>\n",
       "      <td>bob@domain.com</td>\n",
       "      <td>bob</td>\n",
       "    </tr>\n",
       "    <tr>\n",
       "      <th>3</th>\n",
       "      <td>Eve</td>\n",
       "      <td>female</td>\n",
       "      <td>Engineer</td>\n",
       "      <td>New York</td>\n",
       "      <td>eve@domain.com</td>\n",
       "      <td>eve</td>\n",
       "    </tr>\n",
       "    <tr>\n",
       "      <th>4</th>\n",
       "      <td>Charlie</td>\n",
       "      <td>male</td>\n",
       "      <td>Designer</td>\n",
       "      <td>Los Angeles</td>\n",
       "      <td>charlie@test.co.kr</td>\n",
       "      <td>charlie</td>\n",
       "    </tr>\n",
       "  </tbody>\n",
       "</table>\n",
       "</div>"
      ],
      "text/plain": [
       "      Name  Gender Occupation         City               Email       Id\n",
       "0     John    male    Student     New York    john@example.com     john\n",
       "1    Alice  female    Teacher  Los Angeles   alice@example.com    alice\n",
       "2      Bob    male     Doctor      Chicago      bob@domain.com      bob\n",
       "3      Eve  female   Engineer     New York      eve@domain.com      eve\n",
       "4  Charlie    male   Designer  Los Angeles  charlie@test.co.kr  charlie"
      ]
     },
     "execution_count": 42,
     "metadata": {},
     "output_type": "execute_result"
    }
   ],
   "source": [
    "# email 열을 \"@\"를 기준으로 하여 분할 str.split()\n",
    "df[\"Email\"].str.split(\"@\")\n",
    "\n",
    "# 아이디와 도메인 열을 생성하여 각각 저장\n",
    "df[\"Id\"] = df[\"Email\"].str.split(\"@\",expand = True)[0]\n",
    "df"
   ]
  },
  {
   "cell_type": "code",
   "execution_count": 12,
   "metadata": {},
   "outputs": [],
   "source": [
    "# 범주형 자료형 변환\n",
    "import pandas as pd\n",
    "\n",
    "df = pd.DataFrame({\"등급\": [\"low\", \"medium\", \"high\", \"low\", \"high\", \"medium\", \"low\"]})"
   ]
  },
  {
   "cell_type": "code",
   "execution_count": 17,
   "metadata": {},
   "outputs": [
    {
     "name": "stdout",
     "output_type": "stream",
     "text": [
      "       등급\n",
      "0     low\n",
      "3     low\n",
      "6     low\n",
      "1  medium\n",
      "5  medium\n",
      "2    high\n",
      "4    high\n",
      "<bound method Series.sort_values of 0       low\n",
      "1    medium\n",
      "2      high\n",
      "3       low\n",
      "4      high\n",
      "5    medium\n",
      "6       low\n",
      "Name: 등급, dtype: category\n",
      "Categories (3, object): ['low' < 'medium' < 'high']>\n"
     ]
    }
   ],
   "source": [
    "# pd.Categorical(values,categories, ordered) 메서드\n",
    "\n",
    "#데이터 중 어떤 데이터를 범주형으로 변환할건지 정의\n",
    "#순서형 데이터의 경우 순서도 정의\n",
    "\n",
    "\n",
    "\n",
    "category_list = [\"low\",\"medium\",\"high\"]\n",
    "\n",
    "df[\"등급\"] = pd.Categorical(\n",
    "    values = df[\"등급\"],\n",
    "    categories = category_list,\n",
    "    ordered = True,\n",
    ")\n",
    "\n",
    "print(df.sort_values(by=\"등급\"))\n",
    "print(df[\"등급\"].sort_values)\n"
   ]
  },
  {
   "cell_type": "code",
   "execution_count": 21,
   "metadata": {},
   "outputs": [
    {
     "name": "stdout",
     "output_type": "stream",
     "text": [
      "       등급\n",
      "1  medium\n",
      "2    high\n",
      "4    high\n",
      "5  medium\n"
     ]
    }
   ],
   "source": [
    "import pandas as pd\n",
    "\n",
    "df = pd.DataFrame({\"등급\": [\"low\", \"medium\", \"high\", \"low\", \"high\", \"medium\", \"low\"]})\n",
    "\n",
    "# 범주 리스트\n",
    "# 리스트 값 순서대로 범주형 데이터의 순서가 정해집니다.\n",
    "grade_order = [\"low\", \"medium\", \"high\"]\n",
    "\n",
    "df[\"등급\"] = pd.Categorical(\n",
    "    df[\"등급\"],\n",
    "    categories=grade_order,\n",
    "    ordered=True,  # 범주형 데이터에 순서 부여\n",
    ")\n",
    "\n",
    "#범주형 자료형의 비교(필터링)\n",
    "#등급이 medium 이상의 행만 출력\n",
    "print(df[df['등급']>='medium'])"
   ]
  },
  {
   "cell_type": "code",
   "execution_count": 22,
   "metadata": {},
   "outputs": [],
   "source": [
    "import pandas as pd\n",
    "\n",
    "df = pd.DataFrame(\n",
    "    {\n",
    "        \"등급\": [\"1\", \"3\", \"2\", \"5\", \"4\", \"1\", \"3\", \"2\", \"5\", \"2\", \"4\"],\n",
    "    }\n",
    ")"
   ]
  },
  {
   "cell_type": "code",
   "execution_count": 31,
   "metadata": {},
   "outputs": [
    {
     "name": "stdout",
     "output_type": "stream",
     "text": [
      "   등급\n",
      "0   1\n",
      "1   3\n",
      "2   2\n",
      "3   5\n",
      "4   4\n",
      "5   1\n",
      "6   3\n",
      "7   2\n",
      "8   5\n",
      "9   2\n",
      "10  4\n"
     ]
    },
    {
     "data": {
      "text/html": [
       "<div>\n",
       "<style scoped>\n",
       "    .dataframe tbody tr th:only-of-type {\n",
       "        vertical-align: middle;\n",
       "    }\n",
       "\n",
       "    .dataframe tbody tr th {\n",
       "        vertical-align: top;\n",
       "    }\n",
       "\n",
       "    .dataframe thead th {\n",
       "        text-align: right;\n",
       "    }\n",
       "</style>\n",
       "<table border=\"1\" class=\"dataframe\">\n",
       "  <thead>\n",
       "    <tr style=\"text-align: right;\">\n",
       "      <th></th>\n",
       "      <th>등급</th>\n",
       "    </tr>\n",
       "  </thead>\n",
       "  <tbody>\n",
       "    <tr>\n",
       "      <th>3</th>\n",
       "      <td>5</td>\n",
       "    </tr>\n",
       "    <tr>\n",
       "      <th>4</th>\n",
       "      <td>4</td>\n",
       "    </tr>\n",
       "    <tr>\n",
       "      <th>8</th>\n",
       "      <td>5</td>\n",
       "    </tr>\n",
       "    <tr>\n",
       "      <th>10</th>\n",
       "      <td>4</td>\n",
       "    </tr>\n",
       "  </tbody>\n",
       "</table>\n",
       "</div>"
      ],
      "text/plain": [
       "   등급\n",
       "3   5\n",
       "4   4\n",
       "8   5\n",
       "10  4"
      ]
     },
     "execution_count": 31,
     "metadata": {},
     "output_type": "execute_result"
    }
   ],
   "source": [
    "order_ = [\"1\",\"2\",\"3\",\"4\",\"5\"]\n",
    "df[\"등급\"] = pd.Categorical(df[\"등급\"],categories=order_,ordered = True)\n",
    "print(df)\n",
    "df[df[\"등급\"]>\"3\"]"
   ]
  }
 ],
 "metadata": {
  "kernelspec": {
   "display_name": "base",
   "language": "python",
   "name": "python3"
  },
  "language_info": {
   "codemirror_mode": {
    "name": "ipython",
    "version": 3
   },
   "file_extension": ".py",
   "mimetype": "text/x-python",
   "name": "python",
   "nbconvert_exporter": "python",
   "pygments_lexer": "ipython3",
   "version": "3.12.4"
  }
 },
 "nbformat": 4,
 "nbformat_minor": 2
}
