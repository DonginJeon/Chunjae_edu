{
 "cells": [
  {
   "cell_type": "code",
   "execution_count": 5,
   "metadata": {},
   "outputs": [
    {
     "name": "stdout",
     "output_type": "stream",
     "text": [
      "[[1 2]\n",
      " [3 4]]\n"
     ]
    }
   ],
   "source": [
    "import numpy as np\n",
    "\n",
    "array_1d = np.array([1, 2, 3])\n",
    "# print(array_1d)\n",
    "\n",
    "# 리스트의 특징\n",
    "array_1d = np.array([1, 2, \"3\"])\n",
    "# print(array_1d)\n",
    "\n",
    "# 2차원 넘파이 배열 생성\n",
    "array_2d = np.array([[1, 2], [3, 4]])\n",
    "print(array_2d)"
   ]
  },
  {
   "cell_type": "code",
   "execution_count": 12,
   "metadata": {},
   "outputs": [
    {
     "name": "stdout",
     "output_type": "stream",
     "text": [
      "[0. 0. 0. 0. 0. 0. 0. 0. 0. 0.]\n",
      "[[0. 0. 0. 0. 0. 0. 0. 0. 0. 0.]\n",
      " [0. 0. 0. 0. 0. 0. 0. 0. 0. 0.]\n",
      " [0. 0. 0. 0. 0. 0. 0. 0. 0. 0.]\n",
      " [0. 0. 0. 0. 0. 0. 0. 0. 0. 0.]\n",
      " [0. 0. 0. 0. 0. 0. 0. 0. 0. 0.]]\n",
      "[[9 9 9]\n",
      " [9 9 9]\n",
      " [9 9 9]]\n",
      "[0.472264   0.68697624 0.10352378 0.90577613 0.10676077 0.19513558\n",
      " 0.92092183 0.96284669 0.41563234 0.72832749]\n"
     ]
    }
   ],
   "source": [
    "zero_array = np.zeros(10)\n",
    "print(zero_array)\n",
    "\n",
    "zero_array_2d = np.zeros((5, 10))\n",
    "print(zero_array_2d)\n",
    "\n",
    "nine_array_2d = np.full((3, 3), 9)\n",
    "print(nine_array_2d)\n",
    "\n",
    "random_array = np.random.random(10)\n",
    "print(random_array)"
   ]
  },
  {
   "cell_type": "code",
   "execution_count": 15,
   "metadata": {},
   "outputs": [
    {
     "name": "stdout",
     "output_type": "stream",
     "text": [
      "[ 4 10 18]\n",
      "[[ 6  8]\n",
      " [10 12]]\n",
      "[[ 5 12]\n",
      " [21 32]]\n",
      "[[-4 -4]\n",
      " [-4 -4]]\n",
      "[[1 2]\n",
      " [3 4]]\n"
     ]
    }
   ],
   "source": [
    "# 배열의 연산\n",
    "array1 = np.array([1, 2, 3])\n",
    "array2 = np.array([4, 5, 6])\n",
    "array3 = array1 * array2\n",
    "\n",
    "print(array3)  # 4 10 18\n",
    "\n",
    "# 행렬 간 사이즈 같아야 연산 가능\n",
    "\n",
    "array1_2d = np.array([[1, 2], [3, 4]])\n",
    "array2_2d = np.array([[5, 6], [7, 8]])\n",
    "\n",
    "print(array1_2d + array2_2d)\n",
    "print(array1_2d * array2_2d)\n",
    "print(array1_2d - array2_2d)\n",
    "print(array1_2d % array2_2d)"
   ]
  },
  {
   "cell_type": "code",
   "execution_count": 17,
   "metadata": {},
   "outputs": [
    {
     "name": "stdout",
     "output_type": "stream",
     "text": [
      "[0. 0. 0. 0. 0. 0. 0. 0. 0. 0. 0. 0.]\n",
      "(12,)\n",
      "[[0. 0. 0.]\n",
      " [0. 0. 0.]\n",
      " [0. 0. 0.]]\n",
      "(3, 3)\n"
     ]
    }
   ],
   "source": [
    "# 배열의 차원 크기\n",
    "array_1d = np.zeros(12)\n",
    "print(array_1d)\n",
    "print(array_1d.shape)\n",
    "\n",
    "array_2d = np.zeros((3, 3))\n",
    "print(array_2d)\n",
    "print(array_2d.shape)"
   ]
  },
  {
   "cell_type": "code",
   "execution_count": 18,
   "metadata": {},
   "outputs": [
    {
     "name": "stdout",
     "output_type": "stream",
     "text": [
      "(12,)\n",
      "(6, 2)\n",
      "[[ 0  1]\n",
      " [ 2  3]\n",
      " [ 4  5]\n",
      " [ 6  7]\n",
      " [ 9 10]\n",
      " [11 12]]\n"
     ]
    }
   ],
   "source": [
    "array_1d = np.array([0, 1, 2, 3, 4, 5, 6, 7, 9, 10, 11, 12])\n",
    "\n",
    "print(array_1d.shape)  # (12,), 1차원 배열이며 12개의 값을 가진 배열\n",
    "\n",
    "\n",
    "array_2d = array_1d.reshape((6, 2))\n",
    "print(array_2d.shape)  # (6, 2), 2차원 배열이며 6행 2열의 배열\n",
    "print(array_2d)"
   ]
  }
 ],
 "metadata": {
  "kernelspec": {
   "display_name": "base",
   "language": "python",
   "name": "python3"
  },
  "language_info": {
   "codemirror_mode": {
    "name": "ipython",
    "version": 3
   },
   "file_extension": ".py",
   "mimetype": "text/x-python",
   "name": "python",
   "nbconvert_exporter": "python",
   "pygments_lexer": "ipython3",
   "version": "3.12.4"
  }
 },
 "nbformat": 4,
 "nbformat_minor": 2
}
