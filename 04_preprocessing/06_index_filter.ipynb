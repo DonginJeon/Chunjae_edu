{
 "cells": [
  {
   "cell_type": "code",
   "execution_count": 2,
   "metadata": {},
   "outputs": [
    {
     "name": "stdout",
     "output_type": "stream",
     "text": [
      "           Name           Position         Office  Age  Salary\n",
      "0      John Doe  Software Engineer       New York   28   95000\n",
      "1    Jane Smith     Data Scientist  San Francisco   34  125000\n",
      "2   Peter Jones    Project Manager         Berlin   45   75000\n",
      "3  Linda Taylor      HR Specialist         London   32   85000\n",
      "4   Emily Clark     Data Scientist  San Francisco   30  115000\n",
      "            Name           Position         Office  Age  Salary\n",
      "3   Linda Taylor      HR Specialist         London   32   85000\n",
      "4    Emily Clark     Data Scientist  San Francisco   30  115000\n",
      "5    David Smith  Software Engineer       New York   38  105000\n",
      "6  Michael Brown      HR Specialist         London   41   90000\n",
      "7  Sarah Johnson    Project Manager         Berlin   29   80000\n"
     ]
    }
   ],
   "source": [
    "import pandas as pd\n",
    "\n",
    "data = {\n",
    "    \"Name\": [\n",
    "        \"John Doe\",\n",
    "        \"Jane Smith\",\n",
    "        \"Peter Jones\",\n",
    "        \"Linda Taylor\",\n",
    "        \"Emily Clark\",\n",
    "        \"David Smith\",\n",
    "        \"Michael Brown\",\n",
    "        \"Sarah Johnson\",\n",
    "    ],\n",
    "    \"Position\": [\n",
    "        \"Software Engineer\",\n",
    "        \"Data Scientist\",\n",
    "        \"Project Manager\",\n",
    "        \"HR Specialist\",\n",
    "        \"Data Scientist\",\n",
    "        \"Software Engineer\",\n",
    "        \"HR Specialist\",\n",
    "        \"Project Manager\",\n",
    "    ],\n",
    "    \"Office\": [\n",
    "        \"New York\",\n",
    "        \"San Francisco\",\n",
    "        \"Berlin\",\n",
    "        \"London\",\n",
    "        \"San Francisco\",\n",
    "        \"New York\",\n",
    "        \"London\",\n",
    "        \"Berlin\",\n",
    "    ],\n",
    "    \"Age\": [28, 34, 45, 32, 30, 38, 41, 29],\n",
    "    \"Salary\": [95000, 125000, 75000, 85000, 115000, 105000, 90000, 80000],\n",
    "}\n",
    "\n",
    "df = pd.DataFrame(data)\n",
    "print(df.head())\n",
    "print(df.tail())"
   ]
  },
  {
   "cell_type": "code",
   "execution_count": 4,
   "metadata": {},
   "outputs": [
    {
     "data": {
      "text/html": [
       "<div>\n",
       "<style scoped>\n",
       "    .dataframe tbody tr th:only-of-type {\n",
       "        vertical-align: middle;\n",
       "    }\n",
       "\n",
       "    .dataframe tbody tr th {\n",
       "        vertical-align: top;\n",
       "    }\n",
       "\n",
       "    .dataframe thead th {\n",
       "        text-align: right;\n",
       "    }\n",
       "</style>\n",
       "<table border=\"1\" class=\"dataframe\">\n",
       "  <thead>\n",
       "    <tr style=\"text-align: right;\">\n",
       "      <th></th>\n",
       "      <th>Age</th>\n",
       "      <th>Name</th>\n",
       "    </tr>\n",
       "  </thead>\n",
       "  <tbody>\n",
       "    <tr>\n",
       "      <th>0</th>\n",
       "      <td>28</td>\n",
       "      <td>John Doe</td>\n",
       "    </tr>\n",
       "    <tr>\n",
       "      <th>1</th>\n",
       "      <td>34</td>\n",
       "      <td>Jane Smith</td>\n",
       "    </tr>\n",
       "    <tr>\n",
       "      <th>2</th>\n",
       "      <td>45</td>\n",
       "      <td>Peter Jones</td>\n",
       "    </tr>\n",
       "    <tr>\n",
       "      <th>3</th>\n",
       "      <td>32</td>\n",
       "      <td>Linda Taylor</td>\n",
       "    </tr>\n",
       "    <tr>\n",
       "      <th>4</th>\n",
       "      <td>30</td>\n",
       "      <td>Emily Clark</td>\n",
       "    </tr>\n",
       "    <tr>\n",
       "      <th>5</th>\n",
       "      <td>38</td>\n",
       "      <td>David Smith</td>\n",
       "    </tr>\n",
       "    <tr>\n",
       "      <th>6</th>\n",
       "      <td>41</td>\n",
       "      <td>Michael Brown</td>\n",
       "    </tr>\n",
       "    <tr>\n",
       "      <th>7</th>\n",
       "      <td>29</td>\n",
       "      <td>Sarah Johnson</td>\n",
       "    </tr>\n",
       "  </tbody>\n",
       "</table>\n",
       "</div>"
      ],
      "text/plain": [
       "   Age           Name\n",
       "0   28       John Doe\n",
       "1   34     Jane Smith\n",
       "2   45    Peter Jones\n",
       "3   32   Linda Taylor\n",
       "4   30    Emily Clark\n",
       "5   38    David Smith\n",
       "6   41  Michael Brown\n",
       "7   29  Sarah Johnson"
      ]
     },
     "execution_count": 4,
     "metadata": {},
     "output_type": "execute_result"
    }
   ],
   "source": [
    "df[[\"Age\", \"Name\"]]"
   ]
  },
  {
   "cell_type": "code",
   "execution_count": 16,
   "metadata": {},
   "outputs": [
    {
     "name": "stdout",
     "output_type": "stream",
     "text": [
      "           Name  Salary\n",
      "1    Jane Smith  125000\n",
      "3  Linda Taylor   85000\n",
      "5   David Smith  105000\n"
     ]
    }
   ],
   "source": [
    "#.loc\n",
    "\n",
    "df.loc[0]\n",
    "\n",
    "#범위 행 선택(슬라이싱을 하지만 끝행번호도 포함됨)\n",
    "df.loc[2:4]\n",
    "\n",
    "#복수행 선택\n",
    "df.loc[[0,2,4]]\n",
    "\n",
    "# #단일 열 선택\n",
    "# print(df.loc[:,\"Name\"])\n",
    "\n",
    "# #복수 열 선택\n",
    "# print(df.loc[:,[\"Age\",\"Name\"]])\n",
    "\n",
    "#실습\n",
    "print(df.loc[[1,3,5],[\"Name\",\"Salary\"]])\n",
    "\n",
    "모든 행에 대한 범위 열 선책\n"
   ]
  },
  {
   "cell_type": "code",
   "execution_count": 22,
   "metadata": {},
   "outputs": [
    {
     "name": "stdout",
     "output_type": "stream",
     "text": [
      "Name                 John Doe\n",
      "Position    Software Engineer\n",
      "Office               New York\n",
      "Age                        28\n",
      "Salary                  95000\n",
      "Name: 0, dtype: object\n",
      "           Name           Position         Office  Age  Salary\n",
      "0      John Doe  Software Engineer       New York   28   95000\n",
      "1    Jane Smith     Data Scientist  San Francisco   34  125000\n",
      "2   Peter Jones    Project Manager         Berlin   45   75000\n",
      "3  Linda Taylor      HR Specialist         London   32   85000\n",
      "4   Emily Clark     Data Scientist  San Francisco   30  115000\n",
      "          Name           Position    Office  Age  Salary\n",
      "0     John Doe  Software Engineer  New York   28   95000\n",
      "2  Peter Jones    Project Manager    Berlin   45   75000\n",
      "0         John Doe\n",
      "1       Jane Smith\n",
      "2      Peter Jones\n",
      "3     Linda Taylor\n",
      "4      Emily Clark\n",
      "5      David Smith\n",
      "6    Michael Brown\n",
      "7    Sarah Johnson\n",
      "Name: Name, dtype: object\n"
     ]
    }
   ],
   "source": [
    "# .iloc\n",
    "\n",
    "# 단일 행 선택\n",
    "print(df.iloc[0])\n",
    "\n",
    "# 범위 행 선택\n",
    "print(df.iloc[0:5])\n",
    "\n",
    "# 복수 행 선택\n",
    "print(df.iloc[[0, 2]])\n",
    "\n",
    "# 모든 행에 대한 첫 번째 열을 선택해서 출력\n",
    "print(df.iloc[:, 0])"
   ]
  },
  {
   "cell_type": "code",
   "execution_count": 36,
   "metadata": {},
   "outputs": [
    {
     "name": "stdout",
     "output_type": "stream",
     "text": [
      "0    False\n",
      "1     True\n",
      "2    False\n",
      "3    False\n",
      "4    False\n",
      "5    False\n",
      "6    False\n",
      "7    False\n",
      "dtype: bool\n",
      "            Name         Position  Office  Age  Salary\n",
      "2    Peter Jones  Project Manager  Berlin   45   75000\n",
      "6  Michael Brown    HR Specialist  London   41   90000\n"
     ]
    }
   ],
   "source": [
    "# 필터링\n",
    "# 부서가 데사인 데이터만 추출\n",
    "df[df[\"Position\"] == \"Data Scientist\"]\n",
    "\n",
    "# age가 30 초과인 행만 필터링하는 코드를 작성\n",
    "df[df[\"Age\"] > 30]\n",
    "\n",
    "# 복수조선\n",
    "# 파이썬 논리연산자 and or\n",
    "# 판다스 논리 연산자 &(앰퍼샌드) |(파이프) \n",
    "\n",
    "#position이 data scientist age가 40보다 큰\n",
    "print((df[\"Position\"]==\"Data Scientist\") & (df[\"Age\"] > 31))\n",
    "\n",
    "#실습\n",
    "print(df[(df[\"Office\"]==\"New work\") | (df[\"Age\"] > 40)])"
   ]
  },
  {
   "cell_type": "code",
   "execution_count": 41,
   "metadata": {},
   "outputs": [
    {
     "name": "stdout",
     "output_type": "stream",
     "text": [
      "          Name           Position         Office  Age  Salary\n",
      "0     John Doe  Software Engineer       New York   28   95000\n",
      "1   Jane Smith     Data Scientist  San Francisco   34  125000\n",
      "4  Emily Clark     Data Scientist  San Francisco   30  115000\n",
      "5  David Smith  Software Engineer       New York   38  105000\n"
     ]
    }
   ],
   "source": [
    "#isin\n",
    "#Position이 software Engineer,Data Scientist, HR specialist\n",
    "filtering = df[\"Position\"].isin([\"Software Engineer\",\"Data Scientist\",\" HR Specialist\"])\n",
    "print(df[filtering])"
   ]
  }
 ],
 "metadata": {
  "kernelspec": {
   "display_name": "base",
   "language": "python",
   "name": "python3"
  },
  "language_info": {
   "codemirror_mode": {
    "name": "ipython",
    "version": 3
   },
   "file_extension": ".py",
   "mimetype": "text/x-python",
   "name": "python",
   "nbconvert_exporter": "python",
   "pygments_lexer": "ipython3",
   "version": "3.12.4"
  }
 },
 "nbformat": 4,
 "nbformat_minor": 2
}
