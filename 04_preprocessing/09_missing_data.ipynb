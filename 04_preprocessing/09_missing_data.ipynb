{
 "cells": [
  {
   "cell_type": "code",
   "execution_count": 1,
   "metadata": {},
   "outputs": [],
   "source": [
    "import numpy as np\n",
    "import pandas as pd\n",
    "\n",
    " \n",
    "data = {\n",
    "    \"학생\": [\n",
    "        \"이순신\",\n",
    "        \"세종대왕\",\n",
    "        \"윤봉길\",\n",
    "        \"안중근\",\n",
    "        \"김구\",\n",
    "        \"강감찬\",\n",
    "        \"유관순\",\n",
    "        \"장영실\",\n",
    "        \"이성계\",\n",
    "        \"이황\",\n",
    "    ],\n",
    "    \"국어\": [85, 92, np.nan, 88, 76, 95, np.nan, 90, 80, np.nan],\n",
    "    \"수학\": [78, 85, 88, np.nan, 90, 85, 93, np.nan, 82, 77],\n",
    "    \"영어\": [92, np.nan, 85, 89, 94, 90, np.nan, 88, 84, 79],\n",
    "    \"과학\": [np.nan, 89, 90, 85, 87, 93, 92, 90, np.nan, 88],\n",
    "}\n",
    " \n",
    "df = pd.DataFrame(data)"
   ]
  },
  {
   "cell_type": "code",
   "execution_count": 18,
   "metadata": {},
   "outputs": [
    {
     "data": {
      "text/plain": [
       "학생    0\n",
       "국어    3\n",
       "수학    2\n",
       "영어    2\n",
       "과학    2\n",
       "dtype: int64"
      ]
     },
     "execution_count": 18,
     "metadata": {},
     "output_type": "execute_result"
    }
   ],
   "source": [
    "#1 결측치 확인\n",
    "df.isnull().sum()"
   ]
  },
  {
   "cell_type": "code",
   "execution_count": 5,
   "metadata": {},
   "outputs": [
    {
     "name": "stdout",
     "output_type": "stream",
     "text": [
      "    학생    국어    수학    영어    과학\n",
      "4   김구  76.0  90.0  94.0  87.0\n",
      "5  강감찬  95.0  85.0  90.0  93.0\n"
     ]
    }
   ],
   "source": [
    "#2. 결측치 제거\n",
    "\n",
    "# 결측치가 있는 행을 제거하는 방법\n",
    "df_cleaned = df.dropna(axis=\"index\")\n",
    "print(df_cleaned)\n",
    "\n",
    "# 결측치가 있는 열을 제거하는 방법\n",
    "df_cleaned = df.dropna(axis=\"columns\")"
   ]
  },
  {
   "cell_type": "code",
   "execution_count": 20,
   "metadata": {},
   "outputs": [
    {
     "name": "stdout",
     "output_type": "stream",
     "text": [
      "    학생    국어    수학    영어    과학\n",
      "0  이순신  85.0  78.0  92.0   NaN\n",
      "2  윤봉길   NaN  88.0  85.0  90.0\n",
      "4   김구  76.0  90.0  94.0  87.0\n",
      "5  강감찬  95.0  85.0  90.0  93.0\n",
      "8  이성계  80.0  82.0  84.0   NaN\n",
      "9   이황   NaN  77.0  79.0  88.0\n"
     ]
    }
   ],
   "source": [
    "#3 일부 열에 대해 결측치가 있을 때 행을 제거하는 방법\n",
    "df_cleaned = df.dropna(axis=\"index\",subset=[\"수학\",\"영어\"])\n",
    "print(df_cleaned)"
   ]
  },
  {
   "cell_type": "code",
   "execution_count": 4,
   "metadata": {},
   "outputs": [
    {
     "name": "stdout",
     "output_type": "stream",
     "text": [
      "     학생    국어    수학    영어    과학\n",
      "0   이순신  85.0  78.0  92.0   NaN\n",
      "1  세종대왕  92.0  85.0   NaN  89.0\n",
      "2   윤봉길  50.0  88.0  85.0  90.0\n",
      "3   안중근  88.0   NaN  89.0  85.0\n",
      "4    김구  76.0  90.0  94.0  87.0\n",
      "5   강감찬  95.0  85.0  90.0  93.0\n",
      "6   유관순  50.0  93.0   NaN  92.0\n",
      "7   장영실  90.0   NaN  88.0  90.0\n",
      "8   이성계  80.0  82.0  84.0   NaN\n",
      "9    이황  50.0  77.0  79.0  88.0\n"
     ]
    }
   ],
   "source": [
    "#4 결측치 대체\n",
    "# 특정 열 결측치를 고정값으로 대체\n",
    "df_replace = df.copy()\n",
    "df_replace[\"국어\"] = df[\"국어\"].fillna(50)\n",
    "print(df_replace)\n"
   ]
  },
  {
   "cell_type": "code",
   "execution_count": null,
   "metadata": {},
   "outputs": [],
   "source": []
  }
 ],
 "metadata": {
  "kernelspec": {
   "display_name": "base",
   "language": "python",
   "name": "python3"
  },
  "language_info": {
   "codemirror_mode": {
    "name": "ipython",
    "version": 3
   },
   "file_extension": ".py",
   "mimetype": "text/x-python",
   "name": "python",
   "nbconvert_exporter": "python",
   "pygments_lexer": "ipython3",
   "version": "3.12.4"
  }
 },
 "nbformat": 4,
 "nbformat_minor": 2
}
