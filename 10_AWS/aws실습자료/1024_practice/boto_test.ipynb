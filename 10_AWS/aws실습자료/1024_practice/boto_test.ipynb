{
 "cells": [
  {
   "cell_type": "code",
   "execution_count": 3,
   "metadata": {},
   "outputs": [
    {
     "name": "stdout",
     "output_type": "stream",
     "text": [
      "Requirement already satisfied: python-dotenv in c:\\users\\user\\desktop\\chunjae_edu\\.conda\\lib\\site-packages (1.0.1)\n"
     ]
    }
   ],
   "source": [
    "!pip install python-dotenv"
   ]
  },
  {
   "cell_type": "code",
   "execution_count": 5,
   "metadata": {},
   "outputs": [],
   "source": [
    "from dotenv import load_dotenv\n",
    "import os\n",
    "\n",
    "# 같은 폴더 내 .env 파일 정도 가져오기\n",
    "load_dotenv()\n",
    "\n",
    "# 각 변수에 .env 변수 load\n",
    "ACCESS_KEY = os.getenv('ACCESS_KEY')\n",
    "SECRET_KEY = os.getenv('SECRET_KEY')\n",
    "REGION = os.getenv('region')\n",
    "\n",
    "\n",
    "# # AWS S3 관련 설정\n",
    "\n",
    "# S3_BUCKET = os.getenv('S3_BUCKET')\n",
    "\n",
    "# AWS S3 클라이언트 생성\n",
    "s3 = boto3.client(\"s3\", aws_access_key_id=ACCESS_KEY, aws_secret_access_key=SECRET_KEY)"
   ]
  },
  {
   "cell_type": "code",
   "execution_count": 6,
   "metadata": {},
   "outputs": [
    {
     "name": "stdout",
     "output_type": "stream",
     "text": [
      "big9-example\n",
      "big9-m9999\n",
      "big9-test\n",
      "big9-test-ara\n",
      "big9-test-dongin\n",
      "big9-test-ktk\n",
      "big9-test-manhye\n",
      "big9-test-seungyeon\n",
      "bigdata9-ara\n",
      "bigdata9-dongin\n",
      "bigdata9-ktk\n",
      "bigdata9-manhye\n",
      "bigdata9-seungyeon\n",
      "bigdata9-sooz\n",
      "bigdata9-yewon\n",
      "bigdata9-yura\n",
      "dev-team-haejo-backup\n",
      "dev-team-haejo-rawdata\n",
      "fast-solmi2\n",
      "fastapi-backup\n",
      "jstest-4t\n",
      "my--bucket-big9--12345\n",
      "my--bucket-big9-kwaktaekyeong-75579\n",
      "my--bucket-big9-seungyeon-big9-13579\n",
      "my--bucket-big9-yewon-big9-32415\n",
      "my--bucket-big9-yura-big9-1234\n",
      "preprocessing-4t\n",
      "raw-data-4t\n",
      "result-4t\n",
      "testoftestoftest\n"
     ]
    }
   ],
   "source": [
    "# 모든 버킷 목록 가져오기\n",
    "response = s3.list_buckets()\n",
    "\n",
    "# 버킷 이름 출력\n",
    "for bucket in response[\"Buckets\"]:\n",
    "    print(bucket[\"Name\"])"
   ]
  },
  {
   "cell_type": "markdown",
   "metadata": {},
   "source": [
    "# 업로드"
   ]
  },
  {
   "cell_type": "code",
   "execution_count": 8,
   "metadata": {},
   "outputs": [
    {
     "name": "stdout",
     "output_type": "stream",
     "text": [
      "test.csv 파일이 big9-test-dongin 버킷에 업로드되었습니다.\n"
     ]
    }
   ],
   "source": [
    "import boto3\n",
    "from botocore.exceptions import NoCredentialsError\n",
    "\n",
    "def upload_to_s3(file_name, bucket, object_name=None):\n",
    "    s3 = boto3.client(\"s3\", aws_access_key_id=ACCESS_KEY, aws_secret_access_key=SECRET_KEY)\n",
    "    try:\n",
    "        if object_name is None:\n",
    "            object_name = file_name\n",
    "        s3.upload_file(file_name, bucket, object_name)  # S3로 파일 업로드\n",
    "        print(f'{file_name} 파일이 {bucket} 버킷에 업로드되었습니다.')\n",
    "    except FileNotFoundError:\n",
    "        print(\"파일을 찾을 수 없습니다.\")\n",
    "    except NoCredentialsError:\n",
    "        print(\"AWS 자격 증명을 사용할 수 없습니다.\")\n",
    "\n",
    "# 파일명과 버킷 이름을 지정\n",
    "file_name = 'test.csv'  # 로컬에 있는 CSV 파일 경로\n",
    "bucket_name = 'big9-test-dongin'  # S3 버킷 이름\n",
    "\n",
    "# 파일 업로드 실행\n",
    "upload_to_s3(file_name, bucket_name)"
   ]
  },
  {
   "cell_type": "markdown",
   "metadata": {},
   "source": [
    "# 다운로드"
   ]
  },
  {
   "cell_type": "code",
   "execution_count": 9,
   "metadata": {},
   "outputs": [
    {
     "name": "stdout",
     "output_type": "stream",
     "text": [
      "big9-test-dongin 버킷에서 test.csv 파일이 downloaded_example.csv로 다운로드되었습니다.\n"
     ]
    }
   ],
   "source": [
    "import boto3\n",
    "from botocore.exceptions import NoCredentialsError\n",
    "\n",
    "def download_from_s3(bucket, object_name, file_name):\n",
    "    s3 = boto3.client(\"s3\", aws_access_key_id=ACCESS_KEY, aws_secret_access_key=SECRET_KEY)\n",
    "    try:\n",
    "        s3.download_file(bucket, object_name, file_name)  # S3에서 파일 다운로드\n",
    "        print(f'{bucket} 버킷에서 {object_name} 파일이 {file_name}로 다운로드되었습니다.')\n",
    "    except FileNotFoundError:\n",
    "        print(\"파일을 찾을 수 없습니다.\")\n",
    "    except NoCredentialsError:\n",
    "        print(\"AWS 자격 증명을 사용할 수 없습니다.\")\n",
    "\n",
    "# S3 버킷에서 다운로드할 파일과 다운로드 후의 로컬 파일명 지정\n",
    "bucket_name = 'big9-test-dongin'\n",
    "object_name = 'test.csv'  # S3에 저장된 파일명\n",
    "file_name = 'downloaded_example.csv'  # 다운로드 후 저장할 로컬 파일명\n",
    "\n",
    "# 파일 다운로드 실행\n",
    "download_from_s3(bucket_name, object_name, file_name)"
   ]
  },
  {
   "cell_type": "markdown",
   "metadata": {},
   "source": [
    "# 분석코드"
   ]
  },
  {
   "cell_type": "code",
   "execution_count": 10,
   "metadata": {},
   "outputs": [
    {
     "name": "stdout",
     "output_type": "stream",
     "text": [
      "데이터의 첫 5개 행 출력:\n",
      "\n",
      "데이터의 기초 통계 요약:\n",
      "분석 결과가 analyzed_data.csv에 저장되었습니다.\n"
     ]
    }
   ],
   "source": [
    "import pandas as pd\n",
    "\n",
    "# 다운로드한 CSV 파일을 Pandas로 불러오기\n",
    "file_name = 'downloaded_example.csv'\n",
    "data = pd.read_csv(file_name)\n",
    "\n",
    "# 간단한 데이터 분석 코드 (예: 데이터 출력 및 통계 요약)\n",
    "print(\"데이터의 첫 5개 행 출력:\")\n",
    "\n",
    "print(\"\\n데이터의 기초 통계 요약:\")\n",
    "# 분석한 데이터를 다시 CSV로 저장\n",
    "output_file = 'analyzed_data.csv'\n",
    "data.to_csv(output_file, index=False)\n",
    "print(f\"분석 결과가 {output_file}에 저장되었습니다.\")"
   ]
  },
  {
   "cell_type": "code",
   "execution_count": 11,
   "metadata": {},
   "outputs": [
    {
     "name": "stdout",
     "output_type": "stream",
     "text": [
      "analyzed_data.csv 파일이 big9-test-dongin 버킷에 업로드되었습니다.\n"
     ]
    }
   ],
   "source": [
    "import boto3\n",
    "from botocore.exceptions import NoCredentialsError\n",
    "\n",
    "def upload_to_s3(file_name, bucket, object_name=None):\n",
    "    s3 = boto3.client(\"s3\", aws_access_key_id=ACCESS_KEY, aws_secret_access_key=SECRET_KEY)\n",
    "    try:\n",
    "        if object_name is None:\n",
    "            object_name = file_name\n",
    "        s3.upload_file(file_name, bucket, object_name)  # S3로 파일 업로드\n",
    "        print(f'{file_name} 파일이 {bucket} 버킷에 업로드되었습니다.')\n",
    "    except FileNotFoundError:\n",
    "        print(\"파일을 찾을 수 없습니다.\")\n",
    "    except NoCredentialsError:\n",
    "        print(\"AWS 자격 증명을 사용할 수 없습니다.\")\n",
    "\n",
    "# 업로드할 파일 및 버킷 설정\n",
    "file_name = 'analyzed_data.csv'  # 분석 결과 파일 경로\n",
    "bucket_name = 'big9-test-dongin'  # S3 버킷 이름\n",
    "\n",
    "# 파일 업로드 실행\n",
    "upload_to_s3(file_name, bucket_name)"
   ]
  },
  {
   "cell_type": "code",
   "execution_count": 12,
   "metadata": {},
   "outputs": [
    {
     "name": "stdout",
     "output_type": "stream",
     "text": [
      "Collecting pymysql\n",
      "  Using cached PyMySQL-1.1.1-py3-none-any.whl.metadata (4.4 kB)\n",
      "Using cached PyMySQL-1.1.1-py3-none-any.whl (44 kB)\n",
      "Installing collected packages: pymysql\n",
      "Successfully installed pymysql-1.1.1\n"
     ]
    }
   ],
   "source": [
    "!pip install pymysql"
   ]
  },
  {
   "cell_type": "code",
   "execution_count": 13,
   "metadata": {},
   "outputs": [
    {
     "ename": "OperationalError",
     "evalue": "(2003, \"Can't connect to MySQL server on 'big9-test-dongin.cfsgom2iusui.ap-northeast-2.rds.amazonaws.com' (timed out)\")",
     "output_type": "error",
     "traceback": [
      "\u001b[1;31m---------------------------------------------------------------------------\u001b[0m",
      "\u001b[1;31mtimeout\u001b[0m                                   Traceback (most recent call last)",
      "File \u001b[1;32mc:\\Users\\user\\Desktop\\Chunjae_edu\\.conda\\lib\\site-packages\\pymysql\\connections.py:649\u001b[0m, in \u001b[0;36mConnection.connect\u001b[1;34m(self, sock)\u001b[0m\n\u001b[0;32m    648\u001b[0m \u001b[38;5;28;01mtry\u001b[39;00m:\n\u001b[1;32m--> 649\u001b[0m     sock \u001b[38;5;241m=\u001b[39m socket\u001b[38;5;241m.\u001b[39mcreate_connection(\n\u001b[0;32m    650\u001b[0m         (\u001b[38;5;28mself\u001b[39m\u001b[38;5;241m.\u001b[39mhost, \u001b[38;5;28mself\u001b[39m\u001b[38;5;241m.\u001b[39mport), \u001b[38;5;28mself\u001b[39m\u001b[38;5;241m.\u001b[39mconnect_timeout, \u001b[38;5;241m*\u001b[39m\u001b[38;5;241m*\u001b[39mkwargs\n\u001b[0;32m    651\u001b[0m     )\n\u001b[0;32m    652\u001b[0m     \u001b[38;5;28;01mbreak\u001b[39;00m\n",
      "File \u001b[1;32mc:\\Users\\user\\Desktop\\Chunjae_edu\\.conda\\lib\\socket.py:856\u001b[0m, in \u001b[0;36mcreate_connection\u001b[1;34m(address, timeout, source_address)\u001b[0m\n\u001b[0;32m    855\u001b[0m \u001b[38;5;28;01mtry\u001b[39;00m:\n\u001b[1;32m--> 856\u001b[0m     \u001b[38;5;28;01mraise\u001b[39;00m err\n\u001b[0;32m    857\u001b[0m \u001b[38;5;28;01mfinally\u001b[39;00m:\n\u001b[0;32m    858\u001b[0m     \u001b[38;5;66;03m# Break explicitly a reference cycle\u001b[39;00m\n",
      "File \u001b[1;32mc:\\Users\\user\\Desktop\\Chunjae_edu\\.conda\\lib\\socket.py:844\u001b[0m, in \u001b[0;36mcreate_connection\u001b[1;34m(address, timeout, source_address)\u001b[0m\n\u001b[0;32m    843\u001b[0m     sock\u001b[38;5;241m.\u001b[39mbind(source_address)\n\u001b[1;32m--> 844\u001b[0m \u001b[43msock\u001b[49m\u001b[38;5;241;43m.\u001b[39;49m\u001b[43mconnect\u001b[49m\u001b[43m(\u001b[49m\u001b[43msa\u001b[49m\u001b[43m)\u001b[49m\n\u001b[0;32m    845\u001b[0m \u001b[38;5;66;03m# Break explicitly a reference cycle\u001b[39;00m\n",
      "\u001b[1;31mtimeout\u001b[0m: timed out",
      "\nDuring handling of the above exception, another exception occurred:\n",
      "\u001b[1;31mOperationalError\u001b[0m                          Traceback (most recent call last)",
      "Cell \u001b[1;32mIn[13], line 4\u001b[0m\n\u001b[0;32m      1\u001b[0m \u001b[38;5;28;01mimport\u001b[39;00m \u001b[38;5;21;01mpymysql\u001b[39;00m\n\u001b[0;32m      3\u001b[0m \u001b[38;5;66;03m# RDS MariaDB에 연결 설정\u001b[39;00m\n\u001b[1;32m----> 4\u001b[0m connection \u001b[38;5;241m=\u001b[39m \u001b[43mpymysql\u001b[49m\u001b[38;5;241;43m.\u001b[39;49m\u001b[43mconnect\u001b[49m\u001b[43m(\u001b[49m\n\u001b[0;32m      5\u001b[0m \u001b[43m    \u001b[49m\u001b[43mhost\u001b[49m\u001b[38;5;241;43m=\u001b[39;49m\u001b[38;5;124;43m'\u001b[39;49m\u001b[38;5;124;43mbig9-test-dongin.cfsgom2iusui.ap-northeast-2.rds.amazonaws.com\u001b[39;49m\u001b[38;5;124;43m'\u001b[39;49m\u001b[43m,\u001b[49m\u001b[43m   \u001b[49m\u001b[38;5;66;43;03m# RDS 엔드포인트\u001b[39;49;00m\n\u001b[0;32m      6\u001b[0m \u001b[43m    \u001b[49m\u001b[43muser\u001b[49m\u001b[38;5;241;43m=\u001b[39;49m\u001b[38;5;124;43m'\u001b[39;49m\u001b[38;5;124;43madmin\u001b[39;49m\u001b[38;5;124;43m'\u001b[39;49m\u001b[43m,\u001b[49m\u001b[43m    \u001b[49m\u001b[38;5;66;43;03m# RDS MariaDB 사용자 이름\u001b[39;49;00m\n\u001b[0;32m      7\u001b[0m \u001b[43m    \u001b[49m\u001b[43mpassword\u001b[49m\u001b[38;5;241;43m=\u001b[39;49m\u001b[38;5;124;43m'\u001b[39;49m\u001b[38;5;124;43madmin123\u001b[39;49m\u001b[38;5;124;43m'\u001b[39;49m\u001b[43m,\u001b[49m\u001b[38;5;66;43;03m# RDS MariaDB 비밀번호\u001b[39;49;00m\n\u001b[0;32m      8\u001b[0m \u001b[43m    \u001b[49m\u001b[43mdatabase\u001b[49m\u001b[38;5;241;43m=\u001b[39;49m\u001b[38;5;124;43m'\u001b[39;49m\u001b[38;5;124;43mtest_table\u001b[39;49m\u001b[38;5;124;43m'\u001b[39;49m\u001b[43m,\u001b[49m\u001b[43m    \u001b[49m\u001b[38;5;66;43;03m# 데이터베이스 이름\u001b[39;49;00m\n\u001b[0;32m      9\u001b[0m \u001b[43m    \u001b[49m\u001b[43mport\u001b[49m\u001b[38;5;241;43m=\u001b[39;49m\u001b[38;5;241;43m3306\u001b[39;49m\u001b[43m                   \u001b[49m\u001b[38;5;66;43;03m# 기본 MariaDB 포트\u001b[39;49;00m\n\u001b[0;32m     10\u001b[0m \u001b[43m)\u001b[49m\n\u001b[0;32m     12\u001b[0m \u001b[38;5;66;03m# 테이블 생성 및 데이터 삽입 예시\u001b[39;00m\n\u001b[0;32m     13\u001b[0m \u001b[38;5;28;01mtry\u001b[39;00m:\n",
      "File \u001b[1;32mc:\\Users\\user\\Desktop\\Chunjae_edu\\.conda\\lib\\site-packages\\pymysql\\connections.py:361\u001b[0m, in \u001b[0;36mConnection.__init__\u001b[1;34m(self, user, password, host, database, unix_socket, port, charset, collation, sql_mode, read_default_file, conv, use_unicode, client_flag, cursorclass, init_command, connect_timeout, read_default_group, autocommit, local_infile, max_allowed_packet, defer_connect, auth_plugin_map, read_timeout, write_timeout, bind_address, binary_prefix, program_name, server_public_key, ssl, ssl_ca, ssl_cert, ssl_disabled, ssl_key, ssl_key_password, ssl_verify_cert, ssl_verify_identity, compress, named_pipe, passwd, db)\u001b[0m\n\u001b[0;32m    359\u001b[0m     \u001b[38;5;28mself\u001b[39m\u001b[38;5;241m.\u001b[39m_sock \u001b[38;5;241m=\u001b[39m \u001b[38;5;28;01mNone\u001b[39;00m\n\u001b[0;32m    360\u001b[0m \u001b[38;5;28;01melse\u001b[39;00m:\n\u001b[1;32m--> 361\u001b[0m     \u001b[38;5;28;43mself\u001b[39;49m\u001b[38;5;241;43m.\u001b[39;49m\u001b[43mconnect\u001b[49m\u001b[43m(\u001b[49m\u001b[43m)\u001b[49m\n",
      "File \u001b[1;32mc:\\Users\\user\\Desktop\\Chunjae_edu\\.conda\\lib\\site-packages\\pymysql\\connections.py:716\u001b[0m, in \u001b[0;36mConnection.connect\u001b[1;34m(self, sock)\u001b[0m\n\u001b[0;32m    714\u001b[0m     \u001b[38;5;28;01mif\u001b[39;00m DEBUG:\n\u001b[0;32m    715\u001b[0m         \u001b[38;5;28mprint\u001b[39m(exc\u001b[38;5;241m.\u001b[39mtraceback)\n\u001b[1;32m--> 716\u001b[0m     \u001b[38;5;28;01mraise\u001b[39;00m exc\n\u001b[0;32m    718\u001b[0m \u001b[38;5;66;03m# If e is neither DatabaseError or IOError, It's a bug.\u001b[39;00m\n\u001b[0;32m    719\u001b[0m \u001b[38;5;66;03m# But raising AssertionError hides original error.\u001b[39;00m\n\u001b[0;32m    720\u001b[0m \u001b[38;5;66;03m# So just reraise it.\u001b[39;00m\n\u001b[0;32m    721\u001b[0m \u001b[38;5;28;01mraise\u001b[39;00m\n",
      "\u001b[1;31mOperationalError\u001b[0m: (2003, \"Can't connect to MySQL server on 'big9-test-dongin.cfsgom2iusui.ap-northeast-2.rds.amazonaws.com' (timed out)\")"
     ]
    }
   ],
   "source": [
    "import pymysql\n",
    "\n",
    "# RDS MariaDB에 연결 설정\n",
    "connection = pymysql.connect(\n",
    "    host='big9-test-dongin.cfsgom2iusui.ap-northeast-2.rds.amazonaws.com',   # RDS 엔드포인트\n",
    "    user='admin',    # RDS MariaDB 사용자 이름\n",
    "    password='admin123',# RDS MariaDB 비밀번호\n",
    "    database='test_table',    # 데이터베이스 이름\n",
    "    port=3306                   # 기본 MariaDB 포트\n",
    ")\n",
    "\n",
    "# 테이블 생성 및 데이터 삽입 예시\n",
    "try:\n",
    "    with connection.cursor() as cursor:\n",
    "        # 테이블 생성 쿼리\n",
    "        create_table_query = \"\"\"\n",
    "        CREATE TABLE IF NOT EXISTS example_table (\n",
    "            id INT AUTO_INCREMENT PRIMARY KEY,\n",
    "            column1 VARCHAR(255),\n",
    "            column2 VARCHAR(255),\n",
    "            created_at TIMESTAMP DEFAULT CURRENT_TIMESTAMP\n",
    "        )\n",
    "        \"\"\"\n",
    "        cursor.execute(create_table_query)\n",
    "\n",
    "        # 데이터 삽입 쿼리\n",
    "        insert_query = \"INSERT INTO example_table (column1, column2) VALUES (%s, %s)\"\n",
    "        cursor.execute(insert_query, ('데이터1', '데이터2'))\n",
    "        \n",
    "        # 트랜잭션 커밋\n",
    "        connection.commit()\n",
    "        print(\"데이터가 성공적으로 적재되었습니다.\")\n",
    "finally:\n",
    "    connection.close()"
   ]
  },
  {
   "cell_type": "code",
   "execution_count": null,
   "metadata": {},
   "outputs": [],
   "source": [
    "import pymysql\n",
    "\n",
    "# RDS 연결 정보\n",
    "host = \"big9-test-dongin.cfsgom2iusui.ap-northeast-2.rds.amazonaws.com\"\n",
    "port = 3306  \n",
    "username = \"admin\"\n",
    "password = \"admin123\"\n",
    "database = \"\n",
    "big9-test-dongin\"\n",
    "\n",
    "# RDS에 연결\n",
    "connection = pymysql.connect(\n",
    "    host=host,\n",
    "    user=username,\n",
    "    password=password,\n",
    "    database=database,\n",
    "    port=port\n",
    ")\n",
    "\n",
    "# 연결 확인\n",
    "with connection.cursor() as cursor:\n",
    "    cursor.execute(\"SHOW DATABASES;\")\n",
    "    result = cursor.fetchall()\n",
    "    for db in result:\n",
    "        print(db)\n",
    "\n",
    "connection.close()"
   ]
  }
 ],
 "metadata": {
  "kernelspec": {
   "display_name": "Python 3",
   "language": "python",
   "name": "python3"
  },
  "language_info": {
   "codemirror_mode": {
    "name": "ipython",
    "version": 3
   },
   "file_extension": ".py",
   "mimetype": "text/x-python",
   "name": "python",
   "nbconvert_exporter": "python",
   "pygments_lexer": "ipython3",
   "version": "3.9.20"
  }
 },
 "nbformat": 4,
 "nbformat_minor": 2
}
