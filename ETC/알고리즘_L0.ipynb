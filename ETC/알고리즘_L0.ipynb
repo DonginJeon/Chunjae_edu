{
 "cells": [
  {
   "cell_type": "code",
   "execution_count": 4,
   "metadata": {},
   "outputs": [
    {
     "data": {
      "text/plain": [
       "0"
      ]
     },
     "execution_count": 4,
     "metadata": {},
     "output_type": "execute_result"
    }
   ],
   "source": [
    "def solution(a, b):\n",
    "    num = list(range(a, b + 1))\n",
    "    return sum(num)\n",
    "\n",
    "\n",
    "solution(5, 4)"
   ]
  },
  {
   "cell_type": "code",
   "execution_count": 8,
   "metadata": {},
   "outputs": [
    {
     "data": {
      "text/plain": [
       "1"
      ]
     },
     "execution_count": 8,
     "metadata": {},
     "output_type": "execute_result"
    }
   ],
   "source": [
    "def solution(babbling):\n",
    "    count = 0\n",
    "    capable_ = [\"aya\", \"ye\", \"woo\", \"ma\"]\n",
    "    for i in babbling:\n",
    "        if i in capable_:\n",
    "            count += 1\n",
    "            return count\n",
    "\n",
    "\n",
    "solution([\"ayaye\", \"uuuma\", \"ye\", \"yemawoo\", \"ayaa\"])"
   ]
  },
  {
   "cell_type": "code",
   "execution_count": 5,
   "metadata": {},
   "outputs": [
    {
     "name": "stdout",
     "output_type": "stream",
     "text": [
      "None\n"
     ]
    }
   ],
   "source": [
    "array = [9, -1, 0]\n",
    "\n",
    "array = array.sort()\n",
    "print(array)"
   ]
  },
  {
   "cell_type": "code",
   "execution_count": 13,
   "metadata": {},
   "outputs": [
    {
     "name": "stdout",
     "output_type": "stream",
     "text": [
      "None\n"
     ]
    }
   ],
   "source": [
    "print(array.sort())"
   ]
  },
  {
   "cell_type": "code",
   "execution_count": 11,
   "metadata": {},
   "outputs": [
    {
     "name": "stdout",
     "output_type": "stream",
     "text": [
      "[1, 3, 5]\n"
     ]
    }
   ],
   "source": [
    "n = 5\n",
    "answer = []\n",
    "a = range(1, n + 1)\n",
    "for i in a:\n",
    "    if i % 2 != 0:\n",
    "        answer.append(i)\n",
    "print(answer)"
   ]
  },
  {
   "cell_type": "code",
   "execution_count": 17,
   "metadata": {},
   "outputs": [
    {
     "name": "stdout",
     "output_type": "stream",
     "text": [
      "551000\n"
     ]
    }
   ],
   "source": [
    "price = 580000\n",
    "\n",
    "if price > 500000:\n",
    "    print(int(price * 0.95))\n",
    "elif price > 300000:\n",
    "    print(int(price * 0.90))\n",
    "elif price > 100000:\n",
    "    print(int(price * 0.80))"
   ]
  },
  {
   "cell_type": "code",
   "execution_count": 21,
   "metadata": {},
   "outputs": [
    {
     "name": "stdout",
     "output_type": "stream",
     "text": [
      "[2, 11000]\n"
     ]
    }
   ],
   "source": [
    "money = 15000\n",
    "\n",
    "a = money // 5500\n",
    "b = 5500 * a\n",
    "answer = [a, b]\n",
    "print(answer)"
   ]
  },
  {
   "cell_type": "code",
   "execution_count": 4,
   "metadata": {},
   "outputs": [
    {
     "name": "stdout",
     "output_type": "stream",
     "text": [
      "11\n"
     ]
    }
   ],
   "source": [
    "# 삼각형\n",
    "n = [3, 6, 2]\n",
    "a = max(n)\n",
    "print(sum(n))"
   ]
  },
  {
   "cell_type": "code",
   "execution_count": 32,
   "metadata": {},
   "outputs": [
    {
     "name": "stdout",
     "output_type": "stream",
     "text": [
      "1\n"
     ]
    }
   ],
   "source": [
    "#순서쌍\n",
    "n=\n",
    "count = 0\n",
    "for i in range(1,n+1):\n",
    "    if n % i ==0:\n",
    "        count += 1\n",
    "    elif n // i == i:\n",
    "        count-=1\n",
    "print(count)"
   ]
  },
  {
   "cell_type": "code",
   "execution_count": 45,
   "metadata": {},
   "outputs": [
    {
     "name": "stdout",
     "output_type": "stream",
     "text": [
      "201\n"
     ]
    }
   ],
   "source": [
    "# 개미\n",
    "hp = 999\n",
    "count = 0\n",
    "if hp >= 5:\n",
    "    a = hp % 5\n",
    "    count += hp // 5\n",
    "    if a >= 3:\n",
    "        b = a % 3\n",
    "        count += a // 3\n",
    "        if b < 3:\n",
    "            count += b\n",
    "    elif a == 2:\n",
    "\n",
    "        count += 2\n",
    "    elif a == 1:\n",
    "\n",
    "        count += 1\n",
    "\n",
    "\n",
    "elif hp == 4:\n",
    "    count = 2\n",
    "elif hp == 3:\n",
    "    count = 1\n",
    "else:\n",
    "    count += hp\n",
    "\n",
    "\n",
    "print(count)"
   ]
  },
  {
   "cell_type": "code",
   "execution_count": 44,
   "metadata": {},
   "outputs": [
    {
     "data": {
      "text/plain": [
       "4"
      ]
     },
     "execution_count": 44,
     "metadata": {},
     "output_type": "execute_result"
    }
   ],
   "source": [
    "999 % 5"
   ]
  },
  {
   "cell_type": "code",
   "execution_count": 4,
   "metadata": {},
   "outputs": [
    {
     "data": {
      "text/plain": [
       "'nc t mt y'"
      ]
     },
     "execution_count": 4,
     "metadata": {},
     "output_type": "execute_result"
    }
   ],
   "source": [
    "# 모음\n",
    "my_string = \"nice to meet you\"\n",
    "word=\"\"\n",
    "words = [\"a\", \"e\", \"i\", \"o\", \"u\"]\n",
    "for i in my_string:\n",
    "    if i not in words:\n",
    "        word += i\n",
    "word"
   ]
  },
  {
   "cell_type": "code",
   "execution_count": 15,
   "metadata": {},
   "outputs": [
    {
     "name": "stdout",
     "output_type": "stream",
     "text": [
      "10\n"
     ]
    }
   ],
   "source": [
    "# 자연수 합\n",
    "my_string = \"aAb1B2cC34oOp\"\n",
    "num=0\n",
    "for i in my_string:\n",
    "    try:\n",
    "        int(i)\n",
    "        num+=int(i)\n",
    "        \n",
    "    except:\n",
    "        pass\n",
    "print(num)\n",
    "\n"
   ]
  },
  {
   "cell_type": "code",
   "execution_count": 39,
   "metadata": {},
   "outputs": [],
   "source": [
    "# 암호\n",
    "cipher = \"dfjardstddetckdaccccdegk\"\n",
    "code = 4\n",
    "answer = \"\"\n",
    "for i in range(1,len(cipher)//code+1):\n",
    "    answer += cipher[i*code-1]\n"
   ]
  },
  {
   "cell_type": "code",
   "execution_count": 55,
   "metadata": {},
   "outputs": [
    {
     "name": "stdout",
     "output_type": "stream",
     "text": [
      "CCCccc\n"
     ]
    }
   ],
   "source": [
    "#대,소문자\n",
    "my_string = \"cccCCC\"\n",
    "answer = ''\n",
    "for i in my_string:\n",
    "    if i.islower(): \n",
    "        answer += i.upper()\n",
    "    else:\n",
    "        answer += i.lower()\n",
    "print(answer)\n",
    "    \n"
   ]
  },
  {
   "cell_type": "code",
   "execution_count": 12,
   "metadata": {},
   "outputs": [
    {
     "name": "stdout",
     "output_type": "stream",
     "text": [
      "[8, 1]\n"
     ]
    }
   ],
   "source": [
    "#가장 큰수 인덱스\n",
    "array = [1, 8, 3]\n",
    "answer = []\n",
    "answer.append(max(array))\n",
    "for i in range(len(array)):\n",
    "    if array[i] == max(array):\n",
    "        #print(i)\n",
    "        answer.append(i)\n",
    "\n",
    "print(answer)\n",
    "\n"
   ]
  }
 ],
 "metadata": {
  "kernelspec": {
   "display_name": "base",
   "language": "python",
   "name": "python3"
  },
  "language_info": {
   "codemirror_mode": {
    "name": "ipython",
    "version": 3
   },
   "file_extension": ".py",
   "mimetype": "text/x-python",
   "name": "python",
   "nbconvert_exporter": "python",
   "pygments_lexer": "ipython3",
   "version": "3.12.4"
  }
 },
 "nbformat": 4,
 "nbformat_minor": 2
}
