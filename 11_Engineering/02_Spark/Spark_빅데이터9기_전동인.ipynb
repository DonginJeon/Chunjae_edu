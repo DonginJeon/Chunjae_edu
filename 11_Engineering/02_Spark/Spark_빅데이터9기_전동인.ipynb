{
 "cells": [
  {
   "cell_type": "markdown",
   "metadata": {
    "id": "ZlUKDV7LlWmT"
   },
   "source": [
    "# 과제"
   ]
  },
  {
   "cell_type": "markdown",
   "metadata": {
    "id": "LUZ5RZcrltC5"
   },
   "source": [
    "## Data\n"
   ]
  },
  {
   "cell_type": "code",
   "execution_count": 9,
   "metadata": {
    "colab": {
     "base_uri": "https://localhost:8080/"
    },
    "id": "XpOduPuSlvf9",
    "outputId": "308bd88d-6d05-44e8-9c2b-3152608e8c04"
   },
   "outputs": [
    {
     "name": "stdout",
     "output_type": "stream",
     "text": [
      "+-----+---+--------+-------+\n",
      "|  idx|sex|  status|  grade|\n",
      "+-----+---+--------+-------+\n",
      "| 6884| 여|유료회원|초3학년|\n",
      "| 6331| 남|유료회원|초3학년|\n",
      "|69294| 남|유료회원|초5학년|\n",
      "|31531| 여|유료회원|초1학년|\n",
      "|85784| 여|유료회원|초2학년|\n",
      "|58058| 여|유료회원|초3학년|\n",
      "|  777| 남|유료회원|초3학년|\n",
      "| 5482| 여|유료회원|초2학년|\n",
      "|63447| 남|유료회원|초2학년|\n",
      "|54957| 남|유료회원|초4학년|\n",
      "+-----+---+--------+-------+\n",
      "only showing top 10 rows\n",
      "\n",
      "+------+---+--------+-------+\n",
      "|   idx|sex|  status|  grade|\n",
      "+------+---+--------+-------+\n",
      "|   100| 남|유료회원|초1학년|\n",
      "|  1000| 여|유료회원|초5학년|\n",
      "| 10000| 여|유료회원|초6학년|\n",
      "|100007| 남|유료회원|초4학년|\n",
      "| 10001| 남|유료회원|초2학년|\n",
      "|100010| 남|유료회원|초4학년|\n",
      "|100011| 여|유료회원|초4학년|\n",
      "|100017| 여|유료회원|  0학년|\n",
      "|100019| 남|유료회원|초3학년|\n",
      "| 10002| 여|유료회원|초4학년|\n",
      "+------+---+--------+-------+\n",
      "only showing top 10 rows\n",
      "\n",
      "+-----+-------+--------+-----+\n",
      "|  idx|proc_ym|proc_ymd|point|\n",
      "+-----+-------+--------+-----+\n",
      "|96465| 202306|20230624| 1000|\n",
      "|96465| 202306|20230624|  500|\n",
      "|87940| 202304|20230405| 2000|\n",
      "|87940| 202304|20230405| 3500|\n",
      "|87940| 202304|20230405| 4000|\n",
      "|87940| 202304|20230405| 3000|\n",
      "|87940| 202304|20230405| 2500|\n",
      "|88058| 202304|20230405| 3000|\n",
      "|88058| 202304|20230405| 1000|\n",
      "|88058| 202304|20230405| 1500|\n",
      "+-----+-------+--------+-----+\n",
      "only showing top 10 rows\n",
      "\n",
      "+-----+-----+-------+--------+----------+--------------+-----+\n",
      "|  idx|   lv|proc_ym|proc_ymd|  codename|   mascodename|price|\n",
      "+-----+-----+-------+--------+----------+--------------+-----+\n",
      "|53687|175.0| 202305|20230508|  액세서리|아바타파츠구분|   50|\n",
      "|53687|175.0| 202305|20230508|상태메시지|  기타파츠구분|   50|\n",
      "|20163|161.0| 202304|20230408|  액세서리|아바타파츠구분|   50|\n",
      "|88572| 14.0| 202304|20230408|상태메시지|  기타파츠구분|   50|\n",
      "|88572| 14.0| 202304|20230408|상태메시지|  기타파츠구분|   50|\n",
      "|26112|130.0| 202304|20230405|  액세서리|아바타파츠구분|   50|\n",
      "|26112|130.0| 202304|20230405|      헤어|아바타파츠구분|  150|\n",
      "|49541|170.0| 202306|20230630|      얼굴|아바타파츠구분|  150|\n",
      "|49541|170.0| 202306|20230630|      신발|아바타파츠구분|  150|\n",
      "|49541|170.0| 202306|20230630|상태메시지|  기타파츠구분|   50|\n",
      "+-----+-----+-------+--------+----------+--------------+-----+\n",
      "only showing top 10 rows\n",
      "\n",
      "+-----+-------+--------+-----------+\n",
      "|  idx|proc_ym|proc_ymd|    pointnm|\n",
      "+-----+-------+--------+-----------+\n",
      "|88311| 202306|20230628|한글 스피치|\n",
      "| 8604| 202306|20230606| 중학 3학년|\n",
      "| 8604| 202306|20230606| 중학 3학년|\n",
      "| 8604| 202306|20230606| 중학 3학년|\n",
      "| 8604| 202306|20230606| 중학 3학년|\n",
      "| 8604| 202306|20230606| 중학 3학년|\n",
      "| 8604| 202306|20230606| 중학 3학년|\n",
      "| 8604| 202306|20230606| 중학 3학년|\n",
      "| 8604| 202306|20230606| 중학 3학년|\n",
      "| 8604| 202306|20230606| 중학 3학년|\n",
      "+-----+-------+--------+-----------+\n",
      "only showing top 10 rows\n",
      "\n",
      "+---+--------+\n",
      "|idx| regdate|\n",
      "+---+--------+\n",
      "|  1|20221206|\n",
      "|  2|20221206|\n",
      "|  3|20221206|\n",
      "|  4|20221206|\n",
      "|  5|20221206|\n",
      "|  7|20221206|\n",
      "|  8|20221206|\n",
      "|  9|20221206|\n",
      "| 10|20221206|\n",
      "| 11|20221206|\n",
      "+---+--------+\n",
      "only showing top 10 rows\n",
      "\n"
     ]
    }
   ],
   "source": [
    "member_dup = spark.read.parquet(\"./sample_data/member_dup.parquet\")\n",
    "member = spark.read.parquet(\"./sample_data/member.parquet\")\n",
    "point_his = spark.read.parquet(\"./sample_data/point_his.parquet\")\n",
    "item_his = spark.read.parquet(\"./sample_data/item_his.parquet\")\n",
    "study_his = spark.read.parquet(\"./sample_data/study_his.parquet\")\n",
    "regdate = spark.read.parquet(\"./sample_data/regdate.parquet\")\n",
    "\n",
    "\n",
    "member_dup.show(10)\n",
    "member.show(10)\n",
    "point_his.show(10)\n",
    "item_his.show(10)\n",
    "study_his.show(10)\n",
    "regdate.show(10)"
   ]
  },
  {
   "cell_type": "markdown",
   "metadata": {
    "id": "UQRuf0sDlpY5"
   },
   "source": [
    "### 1. member 테이블에서 회원 상태별 인원수를 내림차순으로 보여주세요. (6)"
   ]
  },
  {
   "cell_type": "code",
   "execution_count": 51,
   "metadata": {
    "colab": {
     "base_uri": "https://localhost:8080/"
    },
    "id": "IaalCm-BlUrH",
    "outputId": "ab719b2b-7758-44de-f3a9-e13767f06eb1"
   },
   "outputs": [
    {
     "name": "stdout",
     "output_type": "stream",
     "text": [
      "+--------+-----+\n",
      "|  status|count|\n",
      "+--------+-----+\n",
      "|유료회원|66032|\n",
      "|학습만료|   92|\n",
      "|    신규|   75|\n",
      "|  재구매|   70|\n",
      "|    이월|   22|\n",
      "|    복회|    7|\n",
      "|    취소|    6|\n",
      "+--------+-----+\n",
      "\n"
     ]
    }
   ],
   "source": [
    "member.groupBy(F.col('status')).count().orderBy(F.col('count'), ascending = False).show()"
   ]
  },
  {
   "cell_type": "markdown",
   "metadata": {
    "id": "Qpa8HDROnIng"
   },
   "source": [
    "### 2. study_his 테이블의 pointnm 컬럼에 대해 공백을 모두 없애주세요 (6)"
   ]
  },
  {
   "cell_type": "code",
   "execution_count": 18,
   "metadata": {
    "colab": {
     "base_uri": "https://localhost:8080/"
    },
    "id": "hcAKv7MqlcqP",
    "outputId": "bb1c49f9-cb2f-47af-a070-39d2852a01d4"
   },
   "outputs": [
    {
     "name": "stdout",
     "output_type": "stream",
     "text": [
      "+-----+-------+--------+----------+\n",
      "|  idx|proc_ym|proc_ymd|   pointnm|\n",
      "+-----+-------+--------+----------+\n",
      "|88311| 202306|20230628|한글스피치|\n",
      "| 8604| 202306|20230606| 중학3학년|\n",
      "| 8604| 202306|20230606| 중학3학년|\n",
      "| 8604| 202306|20230606| 중학3학년|\n",
      "| 8604| 202306|20230606| 중학3학년|\n",
      "| 8604| 202306|20230606| 중학3학년|\n",
      "| 8604| 202306|20230606| 중학3학년|\n",
      "| 8604| 202306|20230606| 중학3학년|\n",
      "| 8604| 202306|20230606| 중학3학년|\n",
      "| 8604| 202306|20230606| 중학3학년|\n",
      "| 8604| 202306|20230606| 중학3학년|\n",
      "| 8604| 202306|20230606| 중학3학년|\n",
      "| 8604| 202306|20230606| 중학3학년|\n",
      "| 8604| 202306|20230606| 중학3학년|\n",
      "|89542| 202305|20230509| 중학3학년|\n",
      "|23940| 202305|20230516| 중학1학년|\n",
      "|23940| 202305|20230516| 중학1학년|\n",
      "|40502| 202304|20230412| 중학1학년|\n",
      "| 1741| 202304|20230405| 중학1학년|\n",
      "|50161| 202304|20230428| 중학1학년|\n",
      "+-----+-------+--------+----------+\n",
      "only showing top 20 rows\n",
      "\n"
     ]
    }
   ],
   "source": [
    "study_his.withColumn(\"pointnm\", F.regexp_replace(F.col(\"pointnm\"), \" \", \"\")).show()\n"
   ]
  },
  {
   "cell_type": "markdown",
   "metadata": {
    "id": "ZK6ZLcU_nkFi"
   },
   "source": [
    "### 3. point_his의 proc_ymd 컬럼의 날짜 표현 형식을 yyyy-mm-dd 형식이 되도록 바꿔주세요. (6)(UDF, slicing 사용 X)"
   ]
  },
  {
   "cell_type": "code",
   "execution_count": null,
   "metadata": {
    "colab": {
     "base_uri": "https://localhost:8080/"
    },
    "id": "OpNj-qzi4E8s",
    "outputId": "6c85b5f3-0d97-46e1-dc22-83ba1b0b7c53"
   },
   "outputs": [
    {
     "name": "stdout",
     "output_type": "stream",
     "text": [
      "+-----+---+--------+-------+\n",
      "|  idx|sex|  status|  grade|\n",
      "+-----+---+--------+-------+\n",
      "| 6884| 여|유료회원|초3학년|\n",
      "| 6331| 남|유료회원|초3학년|\n",
      "|69294| 남|유료회원|초5학년|\n",
      "|31531| 여|유료회원|초1학년|\n",
      "|85784| 여|유료회원|초2학년|\n",
      "|58058| 여|유료회원|초3학년|\n",
      "|  777| 남|유료회원|초3학년|\n",
      "| 5482| 여|유료회원|초2학년|\n",
      "|63447| 남|유료회원|초2학년|\n",
      "|54957| 남|유료회원|초4학년|\n",
      "|55340| 남|유료회원|초2학년|\n",
      "|72887| 여|유료회원|초3학년|\n",
      "|40008| 여|유료회원|초3학년|\n",
      "|57551| 남|유료회원|초5학년|\n",
      "|58583| 여|유료회원|초3학년|\n",
      "|32219| 남|유료회원|초1학년|\n",
      "|13136| 여|유료회원|초4학년|\n",
      "|22122| 남|유료회원|초6학년|\n",
      "|18306| 남|유료회원|초4학년|\n",
      "|28057| 남|유료회원|초3학년|\n",
      "+-----+---+--------+-------+\n",
      "only showing top 20 rows\n",
      "\n"
     ]
    }
   ],
   "source": [
    "point_his.show()"
   ]
  },
  {
   "cell_type": "code",
   "execution_count": 19,
   "metadata": {
    "colab": {
     "base_uri": "https://localhost:8080/"
    },
    "id": "vBunJBtgnlwl",
    "outputId": "4378fc7d-c3e4-4746-b64d-2edef8ed50a6"
   },
   "outputs": [
    {
     "name": "stdout",
     "output_type": "stream",
     "text": [
      "+-----+-------+----------+-----+\n",
      "|  idx|proc_ym|  proc_ymd|point|\n",
      "+-----+-------+----------+-----+\n",
      "|96465| 202306|2023-06-24| 1000|\n",
      "|96465| 202306|2023-06-24|  500|\n",
      "|87940| 202304|2023-04-05| 2000|\n",
      "|87940| 202304|2023-04-05| 3500|\n",
      "|87940| 202304|2023-04-05| 4000|\n",
      "|87940| 202304|2023-04-05| 3000|\n",
      "|87940| 202304|2023-04-05| 2500|\n",
      "|88058| 202304|2023-04-05| 3000|\n",
      "|88058| 202304|2023-04-05| 1000|\n",
      "|88058| 202304|2023-04-05| 1500|\n",
      "|88058| 202304|2023-04-05| 2500|\n",
      "|88058| 202304|2023-04-05|  500|\n",
      "|88058| 202304|2023-04-05| 2000|\n",
      "|95844| 202306|2023-06-17| 1500|\n",
      "|95844| 202306|2023-06-17| 1000|\n",
      "|95050| 202306|2023-06-12| 3500|\n",
      "|95050| 202306|2023-06-12| 4000|\n",
      "|95050| 202306|2023-06-12| 4500|\n",
      "|92560| 202305|2023-05-11| 1000|\n",
      "|92560| 202305|2023-05-11|  500|\n",
      "+-----+-------+----------+-----+\n",
      "only showing top 20 rows\n",
      "\n"
     ]
    }
   ],
   "source": [
    "point_his.withColumn(\"proc_ymd\", F.date_format(F.to_date(F.col(\"proc_ymd\").cast(\"string\"), \"yyyyMMdd\"), \"yyyy-MM-dd\")).show()"
   ]
  },
  {
   "cell_type": "markdown",
   "metadata": {
    "id": "299ztj363s0M"
   },
   "source": [
    "### 4. member 회원상태(status)가 학습만료 회원들 중 포인트가 가장 많은 TOP3 학생을 뽑아주세요"
   ]
  },
  {
   "cell_type": "code",
   "execution_count": 22,
   "metadata": {
    "colab": {
     "base_uri": "https://localhost:8080/"
    },
    "id": "J6qypXy53uTW",
    "outputId": "4f5ac50c-62b1-4515-edc7-e3c3fcf5210d"
   },
   "outputs": [
    {
     "name": "stdout",
     "output_type": "stream",
     "text": [
      "+---+------+-----------+\n",
      "|idx|status|total_point|\n",
      "+---+------+-----------+\n",
      "+---+------+-----------+\n",
      "\n"
     ]
    }
   ],
   "source": [
    "member.filter(F.col(\"status\") == \"학습만료\") \\\n",
    "    .join(point_his, on=\"idx\") \\\n",
    "    .groupBy(\"idx\", \"status\") \\\n",
    "    .agg(F.sum(\"point\").alias(\"total_point\")) \\\n",
    "    .orderBy(F.col(\"total_point\").desc()) \\\n",
    "    .limit(3).show()"
   ]
  },
  {
   "cell_type": "markdown",
   "metadata": {
    "id": "w9rXsHXR4cqy"
   },
   "source": [
    "### 5. member_dup 테이블에 학년이 여러개인 idx가 있습니다. 해당 idx의 학년 중 가장 높은 학년만 남겨서 idx와 grade가 1:1 대응이 되도록 만들어주세요 (8)\n"
   ]
  },
  {
   "cell_type": "code",
   "execution_count": 28,
   "metadata": {
    "colab": {
     "base_uri": "https://localhost:8080/"
    },
    "id": "zP_tTqX8nBhV",
    "outputId": "92ab98d0-adc1-48eb-dd45-f909b55a6240"
   },
   "outputs": [
    {
     "name": "stdout",
     "output_type": "stream",
     "text": [
      "+------+---+--------+-------+\n",
      "|   idx|sex|  status|  grade|\n",
      "+------+---+--------+-------+\n",
      "|100010| 남|유료회원|초4학년|\n",
      "|100140| 여|유료회원|초4학년|\n",
      "| 10096| 여|  재구매|초5학년|\n",
      "| 10436| 남|유료회원|초6학년|\n",
      "| 11078| 여|유료회원|초4학년|\n",
      "| 11332| 남|유료회원|초3학년|\n",
      "| 11563| 여|유료회원|초3학년|\n",
      "|  1159| 남|유료회원|초5학년|\n",
      "| 11722| 남|유료회원|초2학년|\n",
      "| 11888| 남|유료회원|초2학년|\n",
      "| 12394| 여|유료회원|초5학년|\n",
      "| 12529| 남|유료회원|초3학년|\n",
      "| 12847| 남|유료회원|초6학년|\n",
      "| 13192| 남|유료회원|초2학년|\n",
      "| 13282| 남|유료회원|초5학년|\n",
      "| 13442| 여|유료회원|초5학년|\n",
      "| 13610| 남|유료회원|초3학년|\n",
      "| 13772| 남|유료회원|초2학년|\n",
      "| 13865| 남|유료회원|초5학년|\n",
      "| 14204| 여|유료회원|초5학년|\n",
      "+------+---+--------+-------+\n",
      "only showing top 20 rows\n",
      "\n"
     ]
    }
   ],
   "source": [
    "from pyspark.sql.window import Window as W\n",
    "\n",
    "window_spec = W.partitionBy(\"idx\").orderBy(F.desc(\"grade\"))\n",
    "\n",
    "member_dup.withColumn(\"row_number\", F.row_number().over(window_spec)) \\\n",
    "    .filter(F.col(\"row_number\") == 1) \\\n",
    "    .drop(\"row_number\") \\\n",
    "    .show()\n"
   ]
  },
  {
   "cell_type": "markdown",
   "metadata": {
    "id": "QygcLCLD44DL"
   },
   "source": [
    "### 6. regdate_his 등록일(reg_date)이 2023.03.15일인 유료회원들이 가장 많이 착용한 아이템(codename) TOP3를 뽑아주세요 (8)"
   ]
  },
  {
   "cell_type": "code",
   "execution_count": 29,
   "metadata": {
    "colab": {
     "base_uri": "https://localhost:8080/"
    },
    "id": "EWoBv5ZlnYP1",
    "outputId": "88ac1f5d-553f-4967-a612-5c7e99a7cca4"
   },
   "outputs": [
    {
     "name": "stdout",
     "output_type": "stream",
     "text": [
      "+----------+-----+\n",
      "|  codename|count|\n",
      "+----------+-----+\n",
      "|상태메시지|   74|\n",
      "|      헤어|   67|\n",
      "|      얼굴|   47|\n",
      "+----------+-----+\n",
      "\n"
     ]
    }
   ],
   "source": [
    "regdate.filter(F.col(\"regdate\") == \"20230315\") \\\n",
    "  .join(member.filter(F.col(\"status\") == \"유료회원\"), on=\"idx\") \\\n",
    "  .join(item_his, on=\"idx\") \\\n",
    "  .groupBy(\"codename\") \\\n",
    "  .count() \\\n",
    "  .orderBy(F.desc(\"count\")) \\\n",
    "  .limit(3).show()"
   ]
  },
  {
   "cell_type": "markdown",
   "metadata": {
    "id": "2DF_Fapo45SC"
   },
   "source": [
    "### 7. member 테이블의 grade 컬럼에서 숫자만 뽑아 grade라는 컬럼을 재구성해주세요. (초3학년 -> 3) (8)  (UDF, slicing 사용 X)"
   ]
  },
  {
   "cell_type": "code",
   "execution_count": 30,
   "metadata": {
    "colab": {
     "base_uri": "https://localhost:8080/"
    },
    "id": "lPUh9lyqnuYj",
    "outputId": "c2965c79-6e41-40a9-96fd-4771fa3773eb"
   },
   "outputs": [
    {
     "name": "stdout",
     "output_type": "stream",
     "text": [
      "+------+---+--------+-----+\n",
      "|   idx|sex|  status|grade|\n",
      "+------+---+--------+-----+\n",
      "|   100| 남|유료회원|    1|\n",
      "|  1000| 여|유료회원|    5|\n",
      "| 10000| 여|유료회원|    6|\n",
      "|100007| 남|유료회원|    4|\n",
      "| 10001| 남|유료회원|    2|\n",
      "|100010| 남|유료회원|    4|\n",
      "|100011| 여|유료회원|    4|\n",
      "|100017| 여|유료회원|    0|\n",
      "|100019| 남|유료회원|    3|\n",
      "| 10002| 여|유료회원|    4|\n",
      "|100020| 남|유료회원|    5|\n",
      "| 10003| 남|유료회원|    3|\n",
      "|100030| 남|유료회원|    0|\n",
      "|100031| 여|유료회원|    2|\n",
      "|100037| 남|유료회원|    3|\n",
      "|100039| 남|유료회원|    4|\n",
      "| 10004| 여|유료회원|    3|\n",
      "|100042| 남|유료회원|    2|\n",
      "|100044| 여|유료회원|    5|\n",
      "|100045| 남|유료회원|    2|\n",
      "+------+---+--------+-----+\n",
      "only showing top 20 rows\n",
      "\n"
     ]
    }
   ],
   "source": [
    "member.withColumn(\"grade\", F.regexp_extract(F.col(\"grade\"), r'(\\d+)', 0)).show()"
   ]
  },
  {
   "cell_type": "markdown",
   "metadata": {
    "id": "sLPylPgk47HG"
   },
   "source": [
    "### 8. study_his 월별로 pointnm 컬럼에 대한 point 발생 수(count)를 오름차순으로 순번 매겨주세요 (10)"
   ]
  },
  {
   "cell_type": "code",
   "execution_count": 50,
   "metadata": {
    "colab": {
     "base_uri": "https://localhost:8080/"
    },
    "id": "HMWJSYTnnupZ",
    "outputId": "6c82190d-33c8-4648-a665-d9fd83053026"
   },
   "outputs": [
    {
     "name": "stdout",
     "output_type": "stream",
     "text": [
      "+-------+-----------------+-----+----+\n",
      "|proc_ym|          pointnm|count|rank|\n",
      "+-------+-----------------+-----+----+\n",
      "| 202304|        중학 특강|   41|   1|\n",
      "| 202304|        학교 체험|   42|   2|\n",
      "| 202304|         받아쓰기|   60|   3|\n",
      "| 202304| 학교 공부 맛보기|   65|   4|\n",
      "| 202304|       중학 3학년|  153|   5|\n",
      "| 202304|       중학 2학년|  237|   6|\n",
      "| 202304|          AI 국어|  259|   7|\n",
      "| 202304|          AI 영어|  319|   8|\n",
      "| 202304|      한글 스피치|  543|   9|\n",
      "| 202304|     자기소개하기|  851|  10|\n",
      "| 202304|      중학 신입생| 2172|  11|\n",
      "| 202304|       중학 1학년| 2179|  12|\n",
      "| 202304|        일기 쓰기| 2760|  13|\n",
      "| 202304|도전! AI 받아쓰기| 3276|  14|\n",
      "| 202304| 밀크T 지오그래픽| 4153|  15|\n",
      "| 202304|   AI 구구단 게임| 7331|  16|\n",
      "| 202304|     AI서술형평가|19981|  17|\n",
      "| 202305|        학교 체험|    7|   1|\n",
      "| 202305|         받아쓰기|   42|   2|\n",
      "| 202305|        중학 특강|   42|   3|\n",
      "+-------+-----------------+-----+----+\n",
      "only showing top 20 rows\n",
      "\n"
     ]
    }
   ],
   "source": [
    "monthly_point_count = study_his.groupBy(\"proc_ym\", \"pointnm\").count()\n",
    "\n",
    "window_spec = W.partitionBy(\"proc_ym\").orderBy(\"count\")\n",
    "\n",
    "result = monthly_point_count.withColumn(\"rank\", F.row_number().over(window_spec))\n",
    "\n",
    "result.orderBy(\"proc_ym\", \"rank\").show()"
   ]
  },
  {
   "cell_type": "markdown",
   "metadata": {
    "id": "9k94Z2bz49D6"
   },
   "source": [
    "### 9.  레벨이 151~160 에 있는 유저들 중 딱 한 명씩만 등록한 날짜들을 구해주세요.\n",
    "   레벨은 idx가 가진 레벨중 가장 높은 레벨로 사용(10) -> 중복처리에 유의"
   ]
  },
  {
   "cell_type": "code",
   "execution_count": 36,
   "metadata": {
    "colab": {
     "base_uri": "https://localhost:8080/"
    },
    "id": "Vjnu1dODnvR_",
    "outputId": "6266312b-3609-4478-ae7e-2aa33d7d2dd9"
   },
   "outputs": [
    {
     "name": "stdout",
     "output_type": "stream",
     "text": [
      "+--------+\n",
      "|proc_ymd|\n",
      "+--------+\n",
      "+--------+\n",
      "\n"
     ]
    }
   ],
   "source": [
    "\n",
    "item_his.filter((F.col(\"lv\") >= 151) & (F.col(\"lv\") <= 160)) \\\n",
    "  .groupBy(\"proc_ymd\") \\\n",
    "  .count() \\\n",
    "  .filter(F.col(\"count\") == 1) \\\n",
    "  .select(\"proc_ymd\").show()"
   ]
  },
  {
   "cell_type": "markdown",
   "metadata": {
    "id": "Dn9FCZMH4_W1"
   },
   "source": [
    "### 10. item_his 테이블에서 레벨이 null인 유저가 가장 많은 날짜를 구해주세요 (10)"
   ]
  },
  {
   "cell_type": "code",
   "execution_count": 38,
   "metadata": {
    "colab": {
     "base_uri": "https://localhost:8080/"
    },
    "id": "-_tR0APhnvgL",
    "outputId": "654e25cd-d977-4699-f01c-e728c2493337"
   },
   "outputs": [
    {
     "name": "stdout",
     "output_type": "stream",
     "text": [
      "+--------+\n",
      "|proc_ymd|\n",
      "+--------+\n",
      "|20230504|\n",
      "+--------+\n",
      "\n"
     ]
    }
   ],
   "source": [
    "item_his.filter(F.col(\"lv\").isNull()) \\\n",
    "  .groupBy(\"proc_ymd\") \\\n",
    "  .count() \\\n",
    "  .orderBy(F.desc(\"count\")) \\\n",
    "  .limit(1) \\\n",
    "  .select(\"proc_ymd\").show()"
   ]
  },
  {
   "cell_type": "markdown",
   "metadata": {
    "id": "PqWQ_kTy5AxT"
   },
   "source": [
    "### 11. pointnm 별로 획득한 point의 종류가 언더바(_)로 이어져서 보이도록 테이블을 만들어 주세요 (10)\n",
    "\n",
    "    |pointnm|point종류|\n",
    "    |---|---|\n",
    "    |point_A|1_2_3_4_5|\n",
    "    |point_B|1_4_5|"
   ]
  },
  {
   "cell_type": "code",
   "execution_count": 45,
   "metadata": {
    "colab": {
     "base_uri": "https://localhost:8080/"
    },
    "id": "27JiZx53pgMq",
    "outputId": "132d641f-fb29-4988-967c-005f4259ece1"
   },
   "outputs": [
    {
     "name": "stdout",
     "output_type": "stream",
     "text": [
      "+-----------------+--------------------+\n",
      "|          pointnm| points_concatenated|\n",
      "+-----------------+--------------------+\n",
      "|        일기 쓰기|2000_500_4500_300...|\n",
      "|        학교 체험|2000_2500_1000_15...|\n",
      "|        중학 특강|4000_3500_4500_25...|\n",
      "|          AI 영어|3500_3000_2000_25...|\n",
      "|도전! AI 받아쓰기|5000_2000_3000_25...|\n",
      "| 학교 공부 맛보기|3000_3500_1000_25...|\n",
      "|      중학 신입생|500_1000_2000_350...|\n",
      "|          AI 국어|4500_5000_3500_30...|\n",
      "| 밀크T 지오그래픽|3500_4000_3000_50...|\n",
      "|       중학 1학년|1500_3500_500_300...|\n",
      "|      한글 스피치|5000_500_3000_250...|\n",
      "|         받아쓰기|2500_500_1000_150...|\n",
      "|       중학 3학년|500_1500_1000_400...|\n",
      "|       중학 2학년|500_500_3000_1500...|\n",
      "|   AI 구구단 게임|4500_3500_4000_50...|\n",
      "|     자기소개하기|4500_4000_5000_25...|\n",
      "|     AI서술형평가|4000_4500_3500_30...|\n",
      "+-----------------+--------------------+\n",
      "\n"
     ]
    }
   ],
   "source": [
    "study_his.join(point_his, on=\"idx\", how=\"inner\") \\\n",
    "  .groupBy(\"pointnm\") \\\n",
    "  .agg(F.concat_ws(\"_\", F.collect_list(\"point\")).alias(\"points_concatenated\")).show()"
   ]
  },
  {
   "cell_type": "markdown",
   "metadata": {
    "id": "u4k54r7l5CPg"
   },
   "source": [
    "### 12. member의 status 컬럼에서 '회원'단어가 있으면 띄어쓰기하고 없으면 띄어쓰기 후 회원 단어 추가해주세요 (유료회원 -> 유효 회원  /  신규 -> 신규 회원) (10)"
   ]
  },
  {
   "cell_type": "code",
   "execution_count": 46,
   "metadata": {
    "colab": {
     "base_uri": "https://localhost:8080/"
    },
    "id": "b5O3gO7-qQve",
    "outputId": "68800fd9-ad64-4dce-b738-404fcad78692"
   },
   "outputs": [
    {
     "name": "stdout",
     "output_type": "stream",
     "text": [
      "+------+---+---------+-------+\n",
      "|   idx|sex|   status|  grade|\n",
      "+------+---+---------+-------+\n",
      "|   100| 남|유료 회원|초1학년|\n",
      "|  1000| 여|유료 회원|초5학년|\n",
      "| 10000| 여|유료 회원|초6학년|\n",
      "|100007| 남|유료 회원|초4학년|\n",
      "| 10001| 남|유료 회원|초2학년|\n",
      "|100010| 남|유료 회원|초4학년|\n",
      "|100011| 여|유료 회원|초4학년|\n",
      "|100017| 여|유료 회원|  0학년|\n",
      "|100019| 남|유료 회원|초3학년|\n",
      "| 10002| 여|유료 회원|초4학년|\n",
      "|100020| 남|유료 회원|초5학년|\n",
      "| 10003| 남|유료 회원|초3학년|\n",
      "|100030| 남|유료 회원|  0학년|\n",
      "|100031| 여|유료 회원|초2학년|\n",
      "|100037| 남|유료 회원|초3학년|\n",
      "|100039| 남|유료 회원|초4학년|\n",
      "| 10004| 여|유료 회원|초3학년|\n",
      "|100042| 남|유료 회원|초2학년|\n",
      "|100044| 여|유료 회원|초5학년|\n",
      "|100045| 남|유료 회원|초2학년|\n",
      "+------+---+---------+-------+\n",
      "only showing top 20 rows\n",
      "\n"
     ]
    }
   ],
   "source": [
    "member.withColumn(\"status\",\n",
    "    F.when(F.col(\"status\").contains(\"회원\"), F.regexp_replace(\"status\", \"회원\", \" 회원\"))\n",
    "    .otherwise(F.concat(F.col(\"status\"), F.lit(\" 회원\")))).show()"
   ]
  }
 ],
 "metadata": {
  "colab": {
   "provenance": []
  },
  "kernelspec": {
   "display_name": "Python 3",
   "name": "python3"
  },
  "language_info": {
   "name": "python"
  }
 },
 "nbformat": 4,
 "nbformat_minor": 0
}
