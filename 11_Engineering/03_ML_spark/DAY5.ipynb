{
  "nbformat": 4,
  "nbformat_minor": 0,
  "metadata": {
    "colab": {
      "provenance": []
    },
    "kernelspec": {
      "name": "python3",
      "display_name": "Python 3"
    },
    "language_info": {
      "name": "python"
    }
  },
  "cells": [
    {
      "cell_type": "code",
      "source": [
        "!apt-get install openjdk-8-jdk-headless #jdk install\n",
        "!wget -q http://archive.apache.org/dist/spark/spark-3.0.0/spark-3.0.0-bin-hadoop3.2.tgz #spark file\n",
        "!tar -xf spark-3.0.0-bin-hadoop3.2.tgz\n",
        "!pip install findspark"
      ],
      "metadata": {
        "colab": {
          "base_uri": "https://localhost:8080/"
        },
        "id": "ZYFK5suZBuob",
        "outputId": "313534fd-72a5-4002-f45f-c55b5a2bfbcd"
      },
      "execution_count": 1,
      "outputs": [
        {
          "output_type": "stream",
          "name": "stdout",
          "text": [
            "Reading package lists... Done\n",
            "Building dependency tree... Done\n",
            "Reading state information... Done\n",
            "The following additional packages will be installed:\n",
            "  libxtst6 openjdk-8-jre-headless\n",
            "Suggested packages:\n",
            "  openjdk-8-demo openjdk-8-source libnss-mdns fonts-dejavu-extra fonts-nanum fonts-ipafont-gothic\n",
            "  fonts-ipafont-mincho fonts-wqy-microhei fonts-wqy-zenhei fonts-indic\n",
            "The following NEW packages will be installed:\n",
            "  libxtst6 openjdk-8-jdk-headless openjdk-8-jre-headless\n",
            "0 upgraded, 3 newly installed, 0 to remove and 49 not upgraded.\n",
            "Need to get 39.6 MB of archives.\n",
            "After this operation, 144 MB of additional disk space will be used.\n",
            "Get:1 http://archive.ubuntu.com/ubuntu jammy/main amd64 libxtst6 amd64 2:1.2.3-1build4 [13.4 kB]\n",
            "Get:2 http://archive.ubuntu.com/ubuntu jammy-updates/universe amd64 openjdk-8-jre-headless amd64 8u422-b05-1~22.04 [30.8 MB]\n",
            "Get:3 http://archive.ubuntu.com/ubuntu jammy-updates/universe amd64 openjdk-8-jdk-headless amd64 8u422-b05-1~22.04 [8,843 kB]\n",
            "Fetched 39.6 MB in 2s (17.9 MB/s)\n",
            "Selecting previously unselected package libxtst6:amd64.\n",
            "(Reading database ... 123623 files and directories currently installed.)\n",
            "Preparing to unpack .../libxtst6_2%3a1.2.3-1build4_amd64.deb ...\n",
            "Unpacking libxtst6:amd64 (2:1.2.3-1build4) ...\n",
            "Selecting previously unselected package openjdk-8-jre-headless:amd64.\n",
            "Preparing to unpack .../openjdk-8-jre-headless_8u422-b05-1~22.04_amd64.deb ...\n",
            "Unpacking openjdk-8-jre-headless:amd64 (8u422-b05-1~22.04) ...\n",
            "Selecting previously unselected package openjdk-8-jdk-headless:amd64.\n",
            "Preparing to unpack .../openjdk-8-jdk-headless_8u422-b05-1~22.04_amd64.deb ...\n",
            "Unpacking openjdk-8-jdk-headless:amd64 (8u422-b05-1~22.04) ...\n",
            "Setting up libxtst6:amd64 (2:1.2.3-1build4) ...\n",
            "Setting up openjdk-8-jre-headless:amd64 (8u422-b05-1~22.04) ...\n",
            "update-alternatives: using /usr/lib/jvm/java-8-openjdk-amd64/jre/bin/orbd to provide /usr/bin/orbd (orbd) in auto mode\n",
            "update-alternatives: using /usr/lib/jvm/java-8-openjdk-amd64/jre/bin/servertool to provide /usr/bin/servertool (servertool) in auto mode\n",
            "update-alternatives: using /usr/lib/jvm/java-8-openjdk-amd64/jre/bin/tnameserv to provide /usr/bin/tnameserv (tnameserv) in auto mode\n",
            "Setting up openjdk-8-jdk-headless:amd64 (8u422-b05-1~22.04) ...\n",
            "update-alternatives: using /usr/lib/jvm/java-8-openjdk-amd64/bin/clhsdb to provide /usr/bin/clhsdb (clhsdb) in auto mode\n",
            "update-alternatives: using /usr/lib/jvm/java-8-openjdk-amd64/bin/extcheck to provide /usr/bin/extcheck (extcheck) in auto mode\n",
            "update-alternatives: using /usr/lib/jvm/java-8-openjdk-amd64/bin/hsdb to provide /usr/bin/hsdb (hsdb) in auto mode\n",
            "update-alternatives: using /usr/lib/jvm/java-8-openjdk-amd64/bin/idlj to provide /usr/bin/idlj (idlj) in auto mode\n",
            "update-alternatives: using /usr/lib/jvm/java-8-openjdk-amd64/bin/javah to provide /usr/bin/javah (javah) in auto mode\n",
            "update-alternatives: using /usr/lib/jvm/java-8-openjdk-amd64/bin/jhat to provide /usr/bin/jhat (jhat) in auto mode\n",
            "update-alternatives: using /usr/lib/jvm/java-8-openjdk-amd64/bin/jsadebugd to provide /usr/bin/jsadebugd (jsadebugd) in auto mode\n",
            "update-alternatives: using /usr/lib/jvm/java-8-openjdk-amd64/bin/native2ascii to provide /usr/bin/native2ascii (native2ascii) in auto mode\n",
            "update-alternatives: using /usr/lib/jvm/java-8-openjdk-amd64/bin/schemagen to provide /usr/bin/schemagen (schemagen) in auto mode\n",
            "update-alternatives: using /usr/lib/jvm/java-8-openjdk-amd64/bin/wsgen to provide /usr/bin/wsgen (wsgen) in auto mode\n",
            "update-alternatives: using /usr/lib/jvm/java-8-openjdk-amd64/bin/wsimport to provide /usr/bin/wsimport (wsimport) in auto mode\n",
            "update-alternatives: using /usr/lib/jvm/java-8-openjdk-amd64/bin/xjc to provide /usr/bin/xjc (xjc) in auto mode\n",
            "Processing triggers for libc-bin (2.35-0ubuntu3.4) ...\n",
            "/sbin/ldconfig.real: /usr/local/lib/libur_loader.so.0 is not a symbolic link\n",
            "\n",
            "/sbin/ldconfig.real: /usr/local/lib/libtbbbind_2_5.so.3 is not a symbolic link\n",
            "\n",
            "/sbin/ldconfig.real: /usr/local/lib/libtbbbind.so.3 is not a symbolic link\n",
            "\n",
            "/sbin/ldconfig.real: /usr/local/lib/libtbbbind_2_0.so.3 is not a symbolic link\n",
            "\n",
            "/sbin/ldconfig.real: /usr/local/lib/libumf.so.0 is not a symbolic link\n",
            "\n",
            "/sbin/ldconfig.real: /usr/local/lib/libtcm_debug.so.1 is not a symbolic link\n",
            "\n",
            "/sbin/ldconfig.real: /usr/local/lib/libur_adapter_level_zero.so.0 is not a symbolic link\n",
            "\n",
            "/sbin/ldconfig.real: /usr/local/lib/libtcm.so.1 is not a symbolic link\n",
            "\n",
            "/sbin/ldconfig.real: /usr/local/lib/libtbb.so.12 is not a symbolic link\n",
            "\n",
            "/sbin/ldconfig.real: /usr/local/lib/libhwloc.so.15 is not a symbolic link\n",
            "\n",
            "/sbin/ldconfig.real: /usr/local/lib/libur_adapter_opencl.so.0 is not a symbolic link\n",
            "\n",
            "/sbin/ldconfig.real: /usr/local/lib/libtbbmalloc_proxy.so.2 is not a symbolic link\n",
            "\n",
            "/sbin/ldconfig.real: /usr/local/lib/libtbbmalloc.so.2 is not a symbolic link\n",
            "\n",
            "Collecting findspark\n",
            "  Downloading findspark-2.0.1-py2.py3-none-any.whl.metadata (352 bytes)\n",
            "Downloading findspark-2.0.1-py2.py3-none-any.whl (4.4 kB)\n",
            "Installing collected packages: findspark\n",
            "Successfully installed findspark-2.0.1\n"
          ]
        }
      ]
    },
    {
      "cell_type": "code",
      "source": [
        "import os\n",
        "import findspark\n",
        "\n",
        "#환경변수에 path 지정\n",
        "os.environ['JAVA_HOME'] = \"/usr/lib/jvm/java-8-openjdk-amd64\"\n",
        "os.environ['SPARK_HOME'] = '/content/spark-3.0.0-bin-hadoop3.2'\n",
        "\n",
        "#spark의 경우 잘 찾지 못하는 경우가 있어 findspark를 이용\n",
        "findspark.init()"
      ],
      "metadata": {
        "id": "4hTtF60yBvjL"
      },
      "execution_count": 2,
      "outputs": []
    },
    {
      "cell_type": "code",
      "source": [
        "from pyspark.sql import SparkSession, Row\n",
        "from pyspark.sql import types as T\n",
        "from pyspark.sql import window as W\n",
        "from pyspark.sql import functions as F"
      ],
      "metadata": {
        "id": "bdVFbedtB0NA"
      },
      "execution_count": 3,
      "outputs": []
    },
    {
      "cell_type": "code",
      "source": [
        "spark = SparkSession.builder \\\n",
        "        .master(\"local\") \\\n",
        "        .appName(\"Colab\") \\\n",
        "        .getOrCreate()"
      ],
      "metadata": {
        "id": "vRHu2SkNB74f"
      },
      "execution_count": 4,
      "outputs": []
    },
    {
      "cell_type": "code",
      "source": [
        "spark"
      ],
      "metadata": {
        "colab": {
          "base_uri": "https://localhost:8080/",
          "height": 223
        },
        "id": "vDvKfz9LB-Bo",
        "outputId": "2afb1def-26da-4b4f-9956-998456016f18"
      },
      "execution_count": 5,
      "outputs": [
        {
          "output_type": "execute_result",
          "data": {
            "text/plain": [
              "<pyspark.sql.session.SparkSession at 0x7e4769a11840>"
            ],
            "text/html": [
              "\n",
              "            <div>\n",
              "                <p><b>SparkSession - in-memory</b></p>\n",
              "                \n",
              "        <div>\n",
              "            <p><b>SparkContext</b></p>\n",
              "\n",
              "            <p><a href=\"http://741c63bfcb8b:4040\">Spark UI</a></p>\n",
              "\n",
              "            <dl>\n",
              "              <dt>Version</dt>\n",
              "                <dd><code>v3.0.0</code></dd>\n",
              "              <dt>Master</dt>\n",
              "                <dd><code>local</code></dd>\n",
              "              <dt>AppName</dt>\n",
              "                <dd><code>Colab</code></dd>\n",
              "            </dl>\n",
              "        </div>\n",
              "        \n",
              "            </div>\n",
              "        "
            ]
          },
          "metadata": {},
          "execution_count": 5
        }
      ]
    },
    {
      "cell_type": "code",
      "source": [
        "point_his = spark.read.parquet('./sample_data/point_his.parquet')\n",
        "member_dup = spark.read.parquet('./sample_data/member_dup.parquet')\n",
        "member = spark.read.parquet('./sample_data/member.parquet')\n",
        "item_his = spark.read.parquet('./sample_data/item_his.parquet')\n",
        "study_his = spark.read.parquet('./sample_data/study_his.parquet')\n",
        "regdate = spark.read.parquet('./sample_data/regdate.parquet')"
      ],
      "metadata": {
        "id": "nuNSk-6QCGcT"
      },
      "execution_count": 6,
      "outputs": []
    },
    {
      "cell_type": "code",
      "source": [
        "point_his.show(3)\n",
        "member_dup.show(3)\n",
        "member.show(3)\n",
        "item_his.show(3)\n",
        "study_his.show(3)\n",
        "regdate.show(3)"
      ],
      "metadata": {
        "colab": {
          "base_uri": "https://localhost:8080/"
        },
        "id": "0X8JxS30CN-j",
        "outputId": "d9332428-4b2f-4e99-d499-0b24b7413f02"
      },
      "execution_count": 7,
      "outputs": [
        {
          "output_type": "stream",
          "name": "stdout",
          "text": [
            "+-----+-------+--------+-----+\n",
            "|  idx|proc_ym|proc_ymd|point|\n",
            "+-----+-------+--------+-----+\n",
            "|96465| 202306|20230624| 1000|\n",
            "|96465| 202306|20230624|  500|\n",
            "|87940| 202304|20230405| 2000|\n",
            "+-----+-------+--------+-----+\n",
            "only showing top 3 rows\n",
            "\n",
            "+-----+---+--------+-------+\n",
            "|  idx|sex|  status|  grade|\n",
            "+-----+---+--------+-------+\n",
            "| 6884| 여|유료회원|초3학년|\n",
            "| 6331| 남|유료회원|초3학년|\n",
            "|69294| 남|유료회원|초5학년|\n",
            "+-----+---+--------+-------+\n",
            "only showing top 3 rows\n",
            "\n",
            "+-----+---+--------+-------+\n",
            "|  idx|sex|  status|  grade|\n",
            "+-----+---+--------+-------+\n",
            "|  100| 남|유료회원|초1학년|\n",
            "| 1000| 여|유료회원|초5학년|\n",
            "|10000| 여|유료회원|초6학년|\n",
            "+-----+---+--------+-------+\n",
            "only showing top 3 rows\n",
            "\n",
            "+-----+-----+-------+--------+----------+--------------+-----+\n",
            "|  idx|   lv|proc_ym|proc_ymd|  codename|   mascodename|price|\n",
            "+-----+-----+-------+--------+----------+--------------+-----+\n",
            "|53687|175.0| 202305|20230508|  액세서리|아바타파츠구분|   50|\n",
            "|53687|175.0| 202305|20230508|상태메시지|  기타파츠구분|   50|\n",
            "|20163|161.0| 202304|20230408|  액세서리|아바타파츠구분|   50|\n",
            "+-----+-----+-------+--------+----------+--------------+-----+\n",
            "only showing top 3 rows\n",
            "\n",
            "+-----+-------+--------+-----------+\n",
            "|  idx|proc_ym|proc_ymd|    pointnm|\n",
            "+-----+-------+--------+-----------+\n",
            "|88311| 202306|20230628|한글 스피치|\n",
            "| 8604| 202306|20230606| 중학 3학년|\n",
            "| 8604| 202306|20230606| 중학 3학년|\n",
            "+-----+-------+--------+-----------+\n",
            "only showing top 3 rows\n",
            "\n",
            "+---+--------+\n",
            "|idx| regdate|\n",
            "+---+--------+\n",
            "|  1|20221206|\n",
            "|  2|20221206|\n",
            "|  3|20221206|\n",
            "+---+--------+\n",
            "only showing top 3 rows\n",
            "\n"
          ]
        }
      ]
    },
    {
      "cell_type": "code",
      "source": [
        "point_his.printSchema()\n",
        "member_dup.printSchema()\n",
        "member.printSchema()\n",
        "item_his.printSchema()\n",
        "study_his.printSchema()\n",
        "regdate.printSchema()"
      ],
      "metadata": {
        "colab": {
          "base_uri": "https://localhost:8080/"
        },
        "id": "Z8wsCnZlCR3B",
        "outputId": "300b928f-ac54-4b9f-941a-910737bf868a"
      },
      "execution_count": 8,
      "outputs": [
        {
          "output_type": "stream",
          "name": "stdout",
          "text": [
            "root\n",
            " |-- idx: string (nullable = true)\n",
            " |-- proc_ym: string (nullable = true)\n",
            " |-- proc_ymd: string (nullable = true)\n",
            " |-- point: string (nullable = true)\n",
            "\n",
            "root\n",
            " |-- idx: string (nullable = true)\n",
            " |-- sex: string (nullable = true)\n",
            " |-- status: string (nullable = true)\n",
            " |-- grade: string (nullable = true)\n",
            "\n",
            "root\n",
            " |-- idx: string (nullable = true)\n",
            " |-- sex: string (nullable = true)\n",
            " |-- status: string (nullable = true)\n",
            " |-- grade: string (nullable = true)\n",
            "\n",
            "root\n",
            " |-- idx: string (nullable = true)\n",
            " |-- lv: string (nullable = true)\n",
            " |-- proc_ym: string (nullable = true)\n",
            " |-- proc_ymd: string (nullable = true)\n",
            " |-- codename: string (nullable = true)\n",
            " |-- mascodename: string (nullable = true)\n",
            " |-- price: string (nullable = true)\n",
            "\n",
            "root\n",
            " |-- idx: string (nullable = true)\n",
            " |-- proc_ym: string (nullable = true)\n",
            " |-- proc_ymd: string (nullable = true)\n",
            " |-- pointnm: string (nullable = true)\n",
            "\n",
            "root\n",
            " |-- idx: string (nullable = true)\n",
            " |-- regdate: string (nullable = true)\n",
            "\n"
          ]
        }
      ]
    },
    {
      "cell_type": "markdown",
      "source": [
        "### 1.point_his의 proc_ymd 컬럼의 날짜 표현 형식을 yyyy-mm-dd 형식이 되도록 바꿔주세요."
      ],
      "metadata": {
        "id": "WdmW3jbsx2TV"
      }
    },
    {
      "cell_type": "code",
      "source": [
        "point_ymd = point_his.withColumn('proc_ymd', F.date_format(F.to_date('proc_ymd', 'yyyyMMdd'), 'yyyy-MM-dd'))\n",
        "point_ymd.show(5)"
      ],
      "metadata": {
        "colab": {
          "base_uri": "https://localhost:8080/"
        },
        "id": "nZ0lhCqBCeS5",
        "outputId": "bf1380e1-4b44-4da4-f1bb-d7118150a4b3"
      },
      "execution_count": 10,
      "outputs": [
        {
          "output_type": "stream",
          "name": "stdout",
          "text": [
            "+-----+-------+----------+-----+\n",
            "|  idx|proc_ym|  proc_ymd|point|\n",
            "+-----+-------+----------+-----+\n",
            "|96465| 202306|2023-06-24| 1000|\n",
            "|96465| 202306|2023-06-24|  500|\n",
            "|87940| 202304|2023-04-05| 2000|\n",
            "|87940| 202304|2023-04-05| 3500|\n",
            "|87940| 202304|2023-04-05| 4000|\n",
            "+-----+-------+----------+-----+\n",
            "only showing top 5 rows\n",
            "\n",
            "root\n",
            " |-- idx: string (nullable = true)\n",
            " |-- proc_ym: string (nullable = true)\n",
            " |-- proc_ymd: string (nullable = true)\n",
            " |-- point: string (nullable = true)\n",
            "\n"
          ]
        }
      ]
    },
    {
      "cell_type": "markdown",
      "source": [
        "### 2. item_his 테이블에서 레벨이 null인 유저가 가장 많은 날짜를 구해주세요."
      ],
      "metadata": {
        "id": "pEOn2VWax6Vk"
      }
    },
    {
      "cell_type": "code",
      "source": [
        "item = item_his.filter(F.col('lv').isNull())\n",
        "item.show(5)"
      ],
      "metadata": {
        "colab": {
          "base_uri": "https://localhost:8080/"
        },
        "id": "rm00MDxzDZAr",
        "outputId": "74fced04-f6fe-442e-b611-b8e2ed0a6115"
      },
      "execution_count": 13,
      "outputs": [
        {
          "output_type": "stream",
          "name": "stdout",
          "text": [
            "+-----+----+-------+--------+--------+--------------+-----+\n",
            "|  idx|  lv|proc_ym|proc_ymd|codename|   mascodename|price|\n",
            "+-----+----+-------+--------+--------+--------------+-----+\n",
            "|92027|null| 202305|20230505|  코스튬|아바타파츠구분|  300|\n",
            "|92131|null| 202305|20230507|  코스튬|아바타파츠구분|  300|\n",
            "|91962|null| 202305|20230506|  코스튬|아바타파츠구분|  300|\n",
            "|94835|null| 202306|20230605|  코스튬|아바타파츠구분|  300|\n",
            "|94835|null| 202306|20230605|  코스튬|아바타파츠구분|  300|\n",
            "+-----+----+-------+--------+--------+--------------+-----+\n",
            "only showing top 5 rows\n",
            "\n"
          ]
        }
      ]
    },
    {
      "cell_type": "code",
      "source": [
        "item = item.dropDuplicates(subset = ['idx', 'proc_ymd'])\n",
        "item.show(5)"
      ],
      "metadata": {
        "colab": {
          "base_uri": "https://localhost:8080/"
        },
        "id": "pMxJpYe_D0oQ",
        "outputId": "08604151-626d-436b-ad74-631a319440b4"
      },
      "execution_count": 14,
      "outputs": [
        {
          "output_type": "stream",
          "name": "stdout",
          "text": [
            "+-----+----+-------+--------+--------+--------------+-----+\n",
            "|  idx|  lv|proc_ym|proc_ymd|codename|   mascodename|price|\n",
            "+-----+----+-------+--------+--------+--------------+-----+\n",
            "|96008|null| 202306|20230618|  코스튬|아바타파츠구분|  300|\n",
            "|88591|null| 202304|20230407|  코스튬|아바타파츠구분|  300|\n",
            "|91873|null| 202305|20230503|  코스튬|아바타파츠구분|  300|\n",
            "|88072|null| 202304|20230404|  코스튬|아바타파츠구분|  300|\n",
            "|93732|null| 202305|20230524|  코스튬|아바타파츠구분|  300|\n",
            "+-----+----+-------+--------+--------+--------------+-----+\n",
            "only showing top 5 rows\n",
            "\n"
          ]
        }
      ]
    },
    {
      "cell_type": "code",
      "source": [
        "item.groupBy('proc_ymd').count().orderBy('count', ascending=False).show(1)"
      ],
      "metadata": {
        "colab": {
          "base_uri": "https://localhost:8080/"
        },
        "id": "ATjRX0LNESD5",
        "outputId": "d87bb516-ae3e-40e7-a2c7-53095144f8a6"
      },
      "execution_count": 15,
      "outputs": [
        {
          "output_type": "stream",
          "name": "stdout",
          "text": [
            "+--------+-----+\n",
            "|proc_ymd|count|\n",
            "+--------+-----+\n",
            "|20230505|    7|\n",
            "+--------+-----+\n",
            "only showing top 1 row\n",
            "\n"
          ]
        }
      ]
    },
    {
      "cell_type": "markdown",
      "source": [
        "### 3. regdate_his 등록일(reg_date)이 2023.03.15일인 유료회원들이 가장 많이 착용한 아이템(codename) TOP3를 뽑아주세요."
      ],
      "metadata": {
        "id": "ZE6CAj_VyAID"
      }
    },
    {
      "cell_type": "code",
      "source": [
        "regdate.show(1)\n",
        "member.show(1)\n",
        "item_his.show(1)"
      ],
      "metadata": {
        "colab": {
          "base_uri": "https://localhost:8080/"
        },
        "id": "g9sSogSeEk46",
        "outputId": "1da65361-dc82-4f3a-c1a2-f8daa8436c7d"
      },
      "execution_count": 16,
      "outputs": [
        {
          "output_type": "stream",
          "name": "stdout",
          "text": [
            "+---+--------+\n",
            "|idx| regdate|\n",
            "+---+--------+\n",
            "|  1|20221206|\n",
            "+---+--------+\n",
            "only showing top 1 row\n",
            "\n",
            "+---+---+--------+-------+\n",
            "|idx|sex|  status|  grade|\n",
            "+---+---+--------+-------+\n",
            "|100| 남|유료회원|초1학년|\n",
            "+---+---+--------+-------+\n",
            "only showing top 1 row\n",
            "\n",
            "+-----+-----+-------+--------+--------+--------------+-----+\n",
            "|  idx|   lv|proc_ym|proc_ymd|codename|   mascodename|price|\n",
            "+-----+-----+-------+--------+--------+--------------+-----+\n",
            "|53687|175.0| 202305|20230508|액세서리|아바타파츠구분|   50|\n",
            "+-----+-----+-------+--------+--------+--------------+-----+\n",
            "only showing top 1 row\n",
            "\n"
          ]
        }
      ]
    },
    {
      "cell_type": "code",
      "source": [
        "join_data = member.join(regdate, member.idx == regdate.idx, 'inner') \\\n",
        "                  .filter((F.col('status') == '유료회원') & (F.col('regdate') == '20230315')) \\\n",
        "                  .select(member[\"idx\"], \"status\", \"regdate\")\n",
        "join_data.show(3)"
      ],
      "metadata": {
        "colab": {
          "base_uri": "https://localhost:8080/"
        },
        "id": "BcGbYjzeE9Au",
        "outputId": "ebcf5f83-ccbe-48c8-9ebf-d6673472c683"
      },
      "execution_count": 19,
      "outputs": [
        {
          "output_type": "stream",
          "name": "stdout",
          "text": [
            "+-----+--------+--------+\n",
            "|  idx|  status| regdate|\n",
            "+-----+--------+--------+\n",
            "|84662|유료회원|20230315|\n",
            "|84663|유료회원|20230315|\n",
            "|84664|유료회원|20230315|\n",
            "+-----+--------+--------+\n",
            "only showing top 3 rows\n",
            "\n"
          ]
        }
      ]
    },
    {
      "cell_type": "code",
      "source": [
        "reg_member_items = join_data.join(item_his, join_data[\"idx\"] == item_his[\"idx\"], \"inner\") \\\n",
        "                            .select(join_data[\"idx\"], \"status\", \"regdate\", \"codename\")\n",
        "reg_member_items.show(3)"
      ],
      "metadata": {
        "colab": {
          "base_uri": "https://localhost:8080/"
        },
        "id": "Remvh0GNF15h",
        "outputId": "10c64e67-b9d9-4c2c-a243-587ce1c4e27d"
      },
      "execution_count": 20,
      "outputs": [
        {
          "output_type": "stream",
          "name": "stdout",
          "text": [
            "+-----+--------+--------+----------+\n",
            "|  idx|  status| regdate|  codename|\n",
            "+-----+--------+--------+----------+\n",
            "|84662|유료회원|20230315|      하의|\n",
            "|84662|유료회원|20230315|      헤어|\n",
            "|84664|유료회원|20230315|상태메시지|\n",
            "+-----+--------+--------+----------+\n",
            "only showing top 3 rows\n",
            "\n"
          ]
        }
      ]
    },
    {
      "cell_type": "code",
      "source": [
        "top_items = reg_member_items.groupBy('codename') \\\n",
        "                            .agg(F.count('codename').alias('wear_count')) \\\n",
        "                            .orderBy(F.desc(\"wear_count\")) \\\n",
        "                            .limit(3)\n",
        "\n",
        "top_items.show()"
      ],
      "metadata": {
        "colab": {
          "base_uri": "https://localhost:8080/"
        },
        "id": "iJzP0FGWGgLb",
        "outputId": "7c5f0feb-26e9-4698-d7a6-c022373417c9"
      },
      "execution_count": 21,
      "outputs": [
        {
          "output_type": "stream",
          "name": "stdout",
          "text": [
            "+----------+----------+\n",
            "|  codename|wear_count|\n",
            "+----------+----------+\n",
            "|상태메시지|        74|\n",
            "|      헤어|        67|\n",
            "|      얼굴|        47|\n",
            "+----------+----------+\n",
            "\n"
          ]
        }
      ]
    },
    {
      "cell_type": "markdown",
      "source": [
        "### 4. member_dup 테이블에 학년이 여러개인 idx가 있습니다. 해당 idx의 학년 중 가장 높은 학년만 남겨서 idx와 grade가 1:1 대응이 되도록 만들어주세요"
      ],
      "metadata": {
        "id": "2zZ-80zsy5lu"
      }
    },
    {
      "cell_type": "code",
      "source": [
        "member_dup.show(3)"
      ],
      "metadata": {
        "colab": {
          "base_uri": "https://localhost:8080/"
        },
        "id": "mUJG5o45HS4P",
        "outputId": "6938018f-44d4-4bb2-cafd-b82d09f39a2e"
      },
      "execution_count": 22,
      "outputs": [
        {
          "output_type": "stream",
          "name": "stdout",
          "text": [
            "+-----+---+--------+-------+\n",
            "|  idx|sex|  status|  grade|\n",
            "+-----+---+--------+-------+\n",
            "| 6884| 여|유료회원|초3학년|\n",
            "| 6331| 남|유료회원|초3학년|\n",
            "|69294| 남|유료회원|초5학년|\n",
            "+-----+---+--------+-------+\n",
            "only showing top 3 rows\n",
            "\n"
          ]
        }
      ]
    },
    {
      "cell_type": "code",
      "source": [
        "member_grade = member_dup.withColumn('grade_reg', F.regexp_extract('grade', '\\\\d+', 0))\n",
        "member_grade.show(3)"
      ],
      "metadata": {
        "colab": {
          "base_uri": "https://localhost:8080/"
        },
        "id": "LRxAhj2iHZIz",
        "outputId": "99206830-5fe8-49eb-dd99-4f689440b3d9"
      },
      "execution_count": 23,
      "outputs": [
        {
          "output_type": "stream",
          "name": "stdout",
          "text": [
            "+-----+---+--------+-------+---------+\n",
            "|  idx|sex|  status|  grade|grade_reg|\n",
            "+-----+---+--------+-------+---------+\n",
            "| 6884| 여|유료회원|초3학년|        3|\n",
            "| 6331| 남|유료회원|초3학년|        3|\n",
            "|69294| 남|유료회원|초5학년|        5|\n",
            "+-----+---+--------+-------+---------+\n",
            "only showing top 3 rows\n",
            "\n"
          ]
        }
      ]
    },
    {
      "cell_type": "code",
      "source": [
        "window_var = W.Window.partitionBy('idx').orderBy(F.col('grade_reg').desc())\n",
        "member_match = member_grade.withColumn(\"rank\", F.rank().over(window_var))\n",
        "member_match \\\n",
        "    .filter(F.col('rank') == 1) \\\n",
        "    .select('idx', 'grade', 'rank').show(10)"
      ],
      "metadata": {
        "colab": {
          "base_uri": "https://localhost:8080/"
        },
        "id": "vSc5pEKhH1FC",
        "outputId": "88049d6f-fc0b-4a99-f039-35d1e8e0f154"
      },
      "execution_count": 24,
      "outputs": [
        {
          "output_type": "stream",
          "name": "stdout",
          "text": [
            "+------+-------+----+\n",
            "|   idx|  grade|rank|\n",
            "+------+-------+----+\n",
            "|100010|초4학년|   1|\n",
            "|100140|초4학년|   1|\n",
            "| 10096|초5학년|   1|\n",
            "| 10096|초5학년|   1|\n",
            "| 10096|초5학년|   1|\n",
            "| 10436|초6학년|   1|\n",
            "| 11078|초4학년|   1|\n",
            "| 11332|초3학년|   1|\n",
            "| 11563|초3학년|   1|\n",
            "|  1159|초5학년|   1|\n",
            "+------+-------+----+\n",
            "only showing top 10 rows\n",
            "\n"
          ]
        }
      ]
    },
    {
      "cell_type": "markdown",
      "source": [
        "#### 랭크함수(row_number, rank, dense_rank)\n",
        "- row_number()\n",
        "  - 설명: 데이터가 정렬된 순서로 고유한 번호 부여(중복값 있어도 고유한 번호 부여, 중복 순위X)\n",
        "- rank()\n",
        "  - 설명: 중복된 값이 있다면 해당 개수만큼 건너 뛰고 다음 번호를 부여\n",
        "- dense_rank()\n",
        "  - 중복된 값이 있어도 해당 개수 만큼 건너 뛰지 않고 다음 번호를 연속으로 부여"
      ],
      "metadata": {
        "id": "uOMyotm7Kc7F"
      }
    },
    {
      "cell_type": "markdown",
      "source": [
        "### 5. 레벨이 151~160 에 있는 유저들 중 딱 한 명씩만 등록한 날짜들을 구해주세요.\n",
        "  - 레벨은 idx가 가진 레벨중 가장 높은 레벨로 사용(10) -> 중복처리에 유의\n"
      ],
      "metadata": {
        "id": "bDT9TOPSy79G"
      }
    },
    {
      "cell_type": "code",
      "execution_count": 26,
      "metadata": {
        "colab": {
          "base_uri": "https://localhost:8080/"
        },
        "id": "ueSa3J3dxwKt",
        "outputId": "3952b0fb-21cd-4a45-d964-7fd8e50f6271"
      },
      "outputs": [
        {
          "output_type": "stream",
          "name": "stdout",
          "text": [
            "+-----+-----+-------+--------+----------+--------------+-----+\n",
            "|  idx|   lv|proc_ym|proc_ymd|  codename|   mascodename|price|\n",
            "+-----+-----+-------+--------+----------+--------------+-----+\n",
            "|53687|175.0| 202305|20230508|  액세서리|아바타파츠구분|   50|\n",
            "|53687|175.0| 202305|20230508|상태메시지|  기타파츠구분|   50|\n",
            "|20163|161.0| 202304|20230408|  액세서리|아바타파츠구분|   50|\n",
            "+-----+-----+-------+--------+----------+--------------+-----+\n",
            "only showing top 3 rows\n",
            "\n",
            "root\n",
            " |-- idx: string (nullable = true)\n",
            " |-- lv: string (nullable = true)\n",
            " |-- proc_ym: string (nullable = true)\n",
            " |-- proc_ymd: string (nullable = true)\n",
            " |-- codename: string (nullable = true)\n",
            " |-- mascodename: string (nullable = true)\n",
            " |-- price: string (nullable = true)\n",
            "\n"
          ]
        }
      ],
      "source": [
        "item_his.show(3)\n",
        "item_his.printSchema()"
      ]
    },
    {
      "cell_type": "code",
      "source": [
        "item_df = item_his.withColumn('lv', F.col('lv').cast(T.IntegerType())) \\\n",
        "                  .filter((F.col('lv') >= 151) & (F.col('lv') <= 160))\n",
        "item_df.orderBy(F.col(\"lv\").desc()).show(10)"
      ],
      "metadata": {
        "colab": {
          "base_uri": "https://localhost:8080/"
        },
        "id": "LtL4-0OSL2RT",
        "outputId": "60b9adbf-5f43-4ff4-a324-93fb736ee5fd"
      },
      "execution_count": 28,
      "outputs": [
        {
          "output_type": "stream",
          "name": "stdout",
          "text": [
            "+-----+---+-------+--------+----------+--------------+-----+\n",
            "|  idx| lv|proc_ym|proc_ymd|  codename|   mascodename|price|\n",
            "+-----+---+-------+--------+----------+--------------+-----+\n",
            "|12109|160| 202304|20230420|    코스튬|아바타파츠구분|  300|\n",
            "|12109|160| 202304|20230420|      하의|아바타파츠구분|  250|\n",
            "|12109|160| 202304|20230420|    코스튬|아바타파츠구분|  300|\n",
            "|30445|160| 202305|20230530|상태메시지|  기타파츠구분|  100|\n",
            "|12109|160| 202304|20230420|      상의|아바타파츠구분|  200|\n",
            "|30445|160| 202305|20230530|      신발|아바타파츠구분|  150|\n",
            "|12109|160| 202304|20230420|      헤어|아바타파츠구분|  150|\n",
            "|30445|160| 202305|20230530|상태메시지|  기타파츠구분|  100|\n",
            "|12109|160| 202304|20230420|      하의|아바타파츠구분|  250|\n",
            "|41510|160| 202304|20230424|      헤어|아바타파츠구분|  150|\n",
            "+-----+---+-------+--------+----------+--------------+-----+\n",
            "only showing top 10 rows\n",
            "\n"
          ]
        }
      ]
    },
    {
      "cell_type": "code",
      "source": [
        "window_var = W.Window.partitionBy('idx').orderBy(F.col('lv').desc())\n",
        "item_df = item_df.withColumn(\"max_lv\", F.row_number().over(window_var)) \\\n",
        "                 .filter(F.col('max_lv') == 1) \\\n",
        "                 .drop('max_lv')\n",
        "item_df.show(3)"
      ],
      "metadata": {
        "colab": {
          "base_uri": "https://localhost:8080/"
        },
        "id": "sTDdiBlsMU19",
        "outputId": "f3e35a5c-1ced-4532-f66a-7abd83c5ebec"
      },
      "execution_count": 30,
      "outputs": [
        {
          "output_type": "stream",
          "name": "stdout",
          "text": [
            "+-----+---+-------+--------+--------+--------------+-----+\n",
            "|  idx| lv|proc_ym|proc_ymd|codename|   mascodename|price|\n",
            "+-----+---+-------+--------+--------+--------------+-----+\n",
            "|12529|155| 202304|20230407|    헤어|아바타파츠구분|  150|\n",
            "| 1512|155| 202304|20230404|    얼굴|아바타파츠구분|  150|\n",
            "|18947|156| 202305|20230504|    헤어|아바타파츠구분|  150|\n",
            "+-----+---+-------+--------+--------+--------------+-----+\n",
            "only showing top 3 rows\n",
            "\n"
          ]
        }
      ]
    },
    {
      "cell_type": "code",
      "source": [
        "item_reg = item_df.join(regdate, \"idx\", \"inner\") \\\n",
        "                  .select(\"idx\", \"lv\", \"regdate\")\n",
        "item_reg.show(3)"
      ],
      "metadata": {
        "colab": {
          "base_uri": "https://localhost:8080/"
        },
        "id": "tgPCBp3ANPre",
        "outputId": "b056636f-37d8-44be-fb39-4056253a2bc0"
      },
      "execution_count": 35,
      "outputs": [
        {
          "output_type": "stream",
          "name": "stdout",
          "text": [
            "+---+---+--------+\n",
            "|idx| lv| regdate|\n",
            "+---+---+--------+\n",
            "| 38|154|20221206|\n",
            "| 55|155|20221206|\n",
            "| 70|159|20221206|\n",
            "+---+---+--------+\n",
            "only showing top 3 rows\n",
            "\n"
          ]
        }
      ]
    },
    {
      "cell_type": "code",
      "source": [
        "res = item_reg.groupBy('regdate').count() \\\n",
        "              .filter(F.col('count') == 1) \\\n",
        "              .select('regdate')\n",
        "res.show(10)"
      ],
      "metadata": {
        "colab": {
          "base_uri": "https://localhost:8080/"
        },
        "id": "DrYAEdIVNuEU",
        "outputId": "761bc0ab-5262-465d-ff8a-f60ce375ee11"
      },
      "execution_count": 36,
      "outputs": [
        {
          "output_type": "stream",
          "name": "stdout",
          "text": [
            "+--------+\n",
            "| regdate|\n",
            "+--------+\n",
            "|20230327|\n",
            "|20230321|\n",
            "|20230505|\n",
            "|20230129|\n",
            "|20230205|\n",
            "|20230428|\n",
            "|20230325|\n",
            "|20230330|\n",
            "|20230420|\n",
            "|20230320|\n",
            "+--------+\n",
            "only showing top 10 rows\n",
            "\n"
          ]
        }
      ]
    },
    {
      "cell_type": "markdown",
      "source": [
        "### 1.Spark ML - Linear Regression"
      ],
      "metadata": {
        "id": "3R0hmcwjPXmV"
      }
    },
    {
      "cell_type": "code",
      "source": [
        "from pyspark.sql import SparkSession\n",
        "from pyspark.ml.feature import VectorAssembler\n",
        "\n",
        "spark = SparkSession.builder \\\n",
        "                    .master(\"local\") \\\n",
        "                    .appName(\"Colab\") \\\n",
        "                    .getOrCreate()"
      ],
      "metadata": {
        "id": "unt4dnmNOFxF"
      },
      "execution_count": 37,
      "outputs": []
    },
    {
      "cell_type": "code",
      "source": [
        "spark"
      ],
      "metadata": {
        "colab": {
          "base_uri": "https://localhost:8080/",
          "height": 223
        },
        "id": "bF6ctYTQP1hZ",
        "outputId": "4d672456-ad59-4f5c-c7af-2b9ec78e0db3"
      },
      "execution_count": 38,
      "outputs": [
        {
          "output_type": "execute_result",
          "data": {
            "text/plain": [
              "<pyspark.sql.session.SparkSession at 0x7e4769a11840>"
            ],
            "text/html": [
              "\n",
              "            <div>\n",
              "                <p><b>SparkSession - in-memory</b></p>\n",
              "                \n",
              "        <div>\n",
              "            <p><b>SparkContext</b></p>\n",
              "\n",
              "            <p><a href=\"http://741c63bfcb8b:4040\">Spark UI</a></p>\n",
              "\n",
              "            <dl>\n",
              "              <dt>Version</dt>\n",
              "                <dd><code>v3.0.0</code></dd>\n",
              "              <dt>Master</dt>\n",
              "                <dd><code>local</code></dd>\n",
              "              <dt>AppName</dt>\n",
              "                <dd><code>Colab</code></dd>\n",
              "            </dl>\n",
              "        </div>\n",
              "        \n",
              "            </div>\n",
              "        "
            ]
          },
          "metadata": {},
          "execution_count": 38
        }
      ]
    },
    {
      "cell_type": "code",
      "source": [
        "df = spark.read.csv('./sample_data/california_housing_train.csv', header=True, inferSchema=True)"
      ],
      "metadata": {
        "id": "xgN_iBH-P3Yu"
      },
      "execution_count": 39,
      "outputs": []
    },
    {
      "cell_type": "code",
      "source": [
        "df.printSchema()"
      ],
      "metadata": {
        "colab": {
          "base_uri": "https://localhost:8080/"
        },
        "id": "a-zC1EOEQS7V",
        "outputId": "a78c6c0d-aa05-4caa-a7dd-6d6eda1877e5"
      },
      "execution_count": 40,
      "outputs": [
        {
          "output_type": "stream",
          "name": "stdout",
          "text": [
            "root\n",
            " |-- longitude: double (nullable = true)\n",
            " |-- latitude: double (nullable = true)\n",
            " |-- housing_median_age: double (nullable = true)\n",
            " |-- total_rooms: double (nullable = true)\n",
            " |-- total_bedrooms: double (nullable = true)\n",
            " |-- population: double (nullable = true)\n",
            " |-- households: double (nullable = true)\n",
            " |-- median_income: double (nullable = true)\n",
            " |-- median_house_value: double (nullable = true)\n",
            "\n"
          ]
        }
      ]
    },
    {
      "cell_type": "code",
      "source": [
        "print('Shape of the dataset: ', (df.count(), len(df.columns)))\n",
        "\n",
        "df.show(n=10)"
      ],
      "metadata": {
        "colab": {
          "base_uri": "https://localhost:8080/"
        },
        "id": "kexdLd-wQnx5",
        "outputId": "d50313d1-8305-4116-8660-609636e290f3"
      },
      "execution_count": 42,
      "outputs": [
        {
          "output_type": "stream",
          "name": "stdout",
          "text": [
            "Shape of the dataset:  (17000, 9)\n",
            "+---------+--------+------------------+-----------+--------------+----------+----------+-------------+------------------+\n",
            "|longitude|latitude|housing_median_age|total_rooms|total_bedrooms|population|households|median_income|median_house_value|\n",
            "+---------+--------+------------------+-----------+--------------+----------+----------+-------------+------------------+\n",
            "|  -114.31|   34.19|              15.0|     5612.0|        1283.0|    1015.0|     472.0|       1.4936|           66900.0|\n",
            "|  -114.47|    34.4|              19.0|     7650.0|        1901.0|    1129.0|     463.0|         1.82|           80100.0|\n",
            "|  -114.56|   33.69|              17.0|      720.0|         174.0|     333.0|     117.0|       1.6509|           85700.0|\n",
            "|  -114.57|   33.64|              14.0|     1501.0|         337.0|     515.0|     226.0|       3.1917|           73400.0|\n",
            "|  -114.57|   33.57|              20.0|     1454.0|         326.0|     624.0|     262.0|        1.925|           65500.0|\n",
            "|  -114.58|   33.63|              29.0|     1387.0|         236.0|     671.0|     239.0|       3.3438|           74000.0|\n",
            "|  -114.58|   33.61|              25.0|     2907.0|         680.0|    1841.0|     633.0|       2.6768|           82400.0|\n",
            "|  -114.59|   34.83|              41.0|      812.0|         168.0|     375.0|     158.0|       1.7083|           48500.0|\n",
            "|  -114.59|   33.61|              34.0|     4789.0|        1175.0|    3134.0|    1056.0|       2.1782|           58400.0|\n",
            "|   -114.6|   34.83|              46.0|     1497.0|         309.0|     787.0|     271.0|       2.1908|           48100.0|\n",
            "+---------+--------+------------------+-----------+--------------+----------+----------+-------------+------------------+\n",
            "only showing top 10 rows\n",
            "\n"
          ]
        }
      ]
    },
    {
      "cell_type": "code",
      "source": [
        "from pyspark.ml.feature import VectorAssembler\n",
        "\n",
        "\n",
        "featureassembler = VectorAssembler(inputCols=['longitude', 'latitude', 'housing_median_age', 'total_rooms', 'total_bedrooms', 'population', 'households', 'median_income'], outputCol='features')"
      ],
      "metadata": {
        "id": "ST-RGD5RQ1Cw"
      },
      "execution_count": 43,
      "outputs": []
    },
    {
      "cell_type": "code",
      "source": [
        "output = featureassembler.transform(df)\n",
        "output.show()"
      ],
      "metadata": {
        "colab": {
          "base_uri": "https://localhost:8080/"
        },
        "id": "2lGdCyuYRasP",
        "outputId": "4d8d19d9-8a31-4a37-bced-eb161a1643a6"
      },
      "execution_count": 44,
      "outputs": [
        {
          "output_type": "stream",
          "name": "stdout",
          "text": [
            "+---------+--------+------------------+-----------+--------------+----------+----------+-------------+------------------+--------------------+\n",
            "|longitude|latitude|housing_median_age|total_rooms|total_bedrooms|population|households|median_income|median_house_value|            features|\n",
            "+---------+--------+------------------+-----------+--------------+----------+----------+-------------+------------------+--------------------+\n",
            "|  -114.31|   34.19|              15.0|     5612.0|        1283.0|    1015.0|     472.0|       1.4936|           66900.0|[-114.31,34.19,15...|\n",
            "|  -114.47|    34.4|              19.0|     7650.0|        1901.0|    1129.0|     463.0|         1.82|           80100.0|[-114.47,34.4,19....|\n",
            "|  -114.56|   33.69|              17.0|      720.0|         174.0|     333.0|     117.0|       1.6509|           85700.0|[-114.56,33.69,17...|\n",
            "|  -114.57|   33.64|              14.0|     1501.0|         337.0|     515.0|     226.0|       3.1917|           73400.0|[-114.57,33.64,14...|\n",
            "|  -114.57|   33.57|              20.0|     1454.0|         326.0|     624.0|     262.0|        1.925|           65500.0|[-114.57,33.57,20...|\n",
            "|  -114.58|   33.63|              29.0|     1387.0|         236.0|     671.0|     239.0|       3.3438|           74000.0|[-114.58,33.63,29...|\n",
            "|  -114.58|   33.61|              25.0|     2907.0|         680.0|    1841.0|     633.0|       2.6768|           82400.0|[-114.58,33.61,25...|\n",
            "|  -114.59|   34.83|              41.0|      812.0|         168.0|     375.0|     158.0|       1.7083|           48500.0|[-114.59,34.83,41...|\n",
            "|  -114.59|   33.61|              34.0|     4789.0|        1175.0|    3134.0|    1056.0|       2.1782|           58400.0|[-114.59,33.61,34...|\n",
            "|   -114.6|   34.83|              46.0|     1497.0|         309.0|     787.0|     271.0|       2.1908|           48100.0|[-114.6,34.83,46....|\n",
            "|   -114.6|   33.62|              16.0|     3741.0|         801.0|    2434.0|     824.0|       2.6797|           86500.0|[-114.6,33.62,16....|\n",
            "|   -114.6|    33.6|              21.0|     1988.0|         483.0|    1182.0|     437.0|        1.625|           62000.0|[-114.6,33.6,21.0...|\n",
            "|  -114.61|   34.84|              48.0|     1291.0|         248.0|     580.0|     211.0|       2.1571|           48600.0|[-114.61,34.84,48...|\n",
            "|  -114.61|   34.83|              31.0|     2478.0|         464.0|    1346.0|     479.0|        3.212|           70400.0|[-114.61,34.83,31...|\n",
            "|  -114.63|   32.76|              15.0|     1448.0|         378.0|     949.0|     300.0|       0.8585|           45000.0|[-114.63,32.76,15...|\n",
            "|  -114.65|   34.89|              17.0|     2556.0|         587.0|    1005.0|     401.0|       1.6991|           69100.0|[-114.65,34.89,17...|\n",
            "|  -114.65|    33.6|              28.0|     1678.0|         322.0|     666.0|     256.0|       2.9653|           94900.0|[-114.65,33.6,28....|\n",
            "|  -114.65|   32.79|              21.0|       44.0|          33.0|      64.0|      27.0|       0.8571|           25000.0|[-114.65,32.79,21...|\n",
            "|  -114.66|   32.74|              17.0|     1388.0|         386.0|     775.0|     320.0|       1.2049|           44000.0|[-114.66,32.74,17...|\n",
            "|  -114.67|   33.92|              17.0|       97.0|          24.0|      29.0|      15.0|       1.2656|           27500.0|[-114.67,33.92,17...|\n",
            "+---------+--------+------------------+-----------+--------------+----------+----------+-------------+------------------+--------------------+\n",
            "only showing top 20 rows\n",
            "\n"
          ]
        }
      ]
    },
    {
      "cell_type": "code",
      "source": [
        "final_data = output.select('features', 'median_house_value')\n",
        "final_data.show()"
      ],
      "metadata": {
        "colab": {
          "base_uri": "https://localhost:8080/"
        },
        "id": "hgg-VR81RzHB",
        "outputId": "15d32de3-cf4d-4721-e66d-2b8a83f3d8b2"
      },
      "execution_count": 45,
      "outputs": [
        {
          "output_type": "stream",
          "name": "stdout",
          "text": [
            "+--------------------+------------------+\n",
            "|            features|median_house_value|\n",
            "+--------------------+------------------+\n",
            "|[-114.31,34.19,15...|           66900.0|\n",
            "|[-114.47,34.4,19....|           80100.0|\n",
            "|[-114.56,33.69,17...|           85700.0|\n",
            "|[-114.57,33.64,14...|           73400.0|\n",
            "|[-114.57,33.57,20...|           65500.0|\n",
            "|[-114.58,33.63,29...|           74000.0|\n",
            "|[-114.58,33.61,25...|           82400.0|\n",
            "|[-114.59,34.83,41...|           48500.0|\n",
            "|[-114.59,33.61,34...|           58400.0|\n",
            "|[-114.6,34.83,46....|           48100.0|\n",
            "|[-114.6,33.62,16....|           86500.0|\n",
            "|[-114.6,33.6,21.0...|           62000.0|\n",
            "|[-114.61,34.84,48...|           48600.0|\n",
            "|[-114.61,34.83,31...|           70400.0|\n",
            "|[-114.63,32.76,15...|           45000.0|\n",
            "|[-114.65,34.89,17...|           69100.0|\n",
            "|[-114.65,33.6,28....|           94900.0|\n",
            "|[-114.65,32.79,21...|           25000.0|\n",
            "|[-114.66,32.74,17...|           44000.0|\n",
            "|[-114.67,33.92,17...|           27500.0|\n",
            "+--------------------+------------------+\n",
            "only showing top 20 rows\n",
            "\n"
          ]
        }
      ]
    },
    {
      "cell_type": "code",
      "source": [
        "train_data, test_data = final_data.randomSplit([0.75, 0.25], seed=42)"
      ],
      "metadata": {
        "id": "7j3rPBxUSToU"
      },
      "execution_count": 46,
      "outputs": []
    },
    {
      "cell_type": "code",
      "source": [
        "(train_data.count(), len(train_data.columns)), (test_data.count(), len(test_data.columns))"
      ],
      "metadata": {
        "colab": {
          "base_uri": "https://localhost:8080/"
        },
        "id": "RFCCttr5Svat",
        "outputId": "077975d6-0cc7-41ea-ce6e-dccd7fd166d9"
      },
      "execution_count": 47,
      "outputs": [
        {
          "output_type": "execute_result",
          "data": {
            "text/plain": [
              "((12804, 2), (4196, 2))"
            ]
          },
          "metadata": {},
          "execution_count": 47
        }
      ]
    },
    {
      "cell_type": "code",
      "source": [
        "from pyspark.ml.regression import LinearRegression\n",
        "\n",
        "\n",
        "result = LinearRegression(featuresCol='features', labelCol='median_house_value')"
      ],
      "metadata": {
        "id": "itMmULQPS-j3"
      },
      "execution_count": 48,
      "outputs": []
    },
    {
      "cell_type": "code",
      "source": [
        "result_fit = result.fit(train_data)\n",
        "result_fit.coefficients"
      ],
      "metadata": {
        "colab": {
          "base_uri": "https://localhost:8080/"
        },
        "id": "IY7WHyAJTVKD",
        "outputId": "5343bc38-fdaa-4f54-a450-1b06642e76ac"
      },
      "execution_count": 50,
      "outputs": [
        {
          "output_type": "execute_result",
          "data": {
            "text/plain": [
              "DenseVector([-42701.9912, -42496.281, 1169.8313, -8.3056, 119.616, -37.5491, 41.596, 40607.1182])"
            ]
          },
          "metadata": {},
          "execution_count": 50
        }
      ]
    },
    {
      "cell_type": "code",
      "source": [
        "pred_train = result_fit.evaluate(train_data)\n",
        "pred_train.predictions.show()"
      ],
      "metadata": {
        "colab": {
          "base_uri": "https://localhost:8080/"
        },
        "id": "uqeN4jVOTu10",
        "outputId": "759ed4a3-0491-4ac2-a069-e4dcb7f7df5b"
      },
      "execution_count": 51,
      "outputs": [
        {
          "output_type": "stream",
          "name": "stdout",
          "text": [
            "+--------------------+------------------+------------------+\n",
            "|            features|median_house_value|        prediction|\n",
            "+--------------------+------------------+------------------+\n",
            "|[-124.35,40.54,52...|           94600.0|186896.93006823957|\n",
            "|[-124.3,41.8,19.0...|           85800.0| 63828.38811664749|\n",
            "|[-124.27,40.69,36...|           79000.0|154636.36630449584|\n",
            "|[-124.26,40.58,52...|          111400.0|162922.78442727355|\n",
            "|[-124.25,40.28,32...|           76100.0| 154696.9893092662|\n",
            "|[-124.23,40.81,52...|           50800.0| 184516.7200880493|\n",
            "|[-124.21,40.75,32...|           58100.0|108903.98030509287|\n",
            "|[-124.21,41.75,20...|           66900.0|  67073.8611378409|\n",
            "|[-124.21,41.77,17...|           68400.0| 79718.54286785191|\n",
            "|[-124.19,40.77,30...|           69000.0|143611.76057469426|\n",
            "|[-124.19,40.78,37...|           70000.0|115794.36983087054|\n",
            "|[-124.19,41.78,15...|           74600.0| 51738.73723116238|\n",
            "|[-124.18,40.62,35...|          107000.0|159002.25293956604|\n",
            "|[-124.18,40.78,33...|           72200.0|  127768.452465971|\n",
            "|[-124.18,40.78,37...|           70200.0|134751.25927215116|\n",
            "|[-124.18,40.79,39...|           70500.0|108229.64971267991|\n",
            "|[-124.17,40.62,32...|           86400.0|154577.44302364998|\n",
            "|[-124.17,40.76,26...|           82800.0|136208.27618850116|\n",
            "|[-124.17,40.77,30...|           81300.0|115604.04566746112|\n",
            "|[-124.17,40.78,39...|           68300.0|108408.20236126566|\n",
            "+--------------------+------------------+------------------+\n",
            "only showing top 20 rows\n",
            "\n"
          ]
        }
      ]
    },
    {
      "cell_type": "code",
      "source": [
        "pred = result_fit.evaluate(test_data)\n",
        "pred.predictions.show()"
      ],
      "metadata": {
        "colab": {
          "base_uri": "https://localhost:8080/"
        },
        "id": "c5kIDQs5UM8l",
        "outputId": "8776d673-1781-47db-d10f-77b73f32250c"
      },
      "execution_count": 53,
      "outputs": [
        {
          "output_type": "stream",
          "name": "stdout",
          "text": [
            "+--------------------+------------------+------------------+\n",
            "|            features|median_house_value|        prediction|\n",
            "+--------------------+------------------+------------------+\n",
            "|[-124.3,41.84,17....|          103600.0|101050.39542136434|\n",
            "|[-124.23,40.54,52...|          106700.0|189362.20494504552|\n",
            "|[-124.23,41.75,11...|           73200.0| 75903.94192009047|\n",
            "|[-124.22,41.73,28...|           78300.0| 76114.25266013574|\n",
            "|[-124.19,40.73,21...|           90100.0| 165469.7540392154|\n",
            "|[-124.18,40.78,34...|           67000.0|119800.08382594073|\n",
            "|[-124.17,40.75,13...|          116100.0|199011.75383349974|\n",
            "|[-124.17,40.8,52....|           62500.0|132272.22601593612|\n",
            "|[-124.17,40.8,52....|           75500.0|126960.38241179287|\n",
            "|[-124.16,40.6,39....|           85100.0|147348.16246677423|\n",
            "|[-124.16,40.78,46...|           81800.0|201518.51471819356|\n",
            "|[-124.16,40.78,50...|           85400.0|157784.40543071274|\n",
            "|[-124.16,41.74,15...|           69500.0| 59024.76003741752|\n",
            "|[-124.15,40.78,36...|           90000.0| 174660.2023501019|\n",
            "|[-124.15,40.79,37...|           86400.0|157535.30252582813|\n",
            "|[-124.15,40.8,47....|           74100.0|121259.86234889133|\n",
            "|[-124.15,40.88,33...|           57500.0|104136.86232316308|\n",
            "|[-124.14,40.57,29...|           75100.0|134327.50719468715|\n",
            "|[-124.14,40.67,23...|          130600.0|186791.90592191927|\n",
            "|[-124.13,40.62,43...|           92100.0|156242.39615269797|\n",
            "+--------------------+------------------+------------------+\n",
            "only showing top 20 rows\n",
            "\n"
          ]
        }
      ]
    },
    {
      "cell_type": "code",
      "source": [
        "# R2 Score\n",
        "print(\"R2-Score for train set: \", pred_train.r2)\n",
        "print(\"R2-Score for test set: \", pred.r2)"
      ],
      "metadata": {
        "colab": {
          "base_uri": "https://localhost:8080/"
        },
        "id": "GKQIVT_fUm2I",
        "outputId": "69c99ffe-fb1f-4409-9a0d-877f2c1c1e84"
      },
      "execution_count": 54,
      "outputs": [
        {
          "output_type": "stream",
          "name": "stdout",
          "text": [
            "R2-Score for train set:  0.6412827357771509\n",
            "R2-Score for test set:  0.6413328376083546\n"
          ]
        }
      ]
    },
    {
      "cell_type": "code",
      "source": [],
      "metadata": {
        "id": "urR5UHmdVI7r"
      },
      "execution_count": null,
      "outputs": []
    }
  ]
}