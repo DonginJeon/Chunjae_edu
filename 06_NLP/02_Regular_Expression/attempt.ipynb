{
 "cells": [
  {
   "cell_type": "code",
   "execution_count": 2,
   "metadata": {},
   "outputs": [],
   "source": [
    "sith_text = \"\"\"\n",
    "평화는 거짓이며 오로지 열망만이 있노라. 열망으로 나는 힘을 쟁취하리라. 힘으로 나는 권능을 쟁취하리라. 권능으로 나는 승리를 쟁취하리라. 승리로써 나를 얽매는 사슬은 부서지리니. 포스가 나를 자유롭게 하리라\"\"\""
   ]
  },
  {
   "cell_type": "code",
   "execution_count": 3,
   "metadata": {},
   "outputs": [],
   "source": [
    "jedi_text = \"\"\"\n",
    "감정 대신 평화가 존재한다. 무지 대신 지식이 존재한다. 열정 대신 평온이 존재한다. 혼돈 대신 조화가 존재한다. 죽음 대신 포스가 존재한다.\"\"\""
   ]
  },
  {
   "cell_type": "code",
   "execution_count": null,
   "metadata": {},
   "outputs": [],
   "source": [
    "# 텍스트.repalce('지울것','바꿀내용')"
   ]
  },
  {
   "cell_type": "code",
   "execution_count": 4,
   "metadata": {},
   "outputs": [],
   "source": [
    "import re"
   ]
  },
  {
   "cell_type": "code",
   "execution_count": 27,
   "metadata": {},
   "outputs": [],
   "source": [
    "text = \"나는 asd이야. asd12.2이는 asd를 통해 asd2342.34지는 asd야\""
   ]
  },
  {
   "cell_type": "code",
   "execution_count": 28,
   "metadata": {},
   "outputs": [
    {
     "data": {
      "text/plain": [
       "'나는 asd이야 asd이는 asd를 통해 asd지는 asd야'"
      ]
     },
     "execution_count": 28,
     "metadata": {},
     "output_type": "execute_result"
    }
   ],
   "source": [
    "re.sub(\"[0.-9.]+\", \"\", text)"
   ]
  },
  {
   "cell_type": "code",
   "execution_count": 40,
   "metadata": {},
   "outputs": [],
   "source": [
    "id_text = \"안녕하세요, 저는 ㅇㄹㅇㄹ입니다. 제 주민번호는 1.23.456-789.4561 이에요. 제 주소는 xx시 dd구 123-45번지입니다\""
   ]
  },
  {
   "cell_type": "code",
   "execution_count": null,
   "metadata": {},
   "outputs": [],
   "source": [
    "# [0-9].{6}\n",
    "# [] - 대체규격"
   ]
  },
  {
   "cell_type": "code",
   "execution_count": 64,
   "metadata": {},
   "outputs": [
    {
     "data": {
      "text/plain": [
       "'안녕하세요, 저는 ㅇㄹㅇㄹ입니다. 제 주민번호는 ******-******* 이에요. 제 주소는 xx시 dd구 123-45번지입니다'"
      ]
     },
     "execution_count": 64,
     "metadata": {},
     "output_type": "execute_result"
    }
   ],
   "source": [
    "re.sub(\"\\d..{6}-\\d.{7}\", \"******-*******\", id_text)\n",
    "# 파이"
   ]
  },
  {
   "cell_type": "code",
   "execution_count": 51,
   "metadata": {},
   "outputs": [],
   "source": [
    "eng_text = \"Squire Trelawney, Dr. Livesey, and the rest of these gentlemen having asked me to write. down the whole particulars about Treasure Island,\""
   ]
  },
  {
   "cell_type": "code",
   "execution_count": 52,
   "metadata": {},
   "outputs": [
    {
     "name": "stdout",
     "output_type": "stream",
     "text": [
      "Squire Trelawney,\n",
      " Dr.\n",
      " Livesey,\n",
      " and the rest of these gentlemen having asked me to write.\n",
      " down the whole particulars about Treasure Island,\n",
      "\n"
     ]
    }
   ],
   "source": [
    "print(re.sub(r\"[,.]\", lambda x: x.group(0) + \"\\n\", eng_text))"
   ]
  },
  {
   "cell_type": "code",
   "execution_count": 53,
   "metadata": {},
   "outputs": [
    {
     "name": "stdout",
     "output_type": "stream",
     "text": [
      "Squire Trelawney,\n",
      " Dr. Livesey,\n",
      " and the rest of these gentlemen having asked me to write.\n",
      " down the whole particulars about Treasure Island,\n",
      "\n"
     ]
    }
   ],
   "source": [
    "print(re.sub(r\"\\b(?<!Dr)\\s*[,.]\", lambda x: x.group(0) + \"\\n\", eng_text))"
   ]
  },
  {
   "cell_type": "code",
   "execution_count": 56,
   "metadata": {},
   "outputs": [],
   "source": [
    "id_text1 = \"안녕하세요, 저는 ㅇㄹㅇㄹ입니다. 제 주민번호는 990912-1234567 이에요. 제 주소는 xx시 dd구 123-45번지입니다\""
   ]
  },
  {
   "cell_type": "code",
   "execution_count": 61,
   "metadata": {},
   "outputs": [
    {
     "data": {
      "text/plain": [
       "'안녕하세요, 저는 ㅇㄹㅇㄹ입니다. 제 주민번호는 990912-1****** 이에요. 제 주소는 xx시 dd구 123-45번지입니다'"
      ]
     },
     "execution_count": 61,
     "metadata": {},
     "output_type": "execute_result"
    }
   ],
   "source": [
    "re.sub(r\"-[1-4]\\d{6}\", lambda x: x.group(0)[0:2] + \"******\", id_text1)"
   ]
  },
  {
   "cell_type": "code",
   "execution_count": null,
   "metadata": {},
   "outputs": [],
   "source": [
    "# python regex"
   ]
  },
  {
   "cell_type": "markdown",
   "metadata": {},
   "source": [
    "[참고사이트](https://www.w3schools.com/python/python_regex.asp)"
   ]
  }
 ],
 "metadata": {
  "kernelspec": {
   "display_name": "Python 3",
   "language": "python",
   "name": "python3"
  },
  "language_info": {
   "codemirror_mode": {
    "name": "ipython",
    "version": 3
   },
   "file_extension": ".py",
   "mimetype": "text/x-python",
   "name": "python",
   "nbconvert_exporter": "python",
   "pygments_lexer": "ipython3",
   "version": "3.8.19"
  }
 },
 "nbformat": 4,
 "nbformat_minor": 2
}
