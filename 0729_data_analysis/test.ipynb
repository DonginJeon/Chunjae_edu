{
 "cells": [
  {
   "cell_type": "code",
   "execution_count": null,
   "metadata": {},
   "outputs": [],
   "source": [
    "\"\"\"\n",
    "프로젝트 진행 기본 코드\n",
    "\"\"\"\n",
    "\n",
    "import pandas as pd\n",
    "import datetime as dt\n",
    "\n",
    "\n",
    "# 날짜 차이 계산\n",
    "def calculate_days_difference(date):\n",
    "    NOW = dt.datetime(2022, 12, 1)\n",
    "    # 현재 날짜와 입력 날짜 간의 차이를 계산\n",
    "    difference = NOW - date\n",
    "    return difference.days\n",
    "\n",
    "\n",
    "# 데이터 파일 불러오기\n",
    "def read_data(path):\n",
    "    df = pd.read_csv(path)\n",
    "\n",
    "    # 주문일자 컬럼 datetime 자료형으로 변환\n",
    "    df[\"주문일자\"] = pd.to_datetime(df[\"주문일자\"])\n",
    "    return df\n",
    "\n",
    "\n",
    "# 인자로 전달한 dataframe을  csv 파일로 저장\n",
    "def save_dataframe(dataframe: pd.DataFrame):\n",
    "    dataframe.to_csv(\"RFM_report.csv\")\n",
    "\n",
    "\n",
    "def save_dataframe2(dataframe: pd.DataFrame):\n",
    "    dataframe.to_csv(\"df.csv\")\n",
    "\n",
    "\n",
    "file_path = \"./shopping.csv\"\n",
    "\n",
    "df = read_data(file_path)"
   ]
  },
  {
   "cell_type": "code",
   "execution_count": null,
   "metadata": {},
   "outputs": [],
   "source": [
    "top3 = df[\"판매금액\"].sort_values(ascending=False).unique()[0:3]\n",
    "\n",
    "df[df[\"판매금액\"].isin(top3)]"
   ]
  }
 ],
 "metadata": {
  "kernelspec": {
   "display_name": "base",
   "language": "python",
   "name": "python3"
  },
  "language_info": {
   "codemirror_mode": {
    "name": "ipython",
    "version": 3
   },
   "file_extension": ".py",
   "mimetype": "text/x-python",
   "name": "python",
   "nbconvert_exporter": "python",
   "pygments_lexer": "ipython3",
   "version": "3.12.4"
  }
 },
 "nbformat": 4,
 "nbformat_minor": 2
}
